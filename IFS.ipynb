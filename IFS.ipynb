{
 "cells": [
  {
   "cell_type": "code",
   "execution_count": 1,
   "metadata": {
    "collapsed": false
   },
   "outputs": [
    {
     "name": "stdout",
     "output_type": "stream",
     "text": [
      "Populating the interactive namespace from numpy and matplotlib\n"
     ]
    }
   ],
   "source": [
    "from IFS import propagateIFS\n",
    "import numpy as np\n",
    "from params import Params\n",
    "from astropy.io import fits as pyf\n",
    "import tools\n",
    "import time\n",
    "import logging as log\n",
    "from tools.image import Image\n",
    "\n",
    "%pylab inline --no-import-all\n",
    "matplotlib.rcParams['image.origin'] = 'lower'\n",
    "matplotlib.rcParams['image.interpolation'] = 'nearest'\n"
   ]
  },
  {
   "cell_type": "code",
   "execution_count": 2,
   "metadata": {
    "collapsed": false
   },
   "outputs": [
    {
     "name": "stdout",
     "output_type": "stream",
     "text": [
      "\n",
      "Number of lenslets: 108\n",
      "Lenslet pitch in meters: 0.000174\n",
      "Interlacing: 2\n",
      "Rotation angle: -0.463647609001\n",
      "Pinhole? True\n",
      "Pinhole diameter: 2.5e-05\n",
      "Number of pixels in final detector: 1024\n",
      "Detector pixel size in meters: 1.3e-05\n",
      "Oversampling: 25\n",
      "Convolve with Gaussian as defocus? True\n",
      "FWHM of Gaussian convolution 1.5 detector pixel\n",
      "\n"
     ]
    }
   ],
   "source": [
    "# load parameters\n",
    "par = Params()\n",
    "print par.output()"
   ]
  },
  {
   "cell_type": "code",
   "execution_count": 3,
   "metadata": {
    "collapsed": false
   },
   "outputs": [
    {
     "name": "stderr",
     "output_type": "stream",
     "text": [
      "2017-01-12 15:52:57,807: INFO     Loading input\n"
     ]
    }
   ],
   "source": [
    "# initalize logger; both console and text file\n",
    "tools.initLogger(par.exportDir+'/IFS.log')\n",
    "log.info('Loading input')"
   ]
  },
  {
   "cell_type": "code",
   "execution_count": null,
   "metadata": {
    "collapsed": false
   },
   "outputs": [],
   "source": [
    "# this is an example input cube\n",
    "BW = 0.18\n",
    "Nlam = 51\n",
    "clam = 0.77\n",
    "wavelist= clam*np.linspace(1.-BW/2.,1.+BW/2.,Nlam)\n",
    "fname = './Inputs/PSF_SPLC_Nwvl51_BW18pct_star.fits'\n",
    "hdu = pyf.open(fname)\n",
    "inputcube = hdu[0].data    \n",
    "mperpix = 3./5.*par.pitch # 5 pixels per lambda/D\n",
    "par.pixperlenslet = par.pitch/mperpix\n",
    "par.mperpix = mperpix\n"
   ]
  },
  {
   "cell_type": "code",
   "execution_count": null,
   "metadata": {
    "collapsed": false
   },
   "outputs": [
    {
     "name": "stderr",
     "output_type": "stream",
     "text": [
      "2017-01-12 15:52:57,870: INFO     The number of input pixels per lenslet is 1.666667\n",
      "2017-01-12 15:52:57,871: INFO     The plate scale of the input cube is 104.400000 um/pixel\n",
      "2017-01-12 15:52:57,872: INFO     Import all kernels and rescale them to same plate scale\n",
      "2017-01-12 15:52:57,874: INFO     Loading spot diagrams.\n",
      "2017-01-12 15:52:57,915: INFO     kernel scale average is 1.706 micron per pixel at 890 nm\n",
      "2017-01-12 15:52:57,916: INFO     Resampling kernels to match input\n"
     ]
    }
   ],
   "source": [
    "# main function; saves things to FITS\n",
    "finalFrame = propagateIFS(par,wavelist,inputcube)"
   ]
  },
  {
   "cell_type": "code",
   "execution_count": null,
   "metadata": {
    "collapsed": false
   },
   "outputs": [],
   "source": [
    "pylab.imshow(finalFrame, cmap='PuBu_r')"
   ]
  },
  {
   "cell_type": "code",
   "execution_count": null,
   "metadata": {
    "collapsed": false
   },
   "outputs": [],
   "source": []
  },
  {
   "cell_type": "code",
   "execution_count": null,
   "metadata": {
    "collapsed": true
   },
   "outputs": [],
   "source": []
  }
 ],
 "metadata": {
  "anaconda-cloud": {},
  "kernelspec": {
   "display_name": "Python [conda env:py27]",
   "language": "python",
   "name": "conda-env-py27-py"
  },
  "language_info": {
   "codemirror_mode": {
    "name": "ipython",
    "version": 2
   },
   "file_extension": ".py",
   "mimetype": "text/x-python",
   "name": "python",
   "nbconvert_exporter": "python",
   "pygments_lexer": "ipython2",
   "version": "2.7.12"
  }
 },
 "nbformat": 4,
 "nbformat_minor": 1
}
