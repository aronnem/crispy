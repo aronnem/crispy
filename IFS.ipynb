{
 "cells": [
  {
   "cell_type": "code",
   "execution_count": 1,
   "metadata": {
    "collapsed": false
   },
   "outputs": [
    {
     "name": "stdout",
     "output_type": "stream",
     "text": [
      "Populating the interactive namespace from numpy and matplotlib\n"
     ]
    }
   ],
   "source": [
    "from IFS import propagateIFS\n",
    "import numpy as np\n",
    "from params import Params\n",
    "from astropy.io import fits as pyf\n",
    "import tools\n",
    "import time\n",
    "import logging as log\n",
    "from tools.image import Image\n",
    "\n",
    "%pylab inline --no-import-all\n",
    "matplotlib.rcParams['image.origin'] = 'lower'\n",
    "matplotlib.rcParams['image.interpolation'] = 'nearest'\n"
   ]
  },
  {
   "cell_type": "code",
   "execution_count": 2,
   "metadata": {
    "collapsed": true
   },
   "outputs": [],
   "source": [
    "par = Params()"
   ]
  },
  {
   "cell_type": "code",
   "execution_count": 3,
   "metadata": {
    "collapsed": true
   },
   "outputs": [],
   "source": [
    "tools.initLogger(par.exportDir+'/IFS.log')"
   ]
  },
  {
   "cell_type": "code",
   "execution_count": 4,
   "metadata": {
    "collapsed": false
   },
   "outputs": [
    {
     "name": "stderr",
     "output_type": "stream",
     "text": [
      "2017-01-12 15:11:35,473: INFO     Loading input\n"
     ]
    }
   ],
   "source": [
    "log.info('Loading input')"
   ]
  },
  {
   "cell_type": "code",
   "execution_count": 5,
   "metadata": {
    "collapsed": false
   },
   "outputs": [],
   "source": [
    "BW = 0.18\n",
    "Nlam = 51\n",
    "clam = 0.77\n",
    "wavelist= clam*np.linspace(1.-BW/2.,1.+BW/2.,Nlam)\n",
    "fname = './Inputs/PSF_SPLC_Nwvl51_BW18pct_star.fits'\n",
    "hdu = pyf.open(fname)\n",
    "inputcube = hdu[0].data    \n",
    "mperpix = 3./5.*par.pitch # 5 pixels per lambda/D\n",
    "par.pixperlenslet = par.pitch/mperpix\n",
    "par.mperpix = mperpix\n"
   ]
  },
  {
   "cell_type": "code",
   "execution_count": 6,
   "metadata": {
    "collapsed": false
   },
   "outputs": [
    {
     "name": "stderr",
     "output_type": "stream",
     "text": [
      "2017-01-12 15:11:35,511: INFO     The number of input pixels per lenslet is 1.666667\n",
      "2017-01-12 15:11:35,513: INFO     The plate scale of the input cube is 104.400000 um/pixel\n",
      "2017-01-12 15:11:35,514: INFO     Import all kernels and rescale them to same plate scale\n",
      "2017-01-12 15:11:35,516: INFO     Loading spot diagrams.\n",
      "2017-01-12 15:11:35,556: INFO     kernel scale average is 1.706 micron per pixel at 890 nm\n",
      "2017-01-12 15:11:35,557: INFO     Resampling kernels to match input\n",
      "2017-01-12 15:11:35,895: INFO     pxprlens: 419.000\n",
      "2017-01-12 15:11:35,896: WARNING  Kernel too small to capture crosstalk\n",
      "2017-01-12 15:11:35,952: WARNING  Kernel too small to capture crosstalk\n",
      "2017-01-12 15:11:35,999: WARNING  Kernel too small to capture crosstalk\n",
      "2017-01-12 15:11:36,044: WARNING  Kernel too small to capture crosstalk\n",
      "2017-01-12 15:11:36,090: WARNING  Kernel too small to capture crosstalk\n",
      "2017-01-12 15:11:36,135: WARNING  Kernel too small to capture crosstalk\n",
      "2017-01-12 15:11:36,182: WARNING  Kernel too small to capture crosstalk\n",
      "2017-01-12 15:11:36,227: WARNING  Kernel too small to capture crosstalk\n",
      "2017-01-12 15:11:36,272: WARNING  Kernel too small to capture crosstalk\n",
      "2017-01-12 15:11:36,322: INFO     Loading spot diagrams.\n",
      "2017-01-12 15:11:36,356: INFO     kernel scale average is 1.475 micron per pixel at 770 nm\n",
      "2017-01-12 15:11:36,357: INFO     Resampling kernels to match input\n",
      "2017-01-12 15:11:36,627: INFO     Padding smaller kernels\n",
      "2017-01-12 15:11:36,634: WARNING  Kernel too small to capture crosstalk\n",
      "2017-01-12 15:11:36,678: WARNING  Kernel too small to capture crosstalk\n",
      "2017-01-12 15:11:36,726: WARNING  Kernel too small to capture crosstalk\n",
      "2017-01-12 15:11:36,775: WARNING  Kernel too small to capture crosstalk\n",
      "2017-01-12 15:11:36,821: WARNING  Kernel too small to capture crosstalk\n",
      "2017-01-12 15:11:36,869: WARNING  Kernel too small to capture crosstalk\n",
      "2017-01-12 15:11:36,919: WARNING  Kernel too small to capture crosstalk\n",
      "2017-01-12 15:11:36,966: WARNING  Kernel too small to capture crosstalk\n",
      "2017-01-12 15:11:37,013: WARNING  Kernel too small to capture crosstalk\n",
      "2017-01-12 15:11:37,065: INFO     Loading spot diagrams.\n",
      "2017-01-12 15:11:37,100: INFO     kernel scale average is 1.264 micron per pixel at 660 nm\n",
      "2017-01-12 15:11:37,101: INFO     Resampling kernels to match input\n",
      "2017-01-12 15:11:37,288: INFO     Padding smaller kernels\n",
      "2017-01-12 15:11:37,294: WARNING  Kernel too small to capture crosstalk\n",
      "2017-01-12 15:11:37,343: WARNING  Kernel too small to capture crosstalk\n",
      "2017-01-12 15:11:37,389: WARNING  Kernel too small to capture crosstalk\n",
      "2017-01-12 15:11:37,433: WARNING  Kernel too small to capture crosstalk\n",
      "2017-01-12 15:11:37,480: WARNING  Kernel too small to capture crosstalk\n",
      "2017-01-12 15:11:37,526: WARNING  Kernel too small to capture crosstalk\n",
      "2017-01-12 15:11:37,571: WARNING  Kernel too small to capture crosstalk\n",
      "2017-01-12 15:11:37,617: WARNING  Kernel too small to capture crosstalk\n",
      "2017-01-12 15:11:37,662: WARNING  Kernel too small to capture crosstalk\n",
      "2017-01-12 15:11:37,747: INFO     Final detector pixel per lenslet: 16.000000\n",
      "2017-01-12 15:11:37,749: INFO     Processing wavelength 0.700700 (0 out of 51)\n",
      "2017-01-12 15:11:37,997: INFO     Rotate and scale slice 0\n",
      "tools/detutils.py:37: VisibleDeprecationWarning: using a non-integer number instead of an integer will result in an error in the future\n",
      "  temp = np.zeros((shape[1], x),dtype=float)\n",
      "tools/detutils.py:62: VisibleDeprecationWarning: using a non-integer number instead of an integer will result in an error in the future\n",
      "  result = np.zeros((shape[0], shape[1]), dtype=float)\n",
      "2017-01-12 15:11:38,024: INFO     Writing data to /Users/mrizzo/IFS/IFS-Simulator/SimResults/imagePlaneRot_0.701um.fits\n",
      "2017-01-12 15:11:38,024: INFO     Propagate through lenslet array\n",
      "2017-01-12 15:11:39,412: INFO     Number of detector pixels per lenslet: 13.384615\n",
      "2017-01-12 15:11:39,413: INFO     Rebinning final detector. Image has dimensions 1024x1024\n"
     ]
    },
    {
     "name": "stdout",
     "output_type": "stream",
     "text": [
      "21.9134661795 -14.310835056\n",
      "875.759515076 272.623973504\n"
     ]
    },
    {
     "name": "stderr",
     "output_type": "stream",
     "text": [
      "2017-01-12 15:11:41,919: INFO     Writing data to /Users/mrizzo/IFS/IFS-Simulator/SimResults/finalframe_nodistort_n25.fits\n",
      "2017-01-12 15:11:41,920: INFO     Done.\n",
      "2017-01-12 15:11:41,921: INFO     Performance: 6 seconds total\n"
     ]
    }
   ],
   "source": [
    "finalFrame = propagateIFS(par,wavelist,inputcube)"
   ]
  },
  {
   "cell_type": "code",
   "execution_count": 19,
   "metadata": {
    "collapsed": false
   },
   "outputs": [
    {
     "data": {
      "text/plain": [
       "<matplotlib.image.AxesImage at 0x117ceed90>"
      ]
     },
     "execution_count": 19,
     "metadata": {},
     "output_type": "execute_result"
    },
    {
     "data": {
      "image/png": "[encoded data removed]",
      "text/plain": [
       "<matplotlib.figure.Figure at 0x111eabb10>"
      ]
     },
     "metadata": {},
     "output_type": "display_data"
    }
   ],
   "source": [
    "from matplotlib.colors import LogNorm\n",
    "pylab.imshow(finalFrame, cmap='PuBu_r')"
   ]
  },
  {
   "cell_type": "code",
   "execution_count": null,
   "metadata": {
    "collapsed": false
   },
   "outputs": [],
   "source": []
  },
  {
   "cell_type": "code",
   "execution_count": null,
   "metadata": {
    "collapsed": true
   },
   "outputs": [],
   "source": []
  }
 ],
 "metadata": {
  "anaconda-cloud": {},
  "kernelspec": {
   "display_name": "Python [conda env:py27]",
   "language": "python",
   "name": "conda-env-py27-py"
  },
  "language_info": {
   "codemirror_mode": {
    "name": "ipython",
    "version": 2
   },
   "file_extension": ".py",
   "mimetype": "text/x-python",
   "name": "python",
   "nbconvert_exporter": "python",
   "pygments_lexer": "ipython2",
   "version": "2.7.12"
  }
 },
 "nbformat": 4,
 "nbformat_minor": 1
}
