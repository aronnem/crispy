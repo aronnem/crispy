{
 "cells": [
  {
   "cell_type": "code",
   "execution_count": null,
   "metadata": {
    "collapsed": false
   },
   "outputs": [],
   "source": [
    "from IFS import propagateIFS\n",
    "import numpy as np\n",
    "from params import Params\n",
    "from astropy.io import fits as pyf\n",
    "import time\n",
    "import logging as log\n",
    "from tools.initLogger import initLogger\n",
    "\n",
    "%pylab inline --no-import-all\n",
    "matplotlib.rcParams['image.origin'] = 'lower'\n",
    "matplotlib.rcParams['image.interpolation'] = 'nearest'\n"
   ]
  },
  {
   "cell_type": "code",
   "execution_count": null,
   "metadata": {
    "collapsed": false
   },
   "outputs": [],
   "source": [
    "# load parameters\n",
    "par = Params()\n",
    "print par.output()"
   ]
  },
  {
   "cell_type": "code",
   "execution_count": null,
   "metadata": {
    "collapsed": false
   },
   "outputs": [],
   "source": [
    "# initalize logger; both console and text file\n",
    "tools.initLogger(par.exportDir+'/IFS.log')\n",
    "log.info('Loading input')"
   ]
  },
  {
   "cell_type": "code",
   "execution_count": null,
   "metadata": {
    "collapsed": false
   },
   "outputs": [],
   "source": [
    "# this is an example input cube\n",
    "BW = 0.18\n",
    "Nlam = 51\n",
    "clam = 0.77\n",
    "wavelist= clam*np.linspace(1.-BW/2.,1.+BW/2.,Nlam)\n",
    "fname = './Inputs/PSF_SPLC_Nwvl51_BW18pct_star.fits'\n",
    "hdu = pyf.open(fname)\n",
    "inputcube = hdu[0].data    \n",
    "mperpix = 3./5.*par.pitch # 5 pixels per lambda/D\n",
    "par.pixperlenslet = par.pitch/mperpix\n",
    "par.mperpix = mperpix\n"
   ]
  },
  {
   "cell_type": "code",
   "execution_count": null,
   "metadata": {
    "collapsed": false
   },
   "outputs": [],
   "source": [
    "# main function; saves things to FITS\n",
    "finalFrame = propagateIFS(par,wavelist,inputcube)"
   ]
  },
  {
   "cell_type": "code",
   "execution_count": null,
   "metadata": {
    "collapsed": false
   },
   "outputs": [],
   "source": [
    "pylab.imshow(finalFrame, cmap='PuBu_r')"
   ]
  },
  {
   "cell_type": "code",
   "execution_count": null,
   "metadata": {
    "collapsed": false
   },
   "outputs": [],
   "source": []
  },
  {
   "cell_type": "code",
   "execution_count": null,
   "metadata": {
    "collapsed": true
   },
   "outputs": [],
   "source": []
  }
 ],
 "metadata": {
  "anaconda-cloud": {},
  "kernelspec": {
   "display_name": "Python [conda env:py27]",
   "language": "python",
   "name": "conda-env-py27-py"
  },
  "language_info": {
   "codemirror_mode": {
    "name": "ipython",
    "version": 2
   },
   "file_extension": ".py",
   "mimetype": "text/x-python",
   "name": "python",
   "nbconvert_exporter": "python",
   "pygments_lexer": "ipython2",
   "version": "2.7.12"
  }
 },
 "nbformat": 4,
 "nbformat_minor": 1
}
