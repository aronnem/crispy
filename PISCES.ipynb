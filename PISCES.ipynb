{
 "cells": [
  {
   "cell_type": "markdown",
   "metadata": {},
   "source": [
    "# PISCES Wavelength calibration"
   ]
  },
  {
   "cell_type": "code",
   "execution_count": 1,
   "metadata": {
    "collapsed": true
   },
   "outputs": [],
   "source": [
    "import tools\n",
    "import glob\n",
    "from PISCESparams import Params\n",
    "import numpy as np\n",
    "import logging as log\n",
    "from tools.initLogger import initLogger\n"
   ]
  },
  {
   "cell_type": "markdown",
   "metadata": {},
   "source": [
    "## Load PISCES parameters"
   ]
  },
  {
   "cell_type": "markdown",
   "metadata": {},
   "source": [
    "Most parameters are default already in params.py. Change the paths and names if necessary in the first part of the file."
   ]
  },
  {
   "cell_type": "code",
   "execution_count": 2,
   "metadata": {
    "collapsed": true
   },
   "outputs": [],
   "source": [
    "par = Params()\n",
    "\n",
    "# This is the logger system to print to file and to print to console\n",
    "initLogger(par.exportDir+'/IFS.log')\n"
   ]
  },
  {
   "cell_type": "markdown",
   "metadata": {},
   "source": [
    "## Define wavelengths and list of wavelength calibration files"
   ]
  },
  {
   "cell_type": "markdown",
   "metadata": {},
   "source": [
    "Watch out, the two lists need to be in the same order. The default location of the calibration files is in par.wavecalDir='./ReferenceFiles/VARIAWavecal/'"
   ]
  },
  {
   "cell_type": "code",
   "execution_count": 3,
   "metadata": {
    "collapsed": true
   },
   "outputs": [],
   "source": [
    "par.lamlist = np.arange(605,725+1,10)\n",
    "par.filelist = np.sort(glob.glob(par.wavecalDir + \"Calibra*.FIT\"))\n"
   ]
  },
  {
   "cell_type": "markdown",
   "metadata": {},
   "source": [
    "## Generate wavelength calibration from scratch"
   ]
  },
  {
   "cell_type": "markdown",
   "metadata": {},
   "source": [
    "This routine uses a first guess at the location of the lenslets, and then fits polynomials on the detector maps at each wavelength using an optimization routine. You can inspect the results in your folder par.wavecalDir as a set of .png images to make sure the wavelength calibration has succeeded.\n",
    "\n",
    "The other files that are created with this routine: \n",
    "- lamsol.dat, which contains all the wavelengths and the coefficients of the polynomial representation of their positions\n",
    "- PSFloc.fits, which contains the inverse wavelength solution consisting of the wavelength value at the center of each pixel for each micro-spectrum"
   ]
  },
  {
   "cell_type": "code",
   "execution_count": 4,
   "metadata": {
    "collapsed": false
   },
   "outputs": [
    {
     "name": "stderr",
     "output_type": "stream",
     "text": [
      "2017-02-02 17:32:08,129: INFO     Building calibration files, placing results in /Users/mrizzo/IFS/IFS-Simulator/ReferenceFiles/VARIAwavecal/\n",
      "WARNING: Unexpected extra padding at the end of the file.  This padding may not be preserved when saving changes. [astropy.io.fits.header]\n",
      "2017-02-02 17:32:08,156: WARNING  Unexpected extra padding at the end of the file.  This padding may not be preserved when saving changes.\n",
      "2017-02-02 17:32:08,166: INFO     Read data from HDU 0 of /Users/mrizzo/IFS/IFS-Simulator/ReferenceFiles/VARIAwavecal/Calibra_161205_605nm.FIT\n",
      "2017-02-02 17:32:08,172: INFO     Read data from HDU 0 of /Users/mrizzo/IFS/IFS-Simulator/ReferenceFiles/VARIAwavecal/Calibra_161205_605nm.FIT\n",
      "2017-02-02 17:32:09,278: INFO     Initializing PSFlet location transformation coefficients\n",
      "2017-02-02 17:32:11,545: INFO     Performing initial optimization of PSFlet location transformation coefficients for frame /Users/mrizzo/IFS/IFS-Simulator/ReferenceFiles/VARIAwavecal/Calibra_161205_605nm.FIT\n",
      "2017-02-02 17:32:25,310: INFO     Performing final optimization of PSFlet location transformation coefficients for frame /Users/mrizzo/IFS/IFS-Simulator/ReferenceFiles/VARIAwavecal/Calibra_161205_605nm.FIT\n",
      "2017-02-02 17:33:38,614: INFO     Read data from HDU 0 of /Users/mrizzo/IFS/IFS-Simulator/ReferenceFiles/VARIAwavecal/Calibra_161205_615nm.FIT\n",
      "2017-02-02 17:33:39,726: INFO     Initializing transformation coefficients with previous values\n",
      "2017-02-02 17:33:50,044: INFO     Performing final optimization of PSFlet location transformation coefficients for frame /Users/mrizzo/IFS/IFS-Simulator/ReferenceFiles/VARIAwavecal/Calibra_161205_615nm.FIT\n",
      "2017-02-02 17:34:43,597: INFO     Read data from HDU 0 of /Users/mrizzo/IFS/IFS-Simulator/ReferenceFiles/VARIAwavecal/Calibra_161205_625nm.FIT\n",
      "2017-02-02 17:34:44,715: INFO     Initializing transformation coefficients with previous values\n",
      "2017-02-02 17:34:55,215: INFO     Performing final optimization of PSFlet location transformation coefficients for frame /Users/mrizzo/IFS/IFS-Simulator/ReferenceFiles/VARIAwavecal/Calibra_161205_625nm.FIT\n",
      "2017-02-02 17:35:35,870: INFO     Read data from HDU 0 of /Users/mrizzo/IFS/IFS-Simulator/ReferenceFiles/VARIAwavecal/Calibra_161205_635nm.FIT\n",
      "2017-02-02 17:35:36,986: INFO     Initializing transformation coefficients with previous values\n",
      "2017-02-02 17:35:47,246: INFO     Performing final optimization of PSFlet location transformation coefficients for frame /Users/mrizzo/IFS/IFS-Simulator/ReferenceFiles/VARIAwavecal/Calibra_161205_635nm.FIT\n",
      "2017-02-02 17:36:19,232: INFO     Read data from HDU 0 of /Users/mrizzo/IFS/IFS-Simulator/ReferenceFiles/VARIAwavecal/Calibra_161205_645nm.FIT\n",
      "2017-02-02 17:36:20,357: INFO     Initializing transformation coefficients with previous values\n",
      "2017-02-02 17:36:30,801: INFO     Performing final optimization of PSFlet location transformation coefficients for frame /Users/mrizzo/IFS/IFS-Simulator/ReferenceFiles/VARIAwavecal/Calibra_161205_645nm.FIT\n",
      "2017-02-02 17:37:00,690: INFO     Read data from HDU 0 of /Users/mrizzo/IFS/IFS-Simulator/ReferenceFiles/VARIAwavecal/Calibra_161205_655nm.FIT\n",
      "2017-02-02 17:37:01,824: INFO     Initializing transformation coefficients with previous values\n",
      "2017-02-02 17:37:12,211: INFO     Performing final optimization of PSFlet location transformation coefficients for frame /Users/mrizzo/IFS/IFS-Simulator/ReferenceFiles/VARIAwavecal/Calibra_161205_655nm.FIT\n",
      "2017-02-02 17:37:47,619: INFO     Read data from HDU 0 of /Users/mrizzo/IFS/IFS-Simulator/ReferenceFiles/VARIAwavecal/Calibra_161205_665nm.FIT\n",
      "2017-02-02 17:37:48,741: INFO     Initializing transformation coefficients with previous values\n",
      "2017-02-02 17:37:59,519: INFO     Performing final optimization of PSFlet location transformation coefficients for frame /Users/mrizzo/IFS/IFS-Simulator/ReferenceFiles/VARIAwavecal/Calibra_161205_665nm.FIT\n",
      "2017-02-02 17:38:32,073: INFO     Read data from HDU 0 of /Users/mrizzo/IFS/IFS-Simulator/ReferenceFiles/VARIAwavecal/Calibra_161205_675nm.FIT\n",
      "2017-02-02 17:38:33,188: INFO     Initializing transformation coefficients with previous values\n",
      "2017-02-02 17:38:43,588: INFO     Performing final optimization of PSFlet location transformation coefficients for frame /Users/mrizzo/IFS/IFS-Simulator/ReferenceFiles/VARIAwavecal/Calibra_161205_675nm.FIT\n",
      "2017-02-02 17:39:21,956: INFO     Read data from HDU 0 of /Users/mrizzo/IFS/IFS-Simulator/ReferenceFiles/VARIAwavecal/Calibra_161205_685nm.FIT\n",
      "2017-02-02 17:39:23,476: INFO     Initializing transformation coefficients with previous values\n",
      "2017-02-02 17:39:34,967: INFO     Performing final optimization of PSFlet location transformation coefficients for frame /Users/mrizzo/IFS/IFS-Simulator/ReferenceFiles/VARIAwavecal/Calibra_161205_685nm.FIT\n",
      "2017-02-02 17:40:16,638: INFO     Read data from HDU 0 of /Users/mrizzo/IFS/IFS-Simulator/ReferenceFiles/VARIAwavecal/Calibra_161205_695nm.FIT\n",
      "2017-02-02 17:40:17,987: INFO     Initializing transformation coefficients with previous values\n",
      "2017-02-02 17:40:29,373: INFO     Performing final optimization of PSFlet location transformation coefficients for frame /Users/mrizzo/IFS/IFS-Simulator/ReferenceFiles/VARIAwavecal/Calibra_161205_695nm.FIT\n",
      "2017-02-02 17:41:01,192: INFO     Read data from HDU 0 of /Users/mrizzo/IFS/IFS-Simulator/ReferenceFiles/VARIAwavecal/Calibra_161205_705nm.FIT\n",
      "2017-02-02 17:41:02,301: INFO     Initializing transformation coefficients with previous values\n",
      "2017-02-02 17:41:12,691: INFO     Performing final optimization of PSFlet location transformation coefficients for frame /Users/mrizzo/IFS/IFS-Simulator/ReferenceFiles/VARIAwavecal/Calibra_161205_705nm.FIT\n",
      "2017-02-02 17:41:52,770: INFO     Read data from HDU 0 of /Users/mrizzo/IFS/IFS-Simulator/ReferenceFiles/VARIAwavecal/Calibra_161205_715nm.FIT\n",
      "2017-02-02 17:41:53,923: INFO     Initializing transformation coefficients with previous values\n",
      "2017-02-02 17:42:04,245: INFO     Performing final optimization of PSFlet location transformation coefficients for frame /Users/mrizzo/IFS/IFS-Simulator/ReferenceFiles/VARIAwavecal/Calibra_161205_715nm.FIT\n",
      "2017-02-02 17:42:37,606: INFO     Read data from HDU 0 of /Users/mrizzo/IFS/IFS-Simulator/ReferenceFiles/VARIAwavecal/Calibra_161205_725nm.FIT\n",
      "2017-02-02 17:42:38,720: INFO     Initializing transformation coefficients with previous values\n",
      "2017-02-02 17:42:48,966: INFO     Performing final optimization of PSFlet location transformation coefficients for frame /Users/mrizzo/IFS/IFS-Simulator/ReferenceFiles/VARIAwavecal/Calibra_161205_725nm.FIT\n",
      "2017-02-02 17:43:18,395: INFO     Saving wavelength solution to /Users/mrizzo/IFS/IFS-Simulator/ReferenceFiles/VARIAwavecal/lamsol.dat\n",
      "2017-02-02 17:43:18,398: INFO     Computing wavelength values at pixel centers\n",
      "2017-02-02 17:43:20,796: INFO     Saving wavelength calibration cube\n"
     ]
    },
    {
     "name": "stdout",
     "output_type": "stream",
     "text": [
      "Total time elapsed: 673 s\n"
     ]
    }
   ],
   "source": [
    "from tools.wavecal import buildcalibrations\n",
    "\n",
    "# these are the standard parameters for PISCES. You cannot use hires=True without risks.\n",
    "# Parallelization is not used when hires=False\n",
    "buildcalibrations(par,parallel=False,hires=False)"
   ]
  },
  {
   "cell_type": "markdown",
   "metadata": {},
   "source": [
    "# Reduce PISCES data"
   ]
  },
  {
   "cell_type": "markdown",
   "metadata": {},
   "source": [
    "This is the standard reduction routine. This will work as long as the calibration files can be found within par.wavecalDir\n",
    "\n",
    "The available methods for PISCES are:\n",
    "- 'simple': sums pixel columns across the microspectrum\n",
    "- 'dense': densifies the image and pixel columns across the microspectrum\n",
    "- 'apphot': aperture photometry using photutils package to pixel columns across the microspectrum\n",
    "- 'intopt': RECOMMENDED. Optimal extraction: uses inverse wavelength solution to fit gaussian values to each pixel column within the microspectrum, then remaps results on desired wavelength bins. There is no reason to use anything else than this in my opinion.\n",
    "\n",
    "reduceIFSMap returns the IFS cube, and also creates a FITS file in par.exportDir with the same name as the input file, with an extension designating the method used.\n",
    "\n",
    "There is more work to be done on this. We should create a mask of bad pixels and bad lenslets."
   ]
  },
  {
   "cell_type": "code",
   "execution_count": 4,
   "metadata": {
    "collapsed": false
   },
   "outputs": [
    {
     "name": "stderr",
     "output_type": "stream",
     "text": [
      "WARNING: Unexpected extra padding at the end of the file.  This padding may not be preserved when saving changes. [astropy.io.fits.header]\n",
      "2017-02-02 17:52:50,128: WARNING  Unexpected extra padding at the end of the file.  This padding may not be preserved when saving changes.\n",
      "2017-02-02 17:52:50,156: INFO     Read data from HDU 0 of /Users/mrizzo/IFS/IFS-Simulator/ReferenceFiles/VARIAwavecal/Calibra_161205_605nm.FIT\n",
      "2017-02-02 17:52:50,173: INFO     Reduced cube will have 21 wavelength bins\n",
      "tools/reduction.py:555: VisibleDeprecationWarning: using a non-integer number instead of an integer will result in an error in the future\n",
      "  pix_center_vals = [np.sum(im.data[i1:i1 + delt_y, val]*gaussian) for val in ix]/weights\n",
      "/Users/mrizzo/anaconda/envs/py27/lib/python2.7/site-packages/numpy/lib/nanfunctions.py:703: RuntimeWarning: Mean of empty slice\n",
      "  warnings.warn(\"Mean of empty slice\", RuntimeWarning)\n",
      "2017-02-02 17:53:20,367: INFO     Writing data to /Users/mrizzo/IFS/IFS-Simulator/SimResults/Calibra_161205_605nm_red_intopt.fits\n"
     ]
    }
   ],
   "source": [
    "from IFS import reduceIFSMap\n",
    "fname=par.filelist[0]    #INSERT YOUR PISCES FILENAME HERE\n",
    "cube = reduceIFSMap(par,fname,method='intopt')\n"
   ]
  },
  {
   "cell_type": "markdown",
   "metadata": {},
   "source": [
    "The list of wavelengths corresponding to the center and edges of each slice of the cube can be obtained by the following routine. It can be changed and tweaked by changing the parameter par.R"
   ]
  },
  {
   "cell_type": "code",
   "execution_count": 5,
   "metadata": {
    "collapsed": false
   },
   "outputs": [
    {
     "name": "stderr",
     "output_type": "stream",
     "text": [
      "2017-02-02 17:54:00,038: INFO     Reduced cube will have 21 wavelength bins\n"
     ]
    }
   ],
   "source": [
    "from tools.reduction import calculateWaveList\n",
    "lam_midpts,lam_endpts = calculateWaveList(par)\n",
    "print "
   ]
  }
 ],
 "metadata": {
  "anaconda-cloud": {},
  "kernelspec": {
   "display_name": "Python [conda env:py27]",
   "language": "python",
   "name": "conda-env-py27-py"
  },
  "language_info": {
   "codemirror_mode": {
    "name": "ipython",
    "version": 2
   },
   "file_extension": ".py",
   "mimetype": "text/x-python",
   "name": "python",
   "nbconvert_exporter": "python",
   "pygments_lexer": "ipython2",
   "version": "2.7.12"
  }
 },
 "nbformat": 4,
 "nbformat_minor": 1
}
