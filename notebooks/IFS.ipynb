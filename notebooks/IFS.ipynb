{
 "cells": [
  {
   "cell_type": "code",
   "execution_count": 1,
   "metadata": {
    "collapsed": false
   },
   "outputs": [
    {
     "name": "stdout",
     "output_type": "stream",
     "text": [
      "Populating the interactive namespace from numpy and matplotlib\n"
     ]
    }
   ],
   "source": [
    "from IFS import propagateIFS\n",
    "import numpy as np\n",
    "from params import Params\n",
    "from astropy.io import fits as pyf\n",
    "import time\n",
    "import logging as log\n",
    "from tools.initLogger import initLogger\n",
    "\n",
    "%pylab inline --no-import-all\n",
    "matplotlib.rcParams['image.origin'] = 'lower'\n",
    "matplotlib.rcParams['image.interpolation'] = 'nearest'\n"
   ]
  },
  {
   "cell_type": "code",
   "execution_count": 2,
   "metadata": {
    "collapsed": false
   },
   "outputs": [
    {
     "name": "stdout",
     "output_type": "stream",
     "text": [
      "\n",
      "Number of lenslets: 108\n",
      "Lenslet pitch in meters: 0.000174\n",
      "Interlacing: 2\n",
      "Rotation angle: -0.463647609001\n",
      "Pinhole? True\n",
      "Pinhole diameter: 2.5e-05\n",
      "Number of pixels in final detector: 1024\n",
      "Detector pixel size in meters: 1.3e-05\n",
      "Oversampling: 11\n",
      "Convolve with Gaussian as defocus? True\n",
      "FWHM of Gaussian convolution 1.5 detector pixel\n",
      "\n"
     ]
    }
   ],
   "source": [
    "# load parameters\n",
    "par = Params()\n",
    "print (par.output())"
   ]
  },
  {
   "cell_type": "code",
   "execution_count": 4,
   "metadata": {
    "collapsed": false
   },
   "outputs": [
    {
     "name": "stderr",
     "output_type": "stream",
     "text": [
      "2017-01-12 16:31:18,721: INFO     Loading input\n"
     ]
    }
   ],
   "source": [
    "# initalize logger; both console and text file\n",
    "initLogger(par.exportDir+'/IFS.log')\n",
    "log.info('Loading input')"
   ]
  },
  {
   "cell_type": "code",
   "execution_count": 5,
   "metadata": {
    "collapsed": false
   },
   "outputs": [],
   "source": [
    "# this is an example input cube\n",
    "BW = 0.18\n",
    "Nlam = 51\n",
    "clam = 0.77\n",
    "wavelist= clam*np.linspace(1.-BW/2.,1.+BW/2.,Nlam)\n",
    "fname = './Inputs/PSF_SPLC_Nwvl51_BW18pct_star.fits'\n",
    "hdu = pyf.open(fname)\n",
    "inputcube = hdu[0].data    \n",
    "mperpix = 3./5.*par.pitch # 5 pixels per lambda/D\n",
    "par.pixperlenslet = par.pitch/mperpix\n",
    "par.mperpix = mperpix\n"
   ]
  },
  {
   "cell_type": "code",
   "execution_count": 6,
   "metadata": {
    "collapsed": false
   },
   "outputs": [
    {
     "name": "stderr",
     "output_type": "stream",
     "text": [
      "2017-01-12 16:31:25,635: INFO     The number of input pixels per lenslet is 1.666667\n",
      "2017-01-12 16:31:25,636: INFO     The plate scale of the input cube is 104.400000 um/pixel\n",
      "2017-01-12 16:31:25,637: INFO     Import all kernels and rescale them to same plate scale\n",
      "2017-01-12 16:31:25,638: INFO     Loading spot diagrams.\n",
      "2017-01-12 16:31:25,681: INFO     kernel scale average is 1.706 micron per pixel at 890 nm\n",
      "2017-01-12 16:31:25,682: INFO     Resampling kernels to match input\n",
      "2017-01-12 16:31:25,753: INFO     pxprlens: 184.000\n",
      "2017-01-12 16:31:25,755: WARNING  Kernel too small to capture crosstalk\n",
      "2017-01-12 16:31:25,765: WARNING  Kernel too small to capture crosstalk\n",
      "2017-01-12 16:31:25,772: WARNING  Kernel too small to capture crosstalk\n",
      "2017-01-12 16:31:25,778: WARNING  Kernel too small to capture crosstalk\n",
      "2017-01-12 16:31:25,784: WARNING  Kernel too small to capture crosstalk\n",
      "2017-01-12 16:31:25,790: WARNING  Kernel too small to capture crosstalk\n",
      "2017-01-12 16:31:25,796: WARNING  Kernel too small to capture crosstalk\n",
      "2017-01-12 16:31:25,802: WARNING  Kernel too small to capture crosstalk\n",
      "2017-01-12 16:31:25,808: WARNING  Kernel too small to capture crosstalk\n",
      "2017-01-12 16:31:25,814: INFO     Loading spot diagrams.\n",
      "2017-01-12 16:31:25,851: INFO     kernel scale average is 1.475 micron per pixel at 770 nm\n",
      "2017-01-12 16:31:25,852: INFO     Resampling kernels to match input\n",
      "2017-01-12 16:31:25,907: INFO     Padding smaller kernels\n",
      "2017-01-12 16:31:25,910: WARNING  Kernel too small to capture crosstalk\n",
      "2017-01-12 16:31:25,915: WARNING  Kernel too small to capture crosstalk\n",
      "2017-01-12 16:31:25,922: WARNING  Kernel too small to capture crosstalk\n",
      "2017-01-12 16:31:25,928: WARNING  Kernel too small to capture crosstalk\n",
      "2017-01-12 16:31:25,934: WARNING  Kernel too small to capture crosstalk\n",
      "2017-01-12 16:31:25,940: WARNING  Kernel too small to capture crosstalk\n",
      "2017-01-12 16:31:25,946: WARNING  Kernel too small to capture crosstalk\n",
      "2017-01-12 16:31:25,952: WARNING  Kernel too small to capture crosstalk\n",
      "2017-01-12 16:31:25,958: WARNING  Kernel too small to capture crosstalk\n",
      "2017-01-12 16:31:25,963: INFO     Loading spot diagrams.\n",
      "2017-01-12 16:31:25,998: INFO     kernel scale average is 1.264 micron per pixel at 660 nm\n",
      "2017-01-12 16:31:25,999: INFO     Resampling kernels to match input\n",
      "2017-01-12 16:31:26,039: INFO     Padding smaller kernels\n",
      "2017-01-12 16:31:26,041: WARNING  Kernel too small to capture crosstalk\n",
      "2017-01-12 16:31:26,047: WARNING  Kernel too small to capture crosstalk\n",
      "2017-01-12 16:31:26,055: WARNING  Kernel too small to capture crosstalk\n",
      "2017-01-12 16:31:26,061: WARNING  Kernel too small to capture crosstalk\n",
      "2017-01-12 16:31:26,066: WARNING  Kernel too small to capture crosstalk\n",
      "2017-01-12 16:31:26,073: WARNING  Kernel too small to capture crosstalk\n",
      "2017-01-12 16:31:26,078: WARNING  Kernel too small to capture crosstalk\n",
      "2017-01-12 16:31:26,084: WARNING  Kernel too small to capture crosstalk\n",
      "2017-01-12 16:31:26,090: WARNING  Kernel too small to capture crosstalk\n",
      "2017-01-12 16:31:26,121: INFO     Final detector pixel per lenslet: 16.000000\n",
      "2017-01-12 16:31:26,122: INFO     Processing wavelength 0.700700 (0 out of 51)\n",
      "2017-01-12 16:31:26,146: INFO     Rotate and scale slice 0\n",
      "tools/detutils.py:37: VisibleDeprecationWarning: using a non-integer number instead of an integer will result in an error in the future\n",
      "  temp = np.zeros((shape[1], x),dtype=float)\n",
      "tools/detutils.py:62: VisibleDeprecationWarning: using a non-integer number instead of an integer will result in an error in the future\n",
      "  result = np.zeros((shape[0], shape[1]), dtype=float)\n",
      "2017-01-12 16:31:26,155: INFO     Propagate through lenslet array\n",
      "2017-01-12 16:31:26,517: INFO     Processing wavelength 0.703472 (1 out of 51)\n",
      "2017-01-12 16:31:26,541: INFO     Rotate and scale slice 1\n",
      "2017-01-12 16:31:26,547: INFO     Propagate through lenslet array\n",
      "2017-01-12 16:31:26,755: INFO     Processing wavelength 0.706244 (2 out of 51)\n",
      "2017-01-12 16:31:26,776: INFO     Rotate and scale slice 2\n",
      "2017-01-12 16:31:26,783: INFO     Propagate through lenslet array\n",
      "2017-01-12 16:31:26,999: INFO     Processing wavelength 0.709016 (3 out of 51)\n",
      "2017-01-12 16:31:27,022: INFO     Rotate and scale slice 3\n",
      "2017-01-12 16:31:27,029: INFO     Propagate through lenslet array\n",
      "2017-01-12 16:31:27,234: INFO     Processing wavelength 0.711788 (4 out of 51)\n",
      "2017-01-12 16:31:27,257: INFO     Rotate and scale slice 4\n",
      "2017-01-12 16:31:27,264: INFO     Propagate through lenslet array\n",
      "2017-01-12 16:31:27,486: INFO     Processing wavelength 0.714560 (5 out of 51)\n",
      "2017-01-12 16:31:27,509: INFO     Rotate and scale slice 5\n",
      "2017-01-12 16:31:27,516: INFO     Propagate through lenslet array\n",
      "2017-01-12 16:31:27,719: INFO     Processing wavelength 0.717332 (6 out of 51)\n",
      "2017-01-12 16:31:27,743: INFO     Rotate and scale slice 6\n",
      "2017-01-12 16:31:27,749: INFO     Propagate through lenslet array\n",
      "2017-01-12 16:31:27,961: INFO     Processing wavelength 0.720104 (7 out of 51)\n",
      "2017-01-12 16:31:27,985: INFO     Rotate and scale slice 7\n",
      "2017-01-12 16:31:27,991: INFO     Propagate through lenslet array\n",
      "2017-01-12 16:31:28,203: INFO     Processing wavelength 0.722876 (8 out of 51)\n",
      "2017-01-12 16:31:28,226: INFO     Rotate and scale slice 8\n",
      "2017-01-12 16:31:28,233: INFO     Propagate through lenslet array\n",
      "2017-01-12 16:31:28,441: INFO     Processing wavelength 0.725648 (9 out of 51)\n",
      "2017-01-12 16:31:28,463: INFO     Rotate and scale slice 9\n",
      "2017-01-12 16:31:28,470: INFO     Propagate through lenslet array\n",
      "2017-01-12 16:31:28,674: INFO     Processing wavelength 0.728420 (10 out of 51)\n",
      "2017-01-12 16:31:28,697: INFO     Rotate and scale slice 10\n",
      "2017-01-12 16:31:28,705: INFO     Propagate through lenslet array\n",
      "2017-01-12 16:31:28,917: INFO     Processing wavelength 0.731192 (11 out of 51)\n",
      "2017-01-12 16:31:28,939: INFO     Rotate and scale slice 11\n",
      "2017-01-12 16:31:28,946: INFO     Propagate through lenslet array\n",
      "2017-01-12 16:31:29,154: INFO     Processing wavelength 0.733964 (12 out of 51)\n",
      "2017-01-12 16:31:29,177: INFO     Rotate and scale slice 12\n",
      "2017-01-12 16:31:29,184: INFO     Propagate through lenslet array\n",
      "2017-01-12 16:31:29,397: INFO     Processing wavelength 0.736736 (13 out of 51)\n",
      "2017-01-12 16:31:29,420: INFO     Rotate and scale slice 13\n",
      "2017-01-12 16:31:29,427: INFO     Propagate through lenslet array\n",
      "2017-01-12 16:31:29,636: INFO     Processing wavelength 0.739508 (14 out of 51)\n",
      "2017-01-12 16:31:29,662: INFO     Rotate and scale slice 14\n",
      "2017-01-12 16:31:29,668: INFO     Propagate through lenslet array\n",
      "2017-01-12 16:31:29,882: INFO     Processing wavelength 0.742280 (15 out of 51)\n",
      "2017-01-12 16:31:29,906: INFO     Rotate and scale slice 15\n",
      "2017-01-12 16:31:29,914: INFO     Propagate through lenslet array\n",
      "2017-01-12 16:31:30,126: INFO     Processing wavelength 0.745052 (16 out of 51)\n",
      "2017-01-12 16:31:30,149: INFO     Rotate and scale slice 16\n",
      "2017-01-12 16:31:30,156: INFO     Propagate through lenslet array\n",
      "2017-01-12 16:31:30,372: INFO     Processing wavelength 0.747824 (17 out of 51)\n",
      "2017-01-12 16:31:30,395: INFO     Rotate and scale slice 17\n",
      "2017-01-12 16:31:30,402: INFO     Propagate through lenslet array\n",
      "2017-01-12 16:31:30,604: INFO     Processing wavelength 0.750596 (18 out of 51)\n",
      "2017-01-12 16:31:30,629: INFO     Rotate and scale slice 18\n",
      "2017-01-12 16:31:30,635: INFO     Propagate through lenslet array\n",
      "2017-01-12 16:31:30,843: INFO     Processing wavelength 0.753368 (19 out of 51)\n",
      "2017-01-12 16:31:30,866: INFO     Rotate and scale slice 19\n",
      "2017-01-12 16:31:30,872: INFO     Propagate through lenslet array\n",
      "2017-01-12 16:31:31,087: INFO     Processing wavelength 0.756140 (20 out of 51)\n",
      "2017-01-12 16:31:31,110: INFO     Rotate and scale slice 20\n",
      "2017-01-12 16:31:31,117: INFO     Propagate through lenslet array\n",
      "2017-01-12 16:31:31,331: INFO     Processing wavelength 0.758912 (21 out of 51)\n",
      "2017-01-12 16:31:31,356: INFO     Rotate and scale slice 21\n",
      "2017-01-12 16:31:31,363: INFO     Propagate through lenslet array\n",
      "2017-01-12 16:31:31,565: INFO     Processing wavelength 0.761684 (22 out of 51)\n",
      "2017-01-12 16:31:31,591: INFO     Rotate and scale slice 22\n",
      "2017-01-12 16:31:31,597: INFO     Propagate through lenslet array\n",
      "2017-01-12 16:31:31,804: INFO     Processing wavelength 0.764456 (23 out of 51)\n",
      "2017-01-12 16:31:31,831: INFO     Rotate and scale slice 23\n",
      "2017-01-12 16:31:31,838: INFO     Propagate through lenslet array\n",
      "2017-01-12 16:31:32,044: INFO     Processing wavelength 0.767228 (24 out of 51)\n",
      "2017-01-12 16:31:32,066: INFO     Rotate and scale slice 24\n",
      "2017-01-12 16:31:32,074: INFO     Propagate through lenslet array\n",
      "2017-01-12 16:31:32,281: INFO     Processing wavelength 0.770000 (25 out of 51)\n",
      "2017-01-12 16:31:32,310: INFO     Rotate and scale slice 25\n",
      "2017-01-12 16:31:32,317: INFO     Propagate through lenslet array\n",
      "2017-01-12 16:31:32,525: INFO     Processing wavelength 0.772772 (26 out of 51)\n",
      "2017-01-12 16:31:32,548: INFO     Rotate and scale slice 26\n",
      "2017-01-12 16:31:32,554: INFO     Propagate through lenslet array\n",
      "2017-01-12 16:31:32,766: INFO     Processing wavelength 0.775544 (27 out of 51)\n",
      "2017-01-12 16:31:32,789: INFO     Rotate and scale slice 27\n",
      "2017-01-12 16:31:32,795: INFO     Propagate through lenslet array\n",
      "2017-01-12 16:31:33,007: INFO     Processing wavelength 0.778316 (28 out of 51)\n",
      "2017-01-12 16:31:33,031: INFO     Rotate and scale slice 28\n",
      "2017-01-12 16:31:33,037: INFO     Propagate through lenslet array\n",
      "2017-01-12 16:31:33,247: INFO     Processing wavelength 0.781088 (29 out of 51)\n",
      "2017-01-12 16:31:33,269: INFO     Rotate and scale slice 29\n",
      "2017-01-12 16:31:33,276: INFO     Propagate through lenslet array\n",
      "2017-01-12 16:31:33,495: INFO     Processing wavelength 0.783860 (30 out of 51)\n",
      "2017-01-12 16:31:33,518: INFO     Rotate and scale slice 30\n",
      "2017-01-12 16:31:33,524: INFO     Propagate through lenslet array\n",
      "2017-01-12 16:31:33,736: INFO     Processing wavelength 0.786632 (31 out of 51)\n",
      "2017-01-12 16:31:33,762: INFO     Rotate and scale slice 31\n",
      "2017-01-12 16:31:33,769: INFO     Propagate through lenslet array\n",
      "2017-01-12 16:31:33,986: INFO     Processing wavelength 0.789404 (32 out of 51)\n",
      "2017-01-12 16:31:34,009: INFO     Rotate and scale slice 32\n",
      "2017-01-12 16:31:34,016: INFO     Propagate through lenslet array\n",
      "2017-01-12 16:31:34,229: INFO     Processing wavelength 0.792176 (33 out of 51)\n",
      "2017-01-12 16:31:34,250: INFO     Rotate and scale slice 33\n",
      "2017-01-12 16:31:34,257: INFO     Propagate through lenslet array\n",
      "2017-01-12 16:31:34,474: INFO     Processing wavelength 0.794948 (34 out of 51)\n",
      "2017-01-12 16:31:34,496: INFO     Rotate and scale slice 34\n",
      "2017-01-12 16:31:34,503: INFO     Propagate through lenslet array\n",
      "2017-01-12 16:31:34,709: INFO     Processing wavelength 0.797720 (35 out of 51)\n",
      "2017-01-12 16:31:34,732: INFO     Rotate and scale slice 35\n",
      "2017-01-12 16:31:34,739: INFO     Propagate through lenslet array\n",
      "2017-01-12 16:31:34,949: INFO     Processing wavelength 0.800492 (36 out of 51)\n",
      "2017-01-12 16:31:34,973: INFO     Rotate and scale slice 36\n",
      "2017-01-12 16:31:34,980: INFO     Propagate through lenslet array\n",
      "2017-01-12 16:31:35,188: INFO     Processing wavelength 0.803264 (37 out of 51)\n",
      "2017-01-12 16:31:35,209: INFO     Rotate and scale slice 37\n",
      "2017-01-12 16:31:35,217: INFO     Propagate through lenslet array\n",
      "2017-01-12 16:31:35,428: INFO     Processing wavelength 0.806036 (38 out of 51)\n",
      "2017-01-12 16:31:35,453: INFO     Rotate and scale slice 38\n",
      "2017-01-12 16:31:35,460: INFO     Propagate through lenslet array\n",
      "2017-01-12 16:31:35,674: INFO     Processing wavelength 0.808808 (39 out of 51)\n",
      "2017-01-12 16:31:35,700: INFO     Rotate and scale slice 39\n",
      "2017-01-12 16:31:35,706: INFO     Propagate through lenslet array\n",
      "2017-01-12 16:31:35,913: INFO     Processing wavelength 0.811580 (40 out of 51)\n",
      "2017-01-12 16:31:35,939: INFO     Rotate and scale slice 40\n",
      "2017-01-12 16:31:35,946: INFO     Propagate through lenslet array\n",
      "2017-01-12 16:31:36,162: INFO     Processing wavelength 0.814352 (41 out of 51)\n",
      "2017-01-12 16:31:36,185: INFO     Rotate and scale slice 41\n",
      "2017-01-12 16:31:36,192: INFO     Propagate through lenslet array\n",
      "2017-01-12 16:31:36,408: INFO     Processing wavelength 0.817124 (42 out of 51)\n",
      "2017-01-12 16:31:36,431: INFO     Rotate and scale slice 42\n",
      "2017-01-12 16:31:36,437: INFO     Propagate through lenslet array\n",
      "2017-01-12 16:31:36,644: INFO     Processing wavelength 0.819896 (43 out of 51)\n",
      "2017-01-12 16:31:36,670: INFO     Rotate and scale slice 43\n",
      "2017-01-12 16:31:36,676: INFO     Propagate through lenslet array\n",
      "2017-01-12 16:31:36,882: INFO     Processing wavelength 0.822668 (44 out of 51)\n",
      "2017-01-12 16:31:36,905: INFO     Rotate and scale slice 44\n",
      "2017-01-12 16:31:36,912: INFO     Propagate through lenslet array\n",
      "2017-01-12 16:31:37,116: INFO     Processing wavelength 0.825440 (45 out of 51)\n",
      "2017-01-12 16:31:37,138: INFO     Rotate and scale slice 45\n",
      "2017-01-12 16:31:37,147: INFO     Propagate through lenslet array\n",
      "2017-01-12 16:31:37,364: INFO     Processing wavelength 0.828212 (46 out of 51)\n",
      "2017-01-12 16:31:37,387: INFO     Rotate and scale slice 46\n",
      "2017-01-12 16:31:37,394: INFO     Propagate through lenslet array\n",
      "2017-01-12 16:31:37,607: INFO     Processing wavelength 0.830984 (47 out of 51)\n",
      "2017-01-12 16:31:37,633: INFO     Rotate and scale slice 47\n",
      "2017-01-12 16:31:37,639: INFO     Propagate through lenslet array\n",
      "2017-01-12 16:31:37,850: INFO     Processing wavelength 0.833756 (48 out of 51)\n",
      "2017-01-12 16:31:37,874: INFO     Rotate and scale slice 48\n",
      "2017-01-12 16:31:37,880: INFO     Propagate through lenslet array\n",
      "2017-01-12 16:31:38,088: INFO     Processing wavelength 0.836528 (49 out of 51)\n",
      "2017-01-12 16:31:38,110: INFO     Rotate and scale slice 49\n",
      "2017-01-12 16:31:38,117: INFO     Propagate through lenslet array\n",
      "2017-01-12 16:31:38,337: INFO     Processing wavelength 0.839300 (50 out of 51)\n",
      "2017-01-12 16:31:38,360: INFO     Rotate and scale slice 50\n",
      "2017-01-12 16:31:38,367: INFO     Propagate through lenslet array\n",
      "2017-01-12 16:31:38,571: INFO     Number of detector pixels per lenslet: 13.384615\n",
      "2017-01-12 16:31:38,572: INFO     Rebinning final detector. Image has dimensions 1024x1024\n",
      "2017-01-12 16:31:39,224: INFO     Writing data to /Users/mrizzo/IFS/IFS-Simulator/SimResults/finalframe_nodistort_n25.fits\n",
      "2017-01-12 16:31:39,225: INFO     Done.\n",
      "2017-01-12 16:31:39,226: INFO     Performance: 13 seconds total\n"
     ]
    }
   ],
   "source": [
    "# main function; saves things to FITS\n",
    "finalFrame = propagateIFS(par,wavelist,inputcube)"
   ]
  },
  {
   "cell_type": "code",
   "execution_count": 7,
   "metadata": {
    "collapsed": false
   },
   "outputs": [
    {
     "data": {
      "text/plain": [
       "<matplotlib.image.AxesImage at 0x110da6e10>"
      ]
     },
     "execution_count": 7,
     "metadata": {},
     "output_type": "execute_result"
    },
    {
     "data": {
      "image/png": "[encoded data removed]",
      "text/plain": [
       "<matplotlib.figure.Figure at 0x102e63e50>"
      ]
     },
     "metadata": {},
     "output_type": "display_data"
    }
   ],
   "source": [
    "pylab.imshow(finalFrame, cmap='PuBu_r')"
   ]
  },
  {
   "cell_type": "code",
   "execution_count": null,
   "metadata": {
    "collapsed": false
   },
   "outputs": [],
   "source": []
  },
  {
   "cell_type": "code",
   "execution_count": null,
   "metadata": {
    "collapsed": true
   },
   "outputs": [],
   "source": []
  }
 ],
 "metadata": {
  "anaconda-cloud": {},
  "kernelspec": {
   "display_name": "Python [conda env:py27]",
   "language": "python",
   "name": "conda-env-py27-py"
  },
  "language_info": {
   "codemirror_mode": {
    "name": "ipython",
    "version": 2
   },
   "file_extension": ".py",
   "mimetype": "text/x-python",
   "name": "python",
   "nbconvert_exporter": "python",
   "pygments_lexer": "ipython2",
   "version": "2.7.12"
  }
 },
 "nbformat": 4,
 "nbformat_minor": 1
}
