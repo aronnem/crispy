{
 "cells": [
  {
   "cell_type": "markdown",
   "metadata": {},
   "source": [
    "# Shaped pupil propagation through IFS"
   ]
  },
  {
   "cell_type": "markdown",
   "metadata": {},
   "source": [
    "This notebook illustrates processing the Shaped Pupil time series from J. Krist through the IFS. We produce realistic IFS detector maps and reduce them using crispy."
   ]
  },
  {
   "cell_type": "markdown",
   "metadata": {},
   "source": [
    "## 1. Reference star processing"
   ]
  },
  {
   "cell_type": "markdown",
   "metadata": {},
   "source": [
    "For this first step, we only process the reference star time series"
   ]
  },
  {
   "cell_type": "code",
   "execution_count": 1,
   "metadata": {
    "collapsed": true
   },
   "outputs": [],
   "source": [
    "os5folder = '/local/data/nicolaus2/mrizzo/haystacks/for_gsfc/with_lowfc'\n",
    "nref = 30 # only the first 30 images are from the reference star"
   ]
  },
  {
   "cell_type": "code",
   "execution_count": 2,
   "metadata": {
    "collapsed": false
   },
   "outputs": [],
   "source": [
    "import glob\n",
    "filelist = glob.glob(os5folder+'/*')\n",
    "filelist.sort()"
   ]
  },
  {
   "cell_type": "code",
   "execution_count": 3,
   "metadata": {
    "collapsed": false
   },
   "outputs": [
    {
     "data": {
      "text/plain": [
       "'os5_spc_001'"
      ]
     },
     "execution_count": 3,
     "metadata": {},
     "output_type": "execute_result"
    }
   ],
   "source": [
    "filelist[0].split('/')[-1].split('.')[0]"
   ]
  },
  {
   "cell_type": "markdown",
   "metadata": {},
   "source": [
    "Imports"
   ]
  },
  {
   "cell_type": "code",
   "execution_count": 4,
   "metadata": {
    "collapsed": true
   },
   "outputs": [],
   "source": [
    "import numpy as np\n",
    "import astropy.units as u\n",
    "import astropy.constants as c\n",
    "import astropy.analytic_functions as af\n",
    "from astropy.io import fits\n"
   ]
  },
  {
   "cell_type": "code",
   "execution_count": 5,
   "metadata": {
    "collapsed": false
   },
   "outputs": [
    {
     "name": "stdout",
     "output_type": "stream",
     "text": [
      "(45, 315, 315)\n",
      "6.15106675942e-08\n"
     ]
    }
   ],
   "source": [
    "cube = fits.open(filelist[0])[0]\n",
    "# offaxispsf= '/local/data/nicolaus2/mrizzo/haystacks/for_gsfc/spc_offaxis_psf.fits'\n",
    "# cube = fits.open(offaxispsf)[0]\n",
    "\n",
    "print(cube.data.shape)\n",
    "print(np.sum(cube.data))"
   ]
  },
  {
   "cell_type": "markdown",
   "metadata": {},
   "source": [
    "### Process a cube to turn it into counts per pixel"
   ]
  },
  {
   "cell_type": "code",
   "execution_count": 6,
   "metadata": {
    "collapsed": false
   },
   "outputs": [
    {
     "name": "stdout",
     "output_type": "stream",
     "text": [
      "WebbPSF log messages of level ERROR and above will be shown.\n",
      "WebbPSF log outputs will be directed to the screen.\n"
     ]
    }
   ],
   "source": [
    "# what is the area of the WFIRST pupil?\n",
    "import webbpsf\n",
    "from webbpsf import wfirst\n",
    "webbpsf.setup_logging('ERROR') # Reduce the verbosity\n",
    "diskspc = wfirst.CGI()\n",
    "_ = diskspc.calc_psf(display=False)\n",
    "pupil_pix_area = (diskspc.optsys.planes[0].pixelscale*u.pix)**2\n",
    "tel_pupil_area = np.sum(diskspc.optsys.planes[0].amplitude)*pupil_pix_area\n",
    "\n",
    "\n",
    "BW=0.18\n",
    "lamc = 770*u.nanometer\n",
    "Nlam=45\n",
    "lamlist = lamc*np.linspace(1.-BW/2.,1.+BW/2.,Nlam)\n",
    "\n",
    "def convert_cube(cube,lamlist,star_T,star_Vmag,tel_area):\n",
    "    '''\n",
    "    This functions calculates the number of photons per second\n",
    "    entering the WFIRST obscured aperture\n",
    "    '''\n",
    "    \n",
    "    \n",
    "    # We need to determine the coefficient of proportionality between a blackbody source and the\n",
    "    # actualy flux received (depends on size of the star, distance, etc)\n",
    "    # define Vband\n",
    "    lambda_cent = 550*u.nanometer\n",
    "\n",
    "    # this is the flux density per steradian (specific intensity) you would expect from Vband\n",
    "    flux_bb_F550 = af.blackbody_nu(lambda_cent, star_T).to(u.Watt/u.m**2/u.Hertz/u.sr)\n",
    "\n",
    "    # this is the actual flux density received in Vband\n",
    "    Vband_zero_pt = (3953*u.Jansky).to(u.Watt/u.m**2/u.Hertz)\n",
    "    flux_star_Vband = Vband_zero_pt*10**(-0.4*star_Vmag)\n",
    "\n",
    "    # the ratio is coefficient we seek; this will multiply a blackbody function to yield flux densities\n",
    "    # at all wavelengths\n",
    "    ratio_star = (flux_star_Vband/flux_bb_F550)\n",
    "\n",
    "    # this is the ratio which we want to multiply phot_Uma_Vband for the other bands\n",
    "    #print(\"Ratio of blackbodies is %f\" % ratio_Uma)\n",
    "\n",
    "    # Now convert each slice to photons per second per square meter\n",
    "    dlam = lamlist[1]-lamlist[0]\n",
    "    newcube=np.zeros(cube.shape)\n",
    "    for i in range(len(lamlist)):\n",
    "        high = c.c/(lamlist[i]-dlam/2.)\n",
    "        low = c.c/(lamlist[i]+dlam/2.)\n",
    "        mid = 0.5*(low+high) # middle frequency\n",
    "        dnu = high-low\n",
    "        E_ph = (c.h*mid).to(u.J) # photon energy at middle frequency\n",
    "        BBlam = af.blackbody_nu(lamlist[i], star_T).to(u.Watt/u.m**2/u.Hertz/u.sr)\n",
    "        flux = (BBlam*ratio_star*dnu).to(u.W/u.m**2) # this is Watts per m2\n",
    "        photon_flux = flux/E_ph # This is in Photons per second per m2\n",
    "        # also divide by pixel size \n",
    "        newcube[i,:,:] += photon_flux.to(1./u.s/u.m**2)\n",
    "        #newcube[i] += (photon_flux.to(1./u.s/u.m**2)).value#*(0.1*(lamc.to(u.m)).value/(2.34))**2\n",
    "    \n",
    "    newcube *= len(lamlist)*tel_area\n",
    "    return newcube\n",
    "\n",
    "# reference star\n",
    "beta_Uma_T = 9377*u.K # Thanks wikipedia\n",
    "beta_Uma_Vmag = 2.37 # Thanks wikipedia\n",
    "beta_Uma_cube = convert_cube(cube,lamlist,beta_Uma_T,beta_Uma_Vmag,tel_pupil_area)\n",
    "\n",
    "Uma47_T = 5887*u.K # Thanks wikipedia\n",
    "Uma47_Vmag = 5.03 # Thanks wikipedia\n",
    "Uma47_cube = convert_cube(cube,lamlist,Uma47_T,Uma47_Vmag,tel_pupil_area)\n"
   ]
  },
  {
   "cell_type": "markdown",
   "metadata": {},
   "source": [
    "## Process the files using the function above"
   ]
  },
  {
   "cell_type": "markdown",
   "metadata": {},
   "source": [
    "First, set up the IFS sim"
   ]
  },
  {
   "cell_type": "code",
   "execution_count": 7,
   "metadata": {
    "collapsed": true
   },
   "outputs": [],
   "source": [
    "import sys\n",
    "folder = '../code'\n",
    "if folder not in sys.path: sys.path.append(folder)\n",
    "from IFS import propagateIFS\n",
    "from params import Params\n",
    "import logging\n",
    "from tools.image import Image\n",
    "#from tools.initLogger import initLogger\n",
    "import os\n",
    "os.chdir(folder)\n",
    "par = Params()\n",
    "logging.basicConfig(filename = par.exportDir+'/IFS.log',level=logging.INFO)\n",
    "# log = logging.getLogger('main')\n",
    "par.saveRotatedInput = False\n",
    "par.saveDetector = False\n",
    "\n"
   ]
  },
  {
   "cell_type": "markdown",
   "metadata": {},
   "source": [
    "### Reference star"
   ]
  },
  {
   "cell_type": "code",
   "execution_count": 11,
   "metadata": {
    "collapsed": false
   },
   "outputs": [
    {
     "name": "stdout",
     "output_type": "stream",
     "text": [
      "Processing file os5_spc_001.fits\n"
     ]
    },
    {
     "name": "stderr",
     "output_type": "stream",
     "text": [
      "../code/tools/lenslet.py:36: VisibleDeprecationWarning: using a non-integer number instead of an integer will result in an error in the future\n",
      "  paddedImagePlane = np.zeros((imagePlane.shape[0]*np.sqrt(2),imagePlane.shape[1]*np.sqrt(2)))\n",
      "../code/tools/lenslet.py:43: VisibleDeprecationWarning: using a non-integer number instead of an integer will result in an error in the future\n",
      "  paddedImagePlane[xpad:-xpad,ypad:-ypad] = imagePlane\n",
      "../code/tools/detutils.py:64: VisibleDeprecationWarning: using a non-integer number instead of an integer will result in an error in the future\n",
      "  temp = np.zeros((shape[1], x),dtype=float)\n",
      "../code/tools/detutils.py:89: VisibleDeprecationWarning: using a non-integer number instead of an integer will result in an error in the future\n",
      "  result = np.zeros((shape[0], shape[1]), dtype=float)\n",
      "WARNING: AstropyDeprecationWarning: \"clobber\" was deprecated in version 1.3 and will be removed in a future version. Use argument \"overwrite\" instead. [astropy.utils.decorators]\n",
      "[astropy] AstropyDeprecationWarning: \"clobber\" was deprecated in version 1.3 and will be removed in a future version. Use argument \"overwrite\" instead.\n"
     ]
    },
    {
     "name": "stdout",
     "output_type": "stream",
     "text": [
      "Processing file os5_spc_002.fits\n",
      "Processing file os5_spc_003.fits\n",
      "Processing file os5_spc_004.fits\n",
      "Processing file os5_spc_005.fits\n",
      "Processing file os5_spc_006.fits\n",
      "Processing file os5_spc_007.fits\n",
      "Processing file os5_spc_008.fits\n",
      "Processing file os5_spc_009.fits\n",
      "Processing file os5_spc_010.fits\n",
      "Processing file os5_spc_011.fits\n",
      "Processing file os5_spc_012.fits\n",
      "Processing file os5_spc_013.fits\n",
      "Processing file os5_spc_014.fits\n",
      "Processing file os5_spc_015.fits\n",
      "Processing file os5_spc_016.fits\n",
      "Processing file os5_spc_017.fits\n",
      "Processing file os5_spc_018.fits\n",
      "Processing file os5_spc_019.fits\n",
      "Processing file os5_spc_020.fits\n",
      "Processing file os5_spc_021.fits\n",
      "Processing file os5_spc_022.fits\n",
      "Processing file os5_spc_023.fits\n",
      "Processing file os5_spc_024.fits\n",
      "Processing file os5_spc_025.fits\n",
      "Processing file os5_spc_026.fits\n",
      "Processing file os5_spc_027.fits\n",
      "Processing file os5_spc_028.fits\n",
      "Processing file os5_spc_029.fits\n",
      "Processing file os5_spc_030.fits\n"
     ]
    }
   ],
   "source": [
    "\n",
    "for reffile in filelist[:nref]:\n",
    "    print('Processing file '+reffile.split('/')[-1])\n",
    "    cube = fits.open(reffile)[0]\n",
    "    cube.data*=beta_Uma_cube\n",
    "    # adjust headers for slightly different wavelength\n",
    "    cube.header['LAM_C']=0.77\n",
    "    # by NOT changing the pixelsize, we implicitly assume that the PSF is the same at 770 then at 800\n",
    "    #cube.header['PIXSIZE']*=0.8/0.77\n",
    "    detectorFrame = propagateIFS(par,lamlist.value/1000.,cube)\n",
    "    ### NEED TO ADD HEADERS HERE!!!\n",
    "    Image(data = detectorFrame).write('OS5/'+reffile.split('/')[-1].split('.')[0]+'_beta_Uma_IFS.fits',clobber=True)"
   ]
  },
  {
   "cell_type": "markdown",
   "metadata": {},
   "source": [
    "### Process the target star"
   ]
  },
  {
   "cell_type": "code",
   "execution_count": 12,
   "metadata": {
    "collapsed": false
   },
   "outputs": [
    {
     "name": "stdout",
     "output_type": "stream",
     "text": [
      "Processing file os5_spc_031.fits\n"
     ]
    },
    {
     "name": "stderr",
     "output_type": "stream",
     "text": [
      "../code/tools/lenslet.py:36: VisibleDeprecationWarning: using a non-integer number instead of an integer will result in an error in the future\n",
      "  paddedImagePlane = np.zeros((imagePlane.shape[0]*np.sqrt(2),imagePlane.shape[1]*np.sqrt(2)))\n",
      "../code/tools/lenslet.py:43: VisibleDeprecationWarning: using a non-integer number instead of an integer will result in an error in the future\n",
      "  paddedImagePlane[xpad:-xpad,ypad:-ypad] = imagePlane\n",
      "../code/tools/detutils.py:64: VisibleDeprecationWarning: using a non-integer number instead of an integer will result in an error in the future\n",
      "  temp = np.zeros((shape[1], x),dtype=float)\n",
      "../code/tools/detutils.py:89: VisibleDeprecationWarning: using a non-integer number instead of an integer will result in an error in the future\n",
      "  result = np.zeros((shape[0], shape[1]), dtype=float)\n",
      "WARNING: AstropyDeprecationWarning: \"clobber\" was deprecated in version 1.3 and will be removed in a future version. Use argument \"overwrite\" instead. [astropy.utils.decorators]\n",
      "[astropy] AstropyDeprecationWarning: \"clobber\" was deprecated in version 1.3 and will be removed in a future version. Use argument \"overwrite\" instead.\n"
     ]
    },
    {
     "name": "stdout",
     "output_type": "stream",
     "text": [
      "Processing file os5_spc_032.fits\n",
      "Processing file os5_spc_033.fits\n",
      "Processing file os5_spc_034.fits\n",
      "Processing file os5_spc_035.fits\n",
      "Processing file os5_spc_036.fits\n",
      "Processing file os5_spc_037.fits\n",
      "Processing file os5_spc_038.fits\n",
      "Processing file os5_spc_039.fits\n",
      "Processing file os5_spc_040.fits\n",
      "Processing file os5_spc_041.fits\n",
      "Processing file os5_spc_042.fits\n",
      "Processing file os5_spc_043.fits\n",
      "Processing file os5_spc_044.fits\n",
      "Processing file os5_spc_045.fits\n",
      "Processing file os5_spc_046.fits\n",
      "Processing file os5_spc_047.fits\n",
      "Processing file os5_spc_048.fits\n",
      "Processing file os5_spc_049.fits\n",
      "Processing file os5_spc_050.fits\n",
      "Processing file os5_spc_051.fits\n",
      "Processing file os5_spc_052.fits\n",
      "Processing file os5_spc_053.fits\n",
      "Processing file os5_spc_054.fits\n",
      "Processing file os5_spc_055.fits\n",
      "Processing file os5_spc_056.fits\n",
      "Processing file os5_spc_057.fits\n",
      "Processing file os5_spc_058.fits\n",
      "Processing file os5_spc_059.fits\n",
      "Processing file os5_spc_060.fits\n",
      "Processing file os5_spc_061.fits\n",
      "Processing file os5_spc_062.fits\n",
      "Processing file os5_spc_063.fits\n",
      "Processing file os5_spc_064.fits\n",
      "Processing file os5_spc_065.fits\n",
      "Processing file os5_spc_066.fits\n",
      "Processing file os5_spc_067.fits\n",
      "Processing file os5_spc_068.fits\n",
      "Processing file os5_spc_069.fits\n",
      "Processing file os5_spc_070.fits\n",
      "Processing file os5_spc_071.fits\n",
      "Processing file os5_spc_072.fits\n",
      "Processing file os5_spc_073.fits\n",
      "Processing file os5_spc_074.fits\n",
      "Processing file os5_spc_075.fits\n",
      "Processing file os5_spc_076.fits\n",
      "Processing file os5_spc_077.fits\n",
      "Processing file os5_spc_078.fits\n",
      "Processing file os5_spc_079.fits\n",
      "Processing file os5_spc_080.fits\n",
      "Processing file os5_spc_081.fits\n",
      "Processing file os5_spc_082.fits\n",
      "Processing file os5_spc_083.fits\n",
      "Processing file os5_spc_084.fits\n",
      "Processing file os5_spc_085.fits\n",
      "Processing file os5_spc_086.fits\n",
      "Processing file os5_spc_087.fits\n",
      "Processing file os5_spc_088.fits\n",
      "Processing file os5_spc_089.fits\n",
      "Processing file os5_spc_090.fits\n",
      "Processing file os5_spc_091.fits\n",
      "Processing file os5_spc_092.fits\n",
      "Processing file os5_spc_093.fits\n",
      "Processing file os5_spc_094.fits\n",
      "Processing file os5_spc_095.fits\n",
      "Processing file os5_spc_096.fits\n",
      "Processing file os5_spc_097.fits\n",
      "Processing file os5_spc_098.fits\n",
      "Processing file os5_spc_099.fits\n",
      "Processing file os5_spc_100.fits\n",
      "Processing file os5_spc_101.fits\n",
      "Processing file os5_spc_102.fits\n",
      "Processing file os5_spc_103.fits\n",
      "Processing file os5_spc_104.fits\n",
      "Processing file os5_spc_105.fits\n",
      "Processing file os5_spc_106.fits\n",
      "Processing file os5_spc_107.fits\n",
      "Processing file os5_spc_108.fits\n",
      "Processing file os5_spc_109.fits\n",
      "Processing file os5_spc_110.fits\n",
      "Processing file os5_spc_111.fits\n",
      "Processing file os5_spc_112.fits\n",
      "Processing file os5_spc_113.fits\n",
      "Processing file os5_spc_114.fits\n",
      "Processing file os5_spc_115.fits\n",
      "Processing file os5_spc_116.fits\n",
      "Processing file os5_spc_117.fits\n",
      "Processing file os5_spc_118.fits\n",
      "Processing file os5_spc_119.fits\n",
      "Processing file os5_spc_120.fits\n",
      "Processing file os5_spc_121.fits\n",
      "Processing file os5_spc_122.fits\n",
      "Processing file os5_spc_123.fits\n",
      "Processing file os5_spc_124.fits\n",
      "Processing file os5_spc_125.fits\n",
      "Processing file os5_spc_126.fits\n",
      "Processing file os5_spc_127.fits\n",
      "Processing file os5_spc_128.fits\n",
      "Processing file os5_spc_129.fits\n",
      "Processing file os5_spc_130.fits\n"
     ]
    }
   ],
   "source": [
    "for reffile in filelist[nref:]:\n",
    "    print('Processing file '+reffile.split('/')[-1])\n",
    "    cube = fits.open(reffile)[0]\n",
    "    cube.data*=Uma47_cube\n",
    "    # adjust headers for slightly different wavelength\n",
    "    cube.header['LAM_C']=0.77\n",
    "    # by NOT changing the pixelsize, we implicitly assume that the PSF is the same at 770 then at 800\n",
    "    #cube.header['PIXSIZE']*=0.8/0.77\n",
    "    detectorFrame = propagateIFS(par,lamlist.value/1000.,cube)\n",
    "    ### NEED TO ADD HEADERS HERE!!!\n",
    "    Image(data = detectorFrame).write('OS5/'+reffile.split('/')[-1].split('.')[0]+'_Uma47_IFS.fits',clobber=True)"
   ]
  },
  {
   "cell_type": "code",
   "execution_count": null,
   "metadata": {
    "collapsed": true
   },
   "outputs": [],
   "source": []
  },
  {
   "cell_type": "markdown",
   "metadata": {},
   "source": [
    "## Apply detector readout, noise and averaging"
   ]
  },
  {
   "cell_type": "markdown",
   "metadata": {},
   "source": [
    "Now we apply a detector readout scheme. Let's start by dividing each image (1000s) into integrations of 100 seconds. Then average all images for beta Uma and 47Uma. Extract beta Uma and 47Uma from the averaged images, and subtract beta Uma from 47Uma. "
   ]
  },
  {
   "cell_type": "code",
   "execution_count": 19,
   "metadata": {
    "collapsed": false
   },
   "outputs": [
    {
     "name": "stdout",
     "output_type": "stream",
     "text": [
      "Processing file os5_spc_001_beta_Uma_IFS.fits\n"
     ]
    },
    {
     "name": "stderr",
     "output_type": "stream",
     "text": [
      "/local/data/nicolaus2/mrizzo/anaconda3/lib/python3.5/site-packages/ipykernel/__main__.py:31: RuntimeWarning: divide by zero encountered in true_divide\n",
      "WARNING: AstropyDeprecationWarning: \"clobber\" was deprecated in version 1.3 and will be removed in a future version. Use argument \"overwrite\" instead. [astropy.utils.decorators]\n",
      "[astropy] AstropyDeprecationWarning: \"clobber\" was deprecated in version 1.3 and will be removed in a future version. Use argument \"overwrite\" instead.\n",
      "WARNING: VerifyWarning: Card is too long, comment will be truncated. [astropy.io.fits.card]\n",
      "[astropy] VerifyWarning: Card is too long, comment will be truncated.\n"
     ]
    },
    {
     "name": "stdout",
     "output_type": "stream",
     "text": [
      "Processing file os5_spc_002_beta_Uma_IFS.fits\n",
      "Processing file os5_spc_003_beta_Uma_IFS.fits\n",
      "Processing file os5_spc_004_beta_Uma_IFS.fits\n",
      "Processing file os5_spc_005_beta_Uma_IFS.fits\n",
      "Processing file os5_spc_006_beta_Uma_IFS.fits\n",
      "Processing file os5_spc_007_beta_Uma_IFS.fits\n",
      "Processing file os5_spc_008_beta_Uma_IFS.fits\n",
      "Processing file os5_spc_009_beta_Uma_IFS.fits\n",
      "Processing file os5_spc_010_beta_Uma_IFS.fits\n",
      "Processing file os5_spc_011_beta_Uma_IFS.fits\n",
      "Processing file os5_spc_012_beta_Uma_IFS.fits\n",
      "Processing file os5_spc_013_beta_Uma_IFS.fits\n",
      "Processing file os5_spc_014_beta_Uma_IFS.fits\n",
      "Processing file os5_spc_015_beta_Uma_IFS.fits\n",
      "Processing file os5_spc_016_beta_Uma_IFS.fits\n",
      "Processing file os5_spc_017_beta_Uma_IFS.fits\n",
      "Processing file os5_spc_018_beta_Uma_IFS.fits\n",
      "Processing file os5_spc_019_beta_Uma_IFS.fits\n",
      "Processing file os5_spc_020_beta_Uma_IFS.fits\n",
      "Processing file os5_spc_021_beta_Uma_IFS.fits\n",
      "Processing file os5_spc_022_beta_Uma_IFS.fits\n",
      "Processing file os5_spc_023_beta_Uma_IFS.fits\n",
      "Processing file os5_spc_024_beta_Uma_IFS.fits\n",
      "Processing file os5_spc_025_beta_Uma_IFS.fits\n",
      "Processing file os5_spc_026_beta_Uma_IFS.fits\n",
      "Processing file os5_spc_027_beta_Uma_IFS.fits\n",
      "Processing file os5_spc_028_beta_Uma_IFS.fits\n",
      "Processing file os5_spc_029_beta_Uma_IFS.fits\n",
      "Processing file os5_spc_030_beta_Uma_IFS.fits\n",
      "Processing file os5_spc_031_Uma47_IFS.fits\n",
      "Processing file os5_spc_032_Uma47_IFS.fits\n",
      "Processing file os5_spc_033_Uma47_IFS.fits\n",
      "Processing file os5_spc_034_Uma47_IFS.fits\n",
      "Processing file os5_spc_035_Uma47_IFS.fits\n",
      "Processing file os5_spc_036_Uma47_IFS.fits\n",
      "Processing file os5_spc_037_Uma47_IFS.fits\n",
      "Processing file os5_spc_038_Uma47_IFS.fits\n",
      "Processing file os5_spc_039_Uma47_IFS.fits\n",
      "Processing file os5_spc_040_Uma47_IFS.fits\n",
      "Processing file os5_spc_041_Uma47_IFS.fits\n",
      "Processing file os5_spc_042_Uma47_IFS.fits\n",
      "Processing file os5_spc_043_Uma47_IFS.fits\n",
      "Processing file os5_spc_044_Uma47_IFS.fits\n",
      "Processing file os5_spc_045_Uma47_IFS.fits\n",
      "Processing file os5_spc_046_Uma47_IFS.fits\n",
      "Processing file os5_spc_047_Uma47_IFS.fits\n",
      "Processing file os5_spc_048_Uma47_IFS.fits\n",
      "Processing file os5_spc_049_Uma47_IFS.fits\n",
      "Processing file os5_spc_050_Uma47_IFS.fits\n",
      "Processing file os5_spc_051_Uma47_IFS.fits\n",
      "Processing file os5_spc_052_Uma47_IFS.fits\n",
      "Processing file os5_spc_053_Uma47_IFS.fits\n",
      "Processing file os5_spc_054_Uma47_IFS.fits\n",
      "Processing file os5_spc_055_Uma47_IFS.fits\n",
      "Processing file os5_spc_056_Uma47_IFS.fits\n",
      "Processing file os5_spc_057_Uma47_IFS.fits\n",
      "Processing file os5_spc_058_Uma47_IFS.fits\n",
      "Processing file os5_spc_059_Uma47_IFS.fits\n",
      "Processing file os5_spc_060_Uma47_IFS.fits\n",
      "Processing file os5_spc_061_Uma47_IFS.fits\n",
      "Processing file os5_spc_062_Uma47_IFS.fits\n",
      "Processing file os5_spc_063_Uma47_IFS.fits\n",
      "Processing file os5_spc_064_Uma47_IFS.fits\n",
      "Processing file os5_spc_065_Uma47_IFS.fits\n",
      "Processing file os5_spc_066_Uma47_IFS.fits\n",
      "Processing file os5_spc_067_Uma47_IFS.fits\n",
      "Processing file os5_spc_068_Uma47_IFS.fits\n",
      "Processing file os5_spc_069_Uma47_IFS.fits\n",
      "Processing file os5_spc_070_Uma47_IFS.fits\n",
      "Processing file os5_spc_071_Uma47_IFS.fits\n",
      "Processing file os5_spc_072_Uma47_IFS.fits\n",
      "Processing file os5_spc_073_Uma47_IFS.fits\n",
      "Processing file os5_spc_074_Uma47_IFS.fits\n",
      "Processing file os5_spc_075_Uma47_IFS.fits\n",
      "Processing file os5_spc_076_Uma47_IFS.fits\n",
      "Processing file os5_spc_077_Uma47_IFS.fits\n",
      "Processing file os5_spc_078_Uma47_IFS.fits\n",
      "Processing file os5_spc_079_Uma47_IFS.fits\n",
      "Processing file os5_spc_080_Uma47_IFS.fits\n",
      "Processing file os5_spc_081_Uma47_IFS.fits\n",
      "Processing file os5_spc_082_Uma47_IFS.fits\n",
      "Processing file os5_spc_083_Uma47_IFS.fits\n",
      "Processing file os5_spc_084_Uma47_IFS.fits\n",
      "Processing file os5_spc_085_Uma47_IFS.fits\n",
      "Processing file os5_spc_086_Uma47_IFS.fits\n",
      "Processing file os5_spc_087_Uma47_IFS.fits\n",
      "Processing file os5_spc_088_Uma47_IFS.fits\n",
      "Processing file os5_spc_089_Uma47_IFS.fits\n",
      "Processing file os5_spc_090_Uma47_IFS.fits\n",
      "Processing file os5_spc_091_Uma47_IFS.fits\n",
      "Processing file os5_spc_092_Uma47_IFS.fits\n",
      "Processing file os5_spc_093_Uma47_IFS.fits\n",
      "Processing file os5_spc_094_Uma47_IFS.fits\n",
      "Processing file os5_spc_095_Uma47_IFS.fits\n",
      "Processing file os5_spc_096_Uma47_IFS.fits\n",
      "Processing file os5_spc_097_Uma47_IFS.fits\n",
      "Processing file os5_spc_098_Uma47_IFS.fits\n",
      "Processing file os5_spc_099_Uma47_IFS.fits\n",
      "Processing file os5_spc_100_Uma47_IFS.fits\n",
      "Processing file os5_spc_101_Uma47_IFS.fits\n",
      "Processing file os5_spc_102_Uma47_IFS.fits\n",
      "Processing file os5_spc_103_Uma47_IFS.fits\n",
      "Processing file os5_spc_104_Uma47_IFS.fits\n",
      "Processing file os5_spc_105_Uma47_IFS.fits\n",
      "Processing file os5_spc_106_Uma47_IFS.fits\n",
      "Processing file os5_spc_107_Uma47_IFS.fits\n",
      "Processing file os5_spc_108_Uma47_IFS.fits\n",
      "Processing file os5_spc_109_Uma47_IFS.fits\n",
      "Processing file os5_spc_110_Uma47_IFS.fits\n",
      "Processing file os5_spc_111_Uma47_IFS.fits\n",
      "Processing file os5_spc_112_Uma47_IFS.fits\n",
      "Processing file os5_spc_113_Uma47_IFS.fits\n",
      "Processing file os5_spc_114_Uma47_IFS.fits\n",
      "Processing file os5_spc_115_Uma47_IFS.fits\n",
      "Processing file os5_spc_116_Uma47_IFS.fits\n",
      "Processing file os5_spc_117_Uma47_IFS.fits\n",
      "Processing file os5_spc_118_Uma47_IFS.fits\n",
      "Processing file os5_spc_119_Uma47_IFS.fits\n",
      "Processing file os5_spc_120_Uma47_IFS.fits\n",
      "Processing file os5_spc_121_Uma47_IFS.fits\n",
      "Processing file os5_spc_122_Uma47_IFS.fits\n",
      "Processing file os5_spc_123_Uma47_IFS.fits\n",
      "Processing file os5_spc_124_Uma47_IFS.fits\n",
      "Processing file os5_spc_125_Uma47_IFS.fits\n",
      "Processing file os5_spc_126_Uma47_IFS.fits\n",
      "Processing file os5_spc_127_Uma47_IFS.fits\n",
      "Processing file os5_spc_128_Uma47_IFS.fits\n",
      "Processing file os5_spc_129_Uma47_IFS.fits\n",
      "Processing file os5_spc_130_Uma47_IFS.fits\n"
     ]
    }
   ],
   "source": [
    "from tools.detector import readDetector\n",
    "filelist = glob.glob('OS5/os5_spc*.fits')\n",
    "filelist.sort()\n",
    "QE=0.7\n",
    "losses = 0.34\n",
    "Nreads = 10\n",
    "timeframe = 1000. # number of seconds for each frame, set by J Krist\n",
    "for reffile in filelist:\n",
    "    print('Processing file '+reffile.split('/')[-1])\n",
    "    img = Image(filename=reffile)\n",
    "    inttime = timeframe/Nreads\n",
    "    img.data*=QE*losses\n",
    "    # refreshes parameter header\n",
    "    par.makeHeader()\n",
    "    par.hdr.append(('QE',QE,'Quantum efficiency of the detector'),end=True)\n",
    "    par.hdr.append(('LOSS',losses,'Transmission factor for the IFS (J. Krist)'),end=True)\n",
    "    par.hdr.append(('INTTIME',inttime,'Time for each infividual frame'),end=True)\n",
    "    par.hdr.append(('NREADS',Nreads,'Number of frames averaged'),end=True)\n",
    "    par.hdr.append(('EXPTIME',timeframe,'Total exposure time'),end=True)\n",
    "\n",
    "    frame = np.zeros(img.data.shape)\n",
    "    varframe = np.zeros(img.data.shape)\n",
    "    # averaging reads\n",
    "    for i in range(Nreads):\n",
    "        newread = readDetector(par,img,inttime=inttime)\n",
    "        frame += newread\n",
    "        varframe += newread**2\n",
    "    frame /= Nreads\n",
    "    varframe /= Nreads\n",
    "    varframe -= frame**2\n",
    "    outimg = Image(data=frame,ivar=1./varframe,header=par.hdr)\n",
    "    outimg.write('OS5/OS5_detector/'+reffile.split('/')[-1].split('.')[0]+'_detector.fits',clobber=True)\n"
   ]
  },
  {
   "cell_type": "markdown",
   "metadata": {},
   "source": [
    "### Average the images"
   ]
  },
  {
   "cell_type": "code",
   "execution_count": 26,
   "metadata": {
    "collapsed": false
   },
   "outputs": [
    {
     "name": "stderr",
     "output_type": "stream",
     "text": [
      "WARNING: AstropyDeprecationWarning: \"clobber\" was deprecated in version 1.3 and will be removed in a future version. Use argument \"overwrite\" instead. [astropy.utils.decorators]\n",
      "[astropy] AstropyDeprecationWarning: \"clobber\" was deprecated in version 1.3 and will be removed in a future version. Use argument \"overwrite\" instead.\n"
     ]
    }
   ],
   "source": [
    "beta_Uma_files = glob.glob('OS5/OS5_detector/*beta*.fits')\n",
    "\n",
    "beta_Uma = np.zeros(Image(filename=beta_Uma_files[0]).data.shape)\n",
    "for beta_Uma_file in beta_Uma_files:\n",
    "    beta_Uma += Image(filename=beta_Uma_file).data\n",
    "beta_Uma/=len(beta_Uma_files)\n",
    "Image(data=beta_Uma).write('OS5/OS5_average/average_beta_Uma_detector.fits',clobber=True)\n",
    "\n",
    "Uma47_files = glob.glob('OS5/OS5_detector/*47*.fits')\n",
    "\n",
    "Uma47 = np.zeros(Image(filename=Uma47_files[0]).data.shape)\n",
    "for Uma47_file in Uma47_files:\n",
    "    Uma47 += Image(filename=Uma47_file).data\n",
    "Uma47/=len(Uma47_files)\n",
    "Image(data=Uma47).write('OS5/OS5_average/average_Uma47_detector.fits',clobber=True)\n"
   ]
  },
  {
   "cell_type": "code",
   "execution_count": null,
   "metadata": {
    "collapsed": true
   },
   "outputs": [],
   "source": []
  },
  {
   "cell_type": "markdown",
   "metadata": {},
   "source": [
    "# Extraction"
   ]
  },
  {
   "cell_type": "code",
   "execution_count": 29,
   "metadata": {
    "collapsed": false
   },
   "outputs": [
    {
     "name": "stderr",
     "output_type": "stream",
     "text": [
      "WARNING: AstropyDeprecationWarning: \"clobber\" was deprecated in version 1.3 and will be removed in a future version. Use argument \"overwrite\" instead. [astropy.utils.decorators]\n",
      "[astropy] AstropyDeprecationWarning: \"clobber\" was deprecated in version 1.3 and will be removed in a future version. Use argument \"overwrite\" instead.\n",
      "WARNING: VerifyWarning: Card is too long, comment will be truncated. [astropy.io.fits.card]\n",
      "[astropy] VerifyWarning: Card is too long, comment will be truncated.\n",
      "WARNING: AstropyDeprecationWarning: \"clobber\" was deprecated in version 1.3 and will be removed in a future version. Use argument \"overwrite\" instead. [astropy.utils.decorators]\n",
      "[astropy] AstropyDeprecationWarning: \"clobber\" was deprecated in version 1.3 and will be removed in a future version. Use argument \"overwrite\" instead.\n",
      "WARNING: VerifyWarning: Card is too long, comment will be truncated. [astropy.io.fits.card]\n",
      "[astropy] VerifyWarning: Card is too long, comment will be truncated.\n"
     ]
    }
   ],
   "source": [
    "from IFS import reduceIFSMap\n",
    "fname='OS5/OS5_average/average_beta_Uma_detector.fits'\n",
    "cube_beta = reduceIFSMap(par,fname)\n",
    "fname='OS5/OS5_average/average_Uma47_detector.fits'\n",
    "cube_47 = reduceIFSMap(par,fname)"
   ]
  },
  {
   "cell_type": "markdown",
   "metadata": {},
   "source": [
    "### Need to subtract reference psf from star psf"
   ]
  },
  {
   "cell_type": "code",
   "execution_count": null,
   "metadata": {
    "collapsed": true
   },
   "outputs": [],
   "source": [
    "# naive subtraction\n",
    "sum_beta = np.nansum(cube_beta.data)\n",
    "print(sum_beta.data.shape)\n",
    "sum_47 = np.nansum(cube_47.data)\n",
    "residual = cube_47.data-10**(0.4*(beta_Uma_Vmag-Uma47_Vmag))*cube_beta.data\n",
    "Image(data=residual).write('OS5/OS5_average/residual.fits',clobber=True)\n"
   ]
  },
  {
   "cell_type": "markdown",
   "metadata": {},
   "source": [
    "# Add off-axis PSF"
   ]
  },
  {
   "cell_type": "code",
   "execution_count": 35,
   "metadata": {
    "collapsed": false
   },
   "outputs": [
    {
     "name": "stdout",
     "output_type": "stream",
     "text": [
      "Processing file /local/data/nicolaus2/mrizzo/haystacks/for_gsfc/spc_offaxis_psf.fits\n"
     ]
    },
    {
     "name": "stderr",
     "output_type": "stream",
     "text": [
      "../code/tools/lenslet.py:36: VisibleDeprecationWarning: using a non-integer number instead of an integer will result in an error in the future\n",
      "  paddedImagePlane = np.zeros((imagePlane.shape[0]*np.sqrt(2),imagePlane.shape[1]*np.sqrt(2)))\n",
      "../code/tools/lenslet.py:43: VisibleDeprecationWarning: using a non-integer number instead of an integer will result in an error in the future\n",
      "  paddedImagePlane[xpad:-xpad,ypad:-ypad] = imagePlane\n",
      "../code/tools/detutils.py:64: VisibleDeprecationWarning: using a non-integer number instead of an integer will result in an error in the future\n",
      "  temp = np.zeros((shape[1], x),dtype=float)\n",
      "../code/tools/detutils.py:89: VisibleDeprecationWarning: using a non-integer number instead of an integer will result in an error in the future\n",
      "  result = np.zeros((shape[0], shape[1]), dtype=float)\n",
      "WARNING: AstropyDeprecationWarning: \"clobber\" was deprecated in version 1.3 and will be removed in a future version. Use argument \"overwrite\" instead. [astropy.utils.decorators]\n",
      "[astropy] AstropyDeprecationWarning: \"clobber\" was deprecated in version 1.3 and will be removed in a future version. Use argument \"overwrite\" instead.\n"
     ]
    }
   ],
   "source": [
    "offaxispsf= '/local/data/nicolaus2/mrizzo/haystacks/for_gsfc/spc_offaxis_psf.fits'\n",
    "cube = fits.open(offaxispsf)[0]\n",
    "print('Processing file '+offaxispsf)\n",
    "Uma47_cube_off_axis = convert_cube(cube,lamlist,Uma47_T,Uma47_Vmag,tel_pupil_area)\n",
    "cube.data*=Uma47_cube_off_axis\n",
    "# adjust headers for slightly different wavelength\n",
    "cube.header['LAM_C']=0.77\n",
    "# by NOT changing the pixelsize, we implicitly assume that the PSF is the same at 770 then at 800\n",
    "#cube.header['PIXSIZE']*=0.8/0.77\n",
    "par.saveDetector=False\n",
    "detectorFrame = propagateIFS(par,lamlist.value/1000.,cube)\n",
    "### NEED TO ADD HEADERS HERE!!!\n",
    "Image(data = detectorFrame).write('OS5/offaxis.fits',clobber=True)"
   ]
  },
  {
   "cell_type": "markdown",
   "metadata": {},
   "source": [
    "### Add off-axis PSF before applying detector"
   ]
  },
  {
   "cell_type": "code",
   "execution_count": 38,
   "metadata": {
    "collapsed": false
   },
   "outputs": [
    {
     "name": "stderr",
     "output_type": "stream",
     "text": [
      "/local/data/nicolaus2/mrizzo/anaconda3/lib/python3.5/site-packages/ipykernel/__main__.py:38: RuntimeWarning: divide by zero encountered in true_divide\n",
      "WARNING: AstropyDeprecationWarning: \"clobber\" was deprecated in version 1.3 and will be removed in a future version. Use argument \"overwrite\" instead. [astropy.utils.decorators]\n",
      "[astropy] AstropyDeprecationWarning: \"clobber\" was deprecated in version 1.3 and will be removed in a future version. Use argument \"overwrite\" instead.\n",
      "WARNING: VerifyWarning: Card is too long, comment will be truncated. [astropy.io.fits.card]\n",
      "[astropy] VerifyWarning: Card is too long, comment will be truncated.\n"
     ]
    }
   ],
   "source": [
    "from tools.detector import readDetector\n",
    "filelist = glob.glob('OS5/os5_spc*.fits')\n",
    "filelist.sort()\n",
    "QE=0.7\n",
    "losses = 0.34\n",
    "Nreads = 10\n",
    "timeframe = 1000. # number of seconds for each frame, set by J Krist\n",
    "\n",
    "contrast = 1e-8 # contrast of planet\n",
    "for reffile in filelist:\n",
    "#     print('Processing file '+reffile.split('/')[-1])\n",
    "    img = Image(filename=reffile)\n",
    "    inttime = timeframe/Nreads\n",
    "    img.data*=QE*losses\n",
    "    # refreshes parameter header\n",
    "    par.makeHeader()\n",
    "    par.hdr.append(('QE',QE,'Quantum efficiency of the detector'),end=True)\n",
    "    par.hdr.append(('LOSS',losses,'Transmission factor for the IFS (J. Krist)'),end=True)\n",
    "    par.hdr.append(('INTTIME',inttime,'Time for each infividual frame'),end=True)\n",
    "    par.hdr.append(('NREADS',Nreads,'Number of frames averaged'),end=True)\n",
    "    par.hdr.append(('EXPTIME',timeframe,'Total exposure time'),end=True)\n",
    "\n",
    "    \n",
    "    # subtract offaxis psf if Uma47 is in filename\n",
    "    if 'Uma47' in reffile:\n",
    "        off_axis_psf = Image(filename='OS5/offaxis.fits')\n",
    "        img.data += contrast*off_axis_psf.data\n",
    "    frame = np.zeros(img.data.shape)\n",
    "    varframe = np.zeros(img.data.shape)\n",
    "    # averaging reads\n",
    "    for i in range(Nreads):\n",
    "        newread = readDetector(par,img,inttime=inttime)\n",
    "        frame += newread\n",
    "        varframe += newread**2\n",
    "    frame /= Nreads\n",
    "    varframe /= Nreads\n",
    "    varframe -= frame**2\n",
    "    outimg = Image(data=frame,ivar=1./varframe,header=par.hdr)\n",
    "    outimg.write('OS5/OS5_with_target_detector/'+reffile.split('/')[-1].split('.')[0]+'_detector.fits',clobber=True)\n"
   ]
  },
  {
   "cell_type": "markdown",
   "metadata": {},
   "source": [
    "### Average the images"
   ]
  },
  {
   "cell_type": "code",
   "execution_count": 39,
   "metadata": {
    "collapsed": false
   },
   "outputs": [
    {
     "name": "stderr",
     "output_type": "stream",
     "text": [
      "WARNING: AstropyDeprecationWarning: \"clobber\" was deprecated in version 1.3 and will be removed in a future version. Use argument \"overwrite\" instead. [astropy.utils.decorators]\n",
      "[astropy] AstropyDeprecationWarning: \"clobber\" was deprecated in version 1.3 and will be removed in a future version. Use argument \"overwrite\" instead.\n"
     ]
    }
   ],
   "source": [
    "beta_Uma_files = glob.glob('OS5/OS5_with_target_detector/*beta*.fits')\n",
    "\n",
    "Uma47_files = glob.glob('OS5/OS5_with_target_detector/*47*.fits')\n",
    "\n",
    "Uma47 = np.zeros(Image(filename=Uma47_files[0]).data.shape)\n",
    "for Uma47_file in Uma47_files:\n",
    "    Uma47 += Image(filename=Uma47_file).data\n",
    "Uma47/=len(Uma47_files)\n",
    "Image(data=Uma47).write('OS5/OS5_average/average_Uma47_offaxis_detector.fits',clobber=True)\n"
   ]
  },
  {
   "cell_type": "markdown",
   "metadata": {},
   "source": [
    "### Reduction"
   ]
  },
  {
   "cell_type": "code",
   "execution_count": 41,
   "metadata": {
    "collapsed": false
   },
   "outputs": [
    {
     "name": "stderr",
     "output_type": "stream",
     "text": [
      "WARNING: AstropyDeprecationWarning: \"clobber\" was deprecated in version 1.3 and will be removed in a future version. Use argument \"overwrite\" instead. [astropy.utils.decorators]\n",
      "[astropy] AstropyDeprecationWarning: \"clobber\" was deprecated in version 1.3 and will be removed in a future version. Use argument \"overwrite\" instead.\n",
      "WARNING: VerifyWarning: Card is too long, comment will be truncated. [astropy.io.fits.card]\n",
      "[astropy] VerifyWarning: Card is too long, comment will be truncated.\n"
     ]
    }
   ],
   "source": [
    "fname='OS5/OS5_average/average_Uma47_offaxis_detector.fits'\n",
    "cube_47_offaxis = reduceIFSMap(par,fname)"
   ]
  },
  {
   "cell_type": "markdown",
   "metadata": {},
   "source": [
    "### Naive PSF subtraction"
   ]
  },
  {
   "cell_type": "code",
   "execution_count": 42,
   "metadata": {
    "collapsed": false
   },
   "outputs": [
    {
     "name": "stderr",
     "output_type": "stream",
     "text": [
      "WARNING: AstropyDeprecationWarning: \"clobber\" was deprecated in version 1.3 and will be removed in a future version. Use argument \"overwrite\" instead. [astropy.utils.decorators]\n",
      "[astropy] AstropyDeprecationWarning: \"clobber\" was deprecated in version 1.3 and will be removed in a future version. Use argument \"overwrite\" instead.\n"
     ]
    }
   ],
   "source": [
    "# naive subtraction\n",
    "residual = cube_47_offaxis.data-10**(0.4*(beta_Uma_Vmag-Uma47_Vmag))*cube_beta.data\n",
    "Image(data=residual).write('OS5/OS5_average/residual_offaxis.fits',clobber=True)\n"
   ]
  },
  {
   "cell_type": "markdown",
   "metadata": {},
   "source": [
    "# SNR calculation"
   ]
  },
  {
   "cell_type": "code",
   "execution_count": 43,
   "metadata": {
    "collapsed": true
   },
   "outputs": [],
   "source": [
    "# still naive subtraction, but subtract off the means\n",
    "cube47_noave = cube_47_offaxis.data - np.nanmean(cube_47_offaxis.data)\n",
    "cubebeta_noave = cube_beta.data - np.nanmean(cube_beta.data)\n",
    "residual = cube47_noave-10**(0.4*(beta_Uma_Vmag-Uma47_Vmag))*cubebeta_noave\n"
   ]
  },
  {
   "cell_type": "markdown",
   "metadata": {},
   "source": [
    "### Construct a matched filter"
   ]
  },
  {
   "cell_type": "code",
   "execution_count": 56,
   "metadata": {
    "collapsed": false
   },
   "outputs": [
    {
     "name": "stdout",
     "output_type": "stream",
     "text": [
      "1644.5393324\n",
      "0.0117783064753\n"
     ]
    }
   ],
   "source": [
    "#offaxis_ideal = reduceIFSMap(par,'OS5/offaxis.fits')\n",
    "matched_filter = contrast*offaxis_ideal.data[0]/np.nansum((contrast*offaxis_ideal.data[0])**2)\n",
    "psf_fit = np.nansum(matched_filter*residual)\n",
    "print(psf_fit)\n",
    "print(np.nanstd(residual[0]))"
   ]
  },
  {
   "cell_type": "code",
   "execution_count": 49,
   "metadata": {
    "collapsed": false
   },
   "outputs": [
    {
     "name": "stdout",
     "output_type": "stream",
     "text": [
      "(17, 108, 108)\n"
     ]
    }
   ],
   "source": [
    "print(offaxis_ideal.data.shape)"
   ]
  },
  {
   "cell_type": "code",
   "execution_count": 51,
   "metadata": {
    "collapsed": false
   },
   "outputs": [
    {
     "data": {
      "image/png": "[encoded data removed]",
      "text/plain": [
       "<matplotlib.figure.Figure at 0x7f35b972f160>"
      ]
     },
     "metadata": {},
     "output_type": "display_data"
    }
   ],
   "source": [
    "import matplotlib.pyplot as plt\n",
    "plt.imshow(offaxis_ideal.data[0],interpolation='nearest')\n",
    "plt.show()"
   ]
  },
  {
   "cell_type": "code",
   "execution_count": null,
   "metadata": {
    "collapsed": true
   },
   "outputs": [],
   "source": []
  },
  {
   "cell_type": "code",
   "execution_count": null,
   "metadata": {
    "collapsed": true
   },
   "outputs": [],
   "source": []
  },
  {
   "cell_type": "code",
   "execution_count": null,
   "metadata": {
    "collapsed": true
   },
   "outputs": [],
   "source": []
  },
  {
   "cell_type": "code",
   "execution_count": null,
   "metadata": {
    "collapsed": true
   },
   "outputs": [],
   "source": []
  },
  {
   "cell_type": "code",
   "execution_count": null,
   "metadata": {
    "collapsed": true
   },
   "outputs": [],
   "source": []
  },
  {
   "cell_type": "code",
   "execution_count": null,
   "metadata": {
    "collapsed": true
   },
   "outputs": [],
   "source": []
  },
  {
   "cell_type": "code",
   "execution_count": null,
   "metadata": {
    "collapsed": true
   },
   "outputs": [],
   "source": []
  },
  {
   "cell_type": "code",
   "execution_count": null,
   "metadata": {
    "collapsed": false
   },
   "outputs": [],
   "source": []
  },
  {
   "cell_type": "code",
   "execution_count": null,
   "metadata": {
    "collapsed": false
   },
   "outputs": [],
   "source": []
  },
  {
   "cell_type": "code",
   "execution_count": null,
   "metadata": {
    "collapsed": false
   },
   "outputs": [],
   "source": []
  },
  {
   "cell_type": "code",
   "execution_count": null,
   "metadata": {
    "collapsed": false
   },
   "outputs": [],
   "source": []
  },
  {
   "cell_type": "code",
   "execution_count": null,
   "metadata": {
    "collapsed": false
   },
   "outputs": [],
   "source": []
  },
  {
   "cell_type": "code",
   "execution_count": null,
   "metadata": {
    "collapsed": false
   },
   "outputs": [],
   "source": []
  },
  {
   "cell_type": "code",
   "execution_count": null,
   "metadata": {
    "collapsed": false
   },
   "outputs": [],
   "source": []
  },
  {
   "cell_type": "code",
   "execution_count": null,
   "metadata": {
    "collapsed": false
   },
   "outputs": [],
   "source": []
  },
  {
   "cell_type": "code",
   "execution_count": null,
   "metadata": {
    "collapsed": false
   },
   "outputs": [],
   "source": []
  },
  {
   "cell_type": "code",
   "execution_count": null,
   "metadata": {
    "collapsed": false
   },
   "outputs": [],
   "source": []
  },
  {
   "cell_type": "code",
   "execution_count": null,
   "metadata": {
    "collapsed": true
   },
   "outputs": [],
   "source": []
  },
  {
   "cell_type": "code",
   "execution_count": null,
   "metadata": {
    "collapsed": true
   },
   "outputs": [],
   "source": []
  },
  {
   "cell_type": "code",
   "execution_count": null,
   "metadata": {
    "collapsed": true
   },
   "outputs": [],
   "source": []
  },
  {
   "cell_type": "code",
   "execution_count": null,
   "metadata": {
    "collapsed": true
   },
   "outputs": [],
   "source": []
  },
  {
   "cell_type": "code",
   "execution_count": null,
   "metadata": {
    "collapsed": true
   },
   "outputs": [],
   "source": []
  },
  {
   "cell_type": "code",
   "execution_count": null,
   "metadata": {
    "collapsed": true
   },
   "outputs": [],
   "source": []
  },
  {
   "cell_type": "code",
   "execution_count": null,
   "metadata": {
    "collapsed": false
   },
   "outputs": [],
   "source": []
  }
 ],
 "metadata": {
  "anaconda-cloud": {},
  "kernelspec": {
   "display_name": "Python [conda root]",
   "language": "python",
   "name": "conda-root-py"
  },
  "language_info": {
   "codemirror_mode": {
    "name": "ipython",
    "version": 3
   },
   "file_extension": ".py",
   "mimetype": "text/x-python",
   "name": "python",
   "nbconvert_exporter": "python",
   "pygments_lexer": "ipython3",
   "version": "3.5.2"
  }
 },
 "nbformat": 4,
 "nbformat_minor": 1
}
