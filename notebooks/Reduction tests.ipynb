{
 "cells": [
  {
   "cell_type": "code",
   "execution_count": 1,
   "metadata": {
    "collapsed": false
   },
   "outputs": [],
   "source": [
    "import os\n",
    "os.chdir('../code')\n",
    "\n",
    "import tools\n",
    "import glob\n",
    "from params import Params\n",
    "import numpy as np\n",
    "import logging as log\n",
    "from tools.initLogger import initLogger\n"
   ]
  },
  {
   "cell_type": "code",
   "execution_count": 2,
   "metadata": {
    "collapsed": false
   },
   "outputs": [],
   "source": [
    "par = Params()\n",
    "# This is the logger system to print to file and to print to console\n",
    "initLogger(par.exportDir+'/IFS.log')\n"
   ]
  },
  {
   "cell_type": "code",
   "execution_count": 3,
   "metadata": {
    "collapsed": false
   },
   "outputs": [
    {
     "name": "stderr",
     "output_type": "stream",
     "text": [
      "2017-02-22 09:02:35,864: INFO     Read data from HDU 1 of unitTestsOutputs/flatfield.fits\n",
      "WARNING: VerifyWarning: Keyword name 'REDUCTION' is greater than 8 characters or contains characters not allowed by the FITS standard; a HIERARCH card will be created. [astropy.io.fits.card]\n",
      "2017-02-22 09:02:35,894: WARNING  VerifyWarning: Keyword name 'REDUCTION' is greater than 8 characters or contains characters not allowed by the FITS standard; a HIERARCH card will be created.\n",
      "2017-02-22 09:02:35,936: INFO     Reduced cube will have 21 wavelength bins\n",
      "tools/reduction.py:765: VisibleDeprecationWarning: using a non-integer number instead of an integer will result in an error in the future\n",
      "  pix_center_vals = np.array([np.sum(im.data[i1:i1 + delt_y, ix[ii]]*np.exp(-dy**2/(sig*lams[ii]/par.FWHMlam)**2/2.)) for ii in range(PSFlet_tool.nlam[i, j])])/weights\n",
      "WARNING: VerifyWarning: Card is too long, comment will be truncated. [astropy.io.fits.card]\n",
      "2017-02-22 09:03:10,262: WARNING  VerifyWarning: Card is too long, comment will be truncated.\n",
      "2017-02-22 09:03:10,290: INFO     Writing data to /Users/mrizzo/IFS/IFS-Simulator/code/SimResults/flatfield_red_optext.fits\n"
     ]
    }
   ],
   "source": [
    "from IFS import reduceIFSMap\n",
    "fname='unitTestsOutputs/flatfield.fits'\n",
    "# cube = reduceIFSMap(par,fname,method='GPI2')\n",
    "cube = reduceIFSMap(par,fname)\n"
   ]
  },
  {
   "cell_type": "code",
   "execution_count": null,
   "metadata": {
    "collapsed": true
   },
   "outputs": [],
   "source": []
  },
  {
   "cell_type": "code",
   "execution_count": 4,
   "metadata": {
    "collapsed": false
   },
   "outputs": [
    {
     "name": "stdout",
     "output_type": "stream",
     "text": [
      "SIMPLE  =                    T / conforms to FITS standard                      BITPIX  =                    8 / array data type                                NAXIS   =                    0 / number of array dimensions                     EXTEND  =                    T                                                  END                                                                                                                                                                                                                                                                                                                                                                                                                                                                                                                                                                                                                                                                                                                                                                                                                                                                                                                                                                                                                                                                                                                                                                                                                                                                                                                                                                                                                                                                                                                                                                                                                                                                                                                                                                                                                                                                                                                                                                                                                                                                                                                                                                                                                                                                                                                                                                                                                                                                                                                                                                                                                                                             \n"
     ]
    }
   ],
   "source": [
    "from astropy.io import fits\n",
    "hdr = fits.PrimaryHDU().header\n",
    "print(hdr)"
   ]
  }
 ],
 "metadata": {
  "anaconda-cloud": {},
  "kernelspec": {
   "display_name": "Python [default]",
   "language": "python",
   "name": "python2"
  },
  "language_info": {
   "codemirror_mode": {
    "name": "ipython",
    "version": 2
   },
   "file_extension": ".py",
   "mimetype": "text/x-python",
   "name": "python",
   "nbconvert_exporter": "python",
   "pygments_lexer": "ipython2",
   "version": "2.7.12"
  }
 },
 "nbformat": 4,
 "nbformat_minor": 1
}
