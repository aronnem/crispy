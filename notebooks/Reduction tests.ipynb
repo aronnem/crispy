{
 "cells": [
  {
   "cell_type": "code",
   "execution_count": 1,
   "metadata": {
    "collapsed": false
   },
   "outputs": [],
   "source": [
    "import os\n",
    "os.chdir('../code')\n",
    "\n",
    "import tools\n",
    "import glob\n",
    "from params import Params\n",
    "import numpy as np\n",
    "import logging as log\n",
    "from tools.initLogger import initLogger\n"
   ]
  },
  {
   "cell_type": "code",
   "execution_count": 2,
   "metadata": {
    "collapsed": false
   },
   "outputs": [],
   "source": [
    "par = Params()\n",
    "# This is the logger system to print to file and to print to console\n",
    "initLogger(par.exportDir+'/IFS.log')\n"
   ]
  },
  {
   "cell_type": "code",
   "execution_count": 3,
   "metadata": {
    "collapsed": false
   },
   "outputs": [
    {
     "name": "stderr",
     "output_type": "stream",
     "text": [
      "2017-02-24 11:38:40,334: INFO     The number of input pixels per lenslet is 3.333333\n",
      "2017-02-24 11:38:40,336: INFO     Import all kernels and rescale them to same plate scale\n",
      "2017-02-24 11:38:40,337: INFO     Loading spot diagrams.\n",
      "2017-02-24 11:38:40,463: INFO     kernel scale average is 1.706 micron per pixel at 890 nm\n",
      "2017-02-24 11:38:40,464: INFO     Resampling kernels to match input\n",
      "2017-02-24 11:38:40,545: INFO     pxprlens: 184.000\n",
      "2017-02-24 11:38:40,603: INFO     Loading spot diagrams.\n",
      "2017-02-24 11:38:40,697: INFO     kernel scale average is 1.475 micron per pixel at 770 nm\n",
      "2017-02-24 11:38:40,698: INFO     Resampling kernels to match input\n",
      "2017-02-24 11:38:40,762: INFO     Padding smaller kernels\n",
      "2017-02-24 11:38:40,809: INFO     Loading spot diagrams.\n",
      "2017-02-24 11:38:40,902: INFO     kernel scale average is 1.264 micron per pixel at 660 nm\n",
      "2017-02-24 11:38:40,903: INFO     Resampling kernels to match input\n",
      "2017-02-24 11:38:40,955: INFO     Padding smaller kernels\n",
      "2017-02-24 11:38:41,026: INFO     Small pixels per lenslet: 184.000000\n",
      "2017-02-24 11:38:41,027: INFO     Final detector pixel per lenslet: 16.000000\n",
      "2017-02-24 11:38:41,027: INFO     Processing wavelength 0.607193 (0 out of 25)\n",
      "2017-02-24 11:38:41,028: WARNING  Wavelength out of range of reference kernels\n",
      "tools/lenslet.py:35: VisibleDeprecationWarning: using a non-integer number instead of an integer will result in an error in the future\n",
      "  paddedImagePlane = np.zeros((imagePlane.shape[0]*np.sqrt(2),imagePlane.shape[1]*np.sqrt(2)))\n",
      "tools/lenslet.py:42: VisibleDeprecationWarning: using a non-integer number instead of an integer will result in an error in the future\n",
      "  paddedImagePlane[xpad:-xpad,ypad:-ypad] = imagePlane\n",
      "tools/detutils.py:64: VisibleDeprecationWarning: using a non-integer number instead of an integer will result in an error in the future\n",
      "  temp = np.zeros((shape[1], x),dtype=float)\n",
      "tools/detutils.py:89: VisibleDeprecationWarning: using a non-integer number instead of an integer will result in an error in the future\n",
      "  result = np.zeros((shape[0], shape[1]), dtype=float)\n",
      "2017-02-24 11:38:44,009: INFO     Processing wavelength 0.611604 (1 out of 25)\n",
      "2017-02-24 11:38:44,010: WARNING  Wavelength out of range of reference kernels\n",
      "2017-02-24 11:38:46,269: INFO     Processing wavelength 0.616047 (2 out of 25)\n",
      "2017-02-24 11:38:46,269: WARNING  Wavelength out of range of reference kernels\n",
      "2017-02-24 11:38:48,526: INFO     Processing wavelength 0.620522 (3 out of 25)\n",
      "2017-02-24 11:38:48,527: WARNING  Wavelength out of range of reference kernels\n",
      "2017-02-24 11:38:50,819: INFO     Processing wavelength 0.625029 (4 out of 25)\n",
      "2017-02-24 11:38:50,820: WARNING  Wavelength out of range of reference kernels\n",
      "2017-02-24 11:38:53,092: INFO     Processing wavelength 0.629569 (5 out of 25)\n",
      "2017-02-24 11:38:53,093: WARNING  Wavelength out of range of reference kernels\n",
      "2017-02-24 11:38:55,343: INFO     Processing wavelength 0.634142 (6 out of 25)\n",
      "2017-02-24 11:38:55,344: WARNING  Wavelength out of range of reference kernels\n",
      "2017-02-24 11:38:57,595: INFO     Processing wavelength 0.638749 (7 out of 25)\n",
      "2017-02-24 11:38:57,596: WARNING  Wavelength out of range of reference kernels\n",
      "2017-02-24 11:38:59,882: INFO     Processing wavelength 0.643389 (8 out of 25)\n",
      "2017-02-24 11:38:59,883: WARNING  Wavelength out of range of reference kernels\n",
      "2017-02-24 11:39:02,218: INFO     Processing wavelength 0.648062 (9 out of 25)\n",
      "2017-02-24 11:39:02,219: WARNING  Wavelength out of range of reference kernels\n",
      "2017-02-24 11:39:04,470: INFO     Processing wavelength 0.652770 (10 out of 25)\n",
      "2017-02-24 11:39:04,470: WARNING  Wavelength out of range of reference kernels\n",
      "2017-02-24 11:39:06,731: INFO     Processing wavelength 0.657512 (11 out of 25)\n",
      "2017-02-24 11:39:06,732: WARNING  Wavelength out of range of reference kernels\n",
      "2017-02-24 11:39:08,946: INFO     Processing wavelength 0.662288 (12 out of 25)\n",
      "2017-02-24 11:39:11,198: INFO     Processing wavelength 0.667099 (13 out of 25)\n",
      "2017-02-24 11:39:13,470: INFO     Processing wavelength 0.671944 (14 out of 25)\n",
      "2017-02-24 11:39:15,715: INFO     Processing wavelength 0.676825 (15 out of 25)\n",
      "2017-02-24 11:39:17,954: INFO     Processing wavelength 0.681742 (16 out of 25)\n",
      "2017-02-24 11:39:20,214: INFO     Processing wavelength 0.686694 (17 out of 25)\n",
      "2017-02-24 11:39:22,458: INFO     Processing wavelength 0.691682 (18 out of 25)\n",
      "2017-02-24 11:39:24,725: INFO     Processing wavelength 0.696706 (19 out of 25)\n",
      "2017-02-24 11:39:26,970: INFO     Processing wavelength 0.701767 (20 out of 25)\n",
      "2017-02-24 11:39:29,207: INFO     Processing wavelength 0.706865 (21 out of 25)\n",
      "2017-02-24 11:39:31,435: INFO     Processing wavelength 0.712000 (22 out of 25)\n",
      "2017-02-24 11:39:33,686: INFO     Processing wavelength 0.717172 (23 out of 25)\n",
      "2017-02-24 11:39:35,931: INFO     Processing wavelength 0.722381 (24 out of 25)\n",
      "2017-02-24 11:39:38,211: INFO     Number of detector pixels per lenslet: 13.384615\n",
      "2017-02-24 11:39:38,213: INFO     Rebinning final detector. Image has dimensions 1024x1024\n",
      "2017-02-24 11:39:38,548: INFO     Done.\n",
      "2017-02-24 11:39:38,550: INFO     Performance: 58 seconds total\n",
      "WARNING: VerifyWarning: Card is too long, comment will be truncated. [astropy.io.fits.card]\n",
      "2017-02-24 11:39:38,651: WARNING  VerifyWarning: Card is too long, comment will be truncated.\n",
      "2017-02-24 11:39:38,686: INFO     Writing data to /Users/mrizzo/IFS/IFS-Simulator/code/unitTestsOutputs/flatfield.fits\n"
     ]
    }
   ],
   "source": [
    "from unitTests import testCreateFlatfield\n",
    "testCreateFlatfield(par,lam1=605.,lam2=725.,nlam=26,parallel=False)"
   ]
  },
  {
   "cell_type": "code",
   "execution_count": 3,
   "metadata": {
    "collapsed": false
   },
   "outputs": [
    {
     "name": "stderr",
     "output_type": "stream",
     "text": [
      "2017-02-24 11:10:55,150: INFO     Read data from HDU 1 of unitTestsOutputs/flatfield.fits\n",
      "2017-02-24 11:10:55,172: INFO     Reduced cube will have 21 wavelength bins\n",
      "tools/reduction.py:765: VisibleDeprecationWarning: using a non-integer number instead of an integer will result in an error in the future\n",
      "  pix_center_vals = np.array([np.sum(im.data[i1:i1 + delt_y, ix[ii]]*np.exp(-dy**2/(sig*lams[ii]/par.FWHMlam)**2/2.)) for ii in range(PSFlet_tool.nlam[i, j])])/weights\n",
      "WARNING: VerifyWarning: Card is too long, comment will be truncated. [astropy.io.fits.card]\n",
      "2017-02-24 11:11:30,588: WARNING  VerifyWarning: Card is too long, comment will be truncated.\n",
      "2017-02-24 11:11:30,608: INFO     Writing data to /Users/mrizzo/IFS/IFS-Simulator/code/SimResults/flatfield_red_optext.fits\n"
     ]
    }
   ],
   "source": [
    "from IFS import reduceIFSMap\n",
    "fname='unitTestsOutputs/flatfield.fits'\n",
    "# cube = reduceIFSMap(par,fname,method='GPI2')\n",
    "cube = reduceIFSMap(par,fname)\n"
   ]
  },
  {
   "cell_type": "code",
   "execution_count": null,
   "metadata": {
    "collapsed": true
   },
   "outputs": [],
   "source": []
  },
  {
   "cell_type": "markdown",
   "metadata": {
    "collapsed": true
   },
   "source": []
  },
  {
   "cell_type": "code",
   "execution_count": 7,
   "metadata": {
    "collapsed": false
   },
   "outputs": [],
   "source": [
    "from scipy.stats import rv_continuous\n",
    "class gaussian_gen(rv_continuous):\n",
    "    'Gaussian distribution'\n",
    "    def _pdf(self, x):\n",
    "        return np.exp(-x**2 / 2.) / np.sqrt(2.0 * np.pi)\n",
    "gaussian = gaussian_gen(name='gaussian')\n"
   ]
  },
  {
   "cell_type": "code",
   "execution_count": 31,
   "metadata": {
    "collapsed": false
   },
   "outputs": [
    {
     "data": {
      "text/plain": [
       "array([[ 2.39969035,  1.1127261 ,  3.5362119 , ...,  3.07432431,\n",
       "         3.95169596,  2.22131644],\n",
       "       [ 4.18430007,  3.05904612,  2.53717115, ...,  1.59505319,\n",
       "         1.6544291 ,  2.54784275],\n",
       "       [ 3.0732    ,  3.63461718,  2.45769016, ...,  3.87319923,\n",
       "         2.41672943,  1.57491568],\n",
       "       ..., \n",
       "       [ 4.47056154,  4.99605505,  3.85229148, ...,  2.98177843,\n",
       "         3.34115429,  3.38944843],\n",
       "       [ 3.63751081,  4.00857592,  3.16963112, ...,  2.50724407,\n",
       "         2.88193942,  4.43956737],\n",
       "       [ 3.13285764,  3.67147607,  3.29904621, ...,  2.98807965,\n",
       "         1.55282267,  3.14694335]])"
      ]
     },
     "execution_count": 31,
     "metadata": {},
     "output_type": "execute_result"
    }
   ],
   "source": [
    "gaussian.rvs(np.ones((100,100))*3)"
   ]
  },
  {
   "cell_type": "code",
   "execution_count": 3,
   "metadata": {
    "collapsed": false
   },
   "outputs": [],
   "source": [
    "from tools.image import Image\n",
    "from tools.detector import readDetector\n"
   ]
  },
  {
   "cell_type": "code",
   "execution_count": 4,
   "metadata": {
    "collapsed": false
   },
   "outputs": [
    {
     "name": "stderr",
     "output_type": "stream",
     "text": [
      "2017-02-23 13:27:02,507: INFO     Read data from HDU 1 of /Users/mrizzo/IFS/IFS-Simulator/code/unitTestsOutputs/flatfield.fits\n",
      "WARNING: VerifyWarning: Card is too long, comment will be truncated. [astropy.io.fits.card]\n",
      "2017-02-23 13:27:02,684: WARNING  VerifyWarning: Card is too long, comment will be truncated.\n",
      "2017-02-23 13:27:02,741: INFO     Writing data to /Users/mrizzo/IFS/IFS-Simulator/code/unitTestsOutputs/flatfield_Poisson.fits\n"
     ]
    }
   ],
   "source": [
    "flat = Image(filename=par.unitTestsOutputs+'/flatfield.fits')\n",
    "\n",
    "read=readDetector(par,flat,inttime=1000,append_header=True)\n",
    "newImage = Image(data=read,header=par.hdr)\n",
    "newImage.write(par.unitTestsOutputs+'/flatfield_Poisson.fits',clobber=True)\n"
   ]
  },
  {
   "cell_type": "code",
   "execution_count": 32,
   "metadata": {
    "collapsed": true
   },
   "outputs": [],
   "source": [
    "log.shutdown()"
   ]
  }
 ],
 "metadata": {
  "anaconda-cloud": {},
  "kernelspec": {
   "display_name": "Python [default]",
   "language": "python",
   "name": "python2"
  },
  "language_info": {
   "codemirror_mode": {
    "name": "ipython",
    "version": 2
   },
   "file_extension": ".py",
   "mimetype": "text/x-python",
   "name": "python",
   "nbconvert_exporter": "python",
   "pygments_lexer": "ipython2",
   "version": "2.7.12"
  }
 },
 "nbformat": 4,
 "nbformat_minor": 1
}
