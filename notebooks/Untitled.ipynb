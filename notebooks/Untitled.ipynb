{
 "cells": [
  {
   "cell_type": "code",
   "execution_count": 1,
   "metadata": {
    "collapsed": false
   },
   "outputs": [],
   "source": [
    "import os\n",
    "os.chdir('../code')\n",
    "\n",
    "import tools\n",
    "import glob\n",
    "from PISCESparams import Params\n",
    "import numpy as np\n",
    "import logging as log\n",
    "from tools.initLogger import initLogger\n"
   ]
  },
  {
   "cell_type": "code",
   "execution_count": 2,
   "metadata": {
    "collapsed": true
   },
   "outputs": [],
   "source": [
    "par = Params()\n",
    "\n",
    "# This is the logger system to print to file and to print to console\n",
    "initLogger(par.exportDir+'/IFS.log')\n",
    "par.lamlist = np.arange(605,725+1,10)\n",
    "par.filelist = np.sort(glob.glob(par.wavecalDir + \"Calibra*.FIT\"))\n"
   ]
  },
  {
   "cell_type": "code",
   "execution_count": 3,
   "metadata": {
    "collapsed": false
   },
   "outputs": [
    {
     "data": {
      "text/plain": [
       "1.0"
      ]
     },
     "execution_count": 3,
     "metadata": {},
     "output_type": "execute_result"
    }
   ],
   "source": [
    "x=1.2\n",
    "np.floor(x)"
   ]
  },
  {
   "cell_type": "code",
   "execution_count": 4,
   "metadata": {
    "collapsed": false
   },
   "outputs": [
    {
     "name": "stderr",
     "output_type": "stream",
     "text": [
      "2017-02-13 11:37:34,352: INFO     Read data from HDU 1 of unitTestsOutputs/flatfield.fits\n",
      "2017-02-13 11:37:34,355: INFO     GPI Method 2 reduction\n",
      "tools/reduction.py:296: RuntimeWarning: invalid value encountered in less\n",
      "  ycenter[~((xcenter<xdim)*(ycenter<ydim)*(xcenter>xmargin)*(ycenter>ymargin))] = np.nan\n",
      "tools/reduction.py:296: RuntimeWarning: invalid value encountered in greater\n",
      "  ycenter[~((xcenter<xdim)*(ycenter<ydim)*(xcenter>xmargin)*(ycenter>ymargin))] = np.nan\n",
      "2017-02-13 11:37:34,466: INFO     Wavelength = 605.0\n",
      "2017-02-13 11:37:40,301: INFO     Wavelength = 609.6\n",
      "2017-02-13 11:37:51,079: INFO     Wavelength = 614.2\n",
      "2017-02-13 11:38:00,212: INFO     Wavelength = 618.8\n",
      "2017-02-13 11:38:12,113: INFO     Wavelength = 623.5\n",
      "2017-02-13 11:38:19,921: INFO     Wavelength = 628.1\n",
      "2017-02-13 11:38:29,763: INFO     Wavelength = 632.7\n",
      "2017-02-13 11:38:38,396: INFO     Wavelength = 637.3\n",
      "2017-02-13 11:38:45,902: INFO     Wavelength = 641.9\n",
      "2017-02-13 11:38:51,673: INFO     Wavelength = 646.5\n",
      "2017-02-13 11:38:59,551: INFO     Wavelength = 651.2\n",
      "2017-02-13 11:39:03,843: INFO     Wavelength = 655.8\n",
      "2017-02-13 11:39:08,924: INFO     Wavelength = 660.4\n",
      "2017-02-13 11:39:15,154: INFO     Wavelength = 665.0\n",
      "2017-02-13 11:39:20,666: INFO     Wavelength = 669.6\n",
      "2017-02-13 11:39:25,471: INFO     Wavelength = 674.2\n",
      "2017-02-13 11:39:29,607: INFO     Wavelength = 678.8\n",
      "2017-02-13 11:39:35,716: INFO     Wavelength = 683.5\n",
      "2017-02-13 11:39:39,973: INFO     Wavelength = 688.1\n",
      "2017-02-13 11:39:44,358: INFO     Wavelength = 692.7\n",
      "2017-02-13 11:39:46,495: INFO     Wavelength = 697.3\n",
      "2017-02-13 11:39:48,438: INFO     Wavelength = 701.9\n",
      "2017-02-13 11:39:50,446: INFO     Wavelength = 706.5\n",
      "2017-02-13 11:39:52,686: INFO     Wavelength = 711.2\n",
      "2017-02-13 11:39:55,632: INFO     Wavelength = 715.8\n",
      "2017-02-13 11:39:59,849: INFO     Wavelength = 720.4\n"
     ]
    }
   ],
   "source": [
    "from IFS import reduceIFSMap\n",
    "fname='unitTestsOutputs/flatfield.fits'\n",
    "cube = reduceIFSMap(par,fname,method='GPI2')\n"
   ]
  },
  {
   "cell_type": "code",
   "execution_count": null,
   "metadata": {
    "collapsed": true
   },
   "outputs": [],
   "source": []
  }
 ],
 "metadata": {
  "anaconda-cloud": {},
  "kernelspec": {
   "display_name": "Python [default]",
   "language": "python",
   "name": "python2"
  },
  "language_info": {
   "codemirror_mode": {
    "name": "ipython",
    "version": 2
   },
   "file_extension": ".py",
   "mimetype": "text/x-python",
   "name": "python",
   "nbconvert_exporter": "python",
   "pygments_lexer": "ipython2",
   "version": "2.7.12"
  }
 },
 "nbformat": 4,
 "nbformat_minor": 1
}
