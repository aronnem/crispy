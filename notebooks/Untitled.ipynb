{
 "cells": [
  {
   "cell_type": "code",
   "execution_count": 1,
   "metadata": {
    "collapsed": false
   },
   "outputs": [],
   "source": [
    "import os\n",
    "os.chdir('../code')\n",
    "\n",
    "import tools\n",
    "import glob\n",
    "from params import Params\n",
    "import numpy as np\n",
    "import logging as log\n",
    "from tools.initLogger import initLogger\n"
   ]
  },
  {
   "cell_type": "code",
   "execution_count": 2,
   "metadata": {
    "collapsed": false
   },
   "outputs": [],
   "source": [
    "par = Params()\n",
    "# This is the logger system to print to file and to print to console\n",
    "initLogger(par.exportDir+'/IFS.log')\n",
    "par.lamlist = np.arange(605,725+1,10)\n",
    "par.filelist = np.sort(glob.glob(par.wavecalDir + \"Calibra*.FIT\"))\n"
   ]
  },
  {
   "cell_type": "code",
   "execution_count": 3,
   "metadata": {
    "collapsed": false
   },
   "outputs": [
    {
     "data": {
      "text/plain": [
       "1.0"
      ]
     },
     "execution_count": 3,
     "metadata": {},
     "output_type": "execute_result"
    }
   ],
   "source": [
    "x=1.2\n",
    "np.floor(x)"
   ]
  },
  {
   "cell_type": "code",
   "execution_count": 4,
   "metadata": {
    "collapsed": false
   },
   "outputs": [
    {
     "name": "stderr",
     "output_type": "stream",
     "text": [
      "2017-02-13 16:11:50,110: INFO     Read data from HDU 1 of unitTestsOutputs/flatfield.fits\n",
      "2017-02-13 16:11:50,135: INFO     Reduced cube will have 21 wavelength bins\n",
      "tools/reduction.py:767: VisibleDeprecationWarning: using a non-integer number instead of an integer will result in an error in the future\n",
      "  pix_center_vals = np.array([np.sum(im.data[i1:i1 + delt_y, ix[ii]]*np.exp(-dy**2/(sig)**2/2.)) for ii in range(PSFlet_tool.nlam[i, j])])/weights\n",
      "2017-02-13 16:12:23,077: INFO     Writing data to /Users/mrizzo/IFS/IFS-Simulator/code/SimResults/flatfield_red_intopt.fits\n"
     ]
    }
   ],
   "source": [
    "from IFS import reduceIFSMap\n",
    "fname='unitTestsOutputs/flatfield.fits'\n",
    "# cube = reduceIFSMap(par,fname,method='GPI2')\n",
    "cube = reduceIFSMap(par,fname,method='intopt')\n"
   ]
  },
  {
   "cell_type": "code",
   "execution_count": null,
   "metadata": {
    "collapsed": true
   },
   "outputs": [],
   "source": []
  },
  {
   "cell_type": "code",
   "execution_count": null,
   "metadata": {
    "collapsed": true
   },
   "outputs": [],
   "source": []
  }
 ],
 "metadata": {
  "anaconda-cloud": {},
  "kernelspec": {
   "display_name": "Python [default]",
   "language": "python",
   "name": "python2"
  },
  "language_info": {
   "codemirror_mode": {
    "name": "ipython",
    "version": 2
   },
   "file_extension": ".py",
   "mimetype": "text/x-python",
   "name": "python",
   "nbconvert_exporter": "python",
   "pygments_lexer": "ipython2",
   "version": "2.7.12"
  }
 },
 "nbformat": 4,
 "nbformat_minor": 1
}
