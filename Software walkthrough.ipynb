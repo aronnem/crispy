{
 "cells": [
  {
   "cell_type": "markdown",
   "metadata": {},
   "source": [
    "# IFS Software walkthrough"
   ]
  },
  {
   "cell_type": "markdown",
   "metadata": {},
   "source": [
    "Use the software to generate monochromatic images for wavelength calibration (optional)"
   ]
  },
  {
   "cell_type": "code",
   "execution_count": 1,
   "metadata": {
    "collapsed": true
   },
   "outputs": [],
   "source": [
    "import tools\n",
    "import glob\n",
    "from params import Params\n",
    "import numpy as np\n",
    "import logging as log\n",
    "from tools.initLogger import initLogger\n",
    "\n"
   ]
  },
  {
   "cell_type": "markdown",
   "metadata": {},
   "source": [
    "Load the parameter class defining the IFS, params.py. All parameters can be changed here. Note there might be combinations of parameters which might be inconsistent. At the same time as loading the parameters, start a logger."
   ]
  },
  {
   "cell_type": "code",
   "execution_count": 2,
   "metadata": {
    "collapsed": true
   },
   "outputs": [],
   "source": [
    "par = Params()\n",
    "initLogger(par.exportDir+'/IFS.log')\n",
    "par.R = 110"
   ]
  },
  {
   "cell_type": "code",
   "execution_count": 3,
   "metadata": {
    "collapsed": true
   },
   "outputs": [],
   "source": [
    "lamlist = np.arange(605,725+1,10)\n",
    "\n"
   ]
  },
  {
   "cell_type": "code",
   "execution_count": 4,
   "metadata": {
    "collapsed": false
   },
   "outputs": [],
   "source": [
    "# from tools.wavecal import createWavecalFiles\n",
    "# createWavecalFiles(par,lamlist=lamlist)"
   ]
  },
  {
   "cell_type": "markdown",
   "metadata": {},
   "source": [
    "## Compute wavelength calibration"
   ]
  },
  {
   "cell_type": "markdown",
   "metadata": {},
   "source": [
    "Initialize the list of wavelength and a list of files corresponding to monochromatic wavelengths flatfields"
   ]
  },
  {
   "cell_type": "code",
   "execution_count": 4,
   "metadata": {
    "collapsed": false
   },
   "outputs": [],
   "source": [
    "par.lamlist = lamlist\n",
    "par.filelist = np.sort(glob.glob(par.wavecalDir + \"det*.fits\"))\n"
   ]
  },
  {
   "cell_type": "markdown",
   "metadata": {},
   "source": [
    "Run the main calibration routine; this creates the wavelength solution, the high-resolution PSFlets, and the polychrome cube which is used in least squares extraction."
   ]
  },
  {
   "cell_type": "code",
   "execution_count": 5,
   "metadata": {
    "collapsed": false,
    "scrolled": false
   },
   "outputs": [
    {
     "name": "stderr",
     "output_type": "stream",
     "text": [
      "2017-02-01 20:01:55,172: INFO     Building calibration files, placing results in /Users/mrizzo/IFS/IFS-Simulator/ReferenceFiles/wavecal/\n",
      "2017-02-01 20:01:55,192: INFO     Read data from HDU 1 of /Users/mrizzo/IFS/IFS-Simulator/ReferenceFiles/wavecal/det_605.fits\n",
      "2017-02-01 20:01:55,197: INFO     Read data from HDU 1 of /Users/mrizzo/IFS/IFS-Simulator/ReferenceFiles/wavecal/det_605.fits\n",
      "2017-02-01 20:01:55,209: INFO     Read data from HDU 1 of /Users/mrizzo/IFS/IFS-Simulator/ReferenceFiles/wavecal/det_615.fits\n",
      "2017-02-01 20:01:55,220: INFO     Read data from HDU 1 of /Users/mrizzo/IFS/IFS-Simulator/ReferenceFiles/wavecal/det_625.fits\n",
      "2017-02-01 20:01:55,232: INFO     Read data from HDU 1 of /Users/mrizzo/IFS/IFS-Simulator/ReferenceFiles/wavecal/det_635.fits\n",
      "2017-02-01 20:01:55,243: INFO     Read data from HDU 1 of /Users/mrizzo/IFS/IFS-Simulator/ReferenceFiles/wavecal/det_645.fits\n",
      "2017-02-01 20:01:55,254: INFO     Read data from HDU 1 of /Users/mrizzo/IFS/IFS-Simulator/ReferenceFiles/wavecal/det_655.fits\n",
      "2017-02-01 20:01:55,267: INFO     Read data from HDU 1 of /Users/mrizzo/IFS/IFS-Simulator/ReferenceFiles/wavecal/det_665.fits\n",
      "2017-02-01 20:01:55,277: INFO     Read data from HDU 1 of /Users/mrizzo/IFS/IFS-Simulator/ReferenceFiles/wavecal/det_675.fits\n",
      "2017-02-01 20:01:55,289: INFO     Read data from HDU 1 of /Users/mrizzo/IFS/IFS-Simulator/ReferenceFiles/wavecal/det_685.fits\n",
      "2017-02-01 20:01:55,300: INFO     Read data from HDU 1 of /Users/mrizzo/IFS/IFS-Simulator/ReferenceFiles/wavecal/det_695.fits\n",
      "2017-02-01 20:01:55,312: INFO     Read data from HDU 1 of /Users/mrizzo/IFS/IFS-Simulator/ReferenceFiles/wavecal/det_705.fits\n",
      "2017-02-01 20:01:55,323: INFO     Read data from HDU 1 of /Users/mrizzo/IFS/IFS-Simulator/ReferenceFiles/wavecal/det_715.fits\n",
      "2017-02-01 20:01:55,335: INFO     Read data from HDU 1 of /Users/mrizzo/IFS/IFS-Simulator/ReferenceFiles/wavecal/det_725.fits\n",
      "2017-02-01 20:01:55,343: INFO     Loading wavelength solution from /Users/mrizzo/IFS/IFS-Simulator/ReferenceFiles/wavecal/lamsol.dat\n",
      "2017-02-01 20:01:55,346: INFO     Computing wavelength values at pixel centers\n",
      "2017-02-01 20:01:57,588: INFO     Making high-resolution PSFLet models\n",
      "2017-02-01 20:01:57,589: INFO     Starting parallel computation\n",
      "tools/wavecal.py:368: VisibleDeprecationWarning: using a non-integer number instead of an integer will result in an error in the future\n",
      "  subim[k, iy::upsample, ix::upsample] = cutout\n",
      "tools/wavecal.py:368: VisibleDeprecationWarning: using a non-integer number instead of an integer will result in an error in the future\n",
      "  subim[k, iy::upsample, ix::upsample] = cutout\n",
      "tools/wavecal.py:368: VisibleDeprecationWarning: using a non-integer number instead of an integer will result in an error in the future\n",
      "  subim[k, iy::upsample, ix::upsample] = cutout\n",
      "tools/wavecal.py:368: VisibleDeprecationWarning: using a non-integer number instead of an integer will result in an error in the future\n",
      "  subim[k, iy::upsample, ix::upsample] = cutout\n",
      "tools/wavecal.py:368: VisibleDeprecationWarning: using a non-integer number instead of an integer will result in an error in the future\n",
      "  subim[k, iy::upsample, ix::upsample] = cutout\n",
      "tools/wavecal.py:368: VisibleDeprecationWarning: using a non-integer number instead of an integer will result in an error in the future\n",
      "  subim[k, iy::upsample, ix::upsample] = cutout\n",
      "tools/wavecal.py:368: VisibleDeprecationWarning: using a non-integer number instead of an integer will result in an error in the future\n",
      "  subim[k, iy::upsample, ix::upsample] = cutout\n",
      "tools/wavecal.py:368: VisibleDeprecationWarning: using a non-integer number instead of an integer will result in an error in the future\n",
      "  subim[k, iy::upsample, ix::upsample] = cutout\n",
      "2017-02-01 20:02:25,741: INFO     Reduced cube will have 21 wavelength bins\n",
      "2017-02-01 20:02:25,746: INFO     Making polychrome cube\n",
      "2017-02-01 20:03:47,761: INFO     Saving polychrome cube\n"
     ]
    },
    {
     "name": "stdout",
     "output_type": "stream",
     "text": [
      "Total time elapsed: 113 s\n"
     ]
    }
   ],
   "source": [
    "from tools.wavecal import buildcalibrations\n",
    "buildcalibrations(par,parallel=True,genwavelengthsol=False)"
   ]
  },
  {
   "cell_type": "markdown",
   "metadata": {},
   "source": [
    "# Create an artificial flatfield"
   ]
  },
  {
   "cell_type": "code",
   "execution_count": 3,
   "metadata": {
    "collapsed": false
   },
   "outputs": [
    {
     "name": "stderr",
     "output_type": "stream",
     "text": [
      "2017-02-01 21:51:19,851: INFO     The number of input pixels per lenslet is 3.000000\n",
      "2017-02-01 21:51:19,852: INFO     The plate scale of the input cube is 58.000000 um/pixel\n",
      "2017-02-01 21:51:19,853: INFO     Import all kernels and rescale them to same plate scale\n",
      "2017-02-01 21:51:19,854: INFO     Loading spot diagrams.\n",
      "2017-02-01 21:51:20,008: INFO     kernel scale average is 1.706 micron per pixel at 890 nm\n",
      "2017-02-01 21:51:20,009: INFO     Resampling kernels to match input\n",
      "2017-02-01 21:51:20,100: INFO     pxprlens: 184.000\n",
      "2017-02-01 21:51:20,148: INFO     Loading spot diagrams.\n",
      "2017-02-01 21:51:20,198: INFO     kernel scale average is 1.475 micron per pixel at 770 nm\n",
      "2017-02-01 21:51:20,199: INFO     Resampling kernels to match input\n",
      "2017-02-01 21:51:20,263: INFO     Padding smaller kernels\n",
      "2017-02-01 21:51:20,309: INFO     Loading spot diagrams.\n",
      "2017-02-01 21:51:20,355: INFO     kernel scale average is 1.264 micron per pixel at 660 nm\n",
      "2017-02-01 21:51:20,356: INFO     Resampling kernels to match input\n",
      "2017-02-01 21:51:20,406: INFO     Padding smaller kernels\n",
      "2017-02-01 21:51:20,474: INFO     Small pixels per lenslet: 184.000000\n",
      "2017-02-01 21:51:20,475: INFO     Final detector pixel per lenslet: 16.000000\n",
      "2017-02-01 21:51:20,476: INFO     Processing wavelength 0.605367 (0 out of 149)\n",
      "2017-02-01 21:51:20,476: WARNING  Wavelength out of range of reference kernels\n",
      "tools/detutils.py:37: VisibleDeprecationWarning: using a non-integer number instead of an integer will result in an error in the future\n",
      "  temp = np.zeros((shape[1], x),dtype=float)\n",
      "tools/detutils.py:62: VisibleDeprecationWarning: using a non-integer number instead of an integer will result in an error in the future\n",
      "  result = np.zeros((shape[0], shape[1]), dtype=float)\n",
      "2017-02-01 21:51:23,314: INFO     Processing wavelength 0.606103 (1 out of 149)\n",
      "2017-02-01 21:51:23,315: WARNING  Wavelength out of range of reference kernels\n",
      "2017-02-01 21:51:25,539: INFO     Processing wavelength 0.606840 (2 out of 149)\n",
      "2017-02-01 21:51:25,539: WARNING  Wavelength out of range of reference kernels\n",
      "2017-02-01 21:51:27,846: INFO     Processing wavelength 0.607577 (3 out of 149)\n",
      "2017-02-01 21:51:27,847: WARNING  Wavelength out of range of reference kernels\n",
      "2017-02-01 21:51:30,233: INFO     Processing wavelength 0.608315 (4 out of 149)\n",
      "2017-02-01 21:51:30,234: WARNING  Wavelength out of range of reference kernels\n",
      "2017-02-01 21:51:32,566: INFO     Processing wavelength 0.609054 (5 out of 149)\n",
      "2017-02-01 21:51:32,567: WARNING  Wavelength out of range of reference kernels\n",
      "2017-02-01 21:51:34,783: INFO     Processing wavelength 0.609794 (6 out of 149)\n",
      "2017-02-01 21:51:34,784: WARNING  Wavelength out of range of reference kernels\n",
      "2017-02-01 21:51:37,269: INFO     Processing wavelength 0.610535 (7 out of 149)\n",
      "2017-02-01 21:51:37,270: WARNING  Wavelength out of range of reference kernels\n",
      "2017-02-01 21:51:39,787: INFO     Processing wavelength 0.611277 (8 out of 149)\n",
      "2017-02-01 21:51:39,787: WARNING  Wavelength out of range of reference kernels\n",
      "2017-02-01 21:51:42,096: INFO     Processing wavelength 0.612020 (9 out of 149)\n",
      "2017-02-01 21:51:42,097: WARNING  Wavelength out of range of reference kernels\n",
      "2017-02-01 21:51:44,401: INFO     Processing wavelength 0.612764 (10 out of 149)\n",
      "2017-02-01 21:51:44,402: WARNING  Wavelength out of range of reference kernels\n",
      "2017-02-01 21:51:46,735: INFO     Processing wavelength 0.613508 (11 out of 149)\n",
      "2017-02-01 21:51:46,736: WARNING  Wavelength out of range of reference kernels\n",
      "2017-02-01 21:51:49,064: INFO     Processing wavelength 0.614254 (12 out of 149)\n",
      "2017-02-01 21:51:49,064: WARNING  Wavelength out of range of reference kernels\n",
      "2017-02-01 21:51:51,421: INFO     Processing wavelength 0.615000 (13 out of 149)\n",
      "2017-02-01 21:51:51,422: WARNING  Wavelength out of range of reference kernels\n",
      "2017-02-01 21:51:53,716: INFO     Processing wavelength 0.615748 (14 out of 149)\n",
      "2017-02-01 21:51:53,717: WARNING  Wavelength out of range of reference kernels\n",
      "2017-02-01 21:51:56,057: INFO     Processing wavelength 0.616496 (15 out of 149)\n",
      "2017-02-01 21:51:56,058: WARNING  Wavelength out of range of reference kernels\n",
      "2017-02-01 21:51:58,404: INFO     Processing wavelength 0.617245 (16 out of 149)\n",
      "2017-02-01 21:51:58,405: WARNING  Wavelength out of range of reference kernels\n",
      "2017-02-01 21:52:00,662: INFO     Processing wavelength 0.617995 (17 out of 149)\n",
      "2017-02-01 21:52:00,663: WARNING  Wavelength out of range of reference kernels\n",
      "2017-02-01 21:52:03,010: INFO     Processing wavelength 0.618746 (18 out of 149)\n",
      "2017-02-01 21:52:03,011: WARNING  Wavelength out of range of reference kernels\n",
      "2017-02-01 21:52:05,340: INFO     Processing wavelength 0.619498 (19 out of 149)\n",
      "2017-02-01 21:52:05,341: WARNING  Wavelength out of range of reference kernels\n",
      "2017-02-01 21:52:07,622: INFO     Processing wavelength 0.620250 (20 out of 149)\n",
      "2017-02-01 21:52:07,623: WARNING  Wavelength out of range of reference kernels\n",
      "2017-02-01 21:52:09,888: INFO     Processing wavelength 0.621004 (21 out of 149)\n",
      "2017-02-01 21:52:09,889: WARNING  Wavelength out of range of reference kernels\n",
      "2017-02-01 21:52:12,095: INFO     Processing wavelength 0.621759 (22 out of 149)\n",
      "2017-02-01 21:52:12,096: WARNING  Wavelength out of range of reference kernels\n",
      "2017-02-01 21:52:14,400: INFO     Processing wavelength 0.622514 (23 out of 149)\n",
      "2017-02-01 21:52:14,401: WARNING  Wavelength out of range of reference kernels\n",
      "2017-02-01 21:52:16,695: INFO     Processing wavelength 0.623271 (24 out of 149)\n",
      "2017-02-01 21:52:16,696: WARNING  Wavelength out of range of reference kernels\n",
      "2017-02-01 21:52:19,093: INFO     Processing wavelength 0.624028 (25 out of 149)\n",
      "2017-02-01 21:52:19,094: WARNING  Wavelength out of range of reference kernels\n",
      "2017-02-01 21:52:21,401: INFO     Processing wavelength 0.624786 (26 out of 149)\n",
      "2017-02-01 21:52:21,402: WARNING  Wavelength out of range of reference kernels\n",
      "2017-02-01 21:52:23,737: INFO     Processing wavelength 0.625545 (27 out of 149)\n",
      "2017-02-01 21:52:23,738: WARNING  Wavelength out of range of reference kernels\n",
      "2017-02-01 21:52:26,005: INFO     Processing wavelength 0.626306 (28 out of 149)\n",
      "2017-02-01 21:52:26,006: WARNING  Wavelength out of range of reference kernels\n",
      "2017-02-01 21:52:28,324: INFO     Processing wavelength 0.627067 (29 out of 149)\n",
      "2017-02-01 21:52:28,325: WARNING  Wavelength out of range of reference kernels\n",
      "2017-02-01 21:52:30,823: INFO     Processing wavelength 0.627829 (30 out of 149)\n",
      "2017-02-01 21:52:30,824: WARNING  Wavelength out of range of reference kernels\n",
      "2017-02-01 21:52:33,192: INFO     Processing wavelength 0.628591 (31 out of 149)\n",
      "2017-02-01 21:52:33,193: WARNING  Wavelength out of range of reference kernels\n",
      "2017-02-01 21:52:35,572: INFO     Processing wavelength 0.629355 (32 out of 149)\n",
      "2017-02-01 21:52:35,573: WARNING  Wavelength out of range of reference kernels\n",
      "2017-02-01 21:52:37,876: INFO     Processing wavelength 0.630120 (33 out of 149)\n",
      "2017-02-01 21:52:37,877: WARNING  Wavelength out of range of reference kernels\n",
      "2017-02-01 21:52:40,143: INFO     Processing wavelength 0.630886 (34 out of 149)\n",
      "2017-02-01 21:52:40,144: WARNING  Wavelength out of range of reference kernels\n",
      "2017-02-01 21:52:42,355: INFO     Processing wavelength 0.631652 (35 out of 149)\n",
      "2017-02-01 21:52:42,356: WARNING  Wavelength out of range of reference kernels\n",
      "2017-02-01 21:52:44,644: INFO     Processing wavelength 0.632420 (36 out of 149)\n",
      "2017-02-01 21:52:44,645: WARNING  Wavelength out of range of reference kernels\n",
      "2017-02-01 21:52:46,937: INFO     Processing wavelength 0.633188 (37 out of 149)\n",
      "2017-02-01 21:52:46,938: WARNING  Wavelength out of range of reference kernels\n",
      "2017-02-01 21:52:49,226: INFO     Processing wavelength 0.633958 (38 out of 149)\n",
      "2017-02-01 21:52:49,226: WARNING  Wavelength out of range of reference kernels\n",
      "2017-02-01 21:52:51,538: INFO     Processing wavelength 0.634728 (39 out of 149)\n",
      "2017-02-01 21:52:51,539: WARNING  Wavelength out of range of reference kernels\n",
      "2017-02-01 21:52:53,815: INFO     Processing wavelength 0.635499 (40 out of 149)\n",
      "2017-02-01 21:52:53,816: WARNING  Wavelength out of range of reference kernels\n",
      "2017-02-01 21:52:56,124: INFO     Processing wavelength 0.636272 (41 out of 149)\n",
      "2017-02-01 21:52:56,125: WARNING  Wavelength out of range of reference kernels\n",
      "2017-02-01 21:52:58,444: INFO     Processing wavelength 0.637045 (42 out of 149)\n",
      "2017-02-01 21:52:58,445: WARNING  Wavelength out of range of reference kernels\n",
      "2017-02-01 21:53:00,731: INFO     Processing wavelength 0.637819 (43 out of 149)\n",
      "2017-02-01 21:53:00,732: WARNING  Wavelength out of range of reference kernels\n",
      "2017-02-01 21:53:03,040: INFO     Processing wavelength 0.638594 (44 out of 149)\n",
      "2017-02-01 21:53:03,041: WARNING  Wavelength out of range of reference kernels\n",
      "2017-02-01 21:53:05,320: INFO     Processing wavelength 0.639370 (45 out of 149)\n",
      "2017-02-01 21:53:05,321: WARNING  Wavelength out of range of reference kernels\n",
      "2017-02-01 21:53:07,591: INFO     Processing wavelength 0.640147 (46 out of 149)\n",
      "2017-02-01 21:53:07,592: WARNING  Wavelength out of range of reference kernels\n",
      "2017-02-01 21:53:09,908: INFO     Processing wavelength 0.640925 (47 out of 149)\n",
      "2017-02-01 21:53:09,909: WARNING  Wavelength out of range of reference kernels\n",
      "2017-02-01 21:53:12,383: INFO     Processing wavelength 0.641703 (48 out of 149)\n",
      "2017-02-01 21:53:12,384: WARNING  Wavelength out of range of reference kernels\n",
      "2017-02-01 21:53:14,662: INFO     Processing wavelength 0.642483 (49 out of 149)\n",
      "2017-02-01 21:53:14,663: WARNING  Wavelength out of range of reference kernels\n",
      "2017-02-01 21:53:16,885: INFO     Processing wavelength 0.643264 (50 out of 149)\n",
      "2017-02-01 21:53:16,886: WARNING  Wavelength out of range of reference kernels\n",
      "2017-02-01 21:53:19,109: INFO     Processing wavelength 0.644045 (51 out of 149)\n",
      "2017-02-01 21:53:19,110: WARNING  Wavelength out of range of reference kernels\n",
      "2017-02-01 21:53:21,321: INFO     Processing wavelength 0.644828 (52 out of 149)\n",
      "2017-02-01 21:53:21,321: WARNING  Wavelength out of range of reference kernels\n",
      "2017-02-01 21:53:23,603: INFO     Processing wavelength 0.645612 (53 out of 149)\n",
      "2017-02-01 21:53:23,604: WARNING  Wavelength out of range of reference kernels\n",
      "2017-02-01 21:53:25,961: INFO     Processing wavelength 0.646396 (54 out of 149)\n",
      "2017-02-01 21:53:25,962: WARNING  Wavelength out of range of reference kernels\n",
      "2017-02-01 21:53:28,197: INFO     Processing wavelength 0.647181 (55 out of 149)\n",
      "2017-02-01 21:53:28,197: WARNING  Wavelength out of range of reference kernels\n",
      "2017-02-01 21:53:30,414: INFO     Processing wavelength 0.647968 (56 out of 149)\n",
      "2017-02-01 21:53:30,415: WARNING  Wavelength out of range of reference kernels\n",
      "2017-02-01 21:53:32,639: INFO     Processing wavelength 0.648755 (57 out of 149)\n",
      "2017-02-01 21:53:32,640: WARNING  Wavelength out of range of reference kernels\n",
      "2017-02-01 21:53:34,890: INFO     Processing wavelength 0.649544 (58 out of 149)\n",
      "2017-02-01 21:53:34,891: WARNING  Wavelength out of range of reference kernels\n",
      "2017-02-01 21:53:37,133: INFO     Processing wavelength 0.650333 (59 out of 149)\n",
      "2017-02-01 21:53:37,134: WARNING  Wavelength out of range of reference kernels\n",
      "2017-02-01 21:53:39,406: INFO     Processing wavelength 0.651123 (60 out of 149)\n",
      "2017-02-01 21:53:39,407: WARNING  Wavelength out of range of reference kernels\n",
      "2017-02-01 21:53:41,692: INFO     Processing wavelength 0.651914 (61 out of 149)\n",
      "2017-02-01 21:53:41,693: WARNING  Wavelength out of range of reference kernels\n",
      "2017-02-01 21:53:43,903: INFO     Processing wavelength 0.652706 (62 out of 149)\n",
      "2017-02-01 21:53:43,904: WARNING  Wavelength out of range of reference kernels\n",
      "2017-02-01 21:53:46,180: INFO     Processing wavelength 0.653500 (63 out of 149)\n",
      "2017-02-01 21:53:46,181: WARNING  Wavelength out of range of reference kernels\n",
      "2017-02-01 21:53:48,504: INFO     Processing wavelength 0.654294 (64 out of 149)\n",
      "2017-02-01 21:53:48,505: WARNING  Wavelength out of range of reference kernels\n",
      "2017-02-01 21:53:50,836: INFO     Processing wavelength 0.655089 (65 out of 149)\n",
      "2017-02-01 21:53:50,837: WARNING  Wavelength out of range of reference kernels\n",
      "2017-02-01 21:53:53,108: INFO     Processing wavelength 0.655885 (66 out of 149)\n",
      "2017-02-01 21:53:53,108: WARNING  Wavelength out of range of reference kernels\n",
      "2017-02-01 21:53:55,384: INFO     Processing wavelength 0.656682 (67 out of 149)\n",
      "2017-02-01 21:53:55,385: WARNING  Wavelength out of range of reference kernels\n",
      "2017-02-01 21:53:57,647: INFO     Processing wavelength 0.657480 (68 out of 149)\n",
      "2017-02-01 21:53:57,648: WARNING  Wavelength out of range of reference kernels\n",
      "2017-02-01 21:53:59,926: INFO     Processing wavelength 0.658279 (69 out of 149)\n",
      "2017-02-01 21:53:59,927: WARNING  Wavelength out of range of reference kernels\n",
      "2017-02-01 21:54:02,209: INFO     Processing wavelength 0.659078 (70 out of 149)\n",
      "2017-02-01 21:54:02,210: WARNING  Wavelength out of range of reference kernels\n",
      "2017-02-01 21:54:04,504: INFO     Processing wavelength 0.659879 (71 out of 149)\n",
      "2017-02-01 21:54:04,505: WARNING  Wavelength out of range of reference kernels\n",
      "2017-02-01 21:54:06,798: INFO     Processing wavelength 0.660681 (72 out of 149)\n",
      "2017-02-01 21:54:09,058: INFO     Processing wavelength 0.661484 (73 out of 149)\n",
      "2017-02-01 21:54:11,344: INFO     Processing wavelength 0.662288 (74 out of 149)\n",
      "2017-02-01 21:54:13,630: INFO     Processing wavelength 0.663092 (75 out of 149)\n",
      "2017-02-01 21:54:15,953: INFO     Processing wavelength 0.663898 (76 out of 149)\n",
      "2017-02-01 21:54:18,270: INFO     Processing wavelength 0.664705 (77 out of 149)\n",
      "2017-02-01 21:54:20,483: INFO     Processing wavelength 0.665513 (78 out of 149)\n",
      "2017-02-01 21:54:22,741: INFO     Processing wavelength 0.666321 (79 out of 149)\n",
      "2017-02-01 21:54:25,054: INFO     Processing wavelength 0.667131 (80 out of 149)\n",
      "2017-02-01 21:54:27,364: INFO     Processing wavelength 0.667942 (81 out of 149)\n",
      "2017-02-01 21:54:29,637: INFO     Processing wavelength 0.668753 (82 out of 149)\n",
      "2017-02-01 21:54:31,913: INFO     Processing wavelength 0.669566 (83 out of 149)\n",
      "2017-02-01 21:54:34,200: INFO     Processing wavelength 0.670379 (84 out of 149)\n",
      "2017-02-01 21:54:36,517: INFO     Processing wavelength 0.671194 (85 out of 149)\n",
      "2017-02-01 21:54:38,811: INFO     Processing wavelength 0.672010 (86 out of 149)\n",
      "2017-02-01 21:54:41,133: INFO     Processing wavelength 0.672826 (87 out of 149)\n",
      "2017-02-01 21:54:43,457: INFO     Processing wavelength 0.673644 (88 out of 149)\n",
      "2017-02-01 21:54:45,793: INFO     Processing wavelength 0.674462 (89 out of 149)\n",
      "2017-02-01 21:54:48,123: INFO     Processing wavelength 0.675282 (90 out of 149)\n",
      "2017-02-01 21:54:50,437: INFO     Processing wavelength 0.676102 (91 out of 149)\n",
      "2017-02-01 21:54:52,752: INFO     Processing wavelength 0.676924 (92 out of 149)\n",
      "2017-02-01 21:54:55,050: INFO     Processing wavelength 0.677747 (93 out of 149)\n",
      "2017-02-01 21:54:57,354: INFO     Processing wavelength 0.678570 (94 out of 149)\n",
      "2017-02-01 21:54:59,652: INFO     Processing wavelength 0.679395 (95 out of 149)\n",
      "2017-02-01 21:55:01,978: INFO     Processing wavelength 0.680220 (96 out of 149)\n",
      "2017-02-01 21:55:04,199: INFO     Processing wavelength 0.681047 (97 out of 149)\n",
      "2017-02-01 21:55:06,469: INFO     Processing wavelength 0.681874 (98 out of 149)\n",
      "2017-02-01 21:55:08,749: INFO     Processing wavelength 0.682703 (99 out of 149)\n",
      "2017-02-01 21:55:10,969: INFO     Processing wavelength 0.683532 (100 out of 149)\n",
      "2017-02-01 21:55:13,190: INFO     Processing wavelength 0.684363 (101 out of 149)\n",
      "2017-02-01 21:55:15,412: INFO     Processing wavelength 0.685195 (102 out of 149)\n",
      "2017-02-01 21:55:17,627: INFO     Processing wavelength 0.686027 (103 out of 149)\n",
      "2017-02-01 21:55:19,823: INFO     Processing wavelength 0.686861 (104 out of 149)\n",
      "2017-02-01 21:55:22,007: INFO     Processing wavelength 0.687695 (105 out of 149)\n",
      "2017-02-01 21:55:24,220: INFO     Processing wavelength 0.688531 (106 out of 149)\n",
      "2017-02-01 21:55:26,448: INFO     Processing wavelength 0.689368 (107 out of 149)\n",
      "2017-02-01 21:55:28,647: INFO     Processing wavelength 0.690205 (108 out of 149)\n",
      "2017-02-01 21:55:30,859: INFO     Processing wavelength 0.691044 (109 out of 149)\n",
      "2017-02-01 21:55:33,097: INFO     Processing wavelength 0.691884 (110 out of 149)\n",
      "2017-02-01 21:55:35,455: INFO     Processing wavelength 0.692724 (111 out of 149)\n",
      "2017-02-01 21:55:37,799: INFO     Processing wavelength 0.693566 (112 out of 149)\n",
      "2017-02-01 21:55:40,115: INFO     Processing wavelength 0.694409 (113 out of 149)\n",
      "2017-02-01 21:55:42,411: INFO     Processing wavelength 0.695253 (114 out of 149)\n",
      "2017-02-01 21:55:44,725: INFO     Processing wavelength 0.696098 (115 out of 149)\n",
      "2017-02-01 21:55:46,947: INFO     Processing wavelength 0.696943 (116 out of 149)\n",
      "2017-02-01 21:55:49,150: INFO     Processing wavelength 0.697790 (117 out of 149)\n",
      "2017-02-01 21:55:51,363: INFO     Processing wavelength 0.698638 (118 out of 149)\n",
      "2017-02-01 21:55:53,583: INFO     Processing wavelength 0.699487 (119 out of 149)\n",
      "2017-02-01 21:55:55,893: INFO     Processing wavelength 0.700337 (120 out of 149)\n",
      "2017-02-01 21:55:58,227: INFO     Processing wavelength 0.701188 (121 out of 149)\n",
      "2017-02-01 21:56:00,643: INFO     Processing wavelength 0.702040 (122 out of 149)\n",
      "2017-02-01 21:56:02,938: INFO     Processing wavelength 0.702893 (123 out of 149)\n",
      "2017-02-01 21:56:05,205: INFO     Processing wavelength 0.703747 (124 out of 149)\n",
      "2017-02-01 21:56:07,510: INFO     Processing wavelength 0.704602 (125 out of 149)\n",
      "2017-02-01 21:56:09,807: INFO     Processing wavelength 0.705459 (126 out of 149)\n",
      "2017-02-01 21:56:12,143: INFO     Processing wavelength 0.706316 (127 out of 149)\n",
      "2017-02-01 21:56:14,440: INFO     Processing wavelength 0.707174 (128 out of 149)\n",
      "2017-02-01 21:56:16,780: INFO     Processing wavelength 0.708033 (129 out of 149)\n",
      "2017-02-01 21:56:19,123: INFO     Processing wavelength 0.708894 (130 out of 149)\n",
      "2017-02-01 21:56:21,475: INFO     Processing wavelength 0.709755 (131 out of 149)\n",
      "2017-02-01 21:56:23,790: INFO     Processing wavelength 0.710618 (132 out of 149)\n",
      "2017-02-01 21:56:26,097: INFO     Processing wavelength 0.711481 (133 out of 149)\n",
      "2017-02-01 21:56:28,317: INFO     Processing wavelength 0.712346 (134 out of 149)\n",
      "2017-02-01 21:56:30,516: INFO     Processing wavelength 0.713211 (135 out of 149)\n",
      "2017-02-01 21:56:32,724: INFO     Processing wavelength 0.714078 (136 out of 149)\n",
      "2017-02-01 21:56:34,947: INFO     Processing wavelength 0.714945 (137 out of 149)\n",
      "2017-02-01 21:56:37,165: INFO     Processing wavelength 0.715814 (138 out of 149)\n",
      "2017-02-01 21:56:39,506: INFO     Processing wavelength 0.716684 (139 out of 149)\n",
      "2017-02-01 21:56:41,797: INFO     Processing wavelength 0.717555 (140 out of 149)\n",
      "2017-02-01 21:56:44,131: INFO     Processing wavelength 0.718427 (141 out of 149)\n",
      "2017-02-01 21:56:46,409: INFO     Processing wavelength 0.719300 (142 out of 149)\n",
      "2017-02-01 21:56:48,658: INFO     Processing wavelength 0.720174 (143 out of 149)\n",
      "2017-02-01 21:56:50,942: INFO     Processing wavelength 0.721049 (144 out of 149)\n",
      "2017-02-01 21:56:53,311: INFO     Processing wavelength 0.721925 (145 out of 149)\n",
      "2017-02-01 21:56:55,595: INFO     Processing wavelength 0.722802 (146 out of 149)\n",
      "2017-02-01 21:56:57,917: INFO     Processing wavelength 0.723681 (147 out of 149)\n",
      "2017-02-01 21:57:00,290: INFO     Processing wavelength 0.724560 (148 out of 149)\n",
      "2017-02-01 21:57:02,563: INFO     Number of detector pixels per lenslet: 13.384615\n",
      "2017-02-01 21:57:02,564: INFO     Rebinning final detector. Image has dimensions 1024x1024\n",
      "2017-02-01 21:57:02,908: INFO     Done.\n",
      "2017-02-01 21:57:02,917: INFO     Performance: 343 seconds total\n",
      "2017-02-01 21:57:03,074: INFO     Writing data to /Users/mrizzo/IFS/IFS-Simulator/unitTestsOutputs/flatfield.fits\n"
     ]
    }
   ],
   "source": [
    "from unitTests import testCreateFlatfield\n",
    "testCreateFlatfield(par,nlam=150,parallel=False)"
   ]
  },
  {
   "cell_type": "markdown",
   "metadata": {},
   "source": [
    "# Reduction"
   ]
  },
  {
   "cell_type": "code",
   "execution_count": 4,
   "metadata": {
    "collapsed": false
   },
   "outputs": [
    {
     "name": "stderr",
     "output_type": "stream",
     "text": [
      "2017-02-01 23:18:24,616: INFO     Read data from HDU 1 of /Users/mrizzo/IFS/IFS-Simulator/unitTestsOutputs/flatfield.fits\n"
     ]
    }
   ],
   "source": [
    "from IFS import reduceIFSMap\n",
    "fname='/Users/mrizzo/IFS/IFS-Simulator/unitTestsOutputs/flatfield.fits'\n",
    "#fname=par.wavecalDir+'det_655.fits'\n",
    "reduceIFSMap(par,fname,method='lstsq',ivar=False)\n",
    "# reduceIFSMap(par,fname,method='intopt')\n",
    "# reduceIFSMap(par,fname,method='apphot')"
   ]
  },
  {
   "cell_type": "markdown",
   "metadata": {
    "collapsed": false
   },
   "source": [
    "# Example"
   ]
  },
  {
   "cell_type": "code",
   "execution_count": 3,
   "metadata": {
    "collapsed": false
   },
   "outputs": [
    {
     "name": "stderr",
     "output_type": "stream",
     "text": [
      "2017-02-02 00:34:49,071: INFO     Read data from HDU 1 of ifs_psf_onax_contrast.fits\n",
      "2017-02-02 00:34:51,403: INFO     The number of input pixels per lenslet is 1.333333\n",
      "2017-02-02 00:34:51,403: INFO     The plate scale of the input cube is 130.500000 um/pixel\n",
      "2017-02-02 00:34:51,404: INFO     Import all kernels and rescale them to same plate scale\n",
      "2017-02-02 00:34:51,405: INFO     Loading spot diagrams.\n",
      "2017-02-02 00:34:51,519: INFO     kernel scale average is 1.706 micron per pixel at 890 nm\n",
      "2017-02-02 00:34:51,521: INFO     Resampling kernels to match input\n",
      "2017-02-02 00:34:51,601: INFO     pxprlens: 184.000\n",
      "2017-02-02 00:34:51,649: INFO     Loading spot diagrams.\n",
      "2017-02-02 00:34:51,738: INFO     kernel scale average is 1.475 micron per pixel at 770 nm\n",
      "2017-02-02 00:34:51,739: INFO     Resampling kernels to match input\n",
      "2017-02-02 00:34:51,804: INFO     Padding smaller kernels\n",
      "2017-02-02 00:34:51,850: INFO     Loading spot diagrams.\n",
      "2017-02-02 00:34:51,935: INFO     kernel scale average is 1.264 micron per pixel at 660 nm\n",
      "2017-02-02 00:34:51,936: INFO     Resampling kernels to match input\n",
      "2017-02-02 00:34:51,984: INFO     Padding smaller kernels\n",
      "2017-02-02 00:34:52,049: INFO     Small pixels per lenslet: 184.000000\n",
      "2017-02-02 00:34:52,050: INFO     Final detector pixel per lenslet: 16.000000\n",
      "2017-02-02 00:34:52,050: INFO     Processing wavelength 0.605000 (0 out of 31)\n",
      "2017-02-02 00:34:52,051: WARNING  Wavelength out of range of reference kernels\n",
      "tools/lenslet.py:35: VisibleDeprecationWarning: using a non-integer number instead of an integer will result in an error in the future\n",
      "  paddedImagePlane = np.zeros((imagePlane.shape[0]*np.sqrt(2),imagePlane.shape[1]*np.sqrt(2)))\n",
      "tools/lenslet.py:41: VisibleDeprecationWarning: using a non-integer number instead of an integer will result in an error in the future\n",
      "  paddedImagePlane[xpad:-xpad-1,ypad:-ypad-1] = imagePlane\n",
      "tools/detutils.py:37: VisibleDeprecationWarning: using a non-integer number instead of an integer will result in an error in the future\n",
      "  temp = np.zeros((shape[1], x),dtype=float)\n",
      "tools/detutils.py:62: VisibleDeprecationWarning: using a non-integer number instead of an integer will result in an error in the future\n",
      "  result = np.zeros((shape[0], shape[1]), dtype=float)\n",
      "2017-02-02 00:34:53,174: INFO     Processing wavelength 0.609000 (1 out of 31)\n",
      "2017-02-02 00:34:53,175: WARNING  Wavelength out of range of reference kernels\n",
      "2017-02-02 00:34:53,808: INFO     Processing wavelength 0.613000 (2 out of 31)\n",
      "2017-02-02 00:34:53,809: WARNING  Wavelength out of range of reference kernels\n",
      "2017-02-02 00:34:54,411: INFO     Processing wavelength 0.617000 (3 out of 31)\n",
      "2017-02-02 00:34:54,412: WARNING  Wavelength out of range of reference kernels\n",
      "2017-02-02 00:34:54,999: INFO     Processing wavelength 0.621000 (4 out of 31)\n",
      "2017-02-02 00:34:55,000: WARNING  Wavelength out of range of reference kernels\n",
      "2017-02-02 00:34:55,593: INFO     Processing wavelength 0.625000 (5 out of 31)\n",
      "2017-02-02 00:34:55,594: WARNING  Wavelength out of range of reference kernels\n",
      "2017-02-02 00:34:56,196: INFO     Processing wavelength 0.629000 (6 out of 31)\n",
      "2017-02-02 00:34:56,197: WARNING  Wavelength out of range of reference kernels\n",
      "2017-02-02 00:34:56,805: INFO     Processing wavelength 0.633000 (7 out of 31)\n",
      "2017-02-02 00:34:56,806: WARNING  Wavelength out of range of reference kernels\n",
      "2017-02-02 00:34:57,397: INFO     Processing wavelength 0.637000 (8 out of 31)\n",
      "2017-02-02 00:34:57,399: WARNING  Wavelength out of range of reference kernels\n",
      "2017-02-02 00:34:58,001: INFO     Processing wavelength 0.641000 (9 out of 31)\n",
      "2017-02-02 00:34:58,002: WARNING  Wavelength out of range of reference kernels\n",
      "2017-02-02 00:34:58,608: INFO     Processing wavelength 0.645000 (10 out of 31)\n",
      "2017-02-02 00:34:58,609: WARNING  Wavelength out of range of reference kernels\n",
      "2017-02-02 00:34:59,206: INFO     Processing wavelength 0.649000 (11 out of 31)\n",
      "2017-02-02 00:34:59,207: WARNING  Wavelength out of range of reference kernels\n",
      "2017-02-02 00:34:59,805: INFO     Processing wavelength 0.653000 (12 out of 31)\n",
      "2017-02-02 00:34:59,807: WARNING  Wavelength out of range of reference kernels\n",
      "2017-02-02 00:35:00,395: INFO     Processing wavelength 0.657000 (13 out of 31)\n",
      "2017-02-02 00:35:00,396: WARNING  Wavelength out of range of reference kernels\n",
      "2017-02-02 00:35:01,002: INFO     Processing wavelength 0.661000 (14 out of 31)\n",
      "2017-02-02 00:35:01,614: INFO     Processing wavelength 0.665000 (15 out of 31)\n",
      "2017-02-02 00:35:02,201: INFO     Processing wavelength 0.669000 (16 out of 31)\n",
      "2017-02-02 00:35:02,802: INFO     Processing wavelength 0.673000 (17 out of 31)\n",
      "2017-02-02 00:35:03,394: INFO     Processing wavelength 0.677000 (18 out of 31)\n",
      "2017-02-02 00:35:04,001: INFO     Processing wavelength 0.681000 (19 out of 31)\n",
      "2017-02-02 00:35:04,595: INFO     Processing wavelength 0.685000 (20 out of 31)\n",
      "2017-02-02 00:35:05,208: INFO     Processing wavelength 0.689000 (21 out of 31)\n",
      "2017-02-02 00:35:05,804: INFO     Processing wavelength 0.693000 (22 out of 31)\n",
      "2017-02-02 00:35:06,394: INFO     Processing wavelength 0.697000 (23 out of 31)\n",
      "2017-02-02 00:35:06,987: INFO     Processing wavelength 0.701000 (24 out of 31)\n",
      "2017-02-02 00:35:07,578: INFO     Processing wavelength 0.705000 (25 out of 31)\n",
      "2017-02-02 00:35:08,177: INFO     Processing wavelength 0.709000 (26 out of 31)\n",
      "2017-02-02 00:35:08,776: INFO     Processing wavelength 0.713000 (27 out of 31)\n",
      "2017-02-02 00:35:09,373: INFO     Processing wavelength 0.717000 (28 out of 31)\n",
      "2017-02-02 00:35:09,972: INFO     Processing wavelength 0.721000 (29 out of 31)\n",
      "2017-02-02 00:35:10,564: INFO     Processing wavelength 0.725000 (30 out of 31)\n",
      "2017-02-02 00:35:11,161: INFO     Number of detector pixels per lenslet: 13.384615\n",
      "2017-02-02 00:35:11,162: INFO     Rebinning final detector. Image has dimensions 1024x1024\n",
      "2017-02-02 00:35:12,291: INFO     Writing data to /Users/mrizzo/IFS/IFS-Simulator/SimResults/optfittest.fits\n",
      "2017-02-02 00:35:12,303: INFO     Done.\n",
      "2017-02-02 00:35:12,304: INFO     Performance: 20 seconds total\n"
     ]
    }
   ],
   "source": [
    "from tools.image import Image\n",
    "mperpix = 3./4.*par.pitch\n",
    "par.pixperlenslet = par.pitch/mperpix\n",
    "par.mperpix = mperpix\n",
    "wavlist = np.linspace(605,725,31)\n",
    "ifs_psf_onax_contrast = Image(filename='ifs_psf_onax_contrast.fits').data\n",
    "from IFS import propagateIFS\n",
    "finalFrame = propagateIFS(par,wavlist*1e-3,ifs_psf_onax_contrast,name='optfittest',parallel=False)"
   ]
  },
  {
   "cell_type": "code",
   "execution_count": 4,
   "metadata": {
    "collapsed": false
   },
   "outputs": [
    {
     "name": "stderr",
     "output_type": "stream",
     "text": [
      "2017-02-02 00:35:25,449: INFO     Read data from HDU 1 of /Users/mrizzo/IFS/IFS-Simulator/SimResults/optfittest.fits\n",
      "2017-02-02 00:35:25,470: INFO     Reduced cube will have 21 wavelength bins\n",
      "tools/reduction.py:548: VisibleDeprecationWarning: using a non-integer number instead of an integer will result in an error in the future\n",
      "  pix_center_vals = [np.sum(im.data[i1:i1 + delt_y, val]*gaussian) for val in ix]/weights\n",
      "2017-02-02 00:35:55,668: INFO     Writing data to /Users/mrizzo/IFS/IFS-Simulator/SimResults/optfittest_red_intopt.fits\n"
     ]
    },
    {
     "data": {
      "text/plain": [
       "array([[[ nan,  nan,  nan, ...,  nan,  nan,  nan],\n",
       "        [ nan,  nan,  nan, ...,  nan,  nan,  nan],\n",
       "        [ nan,  nan,  nan, ...,  nan,  nan,  nan],\n",
       "        ..., \n",
       "        [ nan,  nan,  nan, ...,  nan,  nan,  nan],\n",
       "        [ nan,  nan,  nan, ...,  nan,  nan,  nan],\n",
       "        [ nan,  nan,  nan, ...,  nan,  nan,  nan]],\n",
       "\n",
       "       [[ nan,  nan,  nan, ...,  nan,  nan,  nan],\n",
       "        [ nan,  nan,  nan, ...,  nan,  nan,  nan],\n",
       "        [ nan,  nan,  nan, ...,  nan,  nan,  nan],\n",
       "        ..., \n",
       "        [ nan,  nan,  nan, ...,  nan,  nan,  nan],\n",
       "        [ nan,  nan,  nan, ...,  nan,  nan,  nan],\n",
       "        [ nan,  nan,  nan, ...,  nan,  nan,  nan]],\n",
       "\n",
       "       [[ nan,  nan,  nan, ...,  nan,  nan,  nan],\n",
       "        [ nan,  nan,  nan, ...,  nan,  nan,  nan],\n",
       "        [ nan,  nan,  nan, ...,  nan,  nan,  nan],\n",
       "        ..., \n",
       "        [ nan,  nan,  nan, ...,  nan,  nan,  nan],\n",
       "        [ nan,  nan,  nan, ...,  nan,  nan,  nan],\n",
       "        [ nan,  nan,  nan, ...,  nan,  nan,  nan]],\n",
       "\n",
       "       ..., \n",
       "       [[ nan,  nan,  nan, ...,  nan,  nan,  nan],\n",
       "        [ nan,  nan,  nan, ...,  nan,  nan,  nan],\n",
       "        [ nan,  nan,  nan, ...,  nan,  nan,  nan],\n",
       "        ..., \n",
       "        [ nan,  nan,  nan, ...,  nan,  nan,  nan],\n",
       "        [ nan,  nan,  nan, ...,  nan,  nan,  nan],\n",
       "        [ nan,  nan,  nan, ...,  nan,  nan,  nan]],\n",
       "\n",
       "       [[ nan,  nan,  nan, ...,  nan,  nan,  nan],\n",
       "        [ nan,  nan,  nan, ...,  nan,  nan,  nan],\n",
       "        [ nan,  nan,  nan, ...,  nan,  nan,  nan],\n",
       "        ..., \n",
       "        [ nan,  nan,  nan, ...,  nan,  nan,  nan],\n",
       "        [ nan,  nan,  nan, ...,  nan,  nan,  nan],\n",
       "        [ nan,  nan,  nan, ...,  nan,  nan,  nan]],\n",
       "\n",
       "       [[ nan,  nan,  nan, ...,  nan,  nan,  nan],\n",
       "        [ nan,  nan,  nan, ...,  nan,  nan,  nan],\n",
       "        [ nan,  nan,  nan, ...,  nan,  nan,  nan],\n",
       "        ..., \n",
       "        [ nan,  nan,  nan, ...,  nan,  nan,  nan],\n",
       "        [ nan,  nan,  nan, ...,  nan,  nan,  nan],\n",
       "        [ nan,  nan,  nan, ...,  nan,  nan,  nan]]])"
      ]
     },
     "execution_count": 4,
     "metadata": {},
     "output_type": "execute_result"
    }
   ],
   "source": [
    "from IFS import reduceIFSMap\n",
    "fname='/Users/mrizzo/IFS/IFS-Simulator/SimResults/optfittest.fits'\n",
    "#fname=par.wavecalDir+'det_655.fits'\n",
    "reduceIFSMap(par,fname,method='intopt',ivar=False)\n"
   ]
  }
 ],
 "metadata": {
  "anaconda-cloud": {},
  "kernelspec": {
   "display_name": "Python [conda env:py27]",
   "language": "python",
   "name": "conda-env-py27-py"
  },
  "language_info": {
   "codemirror_mode": {
    "name": "ipython",
    "version": 2
   },
   "file_extension": ".py",
   "mimetype": "text/x-python",
   "name": "python",
   "nbconvert_exporter": "python",
   "pygments_lexer": "ipython2",
   "version": "2.7.12"
  }
 },
 "nbformat": 4,
 "nbformat_minor": 1
}
