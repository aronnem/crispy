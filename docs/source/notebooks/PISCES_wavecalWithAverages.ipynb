{
 "cells": [
  {
   "cell_type": "markdown",
   "metadata": {},
   "source": [
    "# PISCES wavelength calibration"
   ]
  },
  {
   "cell_type": "markdown",
   "metadata": {},
   "source": [
    "We have PISCES VARIA calibration sets. We will show how to process them to build a new wavelength calibration"
   ]
  },
  {
   "cell_type": "code",
   "execution_count": 1,
   "metadata": {
    "collapsed": false
   },
   "outputs": [
    {
     "name": "stdout",
     "output_type": "stream",
     "text": [
      "Populating the interactive namespace from numpy and matplotlib\n"
     ]
    }
   ],
   "source": [
    "import numpy as np\n",
    "import glob\n",
    "from astropy.io import fits\n",
    "%pylab inline --no-import-all\n",
    "plt.rc('font', family='serif', serif='Times',size=20)\n",
    "plt.rc('text', usetex=True)\n",
    "plt.rc('xtick', labelsize=20)\n",
    "plt.rc('xtick.major', size=10)\n",
    "plt.rc('ytick.major', size=10)\n",
    "plt.rc('ytick', labelsize=20)\n",
    "plt.rc('axes', labelsize=20)\n",
    "plt.rc('figure',titlesize=20)\n",
    "plt.rc('image',origin='lower',interpolation='nearest')\n",
    "\n",
    "import sys\n",
    "import os"
   ]
  },
  {
   "cell_type": "markdown",
   "metadata": {},
   "source": [
    "### Import crispy-related stuff"
   ]
  },
  {
   "cell_type": "code",
   "execution_count": 2,
   "metadata": {
    "collapsed": false
   },
   "outputs": [
    {
     "data": {
      "text/plain": [
       "SIMPLE  =                    T / conforms to FITS standard                      \n",
       "BITPIX  =                    8 / array data type                                \n",
       "NAXIS   =                    0 / number of array dimensions                     \n",
       "EXTEND  =                    T                                                  \n",
       "COMMENT                                                                         \n",
       "COMMENT ************************************************************            \n",
       "COMMENT ********************** General parameters ******************            \n",
       "COMMENT ************************************************************            \n",
       "COMMENT                                                                         \n",
       "NLENS   =                  108 / # lenslets across array                        \n",
       "PITCH   =             0.000174 / Lenslet pitch (meters)                         \n",
       "INTERLAC=                    2 / Interlacing                                    \n",
       "PHILENS =    26.56505117707799 / Rotation angle of the lenslets (deg)           \n",
       "PIXSIZE =              1.3E-05 / Pixel size (meters)                            \n",
       "LENSAMP =                  0.5 / Lenslet sampling (lam/D)                       \n",
       "LSAMPWAV=                600.0 / Lenslet sampling wavelength (nm)               \n",
       "FWHM    =                    2 / FHWM of PSFLet at detector (pixels)            \n",
       "FWHMLAM =                660.0 / Wavelength at which FWHM is defined (nm)       \n",
       "NPIX    =                 1024 / Number of detector pixels                      \n",
       "DISPDIST=                    F / Use PISCES distortion/dispersion?              "
      ]
     },
     "execution_count": 2,
     "metadata": {},
     "output_type": "execute_result"
    }
   ],
   "source": [
    "os.chdir('/Users/mrizzo/IFS/crispy/crispy/PISCES/')\n",
    "\n",
    "import logging as log\n",
    "from crispy.tools.initLogger import getLogger\n",
    "log = getLogger('crispy')\n",
    "from crispy.tools.image import Image\n",
    "from PISCESparams import Params\n",
    "par = Params()\n",
    "par.hdr"
   ]
  },
  {
   "cell_type": "markdown",
   "metadata": {},
   "source": [
    "## Build wavelength calibration files"
   ]
  },
  {
   "cell_type": "code",
   "execution_count": 3,
   "metadata": {
    "collapsed": false
   },
   "outputs": [
    {
     "name": "stdout",
     "output_type": "stream",
     "text": [
      "crispy - INFO - Building calibration files, placing results in ..//ReferenceFiles/Calibra_170425/\n",
      "crispy - INFO - Read data from HDU 1 of ..//ReferenceFiles/Calibra_170425/det605.0.fits\n",
      "crispy - INFO - Read data from HDU 1 of ..//ReferenceFiles/Calibra_170425/det605.0.fits\n",
      "crispy - INFO - Read data from HDU 1 of ..//ReferenceFiles/Calibra_170425/det615.0.fits\n",
      "crispy - INFO - Read data from HDU 1 of ..//ReferenceFiles/Calibra_170425/det625.0.fits\n",
      "crispy - INFO - Read data from HDU 1 of ..//ReferenceFiles/Calibra_170425/det635.0.fits\n",
      "crispy - INFO - Read data from HDU 1 of ..//ReferenceFiles/Calibra_170425/det645.0.fits\n",
      "crispy - INFO - Read data from HDU 1 of ..//ReferenceFiles/Calibra_170425/det655.0.fits\n",
      "crispy - INFO - Read data from HDU 1 of ..//ReferenceFiles/Calibra_170425/det665.0.fits\n",
      "crispy - INFO - Read data from HDU 1 of ..//ReferenceFiles/Calibra_170425/det675.0.fits\n",
      "crispy - INFO - Read data from HDU 1 of ..//ReferenceFiles/Calibra_170425/det685.0.fits\n",
      "crispy - INFO - Read data from HDU 1 of ..//ReferenceFiles/Calibra_170425/det695.0.fits\n",
      "crispy - INFO - Read data from HDU 1 of ..//ReferenceFiles/Calibra_170425/det705.0.fits\n",
      "crispy - INFO - Read data from HDU 1 of ..//ReferenceFiles/Calibra_170425/det715.0.fits\n",
      "crispy - INFO - Read data from HDU 1 of ..//ReferenceFiles/Calibra_170425/det725.0.fits\n",
      "crispy - INFO - Loading wavelength solution from ..//ReferenceFiles/Calibra_170425/lamsol.dat\n",
      "crispy - INFO - Computing wavelength values at pixel centers\n",
      "crispy - INFO - Computing PSFLet widths...\n",
      "crispy - INFO - Reduced cube will have 11 wavelength bins\n",
      "crispy - INFO - Making polychrome cube\n",
      "crispy - INFO - Saving polychrome cube\n",
      "crispy - INFO - Saving wavelength calibration cube\n",
      "crispy - INFO - Total time elapsed: 33 s\n"
     ]
    }
   ],
   "source": [
    "# We need to run the calibration for the first time\n",
    "from crispy.tools.wavecal import buildcalibrations\n",
    "par.gaussian_hires=False # since par.gaussian_hires is False, it will attempt to make high-resolution PSFLets\n",
    "par.lamlist = np.arange(605.,730.,10)\n",
    "par.filelist = [par.wavecalDir+'det'+str(wav)+'.fits' for wav in par.lamlist]\n",
    "buildcalibrations(par,\n",
    "                    inspect=False,\n",
    "                    genwavelengthsol=False, # Compute wavelength at the center of all pixels\n",
    "                    makehiresPSFlets=False, # this requires very high SNR on the monochromatic frames\n",
    "                    makePolychrome=True,   # This is needed to use least squares extraction\n",
    "                    makePSFWidths=True,    # Fit PSF widths from high-res PSFLet models\n",
    "                    upsample=3,            # upsampling factor of the high-resolution PSFLets\n",
    "                    nsubarr=4,             # the detector is divided into nsubarr^2 regions for PSFLet averaging\n",
    "                    apodize=False,          # to match PSFlet spot locations, only use the inner circular part of the \n",
    "                                           #detector, hence discarding the corners of the detector where lenslets are \n",
    "                                           #distorted\n",
    "                  ) "
   ]
  },
  {
   "cell_type": "code",
   "execution_count": 5,
   "metadata": {
    "collapsed": false
   },
   "outputs": [
    {
     "name": "stdout",
     "output_type": "stream",
     "text": [
      "crispy - INFO - Reduced cube will have 11 wavelength bins\n",
      "('Wavelengths at midpoints for lstsq (nm): ', array([ 609.9964569 ,  620.11350281,  630.39834414,  640.85376386,\n",
      "        651.48259108,  662.28770183,  673.27201986,  684.43851739,\n",
      "        695.79021595,  707.33018716,  719.06155361]))\n",
      "('Wavelengths at endpoints for lstsq (nm): ', array([ 605.        ,  615.03417758,  625.23477618,  635.60455597,\n",
      "        646.14632289,  656.86292941,  667.75727532,  678.83230851,\n",
      "        690.09102575,  701.53647351,  713.17174881,  725.        ]))\n",
      "crispy - INFO - Reduced cube will have 26 wavelength bins\n",
      "('Wavelengths at midpoints for optext (nm): ', array([ 607.10887147,  611.34869295,  615.61812376,  619.91737068,\n",
      "        624.24664194,  628.6061472 ,  632.99609763,  637.41670582,\n",
      "        641.86818589,  646.35075344,  650.86462556,  655.41002088,\n",
      "        659.98715953,  664.59626322,  669.23755516,  673.91126015,\n",
      "        678.61760456,  683.35681631,  688.12912494,  692.9347616 ,\n",
      "        697.77395902,  702.64695159,  707.55397533,  712.49526788,\n",
      "        717.47106857,  722.48161839]))\n",
      "('Wavelengths at endpoints for optext (nm): ', array([ 605.        ,  609.22509391,  613.4796943 ,  617.76400723,\n",
      "        622.0782402 ,  626.42260216,  630.79730352,  635.20255616,\n",
      "        639.63857343,  644.1055702 ,  648.6037628 ,  653.13336909,\n",
      "        657.69460847,  662.28770183,  666.91287165,  671.57034192,\n",
      "        676.26033822,  680.9830877 ,  685.73881911,  690.52776276,\n",
      "        695.3501506 ,  700.2062162 ,  705.09619475,  710.02032308,\n",
      "        714.97883968,  719.97198471,  725.        ]))\n"
     ]
    }
   ],
   "source": [
    "#par.lamlist = np.arange(615.,720.,10)\n",
    "\n",
    "from crispy.tools.reduction import calculateWaveList\n",
    "lam_midpts,lam_endpts = calculateWaveList(par,method='lstsq')\n",
    "print('Wavelengths at midpoints for lstsq (nm): ',lam_midpts)\n",
    "print('Wavelengths at endpoints for lstsq (nm): ',lam_endpts)\n",
    "lam_midpts,lam_endpts = calculateWaveList(par,method='optext')\n",
    "print('Wavelengths at midpoints for optext (nm): ',lam_midpts)\n",
    "print('Wavelengths at endpoints for optext (nm): ',lam_endpts)"
   ]
  },
  {
   "cell_type": "markdown",
   "metadata": {},
   "source": [
    "## Monochromatic updates"
   ]
  },
  {
   "cell_type": "code",
   "execution_count": 6,
   "metadata": {
    "collapsed": false
   },
   "outputs": [
    {
     "name": "stdout",
     "output_type": "stream",
     "text": [
      "crispy - INFO - Read data from HDU 1 of ..//ReferenceFiles/Calibra_170425/det685.0.fits\n",
      "crispy - INFO - Making copies of wavelength solution from ..//ReferenceFiles/Calibra_170425//lamsol.dat\n",
      "crispy - INFO - Generating new wavelength solution\n",
      "crispy - INFO - Initializing transformation coefficients with previous values\n",
      "crispy - INFO - Performing final optimization of PSFlet location transformation coefficients for frame ..//ReferenceFiles/Calibra_170425/det685.0.fits\n",
      "crispy - INFO - 0.34: x-shift from archival spot positions (pixels)\n",
      "crispy - INFO - -0.59: y-shift from archival spot positions (pixels)\n",
      "crispy - INFO - -0.00: rotation from archival spot positions (degrees)\n",
      "crispy - INFO - Overwriting old wavecal\n",
      "crispy - INFO - Don't forget to run buildcalibrations again with makePolychrome=True!\n",
      "crispy - INFO - Building calibration files, placing results in ..//ReferenceFiles/Calibra_170425/\n",
      "crispy - INFO - Read data from HDU 1 of ..//ReferenceFiles/Calibra_170425/det605.0.fits\n",
      "crispy - INFO - Read data from HDU 1 of ..//ReferenceFiles/Calibra_170425/det605.0.fits\n",
      "crispy - INFO - Read data from HDU 1 of ..//ReferenceFiles/Calibra_170425/det615.0.fits\n",
      "crispy - INFO - Read data from HDU 1 of ..//ReferenceFiles/Calibra_170425/det625.0.fits\n",
      "crispy - INFO - Read data from HDU 1 of ..//ReferenceFiles/Calibra_170425/det635.0.fits\n",
      "crispy - INFO - Read data from HDU 1 of ..//ReferenceFiles/Calibra_170425/det645.0.fits\n",
      "crispy - INFO - Read data from HDU 1 of ..//ReferenceFiles/Calibra_170425/det655.0.fits\n",
      "crispy - INFO - Read data from HDU 1 of ..//ReferenceFiles/Calibra_170425/det665.0.fits\n",
      "crispy - INFO - Read data from HDU 1 of ..//ReferenceFiles/Calibra_170425/det675.0.fits\n",
      "crispy - INFO - Read data from HDU 1 of ..//ReferenceFiles/Calibra_170425/det685.0.fits\n",
      "crispy - INFO - Read data from HDU 1 of ..//ReferenceFiles/Calibra_170425/det695.0.fits\n",
      "crispy - INFO - Read data from HDU 1 of ..//ReferenceFiles/Calibra_170425/det705.0.fits\n",
      "crispy - INFO - Read data from HDU 1 of ..//ReferenceFiles/Calibra_170425/det715.0.fits\n",
      "crispy - INFO - Read data from HDU 1 of ..//ReferenceFiles/Calibra_170425/det725.0.fits\n",
      "crispy - INFO - Loading wavelength solution from ..//ReferenceFiles/Calibra_170425/lamsol.dat\n",
      "crispy - INFO - Computing wavelength values at pixel centers\n",
      "crispy - INFO - Reduced cube will have 11 wavelength bins\n",
      "crispy - INFO - Making polychrome cube\n",
      "crispy - INFO - Saving polychrome cube\n",
      "crispy - INFO - Saving wavelength calibration cube\n",
      "crispy - INFO - Total time elapsed: 34 s\n"
     ]
    }
   ],
   "source": [
    "from crispy.tools.wavecal import monochromatic_update\n",
    "from crispy.tools.image import Image\n",
    "# let's pretend that we got a new file\n",
    "# inImage = Image(par.codeRoot+\"/Inputs/Flat637.fits\")\n",
    "# inLam = 637.\n",
    "inImage = Image(par.wavecalDir+'det685.0.fits')\n",
    "inLam=685.\n",
    "\n",
    "# this adjusts the wavecal\n",
    "monochromatic_update(par,inImage,inLam,apodize=True)\n",
    "# but you still have to re-run buildcalibrations each time\n",
    "from crispy.tools.wavecal import buildcalibrations\n",
    "par.gaussian_hires=False # since par.gaussian_hires is False, it will attempt to make high-resolution PSFLets\n",
    "par.lamlist = np.arange(605.,730.,10)\n",
    "par.filelist = [par.wavecalDir+'det'+str(wav)+'.fits' for wav in par.lamlist]\n",
    "buildcalibrations(par,\n",
    "                    inspect=True,\n",
    "                    genwavelengthsol=False, # already done before\n",
    "                    makehiresPSFlets=False, # already done\n",
    "                    makePolychrome=True, # update the polychrome with the new wavecal!\n",
    "                    upsample=3,\n",
    "                    nsubarr=4\n",
    "                 )\n",
    "\n",
    "\n"
   ]
  },
  {
   "cell_type": "code",
   "execution_count": 7,
   "metadata": {
    "collapsed": false
   },
   "outputs": [
    {
     "name": "stdout",
     "output_type": "stream",
     "text": [
      "crispy - INFO - Read data from HDU 1 of ..//Inputs/Flat637.fits\n",
      "crispy - INFO - Reduced cube will have 26 wavelength bins\n",
      "crispy - INFO - Elapsed time: 1.524932s\n",
      "crispy - INFO - Read data from HDU 1 of ..//Inputs/Flat637.fits\n",
      "crispy - INFO - Reduced cube will have 11 wavelength bins\n",
      "crispy - INFO - Writing data to ..//SimResults/Flat637_red_lstsq_resid.fits\n",
      "crispy - INFO - Writing data to ..//SimResults/Flat637_red_lstsq_model.fits\n",
      "crispy - INFO - Elapsed time: 4.164805s\n",
      "crispy - INFO - Read data from HDU 1 of ..//Inputs/BB.fits\n",
      "crispy - INFO - Reduced cube will have 11 wavelength bins\n",
      "crispy - INFO - Writing data to ..//SimResults/BB_red_lstsq_resid.fits\n",
      "crispy - INFO - Writing data to ..//SimResults/BB_red_lstsq_model.fits\n",
      "crispy - INFO - Elapsed time: 4.141197s\n",
      "crispy - INFO - Read data from HDU 1 of ..//Inputs/BB.fits\n",
      "crispy - INFO - Reduced cube will have 26 wavelength bins\n",
      "crispy - INFO - Elapsed time: 1.549576s\n",
      "crispy - INFO - Read data from HDU 1 of ..//ReferenceFiles/Calibra_170425/det655.0.fits\n",
      "crispy - INFO - Reduced cube will have 11 wavelength bins\n",
      "crispy - INFO - Writing data to ..//SimResults/det655_red_lstsq_resid.fits\n",
      "crispy - INFO - Writing data to ..//SimResults/det655_red_lstsq_model.fits\n",
      "crispy - INFO - Elapsed time: 4.114596s\n",
      "crispy - INFO - Read data from HDU 1 of ..//ReferenceFiles/Calibra_170425/det655.0.fits\n",
      "crispy - INFO - Reduced cube will have 11 wavelength bins\n",
      "crispy - INFO - Writing data to ..//SimResults/20171005-115743_red_lstsq_resid.fits\n",
      "crispy - INFO - Writing data to ..//SimResults/20171005-115743_red_lstsq_model.fits\n",
      "crispy - INFO - Elapsed time: 4.142944s\n"
     ]
    }
   ],
   "source": [
    "from crispy.IFS import reduceIFSMap\n",
    "from crispy.tools.image import Image\n",
    "\n",
    "cube = reduceIFSMap(par,par.codeRoot+\"/Inputs/Flat637.fits\",method='optext',smoothbad=True) # smoothbad=True is the default\n",
    "cube = reduceIFSMap(par,par.codeRoot+\"/Inputs/Flat637.fits\",method='lstsq')\n",
    "cube = reduceIFSMap(par,par.codeRoot+\"/Inputs/BB.fits\",method='lstsq')\n",
    "cube = reduceIFSMap(par,par.codeRoot+\"/Inputs/BB.fits\",method='optext')\n",
    "cube = reduceIFSMap(par,par.wavecalDir+\"det655.0.fits\",method='lstsq')\n",
    "\n",
    "# reduce an array directly instead of a FITS file\n",
    "cube_array = Image(filename= par.wavecalDir+\"det655.0.fits\").data\n",
    "\n",
    "# now cube_array is a simple 2D array. Function is the same, but the argument is changed from a string to an array.\n",
    "# You can also specify name=\"my_name\" in the arguments, and it will output a file called \"my_name_red_optext.fits\"\n",
    "# If name is unspecified, it creates a file with the date and time as a base, result of the function\n",
    "# time.strftime(\"%Y%m%d-%H%M%S\")\n",
    "cube = reduceIFSMap(par,cube_array,method='lstsq')\n"
   ]
  },
  {
   "cell_type": "markdown",
   "metadata": {},
   "source": [
    "# Construct lenslet bad pixel/flatfield from broadband reduced cube"
   ]
  },
  {
   "cell_type": "markdown",
   "metadata": {},
   "source": [
    "The following only works if the reduced cube is first done WITHOUT already correcting for lenslet flatfield. To do this, run the but only AFTER running deleting the keywords in the parameters class:"
   ]
  },
  {
   "cell_type": "code",
   "execution_count": 3,
   "metadata": {
    "collapsed": false
   },
   "outputs": [
    {
     "name": "stdout",
     "output_type": "stream",
     "text": [
      "crispy - INFO - Read data from HDU 1 of ..//Inputs/BB.fits\n",
      "crispy - INFO - Reduced cube will have 11 wavelength bins\n",
      "crispy - INFO - Writing data to ..//SimResults/BB_red_lstsq_resid.fits\n",
      "crispy - INFO - Writing data to ..//SimResults/BB_red_lstsq_model.fits\n",
      "crispy - INFO - Elapsed time: 4.119495s\n"
     ]
    }
   ],
   "source": [
    "from crispy.IFS import reduceIFSMap\n",
    "\n",
    "if hasattr(par,'lenslet_flat'): del par.lenslet_flat\n",
    "if hasattr(par,'lenslet_mask'): del par.lenslet_mask\n",
    "cube = reduceIFSMap(par,par.codeRoot+\"/Inputs/BB.fits\",method='lstsq',smoothbad=False)\n",
    "# cubeOpt = reduceIFSMap(par,par.codeRoot+\"/Inputs/BB.fits\",method='optext',smoothbad=False)\n"
   ]
  },
  {
   "cell_type": "code",
   "execution_count": 7,
   "metadata": {
    "collapsed": false
   },
   "outputs": [
    {
     "name": "stdout",
     "output_type": "stream",
     "text": [
      "crispy - INFO - Read data from HDU 1 of ..//SimResults/BB_red_lstsq.fits\n",
      "crispy - INFO - Read inverse variance from HDU 2 of ..//SimResults/BB_red_lstsq.fits\n",
      "('Mean, sig in central 20 lenslets:', 4521.3896, 244.69797)\n",
      "crispy - INFO - Writing data to ..//SimResults/lenslet_flat.fits\n",
      "crispy - INFO - Writing data to ..//SimResults/lenslet_mask.fits\n"
     ]
    },
    {
     "data": {
      "image/png": "[encoded data removed]",
      "text/plain": [
       "<matplotlib.figure.Figure at 0x1162f4490>"
      ]
     },
     "metadata": {},
     "output_type": "display_data"
    }
   ],
   "source": [
    "from crispy.tools.imgtools import gen_lenslet_flat\n",
    "BBcube = Image(par.exportDir+\"/BB_red_lstsq.fits\")\n",
    "lenslet_flat,lenslet_mask = gen_lenslet_flat(BBcube)\n",
    "Image(data = lenslet_flat).write(par.exportDir+\"/lenslet_flat.fits\",clobber=True)\n",
    "Image(data = lenslet_mask).write(par.exportDir+\"/lenslet_mask.fits\",clobber=True)\n",
    "plt.figure(figsize=(10,10))\n",
    "plt.imshow(lenslet_flat*lenslet_mask, cmap='viridis',vmin=0.8,vmax=1.2)\n",
    "plt.colorbar(fraction=0.046, pad=0.04)\n",
    "plt.show()\n"
   ]
  },
  {
   "cell_type": "code",
   "execution_count": null,
   "metadata": {
    "collapsed": false
   },
   "outputs": [],
   "source": [
    "psflets = Image(par.wavecalDir+\"/hires_psflets_lam605.fits\").data\n",
    "fig, axarr = plt.subplots(4,4,figsize=(12,12))\n",
    "for i in range(psflets.shape[0]):\n",
    "    for j in range(psflets.shape[1]):\n",
    "        axarr[i,j].imshow(psflets[i,j],vmin=0.0)\n",
    "        axarr[i,j].axis('off')\n",
    "plt.subplots_adjust(wspace=0.0,hspace=0.05)\n",
    "plt.savefig(par.wavecalDir+\"psflets.png\")        \n",
    "plt.show()\n"
   ]
  },
  {
   "cell_type": "markdown",
   "metadata": {},
   "source": [
    "### Scratch work with the PSF width determination"
   ]
  },
  {
   "cell_type": "code",
   "execution_count": null,
   "metadata": {
    "collapsed": false
   },
   "outputs": [],
   "source": [
    "import re\n",
    "# par.wavecalDir = '../ReferenceFiles/wavecalR50_660/'\n",
    "hires_list = np.sort(glob.glob(par.wavecalDir + '/hires_psflets_lam???.fits'))\n",
    "hires_arrs = [fits.open(filename)[0].data for filename in hires_list]\n",
    "lam_hires = [int(re.sub('.*lam', '', re.sub('.fits', '', filename)))\n",
    "             for filename in hires_list]\n",
    "psflet_res = 3 # Oversampling of high-resolution PSFlet images\n"
   ]
  },
  {
   "cell_type": "code",
   "execution_count": null,
   "metadata": {
    "collapsed": false
   },
   "outputs": [],
   "source": [
    "print lam_hires\n",
    "print hires_arrs[0].shape\n",
    "print par.wavecalDir"
   ]
  },
  {
   "cell_type": "code",
   "execution_count": null,
   "metadata": {
    "collapsed": true
   },
   "outputs": [],
   "source": [
    "shape = hires_arrs[0].shape\n",
    "sigarr = np.zeros((len(hires_list), shape[0], shape[1]))\n",
    "_x = np.arange(shape[2])/float(psflet_res)\n",
    "_x -= _x[_x.shape[0]//2]\n",
    "\n",
    "for i in range(sigarr.shape[0]):\n",
    "    for j in range(sigarr.shape[1]):\n",
    "        for k in range(sigarr.shape[2]):                \n",
    "# for i in range(1):\n",
    "#     for j in range(1):\n",
    "#         for k in range(1):                \n",
    "            row = np.sum(hires_arrs[i][j, k, :, shape[3]//2-1:shape[3]//2+1],axis=1) \n",
    "#             row = np.sum(row.reshape((row.shape[0]//3,3)),axis=1)/3.\n",
    "#             xrow = np.sum(_x.reshape((_x.shape[0]//3,3)),axis=1)/3.\n",
    "            sigarr[i, j, k] = np.sum(row*_x**2)\n",
    "            sigarr[i, j, k] /= np.sum(row)\n",
    "\n",
    "    sigarr[i] = np.sqrt(sigarr[i])\n"
   ]
  },
  {
   "cell_type": "code",
   "execution_count": null,
   "metadata": {
    "collapsed": false
   },
   "outputs": [],
   "source": [
    "from crispy.tools.detutils import frebin\n",
    "#row = np.sum(hires_arrs[i][j, k, :, shape[3]//2-1:shape[3]//2+1],axis=1)\n",
    "#print _x.shape\n",
    "#sh= np.sum(row.reshape((row.shape[0]//3,3)),axis=1)/3.\n",
    "#xsh = np.sum(_x.reshape((_x.shape[0]//3,3)),axis=1)/3.\n",
    "#print sh.shape\n",
    "# plt.plot(xrow,row)\n",
    "plt.plot(_x,row)\n",
    "plt.plot(_x,np.exp(-_x**2/2./sigarr[i, j, k]**2)/np.sqrt(sigarr[i, j, k])/np.sqrt(2.*np.pi)/0.6)"
   ]
  },
  {
   "cell_type": "code",
   "execution_count": null,
   "metadata": {
    "collapsed": false
   },
   "outputs": [],
   "source": [
    "print sigarr[i, j, k]"
   ]
  },
  {
   "cell_type": "code",
   "execution_count": null,
   "metadata": {
    "collapsed": false
   },
   "outputs": [],
   "source": [
    "from crispy.tools.locate_psflets import PSFLets\n",
    "lam = np.loadtxt(par.wavecalDir + \"lamsol.dat\")[:, 0]\n",
    "allcoef = np.loadtxt(par.wavecalDir + \"lamsol.dat\")[:, 1:]\n",
    "psftool = PSFLets()\n",
    "lam1 = min(lam)\n",
    "lam2 = max(lam)\n",
    "psftool.genpixsol(par,lam, allcoef, order=3,lam1=lam1/1.02, lam2=lam2*1.02)\n"
   ]
  },
  {
   "cell_type": "code",
   "execution_count": null,
   "metadata": {
    "collapsed": false
   },
   "outputs": [],
   "source": [
    "from scipy import ndimage,interpolate\n",
    "from scipy import interpolate\n",
    "mean_x = psftool.xindx[:, :, psftool.xindx.shape[-1]//2]\n",
    "mean_y = psftool.yindx[:, :, psftool.yindx.shape[-1]//2]\n",
    "\n",
    "longsigarr = np.zeros((len(lam_hires), mean_x.shape[0], mean_x.shape[1]))\n",
    "\n",
    "ix = mean_x*hires_arrs[0].shape[1]/par.npix - 0.5\n",
    "iy = mean_y*hires_arrs[0].shape[0]/par.npix - 0.5\n",
    "\n",
    "for i in range(sigarr.shape[0]):\n",
    "    longsigarr[i] = ndimage.map_coordinates(sigarr[i], [iy, ix], order=3, mode='nearest')\n",
    "fullsigarr = np.ones((psftool.xindx.shape))\n",
    "for i in range(mean_x.shape[0]):\n",
    "    for j in range(mean_x.shape[1]):\n",
    "        if psftool.good[i,j]:\n",
    "            fit = interpolate.interp1d(np.asarray(lam_hires), longsigarr[:, i, j],\n",
    "                                       bounds_error=False, fill_value='extrapolate')\n",
    "            fullsigarr[i, j] = fit(psftool.lam_indx[i, j])"
   ]
  },
  {
   "cell_type": "code",
   "execution_count": null,
   "metadata": {
    "collapsed": false
   },
   "outputs": [],
   "source": [
    "plt.imshow(fullsigarr[:,:,10])\n",
    "plt.colorbar()\n"
   ]
  },
  {
   "cell_type": "code",
   "execution_count": 10,
   "metadata": {
    "collapsed": false
   },
   "outputs": [
    {
     "name": "stdout",
     "output_type": "stream",
     "text": [
      "(11, 1032, 1056)\n",
      "(12, 1032, 1056)\n",
      "(1, 1032, 1056)\n"
     ]
    }
   ],
   "source": [
    "from crispy.tools.reduction import _add_row\n",
    "polychromeR = fits.open(par.wavecalDir + 'polychromeR%d.fits' % (par.R))\n",
    "psflets = polychromeR[0].data\n",
    "print psflets.shape\n",
    "psflets2 = _add_row(psflets,n=1)\n",
    "print psflets2.shape\n",
    "print psflets2[-1:].shape"
   ]
  },
  {
   "cell_type": "markdown",
   "metadata": {},
   "source": [
    "If you are satisfied with the flatfielding and masking, move the two fits files into the wavecal directory and reduce things with the two class attributes defined. When you reload the parameter file, the two attributes automatically get reset."
   ]
  }
 ],
 "metadata": {
  "kernelspec": {
   "display_name": "Python 2",
   "language": "python",
   "name": "python2"
  },
  "language_info": {
   "codemirror_mode": {
    "name": "ipython",
    "version": 2
   },
   "file_extension": ".py",
   "mimetype": "text/x-python",
   "name": "python",
   "nbconvert_exporter": "python",
   "pygments_lexer": "ipython2",
   "version": "2.7.13"
  }
 },
 "nbformat": 4,
 "nbformat_minor": 1
}
