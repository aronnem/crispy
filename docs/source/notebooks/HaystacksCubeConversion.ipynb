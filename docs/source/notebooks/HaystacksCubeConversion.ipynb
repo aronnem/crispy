{
 "cells": [
  {
   "cell_type": "markdown",
   "metadata": {},
   "source": [
    "# Convert Haystacks cube"
   ]
  },
  {
   "cell_type": "code",
   "execution_count": 1,
   "metadata": {
    "collapsed": false
   },
   "outputs": [
    {
     "name": "stdout",
     "output_type": "stream",
     "text": [
      "Populating the interactive namespace from numpy and matplotlib\n",
      "(11, 201, 201)\n"
     ]
    },
    {
     "data": {
      "text/plain": [
       "<matplotlib.colorbar.Colorbar at 0x110958a90>"
      ]
     },
     "execution_count": 1,
     "metadata": {},
     "output_type": "execute_result"
    },
    {
     "data": {
      "image/png": "[encoded data removed]",
      "text/plain": [
       "<matplotlib.figure.Figure at 0x109f9f110>"
      ]
     },
     "metadata": {},
     "output_type": "display_data"
    }
   ],
   "source": [
    "%pylab inline --no-import-all\n",
    "matplotlib.rcParams['image.origin'] = 'lower'\n",
    "matplotlib.rcParams['image.interpolation'] = 'nearest'\n",
    "from matplotlib.colors import LogNorm\n",
    "\n",
    "from astropy.io import fits\n",
    "import astropy.units as u\n",
    "import astropy.constants as c\n",
    "\n",
    "\n",
    "cmap='viridis'\n",
    "filename = '/Users/mrizzo/Science/Haystacks/cube_zodi10inc60dist3_epoch25.7300_sres50.0000_0.4um'\n",
    "hducube = fits.open(filename+'.fits')\n",
    "print(hducube[0].shape)\n",
    "img = hducube[0].data\n",
    "plt.figure(figsize=(12,8))\n",
    "plt.imshow(img[0],cmap=cmap,norm=LogNorm())\n",
    "plt.colorbar(fraction=0.046, pad=0.04)"
   ]
  },
  {
   "cell_type": "code",
   "execution_count": 2,
   "metadata": {
    "collapsed": false
   },
   "outputs": [
    {
     "name": "stdout",
     "output_type": "stream",
     "text": [
      "[ 450.          459.99996948  470.          480.          489.99996948\n",
      "  500.          510.          520.          530.          539.99993896\n",
      "  549.99993896] nm\n"
     ]
    }
   ],
   "source": [
    "lamlist = (hducube[1].data*u.um).to(u.nm)\n",
    "print lamlist"
   ]
  },
  {
   "cell_type": "code",
   "execution_count": 3,
   "metadata": {
    "collapsed": false
   },
   "outputs": [
    {
     "name": "stdout",
     "output_type": "stream",
     "text": [
      "2.71995728256e-33 W / (Hz m nm2 s)\n",
      "12280787.9721 1 / (m2 nm s)\n"
     ]
    }
   ],
   "source": [
    "\n",
    "imgJy = img*(1.*u.Jansky)\n",
    "imgJy = imgJy.to(u.Watt/u.m**2/u.Hertz)\n",
    "\n",
    "wavelcube = c.c/lamlist[:,np.newaxis,np.newaxis]**2\n",
    "imgJy *= wavelcube\n",
    "print(imgJy[0,0,0])\n",
    "imgJy = imgJy.to(u.W/u.m**2/u.nm)\n",
    "E_ph = (c.h*c.c/lamlist[:,np.newaxis,np.newaxis]).to(u.J)\n",
    "imgphots = (imgJy/E_ph).to(1./u.s/u.m**2/u.nm)\n",
    "\n",
    "print(np.sum(imgphots[0]))\n"
   ]
  },
  {
   "cell_type": "code",
   "execution_count": 4,
   "metadata": {
    "collapsed": false
   },
   "outputs": [
    {
     "name": "stdout",
     "output_type": "stream",
     "text": [
      "764141548.927 1 / s\n"
     ]
    }
   ],
   "source": [
    "dlam = 10*u.nm\n",
    "area = (2.37*u.m)**2\n",
    "imgphotspersec = imgphots * dlam*area\n",
    "print(np.amax(imgphotspersec[-1]))\n"
   ]
  },
  {
   "cell_type": "code",
   "execution_count": 5,
   "metadata": {
    "collapsed": false
   },
   "outputs": [],
   "source": [
    "header = hducube[0].header\n",
    "header['BUNIT']='ph/s/nm/m2'\n",
    "header.append(('COMMENT', 'Converted to photons/sec/m2/nm/pixel'), end=True)\n",
    "outkey = fits.HDUList(fits.PrimaryHDU(imgphots.value,header))\n",
    "outkey.append(hducube[1])\n",
    "outkey.append(hducube[2])\n",
    "outkey.writeto(filename+'_phpersec_test.fits', clobber=True)\n"
   ]
  },
  {
   "cell_type": "code",
   "execution_count": 6,
   "metadata": {
    "collapsed": false
   },
   "outputs": [
    {
     "name": "stdout",
     "output_type": "stream",
     "text": [
      "../../../../crispy\n"
     ]
    }
   ],
   "source": [
    "import sys\n",
    "import os\n",
    "\n",
    "folder = '../../../../crispy'\n",
    "print(folder)\n",
    "if folder not in sys.path: sys.path.append(folder)\n"
   ]
  },
  {
   "cell_type": "markdown",
   "metadata": {},
   "source": [
    "# Integrate into crispy"
   ]
  },
  {
   "cell_type": "code",
   "execution_count": 7,
   "metadata": {
    "collapsed": false
   },
   "outputs": [],
   "source": [
    "from crispy.tools.inputScene import convert_haystacks_cube\n",
    "\n",
    "newhdu = convert_haystacks_cube(hducube)\n",
    "newhdu.writeto(filename+'_phpersec.fits',clobber=True)"
   ]
  }
 ],
 "metadata": {
  "kernelspec": {
   "display_name": "Python 2",
   "language": "python",
   "name": "python2"
  },
  "language_info": {
   "codemirror_mode": {
    "name": "ipython",
    "version": 2
   },
   "file_extension": ".py",
   "mimetype": "text/x-python",
   "name": "python",
   "nbconvert_exporter": "python",
   "pygments_lexer": "ipython2",
   "version": "2.7.13"
  }
 },
 "nbformat": 4,
 "nbformat_minor": 2
}
