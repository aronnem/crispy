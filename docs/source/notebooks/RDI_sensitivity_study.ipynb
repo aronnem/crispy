{
 "cells": [
  {
   "cell_type": "markdown",
   "metadata": {},
   "source": [
    "# RDI sensitivity"
   ]
  },
  {
   "cell_type": "code",
   "execution_count": 1,
   "metadata": {
    "collapsed": false
   },
   "outputs": [
    {
     "name": "stdout",
     "output_type": "stream",
     "text": [
      "Populating the interactive namespace from numpy and matplotlib\n",
      "../../../../crispy\n"
     ]
    }
   ],
   "source": [
    "%pylab inline --no-import-all\n",
    "matplotlib.rcParams['image.origin'] = 'lower'\n",
    "matplotlib.rcParams['image.interpolation'] = 'nearest'\n",
    "matplotlib.rcParams['axes.grid'] = False\n",
    "import sys\n",
    "import os\n",
    "\n",
    "folder = '../../../../crispy'\n",
    "print(folder)\n",
    "if folder not in sys.path: sys.path.append(folder)\n",
    "\n",
    "from crispy.params import Params\n",
    "folder = '../../../crispy'\n",
    "par = Params(folder)\n",
    "\n",
    "from crispy.tools.initLogger import getLogger\n",
    "log = getLogger('crispy')\n",
    "from crispy.IFS import polychromeIFS\n",
    "from crispy.IFS import reduceIFSMap\n",
    "from crispy.tools.imgtools import scale2imgs,bowtie\n",
    "from crispy.tools.image import Image\n",
    "from crispy.tools.rotate import rotateCube,shiftCube\n",
    "from crispy.tools.postprocessing import mf,recenter_offaxis\n",
    "from crispy.tools.inputScene import adjust_krist_header\n",
    "from crispy.tools.detector import averageDetectorReadout\n",
    "from astropy.io import fits\n",
    "import astropy.units as u\n",
    "from crispy.tools.postprocessing import construct_mflib,convolved_mf\n",
    "\n"
   ]
  },
  {
   "cell_type": "markdown",
   "metadata": {},
   "source": [
    "## Parameters"
   ]
  },
  {
   "cell_type": "code",
   "execution_count": 2,
   "metadata": {
    "collapsed": false
   },
   "outputs": [
    {
     "data": {
      "text/plain": [
       "SIMPLE  =                    T / conforms to FITS standard                      \n",
       "BITPIX  =                    8 / array data type                                \n",
       "NAXIS   =                    0 / number of array dimensions                     \n",
       "EXTEND  =                    T                                                  \n",
       "COMMENT                                                                         \n",
       "COMMENT ************************************************************            \n",
       "COMMENT ********************** General parameters ******************            \n",
       "COMMENT ************************************************************            \n",
       "COMMENT                                                                         \n",
       "NLENS   =                  108 / # lenslets across array                        \n",
       "PITCH   =             0.000174 / Lenslet pitch (meters)                         \n",
       "INTERLAC=                    2 / Interlacing                                    \n",
       "PHILENS =    26.56505117707799 / Rotation angle of the lenslets (deg)           \n",
       "PIXSIZE =              1.3E-05 / Pixel size (meters)                            \n",
       "LENSAMP =                  0.5 / Lenslet sampling (lam/D)                       \n",
       "LSAMPWAV=                660.0 / Lenslet sampling wavelength (nm)               \n",
       "FWHM    =                    2 / FHWM of PSFLet at detector (pixels)            \n",
       "FWHMLAM =                660.0 / Wavelength at which FWHM is defined (nm)       \n",
       "NPIX    =                 1024 / Number of detector pixels                      \n",
       "DISPDIST=                    F / Use PISCES distortion/dispersion?              "
      ]
     },
     "execution_count": 2,
     "metadata": {},
     "output_type": "execute_result"
    }
   ],
   "source": [
    "lamc=660.\n",
    "BW = 0.18\n",
    "par.nonoise=True\n",
    "sampling=2.0\n",
    "par.lenslet_sampling=1./sampling\n",
    "folder = '/Users/mrizzo/IFS/OS5_RDI_660_'+str(sampling)\n",
    "offaxis_psf_filename='/Users/mrizzo/IFS/OS5/offaxis/spc_offaxis_psf.fits'\n",
    "OS5_files = '/Users/mrizzo/IFS/OS5/with_lowfc/'\n",
    "# folder = '/local/data/nicolaus2/mrizzo/OS5_RDI_660_'+str(sampling)\n",
    "# offaxis_psf_filename='/local/data/nicolaus2/mrizzo/haystacks/for_gsfc/spc_offaxis_psf.fits'\n",
    "# OS5_files = '/local/data/nicolaus2/mrizzo/haystacks/for_gsfc/with_lowfc/'\n",
    "IWA=2.7\n",
    "OWA=8.7\n",
    "try:\n",
    "    os.makedirs(folder)\n",
    "    os.makedirs(folder+'/average')\n",
    "    os.makedirs(folder+'/detector')  \n",
    "except OSError:\n",
    "    pass\n",
    "par.hdr\n"
   ]
  },
  {
   "cell_type": "markdown",
   "metadata": {},
   "source": [
    "## Process all files from Krist"
   ]
  },
  {
   "cell_type": "markdown",
   "metadata": {},
   "source": [
    "Only need to do this the first time"
   ]
  },
  {
   "cell_type": "code",
   "execution_count": null,
   "metadata": {
    "collapsed": false
   },
   "outputs": [],
   "source": [
    "from crispy.tools.postprocessing import processReferenceCubes,processTargetCubes\n",
    "import astropy.units as u\n",
    "import glob\n",
    "filelist = glob.glob(OS5_files+'*.fits')\n",
    "filelist.sort()\n",
    "Nref=30\n",
    "reffiles = filelist[:Nref]\n",
    "targetfiles =filelist[Nref:]\n",
    "\n",
    "# ref_outlist = processReferenceCubes(par,xshift=0.0,yshift=0.0,order=3,\n",
    "#                 outdir_time_series = folder,\n",
    "#                 ref_input_list=reffiles,\n",
    "#                 ref_star_T=9377*u.K, ref_star_Vmag=2.37,\n",
    "#                 lamc=lamc,BW = BW,\n",
    "#                 tel_pupil_area=3.650265060424805*u.m**2)\n",
    "# target_outlist = processTargetCubes(par,target_file_list=targetfiles,\n",
    "#                 outdir_time_series = folder,\n",
    "#                 target_star_T=5887*u.K, target_star_Vmag=5.03,\n",
    "#                 lamc=lamc,BW = BW,\n",
    "#                 tel_pupil_area=3.650265060424805*u.m**2)\n"
   ]
  },
  {
   "cell_type": "markdown",
   "metadata": {},
   "source": [
    "## Run RDI"
   ]
  },
  {
   "cell_type": "code",
   "execution_count": null,
   "metadata": {
    "collapsed": false,
    "scrolled": true
   },
   "outputs": [
    {
     "name": "stdout",
     "output_type": "stream",
     "text": [
      "crispy - INFO - Read data from HDU 0 of /Users/mrizzo/IFS/OS5/with_lowfc/os5_spc_001.fits\n",
      "crispy - INFO - X,Y Shift in px in original cubes: 1.12, 3.35\n",
      "crispy - INFO - Processing file os5_spc_001.fits\n",
      "crispy - INFO - Shifting input cube\n",
      "crispy - INFO - The number of input pixels per lenslet is 5.000000\n",
      "crispy - INFO - Using PSFlet gaussian approximation\n",
      "crispy - WARNING - Assuming slices are evenly spread in wavelengths\n",
      "crispy - INFO - Done.\n",
      "crispy - INFO - Performance: 36 seconds total\n",
      "crispy - INFO - Writing data to /Users/mrizzo/IFS/OS5_RDI_660_2.0/os5_spc_001_refstar_IFS.fits\n",
      "crispy - INFO - Processing file os5_spc_002.fits\n",
      "crispy - INFO - Shifting input cube\n",
      "crispy - INFO - The number of input pixels per lenslet is 5.000000\n",
      "crispy - INFO - Using PSFlet gaussian approximation\n",
      "crispy - WARNING - Assuming slices are evenly spread in wavelengths\n",
      "crispy - INFO - Done.\n",
      "crispy - INFO - Performance: 37 seconds total\n",
      "crispy - INFO - Writing data to /Users/mrizzo/IFS/OS5_RDI_660_2.0/os5_spc_002_refstar_IFS.fits\n",
      "crispy - INFO - Processing file os5_spc_003.fits\n",
      "crispy - INFO - Shifting input cube\n",
      "crispy - INFO - The number of input pixels per lenslet is 5.000000\n",
      "crispy - INFO - Using PSFlet gaussian approximation\n",
      "crispy - WARNING - Assuming slices are evenly spread in wavelengths\n",
      "crispy - INFO - Done.\n",
      "crispy - INFO - Performance: 38 seconds total\n",
      "crispy - INFO - Writing data to /Users/mrizzo/IFS/OS5_RDI_660_2.0/os5_spc_003_refstar_IFS.fits\n",
      "crispy - INFO - Processing file os5_spc_004.fits\n",
      "crispy - INFO - Shifting input cube\n",
      "crispy - INFO - The number of input pixels per lenslet is 5.000000\n",
      "crispy - INFO - Using PSFlet gaussian approximation\n",
      "crispy - WARNING - Assuming slices are evenly spread in wavelengths\n",
      "crispy - INFO - Done.\n",
      "crispy - INFO - Performance: 40 seconds total\n",
      "crispy - INFO - Writing data to /Users/mrizzo/IFS/OS5_RDI_660_2.0/os5_spc_004_refstar_IFS.fits\n",
      "crispy - INFO - Processing file os5_spc_005.fits\n",
      "crispy - INFO - Shifting input cube\n",
      "crispy - INFO - The number of input pixels per lenslet is 5.000000\n",
      "crispy - INFO - Using PSFlet gaussian approximation\n",
      "crispy - WARNING - Assuming slices are evenly spread in wavelengths\n",
      "crispy - INFO - Done.\n",
      "crispy - INFO - Performance: 38 seconds total\n",
      "crispy - INFO - Writing data to /Users/mrizzo/IFS/OS5_RDI_660_2.0/os5_spc_005_refstar_IFS.fits\n",
      "crispy - INFO - Processing file os5_spc_006.fits\n",
      "crispy - INFO - Shifting input cube\n",
      "crispy - INFO - The number of input pixels per lenslet is 5.000000\n",
      "crispy - INFO - Using PSFlet gaussian approximation\n",
      "crispy - WARNING - Assuming slices are evenly spread in wavelengths\n",
      "crispy - INFO - Done.\n",
      "crispy - INFO - Performance: 37 seconds total\n",
      "crispy - INFO - Writing data to /Users/mrizzo/IFS/OS5_RDI_660_2.0/os5_spc_006_refstar_IFS.fits\n",
      "crispy - INFO - Processing file os5_spc_007.fits\n",
      "crispy - INFO - Shifting input cube\n",
      "crispy - INFO - The number of input pixels per lenslet is 5.000000\n",
      "crispy - INFO - Using PSFlet gaussian approximation\n",
      "crispy - WARNING - Assuming slices are evenly spread in wavelengths\n",
      "crispy - INFO - Done.\n",
      "crispy - INFO - Performance: 38 seconds total\n",
      "crispy - INFO - Writing data to /Users/mrizzo/IFS/OS5_RDI_660_2.0/os5_spc_007_refstar_IFS.fits\n",
      "crispy - INFO - Processing file os5_spc_008.fits\n",
      "crispy - INFO - Shifting input cube\n",
      "crispy - INFO - The number of input pixels per lenslet is 5.000000\n",
      "crispy - INFO - Using PSFlet gaussian approximation\n",
      "crispy - WARNING - Assuming slices are evenly spread in wavelengths\n",
      "crispy - INFO - Done.\n",
      "crispy - INFO - Performance: 43 seconds total\n",
      "crispy - INFO - Writing data to /Users/mrizzo/IFS/OS5_RDI_660_2.0/os5_spc_008_refstar_IFS.fits\n",
      "crispy - INFO - Processing file os5_spc_009.fits\n",
      "crispy - INFO - Shifting input cube\n",
      "crispy - INFO - The number of input pixels per lenslet is 5.000000\n",
      "crispy - INFO - Using PSFlet gaussian approximation\n",
      "crispy - WARNING - Assuming slices are evenly spread in wavelengths\n",
      "crispy - INFO - Done.\n",
      "crispy - INFO - Performance: 39 seconds total\n",
      "crispy - INFO - Writing data to /Users/mrizzo/IFS/OS5_RDI_660_2.0/os5_spc_009_refstar_IFS.fits\n",
      "crispy - INFO - Processing file os5_spc_010.fits\n",
      "crispy - INFO - Shifting input cube\n",
      "crispy - INFO - The number of input pixels per lenslet is 5.000000\n",
      "crispy - INFO - Using PSFlet gaussian approximation\n",
      "crispy - WARNING - Assuming slices are evenly spread in wavelengths\n",
      "crispy - INFO - Done.\n",
      "crispy - INFO - Performance: 38 seconds total\n",
      "crispy - INFO - Writing data to /Users/mrizzo/IFS/OS5_RDI_660_2.0/os5_spc_010_refstar_IFS.fits\n",
      "crispy - INFO - Processing file os5_spc_011.fits\n",
      "crispy - INFO - Shifting input cube\n",
      "crispy - INFO - The number of input pixels per lenslet is 5.000000\n",
      "crispy - INFO - Using PSFlet gaussian approximation\n",
      "crispy - WARNING - Assuming slices are evenly spread in wavelengths\n",
      "crispy - INFO - Done.\n",
      "crispy - INFO - Performance: 39 seconds total\n",
      "crispy - INFO - Writing data to /Users/mrizzo/IFS/OS5_RDI_660_2.0/os5_spc_011_refstar_IFS.fits\n",
      "crispy - INFO - Processing file os5_spc_012.fits\n",
      "crispy - INFO - Shifting input cube\n",
      "crispy - INFO - The number of input pixels per lenslet is 5.000000\n",
      "crispy - INFO - Using PSFlet gaussian approximation\n",
      "crispy - WARNING - Assuming slices are evenly spread in wavelengths\n",
      "crispy - INFO - Done.\n",
      "crispy - INFO - Performance: 38 seconds total\n",
      "crispy - INFO - Writing data to /Users/mrizzo/IFS/OS5_RDI_660_2.0/os5_spc_012_refstar_IFS.fits\n",
      "crispy - INFO - Processing file os5_spc_013.fits\n",
      "crispy - INFO - Shifting input cube\n",
      "crispy - INFO - The number of input pixels per lenslet is 5.000000\n",
      "crispy - INFO - Using PSFlet gaussian approximation\n",
      "crispy - WARNING - Assuming slices are evenly spread in wavelengths\n",
      "crispy - INFO - Done.\n",
      "crispy - INFO - Performance: 38 seconds total\n",
      "crispy - INFO - Writing data to /Users/mrizzo/IFS/OS5_RDI_660_2.0/os5_spc_013_refstar_IFS.fits\n",
      "crispy - INFO - Processing file os5_spc_014.fits\n",
      "crispy - INFO - Shifting input cube\n",
      "crispy - INFO - The number of input pixels per lenslet is 5.000000\n",
      "crispy - INFO - Using PSFlet gaussian approximation\n",
      "crispy - WARNING - Assuming slices are evenly spread in wavelengths\n"
     ]
    }
   ],
   "source": [
    "from crispy.tools.postprocessing import RDI_noise\n",
    "\n",
    "\n",
    "offsets = [(0.5,0.5),(0.5,-0.5),(0,0)]\n",
    "\n",
    "results = np.zeros((19,len(offsets)))\n",
    "for i in range(len(offsets)):\n",
    "        offset = offsets[i]\n",
    "        rootname='x%.2f_y%.2f' % (offset[0],offset[1])\n",
    "        try:\n",
    "            os.makedirs(folder+'/average/'+rootname)\n",
    "        except OSError:\n",
    "            pass\n",
    "\n",
    "        results[:,i] = RDI_noise(par,offset[0],offset[1],order=3,\n",
    "                rootname=rootname,\n",
    "                process_cubes=True,\n",
    "                process_offaxis_files=True,\n",
    "                process_detector=True,\n",
    "                take_averages=True,\n",
    "                countershift=True,\n",
    "                normalize_cubes=True,\n",
    "                ref_only=True,\n",
    "                IWA=IWA,\n",
    "                OWA=OWA,\n",
    "                forced_inttime_ref = 50,                   \n",
    "                outdir_time_series = folder,\n",
    "                outdir_detector=folder+'/detector',\n",
    "                outdir_average=folder+'/average/'+rootname,\n",
    "                psf_time_series_folder=OS5_files,\n",
    "                offaxis_psf_filename=offaxis_psf_filename,\n",
    "                mflib = '',#folder+'/average/mflib.fits.gz''',\n",
    "                lamc=lamc,BW=BW,\n",
    "                offaxis_reduced = folder+'/average/offaxis_detector_red_optext.fits')\n",
    "outkey = fits.HDUList(fits.PrimaryHDU(results.astype(np.float)))\n",
    "outkey.writeto(folder+'/average/results_rdi'+str(sampling)+'.fits',clobber=True)\n"
   ]
  },
  {
   "cell_type": "code",
   "execution_count": null,
   "metadata": {
    "collapsed": false,
    "scrolled": false
   },
   "outputs": [],
   "source": [
    "plt.figure(figsize=(12,12))\n",
    "results=Image(folder+'/average/results_rdi'+str(sampling)+'.fits').data\n",
    "plt.imshow(results,cmap='Greys_r')\n",
    "plt.colorbar()"
   ]
  },
  {
   "cell_type": "code",
   "execution_count": null,
   "metadata": {
    "collapsed": false,
    "scrolled": false
   },
   "outputs": [],
   "source": [
    "plt.figure(figsize=(15,12))\n",
    "trim=31\n",
    "slicenum=2\n",
    "fontsize=11\n",
    "plt.subplot(331)\n",
    "img1 = Image(folder+'/average/x0.00_y0.00/ref_average_detector_countershifted_x0.00_y0.00_red_optext.fits').data\n",
    "plt.imshow(img1[slicenum,trim:-trim,trim:-trim], cmap='viridis')\n",
    "plt.title('Reference star centered',fontsize=fontsize)\n",
    "plt.colorbar(fraction=0.046, pad=0.04)\n",
    "plt.subplot(332)\n",
    "img2 = Image(folder+'/average/x0.50_y0.50/ref_average_detector_countershifted_x0.50_y0.50_red_optext.fits').data\n",
    "plt.imshow(img2[slicenum,trim:-trim,trim:-trim], cmap='viridis')\n",
    "plt.title('Reference star shifted by (0.5,0.5) lenslets',fontsize=fontsize)\n",
    "plt.colorbar(fraction=0.046, pad=0.04)\n",
    "plt.subplot(333)\n",
    "diff = img2-img1\n",
    "plt.imshow(diff[slicenum,trim:-trim,trim:-trim], cmap='viridis')\n",
    "plt.title('Difference (after countershift)',fontsize=fontsize)\n",
    "plt.colorbar(fraction=0.046, pad=0.04)\n",
    "plt.subplot(334)\n",
    "img1 = Image(folder+'/average/x0.00_y0.00/convolved_without_RDI_reference.fits').data\n",
    "plt.imshow(img1[slicenum,trim:-trim,trim:-trim], cmap='viridis')\n",
    "plt.title('Ref star convolved with matched filter',fontsize=fontsize)\n",
    "plt.colorbar(fraction=0.046, pad=0.04)\n",
    "plt.subplot(335)\n",
    "img2 = Image(folder+'/average/x0.50_y0.50/convolved_without_RDI_reference.fits').data\n",
    "plt.imshow(img2[slicenum,trim:-trim,trim:-trim], cmap='viridis')\n",
    "plt.title('Countershifted ref convolved with matched filter',fontsize=fontsize)\n",
    "plt.colorbar(fraction=0.046, pad=0.04)\n",
    "plt.subplot(336)\n",
    "diff = img2-img1\n",
    "plt.imshow(diff[slicenum,trim:-trim,trim:-trim], cmap='viridis')\n",
    "plt.title('Difference',fontsize=fontsize)\n",
    "plt.colorbar(fraction=0.046, pad=0.04)\n",
    "plt.subplot(337)\n",
    "img1 = Image(folder+'/average/x0.00_y0.00/convolved_with_RDI.fits').data\n",
    "plt.imshow(img1[slicenum,trim:-trim,trim:-trim], cmap='viridis')\n",
    "plt.title('Science image residuals post-RDI',fontsize=fontsize)\n",
    "plt.colorbar(fraction=0.046, pad=0.04)\n",
    "plt.subplot(338)\n",
    "img2 = Image(folder+'/average/x0.50_y0.50/convolved_with_RDI.fits').data\n",
    "plt.imshow(img2[slicenum,trim:-trim,trim:-trim], cmap='viridis')\n",
    "plt.title('Residuals post-RDI, countershifted reference frame',fontsize=fontsize)\n",
    "plt.colorbar(fraction=0.046, pad=0.04)\n",
    "plt.subplot(339)\n",
    "diff = img2-img1\n",
    "plt.imshow(diff[slicenum,trim:-trim,trim:-trim], cmap='viridis')\n",
    "plt.title('Difference',fontsize=fontsize)\n",
    "plt.colorbar(fraction=0.046, pad=0.04)\n",
    "plt.tight_layout()\n",
    "plt.savefig(folder+'/average/test.png')"
   ]
  },
  {
   "cell_type": "code",
   "execution_count": null,
   "metadata": {
    "collapsed": false
   },
   "outputs": [],
   "source": [
    "bowtie = fits.getdata(folder+'/average/x0.00_y0.00/bowtie.fits')\n",
    "matched_filter = fits.getdata(folder+'/average/x0.00_y0.00/mflib.fits.gz')\n",
    "data = fits.getdata(folder+'/average/x0.50_y0.50/ref_average_detector_countershifted_x0.50_y0.50_red_optext.fits')\n",
    "print matched_filter.shape\n",
    "plt.figure(figsize=(20,12))\n",
    "plt.subplot(121)\n",
    "plt.imshow(np.nansum(matched_filter,axis=0)[1]*bowtie[30:-30,30:-30], cmap='viridis')\n",
    "plt.colorbar(fraction=0.046, pad=0.04)\n",
    "plt.subplot(122)\n",
    "plt.imshow(bowtie[30:-30,30:-30]*data[2,30:-30,30:-30], cmap='viridis')\n",
    "plt.colorbar(fraction=0.046, pad=0.04)\n"
   ]
  },
  {
   "cell_type": "code",
   "execution_count": null,
   "metadata": {
    "collapsed": false
   },
   "outputs": [],
   "source": [
    "# img1 = Image(folder+'/average/x0.50_y0.50/ref_average_detector_x0.50_y0.50_red_optext.fits').data\n",
    "# import scipy\n",
    "# c = np.cos(par.philens)\n",
    "# s = np.sin(par.philens)\n",
    "# xshift=10\n",
    "# yshift=10\n",
    "# img1[np.isnan(img1)]=0.0\n",
    "# print yshift*c+xshift*s,xshift*c-yshift*s\n",
    "# img1 = scipy.ndimage.interpolation.shift(img1,\n",
    "#                                     [0.0,xshift*c-yshift*s,yshift*c+xshift*s],order=3)\n",
    "# Image(data=img1).write(folder+'/average/x0.50_y0.50/'+\"test.fits\")\n"
   ]
  },
  {
   "cell_type": "raw",
   "metadata": {},
   "source": [
    "from crispy.tools.postprocessing import processReferenceCubes\n",
    "filelist = glob.glob('/Users/mrizzo/IFS/OS5/with_lowfc/*.fits')\n",
    "filelist.sort()\n",
    "c = np.cos(par.philens)\n",
    "s = np.sin(par.philens)\n",
    "xshift=0.5\n",
    "yshift=0.5\n",
    "\n",
    "ref_outlist = processReferenceCubes(par,xshift*c-yshift*s,yshift*c+xshift*s,order=3,\n",
    "                                                outdir_time_series = folder+'/average/',\n",
    "                                                ref_input_list=[filelist[0]],\n",
    "                                                process_cubes=True)\n"
   ]
  },
  {
   "cell_type": "raw",
   "metadata": {},
   "source": [
    "from crispy.tools.detector import averageDetectorReadout\n",
    "import scipy\n",
    "ref_det_outlist = averageDetectorReadout(par,ref_outlist,folder+'/average/',forced_inttime=50) \n",
    "ref_reduced = reduceIFSMap(par,folder+'/average/os5_spc_001_refstar_IFS_detector.fits',smoothbad=False)\n",
    "ref_reduced.data[np.isnan(ref_reduced.data)] = 0.0\n",
    "ref_reduced.data = scipy.ndimage.interpolation.shift(ref_reduced.data,\n",
    "                            [0.0,-yshift,-xshift],order=3)\n",
    "ref_reduced.write(folder+'/average/test_countershift.fits')\n"
   ]
  },
  {
   "cell_type": "markdown",
   "metadata": {},
   "source": []
  }
 ],
 "metadata": {
  "kernelspec": {
   "display_name": "Python 2",
   "language": "python",
   "name": "python2"
  },
  "language_info": {
   "codemirror_mode": {
    "name": "ipython",
    "version": 2
   },
   "file_extension": ".py",
   "mimetype": "text/x-python",
   "name": "python",
   "nbconvert_exporter": "python",
   "pygments_lexer": "ipython2",
   "version": "2.7.13"
  }
 },
 "nbformat": 4,
 "nbformat_minor": 2
}
