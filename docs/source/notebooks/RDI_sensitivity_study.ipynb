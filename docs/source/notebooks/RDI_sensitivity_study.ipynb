{
 "cells": [
  {
   "cell_type": "markdown",
   "metadata": {},
   "source": [
    "# RDI sensitivity"
   ]
  },
  {
   "cell_type": "code",
   "execution_count": 1,
   "metadata": {
    "collapsed": false
   },
   "outputs": [
    {
     "name": "stdout",
     "output_type": "stream",
     "text": [
      "Populating the interactive namespace from numpy and matplotlib\n",
      "../../../../crispy\n"
     ]
    }
   ],
   "source": [
    "%pylab inline --no-import-all\n",
    "matplotlib.rcParams['image.origin'] = 'lower'\n",
    "matplotlib.rcParams['image.interpolation'] = 'nearest'\n",
    "import sys\n",
    "import os\n",
    "\n",
    "folder = '../../../../crispy'\n",
    "print(folder)\n",
    "if folder not in sys.path: sys.path.append(folder)\n",
    "\n",
    "from crispy.params import Params\n",
    "folder = '../../../crispy'\n",
    "par = Params(folder)\n",
    "\n",
    "from crispy.tools.initLogger import getLogger\n",
    "log = getLogger('crispy')\n",
    "from crispy.IFS import polychromeIFS\n",
    "from crispy.IFS import reduceIFSMap\n",
    "from crispy.tools.imgtools import scale2imgs,bowtie\n",
    "from crispy.tools.image import Image\n",
    "from crispy.tools.rotate import rotateCube,shiftCube\n",
    "from crispy.tools.postprocessing import mf,recenter_offaxis\n",
    "from crispy.tools.inputScene import adjust_krist_header\n",
    "from crispy.tools.detector import averageDetectorReadout\n",
    "from astropy.io import fits\n",
    "import astropy.units as u\n",
    "from crispy.tools.postprocessing import construct_mflib,convolved_mf\n",
    "\n"
   ]
  },
  {
   "cell_type": "markdown",
   "metadata": {},
   "source": [
    "## Parameters"
   ]
  },
  {
   "cell_type": "code",
   "execution_count": 2,
   "metadata": {
    "collapsed": false
   },
   "outputs": [
    {
     "data": {
      "text/plain": [
       "SIMPLE  =                    T / conforms to FITS standard                      \n",
       "BITPIX  =                    8 / array data type                                \n",
       "NAXIS   =                    0 / number of array dimensions                     \n",
       "EXTEND  =                    T                                                  \n",
       "COMMENT                                                                         \n",
       "COMMENT ************************************************************            \n",
       "COMMENT ********************** General parameters ******************            \n",
       "COMMENT ************************************************************            \n",
       "COMMENT                                                                         \n",
       "NLENS   =                  108 / # lenslets across array                        \n",
       "PITCH   =             0.000174 / Lenslet pitch (meters)                         \n",
       "INTERLAC=                    2 / Interlacing                                    \n",
       "PHILENS =    26.56505117707799 / Rotation angle of the lenslets (deg)           \n",
       "PIXSIZE =              1.3E-05 / Pixel size (meters)                            \n",
       "LENSAMP =                  0.5 / Lenslet sampling (lam/D)                       \n",
       "LSAMPWAV=                660.0 / Lenslet sampling wavelength (nm)               \n",
       "FWHM    =                    2 / FHWM of PSFLet at detector (pixels)            \n",
       "FWHMLAM =                660.0 / Wavelength at which FWHM is defined (nm)       \n",
       "NPIX    =                 1024 / Number of detector pixels                      \n",
       "DISPDIST=                    F / Use PISCES distortion/dispersion?              "
      ]
     },
     "execution_count": 2,
     "metadata": {},
     "output_type": "execute_result"
    }
   ],
   "source": [
    "lamc=660.\n",
    "BW = 0.18\n",
    "par.nonoise=True\n",
    "sampling=2.2\n",
    "par.lenslet_sampling=1./sampling\n",
    "folder = '/Users/mrizzo/IFS/OS5_RDI_660_'+str(sampling)\n",
    "offaxis_psf_filename='/Users/mrizzo/IFS/OS5/offaxis/spc_offaxis_psf.fits'\n",
    "OS5_files = '/Users/mrizzo/IFS/OS5/with_lowfc/'\n",
    "# folder = '/local/data/nicolaus2/mrizzo/OS5_RDI_660_'+str(sampling)\n",
    "# offaxis_psf_filename='/local/data/nicolaus2/mrizzo/haystacks/for_gsfc/spc_offaxis_psf.fits'\n",
    "# OS5_files = '/local/data/nicolaus2/mrizzo/haystacks/for_gsfc/with_lowfc/'\n",
    "IWA=2.7\n",
    "OWA=8.7\n",
    "try:\n",
    "    os.makedirs(folder)\n",
    "    os.makedirs(folder+'/average')\n",
    "    os.makedirs(folder+'/detector')  \n",
    "except OSError:\n",
    "    pass\n",
    "par.hdr\n"
   ]
  },
  {
   "cell_type": "markdown",
   "metadata": {},
   "source": [
    "## Process all files from Krist"
   ]
  },
  {
   "cell_type": "markdown",
   "metadata": {},
   "source": [
    "Only need to do this the first time"
   ]
  },
  {
   "cell_type": "code",
   "execution_count": 3,
   "metadata": {
    "collapsed": false
   },
   "outputs": [],
   "source": [
    "from crispy.tools.postprocessing import processReferenceCubes,processTargetCubes\n",
    "import astropy.units as u\n",
    "import glob\n",
    "filelist = glob.glob(OS5_files+'*.fits')\n",
    "filelist.sort()\n",
    "Nref=30\n",
    "reffiles = filelist[:Nref]\n",
    "targetfiles =filelist[Nref:]\n",
    "\n",
    "# ref_outlist = processReferenceCubes(par,xshift=0.0,yshift=0.0,order=3,\n",
    "#                 outdir_time_series = folder,\n",
    "#                 ref_input_list=reffiles,\n",
    "#                 ref_star_T=9377*u.K, ref_star_Vmag=2.37,\n",
    "#                 lamc=lamc,BW = BW,\n",
    "#                 tel_pupil_area=3.650265060424805*u.m**2)\n",
    "# target_outlist = processTargetCubes(par,target_file_list=targetfiles,\n",
    "#                 outdir_time_series = folder,\n",
    "#                 target_star_T=5887*u.K, target_star_Vmag=5.03,\n",
    "#                 lamc=lamc,BW = BW,\n",
    "#                 tel_pupil_area=3.650265060424805*u.m**2)\n"
   ]
  },
  {
   "cell_type": "markdown",
   "metadata": {},
   "source": [
    "## Process the offaxis as a poke to normalize contrast"
   ]
  },
  {
   "cell_type": "markdown",
   "metadata": {},
   "source": [
    "This constructs the file outdir_average+\"/offaxis.fits\""
   ]
  },
  {
   "cell_type": "code",
   "execution_count": 4,
   "metadata": {
    "collapsed": false
   },
   "outputs": [
    {
     "name": "stdout",
     "output_type": "stream",
     "text": [
      "crispy - INFO - Read data from HDU 0 of /Users/mrizzo/IFS/OS5/with_lowfc/os5_spc_001.fits\n",
      "crispy - INFO - Read data from HDU 0 of /Users/mrizzo/IFS/OS5/offaxis/spc_offaxis_psf.fits\n",
      "Processing file /Users/mrizzo/IFS/OS5/offaxis/spc_offaxis_psf.fits\n",
      "crispy - INFO - Writing data to /Users/mrizzo/IFS/OS5_RDI_660_2.2/average/offaxiscube_star_processed.fits\n",
      "crispy - INFO - The number of input pixels per lenslet is 4.545455\n",
      "crispy - INFO - Using PSFlet gaussian approximation\n",
      "crispy - WARNING - Assuming slices are evenly spread in wavelengths\n",
      "crispy - INFO - Done.\n",
      "crispy - INFO - Performance: 46 seconds total\n",
      "crispy - INFO - Writing data to /Users/mrizzo/IFS/OS5_RDI_660_2.2/average/offaxis_star.fits\n",
      "crispy - INFO - Writing data to /Users/mrizzo/IFS/OS5_RDI_660_2.2/average/offaxis_detector.fits\n",
      "crispy - INFO - Read data from HDU 1 of /Users/mrizzo/IFS/OS5_RDI_660_2.2/average/offaxis_detector.fits\n",
      "crispy - INFO - Reduced cube will have 19 wavelength bins\n",
      "crispy - INFO - Writing data to ../../../crispy/SimResults/offaxis_detector_red_optext.fits\n",
      "crispy - INFO - Elapsed time: 1.548627s\n",
      "crispy - INFO - Writing data to /Users/mrizzo/IFS/OS5_RDI_660_2.2/average/offaxis_detector_red_optext.fits\n",
      "crispy - INFO - Read data from HDU 1 of /Users/mrizzo/IFS/OS5_RDI_660_2.2/average/offaxis.fits\n"
     ]
    },
    {
     "data": {
      "text/plain": [
       "<matplotlib.colorbar.Colorbar at 0x11478b390>"
      ]
     },
     "execution_count": 4,
     "metadata": {},
     "output_type": "execute_result"
    },
    {
     "data": {
      "image/png": "[encoded data removed]",
      "text/plain": [
       "<matplotlib.figure.Figure at 0x10a06cc10>"
      ]
     },
     "metadata": {},
     "output_type": "display_data"
    }
   ],
   "source": [
    "file_for_shape = Image(OS5_files+'os5_spc_001.fits').data\n",
    "fileshape = file_for_shape.shape\n",
    "Nlam = fileshape[0]\n",
    "lamlist = lamc*np.linspace(1.-BW/2.,1.+BW/2.,Nlam)*u.nm\n",
    "from crispy.tools.postprocessing import process_offaxis\n",
    "process_offaxis(par,offaxis_psf_filename=offaxis_psf_filename,\n",
    "                fileshape=fileshape,\n",
    "                lamlist=lamlist,\n",
    "                lamc=lamc,\n",
    "                outdir_average=folder+'/average',\n",
    "                target_star_T=5887*u.K, target_star_Vmag=5.03,\n",
    "                tel_pupil_area=3.650265060424805*u.m**2)\n",
    "\n",
    "plt.figure(figsize=(12,12))\n",
    "img=Image(folder+'/average/offaxis.fits').data\n",
    "plt.imshow(img,cmap='Greys_r')\n",
    "plt.colorbar()\n",
    "\n"
   ]
  },
  {
   "cell_type": "markdown",
   "metadata": {},
   "source": [
    "## Construct matched filter library"
   ]
  },
  {
   "cell_type": "code",
   "execution_count": 5,
   "metadata": {
    "collapsed": false
   },
   "outputs": [
    {
     "name": "stdout",
     "output_type": "stream",
     "text": [
      "crispy - INFO - Read data from HDU 1 of /Users/mrizzo/IFS/OS5_RDI_660_2.2/average/offaxis_detector_red_optext.fits\n"
     ]
    }
   ],
   "source": [
    "offaxis_reduced = Image(folder+\"/average/offaxis_detector_red_optext.fits\")\n",
    "\n",
    "ydim,xdim = offaxis_reduced.data[0].shape\n",
    "mask,scratch = bowtie(offaxis_reduced.data[0],ydim//2-1,xdim//2,openingAngle=60,\n",
    "        clocking=-par.philens*180./np.pi,\n",
    "        IWApix=IWA*lamc/par.lenslet_wav/par.lenslet_sampling,\n",
    "        OWApix=OWA*lamc/par.lenslet_wav/par.lenslet_sampling,\n",
    "        export=None,twomasks=False)    \n"
   ]
  },
  {
   "cell_type": "code",
   "execution_count": null,
   "metadata": {
    "collapsed": false
   },
   "outputs": [
    {
     "name": "stdout",
     "output_type": "stream",
     "text": [
      "crispy - INFO - Read data from HDU 1 of /Users/mrizzo/IFS/OS5_RDI_660_2.2/average/offaxis_detector_red_optext.fits\n",
      "crispy - INFO - Coordinates of the planet in lenslets: 67.00, 47.00\n"
     ]
    }
   ],
   "source": [
    "from crispy.tools.postprocessing import construct_mflib\n",
    "\n",
    "\n",
    "construct_mflib(par,folder+\"/average/offaxis_detector_red_optext.fits\",\n",
    "                threshold=0.2,\n",
    "                lamc=lamc,\n",
    "                BW=BW,\n",
    "                outdir=folder+'/average/',\n",
    "                mask=mask,\n",
    "                trim=30,\n",
    "                outname = 'mflib.fits.gz',\n",
    "                order=3)\n",
    "\n"
   ]
  },
  {
   "cell_type": "markdown",
   "metadata": {},
   "source": [
    "## Run RDI"
   ]
  },
  {
   "cell_type": "code",
   "execution_count": null,
   "metadata": {
    "collapsed": false,
    "scrolled": true
   },
   "outputs": [
    {
     "name": "stdout",
     "output_type": "stream",
     "text": [
      "crispy - INFO - Read data from HDU 0 of /Users/mrizzo/IFS/OS5/with_lowfc/os5_spc_001.fits\n",
      "crispy - INFO - X,Y Shift in px in original cubes: 2.27, 2.27\n",
      "crispy - INFO - Processing file os5_spc_001.fits\n",
      "crispy - INFO - Shifting input cube\n",
      "crispy - INFO - The number of input pixels per lenslet is 4.545455\n",
      "crispy - INFO - Using PSFlet gaussian approximation\n",
      "crispy - WARNING - Assuming slices are evenly spread in wavelengths\n"
     ]
    }
   ],
   "source": [
    "from crispy.tools.postprocessing import RDI_noise\n",
    "\n",
    "\n",
    "offset = [0.5,0.0]\n",
    "\n",
    "results = np.zeros((19,len(offset),len(offset)))\n",
    "for i in range(len(offset)):\n",
    "    for j in range(len(offset)):\n",
    "\n",
    "        rootname='x%.2f_y%.2f' % (offset[i],offset[j])\n",
    "        try:\n",
    "            os.makedirs(folder+'/average/'+rootname)\n",
    "        except OSError:\n",
    "            pass\n",
    "\n",
    "        results[:,i,j] = RDI_noise(par,offset[i],offset[j],order=3,\n",
    "                rootname=rootname,\n",
    "                process_cubes=True,\n",
    "                countershift=True,\n",
    "                normalize_contrast=True,\n",
    "                ref_only=True,\n",
    "                IWA=IWA,\n",
    "                OWA=OWA,\n",
    "                outdir_time_series = folder,\n",
    "                outdir_detector=folder+'/detector',\n",
    "                outdir_average=folder+'/average/'+rootname,\n",
    "                psf_time_series_folder=OS5_files,\n",
    "                offaxis_psf_filename=offaxis_psf_filename,\n",
    "                mflib = folder+'/average/mflib.fits.gz',\n",
    "                lamc=lamc,BW=BW,\n",
    "                offaxis_reduced = folder+'/average/offaxis_detector_red_optext.fits')\n",
    "outkey = fits.HDUList(fits.PrimaryHDU(results.astype(np.float)))\n",
    "outkey.writeto(folder+'/average/results_rdi'+str(sampling)+'.fits',clobber=True)\n"
   ]
  },
  {
   "cell_type": "code",
   "execution_count": null,
   "metadata": {
    "collapsed": false,
    "scrolled": true
   },
   "outputs": [],
   "source": [
    "plt.figure(figsize=(12,12))\n",
    "results=Image(folder+'/average/results_rdi'+str(sampling)+'.fits').data\n",
    "plt.imshow(results[10],cmap='Greys_r')\n",
    "plt.colorbar()"
   ]
  },
  {
   "cell_type": "code",
   "execution_count": null,
   "metadata": {
    "collapsed": false
   },
   "outputs": [],
   "source": [
    "target = Image(folder+'/average/'+rootname+'/target_average_detector_red_optext.fits')\n",
    "ref = Image(folder+'/average/'+rootname+'/ref_average_detector_countershifted_x0.50_y0.50_red_optext.fits')\n",
    "ydim,xdim = target.data[0].shape\n",
    "print ydim,xdim\n",
    "bowtie_mask,scratch = bowtie(target.data[0],ydim//2-1,xdim//2,openingAngle=60,\n",
    "            clocking=-par.philens*180./np.pi,\n",
    "            IWApix=IWA*lamc/par.lenslet_wav/par.lenslet_sampling,\n",
    "            OWApix=OWA*lamc/par.lenslet_wav/par.lenslet_sampling,\n",
    "            export=None,twomasks=False)    \n",
    "\n",
    "from crispy.tools.imgtools import scale2imgs\n",
    "coefs,residual = scale2imgs(target,ref,bowtie_mask,returndiff = True)\n",
    "print(coefs)"
   ]
  },
  {
   "cell_type": "markdown",
   "metadata": {},
   "source": []
  },
  {
   "cell_type": "code",
   "execution_count": null,
   "metadata": {
    "collapsed": false
   },
   "outputs": [],
   "source": [
    "10**(0.4*(5.03-2.36))"
   ]
  }
 ],
 "metadata": {
  "kernelspec": {
   "display_name": "Python 2",
   "language": "python",
   "name": "python2"
  },
  "language_info": {
   "codemirror_mode": {
    "name": "ipython",
    "version": 2
   },
   "file_extension": ".py",
   "mimetype": "text/x-python",
   "name": "python",
   "nbconvert_exporter": "python",
   "pygments_lexer": "ipython2",
   "version": "2.7.13"
  }
 },
 "nbformat": 4,
 "nbformat_minor": 2
}
