{
 "cells": [
  {
   "cell_type": "markdown",
   "metadata": {},
   "source": [
    "# SNR"
   ]
  },
  {
   "cell_type": "code",
   "execution_count": 1,
   "metadata": {
    "collapsed": false
   },
   "outputs": [
    {
     "data": {
      "text/plain": [
       "SIMPLE  =                    T / conforms to FITS standard                      \n",
       "BITPIX  =                    8 / array data type                                \n",
       "NAXIS   =                    0 / number of array dimensions                     \n",
       "EXTEND  =                    T                                                  \n",
       "COMMENT                                                                         \n",
       "COMMENT ************************************************************            \n",
       "COMMENT ********************** General parameters ******************            \n",
       "COMMENT ************************************************************            \n",
       "COMMENT                                                                         \n",
       "NLENS   =                  108 / # lenslets across array                        \n",
       "PITCH   =             0.000174 / Lenslet pitch (meters)                         \n",
       "INTERLAC=                    2 / Interlacing                                    \n",
       "PHILENS =    26.56505117707799 / Rotation angle of the lenslets (deg)           \n",
       "PIXSIZE =              1.3E-05 / Pixel size (meters)                            \n",
       "LENSAMP =                  0.5 / Lenslet sampling (lam/D)                       \n",
       "LSAMPWAV=                660.0 / Lenslet sampling wavelength (nm)               \n",
       "FWHM    =                  2.0 / FHWM of PSFLet at detector (pixels)            \n",
       "FWHMLAM =                660.0 / Wavelength at which FWHM is defined (nm)       \n",
       "NPIX    =                 1024 / Number of detector pixels                      \n",
       "BW      =                 0.18 / Bandwidth                                      \n",
       "PIXPRLAM=                  2.0 / Pixels per resolution element                  \n",
       "R       =                   50 / Spectral resolution                            "
      ]
     },
     "execution_count": 1,
     "metadata": {},
     "output_type": "execute_result"
    }
   ],
   "source": [
    "import numpy as np\n",
    "import glob\n",
    "import matplotlib\n",
    "import matplotlib.pyplot as plt\n",
    "matplotlib.rcParams['image.origin'] = 'lower'\n",
    "matplotlib.rcParams['image.interpolation'] = 'nearest'\n",
    "\n",
    "import sys\n",
    "import os\n",
    "\n",
    "# this is the path if you are running things from crispy/doc/source/notebooks/\n",
    "folder = '../../../../crispy'\n",
    "\n",
    "# add folder in your path to make crispy knows what's going on\n",
    "if folder not in sys.path: sys.path.append(folder)\n",
    "\n",
    "# this loads your parameter file; make sure your IFS parameters make sense\n",
    "from crispy.params import Params\n",
    "folder = '../../../crispy'\n",
    "\n",
    "# initializes your parameters\n",
    "par = Params(folder)\n",
    "\n",
    "# initializes the logger; this helps to make sure things stay compatible across versions of Python\n",
    "from crispy.tools.initLogger import getLogger\n",
    "log = getLogger('crispy')\n",
    "\n",
    "# just as a test, let's see what IFS you've got\n",
    "par.hdr"
   ]
  },
  {
   "cell_type": "code",
   "execution_count": 6,
   "metadata": {
    "collapsed": false
   },
   "outputs": [
    {
     "name": "stdout",
     "output_type": "stream",
     "text": [
      "Populating the interactive namespace from numpy and matplotlib\n",
      "crispy - INFO - Read data from HDU 0 of /Users/mrizzo/IFS/OS5/offaxis/spc_offaxis_psf.fits\n",
      "crispy - INFO - The number of input pixels per lenslet is 5.000000\n",
      "crispy - INFO - Using PSFlet gaussian approximation\n",
      "crispy - WARNING - Assuming slices are evenly spread in wavelengths\n",
      "crispy - INFO - Writing data to ../../../crispy/SimResults/imagePlaneRot.fits\n",
      "crispy - INFO - Writing data to ../../../crispy/SimResults/detectorFrame.fits\n",
      "crispy - INFO - Done.\n",
      "crispy - INFO - Performance: 29 seconds total\n"
     ]
    }
   ],
   "source": [
    "%pylab inline --no-import-all\n",
    "from crispy.tools.image import Image\n",
    "# test = Image('/Users/mrizzo/IFS/OS5_SIM_2.0_t1000/average/offaxis_star_red_optext.fits')\n",
    "from crispy.params import Params\n",
    "from crispy.tools.inputScene import adjust_krist_header\n",
    "from crispy.IFS import polychromeIFS\n",
    "\n",
    "par = Params('../../../crispy')\n",
    "offaxis = Image('/Users/mrizzo/IFS/OS5/offaxis/spc_offaxis_psf.fits')\n",
    "adjust_krist_header(offaxis,lamc=660.)\n",
    "fileshape = offaxis.data.shape\n",
    "par.saveRotatedInput = True\n",
    "lamlist = 660.*np.linspace(1.-par.BW/2.,1.+par.BW/2.,fileshape[0])\n",
    "detector = polychromeIFS(par,lamlist,offaxis,QE=False)"
   ]
  },
  {
   "cell_type": "code",
   "execution_count": 14,
   "metadata": {
    "collapsed": false
   },
   "outputs": [
    {
     "name": "stdout",
     "output_type": "stream",
     "text": [
      "crispy - INFO - Read data from HDU 1 of ../../../crispy/SimResults/imagePlaneRot.fits\n"
     ]
    },
    {
     "data": {
      "image/png": "[encoded data removed]",
      "text/plain": [
       "<matplotlib.figure.Figure at 0x10f8e99d0>"
      ]
     },
     "metadata": {},
     "output_type": "display_data"
    },
    {
     "name": "stdout",
     "output_type": "stream",
     "text": [
      "1.3131929338\n",
      "0.597514053829\n",
      "0.791325493521\n",
      "[ 0.22502421  0.35702303  0.26380521  0.22576605  0.24157444]\n"
     ]
    },
    {
     "data": {
      "image/png": "[encoded data removed]",
      "text/plain": [
       "<matplotlib.figure.Figure at 0x116c33e10>"
      ]
     },
     "metadata": {},
     "output_type": "display_data"
    },
    {
     "name": "stdout",
     "output_type": "stream",
     "text": [
      "14.0502\n",
      "2.31471\n",
      "0.107556195176\n"
     ]
    }
   ],
   "source": [
    "test = Image(par.exportDir+'/imagePlaneRot.fits')\n",
    "from crispy.tools.postprocessing import mf\n",
    "from crispy.tools.imgtools import bowtie\n",
    "ydim,xdim = test.data[0].shape\n",
    "lamc=660\n",
    "IWA=2.5\n",
    "OWA=9\n",
    "mask,scratch = bowtie(test.data[0],ydim//2-1,xdim//2,openingAngle=65,\n",
    "        clocking=-par.philens*180./np.pi,\n",
    "        IWApix=IWA*lamc/par.lenslet_wav/par.lenslet_sampling,\n",
    "        OWApix=OWA*lamc/par.lenslet_wav/par.lenslet_sampling,\n",
    "        export=None,twomasks=False)    \n",
    "\n",
    "matched_filter = mf(test,mask,0.5)\n",
    "fig = matched_filter[10,20:40,40:55]\n",
    "plt.imshow(fig,cmap='viridis')\n",
    "plt.axis('off')\n",
    "plt.colorbar()\n",
    "plt.show()\n",
    "print np.nansum(fig)\n",
    "print np.sqrt(np.nansum(fig**2))\n",
    "print (np.nansum(fig**3)/(np.nansum(fig**2))**2)\n",
    "print fig[np.nonzero(fig)]\n",
    "\n",
    "fig = test.data[10,20:40,40:55]\n",
    "fig/=np.amax(fig)\n",
    "fig[fig<0.0] = 0.0\n",
    "plt.imshow(fig,cmap='viridis')\n",
    "plt.colorbar()\n",
    "plt.axis('off')\n",
    "plt.show()\n",
    "\n",
    "print np.nansum(fig)\n",
    "print np.sqrt(np.nansum(fig**2))\n",
    "print (np.nansum(fig**3)/(np.nansum(fig**2))**2)\n",
    "#print fig[np.nonzero(fig)]"
   ]
  },
  {
   "cell_type": "code",
   "execution_count": 16,
   "metadata": {
    "collapsed": false
   },
   "outputs": [
    {
     "data": {
      "image/png": "[encoded data removed]",
      "text/plain": [
       "<matplotlib.figure.Figure at 0x117542f90>"
      ]
     },
     "metadata": {},
     "output_type": "display_data"
    },
    {
     "name": "stdout",
     "output_type": "stream",
     "text": [
      "1.0000000596\n",
      "0.455008612028\n",
      "1.03916300061\n",
      "[ 0.17135653  0.27187404  0.20088841  0.17192148  0.1839596 ]\n",
      "0.264662764966\n",
      "[ 0.04535169  0.07195493  0.05316768  0.04550121  0.04868726]\n"
     ]
    }
   ],
   "source": [
    "def mf2(cube,mask,threshold):\n",
    "    '''\n",
    "    Matched filter function\n",
    "    \n",
    "    Parameters\n",
    "    ----------\n",
    "    cube: 3D ndarray\n",
    "        An IFS cube representing the offaxis PSF, from which to compute the matched filter\n",
    "    mask: 2D ndarray\n",
    "        This is typically the coronagraphic mask\n",
    "    threshold: float\n",
    "        Fraction of max below which we crop the normalized PSF\n",
    "    \n",
    "    Returns\n",
    "    -------\n",
    "    matched_filter: 3D ndarray\n",
    "        Matched filter with the same dimensions as input cube\n",
    "    \n",
    "    '''\n",
    "    matched_filter = np.zeros(cube.data.shape)\n",
    "    \n",
    "    for slicenum in range(cube.data.shape[0]):\n",
    "        cube_norm = cube.data[slicenum]/np.nansum(cube.data[slicenum])\n",
    "        msk = mask*(cube_norm>np.nanmax(cube_norm)*threshold)\n",
    "        \n",
    "        # zero out all pixels outside of the thresholded area\n",
    "        cube_norm[~msk]=0.0\n",
    "        \n",
    "        # normalize\n",
    "        cube_norm /= np.nansum(cube_norm)\n",
    "        \n",
    "        # this is now the final matched filter coefficients\n",
    "        matched_filter[slicenum,:,:] = cube_norm#/np.nansum(cube_norm**2)\n",
    "    return matched_filter\n",
    "\n",
    "matched_filter2 = mf2(test,mask,0.0)\n",
    "matched_filter3 = mf2(test,mask,0.5)\n",
    "fig2 = matched_filter2[10,20:40,40:55]\n",
    "fig3 = matched_filter3[10,20:40,40:55]\n",
    "plt.imshow(fig,cmap='viridis')\n",
    "plt.axis('off')\n",
    "plt.colorbar()\n",
    "plt.show()\n",
    "print np.nansum(fig3)\n",
    "print np.sqrt(np.nansum(fig3**2))\n",
    "print (np.nansum(fig3**3)/(np.nansum(fig3**2))**2)\n",
    "print fig3[np.nonzero(fig3)]\n",
    "print np.sum(fig2[fig2/np.amax(fig2)>0.5])\n",
    "print fig2[fig2/np.amax(fig2)>0.5]"
   ]
  },
  {
   "cell_type": "code",
   "execution_count": null,
   "metadata": {
    "collapsed": true
   },
   "outputs": [],
   "source": []
  },
  {
   "cell_type": "code",
   "execution_count": null,
   "metadata": {
    "collapsed": true
   },
   "outputs": [],
   "source": []
  }
 ],
 "metadata": {
  "kernelspec": {
   "display_name": "Python 2",
   "language": "python",
   "name": "python2"
  },
  "language_info": {
   "codemirror_mode": {
    "name": "ipython",
    "version": 2
   },
   "file_extension": ".py",
   "mimetype": "text/x-python",
   "name": "python",
   "nbconvert_exporter": "python",
   "pygments_lexer": "ipython2",
   "version": "2.7.13"
  }
 },
 "nbformat": 4,
 "nbformat_minor": 2
}
