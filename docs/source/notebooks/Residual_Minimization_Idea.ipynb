{
 "cells": [
  {
   "cell_type": "markdown",
   "metadata": {},
   "source": [
    "# PISCES minimize residuals"
   ]
  },
  {
   "cell_type": "markdown",
   "metadata": {},
   "source": [
    "This is an attempt at shifting the polychromes by small amounts in y to account for small vertical shifts in the image. The idea is to compute the rms of the residuals for a set of multiple polychrome cubes, then update the wavelength calibration by the vertical value that minimizes the residuals."
   ]
  },
  {
   "cell_type": "markdown",
   "metadata": {},
   "source": [
    "## Load crispy stuff"
   ]
  },
  {
   "cell_type": "code",
   "execution_count": 1,
   "metadata": {
    "collapsed": true
   },
   "outputs": [],
   "source": [
    "import numpy as np\n",
    "import glob\n",
    "import matplotlib\n",
    "import matplotlib.pyplot as plt\n",
    "matplotlib.rcParams['image.origin'] = 'lower'\n",
    "matplotlib.rcParams['image.interpolation'] = 'nearest'\n",
    "\n",
    "import sys,os\n",
    "codefolder = '../../../../crispy'\n",
    "if codefolder not in sys.path: sys.path.append(codefolder)\n",
    "import logging as log\n",
    "from crispy.tools.initLogger import getLogger\n",
    "log = getLogger('main')\n",
    "from crispy.tools.image import Image\n",
    "from crispy.PISCESparams import Params\n",
    "codefolder = '../../../crispy'\n",
    "par = Params(codefolder)\n",
    "par.lamlist = np.arange(605.,730.,10)\n",
    "par.filelist = [par.wavecalDir+'det'+str(wav)+'.fits' for wav in par.lamlist]\n"
   ]
  },
  {
   "cell_type": "markdown",
   "metadata": {},
   "source": [
    "## Reduce with existing wavecal"
   ]
  },
  {
   "cell_type": "code",
   "execution_count": 2,
   "metadata": {
    "collapsed": false
   },
   "outputs": [
    {
     "name": "stdout",
     "output_type": "stream",
     "text": [
      "crispy - INFO - Read data from HDU 1 of ../../../crispy/Inputs/BB.fits\n",
      "crispy - INFO - Reduced cube will have 11 wavelength bins\n",
      "crispy - INFO - Writing data to ../../../crispy/SimResults/BB_red_lstsq.fits\n",
      "crispy - INFO - Writing data to ../../../crispy/SimResults/BB_red_lstsq_resid.fits\n",
      "crispy - INFO - Elapsed time: 3.899058s\n",
      "crispy - INFO - Read data from HDU 1 of ../../../crispy/SimResults/BB_red_lstsq_resid.fits\n"
     ]
    }
   ],
   "source": [
    "from crispy.IFS import reduceIFSMap\n",
    "cube = reduceIFSMap(par,par.codeRoot+\"/Inputs/BB.fits\",method='lstsq')\n",
    "resid = Image(par.exportDir+\"/BB_red_lstsq_resid.fits\")\n"
   ]
  },
  {
   "cell_type": "code",
   "execution_count": 3,
   "metadata": {
    "collapsed": false
   },
   "outputs": [
    {
     "name": "stdout",
     "output_type": "stream",
     "text": [
      "crispy - INFO - Read data from HDU 1 of ../../../crispy/ReferenceFiles/Calibra_170425/det605.0.fits\n",
      "[35.921997]\n"
     ]
    }
   ],
   "source": [
    "rms = []\n",
    "delta = []\n",
    "delta += [0.0]\n",
    "ysize,xsize = Image(filename=par.filelist[0]).data.shape\n",
    "mask=np.ones((ysize,xsize))    \n",
    "y = np.arange(ysize)\n",
    "x = np.arange(xsize)\n",
    "x -= xsize//2\n",
    "y -= ysize//2\n",
    "x, y = np.meshgrid(x, y)\n",
    "\n",
    "r = np.sqrt(x**2 + y**2)\n",
    "mask = (r<min(ysize,xsize)//2)\n",
    "\n",
    "rms += [np.nanstd(resid.data[mask])]\n",
    "print rms"
   ]
  },
  {
   "cell_type": "markdown",
   "metadata": {},
   "source": [
    "## Now shift the wavecal manually"
   ]
  },
  {
   "cell_type": "code",
   "execution_count": 4,
   "metadata": {
    "collapsed": false
   },
   "outputs": [
    {
     "name": "stdout",
     "output_type": "stream",
     "text": [
      "crispy - INFO - Building calibration files, placing results in ../../../crispy/ReferenceFiles/Calibra_170425/\n",
      "crispy - INFO - Read data from HDU 1 of ../../../crispy/ReferenceFiles/Calibra_170425/det605.0.fits\n",
      "crispy - INFO - Read data from HDU 1 of ../../../crispy/ReferenceFiles/Calibra_170425/det605.0.fits\n",
      "crispy - INFO - Read data from HDU 1 of ../../../crispy/ReferenceFiles/Calibra_170425/det615.0.fits\n",
      "crispy - INFO - Read data from HDU 1 of ../../../crispy/ReferenceFiles/Calibra_170425/det625.0.fits\n",
      "crispy - INFO - Read data from HDU 1 of ../../../crispy/ReferenceFiles/Calibra_170425/det635.0.fits\n",
      "crispy - INFO - Read data from HDU 1 of ../../../crispy/ReferenceFiles/Calibra_170425/det645.0.fits\n",
      "crispy - INFO - Read data from HDU 1 of ../../../crispy/ReferenceFiles/Calibra_170425/det655.0.fits\n",
      "crispy - INFO - Read data from HDU 1 of ../../../crispy/ReferenceFiles/Calibra_170425/det665.0.fits\n",
      "crispy - INFO - Read data from HDU 1 of ../../../crispy/ReferenceFiles/Calibra_170425/det675.0.fits\n",
      "crispy - INFO - Read data from HDU 1 of ../../../crispy/ReferenceFiles/Calibra_170425/det685.0.fits\n",
      "crispy - INFO - Read data from HDU 1 of ../../../crispy/ReferenceFiles/Calibra_170425/det695.0.fits\n",
      "crispy - INFO - Read data from HDU 1 of ../../../crispy/ReferenceFiles/Calibra_170425/det705.0.fits\n",
      "crispy - INFO - Read data from HDU 1 of ../../../crispy/ReferenceFiles/Calibra_170425/det715.0.fits\n",
      "crispy - INFO - Read data from HDU 1 of ../../../crispy/ReferenceFiles/Calibra_170425/det725.0.fits\n",
      "crispy - INFO - Computing wavelength values at pixel centers\n",
      "crispy - INFO - Reduced cube will have 11 wavelength bins\n",
      "crispy - INFO - Making polychrome cube\n",
      "crispy - INFO - Saving polychrome cube\n",
      "crispy - INFO - Saving wavelength calibration cube\n",
      "crispy - INFO - Total time elapsed: 34 s\n",
      "crispy - INFO - Read data from HDU 1 of ../../../crispy/Inputs/BB.fits\n",
      "crispy - INFO - Reduced cube will have 11 wavelength bins\n",
      "crispy - INFO - Writing data to ../../../crispy/SimResults/BB_red_lstsq.fits\n",
      "crispy - INFO - Writing data to ../../../crispy/SimResults/BB_red_lstsq_resid.fits\n",
      "crispy - INFO - Elapsed time: 3.865987s\n",
      "crispy - INFO - Read data from HDU 1 of ../../../crispy/SimResults/BB_red_lstsq_resid.fits\n",
      "[0.0, 0.01] [35.921997, 34.488346]\n",
      "crispy - INFO - Building calibration files, placing results in ../../../crispy/ReferenceFiles/Calibra_170425/\n",
      "crispy - INFO - Read data from HDU 1 of ../../../crispy/ReferenceFiles/Calibra_170425/det605.0.fits\n",
      "crispy - INFO - Read data from HDU 1 of ../../../crispy/ReferenceFiles/Calibra_170425/det605.0.fits\n",
      "crispy - INFO - Read data from HDU 1 of ../../../crispy/ReferenceFiles/Calibra_170425/det615.0.fits\n",
      "crispy - INFO - Read data from HDU 1 of ../../../crispy/ReferenceFiles/Calibra_170425/det625.0.fits\n",
      "crispy - INFO - Read data from HDU 1 of ../../../crispy/ReferenceFiles/Calibra_170425/det635.0.fits\n",
      "crispy - INFO - Read data from HDU 1 of ../../../crispy/ReferenceFiles/Calibra_170425/det645.0.fits\n",
      "crispy - INFO - Read data from HDU 1 of ../../../crispy/ReferenceFiles/Calibra_170425/det655.0.fits\n",
      "crispy - INFO - Read data from HDU 1 of ../../../crispy/ReferenceFiles/Calibra_170425/det665.0.fits\n",
      "crispy - INFO - Read data from HDU 1 of ../../../crispy/ReferenceFiles/Calibra_170425/det675.0.fits\n",
      "crispy - INFO - Read data from HDU 1 of ../../../crispy/ReferenceFiles/Calibra_170425/det685.0.fits\n",
      "crispy - INFO - Read data from HDU 1 of ../../../crispy/ReferenceFiles/Calibra_170425/det695.0.fits\n",
      "crispy - INFO - Read data from HDU 1 of ../../../crispy/ReferenceFiles/Calibra_170425/det705.0.fits\n",
      "crispy - INFO - Read data from HDU 1 of ../../../crispy/ReferenceFiles/Calibra_170425/det715.0.fits\n",
      "crispy - INFO - Read data from HDU 1 of ../../../crispy/ReferenceFiles/Calibra_170425/det725.0.fits\n",
      "crispy - INFO - Computing wavelength values at pixel centers\n",
      "crispy - INFO - Reduced cube will have 11 wavelength bins\n",
      "crispy - INFO - Making polychrome cube\n",
      "crispy - INFO - Saving polychrome cube\n",
      "crispy - INFO - Saving wavelength calibration cube\n",
      "crispy - INFO - Total time elapsed: 34 s\n",
      "crispy - INFO - Read data from HDU 1 of ../../../crispy/Inputs/BB.fits\n",
      "crispy - INFO - Reduced cube will have 11 wavelength bins\n",
      "crispy - INFO - Writing data to ../../../crispy/SimResults/BB_red_lstsq.fits\n",
      "crispy - INFO - Writing data to ../../../crispy/SimResults/BB_red_lstsq_resid.fits\n",
      "crispy - INFO - Elapsed time: 3.776267s\n",
      "crispy - INFO - Read data from HDU 1 of ../../../crispy/SimResults/BB_red_lstsq_resid.fits\n",
      "[0.0, 0.01, 0.029999999999999999] [35.921997, 34.488346, 30.872845]\n",
      "crispy - INFO - Building calibration files, placing results in ../../../crispy/ReferenceFiles/Calibra_170425/\n",
      "crispy - INFO - Read data from HDU 1 of ../../../crispy/ReferenceFiles/Calibra_170425/det605.0.fits\n",
      "crispy - INFO - Read data from HDU 1 of ../../../crispy/ReferenceFiles/Calibra_170425/det605.0.fits\n",
      "crispy - INFO - Read data from HDU 1 of ../../../crispy/ReferenceFiles/Calibra_170425/det615.0.fits\n",
      "crispy - INFO - Read data from HDU 1 of ../../../crispy/ReferenceFiles/Calibra_170425/det625.0.fits\n",
      "crispy - INFO - Read data from HDU 1 of ../../../crispy/ReferenceFiles/Calibra_170425/det635.0.fits\n",
      "crispy - INFO - Read data from HDU 1 of ../../../crispy/ReferenceFiles/Calibra_170425/det645.0.fits\n",
      "crispy - INFO - Read data from HDU 1 of ../../../crispy/ReferenceFiles/Calibra_170425/det655.0.fits\n",
      "crispy - INFO - Read data from HDU 1 of ../../../crispy/ReferenceFiles/Calibra_170425/det665.0.fits\n",
      "crispy - INFO - Read data from HDU 1 of ../../../crispy/ReferenceFiles/Calibra_170425/det675.0.fits\n",
      "crispy - INFO - Read data from HDU 1 of ../../../crispy/ReferenceFiles/Calibra_170425/det685.0.fits\n",
      "crispy - INFO - Read data from HDU 1 of ../../../crispy/ReferenceFiles/Calibra_170425/det695.0.fits\n",
      "crispy - INFO - Read data from HDU 1 of ../../../crispy/ReferenceFiles/Calibra_170425/det705.0.fits\n",
      "crispy - INFO - Read data from HDU 1 of ../../../crispy/ReferenceFiles/Calibra_170425/det715.0.fits\n",
      "crispy - INFO - Read data from HDU 1 of ../../../crispy/ReferenceFiles/Calibra_170425/det725.0.fits\n",
      "crispy - INFO - Loading wavelength solution from ../../../crispy/ReferenceFiles/Calibra_170425/lamsol.dat\n",
      "crispy - INFO - Computing wavelength values at pixel centers\n",
      "crispy - INFO - Reduced cube will have 11 wavelength bins\n",
      "crispy - INFO - Making polychrome cube\n",
      "crispy - INFO - Saving polychrome cube\n",
      "crispy - INFO - Saving wavelength calibration cube\n",
      "crispy - INFO - Total time elapsed: 35 s\n"
     ]
    }
   ],
   "source": [
    "from crispy.tools.wavecal import buildcalibrations\n",
    "for dy in np.arange(0.01,0.05,0.02):\n",
    "    lamsol = np.loadtxt(os.path.join(par.wavecalDir, \"lamsol.dat\"))\n",
    "    lam = lamsol[:, 0]\n",
    "    allcoef = lamsol[:, 1:]\n",
    "    for i in range(lamsol.shape[0]):\n",
    "        lamsol[i, 11] += dy\n",
    "    np.savetxt(par.wavecalDir + \"lamsol.dat\", lamsol)\n",
    "    \n",
    "    buildcalibrations(par,\n",
    "                        inspect=True,\n",
    "                        genwavelengthsol=False, # already done before\n",
    "                        makehiresPSFlets=False, # already done\n",
    "                        makePolychrome=True, # update the polychrome with the new wavecal!\n",
    "                        upsample=3,\n",
    "                        nsubarr=4,\n",
    "                        lamsol=lamsol, # custom wavecal!\n",
    "                     )\n",
    "    cube = reduceIFSMap(par,par.codeRoot+\"/Inputs/BB.fits\",method='lstsq')\n",
    "    resid = Image(par.exportDir+\"/BB_red_lstsq_resid.fits\")\n",
    "    delta += [dy]\n",
    "    rms += [np.nanstd(resid.data[mask])]\n",
    "    print delta,rms\n",
    "\n",
    "buildcalibrations(par,\n",
    "                inspect=True,\n",
    "                genwavelengthsol=False, # already done before\n",
    "                makehiresPSFlets=False, # already done\n",
    "                makePolychrome=True, # update the polychrome with the new wavecal!\n",
    "                upsample=3,\n",
    "                nsubarr=4\n",
    "             )\n",
    "\n",
    "#retrieve old cal\n"
   ]
  },
  {
   "cell_type": "code",
   "execution_count": 5,
   "metadata": {
    "collapsed": false
   },
   "outputs": [
    {
     "name": "stdout",
     "output_type": "stream",
     "text": [
      "crispy - INFO - Building calibration files, placing results in ../../../crispy/ReferenceFiles/Calibra_170425/\n",
      "crispy - INFO - Read data from HDU 1 of ../../../crispy/ReferenceFiles/Calibra_170425/det605.0.fits\n",
      "crispy - INFO - Read data from HDU 1 of ../../../crispy/ReferenceFiles/Calibra_170425/det605.0.fits\n",
      "crispy - INFO - Read data from HDU 1 of ../../../crispy/ReferenceFiles/Calibra_170425/det615.0.fits\n",
      "crispy - INFO - Read data from HDU 1 of ../../../crispy/ReferenceFiles/Calibra_170425/det625.0.fits\n",
      "crispy - INFO - Read data from HDU 1 of ../../../crispy/ReferenceFiles/Calibra_170425/det635.0.fits\n",
      "crispy - INFO - Read data from HDU 1 of ../../../crispy/ReferenceFiles/Calibra_170425/det645.0.fits\n",
      "crispy - INFO - Read data from HDU 1 of ../../../crispy/ReferenceFiles/Calibra_170425/det655.0.fits\n",
      "crispy - INFO - Read data from HDU 1 of ../../../crispy/ReferenceFiles/Calibra_170425/det665.0.fits\n",
      "crispy - INFO - Read data from HDU 1 of ../../../crispy/ReferenceFiles/Calibra_170425/det675.0.fits\n",
      "crispy - INFO - Read data from HDU 1 of ../../../crispy/ReferenceFiles/Calibra_170425/det685.0.fits\n",
      "crispy - INFO - Read data from HDU 1 of ../../../crispy/ReferenceFiles/Calibra_170425/det695.0.fits\n",
      "crispy - INFO - Read data from HDU 1 of ../../../crispy/ReferenceFiles/Calibra_170425/det705.0.fits\n",
      "crispy - INFO - Read data from HDU 1 of ../../../crispy/ReferenceFiles/Calibra_170425/det715.0.fits\n",
      "crispy - INFO - Read data from HDU 1 of ../../../crispy/ReferenceFiles/Calibra_170425/det725.0.fits\n",
      "crispy - INFO - Loading wavelength solution from ../../../crispy/ReferenceFiles/Calibra_170425/lamsol.dat\n",
      "crispy - INFO - Computing wavelength values at pixel centers\n",
      "crispy - INFO - Reduced cube will have 11 wavelength bins\n",
      "crispy - INFO - Making polychrome cube\n",
      "crispy - INFO - Saving polychrome cube\n",
      "crispy - INFO - Saving wavelength calibration cube\n",
      "crispy - INFO - Total time elapsed: 38 s\n"
     ]
    }
   ],
   "source": [
    "from crispy.tools.wavecal import buildcalibrations\n",
    "buildcalibrations(par,\n",
    "                inspect=True,\n",
    "                genwavelengthsol=False, # already done before\n",
    "                makehiresPSFlets=False, # already done\n",
    "                makePolychrome=True, # update the polychrome with the new wavecal!\n",
    "                upsample=3,\n",
    "                nsubarr=4\n",
    "             )\n"
   ]
  }
 ],
 "metadata": {
  "kernelspec": {
   "display_name": "Python 2",
   "language": "python",
   "name": "python2"
  },
  "language_info": {
   "codemirror_mode": {
    "name": "ipython",
    "version": 2
   },
   "file_extension": ".py",
   "mimetype": "text/x-python",
   "name": "python",
   "nbconvert_exporter": "python",
   "pygments_lexer": "ipython2",
   "version": "2.7.13"
  }
 },
 "nbformat": 4,
 "nbformat_minor": 2
}
