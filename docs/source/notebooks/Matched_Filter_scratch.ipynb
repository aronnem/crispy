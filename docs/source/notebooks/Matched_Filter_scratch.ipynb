{
 "cells": [
  {
   "cell_type": "markdown",
   "metadata": {},
   "source": [
    "# Matched filter determination"
   ]
  },
  {
   "cell_type": "markdown",
   "metadata": {},
   "source": [
    "1. Construct function that creates matched filter in a cube\n",
    "2. For each pixel in the dark hole (use bowtie function), record cube coordinates (use reshape)\n",
    "3. For each coordinate, compute the matched filter taking into account the bowtie mask (watch out for photometry); record to 4D cube (first dimension is the index of the cube coordinate)\n",
    "4. When applying the match filter, look up the 4D cube"
   ]
  },
  {
   "cell_type": "markdown",
   "metadata": {},
   "source": [
    "### Load crispy"
   ]
  },
  {
   "cell_type": "code",
   "execution_count": 1,
   "metadata": {
    "collapsed": false
   },
   "outputs": [
    {
     "name": "stdout",
     "output_type": "stream",
     "text": [
      "Populating the interactive namespace from numpy and matplotlib\n",
      "../../../../crispy\n"
     ]
    }
   ],
   "source": [
    "%pylab inline --no-import-all\n",
    "matplotlib.rcParams['image.origin'] = 'lower'\n",
    "matplotlib.rcParams['image.interpolation'] = 'nearest'\n",
    "import sys\n",
    "import os\n",
    "\n",
    "folder = '../../../../crispy'\n",
    "print(folder)\n",
    "if folder not in sys.path: sys.path.append(folder)\n",
    "\n",
    "from crispy.params import Params\n",
    "folder = '../../../crispy'\n",
    "\n",
    "from crispy.tools.initLogger import getLogger\n",
    "log = getLogger('crispy')\n",
    "from crispy.IFS import polychromeIFS\n",
    "from crispy.IFS import reduceIFSMap\n",
    "from crispy.tools.imgtools import scale2imgs,bowtie\n",
    "from crispy.tools.image import Image\n",
    "from crispy.tools.rotate import rotateCube,shiftCube\n",
    "from crispy.tools.postprocessing import mf,recenter_offaxis\n",
    "from crispy.tools.inputScene import adjust_krist_header\n",
    "from astropy.io import fits\n",
    "par = Params(folder)\n"
   ]
  },
  {
   "cell_type": "markdown",
   "metadata": {},
   "source": [
    "### Matched filter in a cube"
   ]
  },
  {
   "cell_type": "code",
   "execution_count": 6,
   "metadata": {
    "collapsed": false
   },
   "outputs": [
    {
     "name": "stdout",
     "output_type": "stream",
     "text": [
      "crispy - INFO - Read data from HDU 1 of /Users/mrizzo/IFS/OS5/OS5_average/offaxis.fits\n",
      "crispy - INFO - Reduced cube will have 19 wavelength bins\n",
      "crispy - INFO - Writing data to ../../../crispy/SimResults/offaxis_red_optext.fits\n",
      "crispy - INFO - Elapsed time: 1.373560s\n",
      "crispy - INFO - Writing data to ../../../crispy/SimResults/test_offaxisrot.fits\n",
      "crispy - INFO - Writing data to ../../../crispy/SimResults/test_matched_filter.fits\n"
     ]
    }
   ],
   "source": [
    "offaxis_ideal_before_rotate = reduceIFSMap(par,'/Users/mrizzo/IFS/OS5/OS5_average/offaxis.fits')\n",
    "#offaxis_ideal = Image(data=rotateCube(offaxis_ideal_before_rotate.data,-26*np.pi/180.,clip=True))\n",
    "#offaxis_ideal = Image(data=shiftCube(offaxis_ideal_before_rotate.data,dx=0,dy=-10))\n",
    "offaxis_ideal = offaxis_ideal_before_rotate\n",
    "offaxis_ideal.write(par.exportDir+\"/test_offaxisrot.fits\")\n",
    "matched_filter = np.zeros(offaxis_ideal.data.shape)\n",
    "ydim,xdim = offaxis_ideal.data[0].shape\n",
    "IWA = 3\n",
    "OWA = 9\n",
    "lamc=770.\n",
    "threshold = 0.5\n",
    "mask,junk = bowtie(offaxis_ideal.data[0],ydim//2,xdim//2,openingAngle=65,\n",
    "            clocking=-par.philens*180./np.pi,IWApix=IWA*lamc/par.lenslet_wav/par.lenslet_sampling,OWApix=OWA*lamc/par.lenslet_wav/par.lenslet_sampling,\n",
    "            export=None,twomasks=False)\n",
    "# for slicenum in range(offaxis_ideal.data.shape[0]):\n",
    "#     nanmask = np.isnan(offaxis_ideal.data[slicenum])\n",
    "#     offaxis_ideal_norm = offaxis_ideal.data[slicenum]/np.nansum(offaxis_ideal.data[slicenum])\n",
    "#     this_slice = offaxis_ideal_norm/np.nansum((offaxis_ideal_norm)**2)\n",
    "#     # calculate correction factor since we are going to crop only the top the of the hat\n",
    "#     # this is the inverse ratio of the contribution of the brightest pixels over the rest\n",
    "#     msk = mask*(this_slice>threshold)\n",
    "#     aper_phot = np.nansum(this_slice)/np.nansum(this_slice[msk])\n",
    "#     # Set all low-contributing pixels to 0.0\n",
    "#     this_slice[~msk] = 0.0\n",
    "#     this_slice[nanmask] = np.NaN\n",
    "#     matched_filter[slicenum,:,:] = this_slice\n",
    "#     # Multiply what is left by that aperture correction factor\n",
    "#     matched_filter[slicenum,:,:]*=aper_phot\n",
    "matched_filter = mf(offaxis_ideal,mask,threshold)\n",
    "Image(data=matched_filter).write(par.exportDir+\"/test_matched_filter.fits\")"
   ]
  },
  {
   "cell_type": "markdown",
   "metadata": {},
   "source": [
    "### Recenter off-axis PSF used for matched filter"
   ]
  },
  {
   "cell_type": "code",
   "execution_count": 3,
   "metadata": {
    "collapsed": false
   },
   "outputs": [
    {
     "name": "stdout",
     "output_type": "stream",
     "text": [
      "crispy - INFO - Read data from HDU 0 of /Users/mrizzo/IFS/OS5/offaxis/spc_offaxis_psf.fits\n",
      "70.0\n",
      "[ 0.0032633   0.00326142  0.00325945  0.00325739  0.00325527  0.00325306\n",
      "  0.0032507   0.00324818  0.00324555  0.00324279  0.00323991  0.00323695\n",
      "  0.00323381  0.00323054  0.00322716  0.00322369  0.00322017  0.00321664\n",
      "  0.00321301  0.00320925  0.00320551  0.00320175  0.00319798  0.00319425\n",
      "  0.00319057  0.00318681  0.00318307  0.00317931  0.00317558  0.00317192\n",
      "  0.00316837  0.00316489  0.00316125  0.00315758  0.00315395  0.00315035\n",
      "  0.0031468   0.00314326  0.00313974  0.0031361   0.00313226  0.0031284\n",
      "  0.00312451  0.00312052  0.00311654]\n",
      "[ 0.00313361  0.00313279  0.00313123  0.00312994  0.00312835  0.00312874\n",
      "  0.00312842  0.00312826  0.0031283   0.00312853  0.00312706  0.00312532\n",
      "  0.00312383  0.00312092  0.00312055  0.00312037  0.00311884  0.00311524\n",
      "  0.00311298  0.00311079  0.00310841  0.00310601  0.00310325  0.00310132\n",
      "  0.00309989  0.00309803  0.00309736  0.00309535  0.00309181  0.00308928\n",
      "  0.00308676  0.00308357  0.00308114  0.00307871  0.00307536  0.00307312\n",
      "  0.00306918  0.0030646   0.00306134  0.00305734  0.00305238  0.00304682\n",
      "  0.00304306  0.00303924  0.00303604]\n",
      "Loss: [-3.9743221  -3.94393908 -3.93399485 -3.91286558 -3.89893213 -3.82155916\n",
      " -3.76165861 -3.69211553 -3.61260786 -3.52342955 -3.48334982 -3.44852788\n",
      " -3.40094891 -3.39337578 -3.3035983  -3.20504141 -3.14671313 -3.15228714\n",
      " -3.11306306 -3.06818906 -3.02921238 -2.99006123 -2.96227734 -2.90924027\n",
      " -2.84221285 -2.78579934 -2.69246229 -2.64063971 -2.63792955 -2.60553532\n",
      " -2.57565221 -2.56952381 -2.53413216 -2.49794117 -2.49177584 -2.45151021\n",
      " -2.46668368 -2.50255188 -2.49719501 -2.51143819 -2.55015725 -2.6076973\n",
      " -2.60671226 -2.60472926 -2.58294886] %\n",
      "1.10116056615e-05\n"
     ]
    }
   ],
   "source": [
    "offaxis = Image('/Users/mrizzo/IFS/OS5/offaxis/spc_offaxis_psf.fits')\n",
    "offsetpx = offaxis.header['OFFSET']/offaxis.header['PIXSIZE']\n",
    "print offsetpx\n",
    "centered_offaxis = Image(data=shiftCube(offaxis.data,dx=offsetpx,dy=0))\n",
    "maxi = np.nanmax(np.nanmax(centered_offaxis.data,axis=2),axis=1)\n",
    "total = np.nansum(np.nansum(centered_offaxis.data,axis=2),axis=1)\n",
    "print total\n",
    "centered_offaxis.data/=maxi[:,np.newaxis,np.newaxis]\n",
    "\n",
    "centered_offaxis.data[centered_offaxis.data<0.01] = 0.0\n",
    "newsum = np.nansum(np.nansum(centered_offaxis.data,axis=2),axis=1)\n",
    "centered_offaxis.data *= maxi[:,np.newaxis,np.newaxis]#total[:,np.newaxis,np.newaxis]/newsum[:,np.newaxis,np.newaxis]\n",
    "print np.nansum(np.nansum(centered_offaxis.data,axis=2),axis=1)\n",
    "print \"Loss:\",(np.nansum(np.nansum(centered_offaxis.data,axis=2),axis=1)-total)/total*100,\"%\"\n",
    "#centered_offaxis.write(par.exportDir+'/centered_offaxis.fits')\n",
    "outkey = fits.HDUList(fits.PrimaryHDU(centered_offaxis.data,offaxis.header))\n",
    "outkey.writeto(par.exportDir+'/centered_offaxis.fits',clobber=True)\n",
    "slices,ny,nx = centered_offaxis.data.shape\n",
    "print(centered_offaxis.data[0,ny//2,nx//2])"
   ]
  },
  {
   "cell_type": "code",
   "execution_count": 2,
   "metadata": {
    "collapsed": false
   },
   "outputs": [
    {
     "name": "stdout",
     "output_type": "stream",
     "text": [
      "crispy - INFO - Read data from HDU 0 of /Users/mrizzo/IFS/OS5/offaxis/spc_offaxis_psf.fits\n"
     ]
    },
    {
     "data": {
      "text/plain": [
       "[<astropy.io.fits.hdu.image.PrimaryHDU object at 0x1043b2bd0>]"
      ]
     },
     "execution_count": 2,
     "metadata": {},
     "output_type": "execute_result"
    }
   ],
   "source": [
    "recenter_offaxis('/Users/mrizzo/IFS/OS5/offaxis/spc_offaxis_psf.fits',0.01,par.exportDir+'/centered_offaxis.fits')"
   ]
  },
  {
   "cell_type": "markdown",
   "metadata": {},
   "source": [
    "### Construct matched filter cube library"
   ]
  },
  {
   "cell_type": "code",
   "execution_count": 3,
   "metadata": {
    "collapsed": false
   },
   "outputs": [
    {
     "name": "stdout",
     "output_type": "stream",
     "text": [
      "crispy - INFO - Read data from HDU 0 of ../../../crispy/SimResults/centered_offaxis.fits\n",
      "crispy - INFO - The number of input pixels per lenslet is 4.285714\n",
      "crispy - INFO - Using PSFlet gaussian approximation\n",
      "crispy - WARNING - Assuming slices are evenly spread in wavelengths\n",
      "crispy - INFO - Done.\n",
      "crispy - INFO - Performance: 3 seconds total\n",
      "crispy - INFO - Writing data to ../../../crispy/SimResults/offaxis_detector.fits\n",
      "crispy - INFO - Read data from HDU 1 of ../../../crispy/SimResults/offaxis_detector.fits\n",
      "crispy - INFO - Reduced cube will have 19 wavelength bins\n",
      "crispy - INFO - Writing data to ../../../crispy/SimResults/offaxis_detector_red_optext.fits\n",
      "crispy - INFO - Elapsed time: 1.346861s\n"
     ]
    }
   ],
   "source": [
    "centered_offaxis_file = Image(par.exportDir+'/centered_offaxis.fits')\n",
    "adjust_krist_header(centered_offaxis_file,lamc=770.)\n",
    "par.saveDetector=False  \n",
    "Nlam = centered_offaxis_file.data.shape[0]\n",
    "BW=0.18\n",
    "lamc=770.\n",
    "lamlist = lamc*np.linspace(1.-BW/2.,1.+BW/2.,Nlam)\n",
    "\n",
    "detectorFrame = polychromeIFS(par,lamlist,centered_offaxis_file,QE=True)\n",
    "Image(data = detectorFrame,header=par.hdr).write(par.exportDir+\"/offaxis_detector.fits\",clobber=True)\n",
    "offaxis_reduced = reduceIFSMap(par,par.exportDir+\"/offaxis_detector.fits\")\n"
   ]
  },
  {
   "cell_type": "code",
   "execution_count": 7,
   "metadata": {
    "collapsed": false
   },
   "outputs": [
    {
     "name": "stdout",
     "output_type": "stream",
     "text": [
      "(108, 108, 19, 108, 108)\n",
      "crispy - INFO - Read data from HDU 1 of ../../../crispy/SimResults/offaxis_detector_red_optext.fits\n",
      "crispy - INFO - Read inverse variance from HDU 2 of ../../../crispy/SimResults/offaxis_detector_red_optext.fits\n"
     ]
    }
   ],
   "source": [
    "# Final cube should be 5D: a matched filter for each x,y location in the cube\n",
    "mflib = np.zeros(list(offaxis_reduced.data[0].shape)+list(offaxis_reduced.data.shape))\n",
    "print mflib.shape\n",
    "psf = Image(par.exportDir+\"/offaxis_detector_red_optext.fits\")\n",
    "IWA = 3\n",
    "OWA = 9\n",
    "lamc=770.\n",
    "threshold = 0.5\n",
    "ydim,xdim = offaxis_reduced.data[0].shape\n",
    "mask,junk = bowtie(offaxis_reduced.data[0],ydim//2,xdim//2,openingAngle=65,\n",
    "            clocking=-par.philens*180./np.pi,IWApix=IWA*lamc/par.lenslet_wav/par.lenslet_sampling,OWApix=OWA*lamc/par.lenslet_wav/par.lenslet_sampling,\n",
    "            export=None,twomasks=False)\n",
    "# input_sampling = 0.1\n",
    "# input_wav = 770.\n",
    "# dpix = par.lenslet_sampling/(input_sampling * input_wav/par.lenslet_wav)\n",
    "# print dpix\n"
   ]
  },
  {
   "cell_type": "code",
   "execution_count": 24,
   "metadata": {
    "collapsed": false
   },
   "outputs": [
    {
     "name": "stdout",
     "output_type": "stream",
     "text": [
      "crispy - INFO - Writing data to ../../../crispy/SimResults/test_shift.fits\n",
      "crispy - INFO - Writing data to ../../../crispy/SimResults/test_shifted_mathced_filter.fits\n"
     ]
    }
   ],
   "source": [
    "ic = mflib.shape[0]//2\n",
    "jc = mflib.shape[1]//2\n",
    "i=ic+10\n",
    "j=jc-10\n",
    "test = Image(data=shiftCube(psf.data,dx=-1*(i-ic),dy=-1*(j-jc)))\n",
    "test.write(par.exportDir+'/test_shift.fits')\n",
    "match_filter = Image(data=mf(test,mask,threshold))\n",
    "match_filter.write(par.exportDir+'/test_shifted_mathced_filter.fits')"
   ]
  },
  {
   "cell_type": "code",
   "execution_count": 28,
   "metadata": {
    "collapsed": false
   },
   "outputs": [],
   "source": [
    "ic = mflib.shape[0]//2 # i or x axis is horizontal\n",
    "jc = mflib.shape[1]//2 # j or y axis is vertical\n",
    "for i in range(mflib.shape[0]):\n",
    "    for j in range(mflib.shape[1]):\n",
    "        if ~np.isnan(mask[i,j]):\n",
    "            decentered = Image(data=shiftCube(psf.data,dx=-1*(i-ic),dy=-1*(j-jc)))\n",
    "            mflib[i,j] = mf(decentered,mask,threshold)"
   ]
  },
  {
   "cell_type": "code",
   "execution_count": 35,
   "metadata": {
    "collapsed": false
   },
   "outputs": [
    {
     "ename": "KeyboardInterrupt",
     "evalue": "",
     "output_type": "error",
     "traceback": [
      "\u001b[0;31m---------------------------------------------------------------------------\u001b[0m",
      "\u001b[0;31mKeyboardInterrupt\u001b[0m                         Traceback (most recent call last)",
      "\u001b[0;32m<ipython-input-35-cf28408af34a>\u001b[0m in \u001b[0;36m<module>\u001b[0;34m()\u001b[0m\n\u001b[1;32m      1\u001b[0m \u001b[0moutkey\u001b[0m \u001b[0;34m=\u001b[0m \u001b[0mfits\u001b[0m\u001b[0;34m.\u001b[0m\u001b[0mHDUList\u001b[0m\u001b[0;34m(\u001b[0m\u001b[0mfits\u001b[0m\u001b[0;34m.\u001b[0m\u001b[0mPrimaryHDU\u001b[0m\u001b[0;34m(\u001b[0m\u001b[0mmflib\u001b[0m\u001b[0;34m)\u001b[0m\u001b[0;34m)\u001b[0m\u001b[0;34m\u001b[0m\u001b[0m\n\u001b[0;32m----> 2\u001b[0;31m \u001b[0moutkey\u001b[0m\u001b[0;34m.\u001b[0m\u001b[0mwriteto\u001b[0m\u001b[0;34m(\u001b[0m\u001b[0mpar\u001b[0m\u001b[0;34m.\u001b[0m\u001b[0mexportDir\u001b[0m\u001b[0;34m+\u001b[0m\u001b[0;34m'/mflib.fits.gz'\u001b[0m\u001b[0;34m,\u001b[0m\u001b[0mclobber\u001b[0m\u001b[0;34m=\u001b[0m\u001b[0mTrue\u001b[0m\u001b[0;34m)\u001b[0m\u001b[0;34m\u001b[0m\u001b[0m\n\u001b[0m",
      "\u001b[0;32m/Users/mrizzo/anaconda/lib/python2.7/site-packages/astropy/utils/decorators.pyc\u001b[0m in \u001b[0;36mwrapper\u001b[0;34m(*args, **kwargs)\u001b[0m\n\u001b[1;32m    505\u001b[0m                         \u001b[0;31m# one with the name of the new argument to the function\u001b[0m\u001b[0;34m\u001b[0m\u001b[0;34m\u001b[0m\u001b[0m\n\u001b[1;32m    506\u001b[0m                         \u001b[0mkwargs\u001b[0m\u001b[0;34m[\u001b[0m\u001b[0mnew_name\u001b[0m\u001b[0;34m[\u001b[0m\u001b[0mi\u001b[0m\u001b[0;34m]\u001b[0m\u001b[0;34m]\u001b[0m \u001b[0;34m=\u001b[0m \u001b[0mvalue\u001b[0m\u001b[0;34m\u001b[0m\u001b[0m\n\u001b[0;32m--> 507\u001b[0;31m             \u001b[0;32mreturn\u001b[0m \u001b[0mfunction\u001b[0m\u001b[0;34m(\u001b[0m\u001b[0;34m*\u001b[0m\u001b[0margs\u001b[0m\u001b[0;34m,\u001b[0m \u001b[0;34m**\u001b[0m\u001b[0mkwargs\u001b[0m\u001b[0;34m)\u001b[0m\u001b[0;34m\u001b[0m\u001b[0m\n\u001b[0m\u001b[1;32m    508\u001b[0m \u001b[0;34m\u001b[0m\u001b[0m\n\u001b[1;32m    509\u001b[0m         \u001b[0;32mreturn\u001b[0m \u001b[0mwrapper\u001b[0m\u001b[0;34m\u001b[0m\u001b[0m\n",
      "\u001b[0;32m/Users/mrizzo/anaconda/lib/python2.7/site-packages/astropy/io/fits/hdu/hdulist.pyc\u001b[0m in \u001b[0;36mwriteto\u001b[0;34m(self, fileobj, output_verify, overwrite, checksum)\u001b[0m\n\u001b[1;32m    873\u001b[0m             \u001b[0mhdu\u001b[0m\u001b[0;34m.\u001b[0m\u001b[0m_prewriteto\u001b[0m\u001b[0;34m(\u001b[0m\u001b[0mchecksum\u001b[0m\u001b[0;34m=\u001b[0m\u001b[0mchecksum\u001b[0m\u001b[0;34m)\u001b[0m\u001b[0;34m\u001b[0m\u001b[0m\n\u001b[1;32m    874\u001b[0m             \u001b[0;32mtry\u001b[0m\u001b[0;34m:\u001b[0m\u001b[0;34m\u001b[0m\u001b[0m\n\u001b[0;32m--> 875\u001b[0;31m                 \u001b[0mhdu\u001b[0m\u001b[0;34m.\u001b[0m\u001b[0m_writeto\u001b[0m\u001b[0;34m(\u001b[0m\u001b[0mhdulist\u001b[0m\u001b[0;34m.\u001b[0m\u001b[0m_file\u001b[0m\u001b[0;34m)\u001b[0m\u001b[0;34m\u001b[0m\u001b[0m\n\u001b[0m\u001b[1;32m    876\u001b[0m             \u001b[0;32mfinally\u001b[0m\u001b[0;34m:\u001b[0m\u001b[0;34m\u001b[0m\u001b[0m\n\u001b[1;32m    877\u001b[0m                 \u001b[0mhdu\u001b[0m\u001b[0;34m.\u001b[0m\u001b[0m_postwriteto\u001b[0m\u001b[0;34m(\u001b[0m\u001b[0;34m)\u001b[0m\u001b[0;34m\u001b[0m\u001b[0m\n",
      "\u001b[0;32m/Users/mrizzo/anaconda/lib/python2.7/site-packages/astropy/io/fits/hdu/base.pyc\u001b[0m in \u001b[0;36m_writeto\u001b[0;34m(self, fileobj, inplace, copy)\u001b[0m\n\u001b[1;32m    655\u001b[0m         \u001b[0;32mif\u001b[0m \u001b[0;32mnot\u001b[0m \u001b[0minplace\u001b[0m \u001b[0;32mor\u001b[0m \u001b[0mself\u001b[0m\u001b[0;34m.\u001b[0m\u001b[0m_new\u001b[0m\u001b[0;34m:\u001b[0m\u001b[0;34m\u001b[0m\u001b[0m\n\u001b[1;32m    656\u001b[0m             \u001b[0mheader_offset\u001b[0m\u001b[0;34m,\u001b[0m \u001b[0m_\u001b[0m \u001b[0;34m=\u001b[0m \u001b[0mself\u001b[0m\u001b[0;34m.\u001b[0m\u001b[0m_writeheader\u001b[0m\u001b[0;34m(\u001b[0m\u001b[0mfileobj\u001b[0m\u001b[0;34m)\u001b[0m\u001b[0;34m\u001b[0m\u001b[0m\n\u001b[0;32m--> 657\u001b[0;31m             \u001b[0mdata_offset\u001b[0m\u001b[0;34m,\u001b[0m \u001b[0mdata_size\u001b[0m \u001b[0;34m=\u001b[0m \u001b[0mself\u001b[0m\u001b[0;34m.\u001b[0m\u001b[0m_writedata\u001b[0m\u001b[0;34m(\u001b[0m\u001b[0mfileobj\u001b[0m\u001b[0;34m)\u001b[0m\u001b[0;34m\u001b[0m\u001b[0m\n\u001b[0m\u001b[1;32m    658\u001b[0m \u001b[0;34m\u001b[0m\u001b[0m\n\u001b[1;32m    659\u001b[0m             \u001b[0;31m# Set the various data location attributes on newly-written HDUs\u001b[0m\u001b[0;34m\u001b[0m\u001b[0;34m\u001b[0m\u001b[0m\n",
      "\u001b[0;32m/Users/mrizzo/anaconda/lib/python2.7/site-packages/astropy/io/fits/hdu/base.pyc\u001b[0m in \u001b[0;36m_writedata\u001b[0;34m(self, fileobj)\u001b[0m\n\u001b[1;32m    592\u001b[0m         \u001b[0;32mif\u001b[0m \u001b[0mself\u001b[0m\u001b[0;34m.\u001b[0m\u001b[0m_data_loaded\u001b[0m \u001b[0;32mor\u001b[0m \u001b[0mself\u001b[0m\u001b[0;34m.\u001b[0m\u001b[0m_data_needs_rescale\u001b[0m\u001b[0;34m:\u001b[0m\u001b[0;34m\u001b[0m\u001b[0m\n\u001b[1;32m    593\u001b[0m             \u001b[0;32mif\u001b[0m \u001b[0mself\u001b[0m\u001b[0;34m.\u001b[0m\u001b[0mdata\u001b[0m \u001b[0;32mis\u001b[0m \u001b[0;32mnot\u001b[0m \u001b[0mNone\u001b[0m\u001b[0;34m:\u001b[0m\u001b[0;34m\u001b[0m\u001b[0m\n\u001b[0;32m--> 594\u001b[0;31m                 \u001b[0msize\u001b[0m \u001b[0;34m+=\u001b[0m \u001b[0mself\u001b[0m\u001b[0;34m.\u001b[0m\u001b[0m_writedata_internal\u001b[0m\u001b[0;34m(\u001b[0m\u001b[0mfileobj\u001b[0m\u001b[0;34m)\u001b[0m\u001b[0;34m\u001b[0m\u001b[0m\n\u001b[0m\u001b[1;32m    595\u001b[0m             \u001b[0;31m# pad the FITS data block\u001b[0m\u001b[0;34m\u001b[0m\u001b[0;34m\u001b[0m\u001b[0m\n\u001b[1;32m    596\u001b[0m             \u001b[0;32mif\u001b[0m \u001b[0msize\u001b[0m \u001b[0;34m>\u001b[0m \u001b[0;36m0\u001b[0m\u001b[0;34m:\u001b[0m\u001b[0;34m\u001b[0m\u001b[0m\n",
      "\u001b[0;32m/Users/mrizzo/anaconda/lib/python2.7/site-packages/astropy/io/fits/hdu/image.pyc\u001b[0m in \u001b[0;36m_writedata_internal\u001b[0;34m(self, fileobj)\u001b[0m\n\u001b[1;32m    636\u001b[0m                         \u001b[0mfileobj\u001b[0m\u001b[0;34m.\u001b[0m\u001b[0mwritearray\u001b[0m\u001b[0;34m(\u001b[0m\u001b[0moutput\u001b[0m\u001b[0;34m)\u001b[0m\u001b[0;34m\u001b[0m\u001b[0m\n\u001b[1;32m    637\u001b[0m                     \u001b[0;32mfinally\u001b[0m\u001b[0;34m:\u001b[0m\u001b[0;34m\u001b[0m\u001b[0m\n\u001b[0;32m--> 638\u001b[0;31m                         \u001b[0moutput\u001b[0m\u001b[0;34m.\u001b[0m\u001b[0mbyteswap\u001b[0m\u001b[0;34m(\u001b[0m\u001b[0mTrue\u001b[0m\u001b[0;34m)\u001b[0m\u001b[0;34m\u001b[0m\u001b[0m\n\u001b[0m\u001b[1;32m    639\u001b[0m                 \u001b[0;32melse\u001b[0m\u001b[0;34m:\u001b[0m\u001b[0;34m\u001b[0m\u001b[0m\n\u001b[1;32m    640\u001b[0m                     \u001b[0mfileobj\u001b[0m\u001b[0;34m.\u001b[0m\u001b[0mwritearray\u001b[0m\u001b[0;34m(\u001b[0m\u001b[0moutput\u001b[0m\u001b[0;34m)\u001b[0m\u001b[0;34m\u001b[0m\u001b[0m\n",
      "\u001b[0;31mKeyboardInterrupt\u001b[0m: "
     ]
    }
   ],
   "source": [
    "outkey = fits.HDUList(fits.PrimaryHDU(mflib))\n",
    "outkey.writeto(par.exportDir+'/mflib.fits.gz',clobber=True)\n"
   ]
  },
  {
   "cell_type": "code",
   "execution_count": 34,
   "metadata": {
    "collapsed": false
   },
   "outputs": [
    {
     "data": {
      "text/plain": [
       "<matplotlib.image.AxesImage at 0x11090af10>"
      ]
     },
     "execution_count": 34,
     "metadata": {},
     "output_type": "execute_result"
    },
    {
     "data": {
      "image/png": "[encoded data removed]",
      "text/plain": [
       "<matplotlib.figure.Figure at 0x1107daad0>"
      ]
     },
     "metadata": {},
     "output_type": "display_data"
    }
   ],
   "source": [
    "plt.imshow(mflib[ic+8,jc-5,0])"
   ]
  },
  {
   "cell_type": "code",
   "execution_count": null,
   "metadata": {
    "collapsed": true
   },
   "outputs": [],
   "source": []
  },
  {
   "cell_type": "code",
   "execution_count": 37,
   "metadata": {
    "collapsed": false
   },
   "outputs": [],
   "source": [
    "outkey = fits.HDUList(fits.PrimaryHDU(mask.astype(np.float)))\n",
    "outkey.writeto(par.exportDir+'/mask.fits',clobber=True)\n"
   ]
  },
  {
   "cell_type": "markdown",
   "metadata": {},
   "source": [
    "## Save some memory space by calculating the matched filter only where it matters"
   ]
  },
  {
   "cell_type": "code",
   "execution_count": 52,
   "metadata": {
    "collapsed": false
   },
   "outputs": [
    {
     "data": {
      "text/plain": [
       "(440, 19, 48, 48)"
      ]
     },
     "execution_count": 52,
     "metadata": {},
     "output_type": "execute_result"
    }
   ],
   "source": [
    "x = np.arange(mask.shape[1])\n",
    "y = np.arange(mask.shape[0])\n",
    "x,y = np.meshgrid(x,y)\n",
    "xlist= x[mask]\n",
    "ylist= y[mask]\n",
    "trim=30\n",
    "psftrim = psf.data[:,trim:-trim,trim:-trim]\n",
    "masktrim = mask[trim:-trim,trim:-trim]\n",
    "mflib2 = np.zeros(list(xlist.shape)+list(psftrim.shape))\n",
    "mflib2.shape\n"
   ]
  },
  {
   "cell_type": "code",
   "execution_count": 56,
   "metadata": {
    "collapsed": false,
    "scrolled": true
   },
   "outputs": [
    {
     "name": "stdout",
     "output_type": "stream",
     "text": [
      "0\n",
      "10\n",
      "20\n",
      "30\n",
      "40\n",
      "50\n",
      "60\n",
      "70\n",
      "80\n",
      "90\n",
      "100\n",
      "110\n",
      "120\n",
      "130\n",
      "140\n",
      "150\n",
      "160\n",
      "170\n",
      "180\n",
      "190\n",
      "200\n",
      "210\n",
      "220\n",
      "230\n",
      "240\n",
      "250\n",
      "260\n",
      "270\n",
      "280\n",
      "290\n",
      "300\n",
      "310\n",
      "320\n",
      "330\n",
      "340\n",
      "350\n",
      "360\n",
      "370\n",
      "380\n",
      "390\n",
      "400\n",
      "410\n",
      "420\n",
      "430\n"
     ]
    }
   ],
   "source": [
    "ic = mask.shape[0]//2 # i or x axis is horizontal\n",
    "jc = mask.shape[1]//2 # j or y axis is vertical\n",
    "for ii in range(len(xlist)):\n",
    "    i = xlist[ii]\n",
    "    j = ylist[ii]\n",
    "    if ii%10==0: print ii\n",
    "    decentered = Image(data=shiftCube(psftrim,dx=-1*(i-ic),dy=-1*(j-jc)))\n",
    "    mflib2[ii] = mf(decentered,masktrim,threshold)\n",
    "outkey = fits.HDUList(fits.PrimaryHDU(mflib2))\n",
    "outkey.writeto(par.exportDir+'/mflib2.fits.gz',clobber=True)\n",
    "    "
   ]
  },
  {
   "cell_type": "code",
   "execution_count": 63,
   "metadata": {
    "collapsed": false
   },
   "outputs": [
    {
     "data": {
      "text/plain": [
       "<matplotlib.image.AxesImage at 0x1127e9a90>"
      ]
     },
     "execution_count": 63,
     "metadata": {},
     "output_type": "execute_result"
    },
    {
     "data": {
      "image/png": "[encoded data removed]",
      "text/plain": [
       "<matplotlib.figure.Figure at 0x1126babd0>"
      ]
     },
     "metadata": {},
     "output_type": "display_data"
    }
   ],
   "source": [
    "plt.imshow(mflib2[400,0])"
   ]
  },
  {
   "cell_type": "code",
   "execution_count": 67,
   "metadata": {
    "collapsed": false
   },
   "outputs": [],
   "source": [
    "outkey = fits.HDUList(fits.PrimaryHDU(xlist.astype(np.int)))\n",
    "outkey.append(fits.PrimaryHDU(ylist.astype(np.int)))\n",
    "outkey.writeto(par.exportDir+'/mfcoords.fits.gz',clobber=True)\n"
   ]
  },
  {
   "cell_type": "code",
   "execution_count": 4,
   "metadata": {
    "collapsed": false
   },
   "outputs": [
    {
     "name": "stdout",
     "output_type": "stream",
     "text": [
      "crispy - INFO - Read data from HDU 1 of ../../../crispy/SimResults/offaxis_detector_red_optext.fits\n",
      "crispy - INFO - Read inverse variance from HDU 2 of ../../../crispy/SimResults/offaxis_detector_red_optext.fits\n"
     ]
    }
   ],
   "source": [
    "from crispy.tools.postprocessing import construct_mflib,convolved_mf\n",
    "psf = Image(par.exportDir+\"/offaxis_detector_red_optext.fits\")\n",
    "construct_mflib(par,psf,IWA=3,OWA=9,lamc=770.,threshold=0.5)"
   ]
  },
  {
   "cell_type": "code",
   "execution_count": 5,
   "metadata": {
    "collapsed": false
   },
   "outputs": [
    {
     "data": {
      "text/plain": [
       "<matplotlib.image.AxesImage at 0x1036259d0>"
      ]
     },
     "execution_count": 5,
     "metadata": {},
     "output_type": "execute_result"
    },
    {
     "data": {
      "image/png": "[encoded data removed]",
      "text/plain": [
       "<matplotlib.figure.Figure at 0x10e03a950>"
      ]
     },
     "metadata": {},
     "output_type": "display_data"
    }
   ],
   "source": [
    "load_mflib = fits.open(par.exportDir+'/mflib.fits.gz')[0].data\n",
    "plt.imshow(load_mflib[400,0])"
   ]
  },
  {
   "cell_type": "code",
   "execution_count": 7,
   "metadata": {
    "collapsed": false
   },
   "outputs": [
    {
     "name": "stdout",
     "output_type": "stream",
     "text": [
      "[64.455354713045423, 75.475755767119367, 65.188572004891313, 56.121335808348505, 60.059832054065161, 68.629079764543306, 71.255331145110972, 69.309276761441495, 65.104223524485619, 59.904082580834967, 53.725467493148962, 48.763303258414034, 45.483175653996057, 42.770059094868706, 40.226208821409514, 37.548135764936113, 35.913047802042129, 33.413153686736322, 25.096430152400806]\n"
     ]
    }
   ],
   "source": [
    "from crispy.tools.postprocessing import convolved_mf\n",
    "\n",
    "# incube = fits.open(par.exportDir+'/average_target_star_detector_red_optext.fits')[1].data\n",
    "incube = fits.open(par.exportDir+'/test_lstsqdiff.fits')[1].data\n",
    "convolved = convolved_mf(incube,par.exportDir+'/mflib.fits.gz')\n",
    "outkey = fits.HDUList(fits.PrimaryHDU(convolved.astype(np.float)))\n",
    "outkey.writeto(par.exportDir+'/mfcube.fits',clobber=True)\n",
    "pixstd = [np.nanstd(convolved[i]) for i in range(incube.shape[0])]\n",
    "print pixstd"
   ]
  },
  {
   "cell_type": "code",
   "execution_count": 3,
   "metadata": {
    "collapsed": true
   },
   "outputs": [],
   "source": []
  },
  {
   "cell_type": "code",
   "execution_count": null,
   "metadata": {
    "collapsed": true
   },
   "outputs": [],
   "source": []
  },
  {
   "cell_type": "markdown",
   "metadata": {},
   "source": [
    "# More recent Matched filter analysis (Comparison with aperture photometry)"
   ]
  },
  {
   "cell_type": "code",
   "execution_count": null,
   "metadata": {
    "collapsed": true
   },
   "outputs": [],
   "source": [
    "%pylab inline --no-import-all\n",
    "from crispy.tools.image import Image\n",
    "test = Image('/Users/mrizzo/IFS/OS5_SIM_2.0_t1000/average/offaxis_star_red_optext.fits')\n",
    "from crispy.tools.postprocessing import mf\n",
    "from crispy.tools.imgtools import bowtie\n",
    "ydim,xdim = test.data[0].shape\n",
    "lamc=660\n",
    "IWA=2.5\n",
    "OWA=9\n",
    "mask,scratch = bowtie(test.data[0],ydim//2-1,xdim//2,openingAngle=65,\n",
    "        clocking=-par.philens*180./np.pi,\n",
    "        IWApix=IWA*lamc/par.lenslet_wav/par.lenslet_sampling,\n",
    "        OWApix=OWA*lamc/par.lenslet_wav/par.lenslet_sampling,\n",
    "        export=None,twomasks=False)    \n",
    "\n",
    "matched_filter = mf(test,mask,0.5)\n",
    "fig = matched_filter[10,40:60,50:70]\n",
    "plt.imshow(fig,cmap='viridis')\n",
    "plt.axis('off')\n",
    "plt.colorbar()\n",
    "plt.show()\n",
    "print np.nansum(fig)\n",
    "print np.sqrt(np.nansum(fig**2))\n",
    "print (np.nansum(fig**3)/(np.nansum(fig**2))**2)\n",
    "print fig[np.nonzero(fig)]\n",
    "\n",
    "fig = test.data[10,40:60,50:70]\n",
    "fig/=np.amax(fig)\n",
    "fig[fig<0.0] = 0.0\n",
    "plt.imshow(fig,cmap='viridis')\n",
    "plt.colorbar()\n",
    "plt.axis('off')\n",
    "plt.show()\n",
    "\n",
    "print np.nansum(fig)\n",
    "print np.sqrt(np.nansum(fig**2))\n",
    "print (np.nansum(fig**3)/(np.nansum(fig**2))**2)\n",
    "#print fig[np.nonzero(fig)]\n"
   ]
  },
  {
   "cell_type": "code",
   "execution_count": null,
   "metadata": {
    "collapsed": true
   },
   "outputs": [],
   "source": [
    "def mf2(cube,mask,threshold):\n",
    "    '''\n",
    "    Matched filter function\n",
    "    \n",
    "    Parameters\n",
    "    ----------\n",
    "    cube: 3D ndarray\n",
    "        An IFS cube representing the offaxis PSF, from which to compute the matched filter\n",
    "    mask: 2D ndarray\n",
    "        This is typically the coronagraphic mask\n",
    "    threshold: float\n",
    "        Fraction of max below which we crop the normalized PSF\n",
    "    \n",
    "    Returns\n",
    "    -------\n",
    "    matched_filter: 3D ndarray\n",
    "        Matched filter with the same dimensions as input cube\n",
    "    \n",
    "    '''\n",
    "    matched_filter = np.zeros(cube.data.shape)\n",
    "    \n",
    "    for slicenum in range(cube.data.shape[0]):\n",
    "        cube_norm = cube.data[slicenum]/np.nansum(cube.data[slicenum])\n",
    "        msk = mask*(cube_norm>np.nanmax(cube_norm)*threshold)\n",
    "        \n",
    "        # zero out all pixels outside of the thresholded area\n",
    "        cube_norm[~msk]=0.0\n",
    "        \n",
    "        # normalize\n",
    "        cube_norm /= np.nansum(cube_norm)\n",
    "        \n",
    "        # this is now the final matched filter coefficients\n",
    "        matched_filter[slicenum,:,:] = cube_norm#/np.nansum(cube_norm**2)\n",
    "    return matched_filter\n",
    "\n",
    "matched_filter2 = mf2(test,mask,0.0)\n",
    "matched_filter3 = mf2(test,mask,0.2)\n",
    "fig2 = matched_filter2[10,40:60,50:70]\n",
    "fig3 = matched_filter3[10,40:60,50:70]\n",
    "plt.imshow(fig,cmap='viridis')\n",
    "plt.axis('off')\n",
    "plt.colorbar()\n",
    "plt.show()\n",
    "print np.nansum(fig3)\n",
    "print np.sqrt(np.nansum(fig3**2))\n",
    "print (np.nansum(fig3**3)/(np.nansum(fig3**2))**2)\n",
    "print fig3[np.nonzero(fig3)]\n",
    "print np.sum(fig2[fig2/np.amax(fig2)>0.5])\n",
    "print fig2[fig2/np.amax(fig2)>0.5]"
   ]
  }
 ],
 "metadata": {
  "kernelspec": {
   "display_name": "Python 2",
   "language": "python",
   "name": "python2"
  },
  "language_info": {
   "codemirror_mode": {
    "name": "ipython",
    "version": 2
   },
   "file_extension": ".py",
   "mimetype": "text/x-python",
   "name": "python",
   "nbconvert_exporter": "python",
   "pygments_lexer": "ipython2",
   "version": "2.7.13"
  }
 },
 "nbformat": 4,
 "nbformat_minor": 2
}
