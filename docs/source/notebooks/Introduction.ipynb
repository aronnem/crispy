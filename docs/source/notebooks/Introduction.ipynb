{
 "cells": [
  {
   "cell_type": "markdown",
   "metadata": {
    "collapsed": false
   },
   "source": [
    "# Introduction to crispy"
   ]
  },
  {
   "cell_type": "markdown",
   "metadata": {},
   "source": [
    "This software is designed to simulate lenslet array-based Integral Field Spectrographs and their reduction process. This was developed within the context of NASA's WFIRST Coronagraph mission."
   ]
  },
  {
   "cell_type": "markdown",
   "metadata": {},
   "source": [
    "In this notebook we go straight to the point and illustrate how to use the code. We require astropy, numpy. This notebook was written in a Python 3.5 kernel but should be backward compatible with Python 2.7."
   ]
  },
  {
   "cell_type": "markdown",
   "metadata": {},
   "source": [
    "## Create a polychromatic flatfield"
   ]
  },
  {
   "cell_type": "markdown",
   "metadata": {},
   "source": [
    "### Initialization"
   ]
  },
  {
   "cell_type": "markdown",
   "metadata": {},
   "source": [
    "First we need to load the various modules that we need. Since the notebook can be located anywhere, we need to add the location of the Python code to the path first."
   ]
  },
  {
   "cell_type": "code",
   "execution_count": 1,
   "metadata": {
    "collapsed": false
   },
   "outputs": [],
   "source": [
    "import sys\n",
    "codefolder = '../../../../crispy'\n",
    "if codefolder not in sys.path: sys.path.append(codefolder)\n",
    "import glob\n",
    "import numpy as np\n",
    "from crispy.tools.initLogger import getLogger\n",
    "log = getLogger('crispy')"
   ]
  },
  {
   "cell_type": "markdown",
   "metadata": {},
   "source": [
    "All the IFS parameters are contained within a Python class called 'Params'. This class is initialized using only the path the 'code' directory from the repo. In particular, the Params class stores all the relevant paths. All parameters can be changed on the fly."
   ]
  },
  {
   "cell_type": "code",
   "execution_count": 2,
   "metadata": {
    "collapsed": false
   },
   "outputs": [],
   "source": [
    "from crispy.params import Params\n",
    "codefolder = '../../../crispy'\n",
    "par = Params(codefolder)"
   ]
  },
  {
   "cell_type": "markdown",
   "metadata": {},
   "source": [
    "All the parameters are stored in this class. During the various steps of the software, they are appended to a header file."
   ]
  },
  {
   "cell_type": "code",
   "execution_count": 3,
   "metadata": {
    "collapsed": false
   },
   "outputs": [
    {
     "data": {
      "text/plain": [
       "SIMPLE  =                    T / conforms to FITS standard                      \n",
       "BITPIX  =                    8 / array data type                                \n",
       "NAXIS   =                    0 / number of array dimensions                     \n",
       "EXTEND  =                    T                                                  \n",
       "COMMENT                                                                         \n",
       "COMMENT ************************************************************            \n",
       "COMMENT ********************** General parameters ******************            \n",
       "COMMENT ************************************************************            \n",
       "COMMENT                                                                         \n",
       "NLENS   =                  108 / # lenslets across array                        \n",
       "PITCH   =             0.000174 / Lenslet pitch (meters)                         \n",
       "INTERLAC=                    2 / Interlacing                                    \n",
       "PHILENS =    26.56505117707799 / Rotation angle of the lenslets (deg)           \n",
       "PIXSIZE =              1.3E-05 / Pixel size (meters)                            \n",
       "LENSAMP =                  0.5 / Lenslet sampling (lam/D)                       \n",
       "LSAMPWAV=                660.0 / Lenslet sampling wavelength (nm)               \n",
       "FWHM    =                    2 / FHWM of PSFLet at detector (pixels)            \n",
       "FWHMLAM =                660.0 / Wavelength at which FWHM is defined (nm)       \n",
       "NPIX    =                 1024 / Number of detector pixels                      \n",
       "DISPDIST=                    F / Use PISCES distortion/dispersion?              "
      ]
     },
     "execution_count": 3,
     "metadata": {},
     "output_type": "execute_result"
    }
   ],
   "source": [
    "par.hdr"
   ]
  },
  {
   "cell_type": "markdown",
   "metadata": {},
   "source": [
    "### Create the flatfield"
   ]
  },
  {
   "cell_type": "markdown",
   "metadata": {},
   "source": [
    "Creating a flatfield is a function built into the unitTests module. In this case, we will construct a cube of nlam wavelength slices, each having 512x512 pixels of value 1. The standard "
   ]
  },
  {
   "cell_type": "code",
   "execution_count": 4,
   "metadata": {
    "collapsed": false
   },
   "outputs": [
    {
     "name": "stdout",
     "output_type": "stream",
     "text": [
      "Help on function testCreateFlatfield in module crispy.unitTests:\n",
      "\n",
      "testCreateFlatfield(par, pixsize=0.1, npix=512, pixval=1.0, outname='flatfield.fits')\n",
      "    Creates a polychromatic flatfield\n",
      "    \n",
      "    Parameters\n",
      "    ----------\n",
      "    par :   Parameter instance\n",
      "        Contains all IFS parameters\n",
      "    pixsize:   float\n",
      "       Pixel scale (lam/D)\n",
      "    npix: int\n",
      "        Each input frame has a pixel size npix x npix\n",
      "    pixval: float\n",
      "        Each input frame has a unform value pixval\n",
      "\n"
     ]
    }
   ],
   "source": [
    "from crispy.unitTests import testCreateFlatfield\n",
    "help(testCreateFlatfield)"
   ]
  },
  {
   "cell_type": "markdown",
   "metadata": {},
   "source": [
    "This test function will create a polychromatic flatfield at the wavelengths provided by the existing wavelength calibration. Those wavelengths can be retrieved as follows."
   ]
  },
  {
   "cell_type": "code",
   "execution_count": null,
   "metadata": {
    "collapsed": false
   },
   "outputs": [
    {
     "name": "stdout",
     "output_type": "stream",
     "text": [
      "Help on function calculateWaveList in module crispy.tools.reduction:\n",
      "\n",
      "calculateWaveList(par, lam_list=None)\n",
      "    Computes the wavelength lists corresponding to the center and endpoints of each\n",
      "    spectral bin. Wavelengths are separated by a constant value in log space. Number of\n",
      "    wavelengths depends on spectral resolution.\n",
      "    \n",
      "    Parameters\n",
      "    ----------\n",
      "    par:        Parameter instance\n",
      "            Contains all IFS parameters\n",
      "    lam_list:   list of wavelengths\n",
      "            Usually this is left to None. If so, we use the wavelengths used for wavelength\n",
      "            calibration. Otherwise, we could decide to focus on a smaller/larger region of\n",
      "            the spectrum to retrieve. The final processed cubes will have bins centered\n",
      "            on lam_midpts\n",
      "            \n",
      "    Returns\n",
      "    -------\n",
      "    lam_midpts: list of floats\n",
      "            Wavelengths at the midpoint of each bin\n",
      "    lam_endpts: list of floats\n",
      "            Wavelengths at the edges of each bin\n",
      "\n",
      "crispy - INFO - Reduced cube will have 17 wavelength bins\n",
      "[ 704.42954343  711.94828852  719.54728511  727.22738976  734.9894682\n",
      "  742.83439535  750.76305552  758.77634242  766.87515933  775.06041915\n",
      "  783.33304453  791.69396797  800.14413192  808.68448889  817.31600156\n",
      "  826.03964288  834.85639619]\n"
     ]
    }
   ],
   "source": [
    "from crispy.tools.reduction import calculateWaveList\n",
    "help(calculateWaveList)\n",
    "lam_midpts,lam_endpts = calculateWaveList(par)\n",
    "print(lam_midpts)"
   ]
  },
  {
   "cell_type": "markdown",
   "metadata": {},
   "source": [
    "Now let's create our flatfield. By default it will be stored as par.unitTestsOutput/flatfield.fits"
   ]
  },
  {
   "cell_type": "code",
   "execution_count": null,
   "metadata": {
    "collapsed": false
   },
   "outputs": [
    {
     "name": "stdout",
     "output_type": "stream",
     "text": [
      "crispy - INFO - Reduced cube will have 17 wavelength bins\n",
      "crispy - INFO - The number of input pixels per lenslet is 4.303178\n",
      "crispy - INFO - Using PSFlet gaussian approximation\n",
      "crispy - INFO - Final detector pixel per PSFLet: 40.000000\n",
      "crispy - INFO - Processing wavelength 0.704430 (0 out of 17)\n",
      "crispy - INFO - Processing wavelength 0.711948 (1 out of 17)\n",
      "crispy - INFO - Processing wavelength 0.719547 (2 out of 17)\n"
     ]
    }
   ],
   "source": [
    "testCreateFlatfield(par)"
   ]
  },
  {
   "cell_type": "markdown",
   "metadata": {},
   "source": [
    "### Display results"
   ]
  },
  {
   "cell_type": "markdown",
   "metadata": {},
   "source": [
    "Depending on your version of Python you might see a bunch of VisibleDeprecationWarning. We are working on fixing that. Let's see what we got."
   ]
  },
  {
   "cell_type": "code",
   "execution_count": null,
   "metadata": {
    "collapsed": false
   },
   "outputs": [],
   "source": [
    "%pylab inline --no-import-all\n",
    "matplotlib.rcParams['image.origin'] = 'lower'\n",
    "matplotlib.rcParams['image.interpolation'] = 'nearest'"
   ]
  },
  {
   "cell_type": "code",
   "execution_count": null,
   "metadata": {
    "collapsed": false
   },
   "outputs": [],
   "source": [
    "from crispy.tools.image import Image\n",
    "plt.figure(figsize=(10,10))\n",
    "plt.imshow(Image(par.unitTestsOutputs+'/flatfield.fits').data,cmap='gray')\n",
    "plt.colorbar()"
   ]
  },
  {
   "cell_type": "markdown",
   "metadata": {},
   "source": [
    "A zoom-in version is visible here:"
   ]
  },
  {
   "cell_type": "code",
   "execution_count": null,
   "metadata": {
    "collapsed": false
   },
   "outputs": [],
   "source": [
    "plt.figure(figsize=(6,6))\n",
    "img = Image(par.unitTestsOutputs+'/flatfield.fits').data\n",
    "subsize = 50\n",
    "plt.imshow(img[par.npix//2-subsize:par.npix//2+subsize,par.npix//2-subsize:par.npix//2+subsize],cmap='gray')\n",
    "plt.colorbar()"
   ]
  },
  {
   "cell_type": "markdown",
   "metadata": {},
   "source": [
    "## Simulate detector readout"
   ]
  },
  {
   "cell_type": "markdown",
   "metadata": {},
   "source": [
    "We have also some routines that can add noise to the detector. Assuming that the input detector map is in photons per second, we can 'detectorify' this map by adding Poisson noise, read noise, CIC noise, and dark current noise. In the future, we will also implement Electron-multiplying noise and Traps."
   ]
  },
  {
   "cell_type": "code",
   "execution_count": null,
   "metadata": {
    "collapsed": false
   },
   "outputs": [],
   "source": [
    "from crispy.tools.image import Image\n",
    "from crispy.tools.detector import readDetector,averageDetectorReadout\n",
    "flat = Image(filename=par.unitTestsOutputs+'/flatfield.fits')\n",
    "read=readDetector(par,flat,inttime=100,append_header=True)\n"
   ]
  },
  {
   "cell_type": "code",
   "execution_count": null,
   "metadata": {
    "collapsed": false
   },
   "outputs": [],
   "source": [
    "plt.figure(figsize=(6,6))\n",
    "subsize = 15\n",
    "plt.imshow(read[par.npix//2-subsize:par.npix//2+subsize,par.npix//2-subsize:par.npix//2+subsize],cmap='gray')\n",
    "plt.colorbar()"
   ]
  },
  {
   "cell_type": "markdown",
   "metadata": {},
   "source": [
    "Let's save the noisified frame to a new name. This is useful to show since writing to FITS is a very common task."
   ]
  },
  {
   "cell_type": "code",
   "execution_count": null,
   "metadata": {
    "collapsed": false
   },
   "outputs": [],
   "source": [
    "newImage = Image(data=read,header=par.hdr)\n",
    "newImage.write(par.unitTestsOutputs+'/flatfield_noise.fits',clobber=True)\n"
   ]
  },
  {
   "cell_type": "markdown",
   "metadata": {},
   "source": [
    "## Reduction step"
   ]
  },
  {
   "cell_type": "markdown",
   "metadata": {},
   "source": [
    "The reduction step is straightforward, as long as the wavelength calibration is good."
   ]
  },
  {
   "cell_type": "code",
   "execution_count": null,
   "metadata": {
    "collapsed": false,
    "scrolled": true
   },
   "outputs": [],
   "source": [
    "from IFS import reduceIFSMap\n",
    "cube = reduceIFSMap(par,par.unitTestsOutputs+'/flatfield_noise.fits')\n"
   ]
  },
  {
   "cell_type": "markdown",
   "metadata": {
    "collapsed": true
   },
   "source": [
    "Now we can display the cube interactively, or look it up with DS9 (it is located in par.exportDir)"
   ]
  },
  {
   "cell_type": "code",
   "execution_count": null,
   "metadata": {
    "collapsed": false,
    "scrolled": true
   },
   "outputs": [],
   "source": [
    "import ipywidgets\n",
    "def plt_ifs_optext(wchan):\n",
    "    plt.imshow(cube.data[wchan-1,:,:],\n",
    "               vmin=3000, vmax=3600, cmap='gist_heat')\n",
    "    plt.colorbar()\n",
    "ipywidgets.interact(plt_ifs_optext, wchan=(1,cube.data.shape[0]));\n"
   ]
  },
  {
   "cell_type": "markdown",
   "metadata": {},
   "source": [
    "Let's look now at the header of the created file"
   ]
  },
  {
   "cell_type": "code",
   "execution_count": null,
   "metadata": {
    "collapsed": false,
    "scrolled": false
   },
   "outputs": [],
   "source": [
    "cube.header"
   ]
  }
 ],
 "metadata": {
  "anaconda-cloud": {},
  "kernelspec": {
   "display_name": "Python 2",
   "language": "python",
   "name": "python2"
  },
  "language_info": {
   "codemirror_mode": {
    "name": "ipython",
    "version": 2
   },
   "file_extension": ".py",
   "mimetype": "text/x-python",
   "name": "python",
   "nbconvert_exporter": "python",
   "pygments_lexer": "ipython2",
   "version": "2.7.13"
  }
 },
 "nbformat": 4,
 "nbformat_minor": 1
}
