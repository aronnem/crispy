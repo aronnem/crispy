{
 "cells": [
  {
   "cell_type": "markdown",
   "metadata": {},
   "source": [
    "# Processing time series"
   ]
  },
  {
   "cell_type": "markdown",
   "metadata": {},
   "source": [
    "This notebook runs through some sanity checks about the photon flux calculations, comparing them to Bijan's spreadsheet results. This is to ensure that we properly process the input cubes, and gives an idea of how everything is done. Here we take the fiducial example of 47 Uma c."
   ]
  },
  {
   "cell_type": "code",
   "execution_count": 1,
   "metadata": {
    "collapsed": false
   },
   "outputs": [
    {
     "name": "stdout",
     "output_type": "stream",
     "text": [
      "Populating the interactive namespace from numpy and matplotlib\n"
     ]
    }
   ],
   "source": [
    "%pylab inline --no-import-all\n",
    "matplotlib.rcParams['image.origin'] = 'lower'\n",
    "matplotlib.rcParams['image.interpolation'] = 'nearest'\n",
    "#plt.rc('text', usetex=True)\n",
    "\n",
    "import seaborn as sns\n",
    "sns.set_style(\"whitegrid\")\n",
    "matplotlib.rcParams['axes.labelsize'] = 18\n",
    "import sys\n",
    "import os\n",
    "\n",
    "folder = '../../../../crispy'\n",
    "if folder not in sys.path: sys.path.append(folder)\n",
    "\n",
    "from crispy.params import Params\n",
    "folder = '../../../crispy'\n",
    "par = Params(folder)\n",
    "\n"
   ]
  },
  {
   "cell_type": "markdown",
   "metadata": {},
   "source": [
    "## Calculate photon fluxes"
   ]
  },
  {
   "cell_type": "markdown",
   "metadata": {},
   "source": [
    "### Calculate star rates"
   ]
  },
  {
   "cell_type": "code",
   "execution_count": 2,
   "metadata": {
    "collapsed": false
   },
   "outputs": [
    {
     "name": "stdout",
     "output_type": "stream",
     "text": [
      "Telescope area: 3.6836E+00 m2\n",
      "Photons from the target star over entire band: Us: 4.710e+08; Bijan: 4.199e+08\n",
      "Photons from the reference star over entire band: Us: 4.245e+09; Bijan: 3.941e+09\n",
      "Planet contrast at maximum of the spectrum: 7.9584E-09\n",
      "Planet flux within band: Us: 3.5690E+00; Bijan: 3.2600E+00\n",
      "This makes sense since we use a real spectrum, that contains absorption lines and such\n",
      "Planet flux within single spectral channel (lossless case): 0.1983 assuming 18 spectral channels\n",
      "Planet flux within single pixel (lossless case): 0.0991 assuming 2 pixels per spectral channel\n"
     ]
    }
   ],
   "source": [
    "import glob\n",
    "\n",
    "# load first filelist to get its shape\n",
    "fileshape = (45,150,150)\n",
    "\n",
    "\n",
    "import astropy.units as u\n",
    "import astropy.constants as c\n",
    "import astropy.analytic_functions as af\n",
    "\n",
    "planet_radius = 1.27*c.R_jup\n",
    "ref_star_T=9600#9377*u.K\n",
    "ref_star_Vmag=2.37\n",
    "target_star_T=5887*u.K\n",
    "target_star_Vmag=5.03\n",
    "\n",
    "lamc=660.\n",
    "BW=0.18\n",
    "R=50\n",
    "n_ref_star_imgs=30\n",
    "Nlam = 45\n",
    "lamlist = lamc*np.linspace(1.-BW/2.,1.+BW/2.,Nlam)*u.nm\n",
    "npixperdlam = 2\n",
    "PSFLetWidth = 2\n",
    "\n",
    "tel_pupil_area=np.pi*(2.37/2.*u.m)**2*0.835\n",
    "\n",
    "from crispy.tools.inputScene import convert_krist_cube,calc_contrast_Bijan\n",
    "target_star_cube = convert_krist_cube(fileshape,lamlist,target_star_T,target_star_Vmag,tel_pupil_area)\n",
    "ref_star_cube = convert_krist_cube(fileshape,lamlist,ref_star_T,ref_star_Vmag,tel_pupil_area)\n",
    "print(\"Telescope area: {:.4E}\".format(tel_pupil_area))\n",
    "print(\"Photons from the target star over entire band: Us: %.3e; Bijan: %.3e\" % (np.mean(target_star_cube[:,0,0]/45*0.18*lamc),1.14e8*tel_pupil_area.value))\n",
    "print(\"Photons from the reference star over entire band: Us: %.3e; Bijan: %.3e\" % (np.mean(ref_star_cube[:,0,0]/45*0.18*lamc),1.07e9*tel_pupil_area.value))\n",
    "print(\"Planet contrast at maximum of the spectrum: {:.4E}\".format(np.amax(calc_contrast_Bijan(lamlist))))\n",
    "print(\"Planet flux within band: Us: {:.4E}\".format(np.sum(target_star_cube[:,0,0]/45*0.18*lamc/45.*calc_contrast_Bijan(lamlist)))+\"; Bijan: {:.4E}\".format(0.885*tel_pupil_area.value))\n",
    "print('This makes sense since we use a real spectrum, that contains absorption lines and such')\n",
    "print(\"Planet flux within single spectral channel (lossless case): {:.4f}\".format(np.sum(target_star_cube[:,0,0]/45*0.18*lamc/45.*calc_contrast_Bijan(lamlist))/(npixperdlam*BW*R))+\" assuming %d spectral channels\"% (npixperdlam*BW*R))\n",
    "print(\"Planet flux within single pixel (lossless case): {:.4f}\".format(np.sum(target_star_cube[:,0,0]/45*0.18*lamc/45.*calc_contrast_Bijan(lamlist))/(npixperdlam*BW*R*PSFLetWidth))+\" assuming %d pixels per spectral channel\"% (PSFLetWidth))\n"
   ]
  },
  {
   "cell_type": "markdown",
   "metadata": {},
   "source": [
    "### Test zodi calculations"
   ]
  },
  {
   "cell_type": "code",
   "execution_count": 3,
   "metadata": {
    "collapsed": false,
    "scrolled": true
   },
   "outputs": [
    {
     "name": "stdout",
     "output_type": "stream",
     "text": [
      "Total ph/sec/as2/m2 0.996076061813 1 / m2\n",
      "Total ph/sec/pix/m2 4.42700471917e-05 1 / m2\n",
      "Total ph/sec/lenslets/m2 0.00110675117979 1 / m2\n",
      "Total ph/sec/lenslet 0.00407683413341\n",
      "Total ph/sec/lenslet/nm 3.43167856347e-05\n",
      "Total ph/sec/lenslet/channel 0.000452981570379\n",
      "Total ph/fr/lenslet/channel 0.0452981570379\n",
      "Total ph/fr/ifspix/channel 0.0113245392595\n"
     ]
    }
   ],
   "source": [
    "from crispy.tools.inputScene import zodi_cube\n",
    "local_zodi_mag = 23\n",
    "exozodi_mag = 22\n",
    "D = 2.37\n",
    "pixarea = (0.1*770*1e-9/D/4.848e-6)**2\n",
    "dist=14.1\n",
    "absmag = target_star_Vmag-5*np.log10(dist/10.)\n",
    "\n",
    "zodicube = zodi_cube(target_star_cube,\n",
    "                     area_per_pixel=pixarea,\n",
    "                     absmag=absmag,\n",
    "                     Vstarmag = target_star_Vmag,\n",
    "                     zodi_surfmag=local_zodi_mag,\n",
    "                     exozodi_surfmag=exozodi_mag,\n",
    "                     distAU=3.6,t_zodi=0.09)\n",
    "print \"Total ph/sec/as2/m2\",np.mean(np.sum(np.sum(zodicube,axis=2),axis=1),axis=0)*0.18*lamc/tel_pupil_area\n",
    "print \"Total ph/sec/pix/m2\",np.mean(np.sum(np.sum(zodicube,axis=2),axis=1),axis=0)*0.18*lamc/tel_pupil_area/150**2\n",
    "print \"Total ph/sec/lenslets/m2\",np.mean(np.sum(np.sum(zodicube,axis=2),axis=1),axis=0)*0.18*lamc/tel_pupil_area/150**2*25\n",
    "print \"Total ph/sec/lenslet\",np.mean(np.sum(np.sum(zodicube,axis=2),axis=1),axis=0)*0.18*lamc/150**2*25\n",
    "print \"Total ph/sec/lenslet/nm\",np.mean(np.sum(np.sum(zodicube,axis=2),axis=1),axis=0)/150**2*25\n",
    "print \"Total ph/sec/lenslet/channel\",np.mean(np.sum(np.sum(zodicube,axis=2),axis=1),axis=0)*0.18*lamc/150**2*25/9\n",
    "print \"Total ph/fr/lenslet/channel\",np.mean(np.sum(np.sum(zodicube,axis=2),axis=1),axis=0)*0.18*lamc/150**2*25*100/9\n",
    "print \"Total ph/fr/ifspix/channel\",np.mean(np.sum(np.sum(zodicube,axis=2),axis=1),axis=0)*0.18*lamc/150**2*25*100/9/4\n"
   ]
  },
  {
   "cell_type": "markdown",
   "metadata": {},
   "source": [
    "# Check photometry at detector"
   ]
  },
  {
   "cell_type": "code",
   "execution_count": 4,
   "metadata": {
    "collapsed": true
   },
   "outputs": [],
   "source": [
    "import astropy.units as u\n"
   ]
  },
  {
   "cell_type": "code",
   "execution_count": 5,
   "metadata": {
    "collapsed": false
   },
   "outputs": [
    {
     "name": "stdout",
     "output_type": "stream",
     "text": [
      "crispy - INFO - Recentering off-axis cube\n",
      "crispy - INFO - Read data from HDU 0 of /Users/mrizzo/IFS/OS5/offaxis/spc_offaxis_psf.fits\n",
      "crispy - INFO - The number of input pixels per lenslet is 5.000000\n",
      "crispy - INFO - Writing data to ../../../crispy/SimResults/offaxiscube.fits\n",
      "crispy - INFO - Constructing off-axis cube at planet separation: 4.44 lam/D (0.26 arcsec, 8.89 lenslets)\n",
      "crispy - INFO - Writing data to ../../../crispy/SimResults/offaxiscube_shifted.fits\n",
      "crispy - INFO - Writing data to ../../../crispy/SimResults/offaxiscube_processed.fits\n",
      "crispy - INFO - The number of input pixels per lenslet is 5.000000\n",
      "crispy - INFO - Using PSFlet gaussian approximation\n",
      "crispy - WARNING - Assuming slices are evenly spread in wavelengths\n"
     ]
    },
    {
     "name": "stderr",
     "output_type": "stream",
     "text": [
      "Process Consumer-6:\n",
      "Traceback (most recent call last):\n",
      "Process Consumer-1:\n",
      "Process Consumer-3:\n",
      "Process Consumer-7:\n",
      "Process Consumer-4:\n",
      "Process Consumer-8:\n",
      "Traceback (most recent call last):\n",
      "Traceback (most recent call last):\n",
      "Process Consumer-5:\n",
      "Traceback (most recent call last):\n",
      "Traceback (most recent call last):\n",
      "Traceback (most recent call last):\n",
      "  File \"/Users/mrizzo/anaconda/lib/python2.7/multiprocessing/process.py\", line 258, in _bootstrap\n",
      "Traceback (most recent call last):\n",
      "  File \"/Users/mrizzo/anaconda/lib/python2.7/multiprocessing/process.py\", line 258, in _bootstrap\n",
      "  File \"/Users/mrizzo/anaconda/lib/python2.7/multiprocessing/process.py\", line 258, in _bootstrap\n",
      "  File \"/Users/mrizzo/anaconda/lib/python2.7/multiprocessing/process.py\", line 258, in _bootstrap\n",
      "  File \"/Users/mrizzo/anaconda/lib/python2.7/multiprocessing/process.py\", line 258, in _bootstrap\n",
      "  File \"/Users/mrizzo/anaconda/lib/python2.7/multiprocessing/process.py\", line 258, in _bootstrap\n",
      "  File \"/Users/mrizzo/anaconda/lib/python2.7/multiprocessing/process.py\", line 258, in _bootstrap\n",
      "    self.run()\n",
      "    self.run()\n",
      "    self.run()\n",
      "    self.run()\n",
      "    self.run()\n",
      "  File \"../../../../crispy/crispy/tools/par_utils.py\", line 22, in run\n",
      "  File \"../../../../crispy/crispy/tools/par_utils.py\", line 22, in run\n",
      "    self.run()\n",
      "  File \"../../../../crispy/crispy/tools/par_utils.py\", line 22, in run\n",
      "    self.run()\n",
      "    self.result_queue.put(next_task())\n",
      "    self.result_queue.put(next_task())\n",
      "  File \"../../../../crispy/crispy/tools/par_utils.py\", line 22, in run\n",
      "    self.result_queue.put(next_task())\n",
      "  File \"../../../../crispy/crispy/tools/par_utils.py\", line 22, in run\n",
      "  File \"../../../../crispy/crispy/tools/par_utils.py\", line 22, in run\n",
      "  File \"../../../../crispy/crispy/tools/par_utils.py\", line 31, in __call__\n",
      "  File \"../../../../crispy/crispy/tools/par_utils.py\", line 22, in run\n",
      "  File \"../../../../crispy/crispy/tools/par_utils.py\", line 31, in __call__\n",
      "  File \"../../../../crispy/crispy/tools/par_utils.py\", line 31, in __call__\n",
      "    self.result_queue.put(next_task())\n",
      "    return self.index, self.func(*self.args)\n",
      "    self.result_queue.put(next_task())\n",
      "    self.result_queue.put(next_task())\n",
      "    return self.index, self.func(*self.args)\n",
      "    self.result_queue.put(next_task())\n",
      "    return self.index, self.func(*self.args)\n",
      "  File \"../../../../crispy/crispy/tools/par_utils.py\", line 31, in __call__\n",
      "  File \"../../../../crispy/crispy/tools/par_utils.py\", line 31, in __call__\n",
      "  File \"../../../../crispy/crispy/tools/lenslet.py\", line 174, in propagateLenslets\n",
      "  File \"../../../../crispy/crispy/tools/par_utils.py\", line 31, in __call__\n",
      "  File \"../../../../crispy/crispy/tools/par_utils.py\", line 31, in __call__\n",
      "  File \"../../../../crispy/crispy/tools/lenslet.py\", line 174, in propagateLenslets\n",
      "  File \"../../../../crispy/crispy/tools/lenslet.py\", line 174, in propagateLenslets\n",
      "    image[iy1:iy2, ix1:ix2] += val*ndimage.map_coordinates(hires[0,0], [yinterp, xinterp], prefilter=False)/nlam\n",
      "    return self.index, self.func(*self.args)\n",
      "    return self.index, self.func(*self.args)\n",
      "  File \"../../../../crispy/crispy/tools/lenslet.py\", line 174, in propagateLenslets\n",
      "    return self.index, self.func(*self.args)\n",
      "    return self.index, self.func(*self.args)\n",
      "KeyboardInterrupt\n",
      "  File \"../../../../crispy/crispy/tools/lenslet.py\", line 170, in propagateLenslets\n",
      "    image[iy1:iy2, ix1:ix2] += val*ndimage.map_coordinates(hires[0,0], [yinterp, xinterp], prefilter=False)/nlam\n",
      "    image[iy1:iy2, ix1:ix2] += val*ndimage.map_coordinates(hires[0,0], [yinterp, xinterp], prefilter=False)/nlam\n",
      "  File \"/Users/mrizzo/anaconda/lib/python2.7/site-packages/scipy/ndimage/interpolation.py\", line 323, in map_coordinates\n",
      "  File \"../../../../crispy/crispy/tools/lenslet.py\", line 174, in propagateLenslets\n",
      "  File \"../../../../crispy/crispy/tools/lenslet.py\", line 170, in propagateLenslets\n",
      "    xinterp = (x[iy1:iy2, ix1:ix2] - xcen[i])*upsample + upsample*npix/2\n",
      "    image[iy1:iy2, ix1:ix2] += val*ndimage.map_coordinates(hires[0,0], [yinterp, xinterp], prefilter=False)/nlam\n",
      "KeyboardInterrupt\n",
      "    shape=output_shape)\n",
      "    image[iy1:iy2, ix1:ix2] += val*ndimage.map_coordinates(hires[0,0], [yinterp, xinterp], prefilter=False)/nlam\n",
      "  File \"/Users/mrizzo/anaconda/lib/python2.7/site-packages/scipy/ndimage/interpolation.py\", line 323, in map_coordinates\n",
      "  File \"/Users/mrizzo/anaconda/lib/python2.7/site-packages/scipy/ndimage/interpolation.py\", line 325, in map_coordinates\n",
      "    xinterp = (x[iy1:iy2, ix1:ix2] - xcen[i])*upsample + upsample*npix/2\n",
      "    output, order, mode, cval, None, None)\n",
      "  File \"/Users/mrizzo/anaconda/lib/python2.7/site-packages/scipy/ndimage/interpolation.py\", line 325, in map_coordinates\n",
      "    shape=output_shape)\n",
      "    output, order, mode, cval, None, None)\n",
      "  File \"/Users/mrizzo/anaconda/lib/python2.7/site-packages/scipy/ndimage/interpolation.py\", line 132, in _geometric_transform\n",
      "  File \"/Users/mrizzo/anaconda/lib/python2.7/site-packages/scipy/ndimage/_ni_support.py\", line 74, in _get_output\n",
      "  File \"/Users/mrizzo/anaconda/lib/python2.7/site-packages/scipy/ndimage/_ni_support.py\", line 74, in _get_output\n",
      "KeyboardInterrupt\n",
      "    order, mode, cval, extra_arguments, extra_keywords)\n",
      "KeyboardInterrupt\n",
      "  File \"/Users/mrizzo/anaconda/lib/python2.7/site-packages/scipy/ndimage/interpolation.py\", line 132, in _geometric_transform\n",
      "    output = numpy.zeros(shape, dtype=input.dtype.name)\n",
      "    output = numpy.zeros(shape, dtype=input.dtype.name)\n",
      "KeyboardInterrupt\n",
      "    order, mode, cval, extra_arguments, extra_keywords)\n",
      "KeyboardInterrupt\n",
      "KeyboardInterrupt\n"
     ]
    },
    {
     "ename": "KeyboardInterrupt",
     "evalue": "",
     "output_type": "error",
     "traceback": [
      "\u001b[0;31m--------------------------------------------------------------------------\u001b[0m",
      "\u001b[0;31mKeyboardInterrupt\u001b[0m                        Traceback (most recent call last)",
      "\u001b[0;32m<ipython-input-5-dadba9e8b01d>\u001b[0m in \u001b[0;36m<module>\u001b[0;34m()\u001b[0m\n\u001b[1;32m     12\u001b[0m                 \u001b[0mplanet_AU\u001b[0m \u001b[0;34m=\u001b[0m \u001b[0;36m3.6\u001b[0m\u001b[0;34m,\u001b[0m\u001b[0mplanet_dist_pc\u001b[0m\u001b[0;34m=\u001b[0m\u001b[0;36m14.1\u001b[0m\u001b[0;34m,\u001b[0m\u001b[0;34m\u001b[0m\u001b[0m\n\u001b[1;32m     13\u001b[0m                 \u001b[0mtarget_star_T\u001b[0m\u001b[0;34m=\u001b[0m\u001b[0;36m5887\u001b[0m\u001b[0;34m*\u001b[0m\u001b[0mu\u001b[0m\u001b[0;34m.\u001b[0m\u001b[0mK\u001b[0m\u001b[0;34m,\u001b[0m \u001b[0mtarget_star_Vmag\u001b[0m\u001b[0;34m=\u001b[0m\u001b[0;36m5.03\u001b[0m\u001b[0;34m,\u001b[0m\u001b[0;34m\u001b[0m\u001b[0m\n\u001b[0;32m---> 14\u001b[0;31m                 tel_pupil_area=3.650265060424805*u.m**2)\n\u001b[0m",
      "\u001b[0;32m/Users/mrizzo/IFS/crispy/crispy/tools/postprocessing.py\u001b[0m in \u001b[0;36mprocess_planet\u001b[0;34m(par, offaxis_psf_filename, fileshape, lamlist, lamc, outdir_average, planet_radius, planet_AU, planet_dist_pc, target_star_T, target_star_Vmag, tel_pupil_area, order)\u001b[0m\n\u001b[1;32m   1476\u001b[0m     \u001b[0mpar\u001b[0m\u001b[0;34m.\u001b[0m\u001b[0msaveDetector\u001b[0m\u001b[0;34m=\u001b[0m\u001b[0mFalse\u001b[0m\u001b[0;34m\u001b[0m\u001b[0m\n\u001b[1;32m   1477\u001b[0m     \u001b[0mImage\u001b[0m\u001b[0;34m(\u001b[0m\u001b[0mdata\u001b[0m\u001b[0;34m=\u001b[0m\u001b[0moffaxiscube\u001b[0m\u001b[0;34m.\u001b[0m\u001b[0mdata\u001b[0m\u001b[0;34m)\u001b[0m\u001b[0;34m.\u001b[0m\u001b[0mwrite\u001b[0m\u001b[0;34m(\u001b[0m\u001b[0moutdir_average\u001b[0m\u001b[0;34m+\u001b[0m\u001b[0;34m'/offaxiscube_processed.fits'\u001b[0m\u001b[0;34m,\u001b[0m\u001b[0mclobber\u001b[0m\u001b[0;34m=\u001b[0m\u001b[0mTrue\u001b[0m\u001b[0;34m)\u001b[0m\u001b[0;34m\u001b[0m\u001b[0m\n\u001b[0;32m-> 1478\u001b[0;31m     \u001b[0mdetectorFrame\u001b[0m \u001b[0;34m=\u001b[0m \u001b[0mpolychromeIFS\u001b[0m\u001b[0;34m(\u001b[0m\u001b[0mpar\u001b[0m\u001b[0;34m,\u001b[0m\u001b[0mlamlist\u001b[0m\u001b[0;34m.\u001b[0m\u001b[0mvalue\u001b[0m\u001b[0;34m,\u001b[0m\u001b[0moffaxiscube\u001b[0m\u001b[0;34m,\u001b[0m\u001b[0mQE\u001b[0m\u001b[0;34m=\u001b[0m\u001b[0mTrue\u001b[0m\u001b[0;34m)\u001b[0m\u001b[0;34m\u001b[0m\u001b[0m\n\u001b[0m\u001b[1;32m   1479\u001b[0m     \u001b[0mpar\u001b[0m\u001b[0;34m.\u001b[0m\u001b[0mhdr\u001b[0m\u001b[0;34m.\u001b[0m\u001b[0mappend\u001b[0m\u001b[0;34m(\u001b[0m\u001b[0;34m(\u001b[0m\u001b[0;34m'XSHIFT'\u001b[0m\u001b[0;34m,\u001b[0m\u001b[0mplanet_WA\u001b[0m\u001b[0;34m*\u001b[0m\u001b[0mpar\u001b[0m\u001b[0;34m.\u001b[0m\u001b[0mpixperlenslet\u001b[0m\u001b[0;34m*\u001b[0m\u001b[0mlamc\u001b[0m\u001b[0;34m/\u001b[0m\u001b[0mpar\u001b[0m\u001b[0;34m.\u001b[0m\u001b[0mlenslet_wav\u001b[0m\u001b[0;34m/\u001b[0m\u001b[0mpar\u001b[0m\u001b[0;34m.\u001b[0m\u001b[0mlenslet_sampling\u001b[0m\u001b[0;34m,\u001b[0m\u001b[0;34m'X Shift in px in offaxis cubes'\u001b[0m\u001b[0;34m)\u001b[0m\u001b[0;34m,\u001b[0m\u001b[0mend\u001b[0m\u001b[0;34m=\u001b[0m\u001b[0mTrue\u001b[0m\u001b[0;34m)\u001b[0m\u001b[0;34m\u001b[0m\u001b[0m\n\u001b[1;32m   1480\u001b[0m \u001b[0;34m\u001b[0m\u001b[0m\n",
      "\u001b[0;32m/Users/mrizzo/IFS/crispy/crispy/IFS.pyc\u001b[0m in \u001b[0;36mpolychromeIFS\u001b[0;34m(par, wavelist, inputcube, name, parallel, QE, wavelist_endpts, dlambda, lam_arr)\u001b[0m\n\u001b[1;32m    243\u001b[0m             \u001b[0mtasks\u001b[0m\u001b[0;34m.\u001b[0m\u001b[0mput\u001b[0m\u001b[0;34m(\u001b[0m\u001b[0mNone\u001b[0m\u001b[0;34m)\u001b[0m\u001b[0;34m\u001b[0m\u001b[0m\n\u001b[1;32m    244\u001b[0m         \u001b[0;32mfor\u001b[0m \u001b[0mi\u001b[0m \u001b[0;32min\u001b[0m \u001b[0mrange\u001b[0m\u001b[0;34m(\u001b[0m\u001b[0mlen\u001b[0m\u001b[0;34m(\u001b[0m\u001b[0mwaveList\u001b[0m\u001b[0;34m)\u001b[0m\u001b[0;34m)\u001b[0m\u001b[0;34m:\u001b[0m\u001b[0;34m\u001b[0m\u001b[0m\n\u001b[0;32m--> 245\u001b[0;31m             \u001b[0mindex\u001b[0m\u001b[0;34m,\u001b[0m \u001b[0mpoly\u001b[0m \u001b[0;34m=\u001b[0m \u001b[0mresults\u001b[0m\u001b[0;34m.\u001b[0m\u001b[0mget\u001b[0m\u001b[0;34m(\u001b[0m\u001b[0;34m)\u001b[0m\u001b[0;34m\u001b[0m\u001b[0m\n\u001b[0m\u001b[1;32m    246\u001b[0m             \u001b[0mpolyimage\u001b[0m\u001b[0;34m[\u001b[0m\u001b[0mindex\u001b[0m\u001b[0;34m]\u001b[0m \u001b[0;34m=\u001b[0m \u001b[0mpoly\u001b[0m\u001b[0;34m\u001b[0m\u001b[0m\n\u001b[1;32m    247\u001b[0m \u001b[0;34m\u001b[0m\u001b[0m\n",
      "\u001b[0;32m/Users/mrizzo/anaconda/lib/python2.7/multiprocessing/queues.pyc\u001b[0m in \u001b[0;36mget\u001b[0;34m(self, block, timeout)\u001b[0m\n\u001b[1;32m    115\u001b[0m             \u001b[0mself\u001b[0m\u001b[0;34m.\u001b[0m\u001b[0m_rlock\u001b[0m\u001b[0;34m.\u001b[0m\u001b[0macquire\u001b[0m\u001b[0;34m(\u001b[0m\u001b[0;34m)\u001b[0m\u001b[0;34m\u001b[0m\u001b[0m\n\u001b[1;32m    116\u001b[0m             \u001b[0;32mtry\u001b[0m\u001b[0;34m:\u001b[0m\u001b[0;34m\u001b[0m\u001b[0m\n\u001b[0;32m--> 117\u001b[0;31m                 \u001b[0mres\u001b[0m \u001b[0;34m=\u001b[0m \u001b[0mself\u001b[0m\u001b[0;34m.\u001b[0m\u001b[0m_recv\u001b[0m\u001b[0;34m(\u001b[0m\u001b[0;34m)\u001b[0m\u001b[0;34m\u001b[0m\u001b[0m\n\u001b[0m\u001b[1;32m    118\u001b[0m                 \u001b[0mself\u001b[0m\u001b[0;34m.\u001b[0m\u001b[0m_sem\u001b[0m\u001b[0;34m.\u001b[0m\u001b[0mrelease\u001b[0m\u001b[0;34m(\u001b[0m\u001b[0;34m)\u001b[0m\u001b[0;34m\u001b[0m\u001b[0m\n\u001b[1;32m    119\u001b[0m                 \u001b[0;32mreturn\u001b[0m \u001b[0mres\u001b[0m\u001b[0;34m\u001b[0m\u001b[0m\n",
      "\u001b[0;31mKeyboardInterrupt\u001b[0m: "
     ]
    }
   ],
   "source": [
    "from crispy.tools.postprocessing import process_planet\n",
    "tel_pupil_area=np.pi*(2.37/2.*u.m)**2*0.835\n",
    "offaxis_psf_filename='/Users/mrizzo/IFS/OS5/offaxis/spc_offaxis_psf.fits'\n",
    "from astropy.io import fits\n",
    "par.savePoly=True\n",
    "detector = process_planet(par,offaxis_psf_filename=offaxis_psf_filename,\n",
    "                fileshape=fits.open(offaxis_psf_filename)[0].data.shape,\n",
    "                lamlist=lamlist,\n",
    "                lamc=lamc,\n",
    "                outdir_average=par.exportDir,\n",
    "                planet_radius = 1.27*c.R_jup,\n",
    "                planet_AU = 3.6,planet_dist_pc=14.1,\n",
    "                target_star_T=5887*u.K, target_star_Vmag=5.03,\n",
    "                tel_pupil_area=3.650265060424805*u.m**2)\n"
   ]
  },
  {
   "cell_type": "code",
   "execution_count": null,
   "metadata": {
    "collapsed": false
   },
   "outputs": [],
   "source": [
    "from crispy.tools.image import Image\n",
    "from crispy.tools.detector import readDetector\n",
    "from crispy.IFS import reduceIFSMap\n",
    "par.nonoise=True\n",
    "det = readDetector(par,Image(par.exportDir+'/offaxis_planet.fits'),inttime=1)\n",
    "outkey = fits.HDUList(fits.PrimaryHDU(det))\n",
    "outkey.writeto(par.exportDir+'/detector_offaxis.fits',clobber=True)\n",
    "reduceIFSMap(par,par.exportDir+'/detector_offaxis.fits')"
   ]
  },
  {
   "cell_type": "code",
   "execution_count": null,
   "metadata": {
    "collapsed": false
   },
   "outputs": [],
   "source": [
    "print(\"Sum of of flux before detector w/o losses (ph-electrons per second):\",np.sum(detector))\n",
    "print(\"Sum of detector flux w/ losses (electrons per second):\",np.sum(det))\n",
    "print(\"Sum of flux at lenslet array (ph per second):\",np.nansum(Image(par.exportDir+'/detector_offaxis_red_optext.fits').data))\n",
    "\n",
    "flux_cube = np.sum(target_star_cube[:,0,0]/45*0.18*lamc/45.*calc_contrast_Bijan(lamlist))\n",
    "print(\"Flux in input cube:\",flux_cube)\n",
    "print(\"Throughput of offaxis PSF:\",np.sum(fits.open(offaxis_psf_filename)[0].data))\n",
    "print(\"Throughput of shifted offaxis PSF:\",np.nansum(fits.open(par.exportDir+'/offaxiscube_shifted.fits')[1].data))\n",
    "from scipy.interpolate import interp1d\n",
    "loadQE = np.loadtxt(par.codeRoot+\"/\"+par.QE)\n",
    "QEinterp = interp1d(loadQE[:,0],loadQE[:,1])\n",
    "QEvals = QEinterp(lamlist)\n",
    "print(\"QE:\",np.mean(QEvals))\n",
    "print(\"Total estimated number of counts:\",flux_cube*np.sum(fits.open(offaxis_psf_filename)[0].data)*np.mean(QEvals))\n",
    "print(\"Total estimated number of counts #2:\",np.sum(target_star_cube[:,0,0]/45*0.18*lamc*calc_contrast_Bijan(lamlist)*np.sum(np.sum(fits.open(offaxis_psf_filename)[0].data,axis=2),axis=1)*QEvals))"
   ]
  },
  {
   "cell_type": "code",
   "execution_count": null,
   "metadata": {
    "collapsed": false
   },
   "outputs": [],
   "source": [
    "from crispy.tools.image import Image\n",
    "poly = Image(par.exportDir+'/detectorFramepoly.fits')\n",
    "numslice = 25\n",
    "print(np.sum(poly.data[numslice]))\n",
    "print(target_star_cube[numslice,0,0]/45*0.18*lamc*calc_contrast_Bijan(lamlist)[numslice]*np.sum(fits.open(offaxis_psf_filename)[0].data[numslice])*QEvals[numslice])\n",
    "print(\"Percentage error in slice:\",(np.sum(poly.data[numslice])-target_star_cube[numslice,0,0]/45*0.18*lamc*calc_contrast_Bijan(lamlist)[numslice]*np.sum(fits.open(offaxis_psf_filename)[0].data[numslice])*QEvals[numslice])/(np.sum(poly.data[numslice])))\n"
   ]
  },
  {
   "cell_type": "code",
   "execution_count": null,
   "metadata": {
    "collapsed": false
   },
   "outputs": [],
   "source": [
    "print np.mean(target_star_cube[:,0,0]/45*0.18*770*10**(0.4*target_star_Vmag))/tel_pupil_area\n",
    "print(1/np.sqrt(pixarea))\n",
    "print(np.sum(np.sum(zodicube,axis=2),axis=1))\n",
    "print np.mean(target_star_cube[:,0,0]/45*0.18*770*10**(0.4*target_star_Vmag-0.4*(local_zodi_mag)))/tel_pupil_area"
   ]
  },
  {
   "cell_type": "markdown",
   "metadata": {},
   "source": [
    "# Test reduction with flatfield"
   ]
  },
  {
   "cell_type": "code",
   "execution_count": null,
   "metadata": {
    "collapsed": false
   },
   "outputs": [],
   "source": [
    "from crispy.unitTests import testCreateFlatfield\n",
    "from crispy.tools.image import Image\n",
    "offaxis_psf_filename='/Users/mrizzo/IFS/OS5/offaxis/spc_offaxis_psf.fits'\n",
    "from crispy.tools.reduction import calculateWaveList\n",
    "shape = Image(offaxis_psf_filename).data.shape\n",
    "lam_midpts,lam_endpts = calculateWaveList(par,Nspec=shape[0],method='optext')\n",
    "print lam_midpts\n",
    "dlam = lam_endpts[1]-lam_endpts[0]\n",
    "print dlam\n",
    "par.savePoly=True\n",
    "par.saveRotatedInput=True\n",
    "testCreateFlatfield(par,pixsize=0.1,npix = shape[1],Nspec=shape[0],pixval = 1./dlam,useQE=True)"
   ]
  },
  {
   "cell_type": "code",
   "execution_count": null,
   "metadata": {
    "collapsed": false
   },
   "outputs": [],
   "source": [
    "from crispy.IFS import reduceIFSMap\n",
    "reduceIFSMap(par,par.unitTestsOutputs+'/flatfield.fits')\n"
   ]
  },
  {
   "cell_type": "code",
   "execution_count": null,
   "metadata": {
    "collapsed": false
   },
   "outputs": [],
   "source": [
    "print(np.nansum(Image(par.unitTestsOutputs+'/flatfield.fits').data))\n",
    "print(np.nansum(Image(par.exportDir+'/flatfield_red_optext.fits').data))\n"
   ]
  },
  {
   "cell_type": "markdown",
   "metadata": {},
   "source": [
    "# Star photometry"
   ]
  },
  {
   "cell_type": "code",
   "execution_count": null,
   "metadata": {
    "collapsed": false
   },
   "outputs": [],
   "source": [
    "from crispy.tools.postprocessing import processReferenceCubes,processTargetCubes\n",
    "filename = '/Users/mrizzo/IFS/OS5/with_lowfc/os5_spc_031.fits'\n",
    "# processReferenceCubes(par,xshift=0.0,yshift=0.0,order=3,\n",
    "#                 outdir_time_series = par.exportDir,\n",
    "#                 ref_input_list=[filename],\n",
    "#                 process_cubes=True,\n",
    "#                 ref_star_T=9377*u.K, ref_star_Vmag=2.37,\n",
    "#                 lamc=660.,BW = 0.18,\n",
    "#                 tel_pupil_area=3.650265060424805*u.m**2)\n",
    "processTargetCubes(par,[filename],\n",
    "                outdir_time_series = par.exportDir,\n",
    "                process_cubes=True,\n",
    "                target_star_T=5887*u.K, target_star_Vmag=5.03,\n",
    "                lamc=660.,BW = 0.18,\n",
    "                tel_pupil_area=3.650265060424805*u.m**2,\n",
    "                )\n"
   ]
  },
  {
   "cell_type": "code",
   "execution_count": null,
   "metadata": {
    "collapsed": false
   },
   "outputs": [],
   "source": [
    "from crispy.tools.image import Image\n",
    "from crispy.tools.detector import readDetector\n",
    "from crispy.IFS import reduceIFSMap\n",
    "par.nonoise=True\n",
    "det = readDetector(par,Image(par.exportDir+'/os5_spc_031_targetstar_IFS.fits'),inttime=1)\n",
    "outkey = fits.HDUList(fits.PrimaryHDU(det))\n",
    "outkey.writeto(par.exportDir+'/os5_spc_031_targetstar_IFS_detector.fits',clobber=True)\n",
    "reduceIFSMap(par,par.exportDir+'/os5_spc_031_targetstar_IFS_detector.fits')"
   ]
  },
  {
   "cell_type": "markdown",
   "metadata": {},
   "source": [
    "### Compare directly to Bijan's fluxtable"
   ]
  },
  {
   "cell_type": "code",
   "execution_count": null,
   "metadata": {
    "collapsed": false
   },
   "outputs": [],
   "source": [
    "Bij_lams = [0.36,\n",
    "0.44,\n",
    "0.55,\n",
    "0.70,\n",
    "0.80,\n",
    "0.90,\n",
    "1.05,\n",
    "1.26,\n",
    "1.64,\n",
    "2.18,\n",
    "3.40,\n",
    "5.00,\n",
    "10.20,\n",
    "21.00]\n",
    "Bij_flux_densities = [4.35e-08,\n",
    "7.20e-08,\n",
    "3.92e-08,\n",
    "1.76e-08,\n",
    "1.21e-08,\n",
    "8.30e-09,\n",
    "5.72e-09,\n",
    "3.40e-09,\n",
    "1.18e-09,\n",
    "3.90e-10,\n",
    "7.30e-11,\n",
    "2.12e-11,\n",
    "1.23e-12,\n",
    "6.80e-14]\n",
    "plt.figure(figsize=(10,10))\n",
    "plt.loglog(Bij_lams,Bij_flux_densities,label=\"Bijan's zero-points\")\n",
    "BB6 = af.blackbody_lambda(Bij_lams*u.um, 6000*u.K).to(u.Watt/u.m**2/u.um/u.sr)\n",
    "BB9 = af.blackbody_lambda(Bij_lams*u.um, 9000*u.K).to(u.Watt/u.m**2/u.um/u.sr)\n",
    "\n",
    "plt.loglog(Bij_lams,BB6/BB6[2]*Bij_flux_densities[2],label='6000K star blackbody')\n",
    "plt.loglog(Bij_lams,BB9/BB9[2]*Bij_flux_densities[2],label='9000K star blackbody')\n",
    "plt.xlabel('Wavelength (um)')\n",
    "plt.ylabel(r'Flux density zero-point (W/m2/um)')#($Wm^{-2}\\mu m^{-1}$)')\n",
    "plt.title('All curves normalized to same Vband flux density',fontsize = 22)\n",
    "plt.legend(fontsize=18)\n"
   ]
  },
  {
   "cell_type": "code",
   "execution_count": null,
   "metadata": {
    "collapsed": false
   },
   "outputs": [],
   "source": [
    "plt.figure(figsize=(10,10))\n",
    "Bij_energies = c.c*c.h/Bij_lams\n",
    "plt.loglog(Bij_lams,Bij_flux_densities/Bij_energies,label=\"Bijan's zero-points\")\n",
    "BB6 = af.blackbody_lambda(Bij_lams*u.um, 6000*u.K).to(u.Watt/u.m**2/u.um/u.sr)\n",
    "BB9 = af.blackbody_lambda(Bij_lams*u.um, 9000*u.K).to(u.Watt/u.m**2/u.um/u.sr)\n",
    "\n",
    "plt.loglog(Bij_lams,BB6/BB6[2]*Bij_flux_densities[2]/Bij_energies,label='6000K star blackbody')\n",
    "plt.loglog(Bij_lams,BB9/BB9[2]*Bij_flux_densities[2]/Bij_energies,label='9000K star blackbody')\n",
    "plt.xlabel('Wavelength (um)')\n",
    "plt.ylabel(r'Photon rate zero-point (photons/s/m2/um)')#($\\textrm{photons} s^{-1} m^{-2}\\mu m^{-1}$)')\n",
    "plt.title('Photon rates',fontsize = 22)\n",
    "plt.legend(fontsize=18)\n"
   ]
  },
  {
   "cell_type": "code",
   "execution_count": null,
   "metadata": {
    "collapsed": false
   },
   "outputs": [],
   "source": [
    "plt.figure(figsize=(10,10))\n",
    "Bij_energies = c.c*c.h/Bij_lams\n",
    "BB6 = af.blackbody_lambda(Bij_lams*u.um, 6000*u.K).to(u.Watt/u.m**2/u.um/u.sr)\n",
    "plt.semilogx(Bij_lams,BB6/BB6[2]*Bij_flux_densities[2]/Bij_flux_densities,label=\"Ratio of photon rate\")\n",
    "\n",
    "plt.xlabel('Wavelength (um)')\n",
    "plt.ylabel(r'Ratio of photon rates')\n",
    "plt.title('Ratio of photon rates (Blackbody over Bijan) assuming Vband equivalence',fontsize = 22)\n",
    "plt.legend(fontsize=18)\n"
   ]
  },
  {
   "cell_type": "code",
   "execution_count": null,
   "metadata": {
    "collapsed": false
   },
   "outputs": [],
   "source": [
    "from scipy.interpolate import interp1d\n",
    "ratios =interp1d(Bij_lams,BB6/BB6[2]*Bij_flux_densities[2]/Bij_flux_densities)\n",
    "print(\"Ratio at 0.7 microns (our flux over what Bijan finds):\")\n",
    "print(ratios(0.7))"
   ]
  },
  {
   "cell_type": "code",
   "execution_count": null,
   "metadata": {
    "collapsed": true
   },
   "outputs": [],
   "source": []
  },
  {
   "cell_type": "markdown",
   "metadata": {},
   "source": [
    "# Comparison to John Krist's files"
   ]
  },
  {
   "cell_type": "markdown",
   "metadata": {
    "collapsed": true
   },
   "source": [
    "The purpose of this section is to examine the files from John Krist to see if everything checks out compared to Bijan's estimates"
   ]
  },
  {
   "cell_type": "code",
   "execution_count": null,
   "metadata": {
    "collapsed": false
   },
   "outputs": [],
   "source": [
    "from crispy.tools.image import Image\n",
    "from astropy.io import fits\n",
    "from crispy.IFS import propagateIFS\n",
    "from crispy.params import Params\n",
    "codefolder = '../../../crispy'\n",
    "par = Params(codefolder)\n",
    "print(par.exportDir)\n",
    "par.saveDetector = False\n",
    "\n",
    "psf_time_series_folder='/local/data/nicolaus2/mrizzo/haystacks/for_gsfc/with_lowfc'\n",
    "\n",
    "# load the filenames\n",
    "filelist = glob.glob(psf_time_series_folder+'/*')\n",
    "filelist.sort()\n",
    "\n",
    "# load first filelist to get its shape\n",
    "fileshape = Image(filename=filelist[0]).data.shape\n",
    "\n",
    "tel_pupil_area = 4.412*u.m**2*0.835\n",
    "\n",
    "# reference and target star cube conversions\n",
    "ref_star_cube = convert_krist_cube(fileshape,lamlist,ref_star_T,ref_star_Vmag,tel_pupil_area)\n",
    "target_star_cube = convert_krist_cube(fileshape,lamlist,target_star_T,target_star_Vmag,tel_pupil_area)\n",
    "\n",
    "\n",
    "# Pick one of the images in the time series\n",
    "reffile = filelist[45]\n",
    "cube = fits.open(reffile)[0]\n",
    "print(\"Sum of John Krist's cube: %e\" %np.sum(cube.data))\n",
    "cube.data*=target_star_cube\n",
    "#cube.write('test_Krist_cube.fits',clobber=True)\n",
    "out = fits.HDUList(fits.PrimaryHDU(cube.data.astype(np.float32)))\n",
    "out.writeto(par.exportDir + '/test_Krist_cube.fits', clobber=True)\n",
    "print(\"Total counts from star at primary after obscuration: %e\" % np.sum(target_star_cube[:,0,0]))\n",
    "print(\"Sum of cube in photons per second: %f (residual speckle rate for entire area w/o focal plane mask)\" % np.sum(cube.data))\n",
    "print(\"Coronagraph contrast (no focal plane mask): %e \" % (np.sum(cube.data)/np.sum(target_star_cube[:,0,0])))"
   ]
  },
  {
   "cell_type": "code",
   "execution_count": null,
   "metadata": {
    "collapsed": false
   },
   "outputs": [],
   "source": [
    "offaxispsf= '/local/data/nicolaus2/mrizzo/haystacks/for_gsfc/spc_offaxis_psf.fits'\n",
    "offaxis = fits.open(offaxispsf)[0]\n",
    "print(\"Sum of John Krist's offaxis: %f\" %np.sum(offaxis.data))\n",
    "fileshape=offaxis.data.shape\n",
    "target_star_cube = convert_krist_cube(fileshape,lamlist,target_star_T,target_star_Vmag,tel_pupil_area)\n",
    "\n",
    "contrast = calc_contrast_Bijan(lamlist)\n",
    "contrast_cube = np.zeros(offaxis.data.shape)\n",
    "for i in range(offaxis.data.shape[0]):\n",
    "    contrast_cube[i,:,:] += contrast[i]*offaxis.data.shape[0]\n",
    "\n",
    "\n",
    "offaxis.data*=target_star_cube*contrast_cube\n",
    "out = fits.HDUList(fits.PrimaryHDU(offaxis.data.astype(np.float32)))\n",
    "out.writeto(par.exportDir + '/test_Krist_offaxis.fits', clobber=True)\n",
    "print(\"Total counts per second from planet at primary after obscuration: %e\" % np.sum(target_star_cube[:,0,0]*contrast))\n",
    "print(\"Sum of cube in photons per second: %f\" % np.sum(offaxis.data))\n",
    "print(\"Planet raw throughput (no reflections/transmissions): %e \" % (np.sum(offaxis.data)/np.sum(target_star_cube[:,0,0]*contrast)))\n",
    "plt.plot(lamlist,target_star_cube[:,0,0]*contrast)"
   ]
  },
  {
   "cell_type": "markdown",
   "metadata": {},
   "source": [
    "### Process an image to see the detector map"
   ]
  },
  {
   "cell_type": "code",
   "execution_count": null,
   "metadata": {
    "collapsed": false,
    "scrolled": true
   },
   "outputs": [],
   "source": [
    "par.saveRotatedInput = True\n",
    "from crispy.IFS import propagateIFS\n",
    "\n",
    "if offaxis.header['LAM_C']==0.8:\n",
    "    if lamc==770.:\n",
    "        offaxis.header['LAM_C']=0.77\n",
    "        # by NOT changing the pixelsize, we implicitly assume that the PSF is the same at 770 then at 800\n",
    "    else:\n",
    "        offaxis.header['LAM_C']=lamc/1000.\n",
    "        offaxis.header['PIXSIZE']*=lamc/0.77\n",
    "else:\n",
    "    offaxis.header['LAM_C']=lamc/1000.\n",
    "    offaxis.header['PIXSIZE']*=lamc/0.77\n",
    "par.saveDetector=True\n",
    "pol=0.5\n",
    "IFSLosses = 0.30\n",
    "QE = 0.68\n",
    "PhCountingEff = 0.8\n",
    "CTE = .893\n",
    "offaxis.data*=IFSLosses*QE*PhCountingEff*CTE*pol\n",
    "# offaxis.data*=0.68*0.8*0.893\n",
    "print(np.sum(offaxis.data))\n",
    "detectorFrame = propagateIFS(par,lamlist.value/1000.,offaxis)\n",
    "\n"
   ]
  },
  {
   "cell_type": "code",
   "execution_count": null,
   "metadata": {
    "collapsed": false
   },
   "outputs": [],
   "source": [
    "print(np.sum(offaxis.data)*0.11)\n",
    "np.sum(offaxis.data)*0.11/3e-3"
   ]
  },
  {
   "cell_type": "code",
   "execution_count": null,
   "metadata": {
    "collapsed": true
   },
   "outputs": [],
   "source": [
    "rotated_list = glob.glob(par.exportDir+'/imagePlaneRot*nm.fits')\n",
    "sum_rotated = np.zeros(Image(rotated_list[0]).data.shape)\n",
    "for filename in rotated_list:\n",
    "    sum_rotated += Image(filename).data\n",
    "out = fits.HDUList(fits.PrimaryHDU(sum_rotated.astype(np.float32)))\n",
    "out.writeto(par.exportDir + '/imagePlaneRot_sum.fits', clobber=True)\n"
   ]
  },
  {
   "cell_type": "code",
   "execution_count": null,
   "metadata": {
    "collapsed": false
   },
   "outputs": [],
   "source": [
    "print(np.sum(sum_rotated)*0.11)\n",
    "print(np.sum(offaxis.data*0.11))\n"
   ]
  },
  {
   "cell_type": "code",
   "execution_count": null,
   "metadata": {
    "collapsed": true
   },
   "outputs": [],
   "source": [
    "import numpy as np\n",
    "import glob\n",
    "import matplotlib\n",
    "import matplotlib.pyplot as plt\n",
    "\n",
    "matplotlib.rcParams['image.origin'] = 'lower'\n",
    "matplotlib.rcParams['image.interpolation'] = 'nearest'\n",
    "import sys\n",
    "codefolder = '../../../../crispy'\n",
    "if codefolder not in sys.path: sys.path.append(codefolder)\n",
    "from crispy.tools.initLogger import getLogger\n",
    "log = getLogger('crispy')\n",
    "from crispy.params import Params\n",
    "codefolder = '../../../crispy'\n",
    "par = Params(codefolder)\n",
    "from astropy.io import fits as pyf\n",
    "from crispy.IFS import polychromeIFS\n",
    "from crispy.tools.image import Image"
   ]
  },
  {
   "cell_type": "code",
   "execution_count": null,
   "metadata": {
    "collapsed": false
   },
   "outputs": [],
   "source": [
    "inputCube = np.ones((1,512,512),dtype=float)\n",
    "inCube = pyf.HDUList(pyf.PrimaryHDU(inputCube))\n",
    "inCube[0].header['LAM_C'] = 770./1000.\n",
    "inCube[0].header['PIXSIZE'] = 0.1\n",
    "dlam=1.\n",
    "par.saveRotatedInput=True\n",
    "\n",
    "detectorFrame = polychromeIFS(par,[770.],inCube[0],dlambda=dlam,parallel=False)\n",
    "filename = par.exportDir+'/det_660.fits'\n",
    "Image(data=detectorFrame,header=par.hdr).write(filename)\n"
   ]
  }
 ],
 "metadata": {
  "kernelspec": {
   "display_name": "Python 2",
   "language": "python",
   "name": "python2"
  },
  "language_info": {
   "codemirror_mode": {
    "name": "ipython",
    "version": 2
   },
   "file_extension": ".py",
   "mimetype": "text/x-python",
   "name": "python",
   "nbconvert_exporter": "python",
   "pygments_lexer": "ipython2",
   "version": "2.7.13"
  }
 },
 "nbformat": 4,
 "nbformat_minor": 2
}
