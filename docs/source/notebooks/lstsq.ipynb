{
 "cells": [
  {
   "cell_type": "markdown",
   "metadata": {},
   "source": [
    "# Least squares reduction"
   ]
  },
  {
   "cell_type": "code",
   "execution_count": null,
   "metadata": {
    "collapsed": true
   },
   "outputs": [],
   "source": []
  },
  {
   "cell_type": "code",
   "execution_count": 1,
   "metadata": {
    "collapsed": true
   },
   "outputs": [],
   "source": [
    "import numpy as np\n",
    "import glob\n",
    "import matplotlib\n",
    "import matplotlib.pyplot as plt\n",
    "matplotlib.rcParams['image.origin'] = 'lower'\n",
    "matplotlib.rcParams['image.interpolation'] = 'nearest'\n"
   ]
  },
  {
   "cell_type": "code",
   "execution_count": 2,
   "metadata": {
    "collapsed": true
   },
   "outputs": [],
   "source": [
    "import sys\n",
    "codefolder = '../../../../crispy'\n",
    "if codefolder not in sys.path: sys.path.append(codefolder)\n",
    "from crispy.tools.initLogger import getLogger\n",
    "log = getLogger('crispy')\n",
    "from crispy.params import Params\n",
    "codefolder = '../../../crispy'\n",
    "par = Params(codefolder)"
   ]
  },
  {
   "cell_type": "code",
   "execution_count": 3,
   "metadata": {
    "collapsed": true
   },
   "outputs": [],
   "source": [
    "par.wavecalDir = par.prefix+'/wavecalR50_770_test/'"
   ]
  },
  {
   "cell_type": "markdown",
   "metadata": {
    "collapsed": true
   },
   "source": [
    "### create flatfield if needed"
   ]
  },
  {
   "cell_type": "code",
   "execution_count": 4,
   "metadata": {
    "collapsed": false
   },
   "outputs": [
    {
     "name": "stdout",
     "output_type": "stream",
     "text": [
      "crispy - INFO - Reduced cube will have 17 wavelength bins\n",
      "crispy - INFO - The number of input pixels per lenslet is 4.303534\n",
      "crispy - INFO - Using PSFlet gaussian approximation\n",
      "crispy - INFO - Final detector pixel per PSFLet: 40.000000\n",
      "crispy - INFO - Processing wavelength 0.703764 (0 out of 17)\n",
      "crispy - INFO - Processing wavelength 0.711352 (1 out of 17)\n",
      "crispy - INFO - Processing wavelength 0.719022 (2 out of 17)\n",
      "crispy - INFO - Processing wavelength 0.726775 (3 out of 17)\n",
      "crispy - INFO - Processing wavelength 0.734612 (4 out of 17)\n",
      "crispy - INFO - Processing wavelength 0.742533 (5 out of 17)\n",
      "crispy - INFO - Processing wavelength 0.750539 (6 out of 17)\n",
      "crispy - INFO - Processing wavelength 0.758632 (7 out of 17)\n",
      "crispy - INFO - Processing wavelength 0.766812 (8 out of 17)\n",
      "crispy - INFO - Processing wavelength 0.775080 (9 out of 17)\n",
      "crispy - INFO - Processing wavelength 0.783437 (10 out of 17)\n",
      "crispy - INFO - Processing wavelength 0.791884 (11 out of 17)\n",
      "crispy - INFO - Processing wavelength 0.800423 (12 out of 17)\n",
      "crispy - INFO - Processing wavelength 0.809054 (13 out of 17)\n",
      "crispy - INFO - Processing wavelength 0.817777 (14 out of 17)\n",
      "crispy - INFO - Processing wavelength 0.826595 (15 out of 17)\n",
      "crispy - INFO - Processing wavelength 0.835508 (16 out of 17)\n",
      "crispy - INFO - Number of detector pixels per lenslet: 13.384615\n",
      "crispy - INFO - Rebinning final detector. Image has dimensions 1024x1024\n",
      "crispy - INFO - Done.\n",
      "crispy - INFO - Performance: 33 seconds total\n",
      "crispy - INFO - Writing data to ../../../crispy/unitTestsOutputs/flatfield.fits\n"
     ]
    },
    {
     "name": "stderr",
     "output_type": "stream",
     "text": [
      "WARNING: AstropyDeprecationWarning: \"clobber\" was deprecated in version 1.3 and will be removed in a future version. Use argument \"overwrite\" instead. [astropy.utils.decorators]\n"
     ]
    }
   ],
   "source": [
    "from crispy.unitTests import testCreateFlatfield\n",
    "testCreateFlatfield(par)"
   ]
  },
  {
   "cell_type": "code",
   "execution_count": 6,
   "metadata": {
    "collapsed": false
   },
   "outputs": [
    {
     "name": "stdout",
     "output_type": "stream",
     "text": [
      "crispy - INFO - Read data from HDU 1 of ../../../crispy/unitTestsOutputs/flatfield.fits\n",
      "crispy - INFO - Elapsed time: 23.596739s\n",
      "crispy - INFO - Read data from HDU 0 of ../../../crispy/ReferenceFiles/wavecalR50_770_test/polychromeR50stack.fits\n",
      "crispy - INFO - Elapsed time: 24.745372s\n"
     ]
    }
   ],
   "source": [
    "from crispy.IFS import reduceIFSMap\n",
    "#tmp=reduceIFSMap(par,par.wavecalDir+'det_760.fits',method='lstsq')\n",
    "tmp=reduceIFSMap(par,par.unitTestsOutputs+'/flatfield.fits',method='lstsq')\n",
    "tmp=reduceIFSMap(par,par.wavecalDir+'polychromeR50stack.fits',method='lstsq')\n"
   ]
  },
  {
   "cell_type": "code",
   "execution_count": null,
   "metadata": {
    "collapsed": true
   },
   "outputs": [],
   "source": []
  }
 ],
 "metadata": {
  "anaconda-cloud": {},
  "kernelspec": {
   "display_name": "Python 2",
   "language": "python",
   "name": "python2"
  },
  "language_info": {
   "codemirror_mode": {
    "name": "ipython",
    "version": 2
   },
   "file_extension": ".py",
   "mimetype": "text/x-python",
   "name": "python",
   "nbconvert_exporter": "python",
   "pygments_lexer": "ipython2",
   "version": "2.7.13"
  }
 },
 "nbformat": 4,
 "nbformat_minor": 1
}
