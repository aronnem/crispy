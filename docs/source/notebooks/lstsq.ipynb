{
 "cells": [
  {
   "cell_type": "markdown",
   "metadata": {},
   "source": [
    "# Least squares reduction"
   ]
  },
  {
   "cell_type": "code",
   "execution_count": null,
   "metadata": {
    "collapsed": true
   },
   "outputs": [],
   "source": []
  },
  {
   "cell_type": "code",
   "execution_count": 1,
   "metadata": {
    "collapsed": true
   },
   "outputs": [],
   "source": [
    "import numpy as np\n",
    "import glob\n",
    "import matplotlib\n",
    "import matplotlib.pyplot as plt\n",
    "\n",
    "matplotlib.rcParams['image.origin'] = 'lower'\n",
    "matplotlib.rcParams['image.interpolation'] = 'nearest'\n"
   ]
  },
  {
   "cell_type": "code",
   "execution_count": 1,
   "metadata": {
    "collapsed": true
   },
   "outputs": [],
   "source": [
    "import sys\n",
    "codefolder = '../../../../crispy'\n",
    "if codefolder not in sys.path: sys.path.append(codefolder)\n",
    "from crispy.tools.initLogger import getLogger\n",
    "log = getLogger('crispy')\n",
    "from crispy.params import Params\n",
    "codefolder = '../../../crispy'\n",
    "par = Params(codefolder)"
   ]
  },
  {
   "cell_type": "markdown",
   "metadata": {},
   "source": [
    "### This is a test wavecal with slightly different PSFLet models"
   ]
  },
  {
   "cell_type": "code",
   "execution_count": 3,
   "metadata": {
    "collapsed": false
   },
   "outputs": [
    {
     "data": {
      "text/plain": [
       "SIMPLE  =                    T / conforms to FITS standard                      \n",
       "BITPIX  =                    8 / array data type                                \n",
       "NAXIS   =                    0 / number of array dimensions                     \n",
       "EXTEND  =                    T                                                  \n",
       "COMMENT                                                                         \n",
       "COMMENT ************************************************************            \n",
       "COMMENT ********************** General parameters ******************            \n",
       "COMMENT ************************************************************            \n",
       "COMMENT                                                                         \n",
       "NLENS   =                  108 / # lenslets across array                        \n",
       "PITCH   =             0.000174 / Lenslet pitch (meters)                         \n",
       "INTERLAC=                    2 / Interlacing                                    \n",
       "PHILENS =    26.56505117707799 / Rotation angle of the lenslets (deg)           \n",
       "PIXSIZE =              1.3E-05 / Pixel size (meters)                            \n",
       "LENSAMP =                  0.5 / Lenslet sampling (lam/D)                       \n",
       "LSAMPWAV=                660.0 / Lenslet sampling wavelength (nm)               \n",
       "FWHM    =                    2 / FHWM of PSFLet at detector (pixels)            \n",
       "FWHMLAM =                660.0 / Wavelength at which FWHM is defined (nm)       \n",
       "NPIX    =                 1024 / Number of detector pixels                      \n",
       "DISPDIST=                    F / Use PISCES distortion/dispersion?              "
      ]
     },
     "execution_count": 3,
     "metadata": {},
     "output_type": "execute_result"
    }
   ],
   "source": [
    "par.wavecalDir = par.prefix+'/wavecalR50_770_test/'\n",
    "par.hdr\n"
   ]
  },
  {
   "cell_type": "markdown",
   "metadata": {
    "collapsed": true
   },
   "source": [
    "### create flatfield if needed"
   ]
  },
  {
   "cell_type": "code",
   "execution_count": 4,
   "metadata": {
    "collapsed": false,
    "scrolled": false
   },
   "outputs": [
    {
     "name": "stdout",
     "output_type": "stream",
     "text": [
      "crispy - INFO - Reduced cube will have 44 wavelength bins\n",
      "crispy - INFO - Using PSFlet gaussian approximation\n",
      "crispy - INFO - Assuming endpoints wavelist is given\n",
      "[ 700.          703.18181818  706.36363636  709.54545455  712.72727273\n",
      "  715.90909091  719.09090909  722.27272727  725.45454545  728.63636364\n",
      "  731.81818182  735.          738.18181818  741.36363636  744.54545455\n",
      "  747.72727273  750.90909091  754.09090909  757.27272727  760.45454545\n",
      "  763.63636364  766.81818182  770.          773.18181818  776.36363636\n",
      "  779.54545455  782.72727273  785.90909091  789.09090909  792.27272727\n",
      "  795.45454545  798.63636364  801.81818182  805.          808.18181818\n",
      "  811.36363636  814.54545455  817.72727273  820.90909091  824.09090909\n",
      "  827.27272727  830.45454545  833.63636364  836.81818182  840.        ]\n"
     ]
    },
    {
     "name": "stderr",
     "output_type": "stream",
     "text": [
      "WARNING: AstropyDeprecationWarning: \"clobber\" was deprecated in version 1.3 and will be removed in a future version. Use argument \"overwrite\" instead. [astropy.utils.decorators]\n"
     ]
    },
    {
     "name": "stdout",
     "output_type": "stream",
     "text": [
      "crispy - INFO - Writing data to ../../../crispy/SimResults/imagePlaneRot.fits\n",
      "crispy - INFO - Number of detector pixels per lenslet: 13.384615\n",
      "crispy - INFO - Rebinning final detector. Image has dimensions 1024x1024\n",
      "crispy - INFO - Done.\n",
      "crispy - INFO - Performance: 44 seconds total\n",
      "crispy - INFO - Writing data to ../../../crispy/unitTestsOutputs/flatfield.fits\n"
     ]
    }
   ],
   "source": [
    "from crispy.unitTests import testCreateFlatfield\n",
    "# par.savePoly = True\n",
    "par.saveRotatedInput = True\n",
    "testCreateFlatfield(par)"
   ]
  },
  {
   "cell_type": "code",
   "execution_count": null,
   "metadata": {
    "collapsed": true
   },
   "outputs": [],
   "source": []
  },
  {
   "cell_type": "code",
   "execution_count": 2,
   "metadata": {
    "collapsed": false
   },
   "outputs": [
    {
     "name": "stdout",
     "output_type": "stream",
     "text": [
      "crispy - INFO - Read data from HDU 1 of ../../../crispy/unitTestsOutputs/flatfield.fits\n",
      "crispy - INFO - Reduced cube will have 18 wavelength bins\n",
      "crispy - INFO - Writing data to ../../../crispy/SimResults/flatfield_red_optext.fits\n",
      "crispy - INFO - Elapsed time: 13.112292s\n"
     ]
    },
    {
     "name": "stderr",
     "output_type": "stream",
     "text": [
      "WARNING: AstropyDeprecationWarning: \"clobber\" was deprecated in version 1.3 and will be removed in a future version. Use argument \"overwrite\" instead. [astropy.utils.decorators]\n"
     ]
    }
   ],
   "source": [
    "from crispy.IFS import reduceIFSMap\n",
    "#tmp=reduceIFSMap(par,par.wavecalDir+'det_760.fits',method='lstsq')\n",
    "# tmp=reduceIFSMap(par,par.wavecalDir+'polychromeR50stack_highdensity.fits',method='lstsq')\n",
    "# tmp=reduceIFSMap(par,par.unitTestsOutputs+'/flatfield.fits')\n",
    "#tmp=reduceIFSMap(par,par.unitTestsOutputs+'/flatfield.fits',method='lstsq')\n",
    "tmp=reduceIFSMap(par,par.unitTestsOutputs+'/flatfield.fits',method='optext')\n",
    "# tmp=reduceIFSMap(par,par.wavecalDir+'polychromeR50stack.fits',method='lstsq')\n"
   ]
  },
  {
   "cell_type": "code",
   "execution_count": 6,
   "metadata": {
    "collapsed": false
   },
   "outputs": [
    {
     "name": "stdout",
     "output_type": "stream",
     "text": [
      "crispy - INFO - Read data from HDU 0 of ../../../../OS5/offaxis/spc_offaxis_psf.fits\n",
      "crispy - INFO - Reduced cube will have 44 wavelength bins\n",
      "crispy - ERROR - Number of wavelengths does not match the number of slices\n",
      "crispy - INFO - Using PSFlet gaussian approximation\n",
      "crispy - INFO - Assuming endpoints wavelist is given\n",
      "[ 700.          703.18181818  706.36363636  709.54545455  712.72727273\n",
      "  715.90909091  719.09090909  722.27272727  725.45454545  728.63636364\n",
      "  731.81818182  735.          738.18181818  741.36363636  744.54545455\n",
      "  747.72727273  750.90909091  754.09090909  757.27272727  760.45454545\n",
      "  763.63636364  766.81818182  770.          773.18181818  776.36363636\n",
      "  779.54545455  782.72727273  785.90909091  789.09090909  792.27272727\n",
      "  795.45454545  798.63636364  801.81818182  805.          808.18181818\n",
      "  811.36363636  814.54545455  817.72727273  820.90909091  824.09090909\n",
      "  827.27272727  830.45454545  833.63636364  836.81818182  840.        ]\n",
      "crispy - INFO - Writing data to ../../../crispy/SimResults/imagePlaneRot.fits\n",
      "crispy - INFO - Number of detector pixels per lenslet: 13.384615\n",
      "crispy - INFO - Rebinning final detector. Image has dimensions 1024x1024\n",
      "crispy - INFO - Writing data to ../../../crispy/SimResults/detectorFrame.fits\n",
      "crispy - INFO - Done.\n",
      "crispy - INFO - Performance: 25 seconds total\n"
     ]
    },
    {
     "data": {
      "text/plain": [
       "array([[ 0.,  0.,  0., ...,  0.,  0.,  0.],\n",
       "       [ 0.,  0.,  0., ...,  0.,  0.,  0.],\n",
       "       [ 0.,  0.,  0., ...,  0.,  0.,  0.],\n",
       "       ..., \n",
       "       [ 0.,  0.,  0., ...,  0.,  0.,  0.],\n",
       "       [ 0.,  0.,  0., ...,  0.,  0.,  0.],\n",
       "       [ 0.,  0.,  0., ...,  0.,  0.,  0.]])"
      ]
     },
     "execution_count": 6,
     "metadata": {},
     "output_type": "execute_result"
    }
   ],
   "source": [
    "from crispy.tools.image import Image\n",
    "from crispy.tools.reduction import calculateWaveList\n",
    "import astropy.units as u\n",
    "offaxis = Image(filename='../../../../OS5/offaxis/spc_offaxis_psf.fits')\n",
    "lamc=770.\n",
    "BW=0.17\n",
    "offaxis.header['LAM_C'] = lamc/1000.\n",
    "from crispy.IFS import polychromeIFS\n",
    "Nlam = offaxis.data.shape[0]\n",
    "lamlist = lamc*np.linspace(1.-BW/2.,1.+BW/2.,Nlam)\n",
    "lam_midpts,lam_endpts = calculateWaveList(par,Nspec=45)\n",
    "par.saveDetector=True\n",
    "polychromeIFS(par,lam_midpts,offaxis,parallel=True,wavelist_endpts=lam_endpts)"
   ]
  },
  {
   "cell_type": "code",
   "execution_count": 7,
   "metadata": {
    "collapsed": false
   },
   "outputs": [
    {
     "name": "stdout",
     "output_type": "stream",
     "text": [
      "crispy - INFO - Read data from HDU 1 of ../../../crispy/SimResults/detectorFrame.fits\n",
      "crispy - INFO - Reduced cube will have 10 wavelength bins\n",
      "crispy - INFO - Elapsed time: 12.421115s\n"
     ]
    }
   ],
   "source": [
    "from crispy.IFS import reduceIFSMap\n",
    "tmp=reduceIFSMap(par,par.exportDir+'/detectorFrame.fits',method='lstsq')\n"
   ]
  },
  {
   "cell_type": "code",
   "execution_count": 8,
   "metadata": {
    "collapsed": false
   },
   "outputs": [
    {
     "name": "stdout",
     "output_type": "stream",
     "text": [
      "crispy - INFO - Read data from HDU 0 of ../../../crispy/SimResults/detectorFrame_red_lstsq_resid.fits\n",
      "crispy - INFO - Read data from HDU 1 of ../../../crispy/SimResults/detectorFrame.fits\n",
      "crispy - INFO - Writing data to ../../../crispy/SimResults/resid_detectorFrame_ratio.fits\n"
     ]
    },
    {
     "name": "stderr",
     "output_type": "stream",
     "text": [
      "/Users/mrizzo/anaconda/lib/python2.7/site-packages/ipykernel/__main__.py:3: RuntimeWarning: divide by zero encountered in divide\n",
      "  app.launch_new_instance()\n",
      "/Users/mrizzo/anaconda/lib/python2.7/site-packages/ipykernel/__main__.py:3: RuntimeWarning: invalid value encountered in divide\n",
      "  app.launch_new_instance()\n",
      "/Users/mrizzo/anaconda/lib/python2.7/site-packages/ipykernel/__main__.py:4: RuntimeWarning: invalid value encountered in greater_equal\n",
      "/Users/mrizzo/anaconda/lib/python2.7/site-packages/ipykernel/__main__.py:5: RuntimeWarning: invalid value encountered in less_equal\n"
     ]
    }
   ],
   "source": [
    "resid = Image(par.exportDir+'/detectorFrame_red_lstsq_resid.fits')\n",
    "detframe=Image(par.exportDir+'/detectorFrame.fits')\n",
    "ratio = resid.data/detframe.data\n",
    "ratio[ratio>=1]=0.\n",
    "ratio[ratio<=-1]=0.0\n",
    "Image(data=ratio).write(par.exportDir+'/resid_detectorFrame_ratio.fits')"
   ]
  },
  {
   "cell_type": "code",
   "execution_count": 9,
   "metadata": {
    "collapsed": false
   },
   "outputs": [
    {
     "name": "stdout",
     "output_type": "stream",
     "text": [
      "crispy - INFO - Read data from HDU 1 of ../../../crispy/ReferenceFiles/wavecalR50_770_test//det_750.fits\n",
      "crispy - INFO - Reduced cube will have 10 wavelength bins\n",
      "crispy - INFO - Elapsed time: 12.673125s\n"
     ]
    }
   ],
   "source": [
    "from crispy.IFS import reduceIFSMap\n",
    "tmp=reduceIFSMap(par,par.wavecalDir+'/det_750.fits',method='lstsq')\n"
   ]
  }
 ],
 "metadata": {
  "anaconda-cloud": {},
  "kernelspec": {
   "display_name": "Python 2",
   "language": "python",
   "name": "python2"
  },
  "language_info": {
   "codemirror_mode": {
    "name": "ipython",
    "version": 2
   },
   "file_extension": ".py",
   "mimetype": "text/x-python",
   "name": "python",
   "nbconvert_exporter": "python",
   "pygments_lexer": "ipython2",
   "version": "2.7.13"
  }
 },
 "nbformat": 4,
 "nbformat_minor": 1
}
