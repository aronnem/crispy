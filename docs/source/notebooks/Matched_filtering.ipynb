{
 "cells": [
  {
   "cell_type": "markdown",
   "metadata": {},
   "source": []
  },
  {
   "cell_type": "code",
   "execution_count": 1,
   "metadata": {
    "collapsed": false
   },
   "outputs": [
    {
     "name": "stdout",
     "output_type": "stream",
     "text": [
      "Populating the interactive namespace from numpy and matplotlib\n",
      "../../../../crispy\n"
     ]
    }
   ],
   "source": [
    "%pylab inline --no-import-all\n",
    "matplotlib.rcParams['image.origin'] = 'lower'\n",
    "matplotlib.rcParams['image.interpolation'] = 'nearest'\n",
    "import sys\n",
    "import os\n",
    "\n",
    "folder = '../../../../crispy'\n",
    "print(folder)\n",
    "if folder not in sys.path: sys.path.append(folder)\n",
    "\n",
    "from crispy.params import Params\n",
    "folder = '../../../crispy'\n",
    "par = Params(folder)\n",
    "\n",
    "from crispy.tools.initLogger import getLogger\n",
    "log = getLogger('crispy')\n",
    "from crispy.tools.imgtools import scale2imgs,bowtie\n",
    "from crispy.tools.image import Image\n",
    "from astropy.io import fits\n",
    "import astropy.units as u\n",
    "from crispy.tools.postprocessing import mf\n",
    "lamc=660.\n",
    "BW = 0.18\n",
    "par.nonoise=True\n",
    "sampling=2.0\n",
    "par.lenslet_sampling=1./sampling\n",
    "folder = '/Users/mrizzo/IFS/OS5_SIM_'+str(sampling)\n"
   ]
  },
  {
   "cell_type": "markdown",
   "metadata": {},
   "source": [
    "### Implementation of a matched filter that preserves contrast"
   ]
  },
  {
   "cell_type": "code",
   "execution_count": null,
   "metadata": {
    "collapsed": true
   },
   "outputs": [],
   "source": []
  },
  {
   "cell_type": "raw",
   "metadata": {
    "collapsed": false
   },
   "source": [
    "offaxis = Image(folder+\"/average/offaxis_planet.fits\")\n",
    "plt.figure(figsize=(12,12))\n",
    "plt.imshow(offaxis.data[400:600,580:680],cmap='Greys_r')\n",
    "plt.colorbar()"
   ]
  },
  {
   "cell_type": "raw",
   "metadata": {
    "collapsed": false
   },
   "source": [
    "plt.figure(figsize=(12,12))\n",
    "plt.plot(np.sum(offaxis.data))\n"
   ]
  },
  {
   "cell_type": "raw",
   "metadata": {
    "collapsed": false
   },
   "source": [
    "offaxis_ideal = Image(folder+\"/average/offaxis_planet_red_optext.fits\")\n",
    "\n",
    "plt.figure(figsize=(12,12))\n",
    "plt.imshow(offaxis_ideal.data[7],cmap='Greys_r')\n",
    "plt.colorbar()"
   ]
  },
  {
   "cell_type": "raw",
   "metadata": {
    "collapsed": false
   },
   "source": [
    "plt.figure(figsize=(12,12))\n",
    "plt.plot(np.nansum(np.nansum(offaxis_ideal.data,axis=2),axis=1))\n"
   ]
  },
  {
   "cell_type": "raw",
   "metadata": {
    "collapsed": false
   },
   "source": [
    "matched_filter = np.zeros(offaxis_ideal.data.shape)\n",
    "signal = np.zeros(offaxis_ideal.data.shape[0]) # on source\n",
    "\n",
    "threshold=0.7\n",
    "\n",
    "for slicenum in range(offaxis_ideal.data.shape[0]):\n",
    "    # ON\n",
    "#     nanpct = np.nanpercentile(offaxis_ideal.data[slicenum],threshold)\n",
    "#     mask = (offaxis_ideal.data[slicenum]>nanpct)\n",
    "    offaxis_ideal_norm = offaxis_ideal.data[slicenum]/np.nansum(offaxis_ideal.data[slicenum])\n",
    "    msk = (offaxis_ideal_norm>np.nanmax(offaxis_ideal_norm)*threshold)\n",
    "    aper_phot = np.nansum(offaxis_ideal_norm)/np.nansum(offaxis_ideal_norm[msk])\n",
    "    offaxis_ideal_norm[~msk] = 0.0\n",
    "    #offaxis_ideal_norm *= aper_phot\n",
    "    offaxis_ideal_norm /= np.nansum(offaxis_ideal_norm)\n",
    "    this_slice = offaxis_ideal_norm/np.nansum((offaxis_ideal_norm)**2)\n",
    "    # calculate correction factor since we are going to crop only the top the of the hat\n",
    "    # this is the inverse ratio of the contribution of the brightest pixels over the rest\n",
    "    \n",
    "    matched_filter[slicenum,:,:] = this_slice *aper_phot\n",
    "    signal[slicenum] = np.nansum(matched_filter[slicenum,:,:]*offaxis_ideal.data[slicenum,:,:])\n",
    "\n",
    "from crispy.tools.postprocessing import mf\n",
    "matched_filter_mf = mf(offaxis_ideal,True,0.7)\n",
    "signal2 = np.nansum(np.nansum(matched_filter*offaxis_ideal.data,axis=2),axis=1)"
   ]
  },
  {
   "cell_type": "raw",
   "metadata": {
    "collapsed": false
   },
   "source": [
    "print aper_phot\n"
   ]
  },
  {
   "cell_type": "raw",
   "metadata": {
    "collapsed": false
   },
   "source": [
    "plt.figure(figsize=(12,12))\n",
    "\n",
    "plt.plot(signal)\n",
    "plt.plot(signal2)\n"
   ]
  },
  {
   "cell_type": "markdown",
   "metadata": {},
   "source": []
  }
 ],
 "metadata": {
  "kernelspec": {
   "display_name": "Python 2",
   "language": "python",
   "name": "python2"
  },
  "language_info": {
   "codemirror_mode": {
    "name": "ipython",
    "version": 2
   },
   "file_extension": ".py",
   "mimetype": "text/x-python",
   "name": "python",
   "nbconvert_exporter": "python",
   "pygments_lexer": "ipython2",
   "version": "2.7.13"
  }
 },
 "nbformat": 4,
 "nbformat_minor": 2
}
