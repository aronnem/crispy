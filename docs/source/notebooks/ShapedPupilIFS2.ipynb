{
 "cells": [
  {
   "cell_type": "code",
   "execution_count": 1,
   "metadata": {
    "collapsed": false
   },
   "outputs": [
    {
     "name": "stdout",
     "output_type": "stream",
     "text": [
      "Populating the interactive namespace from numpy and matplotlib\n",
      "../../../../crispy\n"
     ]
    }
   ],
   "source": [
    "%pylab inline --no-import-all\n",
    "matplotlib.rcParams['image.origin'] = 'lower'\n",
    "matplotlib.rcParams['image.interpolation'] = 'nearest'\n",
    "import sys\n",
    "import os\n",
    "\n",
    "folder = '../../../../crispy'\n",
    "print(folder)\n",
    "if folder not in sys.path: sys.path.append(folder)\n",
    "\n",
    "from crispy.params import Params\n",
    "folder = '../../../crispy'\n",
    "\n",
    "from crispy.tools.initLogger import getLogger\n",
    "log = getLogger('crispy')\n",
    "from crispy.IFS import propagateIFS\n",
    "from crispy.IFS import reduceIFSMap\n",
    "from crispy.tools.postprocessing import process_SPC_IFS,SNR_spectrum\n",
    "from crispy.tools.imgtools import scale2imgs,bowtie\n",
    "from crispy.unitTests import testCreateFlatfield\n",
    "\n",
    "#os.chdir(folder)\n",
    "par = Params(folder)\n",
    "par.saveRotatedInput = False\n",
    "par.saveDetector = False\n"
   ]
  },
  {
   "cell_type": "code",
   "execution_count": 2,
   "metadata": {
    "collapsed": false,
    "scrolled": true
   },
   "outputs": [
    {
     "name": "stdout",
     "output_type": "stream",
     "text": [
      "crispy - INFO - Reduced cube will have 44 wavelength bins\n",
      "crispy - INFO - The number of input pixels per lenslet is 5.000000\n",
      "crispy - INFO - Using PSFlet gaussian approximation\n",
      "crispy - WARNING - Assuming endpoints wavelist is given\n"
     ]
    },
    {
     "name": "stderr",
     "output_type": "stream",
     "text": [
      "Process Consumer-5:\n",
      "Process Consumer-6:\n",
      "Traceback (most recent call last):\n",
      "Traceback (most recent call last):\n",
      "  File \"/Users/mrizzo/anaconda/lib/python2.7/multiprocessing/process.py\", line 258, in _bootstrap\n",
      "Process Consumer-1:\n",
      "    self.run()\n",
      "Process Consumer-4:\n",
      "  File \"../../../../crispy/crispy/tools/par_utils.py\", line 22, in run\n",
      "Process Consumer-7:\n",
      "    self.result_queue.put(next_task())\n",
      "Process Consumer-3:\n",
      "Traceback (most recent call last):\n",
      "  File \"../../../../crispy/crispy/tools/par_utils.py\", line 31, in __call__\n",
      "  File \"/Users/mrizzo/anaconda/lib/python2.7/multiprocessing/process.py\", line 258, in _bootstrap\n",
      "Traceback (most recent call last):\n",
      "    self.run()\n",
      "Process Consumer-2:\n",
      "Traceback (most recent call last):\n",
      "Process Consumer-8:\n",
      "Traceback (most recent call last):\n",
      "  File \"/Users/mrizzo/anaconda/lib/python2.7/multiprocessing/process.py\", line 258, in _bootstrap\n",
      "Traceback (most recent call last):\n",
      "Traceback (most recent call last):\n",
      "    self.run()\n",
      "  File \"/Users/mrizzo/anaconda/lib/python2.7/multiprocessing/process.py\", line 258, in _bootstrap\n",
      "  File \"/Users/mrizzo/anaconda/lib/python2.7/multiprocessing/process.py\", line 258, in _bootstrap\n",
      "  File \"../../../../crispy/crispy/tools/par_utils.py\", line 22, in run\n",
      "  File \"/Users/mrizzo/anaconda/lib/python2.7/multiprocessing/process.py\", line 258, in _bootstrap\n",
      "    return self.index, self.func(*self.args)\n",
      "    self.run()\n",
      "  File \"/Users/mrizzo/anaconda/lib/python2.7/multiprocessing/process.py\", line 258, in _bootstrap\n",
      "  File \"../../../../crispy/crispy/tools/lenslet.py\", line 174, in propagateLenslets\n",
      "    self.run()\n",
      "  File \"../../../../crispy/crispy/tools/par_utils.py\", line 22, in run\n",
      "  File \"/Users/mrizzo/anaconda/lib/python2.7/multiprocessing/process.py\", line 258, in _bootstrap\n",
      "    self.run()\n",
      "    image[iy1:iy2, ix1:ix2] += val*ndimage.map_coordinates(hires[0,0], [yinterp, xinterp], prefilter=False)/nlam\n",
      "    self.result_queue.put(next_task())\n",
      "    self.run()\n",
      "  File \"../../../../crispy/crispy/tools/par_utils.py\", line 22, in run\n",
      "  File \"../../../../crispy/crispy/tools/par_utils.py\", line 22, in run\n",
      "  File \"../../../../crispy/crispy/tools/par_utils.py\", line 22, in run\n",
      "    self.run()\n",
      "  File \"../../../../crispy/crispy/tools/par_utils.py\", line 31, in __call__\n",
      "    self.result_queue.put(next_task())\n",
      "KeyboardInterrupt\n",
      "  File \"../../../../crispy/crispy/tools/par_utils.py\", line 22, in run\n",
      "  File \"../../../../crispy/crispy/tools/par_utils.py\", line 31, in __call__\n",
      "    self.result_queue.put(next_task())\n",
      "    self.result_queue.put(next_task())\n",
      "    return self.index, self.func(*self.args)\n",
      "  File \"../../../../crispy/crispy/tools/par_utils.py\", line 22, in run\n",
      "    self.result_queue.put(next_task())\n",
      "  File \"../../../../crispy/crispy/tools/par_utils.py\", line 31, in __call__\n",
      "    self.result_queue.put(next_task())\n",
      "    self.result_queue.put(next_task())\n",
      "  File \"../../../../crispy/crispy/tools/par_utils.py\", line 31, in __call__\n",
      "    return self.index, self.func(*self.args)\n",
      "  File \"../../../../crispy/crispy/tools/lenslet.py\", line 170, in propagateLenslets\n",
      "  File \"../../../../crispy/crispy/tools/par_utils.py\", line 31, in __call__\n",
      "  File \"../../../../crispy/crispy/tools/par_utils.py\", line 31, in __call__\n",
      "    return self.index, self.func(*self.args)\n",
      "  File \"../../../../crispy/crispy/tools/lenslet.py\", line 174, in propagateLenslets\n",
      "    return self.index, self.func(*self.args)\n",
      "    image[iy1:iy2, ix1:ix2] += val*ndimage.map_coordinates(hires[0,0], [yinterp, xinterp], prefilter=False)/nlam\n",
      "  File \"/Users/mrizzo/anaconda/lib/python2.7/site-packages/scipy/ndimage/interpolation.py\", line 325, in map_coordinates\n",
      "  File \"../../../../crispy/crispy/tools/lenslet.py\", line 174, in propagateLenslets\n",
      "    return self.index, self.func(*self.args)\n",
      "    output, order, mode, cval, None, None)\n",
      "    image[iy1:iy2, ix1:ix2] += val*ndimage.map_coordinates(hires[0,0], [yinterp, xinterp], prefilter=False)/nlam\n",
      "  File \"/Users/mrizzo/anaconda/lib/python2.7/site-packages/scipy/ndimage/interpolation.py\", line 325, in map_coordinates\n",
      "    return self.index, self.func(*self.args)\n",
      "  File \"/Users/mrizzo/anaconda/lib/python2.7/site-packages/scipy/ndimage/interpolation.py\", line 132, in _geometric_transform\n",
      "  File \"../../../../crispy/crispy/tools/lenslet.py\", line 174, in propagateLenslets\n",
      "    xinterp = (x[iy1:iy2, ix1:ix2] - xcen[i])*upsample + upsample*npix/2\n",
      "  File \"../../../../crispy/crispy/tools/par_utils.py\", line 31, in __call__\n",
      "  File \"../../../../crispy/crispy/tools/lenslet.py\", line 174, in propagateLenslets\n",
      "  File \"../../../../crispy/crispy/tools/lenslet.py\", line 156, in propagateLenslets\n",
      "    image[iy1:iy2, ix1:ix2] += val*ndimage.map_coordinates(hires[0,0], [yinterp, xinterp], prefilter=False)/nlam\n",
      "    return self.index, self.func(*self.args)\n",
      "    order, mode, cval, extra_arguments, extra_keywords)\n",
      "    output, order, mode, cval, None, None)\n",
      "KeyboardInterrupt\n",
      "KeyboardInterrupt\n",
      "  File \"../../../../crispy/crispy/tools/lenslet.py\", line 174, in propagateLenslets\n",
      "    val = imageplane[Ycoord,Xcoord]\n",
      "    image[iy1:iy2, ix1:ix2] += val*ndimage.map_coordinates(hires[0,0], [yinterp, xinterp], prefilter=False)/nlam\n",
      "KeyboardInterrupt\n",
      "  File \"/Users/mrizzo/anaconda/lib/python2.7/site-packages/scipy/ndimage/interpolation.py\", line 325, in map_coordinates\n",
      "  File \"/Users/mrizzo/anaconda/lib/python2.7/site-packages/scipy/ndimage/interpolation.py\", line 325, in map_coordinates\n",
      "    image[iy1:iy2, ix1:ix2] += val*ndimage.map_coordinates(hires[0,0], [yinterp, xinterp], prefilter=False)/nlam\n",
      "  File \"/Users/mrizzo/anaconda/lib/python2.7/site-packages/scipy/ndimage/interpolation.py\", line 132, in _geometric_transform\n",
      "    output, order, mode, cval, None, None)\n",
      "  File \"/Users/mrizzo/anaconda/lib/python2.7/site-packages/scipy/ndimage/interpolation.py\", line 325, in map_coordinates\n",
      "    order, mode, cval, extra_arguments, extra_keywords)\n",
      "    output, order, mode, cval, None, None)\n",
      "  File \"/Users/mrizzo/anaconda/lib/python2.7/site-packages/scipy/ndimage/interpolation.py\", line 132, in _geometric_transform\n",
      "KeyboardInterrupt\n",
      "    output, order, mode, cval, None, None)\n",
      "  File \"/Users/mrizzo/anaconda/lib/python2.7/site-packages/scipy/ndimage/interpolation.py\", line 132, in _geometric_transform\n",
      "    order, mode, cval, extra_arguments, extra_keywords)\n",
      "  File \"/Users/mrizzo/anaconda/lib/python2.7/site-packages/scipy/ndimage/interpolation.py\", line 132, in _geometric_transform\n",
      "    order, mode, cval, extra_arguments, extra_keywords)\n",
      "    order, mode, cval, extra_arguments, extra_keywords)\n",
      "KeyboardInterrupt\n",
      "KeyboardInterrupt\n",
      "KeyboardInterrupt\n"
     ]
    },
    {
     "ename": "KeyboardInterrupt",
     "evalue": "",
     "output_type": "error",
     "traceback": [
      "\u001b[0;31m--------------------------------------------------------------------------\u001b[0m",
      "\u001b[0;31mKeyboardInterrupt\u001b[0m                        Traceback (most recent call last)",
      "\u001b[0;32m<ipython-input-2-a3269ab8d265>\u001b[0m in \u001b[0;36m<module>\u001b[0;34m()\u001b[0m\n\u001b[1;32m      1\u001b[0m \u001b[0mpar\u001b[0m\u001b[0;34m.\u001b[0m\u001b[0msavePoly\u001b[0m\u001b[0;34m=\u001b[0m\u001b[0mTrue\u001b[0m\u001b[0;34m\u001b[0m\u001b[0m\n\u001b[1;32m      2\u001b[0m \u001b[0mpar\u001b[0m\u001b[0;34m.\u001b[0m\u001b[0msaveRotatedInput\u001b[0m\u001b[0;34m=\u001b[0m\u001b[0mTrue\u001b[0m\u001b[0;34m\u001b[0m\u001b[0m\n\u001b[0;32m----> 3\u001b[0;31m \u001b[0mtestCreateFlatfield\u001b[0m\u001b[0;34m(\u001b[0m\u001b[0mpar\u001b[0m\u001b[0;34m,\u001b[0m\u001b[0museQE\u001b[0m\u001b[0;34m=\u001b[0m\u001b[0mTrue\u001b[0m\u001b[0;34m)\u001b[0m\u001b[0;34m\u001b[0m\u001b[0m\n\u001b[0m",
      "\u001b[0;32m/Users/mrizzo/IFS/crispy/crispy/unitTests.pyc\u001b[0m in \u001b[0;36mtestCreateFlatfield\u001b[0;34m(par, pixsize, npix, pixval, Nspec, outname, useQE, method)\u001b[0m\n\u001b[1;32m    147\u001b[0m     \u001b[0minCube\u001b[0m\u001b[0;34m[\u001b[0m\u001b[0;36m0\u001b[0m\u001b[0;34m]\u001b[0m\u001b[0;34m.\u001b[0m\u001b[0mheader\u001b[0m\u001b[0;34m[\u001b[0m\u001b[0;34m'PIXSIZE'\u001b[0m\u001b[0;34m]\u001b[0m \u001b[0;34m=\u001b[0m \u001b[0mpixsize\u001b[0m\u001b[0;34m\u001b[0m\u001b[0m\n\u001b[1;32m    148\u001b[0m     \u001b[0minCube\u001b[0m\u001b[0;34m.\u001b[0m\u001b[0mwriteto\u001b[0m\u001b[0;34m(\u001b[0m\u001b[0mpar\u001b[0m\u001b[0;34m.\u001b[0m\u001b[0munitTestsOutputs\u001b[0m\u001b[0;34m+\u001b[0m\u001b[0;34m'/flatfield_input.fits'\u001b[0m\u001b[0;34m,\u001b[0m\u001b[0mclobber\u001b[0m\u001b[0;34m=\u001b[0m\u001b[0mTrue\u001b[0m\u001b[0;34m)\u001b[0m\u001b[0;34m\u001b[0m\u001b[0m\n\u001b[0;32m--> 149\u001b[0;31m     \u001b[0mdetectorFrame\u001b[0m \u001b[0;34m=\u001b[0m \u001b[0mpolychromeIFS\u001b[0m\u001b[0;34m(\u001b[0m\u001b[0mpar\u001b[0m\u001b[0;34m,\u001b[0m\u001b[0mlam_midpts\u001b[0m\u001b[0;34m,\u001b[0m\u001b[0minCube\u001b[0m\u001b[0;34m[\u001b[0m\u001b[0;36m0\u001b[0m\u001b[0;34m]\u001b[0m\u001b[0;34m,\u001b[0m\u001b[0mparallel\u001b[0m\u001b[0;34m=\u001b[0m\u001b[0mTrue\u001b[0m\u001b[0;34m,\u001b[0m\u001b[0mwavelist_endpts\u001b[0m\u001b[0;34m=\u001b[0m\u001b[0mlam_endpts\u001b[0m\u001b[0;34m,\u001b[0m\u001b[0mQE\u001b[0m\u001b[0;34m=\u001b[0m\u001b[0museQE\u001b[0m\u001b[0;34m)\u001b[0m\u001b[0;34m\u001b[0m\u001b[0m\n\u001b[0m\u001b[1;32m    150\u001b[0m     \u001b[0mImage\u001b[0m\u001b[0;34m(\u001b[0m\u001b[0mdata\u001b[0m\u001b[0;34m=\u001b[0m\u001b[0mdetectorFrame\u001b[0m\u001b[0;34m,\u001b[0m\u001b[0mheader\u001b[0m\u001b[0;34m=\u001b[0m\u001b[0mpar\u001b[0m\u001b[0;34m.\u001b[0m\u001b[0mhdr\u001b[0m\u001b[0;34m)\u001b[0m\u001b[0;34m.\u001b[0m\u001b[0mwrite\u001b[0m\u001b[0;34m(\u001b[0m\u001b[0mpar\u001b[0m\u001b[0;34m.\u001b[0m\u001b[0munitTestsOutputs\u001b[0m\u001b[0;34m+\u001b[0m\u001b[0;34m'/'\u001b[0m\u001b[0;34m+\u001b[0m\u001b[0moutname\u001b[0m\u001b[0;34m,\u001b[0m\u001b[0mclobber\u001b[0m\u001b[0;34m=\u001b[0m\u001b[0mTrue\u001b[0m\u001b[0;34m)\u001b[0m\u001b[0;34m\u001b[0m\u001b[0m\n\u001b[1;32m    151\u001b[0m \u001b[0;34m\u001b[0m\u001b[0m\n",
      "\u001b[0;32m/Users/mrizzo/IFS/crispy/crispy/IFS.pyc\u001b[0m in \u001b[0;36mpolychromeIFS\u001b[0;34m(par, wavelist, inputcube, name, parallel, QE, wavelist_endpts, dlambda, lam_arr)\u001b[0m\n\u001b[1;32m    234\u001b[0m \u001b[0;34m\u001b[0m\u001b[0m\n\u001b[1;32m    235\u001b[0m         \u001b[0;32mfor\u001b[0m \u001b[0mi\u001b[0m \u001b[0;32min\u001b[0m \u001b[0mrange\u001b[0m\u001b[0;34m(\u001b[0m\u001b[0mlen\u001b[0m\u001b[0;34m(\u001b[0m\u001b[0mwaveList\u001b[0m\u001b[0;34m)\u001b[0m\u001b[0;34m)\u001b[0m\u001b[0;34m:\u001b[0m\u001b[0;34m\u001b[0m\u001b[0m\n\u001b[0;32m--> 236\u001b[0;31m             \u001b[0mimagePlaneRot\u001b[0m \u001b[0;34m=\u001b[0m \u001b[0;34m(\u001b[0m\u001b[0mwavelist_endpts\u001b[0m\u001b[0;34m[\u001b[0m\u001b[0mi\u001b[0m \u001b[0;34m+\u001b[0m \u001b[0;36m1\u001b[0m\u001b[0;34m]\u001b[0m\u001b[0;34m-\u001b[0m\u001b[0mwavelist_endpts\u001b[0m\u001b[0;34m[\u001b[0m\u001b[0mi\u001b[0m\u001b[0;34m]\u001b[0m\u001b[0;34m)\u001b[0m\u001b[0;34m*\u001b[0m\u001b[0mprocessImagePlane\u001b[0m\u001b[0;34m(\u001b[0m\u001b[0mpar\u001b[0m\u001b[0;34m,\u001b[0m\u001b[0minterpolatedInputCube\u001b[0m\u001b[0;34m.\u001b[0m\u001b[0mdata\u001b[0m\u001b[0;34m[\u001b[0m\u001b[0mi\u001b[0m\u001b[0;34m]\u001b[0m\u001b[0;34m)\u001b[0m\u001b[0;34m\u001b[0m\u001b[0m\n\u001b[0m\u001b[1;32m    237\u001b[0m             \u001b[0minputCube\u001b[0m \u001b[0;34m+=\u001b[0m \u001b[0;34m[\u001b[0m\u001b[0mimagePlaneRot\u001b[0m\u001b[0;34m]\u001b[0m\u001b[0;34m\u001b[0m\u001b[0m\n\u001b[1;32m    238\u001b[0m             tasks.put(Task(i, propagateLenslets, (par,imagePlaneRot,\n",
      "\u001b[0;32m/Users/mrizzo/IFS/crispy/crispy/tools/lenslet.pyc\u001b[0m in \u001b[0;36mprocessImagePlane\u001b[0;34m(par, imagePlane)\u001b[0m\n\u001b[1;32m     49\u001b[0m     \u001b[0mpaddedImagePlane\u001b[0m\u001b[0;34m[\u001b[0m\u001b[0mxpad\u001b[0m\u001b[0;34m:\u001b[0m\u001b[0;34m-\u001b[0m\u001b[0mxpad\u001b[0m\u001b[0;34m,\u001b[0m\u001b[0mypad\u001b[0m\u001b[0;34m:\u001b[0m\u001b[0;34m-\u001b[0m\u001b[0mypad\u001b[0m\u001b[0;34m]\u001b[0m \u001b[0;34m=\u001b[0m \u001b[0mimagePlane\u001b[0m\u001b[0;34m\u001b[0m\u001b[0m\n\u001b[1;32m     50\u001b[0m \u001b[0;34m\u001b[0m\u001b[0m\n\u001b[0;32m---> 51\u001b[0;31m     \u001b[0mimagePlaneRot\u001b[0m \u001b[0;34m=\u001b[0m \u001b[0mRotate\u001b[0m\u001b[0;34m(\u001b[0m\u001b[0mpaddedImagePlane\u001b[0m\u001b[0;34m,\u001b[0m\u001b[0mpar\u001b[0m\u001b[0;34m.\u001b[0m\u001b[0mphilens\u001b[0m\u001b[0;34m,\u001b[0m\u001b[0mclip\u001b[0m\u001b[0;34m=\u001b[0m\u001b[0mFalse\u001b[0m\u001b[0;34m)\u001b[0m\u001b[0;34m\u001b[0m\u001b[0m\n\u001b[0m\u001b[1;32m     52\u001b[0m \u001b[0;34m\u001b[0m\u001b[0m\n\u001b[1;32m     53\u001b[0m     \u001b[0;31m######################################################################\u001b[0m\u001b[0;34m\u001b[0m\u001b[0;34m\u001b[0m\u001b[0m\n",
      "\u001b[0;32m/Users/mrizzo/IFS/crispy/crispy/tools/rotate.pyc\u001b[0m in \u001b[0;36mRotate\u001b[0;34m(image, phi, clip, order)\u001b[0m\n\u001b[1;32m     35\u001b[0m     \u001b[0mr\u001b[0m \u001b[0;34m=\u001b[0m \u001b[0mnp\u001b[0m\u001b[0;34m.\u001b[0m\u001b[0msqrt\u001b[0m\u001b[0;34m(\u001b[0m\u001b[0mx\u001b[0m\u001b[0;34m**\u001b[0m\u001b[0;36m2\u001b[0m \u001b[0;34m+\u001b[0m \u001b[0my\u001b[0m\u001b[0;34m**\u001b[0m\u001b[0;36m2\u001b[0m\u001b[0;34m)\u001b[0m\u001b[0;34m\u001b[0m\u001b[0m\n\u001b[1;32m     36\u001b[0m     \u001b[0mtheta\u001b[0m \u001b[0;34m=\u001b[0m \u001b[0mnp\u001b[0m\u001b[0;34m.\u001b[0m\u001b[0marctan2\u001b[0m\u001b[0;34m(\u001b[0m\u001b[0my\u001b[0m\u001b[0;34m,\u001b[0m \u001b[0mx\u001b[0m\u001b[0;34m)\u001b[0m\u001b[0;34m\u001b[0m\u001b[0m\n\u001b[0;32m---> 37\u001b[0;31m     \u001b[0mx\u001b[0m \u001b[0;34m=\u001b[0m \u001b[0mr\u001b[0m\u001b[0;34m*\u001b[0m\u001b[0mnp\u001b[0m\u001b[0;34m.\u001b[0m\u001b[0mcos\u001b[0m\u001b[0;34m(\u001b[0m\u001b[0mtheta\u001b[0m \u001b[0;34m+\u001b[0m \u001b[0mphi\u001b[0m\u001b[0;34m)\u001b[0m \u001b[0;34m+\u001b[0m \u001b[0mmed_n\u001b[0m\u001b[0;34m\u001b[0m\u001b[0m\n\u001b[0m\u001b[1;32m     38\u001b[0m     \u001b[0my\u001b[0m \u001b[0;34m=\u001b[0m \u001b[0mr\u001b[0m\u001b[0;34m*\u001b[0m\u001b[0mnp\u001b[0m\u001b[0;34m.\u001b[0m\u001b[0msin\u001b[0m\u001b[0;34m(\u001b[0m\u001b[0mtheta\u001b[0m \u001b[0;34m+\u001b[0m \u001b[0mphi\u001b[0m\u001b[0;34m)\u001b[0m \u001b[0;34m+\u001b[0m \u001b[0mmed_n\u001b[0m\u001b[0;34m\u001b[0m\u001b[0m\n\u001b[1;32m     39\u001b[0m \u001b[0;34m\u001b[0m\u001b[0m\n",
      "\u001b[0;31mKeyboardInterrupt\u001b[0m: "
     ]
    }
   ],
   "source": [
    "par.savePoly=True\n",
    "par.saveRotatedInput=True\n",
    "testCreateFlatfield(par,useQE=True)\n"
   ]
  },
  {
   "cell_type": "markdown",
   "metadata": {},
   "source": [
    "### reduce flatfield"
   ]
  },
  {
   "cell_type": "code",
   "execution_count": null,
   "metadata": {
    "collapsed": false
   },
   "outputs": [],
   "source": [
    "reduceIFSMap(par,par.unitTestsOutputs+'/flatfield.fits')"
   ]
  },
  {
   "cell_type": "code",
   "execution_count": null,
   "metadata": {
    "collapsed": true
   },
   "outputs": [],
   "source": []
  },
  {
   "cell_type": "code",
   "execution_count": null,
   "metadata": {
    "collapsed": false,
    "scrolled": true
   },
   "outputs": [],
   "source": [
    "par.nonoise=True\n",
    "os5folder = '/Users/mrizzo/IFS/OS5/with_lowfc'\n",
    "offaxispsf= '/Users/mrizzo/IFS/OS5/offaxis/spc_offaxis_psf.fits'\n",
    "signal,noise,noiseleft = process_SPC_IFS(par,os5folder,offaxispsf,\n",
    "                outdir_time_series = '/Users/mrizzo/IFS/OS5/',outdir_detector='/Users/mrizzo/IFS/OS5/OS5_detector',\n",
    "                outdir_average='/Users/mrizzo/IFS/OS5/OS5_average',\n",
    "                pp_fact=1.00,\n",
    "                t_zodi=0.00,\n",
    "                subtract_ref_psf=False,\n",
    "                process_cubes=False,\n",
    "                process_offaxis=False,\n",
    "                process_detector=True,\n",
    "                take_averages=True,\n",
    "                parallel=False)\n",
    "np.savetxt(par.exportDir+\"/signal.txt\",signal)\n",
    "np.savetxt(par.exportDir+\"/noise.txt\",noise)\n",
    "np.savetxt(par.exportDir+\"/noiseleft.txt\",noiseleft)"
   ]
  },
  {
   "cell_type": "code",
   "execution_count": null,
   "metadata": {
    "collapsed": false
   },
   "outputs": [],
   "source": [
    "from crispy.tools.reduction import calculateWaveList\n",
    "signal = np.loadtxt(par.exportDir+\"/signal.txt\")\n",
    "noise = np.loadtxt(par.exportDir+\"/noise.txt\")\n",
    "lam_midpts,junk = calculateWaveList(par)\n",
    "wavelist = 770*np.linspace(1.-0.18/2.,1.+0.18/2.,45)\n",
    "SNR_spectrum(lam_midpts,signal,noise,lam_contrast=wavelist,outfolder=par.exportDir+\"/\",FWHM=2.*44./19.)\n",
    "\n"
   ]
  },
  {
   "cell_type": "code",
   "execution_count": null,
   "metadata": {
    "collapsed": false
   },
   "outputs": [],
   "source": [
    "from astropy.io import fits\n",
    "test = fits.open('/local/data/nicolaus2/mrizzo/crispy/crispy/OS5/os5_spc_031_targetstar_IFS.fits')[1].data\n",
    "print(np.sum(test))"
   ]
  },
  {
   "cell_type": "code",
   "execution_count": null,
   "metadata": {
    "collapsed": false
   },
   "outputs": [],
   "source": [
    "from crispy.tools.inputScene import adjust_krist_header\n",
    "from crispy.tools.image import Image\n",
    "offaxispsf= '/Users/mrizzo/IFS/OS5/offaxis/spc_offaxis_psf.fits'\n",
    "cube = Image(offaxispsf)\n",
    "cube.header\n",
    "adjust_krist_header(cube,lamc=770.)\n",
    "cube.header"
   ]
  },
  {
   "cell_type": "markdown",
   "metadata": {},
   "source": [
    "## Test least-square normalization of cube"
   ]
  },
  {
   "cell_type": "code",
   "execution_count": null,
   "metadata": {
    "collapsed": false
   },
   "outputs": [],
   "source": [
    "from crispy.tools.image import Image\n",
    "img2 = Image(par.exportDir+\"/average_ref_star_detector_red_optext.fits\")\n",
    "img1 = Image(par.exportDir+\"/average_target_star_detector_red_optext.fits\")\n",
    "ydim,xdim = img1.data[0].shape\n",
    "mask,junk = bowtie(img1.data[0],ydim//2,xdim//2,openingAngle=65,\n",
    "            clocking=-par.philens*180./np.pi,IWApix=4*0.77/0.6,OWApix=22*0.77/0.6,\n",
    "            export=None,twomasks=False)\n",
    "coefs,diff = scale2imgs(img1,img2,mask=mask,returndiff = True)\n",
    "Image(data=diff).write(par.exportDir+\"/test_lstsqdiff.fits\")\n",
    "print(coefs)"
   ]
  },
  {
   "cell_type": "code",
   "execution_count": null,
   "metadata": {
    "collapsed": false
   },
   "outputs": [],
   "source": [
    "from crispy.tools.rotate import Rotate,Shift\n",
    "#test = Rotate(diff,par.philens,clip=False)\n",
    "outcube = [Rotate(diff[i],-par.philens,True,order=1) for i in range(diff.shape[0])]\n",
    "Image(data=np.array(outcube)).write(par.exportDir+\"/test_rotate_cube.fits\")\n"
   ]
  }
 ],
 "metadata": {
  "kernelspec": {
   "display_name": "Python 2",
   "language": "python",
   "name": "python2"
  },
  "language_info": {
   "codemirror_mode": {
    "name": "ipython",
    "version": 2
   },
   "file_extension": ".py",
   "mimetype": "text/x-python",
   "name": "python",
   "nbconvert_exporter": "python",
   "pygments_lexer": "ipython2",
   "version": "2.7.13"
  }
 },
 "nbformat": 4,
 "nbformat_minor": 1
}
