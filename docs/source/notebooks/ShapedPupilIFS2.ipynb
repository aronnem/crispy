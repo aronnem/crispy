{
 "cells": [
  {
   "cell_type": "code",
   "execution_count": 1,
   "metadata": {
    "collapsed": false
   },
   "outputs": [
    {
     "name": "stdout",
     "output_type": "stream",
     "text": [
      "Populating the interactive namespace from numpy and matplotlib\n",
      "/local/data/nicolaus2/mrizzo/crispy\n"
     ]
    },
    {
     "name": "stderr",
     "output_type": "stream",
     "text": [
      "/local/data/nicolaus2/mrizzo/anaconda/lib/python2.7/site-packages/astropy/analytic_functions/blackbody.py:30: RuntimeWarning: overflow encountered in expm1\n",
      "  _has_buggy_expm1 = np.isnan(np.expm1(1000))\n"
     ]
    }
   ],
   "source": [
    "%pylab inline --no-import-all\n",
    "matplotlib.rcParams['image.origin'] = 'lower'\n",
    "matplotlib.rcParams['image.interpolation'] = 'nearest'\n",
    "import sys\n",
    "import os\n",
    "\n",
    "folder = '/local/data/nicolaus2/mrizzo/crispy'\n",
    "print(folder)\n",
    "if folder not in sys.path: sys.path.append(folder)\n",
    "\n",
    "from crispy.IFS import propagateIFS\n",
    "from crispy.params import Params\n",
    "folder = '/local/data/nicolaus2/mrizzo/crispy/crispy'\n",
    "\n",
    "os.chdir(folder)\n",
    "par = Params()\n",
    "par.saveRotatedInput = False\n",
    "par.saveDetector = False\n",
    "\n",
    "from crispy.tools.postprocessing import process_SPC_IFS\n",
    "\n",
    "from crispy.tools.initLogger import getLogger\n",
    "log = getLogger('crispy')"
   ]
  },
  {
   "cell_type": "code",
   "execution_count": 2,
   "metadata": {
    "collapsed": false,
    "scrolled": true
   },
   "outputs": [
    {
     "name": "stdout",
     "output_type": "stream",
     "text": [
      "crispy - INFO - Reduced cube will have 17 wavelength bins\n",
      "crispy - INFO - Reduced cube will have 17 wavelength bins\n"
     ]
    },
    {
     "name": "stderr",
     "output_type": "stream",
     "text": [
      "INFO:crispy:Reduced cube will have 17 wavelength bins\n"
     ]
    },
    {
     "name": "stdout",
     "output_type": "stream",
     "text": [
      "crispy - INFO - The number of input pixels per lenslet is 3.911980\n",
      "crispy - INFO - The number of input pixels per lenslet is 3.911980\n"
     ]
    },
    {
     "name": "stderr",
     "output_type": "stream",
     "text": [
      "INFO:crispy:The number of input pixels per lenslet is 3.911980\n"
     ]
    },
    {
     "name": "stdout",
     "output_type": "stream",
     "text": [
      "crispy - INFO - Using PSFlet gaussian approximation\n",
      "crispy - INFO - Using PSFlet gaussian approximation\n"
     ]
    },
    {
     "name": "stderr",
     "output_type": "stream",
     "text": [
      "INFO:crispy:Using PSFlet gaussian approximation\n"
     ]
    },
    {
     "name": "stdout",
     "output_type": "stream",
     "text": [
      "crispy - INFO - Final detector pixel per PSFLet: 40.000000\n",
      "crispy - INFO - Final detector pixel per PSFLet: 40.000000\n"
     ]
    },
    {
     "name": "stderr",
     "output_type": "stream",
     "text": [
      "INFO:crispy:Final detector pixel per PSFLet: 40.000000\n"
     ]
    },
    {
     "name": "stdout",
     "output_type": "stream",
     "text": [
      "crispy - INFO - Processing wavelength 0.704430 (0 out of 17)\n",
      "crispy - INFO - Processing wavelength 0.704430 (0 out of 17)\n"
     ]
    },
    {
     "name": "stderr",
     "output_type": "stream",
     "text": [
      "INFO:crispy:Processing wavelength 0.704430 (0 out of 17)\n",
      "DEBUG:crispy:Input plane is 185x185\n"
     ]
    },
    {
     "name": "stdout",
     "output_type": "stream",
     "text": [
      "crispy - INFO - Processing wavelength 0.711948 (1 out of 17)\n",
      "crispy - INFO - Processing wavelength 0.711948 (1 out of 17)\n"
     ]
    },
    {
     "name": "stderr",
     "output_type": "stream",
     "text": [
      "INFO:crispy:Processing wavelength 0.711948 (1 out of 17)\n",
      "DEBUG:crispy:Input plane is 185x185\n"
     ]
    },
    {
     "name": "stdout",
     "output_type": "stream",
     "text": [
      "crispy - INFO - Processing wavelength 0.719547 (2 out of 17)\n",
      "crispy - INFO - Processing wavelength 0.719547 (2 out of 17)\n"
     ]
    },
    {
     "name": "stderr",
     "output_type": "stream",
     "text": [
      "INFO:crispy:Processing wavelength 0.719547 (2 out of 17)\n",
      "DEBUG:crispy:Input plane is 185x185\n"
     ]
    },
    {
     "name": "stdout",
     "output_type": "stream",
     "text": [
      "crispy - INFO - Processing wavelength 0.727227 (3 out of 17)\n",
      "crispy - INFO - Processing wavelength 0.727227 (3 out of 17)\n"
     ]
    },
    {
     "name": "stderr",
     "output_type": "stream",
     "text": [
      "INFO:crispy:Processing wavelength 0.727227 (3 out of 17)\n",
      "DEBUG:crispy:Input plane is 185x185\n"
     ]
    },
    {
     "name": "stdout",
     "output_type": "stream",
     "text": [
      "crispy - INFO - Processing wavelength 0.734989 (4 out of 17)\n",
      "crispy - INFO - Processing wavelength 0.734989 (4 out of 17)\n"
     ]
    },
    {
     "name": "stderr",
     "output_type": "stream",
     "text": [
      "INFO:crispy:Processing wavelength 0.734989 (4 out of 17)\n",
      "DEBUG:crispy:Input plane is 185x185\n"
     ]
    },
    {
     "name": "stdout",
     "output_type": "stream",
     "text": [
      "crispy - INFO - Processing wavelength 0.742834 (5 out of 17)\n",
      "crispy - INFO - Processing wavelength 0.742834 (5 out of 17)\n"
     ]
    },
    {
     "name": "stderr",
     "output_type": "stream",
     "text": [
      "INFO:crispy:Processing wavelength 0.742834 (5 out of 17)\n",
      "DEBUG:crispy:Input plane is 185x185\n"
     ]
    },
    {
     "name": "stdout",
     "output_type": "stream",
     "text": [
      "crispy - INFO - Processing wavelength 0.750763 (6 out of 17)\n",
      "crispy - INFO - Processing wavelength 0.750763 (6 out of 17)\n"
     ]
    },
    {
     "name": "stderr",
     "output_type": "stream",
     "text": [
      "INFO:crispy:Processing wavelength 0.750763 (6 out of 17)\n",
      "DEBUG:crispy:Input plane is 185x185\n"
     ]
    },
    {
     "name": "stdout",
     "output_type": "stream",
     "text": [
      "crispy - INFO - Processing wavelength 0.758776 (7 out of 17)\n",
      "crispy - INFO - Processing wavelength 0.758776 (7 out of 17)\n"
     ]
    },
    {
     "name": "stderr",
     "output_type": "stream",
     "text": [
      "INFO:crispy:Processing wavelength 0.758776 (7 out of 17)\n",
      "DEBUG:crispy:Input plane is 185x185\n"
     ]
    },
    {
     "name": "stdout",
     "output_type": "stream",
     "text": [
      "crispy - INFO - Processing wavelength 0.766875 (8 out of 17)\n",
      "crispy - INFO - Processing wavelength 0.766875 (8 out of 17)\n"
     ]
    },
    {
     "name": "stderr",
     "output_type": "stream",
     "text": [
      "INFO:crispy:Processing wavelength 0.766875 (8 out of 17)\n",
      "DEBUG:crispy:Input plane is 185x185\n"
     ]
    },
    {
     "name": "stdout",
     "output_type": "stream",
     "text": [
      "crispy - INFO - Processing wavelength 0.775060 (9 out of 17)\n",
      "crispy - INFO - Processing wavelength 0.775060 (9 out of 17)\n"
     ]
    },
    {
     "name": "stderr",
     "output_type": "stream",
     "text": [
      "INFO:crispy:Processing wavelength 0.775060 (9 out of 17)\n",
      "DEBUG:crispy:Input plane is 185x185\n"
     ]
    },
    {
     "name": "stdout",
     "output_type": "stream",
     "text": [
      "crispy - INFO - Processing wavelength 0.783333 (10 out of 17)\n",
      "crispy - INFO - Processing wavelength 0.783333 (10 out of 17)\n"
     ]
    },
    {
     "name": "stderr",
     "output_type": "stream",
     "text": [
      "INFO:crispy:Processing wavelength 0.783333 (10 out of 17)\n",
      "DEBUG:crispy:Input plane is 185x185\n"
     ]
    },
    {
     "name": "stdout",
     "output_type": "stream",
     "text": [
      "crispy - INFO - Processing wavelength 0.791694 (11 out of 17)\n",
      "crispy - INFO - Processing wavelength 0.791694 (11 out of 17)\n"
     ]
    },
    {
     "name": "stderr",
     "output_type": "stream",
     "text": [
      "INFO:crispy:Processing wavelength 0.791694 (11 out of 17)\n",
      "DEBUG:crispy:Input plane is 185x185\n"
     ]
    },
    {
     "name": "stdout",
     "output_type": "stream",
     "text": [
      "crispy - INFO - Processing wavelength 0.800144 (12 out of 17)\n",
      "crispy - INFO - Processing wavelength 0.800144 (12 out of 17)\n"
     ]
    },
    {
     "name": "stderr",
     "output_type": "stream",
     "text": [
      "INFO:crispy:Processing wavelength 0.800144 (12 out of 17)\n",
      "DEBUG:crispy:Input plane is 185x185\n"
     ]
    },
    {
     "name": "stdout",
     "output_type": "stream",
     "text": [
      "crispy - INFO - Processing wavelength 0.808684 (13 out of 17)\n",
      "crispy - INFO - Processing wavelength 0.808684 (13 out of 17)\n"
     ]
    },
    {
     "name": "stderr",
     "output_type": "stream",
     "text": [
      "INFO:crispy:Processing wavelength 0.808684 (13 out of 17)\n",
      "DEBUG:crispy:Input plane is 185x185\n"
     ]
    },
    {
     "name": "stdout",
     "output_type": "stream",
     "text": [
      "crispy - INFO - Processing wavelength 0.817316 (14 out of 17)\n",
      "crispy - INFO - Processing wavelength 0.817316 (14 out of 17)\n"
     ]
    },
    {
     "name": "stderr",
     "output_type": "stream",
     "text": [
      "INFO:crispy:Processing wavelength 0.817316 (14 out of 17)\n",
      "DEBUG:crispy:Input plane is 185x185\n"
     ]
    },
    {
     "name": "stdout",
     "output_type": "stream",
     "text": [
      "crispy - INFO - Processing wavelength 0.826040 (15 out of 17)\n",
      "crispy - INFO - Processing wavelength 0.826040 (15 out of 17)\n"
     ]
    },
    {
     "name": "stderr",
     "output_type": "stream",
     "text": [
      "INFO:crispy:Processing wavelength 0.826040 (15 out of 17)\n",
      "DEBUG:crispy:Input plane is 185x185\n"
     ]
    },
    {
     "name": "stdout",
     "output_type": "stream",
     "text": [
      "crispy - INFO - Processing wavelength 0.834856 (16 out of 17)\n",
      "crispy - INFO - Processing wavelength 0.834856 (16 out of 17)\n"
     ]
    },
    {
     "name": "stderr",
     "output_type": "stream",
     "text": [
      "INFO:crispy:Processing wavelength 0.834856 (16 out of 17)\n",
      "DEBUG:crispy:Input plane is 185x185\n"
     ]
    },
    {
     "name": "stdout",
     "output_type": "stream",
     "text": [
      "crispy - INFO - Number of detector pixels per lenslet: 13.384615\n",
      "crispy - INFO - Number of detector pixels per lenslet: 13.384615\n"
     ]
    },
    {
     "name": "stderr",
     "output_type": "stream",
     "text": [
      "INFO:crispy:Number of detector pixels per lenslet: 13.384615\n"
     ]
    },
    {
     "name": "stdout",
     "output_type": "stream",
     "text": [
      "crispy - INFO - Rebinning final detector. Image has dimensions 1024x1024\n",
      "crispy - INFO - Rebinning final detector. Image has dimensions 1024x1024\n"
     ]
    },
    {
     "name": "stderr",
     "output_type": "stream",
     "text": [
      "INFO:crispy:Rebinning final detector. Image has dimensions 1024x1024\n"
     ]
    },
    {
     "name": "stdout",
     "output_type": "stream",
     "text": [
      "crispy - INFO - Done.\n",
      "crispy - INFO - Done.\n"
     ]
    },
    {
     "name": "stderr",
     "output_type": "stream",
     "text": [
      "INFO:crispy:Done.\n"
     ]
    },
    {
     "name": "stdout",
     "output_type": "stream",
     "text": [
      "crispy - INFO - Performance: 35 seconds total\n",
      "crispy - INFO - Performance: 35 seconds total\n"
     ]
    },
    {
     "name": "stderr",
     "output_type": "stream",
     "text": [
      "INFO:crispy:Performance: 35 seconds total\n"
     ]
    },
    {
     "name": "stdout",
     "output_type": "stream",
     "text": [
      "crispy - INFO - Writing data to ./unitTestsOutputs/flatfield.fits\n",
      "crispy - INFO - Writing data to ./unitTestsOutputs/flatfield.fits\n"
     ]
    },
    {
     "name": "stderr",
     "output_type": "stream",
     "text": [
      "INFO:crispy:Writing data to ./unitTestsOutputs/flatfield.fits\n"
     ]
    }
   ],
   "source": [
    "from unitTests import testCreateFlatfield\n",
    "testCreateFlatfield(par)\n"
   ]
  },
  {
   "cell_type": "code",
   "execution_count": 4,
   "metadata": {
    "collapsed": false,
    "scrolled": true
   },
   "outputs": [
    {
     "name": "stdout",
     "output_type": "stream",
     "text": [
      "crispy - INFO - Read data from HDU 0 of /local/data/nicolaus2/mrizzo/haystacks/for_gsfc/with_lowfc/os5_spc_001.fits\n",
      "crispy - INFO - Read data from HDU 0 of /local/data/nicolaus2/mrizzo/haystacks/for_gsfc/with_lowfc/os5_spc_001.fits\n"
     ]
    },
    {
     "name": "stderr",
     "output_type": "stream",
     "text": [
      "INFO:crispy:Read data from HDU 0 of /local/data/nicolaus2/mrizzo/haystacks/for_gsfc/with_lowfc/os5_spc_001.fits\n"
     ]
    },
    {
     "name": "stdout",
     "output_type": "stream",
     "text": [
      "crispy - INFO - Processing file os5_spc_001.fits\n",
      "crispy - INFO - Processing file os5_spc_001.fits\n"
     ]
    },
    {
     "name": "stderr",
     "output_type": "stream",
     "text": [
      "INFO:crispy:Processing file os5_spc_001.fits\n",
      "DEBUG:crispy:Modifying cube header\n"
     ]
    },
    {
     "name": "stdout",
     "output_type": "stream",
     "text": [
      "crispy - INFO - The number of input pixels per lenslet is 3.896104\n",
      "crispy - INFO - The number of input pixels per lenslet is 3.896104\n"
     ]
    },
    {
     "name": "stderr",
     "output_type": "stream",
     "text": [
      "INFO:crispy:The number of input pixels per lenslet is 3.896104\n"
     ]
    },
    {
     "name": "stdout",
     "output_type": "stream",
     "text": [
      "crispy - INFO - Using PSFlet gaussian approximation\n",
      "crispy - INFO - Using PSFlet gaussian approximation\n"
     ]
    },
    {
     "name": "stderr",
     "output_type": "stream",
     "text": [
      "INFO:crispy:Using PSFlet gaussian approximation\n"
     ]
    },
    {
     "name": "stdout",
     "output_type": "stream",
     "text": [
      "crispy - INFO - Final detector pixel per PSFLet: 40.000000\n",
      "crispy - INFO - Final detector pixel per PSFLet: 40.000000\n"
     ]
    },
    {
     "name": "stderr",
     "output_type": "stream",
     "text": [
      "INFO:crispy:Final detector pixel per PSFLet: 40.000000\n"
     ]
    },
    {
     "name": "stdout",
     "output_type": "stream",
     "text": [
      "crispy - INFO - Processing wavelength 0.700700 (0 out of 45)\n",
      "crispy - INFO - Processing wavelength 0.700700 (0 out of 45)\n"
     ]
    },
    {
     "name": "stderr",
     "output_type": "stream",
     "text": [
      "INFO:crispy:Processing wavelength 0.700700 (0 out of 45)\n",
      "DEBUG:crispy:Input plane is 114x114\n"
     ]
    },
    {
     "name": "stdout",
     "output_type": "stream",
     "text": [
      "crispy - INFO - Processing wavelength 0.703850 (1 out of 45)\n",
      "crispy - INFO - Processing wavelength 0.703850 (1 out of 45)\n"
     ]
    },
    {
     "name": "stderr",
     "output_type": "stream",
     "text": [
      "INFO:crispy:Processing wavelength 0.703850 (1 out of 45)\n",
      "DEBUG:crispy:Input plane is 114x114\n"
     ]
    },
    {
     "name": "stdout",
     "output_type": "stream",
     "text": [
      "crispy - INFO - Processing wavelength 0.707000 (2 out of 45)\n",
      "crispy - INFO - Processing wavelength 0.707000 (2 out of 45)\n"
     ]
    },
    {
     "name": "stderr",
     "output_type": "stream",
     "text": [
      "INFO:crispy:Processing wavelength 0.707000 (2 out of 45)\n",
      "DEBUG:crispy:Input plane is 114x114\n"
     ]
    },
    {
     "name": "stdout",
     "output_type": "stream",
     "text": [
      "crispy - INFO - Processing wavelength 0.710150 (3 out of 45)\n",
      "crispy - INFO - Processing wavelength 0.710150 (3 out of 45)\n"
     ]
    },
    {
     "name": "stderr",
     "output_type": "stream",
     "text": [
      "INFO:crispy:Processing wavelength 0.710150 (3 out of 45)\n",
      "DEBUG:crispy:Input plane is 114x114\n"
     ]
    },
    {
     "name": "stdout",
     "output_type": "stream",
     "text": [
      "crispy - INFO - Processing wavelength 0.713300 (4 out of 45)\n",
      "crispy - INFO - Processing wavelength 0.713300 (4 out of 45)\n"
     ]
    },
    {
     "name": "stderr",
     "output_type": "stream",
     "text": [
      "INFO:crispy:Processing wavelength 0.713300 (4 out of 45)\n",
      "DEBUG:crispy:Input plane is 114x114\n"
     ]
    },
    {
     "name": "stdout",
     "output_type": "stream",
     "text": [
      "crispy - INFO - Processing wavelength 0.716450 (5 out of 45)\n",
      "crispy - INFO - Processing wavelength 0.716450 (5 out of 45)\n"
     ]
    },
    {
     "name": "stderr",
     "output_type": "stream",
     "text": [
      "INFO:crispy:Processing wavelength 0.716450 (5 out of 45)\n",
      "DEBUG:crispy:Input plane is 114x114\n"
     ]
    },
    {
     "name": "stdout",
     "output_type": "stream",
     "text": [
      "crispy - INFO - Processing wavelength 0.719600 (6 out of 45)\n",
      "crispy - INFO - Processing wavelength 0.719600 (6 out of 45)\n"
     ]
    },
    {
     "name": "stderr",
     "output_type": "stream",
     "text": [
      "INFO:crispy:Processing wavelength 0.719600 (6 out of 45)\n",
      "DEBUG:crispy:Input plane is 114x114\n"
     ]
    },
    {
     "name": "stdout",
     "output_type": "stream",
     "text": [
      "crispy - INFO - Processing wavelength 0.722750 (7 out of 45)\n",
      "crispy - INFO - Processing wavelength 0.722750 (7 out of 45)\n"
     ]
    },
    {
     "name": "stderr",
     "output_type": "stream",
     "text": [
      "INFO:crispy:Processing wavelength 0.722750 (7 out of 45)\n",
      "DEBUG:crispy:Input plane is 114x114\n"
     ]
    },
    {
     "name": "stdout",
     "output_type": "stream",
     "text": [
      "crispy - INFO - Processing wavelength 0.725900 (8 out of 45)\n",
      "crispy - INFO - Processing wavelength 0.725900 (8 out of 45)\n"
     ]
    },
    {
     "name": "stderr",
     "output_type": "stream",
     "text": [
      "INFO:crispy:Processing wavelength 0.725900 (8 out of 45)\n",
      "DEBUG:crispy:Input plane is 114x114\n"
     ]
    },
    {
     "name": "stdout",
     "output_type": "stream",
     "text": [
      "crispy - INFO - Processing wavelength 0.729050 (9 out of 45)\n",
      "crispy - INFO - Processing wavelength 0.729050 (9 out of 45)\n"
     ]
    },
    {
     "name": "stderr",
     "output_type": "stream",
     "text": [
      "INFO:crispy:Processing wavelength 0.729050 (9 out of 45)\n",
      "DEBUG:crispy:Input plane is 114x114\n"
     ]
    },
    {
     "name": "stdout",
     "output_type": "stream",
     "text": [
      "crispy - INFO - Processing wavelength 0.732200 (10 out of 45)\n",
      "crispy - INFO - Processing wavelength 0.732200 (10 out of 45)\n"
     ]
    },
    {
     "name": "stderr",
     "output_type": "stream",
     "text": [
      "INFO:crispy:Processing wavelength 0.732200 (10 out of 45)\n",
      "DEBUG:crispy:Input plane is 114x114\n"
     ]
    },
    {
     "name": "stdout",
     "output_type": "stream",
     "text": [
      "crispy - INFO - Processing wavelength 0.735350 (11 out of 45)\n",
      "crispy - INFO - Processing wavelength 0.735350 (11 out of 45)\n"
     ]
    },
    {
     "name": "stderr",
     "output_type": "stream",
     "text": [
      "INFO:crispy:Processing wavelength 0.735350 (11 out of 45)\n",
      "DEBUG:crispy:Input plane is 114x114\n"
     ]
    },
    {
     "name": "stdout",
     "output_type": "stream",
     "text": [
      "crispy - INFO - Processing wavelength 0.738500 (12 out of 45)\n",
      "crispy - INFO - Processing wavelength 0.738500 (12 out of 45)\n"
     ]
    },
    {
     "name": "stderr",
     "output_type": "stream",
     "text": [
      "INFO:crispy:Processing wavelength 0.738500 (12 out of 45)\n",
      "DEBUG:crispy:Input plane is 114x114\n"
     ]
    },
    {
     "name": "stdout",
     "output_type": "stream",
     "text": [
      "crispy - INFO - Processing wavelength 0.741650 (13 out of 45)\n",
      "crispy - INFO - Processing wavelength 0.741650 (13 out of 45)\n"
     ]
    },
    {
     "name": "stderr",
     "output_type": "stream",
     "text": [
      "INFO:crispy:Processing wavelength 0.741650 (13 out of 45)\n",
      "DEBUG:crispy:Input plane is 114x114\n"
     ]
    },
    {
     "name": "stdout",
     "output_type": "stream",
     "text": [
      "crispy - INFO - Processing wavelength 0.744800 (14 out of 45)\n",
      "crispy - INFO - Processing wavelength 0.744800 (14 out of 45)\n"
     ]
    },
    {
     "name": "stderr",
     "output_type": "stream",
     "text": [
      "INFO:crispy:Processing wavelength 0.744800 (14 out of 45)\n",
      "DEBUG:crispy:Input plane is 114x114\n"
     ]
    },
    {
     "name": "stdout",
     "output_type": "stream",
     "text": [
      "crispy - INFO - Processing wavelength 0.747950 (15 out of 45)\n",
      "crispy - INFO - Processing wavelength 0.747950 (15 out of 45)\n"
     ]
    },
    {
     "name": "stderr",
     "output_type": "stream",
     "text": [
      "INFO:crispy:Processing wavelength 0.747950 (15 out of 45)\n",
      "DEBUG:crispy:Input plane is 114x114\n"
     ]
    },
    {
     "name": "stdout",
     "output_type": "stream",
     "text": [
      "crispy - INFO - Processing wavelength 0.751100 (16 out of 45)\n",
      "crispy - INFO - Processing wavelength 0.751100 (16 out of 45)\n"
     ]
    },
    {
     "name": "stderr",
     "output_type": "stream",
     "text": [
      "INFO:crispy:Processing wavelength 0.751100 (16 out of 45)\n",
      "DEBUG:crispy:Input plane is 114x114\n"
     ]
    },
    {
     "name": "stdout",
     "output_type": "stream",
     "text": [
      "crispy - INFO - Processing wavelength 0.754250 (17 out of 45)\n",
      "crispy - INFO - Processing wavelength 0.754250 (17 out of 45)\n"
     ]
    },
    {
     "name": "stderr",
     "output_type": "stream",
     "text": [
      "INFO:crispy:Processing wavelength 0.754250 (17 out of 45)\n",
      "DEBUG:crispy:Input plane is 114x114\n"
     ]
    },
    {
     "name": "stdout",
     "output_type": "stream",
     "text": [
      "crispy - INFO - Processing wavelength 0.757400 (18 out of 45)\n",
      "crispy - INFO - Processing wavelength 0.757400 (18 out of 45)\n"
     ]
    },
    {
     "name": "stderr",
     "output_type": "stream",
     "text": [
      "INFO:crispy:Processing wavelength 0.757400 (18 out of 45)\n",
      "DEBUG:crispy:Input plane is 114x114\n"
     ]
    },
    {
     "name": "stdout",
     "output_type": "stream",
     "text": [
      "crispy - INFO - Processing wavelength 0.760550 (19 out of 45)\n",
      "crispy - INFO - Processing wavelength 0.760550 (19 out of 45)\n"
     ]
    },
    {
     "name": "stderr",
     "output_type": "stream",
     "text": [
      "INFO:crispy:Processing wavelength 0.760550 (19 out of 45)\n",
      "DEBUG:crispy:Input plane is 114x114\n"
     ]
    },
    {
     "name": "stdout",
     "output_type": "stream",
     "text": [
      "crispy - INFO - Processing wavelength 0.763700 (20 out of 45)\n",
      "crispy - INFO - Processing wavelength 0.763700 (20 out of 45)\n"
     ]
    },
    {
     "name": "stderr",
     "output_type": "stream",
     "text": [
      "INFO:crispy:Processing wavelength 0.763700 (20 out of 45)\n",
      "DEBUG:crispy:Input plane is 114x114\n"
     ]
    },
    {
     "name": "stdout",
     "output_type": "stream",
     "text": [
      "crispy - INFO - Processing wavelength 0.766850 (21 out of 45)\n",
      "crispy - INFO - Processing wavelength 0.766850 (21 out of 45)\n"
     ]
    },
    {
     "name": "stderr",
     "output_type": "stream",
     "text": [
      "INFO:crispy:Processing wavelength 0.766850 (21 out of 45)\n",
      "DEBUG:crispy:Input plane is 114x114\n"
     ]
    },
    {
     "name": "stdout",
     "output_type": "stream",
     "text": [
      "crispy - INFO - Processing wavelength 0.770000 (22 out of 45)\n",
      "crispy - INFO - Processing wavelength 0.770000 (22 out of 45)\n"
     ]
    },
    {
     "name": "stderr",
     "output_type": "stream",
     "text": [
      "INFO:crispy:Processing wavelength 0.770000 (22 out of 45)\n",
      "DEBUG:crispy:Input plane is 114x114\n"
     ]
    },
    {
     "name": "stdout",
     "output_type": "stream",
     "text": [
      "crispy - INFO - Processing wavelength 0.773150 (23 out of 45)\n",
      "crispy - INFO - Processing wavelength 0.773150 (23 out of 45)\n"
     ]
    },
    {
     "name": "stderr",
     "output_type": "stream",
     "text": [
      "INFO:crispy:Processing wavelength 0.773150 (23 out of 45)\n",
      "DEBUG:crispy:Input plane is 114x114\n"
     ]
    },
    {
     "name": "stdout",
     "output_type": "stream",
     "text": [
      "crispy - INFO - Processing wavelength 0.776300 (24 out of 45)\n",
      "crispy - INFO - Processing wavelength 0.776300 (24 out of 45)\n"
     ]
    },
    {
     "name": "stderr",
     "output_type": "stream",
     "text": [
      "INFO:crispy:Processing wavelength 0.776300 (24 out of 45)\n",
      "DEBUG:crispy:Input plane is 114x114\n"
     ]
    },
    {
     "name": "stdout",
     "output_type": "stream",
     "text": [
      "crispy - INFO - Processing wavelength 0.779450 (25 out of 45)\n",
      "crispy - INFO - Processing wavelength 0.779450 (25 out of 45)\n"
     ]
    },
    {
     "name": "stderr",
     "output_type": "stream",
     "text": [
      "INFO:crispy:Processing wavelength 0.779450 (25 out of 45)\n",
      "DEBUG:crispy:Input plane is 114x114\n"
     ]
    },
    {
     "name": "stdout",
     "output_type": "stream",
     "text": [
      "crispy - INFO - Processing wavelength 0.782600 (26 out of 45)\n",
      "crispy - INFO - Processing wavelength 0.782600 (26 out of 45)\n"
     ]
    },
    {
     "name": "stderr",
     "output_type": "stream",
     "text": [
      "INFO:crispy:Processing wavelength 0.782600 (26 out of 45)\n",
      "DEBUG:crispy:Input plane is 114x114\n"
     ]
    },
    {
     "name": "stdout",
     "output_type": "stream",
     "text": [
      "crispy - INFO - Processing wavelength 0.785750 (27 out of 45)\n",
      "crispy - INFO - Processing wavelength 0.785750 (27 out of 45)\n"
     ]
    },
    {
     "name": "stderr",
     "output_type": "stream",
     "text": [
      "INFO:crispy:Processing wavelength 0.785750 (27 out of 45)\n",
      "DEBUG:crispy:Input plane is 114x114\n"
     ]
    },
    {
     "name": "stdout",
     "output_type": "stream",
     "text": [
      "crispy - INFO - Processing wavelength 0.788900 (28 out of 45)\n",
      "crispy - INFO - Processing wavelength 0.788900 (28 out of 45)\n"
     ]
    },
    {
     "name": "stderr",
     "output_type": "stream",
     "text": [
      "INFO:crispy:Processing wavelength 0.788900 (28 out of 45)\n",
      "DEBUG:crispy:Input plane is 114x114\n"
     ]
    },
    {
     "name": "stdout",
     "output_type": "stream",
     "text": [
      "crispy - INFO - Processing wavelength 0.792050 (29 out of 45)\n",
      "crispy - INFO - Processing wavelength 0.792050 (29 out of 45)\n"
     ]
    },
    {
     "name": "stderr",
     "output_type": "stream",
     "text": [
      "INFO:crispy:Processing wavelength 0.792050 (29 out of 45)\n",
      "DEBUG:crispy:Input plane is 114x114\n"
     ]
    },
    {
     "name": "stdout",
     "output_type": "stream",
     "text": [
      "crispy - INFO - Processing wavelength 0.795200 (30 out of 45)\n",
      "crispy - INFO - Processing wavelength 0.795200 (30 out of 45)\n"
     ]
    },
    {
     "name": "stderr",
     "output_type": "stream",
     "text": [
      "INFO:crispy:Processing wavelength 0.795200 (30 out of 45)\n",
      "DEBUG:crispy:Input plane is 114x114\n"
     ]
    },
    {
     "name": "stdout",
     "output_type": "stream",
     "text": [
      "crispy - INFO - Processing wavelength 0.798350 (31 out of 45)\n",
      "crispy - INFO - Processing wavelength 0.798350 (31 out of 45)\n"
     ]
    },
    {
     "name": "stderr",
     "output_type": "stream",
     "text": [
      "INFO:crispy:Processing wavelength 0.798350 (31 out of 45)\n",
      "DEBUG:crispy:Input plane is 114x114\n"
     ]
    },
    {
     "name": "stdout",
     "output_type": "stream",
     "text": [
      "crispy - INFO - Processing wavelength 0.801500 (32 out of 45)\n",
      "crispy - INFO - Processing wavelength 0.801500 (32 out of 45)\n"
     ]
    },
    {
     "name": "stderr",
     "output_type": "stream",
     "text": [
      "INFO:crispy:Processing wavelength 0.801500 (32 out of 45)\n",
      "DEBUG:crispy:Input plane is 114x114\n"
     ]
    },
    {
     "name": "stdout",
     "output_type": "stream",
     "text": [
      "crispy - INFO - Processing wavelength 0.804650 (33 out of 45)\n",
      "crispy - INFO - Processing wavelength 0.804650 (33 out of 45)\n"
     ]
    },
    {
     "name": "stderr",
     "output_type": "stream",
     "text": [
      "INFO:crispy:Processing wavelength 0.804650 (33 out of 45)\n",
      "DEBUG:crispy:Input plane is 114x114\n"
     ]
    },
    {
     "name": "stdout",
     "output_type": "stream",
     "text": [
      "crispy - INFO - Processing wavelength 0.807800 (34 out of 45)\n",
      "crispy - INFO - Processing wavelength 0.807800 (34 out of 45)\n"
     ]
    },
    {
     "name": "stderr",
     "output_type": "stream",
     "text": [
      "INFO:crispy:Processing wavelength 0.807800 (34 out of 45)\n",
      "DEBUG:crispy:Input plane is 114x114\n"
     ]
    },
    {
     "name": "stdout",
     "output_type": "stream",
     "text": [
      "crispy - INFO - Processing wavelength 0.810950 (35 out of 45)\n",
      "crispy - INFO - Processing wavelength 0.810950 (35 out of 45)\n"
     ]
    },
    {
     "name": "stderr",
     "output_type": "stream",
     "text": [
      "INFO:crispy:Processing wavelength 0.810950 (35 out of 45)\n",
      "DEBUG:crispy:Input plane is 114x114\n"
     ]
    },
    {
     "name": "stdout",
     "output_type": "stream",
     "text": [
      "crispy - INFO - Processing wavelength 0.814100 (36 out of 45)\n",
      "crispy - INFO - Processing wavelength 0.814100 (36 out of 45)\n"
     ]
    },
    {
     "name": "stderr",
     "output_type": "stream",
     "text": [
      "INFO:crispy:Processing wavelength 0.814100 (36 out of 45)\n",
      "DEBUG:crispy:Input plane is 114x114\n"
     ]
    },
    {
     "name": "stdout",
     "output_type": "stream",
     "text": [
      "crispy - INFO - Processing wavelength 0.817250 (37 out of 45)\n",
      "crispy - INFO - Processing wavelength 0.817250 (37 out of 45)\n"
     ]
    },
    {
     "name": "stderr",
     "output_type": "stream",
     "text": [
      "INFO:crispy:Processing wavelength 0.817250 (37 out of 45)\n",
      "DEBUG:crispy:Input plane is 114x114\n"
     ]
    },
    {
     "name": "stdout",
     "output_type": "stream",
     "text": [
      "crispy - INFO - Processing wavelength 0.820400 (38 out of 45)\n",
      "crispy - INFO - Processing wavelength 0.820400 (38 out of 45)\n"
     ]
    },
    {
     "name": "stderr",
     "output_type": "stream",
     "text": [
      "INFO:crispy:Processing wavelength 0.820400 (38 out of 45)\n",
      "DEBUG:crispy:Input plane is 114x114\n"
     ]
    },
    {
     "name": "stdout",
     "output_type": "stream",
     "text": [
      "crispy - INFO - Processing wavelength 0.823550 (39 out of 45)\n",
      "crispy - INFO - Processing wavelength 0.823550 (39 out of 45)\n"
     ]
    },
    {
     "name": "stderr",
     "output_type": "stream",
     "text": [
      "INFO:crispy:Processing wavelength 0.823550 (39 out of 45)\n",
      "DEBUG:crispy:Input plane is 114x114\n"
     ]
    },
    {
     "name": "stdout",
     "output_type": "stream",
     "text": [
      "crispy - INFO - Processing wavelength 0.826700 (40 out of 45)\n",
      "crispy - INFO - Processing wavelength 0.826700 (40 out of 45)\n"
     ]
    },
    {
     "name": "stderr",
     "output_type": "stream",
     "text": [
      "INFO:crispy:Processing wavelength 0.826700 (40 out of 45)\n",
      "DEBUG:crispy:Input plane is 114x114\n"
     ]
    },
    {
     "name": "stdout",
     "output_type": "stream",
     "text": [
      "crispy - INFO - Processing wavelength 0.829850 (41 out of 45)\n",
      "crispy - INFO - Processing wavelength 0.829850 (41 out of 45)\n"
     ]
    },
    {
     "name": "stderr",
     "output_type": "stream",
     "text": [
      "INFO:crispy:Processing wavelength 0.829850 (41 out of 45)\n",
      "DEBUG:crispy:Input plane is 114x114\n"
     ]
    },
    {
     "name": "stdout",
     "output_type": "stream",
     "text": [
      "crispy - INFO - Processing wavelength 0.833000 (42 out of 45)\n",
      "crispy - INFO - Processing wavelength 0.833000 (42 out of 45)\n"
     ]
    },
    {
     "name": "stderr",
     "output_type": "stream",
     "text": [
      "INFO:crispy:Processing wavelength 0.833000 (42 out of 45)\n",
      "DEBUG:crispy:Input plane is 114x114\n"
     ]
    },
    {
     "name": "stdout",
     "output_type": "stream",
     "text": [
      "crispy - INFO - Processing wavelength 0.836150 (43 out of 45)\n",
      "crispy - INFO - Processing wavelength 0.836150 (43 out of 45)\n"
     ]
    },
    {
     "name": "stderr",
     "output_type": "stream",
     "text": [
      "INFO:crispy:Processing wavelength 0.836150 (43 out of 45)\n",
      "DEBUG:crispy:Input plane is 114x114\n"
     ]
    },
    {
     "name": "stdout",
     "output_type": "stream",
     "text": [
      "crispy - INFO - Processing wavelength 0.839300 (44 out of 45)\n",
      "crispy - INFO - Processing wavelength 0.839300 (44 out of 45)\n"
     ]
    },
    {
     "name": "stderr",
     "output_type": "stream",
     "text": [
      "INFO:crispy:Processing wavelength 0.839300 (44 out of 45)\n",
      "DEBUG:crispy:Input plane is 114x114\n"
     ]
    },
    {
     "name": "stdout",
     "output_type": "stream",
     "text": [
      "crispy - INFO - Number of detector pixels per lenslet: 13.384615\n",
      "crispy - INFO - Number of detector pixels per lenslet: 13.384615\n"
     ]
    },
    {
     "name": "stderr",
     "output_type": "stream",
     "text": [
      "INFO:crispy:Number of detector pixels per lenslet: 13.384615\n"
     ]
    },
    {
     "name": "stdout",
     "output_type": "stream",
     "text": [
      "crispy - INFO - Rebinning final detector. Image has dimensions 1024x1024\n",
      "crispy - INFO - Rebinning final detector. Image has dimensions 1024x1024\n"
     ]
    },
    {
     "name": "stderr",
     "output_type": "stream",
     "text": [
      "INFO:crispy:Rebinning final detector. Image has dimensions 1024x1024\n"
     ]
    },
    {
     "name": "stdout",
     "output_type": "stream",
     "text": [
      "crispy - INFO - Done.\n",
      "crispy - INFO - Done.\n"
     ]
    },
    {
     "name": "stderr",
     "output_type": "stream",
     "text": [
      "INFO:crispy:Done.\n"
     ]
    },
    {
     "name": "stdout",
     "output_type": "stream",
     "text": [
      "crispy - INFO - Performance: 57 seconds total\n",
      "crispy - INFO - Performance: 57 seconds total\n"
     ]
    },
    {
     "name": "stderr",
     "output_type": "stream",
     "text": [
      "INFO:crispy:Performance: 57 seconds total\n"
     ]
    },
    {
     "name": "stdout",
     "output_type": "stream",
     "text": [
      "crispy - INFO - Writing data to OS5/os5_spc_001_refstar_IFS.fits\n",
      "crispy - INFO - Writing data to OS5/os5_spc_001_refstar_IFS.fits\n"
     ]
    },
    {
     "name": "stderr",
     "output_type": "stream",
     "text": [
      "INFO:crispy:Writing data to OS5/os5_spc_001_refstar_IFS.fits\n"
     ]
    },
    {
     "name": "stdout",
     "output_type": "stream",
     "text": [
      "crispy - INFO - Processing file os5_spc_002.fits\n",
      "crispy - INFO - Processing file os5_spc_002.fits\n"
     ]
    },
    {
     "name": "stderr",
     "output_type": "stream",
     "text": [
      "INFO:crispy:Processing file os5_spc_002.fits\n",
      "DEBUG:crispy:Modifying cube header\n"
     ]
    },
    {
     "name": "stdout",
     "output_type": "stream",
     "text": [
      "crispy - INFO - The number of input pixels per lenslet is 3.896104\n",
      "crispy - INFO - The number of input pixels per lenslet is 3.896104\n"
     ]
    },
    {
     "name": "stderr",
     "output_type": "stream",
     "text": [
      "INFO:crispy:The number of input pixels per lenslet is 3.896104\n"
     ]
    },
    {
     "name": "stdout",
     "output_type": "stream",
     "text": [
      "crispy - INFO - Using PSFlet gaussian approximation\n",
      "crispy - INFO - Using PSFlet gaussian approximation\n"
     ]
    },
    {
     "name": "stderr",
     "output_type": "stream",
     "text": [
      "INFO:crispy:Using PSFlet gaussian approximation\n"
     ]
    },
    {
     "name": "stdout",
     "output_type": "stream",
     "text": [
      "crispy - INFO - Final detector pixel per PSFLet: 40.000000\n",
      "crispy - INFO - Final detector pixel per PSFLet: 40.000000\n"
     ]
    },
    {
     "name": "stderr",
     "output_type": "stream",
     "text": [
      "INFO:crispy:Final detector pixel per PSFLet: 40.000000\n"
     ]
    },
    {
     "name": "stdout",
     "output_type": "stream",
     "text": [
      "crispy - INFO - Processing wavelength 0.700700 (0 out of 45)\n",
      "crispy - INFO - Processing wavelength 0.700700 (0 out of 45)\n"
     ]
    },
    {
     "name": "stderr",
     "output_type": "stream",
     "text": [
      "INFO:crispy:Processing wavelength 0.700700 (0 out of 45)\n",
      "DEBUG:crispy:Input plane is 114x114\n"
     ]
    },
    {
     "name": "stdout",
     "output_type": "stream",
     "text": [
      "crispy - INFO - Processing wavelength 0.703850 (1 out of 45)\n",
      "crispy - INFO - Processing wavelength 0.703850 (1 out of 45)\n"
     ]
    },
    {
     "name": "stderr",
     "output_type": "stream",
     "text": [
      "INFO:crispy:Processing wavelength 0.703850 (1 out of 45)\n",
      "DEBUG:crispy:Input plane is 114x114\n"
     ]
    },
    {
     "name": "stdout",
     "output_type": "stream",
     "text": [
      "crispy - INFO - Processing wavelength 0.707000 (2 out of 45)\n",
      "crispy - INFO - Processing wavelength 0.707000 (2 out of 45)\n"
     ]
    },
    {
     "name": "stderr",
     "output_type": "stream",
     "text": [
      "INFO:crispy:Processing wavelength 0.707000 (2 out of 45)\n",
      "DEBUG:crispy:Input plane is 114x114\n"
     ]
    },
    {
     "name": "stdout",
     "output_type": "stream",
     "text": [
      "crispy - INFO - Processing wavelength 0.710150 (3 out of 45)\n",
      "crispy - INFO - Processing wavelength 0.710150 (3 out of 45)\n"
     ]
    },
    {
     "name": "stderr",
     "output_type": "stream",
     "text": [
      "INFO:crispy:Processing wavelength 0.710150 (3 out of 45)\n",
      "DEBUG:crispy:Input plane is 114x114\n"
     ]
    },
    {
     "name": "stdout",
     "output_type": "stream",
     "text": [
      "crispy - INFO - Processing wavelength 0.713300 (4 out of 45)\n",
      "crispy - INFO - Processing wavelength 0.713300 (4 out of 45)\n"
     ]
    },
    {
     "name": "stderr",
     "output_type": "stream",
     "text": [
      "INFO:crispy:Processing wavelength 0.713300 (4 out of 45)\n",
      "DEBUG:crispy:Input plane is 114x114\n"
     ]
    },
    {
     "name": "stdout",
     "output_type": "stream",
     "text": [
      "crispy - INFO - Processing wavelength 0.716450 (5 out of 45)\n",
      "crispy - INFO - Processing wavelength 0.716450 (5 out of 45)\n"
     ]
    },
    {
     "name": "stderr",
     "output_type": "stream",
     "text": [
      "INFO:crispy:Processing wavelength 0.716450 (5 out of 45)\n",
      "DEBUG:crispy:Input plane is 114x114\n"
     ]
    },
    {
     "name": "stdout",
     "output_type": "stream",
     "text": [
      "crispy - INFO - Processing wavelength 0.719600 (6 out of 45)\n",
      "crispy - INFO - Processing wavelength 0.719600 (6 out of 45)\n"
     ]
    },
    {
     "name": "stderr",
     "output_type": "stream",
     "text": [
      "INFO:crispy:Processing wavelength 0.719600 (6 out of 45)\n",
      "DEBUG:crispy:Input plane is 114x114\n"
     ]
    },
    {
     "name": "stdout",
     "output_type": "stream",
     "text": [
      "crispy - INFO - Processing wavelength 0.722750 (7 out of 45)\n",
      "crispy - INFO - Processing wavelength 0.722750 (7 out of 45)\n"
     ]
    },
    {
     "name": "stderr",
     "output_type": "stream",
     "text": [
      "INFO:crispy:Processing wavelength 0.722750 (7 out of 45)\n",
      "DEBUG:crispy:Input plane is 114x114\n"
     ]
    },
    {
     "name": "stdout",
     "output_type": "stream",
     "text": [
      "crispy - INFO - Processing wavelength 0.725900 (8 out of 45)\n",
      "crispy - INFO - Processing wavelength 0.725900 (8 out of 45)\n"
     ]
    },
    {
     "name": "stderr",
     "output_type": "stream",
     "text": [
      "INFO:crispy:Processing wavelength 0.725900 (8 out of 45)\n",
      "DEBUG:crispy:Input plane is 114x114\n"
     ]
    },
    {
     "name": "stdout",
     "output_type": "stream",
     "text": [
      "crispy - INFO - Processing wavelength 0.729050 (9 out of 45)\n",
      "crispy - INFO - Processing wavelength 0.729050 (9 out of 45)\n"
     ]
    },
    {
     "name": "stderr",
     "output_type": "stream",
     "text": [
      "INFO:crispy:Processing wavelength 0.729050 (9 out of 45)\n",
      "DEBUG:crispy:Input plane is 114x114\n"
     ]
    },
    {
     "name": "stdout",
     "output_type": "stream",
     "text": [
      "crispy - INFO - Processing wavelength 0.732200 (10 out of 45)\n",
      "crispy - INFO - Processing wavelength 0.732200 (10 out of 45)\n"
     ]
    },
    {
     "name": "stderr",
     "output_type": "stream",
     "text": [
      "INFO:crispy:Processing wavelength 0.732200 (10 out of 45)\n",
      "DEBUG:crispy:Input plane is 114x114\n"
     ]
    },
    {
     "name": "stdout",
     "output_type": "stream",
     "text": [
      "crispy - INFO - Processing wavelength 0.735350 (11 out of 45)\n",
      "crispy - INFO - Processing wavelength 0.735350 (11 out of 45)\n"
     ]
    },
    {
     "name": "stderr",
     "output_type": "stream",
     "text": [
      "INFO:crispy:Processing wavelength 0.735350 (11 out of 45)\n",
      "DEBUG:crispy:Input plane is 114x114\n"
     ]
    },
    {
     "name": "stdout",
     "output_type": "stream",
     "text": [
      "crispy - INFO - Processing wavelength 0.738500 (12 out of 45)\n",
      "crispy - INFO - Processing wavelength 0.738500 (12 out of 45)\n"
     ]
    },
    {
     "name": "stderr",
     "output_type": "stream",
     "text": [
      "INFO:crispy:Processing wavelength 0.738500 (12 out of 45)\n",
      "DEBUG:crispy:Input plane is 114x114\n"
     ]
    },
    {
     "name": "stdout",
     "output_type": "stream",
     "text": [
      "crispy - INFO - Processing wavelength 0.741650 (13 out of 45)\n",
      "crispy - INFO - Processing wavelength 0.741650 (13 out of 45)\n"
     ]
    },
    {
     "name": "stderr",
     "output_type": "stream",
     "text": [
      "INFO:crispy:Processing wavelength 0.741650 (13 out of 45)\n",
      "DEBUG:crispy:Input plane is 114x114\n"
     ]
    },
    {
     "name": "stdout",
     "output_type": "stream",
     "text": [
      "crispy - INFO - Processing wavelength 0.744800 (14 out of 45)\n",
      "crispy - INFO - Processing wavelength 0.744800 (14 out of 45)\n"
     ]
    },
    {
     "name": "stderr",
     "output_type": "stream",
     "text": [
      "INFO:crispy:Processing wavelength 0.744800 (14 out of 45)\n",
      "DEBUG:crispy:Input plane is 114x114\n"
     ]
    },
    {
     "name": "stdout",
     "output_type": "stream",
     "text": [
      "crispy - INFO - Processing wavelength 0.747950 (15 out of 45)\n",
      "crispy - INFO - Processing wavelength 0.747950 (15 out of 45)\n"
     ]
    },
    {
     "name": "stderr",
     "output_type": "stream",
     "text": [
      "INFO:crispy:Processing wavelength 0.747950 (15 out of 45)\n",
      "DEBUG:crispy:Input plane is 114x114\n"
     ]
    },
    {
     "name": "stdout",
     "output_type": "stream",
     "text": [
      "crispy - INFO - Processing wavelength 0.751100 (16 out of 45)\n",
      "crispy - INFO - Processing wavelength 0.751100 (16 out of 45)\n"
     ]
    },
    {
     "name": "stderr",
     "output_type": "stream",
     "text": [
      "INFO:crispy:Processing wavelength 0.751100 (16 out of 45)\n",
      "DEBUG:crispy:Input plane is 114x114\n"
     ]
    },
    {
     "name": "stdout",
     "output_type": "stream",
     "text": [
      "crispy - INFO - Processing wavelength 0.754250 (17 out of 45)\n",
      "crispy - INFO - Processing wavelength 0.754250 (17 out of 45)\n"
     ]
    },
    {
     "name": "stderr",
     "output_type": "stream",
     "text": [
      "INFO:crispy:Processing wavelength 0.754250 (17 out of 45)\n",
      "DEBUG:crispy:Input plane is 114x114\n"
     ]
    },
    {
     "name": "stdout",
     "output_type": "stream",
     "text": [
      "crispy - INFO - Processing wavelength 0.757400 (18 out of 45)\n",
      "crispy - INFO - Processing wavelength 0.757400 (18 out of 45)\n"
     ]
    },
    {
     "name": "stderr",
     "output_type": "stream",
     "text": [
      "INFO:crispy:Processing wavelength 0.757400 (18 out of 45)\n",
      "DEBUG:crispy:Input plane is 114x114\n"
     ]
    },
    {
     "name": "stdout",
     "output_type": "stream",
     "text": [
      "crispy - INFO - Processing wavelength 0.760550 (19 out of 45)\n",
      "crispy - INFO - Processing wavelength 0.760550 (19 out of 45)\n"
     ]
    },
    {
     "name": "stderr",
     "output_type": "stream",
     "text": [
      "INFO:crispy:Processing wavelength 0.760550 (19 out of 45)\n",
      "DEBUG:crispy:Input plane is 114x114\n"
     ]
    },
    {
     "name": "stdout",
     "output_type": "stream",
     "text": [
      "crispy - INFO - Processing wavelength 0.763700 (20 out of 45)\n",
      "crispy - INFO - Processing wavelength 0.763700 (20 out of 45)\n"
     ]
    },
    {
     "name": "stderr",
     "output_type": "stream",
     "text": [
      "INFO:crispy:Processing wavelength 0.763700 (20 out of 45)\n",
      "DEBUG:crispy:Input plane is 114x114\n"
     ]
    },
    {
     "name": "stdout",
     "output_type": "stream",
     "text": [
      "crispy - INFO - Processing wavelength 0.766850 (21 out of 45)\n",
      "crispy - INFO - Processing wavelength 0.766850 (21 out of 45)\n"
     ]
    },
    {
     "name": "stderr",
     "output_type": "stream",
     "text": [
      "INFO:crispy:Processing wavelength 0.766850 (21 out of 45)\n",
      "DEBUG:crispy:Input plane is 114x114\n"
     ]
    },
    {
     "name": "stdout",
     "output_type": "stream",
     "text": [
      "crispy - INFO - Processing wavelength 0.770000 (22 out of 45)\n",
      "crispy - INFO - Processing wavelength 0.770000 (22 out of 45)\n"
     ]
    },
    {
     "name": "stderr",
     "output_type": "stream",
     "text": [
      "INFO:crispy:Processing wavelength 0.770000 (22 out of 45)\n",
      "DEBUG:crispy:Input plane is 114x114\n"
     ]
    },
    {
     "name": "stdout",
     "output_type": "stream",
     "text": [
      "crispy - INFO - Processing wavelength 0.773150 (23 out of 45)\n",
      "crispy - INFO - Processing wavelength 0.773150 (23 out of 45)\n"
     ]
    },
    {
     "name": "stderr",
     "output_type": "stream",
     "text": [
      "INFO:crispy:Processing wavelength 0.773150 (23 out of 45)\n",
      "DEBUG:crispy:Input plane is 114x114\n"
     ]
    },
    {
     "name": "stdout",
     "output_type": "stream",
     "text": [
      "crispy - INFO - Processing wavelength 0.776300 (24 out of 45)\n",
      "crispy - INFO - Processing wavelength 0.776300 (24 out of 45)\n"
     ]
    },
    {
     "name": "stderr",
     "output_type": "stream",
     "text": [
      "INFO:crispy:Processing wavelength 0.776300 (24 out of 45)\n",
      "DEBUG:crispy:Input plane is 114x114\n"
     ]
    },
    {
     "name": "stdout",
     "output_type": "stream",
     "text": [
      "crispy - INFO - Processing wavelength 0.779450 (25 out of 45)\n",
      "crispy - INFO - Processing wavelength 0.779450 (25 out of 45)\n"
     ]
    },
    {
     "name": "stderr",
     "output_type": "stream",
     "text": [
      "INFO:crispy:Processing wavelength 0.779450 (25 out of 45)\n",
      "DEBUG:crispy:Input plane is 114x114\n"
     ]
    },
    {
     "name": "stdout",
     "output_type": "stream",
     "text": [
      "crispy - INFO - Processing wavelength 0.782600 (26 out of 45)\n",
      "crispy - INFO - Processing wavelength 0.782600 (26 out of 45)\n"
     ]
    },
    {
     "name": "stderr",
     "output_type": "stream",
     "text": [
      "INFO:crispy:Processing wavelength 0.782600 (26 out of 45)\n",
      "DEBUG:crispy:Input plane is 114x114\n"
     ]
    },
    {
     "name": "stdout",
     "output_type": "stream",
     "text": [
      "crispy - INFO - Processing wavelength 0.785750 (27 out of 45)\n",
      "crispy - INFO - Processing wavelength 0.785750 (27 out of 45)\n"
     ]
    },
    {
     "name": "stderr",
     "output_type": "stream",
     "text": [
      "INFO:crispy:Processing wavelength 0.785750 (27 out of 45)\n",
      "DEBUG:crispy:Input plane is 114x114\n"
     ]
    },
    {
     "name": "stdout",
     "output_type": "stream",
     "text": [
      "crispy - INFO - Processing wavelength 0.788900 (28 out of 45)\n",
      "crispy - INFO - Processing wavelength 0.788900 (28 out of 45)\n"
     ]
    },
    {
     "name": "stderr",
     "output_type": "stream",
     "text": [
      "INFO:crispy:Processing wavelength 0.788900 (28 out of 45)\n",
      "DEBUG:crispy:Input plane is 114x114\n"
     ]
    },
    {
     "name": "stdout",
     "output_type": "stream",
     "text": [
      "crispy - INFO - Processing wavelength 0.792050 (29 out of 45)\n",
      "crispy - INFO - Processing wavelength 0.792050 (29 out of 45)\n"
     ]
    },
    {
     "name": "stderr",
     "output_type": "stream",
     "text": [
      "INFO:crispy:Processing wavelength 0.792050 (29 out of 45)\n",
      "DEBUG:crispy:Input plane is 114x114\n"
     ]
    },
    {
     "name": "stdout",
     "output_type": "stream",
     "text": [
      "crispy - INFO - Processing wavelength 0.795200 (30 out of 45)\n",
      "crispy - INFO - Processing wavelength 0.795200 (30 out of 45)\n"
     ]
    },
    {
     "name": "stderr",
     "output_type": "stream",
     "text": [
      "INFO:crispy:Processing wavelength 0.795200 (30 out of 45)\n",
      "DEBUG:crispy:Input plane is 114x114\n"
     ]
    },
    {
     "name": "stdout",
     "output_type": "stream",
     "text": [
      "crispy - INFO - Processing wavelength 0.798350 (31 out of 45)\n",
      "crispy - INFO - Processing wavelength 0.798350 (31 out of 45)\n"
     ]
    },
    {
     "name": "stderr",
     "output_type": "stream",
     "text": [
      "INFO:crispy:Processing wavelength 0.798350 (31 out of 45)\n",
      "DEBUG:crispy:Input plane is 114x114\n"
     ]
    },
    {
     "name": "stdout",
     "output_type": "stream",
     "text": [
      "crispy - INFO - Processing wavelength 0.801500 (32 out of 45)\n",
      "crispy - INFO - Processing wavelength 0.801500 (32 out of 45)\n"
     ]
    },
    {
     "name": "stderr",
     "output_type": "stream",
     "text": [
      "INFO:crispy:Processing wavelength 0.801500 (32 out of 45)\n",
      "DEBUG:crispy:Input plane is 114x114\n"
     ]
    },
    {
     "name": "stdout",
     "output_type": "stream",
     "text": [
      "crispy - INFO - Processing wavelength 0.804650 (33 out of 45)\n",
      "crispy - INFO - Processing wavelength 0.804650 (33 out of 45)\n"
     ]
    },
    {
     "name": "stderr",
     "output_type": "stream",
     "text": [
      "INFO:crispy:Processing wavelength 0.804650 (33 out of 45)\n",
      "DEBUG:crispy:Input plane is 114x114\n"
     ]
    },
    {
     "name": "stdout",
     "output_type": "stream",
     "text": [
      "crispy - INFO - Processing wavelength 0.807800 (34 out of 45)\n",
      "crispy - INFO - Processing wavelength 0.807800 (34 out of 45)\n"
     ]
    },
    {
     "name": "stderr",
     "output_type": "stream",
     "text": [
      "INFO:crispy:Processing wavelength 0.807800 (34 out of 45)\n",
      "DEBUG:crispy:Input plane is 114x114\n"
     ]
    },
    {
     "name": "stdout",
     "output_type": "stream",
     "text": [
      "crispy - INFO - Processing wavelength 0.810950 (35 out of 45)\n",
      "crispy - INFO - Processing wavelength 0.810950 (35 out of 45)\n"
     ]
    },
    {
     "name": "stderr",
     "output_type": "stream",
     "text": [
      "INFO:crispy:Processing wavelength 0.810950 (35 out of 45)\n",
      "DEBUG:crispy:Input plane is 114x114\n"
     ]
    },
    {
     "name": "stdout",
     "output_type": "stream",
     "text": [
      "crispy - INFO - Processing wavelength 0.814100 (36 out of 45)\n",
      "crispy - INFO - Processing wavelength 0.814100 (36 out of 45)\n"
     ]
    },
    {
     "name": "stderr",
     "output_type": "stream",
     "text": [
      "INFO:crispy:Processing wavelength 0.814100 (36 out of 45)\n",
      "DEBUG:crispy:Input plane is 114x114\n"
     ]
    },
    {
     "name": "stdout",
     "output_type": "stream",
     "text": [
      "crispy - INFO - Processing wavelength 0.817250 (37 out of 45)\n",
      "crispy - INFO - Processing wavelength 0.817250 (37 out of 45)\n"
     ]
    },
    {
     "name": "stderr",
     "output_type": "stream",
     "text": [
      "INFO:crispy:Processing wavelength 0.817250 (37 out of 45)\n",
      "DEBUG:crispy:Input plane is 114x114\n"
     ]
    },
    {
     "name": "stdout",
     "output_type": "stream",
     "text": [
      "crispy - INFO - Processing wavelength 0.820400 (38 out of 45)\n",
      "crispy - INFO - Processing wavelength 0.820400 (38 out of 45)\n"
     ]
    },
    {
     "name": "stderr",
     "output_type": "stream",
     "text": [
      "INFO:crispy:Processing wavelength 0.820400 (38 out of 45)\n",
      "DEBUG:crispy:Input plane is 114x114\n"
     ]
    },
    {
     "name": "stdout",
     "output_type": "stream",
     "text": [
      "crispy - INFO - Processing wavelength 0.823550 (39 out of 45)\n",
      "crispy - INFO - Processing wavelength 0.823550 (39 out of 45)\n"
     ]
    },
    {
     "name": "stderr",
     "output_type": "stream",
     "text": [
      "INFO:crispy:Processing wavelength 0.823550 (39 out of 45)\n",
      "DEBUG:crispy:Input plane is 114x114\n"
     ]
    },
    {
     "name": "stdout",
     "output_type": "stream",
     "text": [
      "crispy - INFO - Processing wavelength 0.826700 (40 out of 45)\n",
      "crispy - INFO - Processing wavelength 0.826700 (40 out of 45)\n"
     ]
    },
    {
     "name": "stderr",
     "output_type": "stream",
     "text": [
      "INFO:crispy:Processing wavelength 0.826700 (40 out of 45)\n",
      "DEBUG:crispy:Input plane is 114x114\n"
     ]
    },
    {
     "name": "stdout",
     "output_type": "stream",
     "text": [
      "crispy - INFO - Processing wavelength 0.829850 (41 out of 45)\n",
      "crispy - INFO - Processing wavelength 0.829850 (41 out of 45)\n"
     ]
    },
    {
     "name": "stderr",
     "output_type": "stream",
     "text": [
      "INFO:crispy:Processing wavelength 0.829850 (41 out of 45)\n",
      "DEBUG:crispy:Input plane is 114x114\n"
     ]
    },
    {
     "name": "stdout",
     "output_type": "stream",
     "text": [
      "crispy - INFO - Processing wavelength 0.833000 (42 out of 45)\n",
      "crispy - INFO - Processing wavelength 0.833000 (42 out of 45)\n"
     ]
    },
    {
     "name": "stderr",
     "output_type": "stream",
     "text": [
      "INFO:crispy:Processing wavelength 0.833000 (42 out of 45)\n",
      "DEBUG:crispy:Input plane is 114x114\n"
     ]
    },
    {
     "name": "stdout",
     "output_type": "stream",
     "text": [
      "crispy - INFO - Processing wavelength 0.836150 (43 out of 45)\n",
      "crispy - INFO - Processing wavelength 0.836150 (43 out of 45)\n"
     ]
    },
    {
     "name": "stderr",
     "output_type": "stream",
     "text": [
      "INFO:crispy:Processing wavelength 0.836150 (43 out of 45)\n",
      "DEBUG:crispy:Input plane is 114x114\n"
     ]
    },
    {
     "name": "stdout",
     "output_type": "stream",
     "text": [
      "crispy - INFO - Processing wavelength 0.839300 (44 out of 45)\n",
      "crispy - INFO - Processing wavelength 0.839300 (44 out of 45)\n"
     ]
    },
    {
     "name": "stderr",
     "output_type": "stream",
     "text": [
      "INFO:crispy:Processing wavelength 0.839300 (44 out of 45)\n",
      "DEBUG:crispy:Input plane is 114x114\n"
     ]
    },
    {
     "name": "stdout",
     "output_type": "stream",
     "text": [
      "crispy - INFO - Number of detector pixels per lenslet: 13.384615\n",
      "crispy - INFO - Number of detector pixels per lenslet: 13.384615\n"
     ]
    },
    {
     "name": "stderr",
     "output_type": "stream",
     "text": [
      "INFO:crispy:Number of detector pixels per lenslet: 13.384615\n"
     ]
    },
    {
     "name": "stdout",
     "output_type": "stream",
     "text": [
      "crispy - INFO - Rebinning final detector. Image has dimensions 1024x1024\n",
      "crispy - INFO - Rebinning final detector. Image has dimensions 1024x1024\n"
     ]
    },
    {
     "name": "stderr",
     "output_type": "stream",
     "text": [
      "INFO:crispy:Rebinning final detector. Image has dimensions 1024x1024\n"
     ]
    },
    {
     "name": "stdout",
     "output_type": "stream",
     "text": [
      "crispy - INFO - Done.\n",
      "crispy - INFO - Done.\n"
     ]
    },
    {
     "name": "stderr",
     "output_type": "stream",
     "text": [
      "INFO:crispy:Done.\n"
     ]
    },
    {
     "name": "stdout",
     "output_type": "stream",
     "text": [
      "crispy - INFO - Performance: 57 seconds total\n",
      "crispy - INFO - Performance: 57 seconds total\n"
     ]
    },
    {
     "name": "stderr",
     "output_type": "stream",
     "text": [
      "INFO:crispy:Performance: 57 seconds total\n"
     ]
    },
    {
     "name": "stdout",
     "output_type": "stream",
     "text": [
      "crispy - INFO - Writing data to OS5/os5_spc_002_refstar_IFS.fits\n",
      "crispy - INFO - Writing data to OS5/os5_spc_002_refstar_IFS.fits\n"
     ]
    },
    {
     "name": "stderr",
     "output_type": "stream",
     "text": [
      "INFO:crispy:Writing data to OS5/os5_spc_002_refstar_IFS.fits\n"
     ]
    },
    {
     "name": "stdout",
     "output_type": "stream",
     "text": [
      "crispy - INFO - Processing file os5_spc_003.fits\n",
      "crispy - INFO - Processing file os5_spc_003.fits\n"
     ]
    },
    {
     "name": "stderr",
     "output_type": "stream",
     "text": [
      "INFO:crispy:Processing file os5_spc_003.fits\n",
      "DEBUG:crispy:Modifying cube header\n"
     ]
    },
    {
     "name": "stdout",
     "output_type": "stream",
     "text": [
      "crispy - INFO - The number of input pixels per lenslet is 3.896104\n",
      "crispy - INFO - The number of input pixels per lenslet is 3.896104\n"
     ]
    },
    {
     "name": "stderr",
     "output_type": "stream",
     "text": [
      "INFO:crispy:The number of input pixels per lenslet is 3.896104\n"
     ]
    },
    {
     "name": "stdout",
     "output_type": "stream",
     "text": [
      "crispy - INFO - Using PSFlet gaussian approximation\n",
      "crispy - INFO - Using PSFlet gaussian approximation\n"
     ]
    },
    {
     "name": "stderr",
     "output_type": "stream",
     "text": [
      "INFO:crispy:Using PSFlet gaussian approximation\n"
     ]
    },
    {
     "name": "stdout",
     "output_type": "stream",
     "text": [
      "crispy - INFO - Final detector pixel per PSFLet: 40.000000\n",
      "crispy - INFO - Final detector pixel per PSFLet: 40.000000\n"
     ]
    },
    {
     "name": "stderr",
     "output_type": "stream",
     "text": [
      "INFO:crispy:Final detector pixel per PSFLet: 40.000000\n"
     ]
    },
    {
     "name": "stdout",
     "output_type": "stream",
     "text": [
      "crispy - INFO - Processing wavelength 0.700700 (0 out of 45)\n",
      "crispy - INFO - Processing wavelength 0.700700 (0 out of 45)\n"
     ]
    },
    {
     "name": "stderr",
     "output_type": "stream",
     "text": [
      "INFO:crispy:Processing wavelength 0.700700 (0 out of 45)\n",
      "DEBUG:crispy:Input plane is 114x114\n"
     ]
    },
    {
     "name": "stdout",
     "output_type": "stream",
     "text": [
      "crispy - INFO - Processing wavelength 0.703850 (1 out of 45)\n",
      "crispy - INFO - Processing wavelength 0.703850 (1 out of 45)\n"
     ]
    },
    {
     "name": "stderr",
     "output_type": "stream",
     "text": [
      "INFO:crispy:Processing wavelength 0.703850 (1 out of 45)\n",
      "DEBUG:crispy:Input plane is 114x114\n"
     ]
    },
    {
     "name": "stdout",
     "output_type": "stream",
     "text": [
      "crispy - INFO - Processing wavelength 0.707000 (2 out of 45)\n",
      "crispy - INFO - Processing wavelength 0.707000 (2 out of 45)\n"
     ]
    },
    {
     "name": "stderr",
     "output_type": "stream",
     "text": [
      "INFO:crispy:Processing wavelength 0.707000 (2 out of 45)\n",
      "DEBUG:crispy:Input plane is 114x114\n"
     ]
    },
    {
     "name": "stdout",
     "output_type": "stream",
     "text": [
      "crispy - INFO - Processing wavelength 0.710150 (3 out of 45)\n",
      "crispy - INFO - Processing wavelength 0.710150 (3 out of 45)\n"
     ]
    },
    {
     "name": "stderr",
     "output_type": "stream",
     "text": [
      "INFO:crispy:Processing wavelength 0.710150 (3 out of 45)\n",
      "DEBUG:crispy:Input plane is 114x114\n"
     ]
    },
    {
     "name": "stdout",
     "output_type": "stream",
     "text": [
      "crispy - INFO - Processing wavelength 0.713300 (4 out of 45)\n",
      "crispy - INFO - Processing wavelength 0.713300 (4 out of 45)\n"
     ]
    },
    {
     "name": "stderr",
     "output_type": "stream",
     "text": [
      "INFO:crispy:Processing wavelength 0.713300 (4 out of 45)\n",
      "DEBUG:crispy:Input plane is 114x114\n"
     ]
    },
    {
     "name": "stdout",
     "output_type": "stream",
     "text": [
      "crispy - INFO - Processing wavelength 0.716450 (5 out of 45)\n",
      "crispy - INFO - Processing wavelength 0.716450 (5 out of 45)\n"
     ]
    },
    {
     "name": "stderr",
     "output_type": "stream",
     "text": [
      "INFO:crispy:Processing wavelength 0.716450 (5 out of 45)\n",
      "DEBUG:crispy:Input plane is 114x114\n"
     ]
    },
    {
     "name": "stdout",
     "output_type": "stream",
     "text": [
      "crispy - INFO - Processing wavelength 0.719600 (6 out of 45)\n",
      "crispy - INFO - Processing wavelength 0.719600 (6 out of 45)\n"
     ]
    },
    {
     "name": "stderr",
     "output_type": "stream",
     "text": [
      "INFO:crispy:Processing wavelength 0.719600 (6 out of 45)\n",
      "DEBUG:crispy:Input plane is 114x114\n"
     ]
    },
    {
     "name": "stdout",
     "output_type": "stream",
     "text": [
      "crispy - INFO - Processing wavelength 0.722750 (7 out of 45)\n",
      "crispy - INFO - Processing wavelength 0.722750 (7 out of 45)\n"
     ]
    },
    {
     "name": "stderr",
     "output_type": "stream",
     "text": [
      "INFO:crispy:Processing wavelength 0.722750 (7 out of 45)\n",
      "DEBUG:crispy:Input plane is 114x114\n"
     ]
    },
    {
     "name": "stdout",
     "output_type": "stream",
     "text": [
      "crispy - INFO - Processing wavelength 0.725900 (8 out of 45)\n",
      "crispy - INFO - Processing wavelength 0.725900 (8 out of 45)\n"
     ]
    },
    {
     "name": "stderr",
     "output_type": "stream",
     "text": [
      "INFO:crispy:Processing wavelength 0.725900 (8 out of 45)\n",
      "DEBUG:crispy:Input plane is 114x114\n"
     ]
    },
    {
     "name": "stdout",
     "output_type": "stream",
     "text": [
      "crispy - INFO - Processing wavelength 0.729050 (9 out of 45)\n",
      "crispy - INFO - Processing wavelength 0.729050 (9 out of 45)\n"
     ]
    },
    {
     "name": "stderr",
     "output_type": "stream",
     "text": [
      "INFO:crispy:Processing wavelength 0.729050 (9 out of 45)\n",
      "DEBUG:crispy:Input plane is 114x114\n"
     ]
    },
    {
     "name": "stdout",
     "output_type": "stream",
     "text": [
      "crispy - INFO - Processing wavelength 0.732200 (10 out of 45)\n",
      "crispy - INFO - Processing wavelength 0.732200 (10 out of 45)\n"
     ]
    },
    {
     "name": "stderr",
     "output_type": "stream",
     "text": [
      "INFO:crispy:Processing wavelength 0.732200 (10 out of 45)\n",
      "DEBUG:crispy:Input plane is 114x114\n"
     ]
    },
    {
     "name": "stdout",
     "output_type": "stream",
     "text": [
      "crispy - INFO - Processing wavelength 0.735350 (11 out of 45)\n",
      "crispy - INFO - Processing wavelength 0.735350 (11 out of 45)\n"
     ]
    },
    {
     "name": "stderr",
     "output_type": "stream",
     "text": [
      "INFO:crispy:Processing wavelength 0.735350 (11 out of 45)\n",
      "DEBUG:crispy:Input plane is 114x114\n"
     ]
    },
    {
     "name": "stdout",
     "output_type": "stream",
     "text": [
      "crispy - INFO - Processing wavelength 0.738500 (12 out of 45)\n",
      "crispy - INFO - Processing wavelength 0.738500 (12 out of 45)\n"
     ]
    },
    {
     "name": "stderr",
     "output_type": "stream",
     "text": [
      "INFO:crispy:Processing wavelength 0.738500 (12 out of 45)\n",
      "DEBUG:crispy:Input plane is 114x114\n"
     ]
    },
    {
     "name": "stdout",
     "output_type": "stream",
     "text": [
      "crispy - INFO - Processing wavelength 0.741650 (13 out of 45)\n",
      "crispy - INFO - Processing wavelength 0.741650 (13 out of 45)\n"
     ]
    },
    {
     "name": "stderr",
     "output_type": "stream",
     "text": [
      "INFO:crispy:Processing wavelength 0.741650 (13 out of 45)\n",
      "DEBUG:crispy:Input plane is 114x114\n"
     ]
    },
    {
     "name": "stdout",
     "output_type": "stream",
     "text": [
      "crispy - INFO - Processing wavelength 0.744800 (14 out of 45)\n",
      "crispy - INFO - Processing wavelength 0.744800 (14 out of 45)\n"
     ]
    },
    {
     "name": "stderr",
     "output_type": "stream",
     "text": [
      "INFO:crispy:Processing wavelength 0.744800 (14 out of 45)\n",
      "DEBUG:crispy:Input plane is 114x114\n"
     ]
    },
    {
     "name": "stdout",
     "output_type": "stream",
     "text": [
      "crispy - INFO - Processing wavelength 0.747950 (15 out of 45)\n",
      "crispy - INFO - Processing wavelength 0.747950 (15 out of 45)\n"
     ]
    },
    {
     "name": "stderr",
     "output_type": "stream",
     "text": [
      "INFO:crispy:Processing wavelength 0.747950 (15 out of 45)\n",
      "DEBUG:crispy:Input plane is 114x114\n"
     ]
    },
    {
     "name": "stdout",
     "output_type": "stream",
     "text": [
      "crispy - INFO - Processing wavelength 0.751100 (16 out of 45)\n",
      "crispy - INFO - Processing wavelength 0.751100 (16 out of 45)\n"
     ]
    },
    {
     "name": "stderr",
     "output_type": "stream",
     "text": [
      "INFO:crispy:Processing wavelength 0.751100 (16 out of 45)\n",
      "DEBUG:crispy:Input plane is 114x114\n"
     ]
    },
    {
     "name": "stdout",
     "output_type": "stream",
     "text": [
      "crispy - INFO - Processing wavelength 0.754250 (17 out of 45)\n",
      "crispy - INFO - Processing wavelength 0.754250 (17 out of 45)\n"
     ]
    },
    {
     "name": "stderr",
     "output_type": "stream",
     "text": [
      "INFO:crispy:Processing wavelength 0.754250 (17 out of 45)\n",
      "DEBUG:crispy:Input plane is 114x114\n"
     ]
    },
    {
     "name": "stdout",
     "output_type": "stream",
     "text": [
      "crispy - INFO - Processing wavelength 0.757400 (18 out of 45)\n",
      "crispy - INFO - Processing wavelength 0.757400 (18 out of 45)\n"
     ]
    },
    {
     "name": "stderr",
     "output_type": "stream",
     "text": [
      "INFO:crispy:Processing wavelength 0.757400 (18 out of 45)\n",
      "DEBUG:crispy:Input plane is 114x114\n"
     ]
    },
    {
     "name": "stdout",
     "output_type": "stream",
     "text": [
      "crispy - INFO - Processing wavelength 0.760550 (19 out of 45)\n",
      "crispy - INFO - Processing wavelength 0.760550 (19 out of 45)\n"
     ]
    },
    {
     "name": "stderr",
     "output_type": "stream",
     "text": [
      "INFO:crispy:Processing wavelength 0.760550 (19 out of 45)\n",
      "DEBUG:crispy:Input plane is 114x114\n"
     ]
    },
    {
     "name": "stdout",
     "output_type": "stream",
     "text": [
      "crispy - INFO - Processing wavelength 0.763700 (20 out of 45)\n",
      "crispy - INFO - Processing wavelength 0.763700 (20 out of 45)\n"
     ]
    },
    {
     "name": "stderr",
     "output_type": "stream",
     "text": [
      "INFO:crispy:Processing wavelength 0.763700 (20 out of 45)\n",
      "DEBUG:crispy:Input plane is 114x114\n"
     ]
    },
    {
     "name": "stdout",
     "output_type": "stream",
     "text": [
      "crispy - INFO - Processing wavelength 0.766850 (21 out of 45)\n",
      "crispy - INFO - Processing wavelength 0.766850 (21 out of 45)\n"
     ]
    },
    {
     "name": "stderr",
     "output_type": "stream",
     "text": [
      "INFO:crispy:Processing wavelength 0.766850 (21 out of 45)\n",
      "DEBUG:crispy:Input plane is 114x114\n"
     ]
    },
    {
     "name": "stdout",
     "output_type": "stream",
     "text": [
      "crispy - INFO - Processing wavelength 0.770000 (22 out of 45)\n",
      "crispy - INFO - Processing wavelength 0.770000 (22 out of 45)\n"
     ]
    },
    {
     "name": "stderr",
     "output_type": "stream",
     "text": [
      "INFO:crispy:Processing wavelength 0.770000 (22 out of 45)\n",
      "DEBUG:crispy:Input plane is 114x114\n"
     ]
    },
    {
     "name": "stdout",
     "output_type": "stream",
     "text": [
      "crispy - INFO - Processing wavelength 0.773150 (23 out of 45)\n",
      "crispy - INFO - Processing wavelength 0.773150 (23 out of 45)\n"
     ]
    },
    {
     "name": "stderr",
     "output_type": "stream",
     "text": [
      "INFO:crispy:Processing wavelength 0.773150 (23 out of 45)\n",
      "DEBUG:crispy:Input plane is 114x114\n"
     ]
    },
    {
     "name": "stdout",
     "output_type": "stream",
     "text": [
      "crispy - INFO - Processing wavelength 0.776300 (24 out of 45)\n",
      "crispy - INFO - Processing wavelength 0.776300 (24 out of 45)\n"
     ]
    },
    {
     "name": "stderr",
     "output_type": "stream",
     "text": [
      "INFO:crispy:Processing wavelength 0.776300 (24 out of 45)\n",
      "DEBUG:crispy:Input plane is 114x114\n"
     ]
    },
    {
     "name": "stdout",
     "output_type": "stream",
     "text": [
      "crispy - INFO - Processing wavelength 0.779450 (25 out of 45)\n",
      "crispy - INFO - Processing wavelength 0.779450 (25 out of 45)\n"
     ]
    },
    {
     "name": "stderr",
     "output_type": "stream",
     "text": [
      "INFO:crispy:Processing wavelength 0.779450 (25 out of 45)\n",
      "DEBUG:crispy:Input plane is 114x114\n"
     ]
    },
    {
     "name": "stdout",
     "output_type": "stream",
     "text": [
      "crispy - INFO - Processing wavelength 0.782600 (26 out of 45)\n",
      "crispy - INFO - Processing wavelength 0.782600 (26 out of 45)\n"
     ]
    },
    {
     "name": "stderr",
     "output_type": "stream",
     "text": [
      "INFO:crispy:Processing wavelength 0.782600 (26 out of 45)\n",
      "DEBUG:crispy:Input plane is 114x114\n"
     ]
    },
    {
     "name": "stdout",
     "output_type": "stream",
     "text": [
      "crispy - INFO - Processing wavelength 0.785750 (27 out of 45)\n",
      "crispy - INFO - Processing wavelength 0.785750 (27 out of 45)\n"
     ]
    },
    {
     "name": "stderr",
     "output_type": "stream",
     "text": [
      "INFO:crispy:Processing wavelength 0.785750 (27 out of 45)\n",
      "DEBUG:crispy:Input plane is 114x114\n"
     ]
    },
    {
     "name": "stdout",
     "output_type": "stream",
     "text": [
      "crispy - INFO - Processing wavelength 0.788900 (28 out of 45)\n",
      "crispy - INFO - Processing wavelength 0.788900 (28 out of 45)\n"
     ]
    },
    {
     "name": "stderr",
     "output_type": "stream",
     "text": [
      "INFO:crispy:Processing wavelength 0.788900 (28 out of 45)\n",
      "DEBUG:crispy:Input plane is 114x114\n"
     ]
    },
    {
     "name": "stdout",
     "output_type": "stream",
     "text": [
      "crispy - INFO - Processing wavelength 0.792050 (29 out of 45)\n",
      "crispy - INFO - Processing wavelength 0.792050 (29 out of 45)\n"
     ]
    },
    {
     "name": "stderr",
     "output_type": "stream",
     "text": [
      "INFO:crispy:Processing wavelength 0.792050 (29 out of 45)\n",
      "DEBUG:crispy:Input plane is 114x114\n"
     ]
    },
    {
     "name": "stdout",
     "output_type": "stream",
     "text": [
      "crispy - INFO - Processing wavelength 0.795200 (30 out of 45)\n",
      "crispy - INFO - Processing wavelength 0.795200 (30 out of 45)\n"
     ]
    },
    {
     "name": "stderr",
     "output_type": "stream",
     "text": [
      "INFO:crispy:Processing wavelength 0.795200 (30 out of 45)\n",
      "DEBUG:crispy:Input plane is 114x114\n"
     ]
    },
    {
     "name": "stdout",
     "output_type": "stream",
     "text": [
      "crispy - INFO - Processing wavelength 0.798350 (31 out of 45)\n",
      "crispy - INFO - Processing wavelength 0.798350 (31 out of 45)\n"
     ]
    },
    {
     "name": "stderr",
     "output_type": "stream",
     "text": [
      "INFO:crispy:Processing wavelength 0.798350 (31 out of 45)\n",
      "DEBUG:crispy:Input plane is 114x114\n"
     ]
    },
    {
     "name": "stdout",
     "output_type": "stream",
     "text": [
      "crispy - INFO - Processing wavelength 0.801500 (32 out of 45)\n",
      "crispy - INFO - Processing wavelength 0.801500 (32 out of 45)\n"
     ]
    },
    {
     "name": "stderr",
     "output_type": "stream",
     "text": [
      "INFO:crispy:Processing wavelength 0.801500 (32 out of 45)\n",
      "DEBUG:crispy:Input plane is 114x114\n"
     ]
    },
    {
     "name": "stdout",
     "output_type": "stream",
     "text": [
      "crispy - INFO - Processing wavelength 0.804650 (33 out of 45)\n",
      "crispy - INFO - Processing wavelength 0.804650 (33 out of 45)\n"
     ]
    },
    {
     "name": "stderr",
     "output_type": "stream",
     "text": [
      "INFO:crispy:Processing wavelength 0.804650 (33 out of 45)\n",
      "DEBUG:crispy:Input plane is 114x114\n"
     ]
    },
    {
     "name": "stdout",
     "output_type": "stream",
     "text": [
      "crispy - INFO - Processing wavelength 0.807800 (34 out of 45)\n",
      "crispy - INFO - Processing wavelength 0.807800 (34 out of 45)\n"
     ]
    },
    {
     "name": "stderr",
     "output_type": "stream",
     "text": [
      "INFO:crispy:Processing wavelength 0.807800 (34 out of 45)\n",
      "DEBUG:crispy:Input plane is 114x114\n"
     ]
    },
    {
     "name": "stdout",
     "output_type": "stream",
     "text": [
      "crispy - INFO - Processing wavelength 0.810950 (35 out of 45)\n",
      "crispy - INFO - Processing wavelength 0.810950 (35 out of 45)\n"
     ]
    },
    {
     "name": "stderr",
     "output_type": "stream",
     "text": [
      "INFO:crispy:Processing wavelength 0.810950 (35 out of 45)\n",
      "DEBUG:crispy:Input plane is 114x114\n"
     ]
    },
    {
     "name": "stdout",
     "output_type": "stream",
     "text": [
      "crispy - INFO - Processing wavelength 0.814100 (36 out of 45)\n",
      "crispy - INFO - Processing wavelength 0.814100 (36 out of 45)\n"
     ]
    },
    {
     "name": "stderr",
     "output_type": "stream",
     "text": [
      "INFO:crispy:Processing wavelength 0.814100 (36 out of 45)\n",
      "DEBUG:crispy:Input plane is 114x114\n"
     ]
    },
    {
     "name": "stdout",
     "output_type": "stream",
     "text": [
      "crispy - INFO - Processing wavelength 0.817250 (37 out of 45)\n",
      "crispy - INFO - Processing wavelength 0.817250 (37 out of 45)\n"
     ]
    },
    {
     "name": "stderr",
     "output_type": "stream",
     "text": [
      "INFO:crispy:Processing wavelength 0.817250 (37 out of 45)\n",
      "DEBUG:crispy:Input plane is 114x114\n"
     ]
    },
    {
     "name": "stdout",
     "output_type": "stream",
     "text": [
      "crispy - INFO - Processing wavelength 0.820400 (38 out of 45)\n",
      "crispy - INFO - Processing wavelength 0.820400 (38 out of 45)\n"
     ]
    },
    {
     "name": "stderr",
     "output_type": "stream",
     "text": [
      "INFO:crispy:Processing wavelength 0.820400 (38 out of 45)\n",
      "DEBUG:crispy:Input plane is 114x114\n"
     ]
    },
    {
     "name": "stdout",
     "output_type": "stream",
     "text": [
      "crispy - INFO - Processing wavelength 0.823550 (39 out of 45)\n",
      "crispy - INFO - Processing wavelength 0.823550 (39 out of 45)\n"
     ]
    },
    {
     "name": "stderr",
     "output_type": "stream",
     "text": [
      "INFO:crispy:Processing wavelength 0.823550 (39 out of 45)\n",
      "DEBUG:crispy:Input plane is 114x114\n"
     ]
    },
    {
     "name": "stdout",
     "output_type": "stream",
     "text": [
      "crispy - INFO - Processing wavelength 0.826700 (40 out of 45)\n",
      "crispy - INFO - Processing wavelength 0.826700 (40 out of 45)\n"
     ]
    },
    {
     "name": "stderr",
     "output_type": "stream",
     "text": [
      "INFO:crispy:Processing wavelength 0.826700 (40 out of 45)\n",
      "DEBUG:crispy:Input plane is 114x114\n"
     ]
    },
    {
     "name": "stdout",
     "output_type": "stream",
     "text": [
      "crispy - INFO - Processing wavelength 0.829850 (41 out of 45)\n",
      "crispy - INFO - Processing wavelength 0.829850 (41 out of 45)\n"
     ]
    },
    {
     "name": "stderr",
     "output_type": "stream",
     "text": [
      "INFO:crispy:Processing wavelength 0.829850 (41 out of 45)\n",
      "DEBUG:crispy:Input plane is 114x114\n"
     ]
    },
    {
     "name": "stdout",
     "output_type": "stream",
     "text": [
      "crispy - INFO - Processing wavelength 0.833000 (42 out of 45)\n",
      "crispy - INFO - Processing wavelength 0.833000 (42 out of 45)\n"
     ]
    },
    {
     "name": "stderr",
     "output_type": "stream",
     "text": [
      "INFO:crispy:Processing wavelength 0.833000 (42 out of 45)\n",
      "DEBUG:crispy:Input plane is 114x114\n"
     ]
    },
    {
     "name": "stdout",
     "output_type": "stream",
     "text": [
      "crispy - INFO - Processing wavelength 0.836150 (43 out of 45)\n",
      "crispy - INFO - Processing wavelength 0.836150 (43 out of 45)\n"
     ]
    },
    {
     "name": "stderr",
     "output_type": "stream",
     "text": [
      "INFO:crispy:Processing wavelength 0.836150 (43 out of 45)\n",
      "DEBUG:crispy:Input plane is 114x114\n"
     ]
    },
    {
     "name": "stdout",
     "output_type": "stream",
     "text": [
      "crispy - INFO - Processing wavelength 0.839300 (44 out of 45)\n",
      "crispy - INFO - Processing wavelength 0.839300 (44 out of 45)\n"
     ]
    },
    {
     "name": "stderr",
     "output_type": "stream",
     "text": [
      "INFO:crispy:Processing wavelength 0.839300 (44 out of 45)\n",
      "DEBUG:crispy:Input plane is 114x114\n"
     ]
    },
    {
     "name": "stdout",
     "output_type": "stream",
     "text": [
      "crispy - INFO - Number of detector pixels per lenslet: 13.384615\n",
      "crispy - INFO - Number of detector pixels per lenslet: 13.384615\n"
     ]
    },
    {
     "name": "stderr",
     "output_type": "stream",
     "text": [
      "INFO:crispy:Number of detector pixels per lenslet: 13.384615\n"
     ]
    },
    {
     "name": "stdout",
     "output_type": "stream",
     "text": [
      "crispy - INFO - Rebinning final detector. Image has dimensions 1024x1024\n",
      "crispy - INFO - Rebinning final detector. Image has dimensions 1024x1024\n"
     ]
    },
    {
     "name": "stderr",
     "output_type": "stream",
     "text": [
      "INFO:crispy:Rebinning final detector. Image has dimensions 1024x1024\n"
     ]
    },
    {
     "name": "stdout",
     "output_type": "stream",
     "text": [
      "crispy - INFO - Done.\n",
      "crispy - INFO - Done.\n"
     ]
    },
    {
     "name": "stderr",
     "output_type": "stream",
     "text": [
      "INFO:crispy:Done.\n"
     ]
    },
    {
     "name": "stdout",
     "output_type": "stream",
     "text": [
      "crispy - INFO - Performance: 57 seconds total\n",
      "crispy - INFO - Performance: 57 seconds total\n"
     ]
    },
    {
     "name": "stderr",
     "output_type": "stream",
     "text": [
      "INFO:crispy:Performance: 57 seconds total\n"
     ]
    },
    {
     "name": "stdout",
     "output_type": "stream",
     "text": [
      "crispy - INFO - Writing data to OS5/os5_spc_003_refstar_IFS.fits\n",
      "crispy - INFO - Writing data to OS5/os5_spc_003_refstar_IFS.fits\n"
     ]
    },
    {
     "name": "stderr",
     "output_type": "stream",
     "text": [
      "INFO:crispy:Writing data to OS5/os5_spc_003_refstar_IFS.fits\n"
     ]
    },
    {
     "name": "stdout",
     "output_type": "stream",
     "text": [
      "crispy - INFO - Processing file os5_spc_004.fits\n",
      "crispy - INFO - Processing file os5_spc_004.fits\n"
     ]
    },
    {
     "name": "stderr",
     "output_type": "stream",
     "text": [
      "INFO:crispy:Processing file os5_spc_004.fits\n",
      "DEBUG:crispy:Modifying cube header\n"
     ]
    },
    {
     "name": "stdout",
     "output_type": "stream",
     "text": [
      "crispy - INFO - The number of input pixels per lenslet is 3.896104\n",
      "crispy - INFO - The number of input pixels per lenslet is 3.896104\n"
     ]
    },
    {
     "name": "stderr",
     "output_type": "stream",
     "text": [
      "INFO:crispy:The number of input pixels per lenslet is 3.896104\n"
     ]
    },
    {
     "name": "stdout",
     "output_type": "stream",
     "text": [
      "crispy - INFO - Using PSFlet gaussian approximation\n",
      "crispy - INFO - Using PSFlet gaussian approximation\n"
     ]
    },
    {
     "name": "stderr",
     "output_type": "stream",
     "text": [
      "INFO:crispy:Using PSFlet gaussian approximation\n"
     ]
    },
    {
     "name": "stdout",
     "output_type": "stream",
     "text": [
      "crispy - INFO - Final detector pixel per PSFLet: 40.000000\n",
      "crispy - INFO - Final detector pixel per PSFLet: 40.000000\n"
     ]
    },
    {
     "name": "stderr",
     "output_type": "stream",
     "text": [
      "INFO:crispy:Final detector pixel per PSFLet: 40.000000\n"
     ]
    },
    {
     "name": "stdout",
     "output_type": "stream",
     "text": [
      "crispy - INFO - Processing wavelength 0.700700 (0 out of 45)\n",
      "crispy - INFO - Processing wavelength 0.700700 (0 out of 45)\n"
     ]
    },
    {
     "name": "stderr",
     "output_type": "stream",
     "text": [
      "INFO:crispy:Processing wavelength 0.700700 (0 out of 45)\n",
      "DEBUG:crispy:Input plane is 114x114\n"
     ]
    },
    {
     "name": "stdout",
     "output_type": "stream",
     "text": [
      "crispy - INFO - Processing wavelength 0.703850 (1 out of 45)\n",
      "crispy - INFO - Processing wavelength 0.703850 (1 out of 45)\n"
     ]
    },
    {
     "name": "stderr",
     "output_type": "stream",
     "text": [
      "INFO:crispy:Processing wavelength 0.703850 (1 out of 45)\n",
      "DEBUG:crispy:Input plane is 114x114\n"
     ]
    },
    {
     "name": "stdout",
     "output_type": "stream",
     "text": [
      "crispy - INFO - Processing wavelength 0.707000 (2 out of 45)\n",
      "crispy - INFO - Processing wavelength 0.707000 (2 out of 45)\n"
     ]
    },
    {
     "name": "stderr",
     "output_type": "stream",
     "text": [
      "INFO:crispy:Processing wavelength 0.707000 (2 out of 45)\n",
      "DEBUG:crispy:Input plane is 114x114\n"
     ]
    },
    {
     "name": "stdout",
     "output_type": "stream",
     "text": [
      "crispy - INFO - Processing wavelength 0.710150 (3 out of 45)\n",
      "crispy - INFO - Processing wavelength 0.710150 (3 out of 45)\n"
     ]
    },
    {
     "name": "stderr",
     "output_type": "stream",
     "text": [
      "INFO:crispy:Processing wavelength 0.710150 (3 out of 45)\n",
      "DEBUG:crispy:Input plane is 114x114\n"
     ]
    },
    {
     "name": "stdout",
     "output_type": "stream",
     "text": [
      "crispy - INFO - Processing wavelength 0.713300 (4 out of 45)\n",
      "crispy - INFO - Processing wavelength 0.713300 (4 out of 45)\n"
     ]
    },
    {
     "name": "stderr",
     "output_type": "stream",
     "text": [
      "INFO:crispy:Processing wavelength 0.713300 (4 out of 45)\n",
      "DEBUG:crispy:Input plane is 114x114\n"
     ]
    },
    {
     "name": "stdout",
     "output_type": "stream",
     "text": [
      "crispy - INFO - Processing wavelength 0.716450 (5 out of 45)\n",
      "crispy - INFO - Processing wavelength 0.716450 (5 out of 45)\n"
     ]
    },
    {
     "name": "stderr",
     "output_type": "stream",
     "text": [
      "INFO:crispy:Processing wavelength 0.716450 (5 out of 45)\n",
      "DEBUG:crispy:Input plane is 114x114\n"
     ]
    },
    {
     "name": "stdout",
     "output_type": "stream",
     "text": [
      "crispy - INFO - Processing wavelength 0.719600 (6 out of 45)\n",
      "crispy - INFO - Processing wavelength 0.719600 (6 out of 45)\n"
     ]
    },
    {
     "name": "stderr",
     "output_type": "stream",
     "text": [
      "INFO:crispy:Processing wavelength 0.719600 (6 out of 45)\n",
      "DEBUG:crispy:Input plane is 114x114\n"
     ]
    },
    {
     "name": "stdout",
     "output_type": "stream",
     "text": [
      "crispy - INFO - Processing wavelength 0.722750 (7 out of 45)\n",
      "crispy - INFO - Processing wavelength 0.722750 (7 out of 45)\n"
     ]
    },
    {
     "name": "stderr",
     "output_type": "stream",
     "text": [
      "INFO:crispy:Processing wavelength 0.722750 (7 out of 45)\n",
      "DEBUG:crispy:Input plane is 114x114\n"
     ]
    },
    {
     "name": "stdout",
     "output_type": "stream",
     "text": [
      "crispy - INFO - Processing wavelength 0.725900 (8 out of 45)\n",
      "crispy - INFO - Processing wavelength 0.725900 (8 out of 45)\n"
     ]
    },
    {
     "name": "stderr",
     "output_type": "stream",
     "text": [
      "INFO:crispy:Processing wavelength 0.725900 (8 out of 45)\n",
      "DEBUG:crispy:Input plane is 114x114\n"
     ]
    },
    {
     "name": "stdout",
     "output_type": "stream",
     "text": [
      "crispy - INFO - Processing wavelength 0.729050 (9 out of 45)\n",
      "crispy - INFO - Processing wavelength 0.729050 (9 out of 45)\n"
     ]
    },
    {
     "name": "stderr",
     "output_type": "stream",
     "text": [
      "INFO:crispy:Processing wavelength 0.729050 (9 out of 45)\n",
      "DEBUG:crispy:Input plane is 114x114\n"
     ]
    },
    {
     "name": "stdout",
     "output_type": "stream",
     "text": [
      "crispy - INFO - Processing wavelength 0.732200 (10 out of 45)\n",
      "crispy - INFO - Processing wavelength 0.732200 (10 out of 45)\n"
     ]
    },
    {
     "name": "stderr",
     "output_type": "stream",
     "text": [
      "INFO:crispy:Processing wavelength 0.732200 (10 out of 45)\n",
      "DEBUG:crispy:Input plane is 114x114\n"
     ]
    },
    {
     "name": "stdout",
     "output_type": "stream",
     "text": [
      "crispy - INFO - Processing wavelength 0.735350 (11 out of 45)\n",
      "crispy - INFO - Processing wavelength 0.735350 (11 out of 45)\n"
     ]
    },
    {
     "name": "stderr",
     "output_type": "stream",
     "text": [
      "INFO:crispy:Processing wavelength 0.735350 (11 out of 45)\n",
      "DEBUG:crispy:Input plane is 114x114\n"
     ]
    },
    {
     "name": "stdout",
     "output_type": "stream",
     "text": [
      "crispy - INFO - Processing wavelength 0.738500 (12 out of 45)\n",
      "crispy - INFO - Processing wavelength 0.738500 (12 out of 45)\n"
     ]
    },
    {
     "name": "stderr",
     "output_type": "stream",
     "text": [
      "INFO:crispy:Processing wavelength 0.738500 (12 out of 45)\n",
      "DEBUG:crispy:Input plane is 114x114\n"
     ]
    },
    {
     "name": "stdout",
     "output_type": "stream",
     "text": [
      "crispy - INFO - Processing wavelength 0.741650 (13 out of 45)\n",
      "crispy - INFO - Processing wavelength 0.741650 (13 out of 45)\n"
     ]
    },
    {
     "name": "stderr",
     "output_type": "stream",
     "text": [
      "INFO:crispy:Processing wavelength 0.741650 (13 out of 45)\n",
      "DEBUG:crispy:Input plane is 114x114\n"
     ]
    },
    {
     "name": "stdout",
     "output_type": "stream",
     "text": [
      "crispy - INFO - Processing wavelength 0.744800 (14 out of 45)\n",
      "crispy - INFO - Processing wavelength 0.744800 (14 out of 45)\n"
     ]
    },
    {
     "name": "stderr",
     "output_type": "stream",
     "text": [
      "INFO:crispy:Processing wavelength 0.744800 (14 out of 45)\n",
      "DEBUG:crispy:Input plane is 114x114\n"
     ]
    },
    {
     "name": "stdout",
     "output_type": "stream",
     "text": [
      "crispy - INFO - Processing wavelength 0.747950 (15 out of 45)\n",
      "crispy - INFO - Processing wavelength 0.747950 (15 out of 45)\n"
     ]
    },
    {
     "name": "stderr",
     "output_type": "stream",
     "text": [
      "INFO:crispy:Processing wavelength 0.747950 (15 out of 45)\n",
      "DEBUG:crispy:Input plane is 114x114\n"
     ]
    },
    {
     "name": "stdout",
     "output_type": "stream",
     "text": [
      "crispy - INFO - Processing wavelength 0.751100 (16 out of 45)\n",
      "crispy - INFO - Processing wavelength 0.751100 (16 out of 45)\n"
     ]
    },
    {
     "name": "stderr",
     "output_type": "stream",
     "text": [
      "INFO:crispy:Processing wavelength 0.751100 (16 out of 45)\n",
      "DEBUG:crispy:Input plane is 114x114\n"
     ]
    },
    {
     "name": "stdout",
     "output_type": "stream",
     "text": [
      "crispy - INFO - Processing wavelength 0.754250 (17 out of 45)\n",
      "crispy - INFO - Processing wavelength 0.754250 (17 out of 45)\n"
     ]
    },
    {
     "name": "stderr",
     "output_type": "stream",
     "text": [
      "INFO:crispy:Processing wavelength 0.754250 (17 out of 45)\n",
      "DEBUG:crispy:Input plane is 114x114\n"
     ]
    },
    {
     "name": "stdout",
     "output_type": "stream",
     "text": [
      "crispy - INFO - Processing wavelength 0.757400 (18 out of 45)\n",
      "crispy - INFO - Processing wavelength 0.757400 (18 out of 45)\n"
     ]
    },
    {
     "name": "stderr",
     "output_type": "stream",
     "text": [
      "INFO:crispy:Processing wavelength 0.757400 (18 out of 45)\n",
      "DEBUG:crispy:Input plane is 114x114\n"
     ]
    },
    {
     "name": "stdout",
     "output_type": "stream",
     "text": [
      "crispy - INFO - Processing wavelength 0.760550 (19 out of 45)\n",
      "crispy - INFO - Processing wavelength 0.760550 (19 out of 45)\n"
     ]
    },
    {
     "name": "stderr",
     "output_type": "stream",
     "text": [
      "INFO:crispy:Processing wavelength 0.760550 (19 out of 45)\n",
      "DEBUG:crispy:Input plane is 114x114\n"
     ]
    },
    {
     "name": "stdout",
     "output_type": "stream",
     "text": [
      "crispy - INFO - Processing wavelength 0.763700 (20 out of 45)\n",
      "crispy - INFO - Processing wavelength 0.763700 (20 out of 45)\n"
     ]
    },
    {
     "name": "stderr",
     "output_type": "stream",
     "text": [
      "INFO:crispy:Processing wavelength 0.763700 (20 out of 45)\n",
      "DEBUG:crispy:Input plane is 114x114\n"
     ]
    },
    {
     "ename": "KeyboardInterrupt",
     "evalue": "",
     "output_type": "error",
     "traceback": [
      "\u001b[0;31m---------------------------------------------------------------------------\u001b[0m",
      "\u001b[0;31mKeyboardInterrupt\u001b[0m                         Traceback (most recent call last)",
      "\u001b[0;32m<ipython-input-4-680a71dcb791>\u001b[0m in \u001b[0;36m<module>\u001b[0;34m()\u001b[0m\n\u001b[1;32m      9\u001b[0m                 \u001b[0mprocess_detector\u001b[0m\u001b[0;34m=\u001b[0m\u001b[0mTrue\u001b[0m\u001b[0;34m,\u001b[0m\u001b[0;34m\u001b[0m\u001b[0m\n\u001b[1;32m     10\u001b[0m                 \u001b[0mtake_averages\u001b[0m\u001b[0;34m=\u001b[0m\u001b[0mTrue\u001b[0m\u001b[0;34m,\u001b[0m\u001b[0;34m\u001b[0m\u001b[0m\n\u001b[0;32m---> 11\u001b[0;31m                 parallel=False)\n\u001b[0m",
      "\u001b[0;32m/local/data/nicolaus2/mrizzo/crispy/crispy/tools/postprocessing.py\u001b[0m in \u001b[0;36mprocess_SPC_IFS\u001b[0;34m(par, psf_time_series_folder, offaxis_psf_filename, planet_radius, mean_contrast, ref_star_T, ref_star_Vmag, target_star_T, target_star_Vmag, lamc, BW, n_ref_star_imgs, tel_pupil_area, outdir_time_series, outdir_detector, outdir_average, process_cubes, process_offaxis, process_detector, process_noiseless, take_averages, parallel)\u001b[0m\n\u001b[1;32m    207\u001b[0m                 \u001b[0mpar\u001b[0m\u001b[0;34m.\u001b[0m\u001b[0msaveDetector\u001b[0m\u001b[0;34m=\u001b[0m\u001b[0mFalse\u001b[0m\u001b[0;34m\u001b[0m\u001b[0m\n\u001b[1;32m    208\u001b[0m \u001b[0;34m\u001b[0m\u001b[0m\n\u001b[0;32m--> 209\u001b[0;31m                 \u001b[0mdetectorFrame\u001b[0m \u001b[0;34m=\u001b[0m \u001b[0mpropagateIFS\u001b[0m\u001b[0;34m(\u001b[0m\u001b[0mpar\u001b[0m\u001b[0;34m,\u001b[0m\u001b[0mlamlist\u001b[0m\u001b[0;34m.\u001b[0m\u001b[0mvalue\u001b[0m\u001b[0;34m/\u001b[0m\u001b[0;36m1000.\u001b[0m\u001b[0;34m,\u001b[0m\u001b[0mcube\u001b[0m\u001b[0;34m)\u001b[0m\u001b[0;34m\u001b[0m\u001b[0m\n\u001b[0m\u001b[1;32m    210\u001b[0m \u001b[0;34m\u001b[0m\u001b[0m\n\u001b[1;32m    211\u001b[0m                 \u001b[0;32mif\u001b[0m \u001b[0mi\u001b[0m\u001b[0;34m<\u001b[0m\u001b[0mn_ref_star_imgs\u001b[0m\u001b[0;34m:\u001b[0m\u001b[0;34m\u001b[0m\u001b[0m\n",
      "\u001b[0;32m/local/data/nicolaus2/mrizzo/crispy/crispy/IFS.pyc\u001b[0m in \u001b[0;36mpropagateIFS\u001b[0;34m(par, wavelist, inputcube, name)\u001b[0m\n\u001b[1;32m    190\u001b[0m                                         refWaveList,kernelList,allweights,locations)\n\u001b[1;32m    191\u001b[0m         \u001b[0;32melse\u001b[0m\u001b[0;34m:\u001b[0m\u001b[0;34m\u001b[0m\u001b[0m\n\u001b[0;32m--> 192\u001b[0;31m             \u001b[0mpropagateSingleWavelength\u001b[0m\u001b[0;34m(\u001b[0m\u001b[0mpar\u001b[0m\u001b[0;34m,\u001b[0m\u001b[0mi\u001b[0m\u001b[0;34m,\u001b[0m\u001b[0mwavelist\u001b[0m\u001b[0;34m,\u001b[0m\u001b[0minterpolatedInputCube\u001b[0m\u001b[0;34m,\u001b[0m\u001b[0mfinalFrame\u001b[0m\u001b[0;34m)\u001b[0m\u001b[0;34m\u001b[0m\u001b[0m\n\u001b[0m\u001b[1;32m    193\u001b[0m \u001b[0;34m\u001b[0m\u001b[0m\n\u001b[1;32m    194\u001b[0m \u001b[0;34m\u001b[0m\u001b[0m\n",
      "\u001b[0;32m/local/data/nicolaus2/mrizzo/crispy/crispy/IFS.pyc\u001b[0m in \u001b[0;36mpropagateSingleWavelength\u001b[0;34m(par, i, wavelist, interpolatedInputCube, finalFrame, refWaveList, kernelList, allweights, locations)\u001b[0m\n\u001b[1;32m     92\u001b[0m         \u001b[0mLenslets\u001b[0m\u001b[0;34m(\u001b[0m\u001b[0mpar\u001b[0m\u001b[0;34m,\u001b[0m \u001b[0mimagePlaneRot\u001b[0m\u001b[0;34m,\u001b[0m \u001b[0mlam\u001b[0m\u001b[0;34m,\u001b[0m\u001b[0mfinalFrame\u001b[0m\u001b[0;34m,\u001b[0m \u001b[0mallweights\u001b[0m\u001b[0;34m,\u001b[0m\u001b[0mkernel\u001b[0m\u001b[0;34m,\u001b[0m\u001b[0mlocations\u001b[0m\u001b[0;34m)\u001b[0m\u001b[0;34m\u001b[0m\u001b[0m\n\u001b[1;32m     93\u001b[0m     \u001b[0;32melse\u001b[0m\u001b[0;34m:\u001b[0m\u001b[0;34m\u001b[0m\u001b[0m\n\u001b[0;32m---> 94\u001b[0;31m         \u001b[0mLenslets\u001b[0m\u001b[0;34m(\u001b[0m\u001b[0mpar\u001b[0m\u001b[0;34m,\u001b[0m \u001b[0mimagePlaneRot\u001b[0m\u001b[0;34m,\u001b[0m \u001b[0mlam\u001b[0m\u001b[0;34m,\u001b[0m\u001b[0mfinalFrame\u001b[0m\u001b[0;34m)\u001b[0m\u001b[0;34m\u001b[0m\u001b[0m\n\u001b[0m\u001b[1;32m     95\u001b[0m     \u001b[0;32mif\u001b[0m \u001b[0mpar\u001b[0m\u001b[0;34m.\u001b[0m\u001b[0msaveLensletPlane\u001b[0m\u001b[0;34m:\u001b[0m \u001b[0mImage\u001b[0m\u001b[0;34m(\u001b[0m\u001b[0mdata\u001b[0m\u001b[0;34m=\u001b[0m\u001b[0mfinalFrame\u001b[0m\u001b[0;34m)\u001b[0m\u001b[0;34m.\u001b[0m\u001b[0mwrite\u001b[0m\u001b[0;34m(\u001b[0m\u001b[0mpar\u001b[0m\u001b[0;34m.\u001b[0m\u001b[0mexportDir\u001b[0m\u001b[0;34m+\u001b[0m\u001b[0;34m'/lensletPlane_%3.1fnm.fits'\u001b[0m \u001b[0;34m%\u001b[0m \u001b[0;34m(\u001b[0m\u001b[0mlam\u001b[0m\u001b[0;34m*\u001b[0m\u001b[0;36m1000.\u001b[0m\u001b[0;34m)\u001b[0m\u001b[0;34m)\u001b[0m\u001b[0;34m\u001b[0m\u001b[0m\n\u001b[1;32m     96\u001b[0m     \u001b[0;32mreturn\u001b[0m \u001b[0mTrue\u001b[0m\u001b[0;34m\u001b[0m\u001b[0m\n",
      "\u001b[0;32m/local/data/nicolaus2/mrizzo/crispy/crispy/tools/lenslet.pyc\u001b[0m in \u001b[0;36mLenslets\u001b[0;34m(par, imageplane, lam, lensletplane, allweights, kernels, locations)\u001b[0m\n\u001b[1;32m    165\u001b[0m                     \u001b[0msig\u001b[0m \u001b[0;34m=\u001b[0m \u001b[0mpar\u001b[0m\u001b[0;34m.\u001b[0m\u001b[0mFWHM\u001b[0m\u001b[0;34m/\u001b[0m\u001b[0;36m2.35\u001b[0m\u001b[0;34m\u001b[0m\u001b[0m\n\u001b[1;32m    166\u001b[0m                     \u001b[0mpsflet\u001b[0m \u001b[0;34m=\u001b[0m \u001b[0mnp\u001b[0m\u001b[0;34m.\u001b[0m\u001b[0mexp\u001b[0m\u001b[0;34m(\u001b[0m\u001b[0;34m-\u001b[0m\u001b[0;34m(\u001b[0m\u001b[0;34m(\u001b[0m\u001b[0m_x\u001b[0m\u001b[0;34m-\u001b[0m \u001b[0mrsx\u001b[0m\u001b[0;34m)\u001b[0m\u001b[0;34m**\u001b[0m\u001b[0;36m2\u001b[0m\u001b[0;34m+\u001b[0m\u001b[0;34m(\u001b[0m\u001b[0m_y\u001b[0m\u001b[0;34m-\u001b[0m \u001b[0mrsy\u001b[0m\u001b[0;34m)\u001b[0m\u001b[0;34m**\u001b[0m\u001b[0;36m2\u001b[0m\u001b[0;34m)\u001b[0m\u001b[0;34m/\u001b[0m\u001b[0;34m(\u001b[0m\u001b[0;36m2\u001b[0m\u001b[0;34m*\u001b[0m\u001b[0;34m(\u001b[0m\u001b[0msig\u001b[0m\u001b[0;34m*\u001b[0m\u001b[0mlam\u001b[0m\u001b[0;34m*\u001b[0m\u001b[0;36m1000\u001b[0m\u001b[0;34m/\u001b[0m\u001b[0mpar\u001b[0m\u001b[0;34m.\u001b[0m\u001b[0mFWHMlam\u001b[0m\u001b[0;34m)\u001b[0m\u001b[0;34m**\u001b[0m\u001b[0;36m2\u001b[0m\u001b[0;34m)\u001b[0m\u001b[0;34m)\u001b[0m\u001b[0;34m\u001b[0m\u001b[0m\n\u001b[0;32m--> 167\u001b[0;31m                     \u001b[0mpsflet\u001b[0m \u001b[0;34m/=\u001b[0m \u001b[0mnp\u001b[0m\u001b[0;34m.\u001b[0m\u001b[0msum\u001b[0m\u001b[0;34m(\u001b[0m\u001b[0mpsflet\u001b[0m\u001b[0;34m)\u001b[0m\u001b[0;34m\u001b[0m\u001b[0m\n\u001b[0m\u001b[1;32m    168\u001b[0m                     \u001b[0mxlow\u001b[0m \u001b[0;34m=\u001b[0m \u001b[0misy\u001b[0m\u001b[0;34m-\u001b[0m\u001b[0msize\u001b[0m\u001b[0;34m//\u001b[0m\u001b[0;36m2\u001b[0m\u001b[0;34m\u001b[0m\u001b[0m\n\u001b[1;32m    169\u001b[0m                     \u001b[0mxhigh\u001b[0m \u001b[0;34m=\u001b[0m \u001b[0mxlow\u001b[0m\u001b[0;34m+\u001b[0m\u001b[0msize\u001b[0m\u001b[0;34m\u001b[0m\u001b[0m\n",
      "\u001b[0;31mKeyboardInterrupt\u001b[0m: "
     ]
    }
   ],
   "source": [
    "os5folder = '/local/data/nicolaus2/mrizzo/haystacks/for_gsfc/with_lowfc'\n",
    "offaxispsf= '/local/data/nicolaus2/mrizzo/haystacks/for_gsfc/spc_offaxis_psf.fits'\n",
    "mean_contrast = 1e-8\n",
    "signal,noise = process_SPC_IFS(par,os5folder,offaxispsf,mean_contrast=mean_contrast,\n",
    "                outdir_time_series = 'OS5',outdir_detector='OS5/OS5_detector',\n",
    "                outdir_average='OS5/OS5_average',\n",
    "                process_cubes=True,\n",
    "                process_offaxis=True,\n",
    "                process_detector=True,\n",
    "                take_averages=True,\n",
    "                parallel=False)"
   ]
  },
  {
   "cell_type": "markdown",
   "metadata": {},
   "source": [
    "### Noiseless processing to assess the systematics"
   ]
  },
  {
   "cell_type": "code",
   "execution_count": null,
   "metadata": {
    "collapsed": false,
    "scrolled": true
   },
   "outputs": [],
   "source": [
    "os5folder = '/local/data/nicolaus2/mrizzo/haystacks/for_gsfc/with_lowfc'\n",
    "offaxispsf= '/local/data/nicolaus2/mrizzo/haystacks/for_gsfc/spc_offaxis_psf.fits'\n",
    "mean_contrast = 1e-8\n",
    "signal,noise = process_SPC_IFS(par,os5folder,offaxispsf,mean_contrast=mean_contrast,\n",
    "                outdir_time_series = 'OS5/OS5_test',outdir_detector='OS5/OS5_test/OS5_detector',\n",
    "                outdir_average='OS5/OS5_test/OS5_average',\n",
    "                process_cubes=False,\n",
    "                process_offaxis=True,\n",
    "                process_detector=False,\n",
    "                process_noiseless=True,\n",
    "                take_averages=True)"
   ]
  },
  {
   "cell_type": "code",
   "execution_count": null,
   "metadata": {
    "collapsed": false
   },
   "outputs": [],
   "source": [
    "import seaborn as sns\n",
    "import numpy as np\n",
    "from tools.inputScene import calc_contrast\n",
    "from tools.reduction import calculateWaveList\n",
    "lam_midpts,junk = calculateWaveList(par)\n",
    "wavelist = 770*np.linspace(1.-0.18/2.,1.+0.18/2.,45)\n",
    "spectrum=calc_contrast(wavelist,mean_contrast=mean_contrast)\n",
    "sns.set_style(\"whitegrid\")\n",
    "fig,ax = plt.subplots(figsize=(12,6))\n",
    "real_vals=calc_contrast(wavelist,mean_contrast=mean_contrast)\n",
    "ax.plot(wavelist,real_vals,label='Original spectrum')\n",
    "ax.errorbar(lam_midpts,signal*np.mean(spectrum)/np.mean(signal),yerr=noise*np.mean(spectrum)/np.mean(signal),label='Recovered spectrum',fmt='o')\n",
    "from scipy import ndimage\n",
    "FWHM = 4.\n",
    "smooth = ndimage.filters.gaussian_filter1d(real_vals,FWHM/2.35,order=0,mode='constant')\n",
    "ax.plot(wavelist,smooth,'-',label='Gaussian-smoothed original spectrum w/ FWHM=%.0f bins' % FWHM)\n",
    "\n",
    "ax.set_xlabel('Wavelength (nm)')\n",
    "ax.set_ylabel('Contrast')\n",
    "ax.set_title('Star+planet, no noise')\n",
    "plt.legend()\n",
    "chisq = np.sum((signal*np.mean(spectrum)/np.mean(signal) - calc_contrast(lam_midpts,mean_contrast=mean_contrast))**2/(noise*np.mean(spectrum)/np.mean(signal))**2)\n",
    "print chisq/len(signal)\n",
    "#fig.savefig(par.exportDir+'/Contrast%.0g.png' % mean_contrast)"
   ]
  },
  {
   "cell_type": "code",
   "execution_count": null,
   "metadata": {
    "collapsed": false
   },
   "outputs": [],
   "source": [
    "mean_contrast"
   ]
  },
  {
   "cell_type": "code",
   "execution_count": null,
   "metadata": {
    "collapsed": false
   },
   "outputs": [],
   "source": [
    "from tools.image import Image\n",
    "from astropy.io import fits\n",
    "img = Image('/local/data/nicolaus2/mrizzo/crispy/code/OS5/OS5_test/OS5_average/average_ref_star_detector.fits')\n"
   ]
  },
  {
   "cell_type": "code",
   "execution_count": null,
   "metadata": {
    "collapsed": false
   },
   "outputs": [],
   "source": [
    "outdir_average='OS5/OS5_average'\n",
    "mf_name = outdir_average+'/matched_filter.fits'\n",
    "mf = Image(mf_name)\n",
    "#plt.imshow(mf.data[5,:,:])\n",
    "print(np.nansum(np.nansum(mf.data,axis=2),axis=1))"
   ]
  },
  {
   "cell_type": "code",
   "execution_count": null,
   "metadata": {
    "collapsed": false
   },
   "outputs": [],
   "source": [
    "#cube = Image(outdir_average+'/residual.fits')\n",
    "flatfield = Image(par.exportDir+'/flatfield_red_optext.fits')\n",
    "# cube = Image(par.exportDir+'/average_ref_star_detector_red_optext.fits')"
   ]
  },
  {
   "cell_type": "code",
   "execution_count": null,
   "metadata": {
    "collapsed": false
   },
   "outputs": [],
   "source": [
    "print flatfield.data.shape"
   ]
  },
  {
   "cell_type": "code",
   "execution_count": null,
   "metadata": {
    "collapsed": false
   },
   "outputs": [],
   "source": [
    "from tools.imgtools import bowtie\n",
    "ydim,xdim = cube.data[0].shape\n",
    "maskleft,maskright = bowtie(cube.data[0],ydim//2,xdim//2,openingAngle=65,clocking=-par.philens*180/np.pi,IWApix=6*0.77/0.6,OWApix=18*0.77/0.6,export='bowtie',twomasks=True)"
   ]
  },
  {
   "cell_type": "code",
   "execution_count": null,
   "metadata": {
    "collapsed": false
   },
   "outputs": [],
   "source": [
    "plt.figure(figsize=(12,6))\n",
    "plt.imshow(cube.data[5,:,:]*maskleft)\n",
    "plt.colorbar()"
   ]
  },
  {
   "cell_type": "code",
   "execution_count": null,
   "metadata": {
    "collapsed": false
   },
   "outputs": [],
   "source": [
    "pixstd = [np.nanstd(cube.data[i,:,:]*maskright) for i in range(cube.data.shape[0])]\n",
    "mf_npix = np.nansum(np.nansum(mf.data,axis=2),axis=1)\n",
    "pixstd*mf_npix"
   ]
  },
  {
   "cell_type": "code",
   "execution_count": null,
   "metadata": {
    "collapsed": true
   },
   "outputs": [],
   "source": []
  },
  {
   "cell_type": "code",
   "execution_count": null,
   "metadata": {
    "collapsed": false
   },
   "outputs": [],
   "source": [
    "import astropy.units as u\n",
    "lam = 0.77*u.um\n",
    "D = 2.34*u.m\n",
    "lamoD = (lam.to(u.m)/D).value*u.radian\n",
    "lamoD = lamoD.to(u.arcsec)\n",
    "print(lamoD)\n",
    "dist = 5./14.\n",
    "print(AU)\n",
    "0.257695*u.arcsec/lamoD"
   ]
  },
  {
   "cell_type": "code",
   "execution_count": null,
   "metadata": {
    "collapsed": false,
    "scrolled": true
   },
   "outputs": [],
   "source": [
    "from unitTests import testCreateFlatfield\n",
    "testCreateFlatfield(par)"
   ]
  },
  {
   "cell_type": "code",
   "execution_count": null,
   "metadata": {
    "collapsed": false
   },
   "outputs": [],
   "source": [
    "from IFS import reduceIFSMap\n",
    "fname = 'unitTestsOutputs/flatfield.fits'\n",
    "cube = reduceIFSMap(par,fname)"
   ]
  },
  {
   "cell_type": "code",
   "execution_count": null,
   "metadata": {
    "collapsed": false,
    "scrolled": true
   },
   "outputs": [],
   "source": [
    "os5folder = '/local/data/nicolaus2/mrizzo/haystacks/for_gsfc/with_lowfc'\n",
    "offaxispsf= '/local/data/nicolaus2/mrizzo/haystacks/for_gsfc/spc_offaxis_psf.fits'\n",
    "mean_contrast = 1e-8\n",
    "from tools.postprocessing import SPC_IFS_systematics\n",
    "signal,noise,off = SPC_IFS_systematics(par,os5folder,offaxispsf,mean_contrast=mean_contrast,\n",
    "                outdir_time_series = 'OS5/OS5_test',outdir_detector='OS5/OS5_test/OS5_detector',\n",
    "                outdir_average='OS5/OS5_test/OS5_average',\n",
    "                process_cubes=False,\n",
    "                process_offaxis=True,\n",
    "                process_detector=True,\n",
    "                take_averages=True)"
   ]
  },
  {
   "cell_type": "code",
   "execution_count": null,
   "metadata": {
    "collapsed": false
   },
   "outputs": [],
   "source": [
    "import seaborn as sns\n",
    "import numpy as np\n",
    "from tools.inputScene import calc_contrast\n",
    "from tools.reduction import calculateWaveList\n",
    "lam_midpts,junk = calculateWaveList(par)\n",
    "# wavelist = np.arange(min(lam_midpts),max(lam_midpts),3)\n",
    "wavelist = 770*np.linspace(1.-0.18/2.,1.+0.18/2.,45)\n",
    "spectrum=calc_contrast(wavelist,mean_contrast=mean_contrast)\n",
    "sns.set_style(\"whitegrid\")\n",
    "fig,ax = plt.subplots(figsize=(12,6))\n",
    "real_vals=calc_contrast(wavelist,mean_contrast=mean_contrast)\n",
    "ax.plot(wavelist,calc_contrast(wavelist,mean_contrast=mean_contrast),label='Original spectrum')\n",
    "#ax.errorbar(lam_midpts,(signal-off)*np.mean(spectrum)/np.mean(signal),yerr=noise*np.mean(spectrum)/np.mean(signal),label='Recovered spectrum',fmt='o')\n",
    "ax.plot(lam_midpts,(signal-off)*np.mean(spectrum)/np.mean(signal[1:-1]),'o',label='Recovered spectrum')\n",
    "from scipy import ndimage\n",
    "FWHM = 4.\n",
    "smooth = ndimage.filters.gaussian_filter1d(real_vals,FWHM/2.35,order=0,mode='constant')\n",
    "ax.plot(wavelist,smooth,'-',label='Gaussian-smoothed original spectrum w/ FWHM=%.0f bins' % FWHM)\n",
    "\n",
    "#ax.errorbar(lam_midpts,(signal),yerr=noise,label='Recovered spectrum',fmt='o')\n",
    "ax.set_xlabel('Wavelength (nm)')\n",
    "ax.set_ylabel('Contrast')\n",
    "ax.set_title('Planet, no star, no noise')\n",
    "plt.legend()\n",
    "chisq = np.sum((signal*np.mean(spectrum)/np.mean(signal[1:-1]) - calc_contrast(lam_midpts,mean_contrast=mean_contrast))**2/(noise*np.mean(spectrum)/np.mean(signal[1:-1]))**2)\n",
    "print chisq/len(signal)\n",
    "\n",
    "#fig.savefig(par.exportDir+'/Contrast%.0g.png' % mean_contrast)"
   ]
  },
  {
   "cell_type": "code",
   "execution_count": null,
   "metadata": {
    "collapsed": false
   },
   "outputs": [],
   "source": [
    "print(lam_midpts)"
   ]
  },
  {
   "cell_type": "code",
   "execution_count": null,
   "metadata": {
    "collapsed": true
   },
   "outputs": [],
   "source": []
  },
  {
   "cell_type": "code",
   "execution_count": null,
   "metadata": {
    "collapsed": true
   },
   "outputs": [],
   "source": []
  },
  {
   "cell_type": "code",
   "execution_count": null,
   "metadata": {
    "collapsed": false
   },
   "outputs": [],
   "source": [
    "par.lenslet_wav = 660.\n",
    "par.makeHeader()\n",
    "offaxispsf= '/local/data/nicolaus2/mrizzo/haystacks/for_gsfc/spc_offaxis_psf.fits'\n",
    "mean_contrast = 1e-7\n",
    "from tools.postprocessing import SPC_process_offaxis_only\n",
    "signal,noise,off = SPC_process_offaxis_only(par,offaxispsf,mean_contrast=mean_contrast,\n",
    "                outdir_time_series = 'OS5/OS5_test',outdir_detector='OS5/OS5_test/OS5_detector',\n",
    "                outdir_average='OS5/OS5_test/OS5_average',\n",
    "                process_offaxis=True,\n",
    "                process_detector=True,\n",
    "                take_averages=True)"
   ]
  }
 ],
 "metadata": {
  "kernelspec": {
   "display_name": "Python 2",
   "language": "python",
   "name": "python2"
  },
  "language_info": {
   "codemirror_mode": {
    "name": "ipython",
    "version": 2
   },
   "file_extension": ".py",
   "mimetype": "text/x-python",
   "name": "python",
   "nbconvert_exporter": "python",
   "pygments_lexer": "ipython2",
   "version": "2.7.13"
  }
 },
 "nbformat": 4,
 "nbformat_minor": 1
}
