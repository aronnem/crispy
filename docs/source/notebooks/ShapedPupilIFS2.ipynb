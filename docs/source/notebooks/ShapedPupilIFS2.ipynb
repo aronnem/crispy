{
 "cells": [
  {
   "cell_type": "code",
   "execution_count": 1,
   "metadata": {
    "collapsed": false
   },
   "outputs": [
    {
     "name": "stdout",
     "output_type": "stream",
     "text": [
      "Populating the interactive namespace from numpy and matplotlib\n",
      "../code\n"
     ]
    },
    {
     "name": "stderr",
     "output_type": "stream",
     "text": [
      "/local/data/nicolaus2/mrizzo/anaconda/lib/python2.7/site-packages/astropy/analytic_functions/blackbody.py:30: RuntimeWarning: overflow encountered in expm1\n",
      "  _has_buggy_expm1 = np.isnan(np.expm1(1000))\n"
     ]
    }
   ],
   "source": [
    "%pylab inline --no-import-all\n",
    "matplotlib.rcParams['image.origin'] = 'lower'\n",
    "matplotlib.rcParams['image.interpolation'] = 'nearest'\n",
    "import sys\n",
    "import os\n",
    "\n",
    "folder = '../code'\n",
    "print(folder)\n",
    "if folder not in sys.path: sys.path.append(folder)\n",
    "\n",
    "from IFS import propagateIFS\n",
    "from params import Params\n",
    "os.chdir(folder)\n",
    "par = Params()\n",
    "par.saveRotatedInput = False\n",
    "par.saveDetector = False\n",
    "\n",
    "from tools.postprocessing import process_SPC_IFS\n",
    "\n",
    "from tools.initLogger import getLogger\n",
    "log = getLogger('crispy')"
   ]
  },
  {
   "cell_type": "code",
   "execution_count": null,
   "metadata": {
    "collapsed": false,
    "scrolled": true
   },
   "outputs": [],
   "source": [
    "from unitTests import testCreateFlatfield\n",
    "testCreateFlatfield(par)\n"
   ]
  },
  {
   "cell_type": "code",
   "execution_count": null,
   "metadata": {
    "collapsed": false,
    "scrolled": true
   },
   "outputs": [],
   "source": [
    "os5folder = '/local/data/nicolaus2/mrizzo/haystacks/for_gsfc/with_lowfc'\n",
    "offaxispsf= '/local/data/nicolaus2/mrizzo/haystacks/for_gsfc/spc_offaxis_psf.fits'\n",
    "mean_contrast = 1e-7\n",
    "signal,noise = process_SPC_IFS(par,os5folder,offaxispsf,mean_contrast=mean_contrast,\n",
    "                outdir_time_series = 'OS5/OS5_test',outdir_detector='OS5/OS5_test/OS5_detector',\n",
    "                outdir_average='OS5/OS5_test/OS5_average',\n",
    "                process_cubes=False,\n",
    "                process_offaxis=True,\n",
    "                process_detector=True,\n",
    "                take_averages=True)"
   ]
  },
  {
   "cell_type": "markdown",
   "metadata": {},
   "source": [
    "### Noiseless processing to assess the systematics"
   ]
  },
  {
   "cell_type": "code",
   "execution_count": 2,
   "metadata": {
    "collapsed": false,
    "scrolled": true
   },
   "outputs": [
    {
     "name": "stdout",
     "output_type": "stream",
     "text": [
      "crispy - INFO - Read data from HDU 0 of /local/data/nicolaus2/mrizzo/haystacks/for_gsfc/with_lowfc/os5_spc_001.fits\n"
     ]
    },
    {
     "name": "stderr",
     "output_type": "stream",
     "text": [
      "INFO:crispy:Read data from HDU 0 of /local/data/nicolaus2/mrizzo/haystacks/for_gsfc/with_lowfc/os5_spc_001.fits\n"
     ]
    },
    {
     "name": "stdout",
     "output_type": "stream",
     "text": [
      "crispy - INFO - Read data from HDU 0 of /local/data/nicolaus2/mrizzo/haystacks/for_gsfc/spc_offaxis_psf.fits\n"
     ]
    },
    {
     "name": "stderr",
     "output_type": "stream",
     "text": [
      "INFO:crispy:Read data from HDU 0 of /local/data/nicolaus2/mrizzo/haystacks/for_gsfc/spc_offaxis_psf.fits\n",
      "DEBUG:crispy:Modifying cube header\n"
     ]
    },
    {
     "name": "stdout",
     "output_type": "stream",
     "text": [
      "Processing file /local/data/nicolaus2/mrizzo/haystacks/for_gsfc/spc_offaxis_psf.fits\n",
      "crispy - ERROR - Unable to write FITS file OS5/OS5_test/OS5_average/offaxiscube_processed.fits\n"
     ]
    },
    {
     "name": "stderr",
     "output_type": "stream",
     "text": [
      "ERROR:crispy:Unable to write FITS file OS5/OS5_test/OS5_average/offaxiscube_processed.fits\n"
     ]
    },
    {
     "name": "stdout",
     "output_type": "stream",
     "text": [
      "crispy - INFO - The number of input pixels per lenslet is 3.896104\n"
     ]
    },
    {
     "name": "stderr",
     "output_type": "stream",
     "text": [
      "INFO:crispy:The number of input pixels per lenslet is 3.896104\n"
     ]
    },
    {
     "name": "stdout",
     "output_type": "stream",
     "text": [
      "crispy - INFO - Using PSFlet gaussian approximation\n"
     ]
    },
    {
     "name": "stderr",
     "output_type": "stream",
     "text": [
      "INFO:crispy:Using PSFlet gaussian approximation\n"
     ]
    },
    {
     "name": "stdout",
     "output_type": "stream",
     "text": [
      "crispy - INFO - Final detector pixel per PSFLet: 40.000000\n"
     ]
    },
    {
     "name": "stderr",
     "output_type": "stream",
     "text": [
      "INFO:crispy:Final detector pixel per PSFLet: 40.000000\n"
     ]
    },
    {
     "name": "stdout",
     "output_type": "stream",
     "text": [
      "crispy - INFO - Processing wavelength 0.700700 (0 out of 45)\n"
     ]
    },
    {
     "name": "stderr",
     "output_type": "stream",
     "text": [
      "INFO:crispy:Processing wavelength 0.700700 (0 out of 45)\n",
      "DEBUG:crispy:Input plane is 114x114\n"
     ]
    },
    {
     "name": "stdout",
     "output_type": "stream",
     "text": [
      "crispy - INFO - Processing wavelength 0.703850 (1 out of 45)\n"
     ]
    },
    {
     "name": "stderr",
     "output_type": "stream",
     "text": [
      "INFO:crispy:Processing wavelength 0.703850 (1 out of 45)\n",
      "DEBUG:crispy:Input plane is 114x114\n"
     ]
    },
    {
     "name": "stdout",
     "output_type": "stream",
     "text": [
      "crispy - INFO - Processing wavelength 0.707000 (2 out of 45)\n"
     ]
    },
    {
     "name": "stderr",
     "output_type": "stream",
     "text": [
      "INFO:crispy:Processing wavelength 0.707000 (2 out of 45)\n",
      "DEBUG:crispy:Input plane is 114x114\n"
     ]
    },
    {
     "name": "stdout",
     "output_type": "stream",
     "text": [
      "crispy - INFO - Processing wavelength 0.710150 (3 out of 45)\n"
     ]
    },
    {
     "name": "stderr",
     "output_type": "stream",
     "text": [
      "INFO:crispy:Processing wavelength 0.710150 (3 out of 45)\n",
      "DEBUG:crispy:Input plane is 114x114\n"
     ]
    },
    {
     "name": "stdout",
     "output_type": "stream",
     "text": [
      "crispy - INFO - Processing wavelength 0.713300 (4 out of 45)\n"
     ]
    },
    {
     "name": "stderr",
     "output_type": "stream",
     "text": [
      "INFO:crispy:Processing wavelength 0.713300 (4 out of 45)\n",
      "DEBUG:crispy:Input plane is 114x114\n"
     ]
    },
    {
     "name": "stdout",
     "output_type": "stream",
     "text": [
      "crispy - INFO - Processing wavelength 0.716450 (5 out of 45)\n"
     ]
    },
    {
     "name": "stderr",
     "output_type": "stream",
     "text": [
      "INFO:crispy:Processing wavelength 0.716450 (5 out of 45)\n",
      "DEBUG:crispy:Input plane is 114x114\n"
     ]
    },
    {
     "name": "stdout",
     "output_type": "stream",
     "text": [
      "crispy - INFO - Processing wavelength 0.719600 (6 out of 45)\n"
     ]
    },
    {
     "name": "stderr",
     "output_type": "stream",
     "text": [
      "INFO:crispy:Processing wavelength 0.719600 (6 out of 45)\n",
      "DEBUG:crispy:Input plane is 114x114\n"
     ]
    },
    {
     "name": "stdout",
     "output_type": "stream",
     "text": [
      "crispy - INFO - Processing wavelength 0.722750 (7 out of 45)\n"
     ]
    },
    {
     "name": "stderr",
     "output_type": "stream",
     "text": [
      "INFO:crispy:Processing wavelength 0.722750 (7 out of 45)\n",
      "DEBUG:crispy:Input plane is 114x114\n"
     ]
    },
    {
     "name": "stdout",
     "output_type": "stream",
     "text": [
      "crispy - INFO - Processing wavelength 0.725900 (8 out of 45)\n"
     ]
    },
    {
     "name": "stderr",
     "output_type": "stream",
     "text": [
      "INFO:crispy:Processing wavelength 0.725900 (8 out of 45)\n",
      "DEBUG:crispy:Input plane is 114x114\n"
     ]
    },
    {
     "name": "stdout",
     "output_type": "stream",
     "text": [
      "crispy - INFO - Processing wavelength 0.729050 (9 out of 45)\n"
     ]
    },
    {
     "name": "stderr",
     "output_type": "stream",
     "text": [
      "INFO:crispy:Processing wavelength 0.729050 (9 out of 45)\n",
      "DEBUG:crispy:Input plane is 114x114\n"
     ]
    },
    {
     "name": "stdout",
     "output_type": "stream",
     "text": [
      "crispy - INFO - Processing wavelength 0.732200 (10 out of 45)\n"
     ]
    },
    {
     "name": "stderr",
     "output_type": "stream",
     "text": [
      "INFO:crispy:Processing wavelength 0.732200 (10 out of 45)\n",
      "DEBUG:crispy:Input plane is 114x114\n"
     ]
    },
    {
     "name": "stdout",
     "output_type": "stream",
     "text": [
      "crispy - INFO - Processing wavelength 0.735350 (11 out of 45)\n"
     ]
    },
    {
     "name": "stderr",
     "output_type": "stream",
     "text": [
      "INFO:crispy:Processing wavelength 0.735350 (11 out of 45)\n",
      "DEBUG:crispy:Input plane is 114x114\n"
     ]
    },
    {
     "name": "stdout",
     "output_type": "stream",
     "text": [
      "crispy - INFO - Processing wavelength 0.738500 (12 out of 45)\n"
     ]
    },
    {
     "name": "stderr",
     "output_type": "stream",
     "text": [
      "INFO:crispy:Processing wavelength 0.738500 (12 out of 45)\n",
      "DEBUG:crispy:Input plane is 114x114\n"
     ]
    },
    {
     "name": "stdout",
     "output_type": "stream",
     "text": [
      "crispy - INFO - Processing wavelength 0.741650 (13 out of 45)\n"
     ]
    },
    {
     "name": "stderr",
     "output_type": "stream",
     "text": [
      "INFO:crispy:Processing wavelength 0.741650 (13 out of 45)\n",
      "DEBUG:crispy:Input plane is 114x114\n"
     ]
    },
    {
     "name": "stdout",
     "output_type": "stream",
     "text": [
      "crispy - INFO - Processing wavelength 0.744800 (14 out of 45)\n"
     ]
    },
    {
     "name": "stderr",
     "output_type": "stream",
     "text": [
      "INFO:crispy:Processing wavelength 0.744800 (14 out of 45)\n",
      "DEBUG:crispy:Input plane is 114x114\n"
     ]
    },
    {
     "name": "stdout",
     "output_type": "stream",
     "text": [
      "crispy - INFO - Processing wavelength 0.747950 (15 out of 45)\n"
     ]
    },
    {
     "name": "stderr",
     "output_type": "stream",
     "text": [
      "INFO:crispy:Processing wavelength 0.747950 (15 out of 45)\n",
      "DEBUG:crispy:Input plane is 114x114\n"
     ]
    },
    {
     "name": "stdout",
     "output_type": "stream",
     "text": [
      "crispy - INFO - Processing wavelength 0.751100 (16 out of 45)\n"
     ]
    },
    {
     "name": "stderr",
     "output_type": "stream",
     "text": [
      "INFO:crispy:Processing wavelength 0.751100 (16 out of 45)\n",
      "DEBUG:crispy:Input plane is 114x114\n"
     ]
    },
    {
     "name": "stdout",
     "output_type": "stream",
     "text": [
      "crispy - INFO - Processing wavelength 0.754250 (17 out of 45)\n"
     ]
    },
    {
     "name": "stderr",
     "output_type": "stream",
     "text": [
      "INFO:crispy:Processing wavelength 0.754250 (17 out of 45)\n",
      "DEBUG:crispy:Input plane is 114x114\n"
     ]
    },
    {
     "name": "stdout",
     "output_type": "stream",
     "text": [
      "crispy - INFO - Processing wavelength 0.757400 (18 out of 45)\n"
     ]
    },
    {
     "name": "stderr",
     "output_type": "stream",
     "text": [
      "INFO:crispy:Processing wavelength 0.757400 (18 out of 45)\n",
      "DEBUG:crispy:Input plane is 114x114\n"
     ]
    },
    {
     "name": "stdout",
     "output_type": "stream",
     "text": [
      "crispy - INFO - Processing wavelength 0.760550 (19 out of 45)\n"
     ]
    },
    {
     "name": "stderr",
     "output_type": "stream",
     "text": [
      "INFO:crispy:Processing wavelength 0.760550 (19 out of 45)\n",
      "DEBUG:crispy:Input plane is 114x114\n"
     ]
    },
    {
     "name": "stdout",
     "output_type": "stream",
     "text": [
      "crispy - INFO - Processing wavelength 0.763700 (20 out of 45)\n"
     ]
    },
    {
     "name": "stderr",
     "output_type": "stream",
     "text": [
      "INFO:crispy:Processing wavelength 0.763700 (20 out of 45)\n",
      "DEBUG:crispy:Input plane is 114x114\n"
     ]
    },
    {
     "name": "stdout",
     "output_type": "stream",
     "text": [
      "crispy - INFO - Processing wavelength 0.766850 (21 out of 45)\n"
     ]
    },
    {
     "name": "stderr",
     "output_type": "stream",
     "text": [
      "INFO:crispy:Processing wavelength 0.766850 (21 out of 45)\n",
      "DEBUG:crispy:Input plane is 114x114\n"
     ]
    },
    {
     "name": "stdout",
     "output_type": "stream",
     "text": [
      "crispy - INFO - Processing wavelength 0.770000 (22 out of 45)\n"
     ]
    },
    {
     "name": "stderr",
     "output_type": "stream",
     "text": [
      "INFO:crispy:Processing wavelength 0.770000 (22 out of 45)\n",
      "DEBUG:crispy:Input plane is 114x114\n"
     ]
    },
    {
     "name": "stdout",
     "output_type": "stream",
     "text": [
      "crispy - INFO - Processing wavelength 0.773150 (23 out of 45)\n"
     ]
    },
    {
     "name": "stderr",
     "output_type": "stream",
     "text": [
      "INFO:crispy:Processing wavelength 0.773150 (23 out of 45)\n",
      "DEBUG:crispy:Input plane is 114x114\n"
     ]
    },
    {
     "name": "stdout",
     "output_type": "stream",
     "text": [
      "crispy - INFO - Processing wavelength 0.776300 (24 out of 45)\n"
     ]
    },
    {
     "name": "stderr",
     "output_type": "stream",
     "text": [
      "INFO:crispy:Processing wavelength 0.776300 (24 out of 45)\n",
      "DEBUG:crispy:Input plane is 114x114\n"
     ]
    },
    {
     "name": "stdout",
     "output_type": "stream",
     "text": [
      "crispy - INFO - Processing wavelength 0.779450 (25 out of 45)\n"
     ]
    },
    {
     "name": "stderr",
     "output_type": "stream",
     "text": [
      "INFO:crispy:Processing wavelength 0.779450 (25 out of 45)\n",
      "DEBUG:crispy:Input plane is 114x114\n"
     ]
    },
    {
     "name": "stdout",
     "output_type": "stream",
     "text": [
      "crispy - INFO - Processing wavelength 0.782600 (26 out of 45)\n"
     ]
    },
    {
     "name": "stderr",
     "output_type": "stream",
     "text": [
      "INFO:crispy:Processing wavelength 0.782600 (26 out of 45)\n",
      "DEBUG:crispy:Input plane is 114x114\n"
     ]
    },
    {
     "name": "stdout",
     "output_type": "stream",
     "text": [
      "crispy - INFO - Processing wavelength 0.785750 (27 out of 45)\n"
     ]
    },
    {
     "name": "stderr",
     "output_type": "stream",
     "text": [
      "INFO:crispy:Processing wavelength 0.785750 (27 out of 45)\n",
      "DEBUG:crispy:Input plane is 114x114\n"
     ]
    },
    {
     "name": "stdout",
     "output_type": "stream",
     "text": [
      "crispy - INFO - Processing wavelength 0.788900 (28 out of 45)\n"
     ]
    },
    {
     "name": "stderr",
     "output_type": "stream",
     "text": [
      "INFO:crispy:Processing wavelength 0.788900 (28 out of 45)\n",
      "DEBUG:crispy:Input plane is 114x114\n"
     ]
    },
    {
     "name": "stdout",
     "output_type": "stream",
     "text": [
      "crispy - INFO - Processing wavelength 0.792050 (29 out of 45)\n"
     ]
    },
    {
     "name": "stderr",
     "output_type": "stream",
     "text": [
      "INFO:crispy:Processing wavelength 0.792050 (29 out of 45)\n",
      "DEBUG:crispy:Input plane is 114x114\n"
     ]
    },
    {
     "name": "stdout",
     "output_type": "stream",
     "text": [
      "crispy - INFO - Processing wavelength 0.795200 (30 out of 45)\n"
     ]
    },
    {
     "name": "stderr",
     "output_type": "stream",
     "text": [
      "INFO:crispy:Processing wavelength 0.795200 (30 out of 45)\n",
      "DEBUG:crispy:Input plane is 114x114\n"
     ]
    },
    {
     "name": "stdout",
     "output_type": "stream",
     "text": [
      "crispy - INFO - Processing wavelength 0.798350 (31 out of 45)\n"
     ]
    },
    {
     "name": "stderr",
     "output_type": "stream",
     "text": [
      "INFO:crispy:Processing wavelength 0.798350 (31 out of 45)\n",
      "DEBUG:crispy:Input plane is 114x114\n"
     ]
    },
    {
     "name": "stdout",
     "output_type": "stream",
     "text": [
      "crispy - INFO - Processing wavelength 0.801500 (32 out of 45)\n"
     ]
    },
    {
     "name": "stderr",
     "output_type": "stream",
     "text": [
      "INFO:crispy:Processing wavelength 0.801500 (32 out of 45)\n",
      "DEBUG:crispy:Input plane is 114x114\n"
     ]
    },
    {
     "name": "stdout",
     "output_type": "stream",
     "text": [
      "crispy - INFO - Processing wavelength 0.804650 (33 out of 45)\n"
     ]
    },
    {
     "name": "stderr",
     "output_type": "stream",
     "text": [
      "INFO:crispy:Processing wavelength 0.804650 (33 out of 45)\n",
      "DEBUG:crispy:Input plane is 114x114\n"
     ]
    },
    {
     "name": "stdout",
     "output_type": "stream",
     "text": [
      "crispy - INFO - Processing wavelength 0.807800 (34 out of 45)\n"
     ]
    },
    {
     "name": "stderr",
     "output_type": "stream",
     "text": [
      "INFO:crispy:Processing wavelength 0.807800 (34 out of 45)\n",
      "DEBUG:crispy:Input plane is 114x114\n"
     ]
    },
    {
     "name": "stdout",
     "output_type": "stream",
     "text": [
      "crispy - INFO - Processing wavelength 0.810950 (35 out of 45)\n"
     ]
    },
    {
     "name": "stderr",
     "output_type": "stream",
     "text": [
      "INFO:crispy:Processing wavelength 0.810950 (35 out of 45)\n",
      "DEBUG:crispy:Input plane is 114x114\n"
     ]
    },
    {
     "name": "stdout",
     "output_type": "stream",
     "text": [
      "crispy - INFO - Processing wavelength 0.814100 (36 out of 45)\n"
     ]
    },
    {
     "name": "stderr",
     "output_type": "stream",
     "text": [
      "INFO:crispy:Processing wavelength 0.814100 (36 out of 45)\n",
      "DEBUG:crispy:Input plane is 114x114\n"
     ]
    },
    {
     "name": "stdout",
     "output_type": "stream",
     "text": [
      "crispy - INFO - Processing wavelength 0.817250 (37 out of 45)\n"
     ]
    },
    {
     "name": "stderr",
     "output_type": "stream",
     "text": [
      "INFO:crispy:Processing wavelength 0.817250 (37 out of 45)\n",
      "DEBUG:crispy:Input plane is 114x114\n"
     ]
    },
    {
     "name": "stdout",
     "output_type": "stream",
     "text": [
      "crispy - INFO - Processing wavelength 0.820400 (38 out of 45)\n"
     ]
    },
    {
     "name": "stderr",
     "output_type": "stream",
     "text": [
      "INFO:crispy:Processing wavelength 0.820400 (38 out of 45)\n",
      "DEBUG:crispy:Input plane is 114x114\n"
     ]
    },
    {
     "name": "stdout",
     "output_type": "stream",
     "text": [
      "crispy - INFO - Processing wavelength 0.823550 (39 out of 45)\n"
     ]
    },
    {
     "name": "stderr",
     "output_type": "stream",
     "text": [
      "INFO:crispy:Processing wavelength 0.823550 (39 out of 45)\n",
      "DEBUG:crispy:Input plane is 114x114\n"
     ]
    },
    {
     "name": "stdout",
     "output_type": "stream",
     "text": [
      "crispy - INFO - Processing wavelength 0.826700 (40 out of 45)\n"
     ]
    },
    {
     "name": "stderr",
     "output_type": "stream",
     "text": [
      "INFO:crispy:Processing wavelength 0.826700 (40 out of 45)\n",
      "DEBUG:crispy:Input plane is 114x114\n"
     ]
    },
    {
     "name": "stdout",
     "output_type": "stream",
     "text": [
      "crispy - INFO - Processing wavelength 0.829850 (41 out of 45)\n"
     ]
    },
    {
     "name": "stderr",
     "output_type": "stream",
     "text": [
      "INFO:crispy:Processing wavelength 0.829850 (41 out of 45)\n",
      "DEBUG:crispy:Input plane is 114x114\n"
     ]
    },
    {
     "name": "stdout",
     "output_type": "stream",
     "text": [
      "crispy - INFO - Processing wavelength 0.833000 (42 out of 45)\n"
     ]
    },
    {
     "name": "stderr",
     "output_type": "stream",
     "text": [
      "INFO:crispy:Processing wavelength 0.833000 (42 out of 45)\n",
      "DEBUG:crispy:Input plane is 114x114\n"
     ]
    },
    {
     "name": "stdout",
     "output_type": "stream",
     "text": [
      "crispy - INFO - Processing wavelength 0.836150 (43 out of 45)\n"
     ]
    },
    {
     "name": "stderr",
     "output_type": "stream",
     "text": [
      "INFO:crispy:Processing wavelength 0.836150 (43 out of 45)\n",
      "DEBUG:crispy:Input plane is 114x114\n"
     ]
    },
    {
     "name": "stdout",
     "output_type": "stream",
     "text": [
      "crispy - INFO - Processing wavelength 0.839300 (44 out of 45)\n"
     ]
    },
    {
     "name": "stderr",
     "output_type": "stream",
     "text": [
      "INFO:crispy:Processing wavelength 0.839300 (44 out of 45)\n",
      "DEBUG:crispy:Input plane is 114x114\n"
     ]
    },
    {
     "name": "stdout",
     "output_type": "stream",
     "text": [
      "crispy - INFO - Number of detector pixels per lenslet: 13.384615\n"
     ]
    },
    {
     "name": "stderr",
     "output_type": "stream",
     "text": [
      "INFO:crispy:Number of detector pixels per lenslet: 13.384615\n"
     ]
    },
    {
     "name": "stdout",
     "output_type": "stream",
     "text": [
      "crispy - INFO - Rebinning final detector. Image has dimensions 1024x1024\n"
     ]
    },
    {
     "name": "stderr",
     "output_type": "stream",
     "text": [
      "INFO:crispy:Rebinning final detector. Image has dimensions 1024x1024\n"
     ]
    },
    {
     "name": "stdout",
     "output_type": "stream",
     "text": [
      "crispy - INFO - Done.\n"
     ]
    },
    {
     "name": "stderr",
     "output_type": "stream",
     "text": [
      "INFO:crispy:Done.\n"
     ]
    },
    {
     "name": "stdout",
     "output_type": "stream",
     "text": [
      "crispy - INFO - Performance: 45 seconds total\n"
     ]
    },
    {
     "name": "stderr",
     "output_type": "stream",
     "text": [
      "INFO:crispy:Performance: 45 seconds total\n"
     ]
    },
    {
     "name": "stdout",
     "output_type": "stream",
     "text": [
      "crispy - INFO - Writing data to OS5/OS5_test/OS5_average/offaxis.fits\n"
     ]
    },
    {
     "name": "stderr",
     "output_type": "stream",
     "text": [
      "INFO:crispy:Writing data to OS5/OS5_test/OS5_average/offaxis.fits\n"
     ]
    },
    {
     "name": "stdout",
     "output_type": "stream",
     "text": [
      "crispy - INFO - The number of input pixels per lenslet is 3.896104\n"
     ]
    },
    {
     "name": "stderr",
     "output_type": "stream",
     "text": [
      "INFO:crispy:The number of input pixels per lenslet is 3.896104\n"
     ]
    },
    {
     "name": "stdout",
     "output_type": "stream",
     "text": [
      "crispy - INFO - Using PSFlet gaussian approximation\n"
     ]
    },
    {
     "name": "stderr",
     "output_type": "stream",
     "text": [
      "INFO:crispy:Using PSFlet gaussian approximation\n"
     ]
    },
    {
     "name": "stdout",
     "output_type": "stream",
     "text": [
      "crispy - INFO - Final detector pixel per PSFLet: 40.000000\n"
     ]
    },
    {
     "name": "stderr",
     "output_type": "stream",
     "text": [
      "INFO:crispy:Final detector pixel per PSFLet: 40.000000\n"
     ]
    },
    {
     "name": "stdout",
     "output_type": "stream",
     "text": [
      "crispy - INFO - Processing wavelength 0.700700 (0 out of 45)\n"
     ]
    },
    {
     "name": "stderr",
     "output_type": "stream",
     "text": [
      "INFO:crispy:Processing wavelength 0.700700 (0 out of 45)\n",
      "DEBUG:crispy:Input plane is 114x114\n"
     ]
    },
    {
     "name": "stdout",
     "output_type": "stream",
     "text": [
      "crispy - INFO - Processing wavelength 0.703850 (1 out of 45)\n"
     ]
    },
    {
     "name": "stderr",
     "output_type": "stream",
     "text": [
      "INFO:crispy:Processing wavelength 0.703850 (1 out of 45)\n",
      "DEBUG:crispy:Input plane is 114x114\n"
     ]
    },
    {
     "name": "stdout",
     "output_type": "stream",
     "text": [
      "crispy - INFO - Processing wavelength 0.707000 (2 out of 45)\n"
     ]
    },
    {
     "name": "stderr",
     "output_type": "stream",
     "text": [
      "INFO:crispy:Processing wavelength 0.707000 (2 out of 45)\n",
      "DEBUG:crispy:Input plane is 114x114\n"
     ]
    },
    {
     "name": "stdout",
     "output_type": "stream",
     "text": [
      "crispy - INFO - Processing wavelength 0.710150 (3 out of 45)\n"
     ]
    },
    {
     "name": "stderr",
     "output_type": "stream",
     "text": [
      "INFO:crispy:Processing wavelength 0.710150 (3 out of 45)\n",
      "DEBUG:crispy:Input plane is 114x114\n"
     ]
    },
    {
     "name": "stdout",
     "output_type": "stream",
     "text": [
      "crispy - INFO - Processing wavelength 0.713300 (4 out of 45)\n"
     ]
    },
    {
     "name": "stderr",
     "output_type": "stream",
     "text": [
      "INFO:crispy:Processing wavelength 0.713300 (4 out of 45)\n",
      "DEBUG:crispy:Input plane is 114x114\n"
     ]
    },
    {
     "name": "stdout",
     "output_type": "stream",
     "text": [
      "crispy - INFO - Processing wavelength 0.716450 (5 out of 45)\n"
     ]
    },
    {
     "name": "stderr",
     "output_type": "stream",
     "text": [
      "INFO:crispy:Processing wavelength 0.716450 (5 out of 45)\n",
      "DEBUG:crispy:Input plane is 114x114\n"
     ]
    },
    {
     "name": "stdout",
     "output_type": "stream",
     "text": [
      "crispy - INFO - Processing wavelength 0.719600 (6 out of 45)\n"
     ]
    },
    {
     "name": "stderr",
     "output_type": "stream",
     "text": [
      "INFO:crispy:Processing wavelength 0.719600 (6 out of 45)\n",
      "DEBUG:crispy:Input plane is 114x114\n"
     ]
    },
    {
     "name": "stdout",
     "output_type": "stream",
     "text": [
      "crispy - INFO - Processing wavelength 0.722750 (7 out of 45)\n"
     ]
    },
    {
     "name": "stderr",
     "output_type": "stream",
     "text": [
      "INFO:crispy:Processing wavelength 0.722750 (7 out of 45)\n",
      "DEBUG:crispy:Input plane is 114x114\n"
     ]
    },
    {
     "name": "stdout",
     "output_type": "stream",
     "text": [
      "crispy - INFO - Processing wavelength 0.725900 (8 out of 45)\n"
     ]
    },
    {
     "name": "stderr",
     "output_type": "stream",
     "text": [
      "INFO:crispy:Processing wavelength 0.725900 (8 out of 45)\n",
      "DEBUG:crispy:Input plane is 114x114\n"
     ]
    },
    {
     "name": "stdout",
     "output_type": "stream",
     "text": [
      "crispy - INFO - Processing wavelength 0.729050 (9 out of 45)\n"
     ]
    },
    {
     "name": "stderr",
     "output_type": "stream",
     "text": [
      "INFO:crispy:Processing wavelength 0.729050 (9 out of 45)\n",
      "DEBUG:crispy:Input plane is 114x114\n"
     ]
    },
    {
     "name": "stdout",
     "output_type": "stream",
     "text": [
      "crispy - INFO - Processing wavelength 0.732200 (10 out of 45)\n"
     ]
    },
    {
     "name": "stderr",
     "output_type": "stream",
     "text": [
      "INFO:crispy:Processing wavelength 0.732200 (10 out of 45)\n",
      "DEBUG:crispy:Input plane is 114x114\n"
     ]
    },
    {
     "name": "stdout",
     "output_type": "stream",
     "text": [
      "crispy - INFO - Processing wavelength 0.735350 (11 out of 45)\n"
     ]
    },
    {
     "name": "stderr",
     "output_type": "stream",
     "text": [
      "INFO:crispy:Processing wavelength 0.735350 (11 out of 45)\n",
      "DEBUG:crispy:Input plane is 114x114\n"
     ]
    },
    {
     "name": "stdout",
     "output_type": "stream",
     "text": [
      "crispy - INFO - Processing wavelength 0.738500 (12 out of 45)\n"
     ]
    },
    {
     "name": "stderr",
     "output_type": "stream",
     "text": [
      "INFO:crispy:Processing wavelength 0.738500 (12 out of 45)\n",
      "DEBUG:crispy:Input plane is 114x114\n"
     ]
    },
    {
     "name": "stdout",
     "output_type": "stream",
     "text": [
      "crispy - INFO - Processing wavelength 0.741650 (13 out of 45)\n"
     ]
    },
    {
     "name": "stderr",
     "output_type": "stream",
     "text": [
      "INFO:crispy:Processing wavelength 0.741650 (13 out of 45)\n",
      "DEBUG:crispy:Input plane is 114x114\n"
     ]
    },
    {
     "name": "stdout",
     "output_type": "stream",
     "text": [
      "crispy - INFO - Processing wavelength 0.744800 (14 out of 45)\n"
     ]
    },
    {
     "name": "stderr",
     "output_type": "stream",
     "text": [
      "INFO:crispy:Processing wavelength 0.744800 (14 out of 45)\n",
      "DEBUG:crispy:Input plane is 114x114\n"
     ]
    },
    {
     "name": "stdout",
     "output_type": "stream",
     "text": [
      "crispy - INFO - Processing wavelength 0.747950 (15 out of 45)\n"
     ]
    },
    {
     "name": "stderr",
     "output_type": "stream",
     "text": [
      "INFO:crispy:Processing wavelength 0.747950 (15 out of 45)\n",
      "DEBUG:crispy:Input plane is 114x114\n"
     ]
    },
    {
     "name": "stdout",
     "output_type": "stream",
     "text": [
      "crispy - INFO - Processing wavelength 0.751100 (16 out of 45)\n"
     ]
    },
    {
     "name": "stderr",
     "output_type": "stream",
     "text": [
      "INFO:crispy:Processing wavelength 0.751100 (16 out of 45)\n",
      "DEBUG:crispy:Input plane is 114x114\n"
     ]
    },
    {
     "name": "stdout",
     "output_type": "stream",
     "text": [
      "crispy - INFO - Processing wavelength 0.754250 (17 out of 45)\n"
     ]
    },
    {
     "name": "stderr",
     "output_type": "stream",
     "text": [
      "INFO:crispy:Processing wavelength 0.754250 (17 out of 45)\n",
      "DEBUG:crispy:Input plane is 114x114\n"
     ]
    },
    {
     "name": "stdout",
     "output_type": "stream",
     "text": [
      "crispy - INFO - Processing wavelength 0.757400 (18 out of 45)\n"
     ]
    },
    {
     "name": "stderr",
     "output_type": "stream",
     "text": [
      "INFO:crispy:Processing wavelength 0.757400 (18 out of 45)\n",
      "DEBUG:crispy:Input plane is 114x114\n"
     ]
    },
    {
     "name": "stdout",
     "output_type": "stream",
     "text": [
      "crispy - INFO - Processing wavelength 0.760550 (19 out of 45)\n"
     ]
    },
    {
     "name": "stderr",
     "output_type": "stream",
     "text": [
      "INFO:crispy:Processing wavelength 0.760550 (19 out of 45)\n",
      "DEBUG:crispy:Input plane is 114x114\n"
     ]
    },
    {
     "name": "stdout",
     "output_type": "stream",
     "text": [
      "crispy - INFO - Processing wavelength 0.763700 (20 out of 45)\n"
     ]
    },
    {
     "name": "stderr",
     "output_type": "stream",
     "text": [
      "INFO:crispy:Processing wavelength 0.763700 (20 out of 45)\n",
      "DEBUG:crispy:Input plane is 114x114\n"
     ]
    },
    {
     "name": "stdout",
     "output_type": "stream",
     "text": [
      "crispy - INFO - Processing wavelength 0.766850 (21 out of 45)\n"
     ]
    },
    {
     "name": "stderr",
     "output_type": "stream",
     "text": [
      "INFO:crispy:Processing wavelength 0.766850 (21 out of 45)\n",
      "DEBUG:crispy:Input plane is 114x114\n"
     ]
    },
    {
     "name": "stdout",
     "output_type": "stream",
     "text": [
      "crispy - INFO - Processing wavelength 0.770000 (22 out of 45)\n"
     ]
    },
    {
     "name": "stderr",
     "output_type": "stream",
     "text": [
      "INFO:crispy:Processing wavelength 0.770000 (22 out of 45)\n",
      "DEBUG:crispy:Input plane is 114x114\n"
     ]
    },
    {
     "name": "stdout",
     "output_type": "stream",
     "text": [
      "crispy - INFO - Processing wavelength 0.773150 (23 out of 45)\n"
     ]
    },
    {
     "name": "stderr",
     "output_type": "stream",
     "text": [
      "INFO:crispy:Processing wavelength 0.773150 (23 out of 45)\n",
      "DEBUG:crispy:Input plane is 114x114\n"
     ]
    },
    {
     "name": "stdout",
     "output_type": "stream",
     "text": [
      "crispy - INFO - Processing wavelength 0.776300 (24 out of 45)\n"
     ]
    },
    {
     "name": "stderr",
     "output_type": "stream",
     "text": [
      "INFO:crispy:Processing wavelength 0.776300 (24 out of 45)\n",
      "DEBUG:crispy:Input plane is 114x114\n"
     ]
    },
    {
     "name": "stdout",
     "output_type": "stream",
     "text": [
      "crispy - INFO - Processing wavelength 0.779450 (25 out of 45)\n"
     ]
    },
    {
     "name": "stderr",
     "output_type": "stream",
     "text": [
      "INFO:crispy:Processing wavelength 0.779450 (25 out of 45)\n",
      "DEBUG:crispy:Input plane is 114x114\n"
     ]
    },
    {
     "name": "stdout",
     "output_type": "stream",
     "text": [
      "crispy - INFO - Processing wavelength 0.782600 (26 out of 45)\n"
     ]
    },
    {
     "name": "stderr",
     "output_type": "stream",
     "text": [
      "INFO:crispy:Processing wavelength 0.782600 (26 out of 45)\n",
      "DEBUG:crispy:Input plane is 114x114\n"
     ]
    },
    {
     "name": "stdout",
     "output_type": "stream",
     "text": [
      "crispy - INFO - Processing wavelength 0.785750 (27 out of 45)\n"
     ]
    },
    {
     "name": "stderr",
     "output_type": "stream",
     "text": [
      "INFO:crispy:Processing wavelength 0.785750 (27 out of 45)\n",
      "DEBUG:crispy:Input plane is 114x114\n"
     ]
    },
    {
     "name": "stdout",
     "output_type": "stream",
     "text": [
      "crispy - INFO - Processing wavelength 0.788900 (28 out of 45)\n"
     ]
    },
    {
     "name": "stderr",
     "output_type": "stream",
     "text": [
      "INFO:crispy:Processing wavelength 0.788900 (28 out of 45)\n",
      "DEBUG:crispy:Input plane is 114x114\n"
     ]
    },
    {
     "name": "stdout",
     "output_type": "stream",
     "text": [
      "crispy - INFO - Processing wavelength 0.792050 (29 out of 45)\n"
     ]
    },
    {
     "name": "stderr",
     "output_type": "stream",
     "text": [
      "INFO:crispy:Processing wavelength 0.792050 (29 out of 45)\n",
      "DEBUG:crispy:Input plane is 114x114\n"
     ]
    },
    {
     "name": "stdout",
     "output_type": "stream",
     "text": [
      "crispy - INFO - Processing wavelength 0.795200 (30 out of 45)\n"
     ]
    },
    {
     "name": "stderr",
     "output_type": "stream",
     "text": [
      "INFO:crispy:Processing wavelength 0.795200 (30 out of 45)\n",
      "DEBUG:crispy:Input plane is 114x114\n"
     ]
    },
    {
     "name": "stdout",
     "output_type": "stream",
     "text": [
      "crispy - INFO - Processing wavelength 0.798350 (31 out of 45)\n"
     ]
    },
    {
     "name": "stderr",
     "output_type": "stream",
     "text": [
      "INFO:crispy:Processing wavelength 0.798350 (31 out of 45)\n",
      "DEBUG:crispy:Input plane is 114x114\n"
     ]
    },
    {
     "name": "stdout",
     "output_type": "stream",
     "text": [
      "crispy - INFO - Processing wavelength 0.801500 (32 out of 45)\n"
     ]
    },
    {
     "name": "stderr",
     "output_type": "stream",
     "text": [
      "INFO:crispy:Processing wavelength 0.801500 (32 out of 45)\n",
      "DEBUG:crispy:Input plane is 114x114\n"
     ]
    },
    {
     "name": "stdout",
     "output_type": "stream",
     "text": [
      "crispy - INFO - Processing wavelength 0.804650 (33 out of 45)\n"
     ]
    },
    {
     "name": "stderr",
     "output_type": "stream",
     "text": [
      "INFO:crispy:Processing wavelength 0.804650 (33 out of 45)\n",
      "DEBUG:crispy:Input plane is 114x114\n"
     ]
    },
    {
     "name": "stdout",
     "output_type": "stream",
     "text": [
      "crispy - INFO - Processing wavelength 0.807800 (34 out of 45)\n"
     ]
    },
    {
     "name": "stderr",
     "output_type": "stream",
     "text": [
      "INFO:crispy:Processing wavelength 0.807800 (34 out of 45)\n",
      "DEBUG:crispy:Input plane is 114x114\n"
     ]
    },
    {
     "name": "stdout",
     "output_type": "stream",
     "text": [
      "crispy - INFO - Processing wavelength 0.810950 (35 out of 45)\n"
     ]
    },
    {
     "name": "stderr",
     "output_type": "stream",
     "text": [
      "INFO:crispy:Processing wavelength 0.810950 (35 out of 45)\n",
      "DEBUG:crispy:Input plane is 114x114\n"
     ]
    },
    {
     "name": "stdout",
     "output_type": "stream",
     "text": [
      "crispy - INFO - Processing wavelength 0.814100 (36 out of 45)\n"
     ]
    },
    {
     "name": "stderr",
     "output_type": "stream",
     "text": [
      "INFO:crispy:Processing wavelength 0.814100 (36 out of 45)\n",
      "DEBUG:crispy:Input plane is 114x114\n"
     ]
    },
    {
     "name": "stdout",
     "output_type": "stream",
     "text": [
      "crispy - INFO - Processing wavelength 0.817250 (37 out of 45)\n"
     ]
    },
    {
     "name": "stderr",
     "output_type": "stream",
     "text": [
      "INFO:crispy:Processing wavelength 0.817250 (37 out of 45)\n",
      "DEBUG:crispy:Input plane is 114x114\n"
     ]
    },
    {
     "name": "stdout",
     "output_type": "stream",
     "text": [
      "crispy - INFO - Processing wavelength 0.820400 (38 out of 45)\n"
     ]
    },
    {
     "name": "stderr",
     "output_type": "stream",
     "text": [
      "INFO:crispy:Processing wavelength 0.820400 (38 out of 45)\n",
      "DEBUG:crispy:Input plane is 114x114\n"
     ]
    },
    {
     "name": "stdout",
     "output_type": "stream",
     "text": [
      "crispy - INFO - Processing wavelength 0.823550 (39 out of 45)\n"
     ]
    },
    {
     "name": "stderr",
     "output_type": "stream",
     "text": [
      "INFO:crispy:Processing wavelength 0.823550 (39 out of 45)\n",
      "DEBUG:crispy:Input plane is 114x114\n"
     ]
    },
    {
     "name": "stdout",
     "output_type": "stream",
     "text": [
      "crispy - INFO - Processing wavelength 0.826700 (40 out of 45)\n"
     ]
    },
    {
     "name": "stderr",
     "output_type": "stream",
     "text": [
      "INFO:crispy:Processing wavelength 0.826700 (40 out of 45)\n",
      "DEBUG:crispy:Input plane is 114x114\n"
     ]
    },
    {
     "name": "stdout",
     "output_type": "stream",
     "text": [
      "crispy - INFO - Processing wavelength 0.829850 (41 out of 45)\n"
     ]
    },
    {
     "name": "stderr",
     "output_type": "stream",
     "text": [
      "INFO:crispy:Processing wavelength 0.829850 (41 out of 45)\n",
      "DEBUG:crispy:Input plane is 114x114\n"
     ]
    },
    {
     "name": "stdout",
     "output_type": "stream",
     "text": [
      "crispy - INFO - Processing wavelength 0.833000 (42 out of 45)\n"
     ]
    },
    {
     "name": "stderr",
     "output_type": "stream",
     "text": [
      "INFO:crispy:Processing wavelength 0.833000 (42 out of 45)\n",
      "DEBUG:crispy:Input plane is 114x114\n"
     ]
    },
    {
     "name": "stdout",
     "output_type": "stream",
     "text": [
      "crispy - INFO - Processing wavelength 0.836150 (43 out of 45)\n"
     ]
    },
    {
     "name": "stderr",
     "output_type": "stream",
     "text": [
      "INFO:crispy:Processing wavelength 0.836150 (43 out of 45)\n",
      "DEBUG:crispy:Input plane is 114x114\n"
     ]
    },
    {
     "name": "stdout",
     "output_type": "stream",
     "text": [
      "crispy - INFO - Processing wavelength 0.839300 (44 out of 45)\n"
     ]
    },
    {
     "name": "stderr",
     "output_type": "stream",
     "text": [
      "INFO:crispy:Processing wavelength 0.839300 (44 out of 45)\n",
      "DEBUG:crispy:Input plane is 114x114\n"
     ]
    },
    {
     "name": "stdout",
     "output_type": "stream",
     "text": [
      "crispy - INFO - Number of detector pixels per lenslet: 13.384615\n"
     ]
    },
    {
     "name": "stderr",
     "output_type": "stream",
     "text": [
      "INFO:crispy:Number of detector pixels per lenslet: 13.384615\n"
     ]
    },
    {
     "name": "stdout",
     "output_type": "stream",
     "text": [
      "crispy - INFO - Rebinning final detector. Image has dimensions 1024x1024\n"
     ]
    },
    {
     "name": "stderr",
     "output_type": "stream",
     "text": [
      "INFO:crispy:Rebinning final detector. Image has dimensions 1024x1024\n"
     ]
    },
    {
     "name": "stdout",
     "output_type": "stream",
     "text": [
      "crispy - INFO - Done.\n"
     ]
    },
    {
     "name": "stderr",
     "output_type": "stream",
     "text": [
      "INFO:crispy:Done.\n"
     ]
    },
    {
     "name": "stdout",
     "output_type": "stream",
     "text": [
      "crispy - INFO - Performance: 43 seconds total\n"
     ]
    },
    {
     "name": "stderr",
     "output_type": "stream",
     "text": [
      "INFO:crispy:Performance: 43 seconds total\n"
     ]
    },
    {
     "name": "stdout",
     "output_type": "stream",
     "text": [
      "crispy - INFO - Writing data to OS5/OS5_test/OS5_average/offaxis_flipped.fits\n"
     ]
    },
    {
     "name": "stderr",
     "output_type": "stream",
     "text": [
      "INFO:crispy:Writing data to OS5/OS5_test/OS5_average/offaxis_flipped.fits\n"
     ]
    },
    {
     "name": "stdout",
     "output_type": "stream",
     "text": [
      "crispy - INFO - Apply noiseless detector readout on os5_spc_001_refstar_IFS.fits\n"
     ]
    },
    {
     "name": "stderr",
     "output_type": "stream",
     "text": [
      "INFO:crispy:Apply noiseless detector readout on os5_spc_001_refstar_IFS.fits\n"
     ]
    },
    {
     "name": "stdout",
     "output_type": "stream",
     "text": [
      "crispy - INFO - Read data from HDU 1 of OS5/OS5_test/os5_spc_001_refstar_IFS.fits\n"
     ]
    },
    {
     "name": "stderr",
     "output_type": "stream",
     "text": [
      "INFO:crispy:Read data from HDU 1 of OS5/OS5_test/os5_spc_001_refstar_IFS.fits\n"
     ]
    },
    {
     "name": "stdout",
     "output_type": "stream",
     "text": [
      "crispy - INFO - Writing data to OS5/OS5_test/OS5_detector/os5_spc_001_refstar_IFS_detector.fits\n"
     ]
    },
    {
     "name": "stderr",
     "output_type": "stream",
     "text": [
      "INFO:crispy:Writing data to OS5/OS5_test/OS5_detector/os5_spc_001_refstar_IFS_detector.fits\n"
     ]
    },
    {
     "name": "stdout",
     "output_type": "stream",
     "text": [
      "crispy - INFO - Apply noiseless detector readout on os5_spc_002_refstar_IFS.fits\n"
     ]
    },
    {
     "name": "stderr",
     "output_type": "stream",
     "text": [
      "INFO:crispy:Apply noiseless detector readout on os5_spc_002_refstar_IFS.fits\n"
     ]
    },
    {
     "name": "stdout",
     "output_type": "stream",
     "text": [
      "crispy - INFO - Read data from HDU 1 of OS5/OS5_test/os5_spc_002_refstar_IFS.fits\n"
     ]
    },
    {
     "name": "stderr",
     "output_type": "stream",
     "text": [
      "INFO:crispy:Read data from HDU 1 of OS5/OS5_test/os5_spc_002_refstar_IFS.fits\n"
     ]
    },
    {
     "name": "stdout",
     "output_type": "stream",
     "text": [
      "crispy - INFO - Writing data to OS5/OS5_test/OS5_detector/os5_spc_002_refstar_IFS_detector.fits\n"
     ]
    },
    {
     "name": "stderr",
     "output_type": "stream",
     "text": [
      "INFO:crispy:Writing data to OS5/OS5_test/OS5_detector/os5_spc_002_refstar_IFS_detector.fits\n"
     ]
    },
    {
     "name": "stdout",
     "output_type": "stream",
     "text": [
      "crispy - INFO - Apply noiseless detector readout on os5_spc_003_refstar_IFS.fits\n"
     ]
    },
    {
     "name": "stderr",
     "output_type": "stream",
     "text": [
      "INFO:crispy:Apply noiseless detector readout on os5_spc_003_refstar_IFS.fits\n"
     ]
    },
    {
     "name": "stdout",
     "output_type": "stream",
     "text": [
      "crispy - INFO - Read data from HDU 1 of OS5/OS5_test/os5_spc_003_refstar_IFS.fits\n"
     ]
    },
    {
     "name": "stderr",
     "output_type": "stream",
     "text": [
      "INFO:crispy:Read data from HDU 1 of OS5/OS5_test/os5_spc_003_refstar_IFS.fits\n"
     ]
    },
    {
     "name": "stdout",
     "output_type": "stream",
     "text": [
      "crispy - INFO - Writing data to OS5/OS5_test/OS5_detector/os5_spc_003_refstar_IFS_detector.fits\n"
     ]
    },
    {
     "name": "stderr",
     "output_type": "stream",
     "text": [
      "INFO:crispy:Writing data to OS5/OS5_test/OS5_detector/os5_spc_003_refstar_IFS_detector.fits\n"
     ]
    },
    {
     "name": "stdout",
     "output_type": "stream",
     "text": [
      "crispy - INFO - Apply noiseless detector readout on os5_spc_004_refstar_IFS.fits\n"
     ]
    },
    {
     "name": "stderr",
     "output_type": "stream",
     "text": [
      "INFO:crispy:Apply noiseless detector readout on os5_spc_004_refstar_IFS.fits\n"
     ]
    },
    {
     "name": "stdout",
     "output_type": "stream",
     "text": [
      "crispy - INFO - Read data from HDU 1 of OS5/OS5_test/os5_spc_004_refstar_IFS.fits\n"
     ]
    },
    {
     "name": "stderr",
     "output_type": "stream",
     "text": [
      "INFO:crispy:Read data from HDU 1 of OS5/OS5_test/os5_spc_004_refstar_IFS.fits\n"
     ]
    },
    {
     "name": "stdout",
     "output_type": "stream",
     "text": [
      "crispy - INFO - Writing data to OS5/OS5_test/OS5_detector/os5_spc_004_refstar_IFS_detector.fits\n"
     ]
    },
    {
     "name": "stderr",
     "output_type": "stream",
     "text": [
      "INFO:crispy:Writing data to OS5/OS5_test/OS5_detector/os5_spc_004_refstar_IFS_detector.fits\n"
     ]
    },
    {
     "name": "stdout",
     "output_type": "stream",
     "text": [
      "crispy - INFO - Apply noiseless detector readout on os5_spc_005_refstar_IFS.fits\n"
     ]
    },
    {
     "name": "stderr",
     "output_type": "stream",
     "text": [
      "INFO:crispy:Apply noiseless detector readout on os5_spc_005_refstar_IFS.fits\n"
     ]
    },
    {
     "name": "stdout",
     "output_type": "stream",
     "text": [
      "crispy - INFO - Read data from HDU 1 of OS5/OS5_test/os5_spc_005_refstar_IFS.fits\n"
     ]
    },
    {
     "name": "stderr",
     "output_type": "stream",
     "text": [
      "INFO:crispy:Read data from HDU 1 of OS5/OS5_test/os5_spc_005_refstar_IFS.fits\n"
     ]
    },
    {
     "name": "stdout",
     "output_type": "stream",
     "text": [
      "crispy - INFO - Writing data to OS5/OS5_test/OS5_detector/os5_spc_005_refstar_IFS_detector.fits\n"
     ]
    },
    {
     "name": "stderr",
     "output_type": "stream",
     "text": [
      "INFO:crispy:Writing data to OS5/OS5_test/OS5_detector/os5_spc_005_refstar_IFS_detector.fits\n"
     ]
    },
    {
     "name": "stdout",
     "output_type": "stream",
     "text": [
      "crispy - INFO - Apply noiseless detector readout on os5_spc_006_refstar_IFS.fits\n"
     ]
    },
    {
     "name": "stderr",
     "output_type": "stream",
     "text": [
      "INFO:crispy:Apply noiseless detector readout on os5_spc_006_refstar_IFS.fits\n"
     ]
    },
    {
     "name": "stdout",
     "output_type": "stream",
     "text": [
      "crispy - INFO - Read data from HDU 1 of OS5/OS5_test/os5_spc_006_refstar_IFS.fits\n"
     ]
    },
    {
     "name": "stderr",
     "output_type": "stream",
     "text": [
      "INFO:crispy:Read data from HDU 1 of OS5/OS5_test/os5_spc_006_refstar_IFS.fits\n"
     ]
    },
    {
     "name": "stdout",
     "output_type": "stream",
     "text": [
      "crispy - INFO - Writing data to OS5/OS5_test/OS5_detector/os5_spc_006_refstar_IFS_detector.fits\n"
     ]
    },
    {
     "name": "stderr",
     "output_type": "stream",
     "text": [
      "INFO:crispy:Writing data to OS5/OS5_test/OS5_detector/os5_spc_006_refstar_IFS_detector.fits\n"
     ]
    },
    {
     "name": "stdout",
     "output_type": "stream",
     "text": [
      "crispy - INFO - Apply noiseless detector readout on os5_spc_007_refstar_IFS.fits\n"
     ]
    },
    {
     "name": "stderr",
     "output_type": "stream",
     "text": [
      "INFO:crispy:Apply noiseless detector readout on os5_spc_007_refstar_IFS.fits\n"
     ]
    },
    {
     "name": "stdout",
     "output_type": "stream",
     "text": [
      "crispy - INFO - Read data from HDU 1 of OS5/OS5_test/os5_spc_007_refstar_IFS.fits\n"
     ]
    },
    {
     "name": "stderr",
     "output_type": "stream",
     "text": [
      "INFO:crispy:Read data from HDU 1 of OS5/OS5_test/os5_spc_007_refstar_IFS.fits\n"
     ]
    },
    {
     "name": "stdout",
     "output_type": "stream",
     "text": [
      "crispy - INFO - Writing data to OS5/OS5_test/OS5_detector/os5_spc_007_refstar_IFS_detector.fits\n"
     ]
    },
    {
     "name": "stderr",
     "output_type": "stream",
     "text": [
      "INFO:crispy:Writing data to OS5/OS5_test/OS5_detector/os5_spc_007_refstar_IFS_detector.fits\n"
     ]
    },
    {
     "name": "stdout",
     "output_type": "stream",
     "text": [
      "crispy - INFO - Apply noiseless detector readout on os5_spc_008_refstar_IFS.fits\n"
     ]
    },
    {
     "name": "stderr",
     "output_type": "stream",
     "text": [
      "INFO:crispy:Apply noiseless detector readout on os5_spc_008_refstar_IFS.fits\n"
     ]
    },
    {
     "name": "stdout",
     "output_type": "stream",
     "text": [
      "crispy - INFO - Read data from HDU 1 of OS5/OS5_test/os5_spc_008_refstar_IFS.fits\n"
     ]
    },
    {
     "name": "stderr",
     "output_type": "stream",
     "text": [
      "INFO:crispy:Read data from HDU 1 of OS5/OS5_test/os5_spc_008_refstar_IFS.fits\n"
     ]
    },
    {
     "name": "stdout",
     "output_type": "stream",
     "text": [
      "crispy - INFO - Writing data to OS5/OS5_test/OS5_detector/os5_spc_008_refstar_IFS_detector.fits\n"
     ]
    },
    {
     "name": "stderr",
     "output_type": "stream",
     "text": [
      "INFO:crispy:Writing data to OS5/OS5_test/OS5_detector/os5_spc_008_refstar_IFS_detector.fits\n"
     ]
    },
    {
     "name": "stdout",
     "output_type": "stream",
     "text": [
      "crispy - INFO - Apply noiseless detector readout on os5_spc_009_refstar_IFS.fits\n"
     ]
    },
    {
     "name": "stderr",
     "output_type": "stream",
     "text": [
      "INFO:crispy:Apply noiseless detector readout on os5_spc_009_refstar_IFS.fits\n"
     ]
    },
    {
     "name": "stdout",
     "output_type": "stream",
     "text": [
      "crispy - INFO - Read data from HDU 1 of OS5/OS5_test/os5_spc_009_refstar_IFS.fits\n"
     ]
    },
    {
     "name": "stderr",
     "output_type": "stream",
     "text": [
      "INFO:crispy:Read data from HDU 1 of OS5/OS5_test/os5_spc_009_refstar_IFS.fits\n"
     ]
    },
    {
     "name": "stdout",
     "output_type": "stream",
     "text": [
      "crispy - INFO - Writing data to OS5/OS5_test/OS5_detector/os5_spc_009_refstar_IFS_detector.fits\n"
     ]
    },
    {
     "name": "stderr",
     "output_type": "stream",
     "text": [
      "INFO:crispy:Writing data to OS5/OS5_test/OS5_detector/os5_spc_009_refstar_IFS_detector.fits\n"
     ]
    },
    {
     "name": "stdout",
     "output_type": "stream",
     "text": [
      "crispy - INFO - Apply noiseless detector readout on os5_spc_010_refstar_IFS.fits\n"
     ]
    },
    {
     "name": "stderr",
     "output_type": "stream",
     "text": [
      "INFO:crispy:Apply noiseless detector readout on os5_spc_010_refstar_IFS.fits\n"
     ]
    },
    {
     "name": "stdout",
     "output_type": "stream",
     "text": [
      "crispy - INFO - Read data from HDU 1 of OS5/OS5_test/os5_spc_010_refstar_IFS.fits\n"
     ]
    },
    {
     "name": "stderr",
     "output_type": "stream",
     "text": [
      "INFO:crispy:Read data from HDU 1 of OS5/OS5_test/os5_spc_010_refstar_IFS.fits\n"
     ]
    },
    {
     "name": "stdout",
     "output_type": "stream",
     "text": [
      "crispy - INFO - Writing data to OS5/OS5_test/OS5_detector/os5_spc_010_refstar_IFS_detector.fits\n"
     ]
    },
    {
     "name": "stderr",
     "output_type": "stream",
     "text": [
      "INFO:crispy:Writing data to OS5/OS5_test/OS5_detector/os5_spc_010_refstar_IFS_detector.fits\n"
     ]
    },
    {
     "name": "stdout",
     "output_type": "stream",
     "text": [
      "crispy - INFO - Apply noiseless detector readout on os5_spc_011_refstar_IFS.fits\n"
     ]
    },
    {
     "name": "stderr",
     "output_type": "stream",
     "text": [
      "INFO:crispy:Apply noiseless detector readout on os5_spc_011_refstar_IFS.fits\n"
     ]
    },
    {
     "name": "stdout",
     "output_type": "stream",
     "text": [
      "crispy - INFO - Read data from HDU 1 of OS5/OS5_test/os5_spc_011_refstar_IFS.fits\n"
     ]
    },
    {
     "name": "stderr",
     "output_type": "stream",
     "text": [
      "INFO:crispy:Read data from HDU 1 of OS5/OS5_test/os5_spc_011_refstar_IFS.fits\n"
     ]
    },
    {
     "name": "stdout",
     "output_type": "stream",
     "text": [
      "crispy - INFO - Writing data to OS5/OS5_test/OS5_detector/os5_spc_011_refstar_IFS_detector.fits\n"
     ]
    },
    {
     "name": "stderr",
     "output_type": "stream",
     "text": [
      "INFO:crispy:Writing data to OS5/OS5_test/OS5_detector/os5_spc_011_refstar_IFS_detector.fits\n"
     ]
    },
    {
     "name": "stdout",
     "output_type": "stream",
     "text": [
      "crispy - INFO - Apply noiseless detector readout on os5_spc_012_refstar_IFS.fits\n"
     ]
    },
    {
     "name": "stderr",
     "output_type": "stream",
     "text": [
      "INFO:crispy:Apply noiseless detector readout on os5_spc_012_refstar_IFS.fits\n"
     ]
    },
    {
     "name": "stdout",
     "output_type": "stream",
     "text": [
      "crispy - INFO - Read data from HDU 1 of OS5/OS5_test/os5_spc_012_refstar_IFS.fits\n"
     ]
    },
    {
     "name": "stderr",
     "output_type": "stream",
     "text": [
      "INFO:crispy:Read data from HDU 1 of OS5/OS5_test/os5_spc_012_refstar_IFS.fits\n"
     ]
    },
    {
     "name": "stdout",
     "output_type": "stream",
     "text": [
      "crispy - INFO - Writing data to OS5/OS5_test/OS5_detector/os5_spc_012_refstar_IFS_detector.fits\n"
     ]
    },
    {
     "name": "stderr",
     "output_type": "stream",
     "text": [
      "INFO:crispy:Writing data to OS5/OS5_test/OS5_detector/os5_spc_012_refstar_IFS_detector.fits\n"
     ]
    },
    {
     "name": "stdout",
     "output_type": "stream",
     "text": [
      "crispy - INFO - Apply noiseless detector readout on os5_spc_013_refstar_IFS.fits\n"
     ]
    },
    {
     "name": "stderr",
     "output_type": "stream",
     "text": [
      "INFO:crispy:Apply noiseless detector readout on os5_spc_013_refstar_IFS.fits\n"
     ]
    },
    {
     "name": "stdout",
     "output_type": "stream",
     "text": [
      "crispy - INFO - Read data from HDU 1 of OS5/OS5_test/os5_spc_013_refstar_IFS.fits\n"
     ]
    },
    {
     "name": "stderr",
     "output_type": "stream",
     "text": [
      "INFO:crispy:Read data from HDU 1 of OS5/OS5_test/os5_spc_013_refstar_IFS.fits\n"
     ]
    },
    {
     "name": "stdout",
     "output_type": "stream",
     "text": [
      "crispy - INFO - Writing data to OS5/OS5_test/OS5_detector/os5_spc_013_refstar_IFS_detector.fits\n"
     ]
    },
    {
     "name": "stderr",
     "output_type": "stream",
     "text": [
      "INFO:crispy:Writing data to OS5/OS5_test/OS5_detector/os5_spc_013_refstar_IFS_detector.fits\n"
     ]
    },
    {
     "name": "stdout",
     "output_type": "stream",
     "text": [
      "crispy - INFO - Apply noiseless detector readout on os5_spc_014_refstar_IFS.fits\n"
     ]
    },
    {
     "name": "stderr",
     "output_type": "stream",
     "text": [
      "INFO:crispy:Apply noiseless detector readout on os5_spc_014_refstar_IFS.fits\n"
     ]
    },
    {
     "name": "stdout",
     "output_type": "stream",
     "text": [
      "crispy - INFO - Read data from HDU 1 of OS5/OS5_test/os5_spc_014_refstar_IFS.fits\n"
     ]
    },
    {
     "name": "stderr",
     "output_type": "stream",
     "text": [
      "INFO:crispy:Read data from HDU 1 of OS5/OS5_test/os5_spc_014_refstar_IFS.fits\n"
     ]
    },
    {
     "name": "stdout",
     "output_type": "stream",
     "text": [
      "crispy - INFO - Writing data to OS5/OS5_test/OS5_detector/os5_spc_014_refstar_IFS_detector.fits\n"
     ]
    },
    {
     "name": "stderr",
     "output_type": "stream",
     "text": [
      "INFO:crispy:Writing data to OS5/OS5_test/OS5_detector/os5_spc_014_refstar_IFS_detector.fits\n"
     ]
    },
    {
     "name": "stdout",
     "output_type": "stream",
     "text": [
      "crispy - INFO - Apply noiseless detector readout on os5_spc_015_refstar_IFS.fits\n"
     ]
    },
    {
     "name": "stderr",
     "output_type": "stream",
     "text": [
      "INFO:crispy:Apply noiseless detector readout on os5_spc_015_refstar_IFS.fits\n"
     ]
    },
    {
     "name": "stdout",
     "output_type": "stream",
     "text": [
      "crispy - INFO - Read data from HDU 1 of OS5/OS5_test/os5_spc_015_refstar_IFS.fits\n"
     ]
    },
    {
     "name": "stderr",
     "output_type": "stream",
     "text": [
      "INFO:crispy:Read data from HDU 1 of OS5/OS5_test/os5_spc_015_refstar_IFS.fits\n"
     ]
    },
    {
     "name": "stdout",
     "output_type": "stream",
     "text": [
      "crispy - INFO - Writing data to OS5/OS5_test/OS5_detector/os5_spc_015_refstar_IFS_detector.fits\n"
     ]
    },
    {
     "name": "stderr",
     "output_type": "stream",
     "text": [
      "INFO:crispy:Writing data to OS5/OS5_test/OS5_detector/os5_spc_015_refstar_IFS_detector.fits\n"
     ]
    },
    {
     "name": "stdout",
     "output_type": "stream",
     "text": [
      "crispy - INFO - Apply noiseless detector readout on os5_spc_016_refstar_IFS.fits\n"
     ]
    },
    {
     "name": "stderr",
     "output_type": "stream",
     "text": [
      "INFO:crispy:Apply noiseless detector readout on os5_spc_016_refstar_IFS.fits\n"
     ]
    },
    {
     "name": "stdout",
     "output_type": "stream",
     "text": [
      "crispy - INFO - Read data from HDU 1 of OS5/OS5_test/os5_spc_016_refstar_IFS.fits\n"
     ]
    },
    {
     "name": "stderr",
     "output_type": "stream",
     "text": [
      "INFO:crispy:Read data from HDU 1 of OS5/OS5_test/os5_spc_016_refstar_IFS.fits\n"
     ]
    },
    {
     "name": "stdout",
     "output_type": "stream",
     "text": [
      "crispy - INFO - Writing data to OS5/OS5_test/OS5_detector/os5_spc_016_refstar_IFS_detector.fits\n"
     ]
    },
    {
     "name": "stderr",
     "output_type": "stream",
     "text": [
      "INFO:crispy:Writing data to OS5/OS5_test/OS5_detector/os5_spc_016_refstar_IFS_detector.fits\n"
     ]
    },
    {
     "name": "stdout",
     "output_type": "stream",
     "text": [
      "crispy - INFO - Apply noiseless detector readout on os5_spc_017_refstar_IFS.fits\n"
     ]
    },
    {
     "name": "stderr",
     "output_type": "stream",
     "text": [
      "INFO:crispy:Apply noiseless detector readout on os5_spc_017_refstar_IFS.fits\n"
     ]
    },
    {
     "name": "stdout",
     "output_type": "stream",
     "text": [
      "crispy - INFO - Read data from HDU 1 of OS5/OS5_test/os5_spc_017_refstar_IFS.fits\n"
     ]
    },
    {
     "name": "stderr",
     "output_type": "stream",
     "text": [
      "INFO:crispy:Read data from HDU 1 of OS5/OS5_test/os5_spc_017_refstar_IFS.fits\n"
     ]
    },
    {
     "name": "stdout",
     "output_type": "stream",
     "text": [
      "crispy - INFO - Writing data to OS5/OS5_test/OS5_detector/os5_spc_017_refstar_IFS_detector.fits\n"
     ]
    },
    {
     "name": "stderr",
     "output_type": "stream",
     "text": [
      "INFO:crispy:Writing data to OS5/OS5_test/OS5_detector/os5_spc_017_refstar_IFS_detector.fits\n"
     ]
    },
    {
     "name": "stdout",
     "output_type": "stream",
     "text": [
      "crispy - INFO - Apply noiseless detector readout on os5_spc_018_refstar_IFS.fits\n"
     ]
    },
    {
     "name": "stderr",
     "output_type": "stream",
     "text": [
      "INFO:crispy:Apply noiseless detector readout on os5_spc_018_refstar_IFS.fits\n"
     ]
    },
    {
     "name": "stdout",
     "output_type": "stream",
     "text": [
      "crispy - INFO - Read data from HDU 1 of OS5/OS5_test/os5_spc_018_refstar_IFS.fits\n"
     ]
    },
    {
     "name": "stderr",
     "output_type": "stream",
     "text": [
      "INFO:crispy:Read data from HDU 1 of OS5/OS5_test/os5_spc_018_refstar_IFS.fits\n"
     ]
    },
    {
     "name": "stdout",
     "output_type": "stream",
     "text": [
      "crispy - INFO - Writing data to OS5/OS5_test/OS5_detector/os5_spc_018_refstar_IFS_detector.fits\n"
     ]
    },
    {
     "name": "stderr",
     "output_type": "stream",
     "text": [
      "INFO:crispy:Writing data to OS5/OS5_test/OS5_detector/os5_spc_018_refstar_IFS_detector.fits\n"
     ]
    },
    {
     "name": "stdout",
     "output_type": "stream",
     "text": [
      "crispy - INFO - Apply noiseless detector readout on os5_spc_019_refstar_IFS.fits\n"
     ]
    },
    {
     "name": "stderr",
     "output_type": "stream",
     "text": [
      "INFO:crispy:Apply noiseless detector readout on os5_spc_019_refstar_IFS.fits\n"
     ]
    },
    {
     "name": "stdout",
     "output_type": "stream",
     "text": [
      "crispy - INFO - Read data from HDU 1 of OS5/OS5_test/os5_spc_019_refstar_IFS.fits\n"
     ]
    },
    {
     "name": "stderr",
     "output_type": "stream",
     "text": [
      "INFO:crispy:Read data from HDU 1 of OS5/OS5_test/os5_spc_019_refstar_IFS.fits\n"
     ]
    },
    {
     "name": "stdout",
     "output_type": "stream",
     "text": [
      "crispy - INFO - Writing data to OS5/OS5_test/OS5_detector/os5_spc_019_refstar_IFS_detector.fits\n"
     ]
    },
    {
     "name": "stderr",
     "output_type": "stream",
     "text": [
      "INFO:crispy:Writing data to OS5/OS5_test/OS5_detector/os5_spc_019_refstar_IFS_detector.fits\n"
     ]
    },
    {
     "name": "stdout",
     "output_type": "stream",
     "text": [
      "crispy - INFO - Apply noiseless detector readout on os5_spc_020_refstar_IFS.fits\n"
     ]
    },
    {
     "name": "stderr",
     "output_type": "stream",
     "text": [
      "INFO:crispy:Apply noiseless detector readout on os5_spc_020_refstar_IFS.fits\n"
     ]
    },
    {
     "name": "stdout",
     "output_type": "stream",
     "text": [
      "crispy - INFO - Read data from HDU 1 of OS5/OS5_test/os5_spc_020_refstar_IFS.fits\n"
     ]
    },
    {
     "name": "stderr",
     "output_type": "stream",
     "text": [
      "INFO:crispy:Read data from HDU 1 of OS5/OS5_test/os5_spc_020_refstar_IFS.fits\n"
     ]
    },
    {
     "name": "stdout",
     "output_type": "stream",
     "text": [
      "crispy - INFO - Writing data to OS5/OS5_test/OS5_detector/os5_spc_020_refstar_IFS_detector.fits\n"
     ]
    },
    {
     "name": "stderr",
     "output_type": "stream",
     "text": [
      "INFO:crispy:Writing data to OS5/OS5_test/OS5_detector/os5_spc_020_refstar_IFS_detector.fits\n"
     ]
    },
    {
     "name": "stdout",
     "output_type": "stream",
     "text": [
      "crispy - INFO - Apply noiseless detector readout on os5_spc_021_refstar_IFS.fits\n"
     ]
    },
    {
     "name": "stderr",
     "output_type": "stream",
     "text": [
      "INFO:crispy:Apply noiseless detector readout on os5_spc_021_refstar_IFS.fits\n"
     ]
    },
    {
     "name": "stdout",
     "output_type": "stream",
     "text": [
      "crispy - INFO - Read data from HDU 1 of OS5/OS5_test/os5_spc_021_refstar_IFS.fits\n"
     ]
    },
    {
     "name": "stderr",
     "output_type": "stream",
     "text": [
      "INFO:crispy:Read data from HDU 1 of OS5/OS5_test/os5_spc_021_refstar_IFS.fits\n"
     ]
    },
    {
     "name": "stdout",
     "output_type": "stream",
     "text": [
      "crispy - INFO - Writing data to OS5/OS5_test/OS5_detector/os5_spc_021_refstar_IFS_detector.fits\n"
     ]
    },
    {
     "name": "stderr",
     "output_type": "stream",
     "text": [
      "INFO:crispy:Writing data to OS5/OS5_test/OS5_detector/os5_spc_021_refstar_IFS_detector.fits\n"
     ]
    },
    {
     "name": "stdout",
     "output_type": "stream",
     "text": [
      "crispy - INFO - Apply noiseless detector readout on os5_spc_022_refstar_IFS.fits\n"
     ]
    },
    {
     "name": "stderr",
     "output_type": "stream",
     "text": [
      "INFO:crispy:Apply noiseless detector readout on os5_spc_022_refstar_IFS.fits\n"
     ]
    },
    {
     "name": "stdout",
     "output_type": "stream",
     "text": [
      "crispy - INFO - Read data from HDU 1 of OS5/OS5_test/os5_spc_022_refstar_IFS.fits\n"
     ]
    },
    {
     "name": "stderr",
     "output_type": "stream",
     "text": [
      "INFO:crispy:Read data from HDU 1 of OS5/OS5_test/os5_spc_022_refstar_IFS.fits\n"
     ]
    },
    {
     "name": "stdout",
     "output_type": "stream",
     "text": [
      "crispy - INFO - Writing data to OS5/OS5_test/OS5_detector/os5_spc_022_refstar_IFS_detector.fits\n"
     ]
    },
    {
     "name": "stderr",
     "output_type": "stream",
     "text": [
      "INFO:crispy:Writing data to OS5/OS5_test/OS5_detector/os5_spc_022_refstar_IFS_detector.fits\n"
     ]
    },
    {
     "name": "stdout",
     "output_type": "stream",
     "text": [
      "crispy - INFO - Apply noiseless detector readout on os5_spc_023_refstar_IFS.fits\n"
     ]
    },
    {
     "name": "stderr",
     "output_type": "stream",
     "text": [
      "INFO:crispy:Apply noiseless detector readout on os5_spc_023_refstar_IFS.fits\n"
     ]
    },
    {
     "name": "stdout",
     "output_type": "stream",
     "text": [
      "crispy - INFO - Read data from HDU 1 of OS5/OS5_test/os5_spc_023_refstar_IFS.fits\n"
     ]
    },
    {
     "name": "stderr",
     "output_type": "stream",
     "text": [
      "INFO:crispy:Read data from HDU 1 of OS5/OS5_test/os5_spc_023_refstar_IFS.fits\n"
     ]
    },
    {
     "name": "stdout",
     "output_type": "stream",
     "text": [
      "crispy - INFO - Writing data to OS5/OS5_test/OS5_detector/os5_spc_023_refstar_IFS_detector.fits\n"
     ]
    },
    {
     "name": "stderr",
     "output_type": "stream",
     "text": [
      "INFO:crispy:Writing data to OS5/OS5_test/OS5_detector/os5_spc_023_refstar_IFS_detector.fits\n"
     ]
    },
    {
     "name": "stdout",
     "output_type": "stream",
     "text": [
      "crispy - INFO - Apply noiseless detector readout on os5_spc_024_refstar_IFS.fits\n"
     ]
    },
    {
     "name": "stderr",
     "output_type": "stream",
     "text": [
      "INFO:crispy:Apply noiseless detector readout on os5_spc_024_refstar_IFS.fits\n"
     ]
    },
    {
     "name": "stdout",
     "output_type": "stream",
     "text": [
      "crispy - INFO - Read data from HDU 1 of OS5/OS5_test/os5_spc_024_refstar_IFS.fits\n"
     ]
    },
    {
     "name": "stderr",
     "output_type": "stream",
     "text": [
      "INFO:crispy:Read data from HDU 1 of OS5/OS5_test/os5_spc_024_refstar_IFS.fits\n"
     ]
    },
    {
     "name": "stdout",
     "output_type": "stream",
     "text": [
      "crispy - INFO - Writing data to OS5/OS5_test/OS5_detector/os5_spc_024_refstar_IFS_detector.fits\n"
     ]
    },
    {
     "name": "stderr",
     "output_type": "stream",
     "text": [
      "INFO:crispy:Writing data to OS5/OS5_test/OS5_detector/os5_spc_024_refstar_IFS_detector.fits\n"
     ]
    },
    {
     "name": "stdout",
     "output_type": "stream",
     "text": [
      "crispy - INFO - Apply noiseless detector readout on os5_spc_025_refstar_IFS.fits\n"
     ]
    },
    {
     "name": "stderr",
     "output_type": "stream",
     "text": [
      "INFO:crispy:Apply noiseless detector readout on os5_spc_025_refstar_IFS.fits\n"
     ]
    },
    {
     "name": "stdout",
     "output_type": "stream",
     "text": [
      "crispy - INFO - Read data from HDU 1 of OS5/OS5_test/os5_spc_025_refstar_IFS.fits\n"
     ]
    },
    {
     "name": "stderr",
     "output_type": "stream",
     "text": [
      "INFO:crispy:Read data from HDU 1 of OS5/OS5_test/os5_spc_025_refstar_IFS.fits\n"
     ]
    },
    {
     "name": "stdout",
     "output_type": "stream",
     "text": [
      "crispy - INFO - Writing data to OS5/OS5_test/OS5_detector/os5_spc_025_refstar_IFS_detector.fits\n"
     ]
    },
    {
     "name": "stderr",
     "output_type": "stream",
     "text": [
      "INFO:crispy:Writing data to OS5/OS5_test/OS5_detector/os5_spc_025_refstar_IFS_detector.fits\n"
     ]
    },
    {
     "name": "stdout",
     "output_type": "stream",
     "text": [
      "crispy - INFO - Apply noiseless detector readout on os5_spc_026_refstar_IFS.fits\n"
     ]
    },
    {
     "name": "stderr",
     "output_type": "stream",
     "text": [
      "INFO:crispy:Apply noiseless detector readout on os5_spc_026_refstar_IFS.fits\n"
     ]
    },
    {
     "name": "stdout",
     "output_type": "stream",
     "text": [
      "crispy - INFO - Read data from HDU 1 of OS5/OS5_test/os5_spc_026_refstar_IFS.fits\n"
     ]
    },
    {
     "name": "stderr",
     "output_type": "stream",
     "text": [
      "INFO:crispy:Read data from HDU 1 of OS5/OS5_test/os5_spc_026_refstar_IFS.fits\n"
     ]
    },
    {
     "name": "stdout",
     "output_type": "stream",
     "text": [
      "crispy - INFO - Writing data to OS5/OS5_test/OS5_detector/os5_spc_026_refstar_IFS_detector.fits\n"
     ]
    },
    {
     "name": "stderr",
     "output_type": "stream",
     "text": [
      "INFO:crispy:Writing data to OS5/OS5_test/OS5_detector/os5_spc_026_refstar_IFS_detector.fits\n"
     ]
    },
    {
     "name": "stdout",
     "output_type": "stream",
     "text": [
      "crispy - INFO - Apply noiseless detector readout on os5_spc_027_refstar_IFS.fits\n"
     ]
    },
    {
     "name": "stderr",
     "output_type": "stream",
     "text": [
      "INFO:crispy:Apply noiseless detector readout on os5_spc_027_refstar_IFS.fits\n"
     ]
    },
    {
     "name": "stdout",
     "output_type": "stream",
     "text": [
      "crispy - INFO - Read data from HDU 1 of OS5/OS5_test/os5_spc_027_refstar_IFS.fits\n"
     ]
    },
    {
     "name": "stderr",
     "output_type": "stream",
     "text": [
      "INFO:crispy:Read data from HDU 1 of OS5/OS5_test/os5_spc_027_refstar_IFS.fits\n"
     ]
    },
    {
     "name": "stdout",
     "output_type": "stream",
     "text": [
      "crispy - INFO - Writing data to OS5/OS5_test/OS5_detector/os5_spc_027_refstar_IFS_detector.fits\n"
     ]
    },
    {
     "name": "stderr",
     "output_type": "stream",
     "text": [
      "INFO:crispy:Writing data to OS5/OS5_test/OS5_detector/os5_spc_027_refstar_IFS_detector.fits\n"
     ]
    },
    {
     "name": "stdout",
     "output_type": "stream",
     "text": [
      "crispy - INFO - Apply noiseless detector readout on os5_spc_028_refstar_IFS.fits\n"
     ]
    },
    {
     "name": "stderr",
     "output_type": "stream",
     "text": [
      "INFO:crispy:Apply noiseless detector readout on os5_spc_028_refstar_IFS.fits\n"
     ]
    },
    {
     "name": "stdout",
     "output_type": "stream",
     "text": [
      "crispy - INFO - Read data from HDU 1 of OS5/OS5_test/os5_spc_028_refstar_IFS.fits\n"
     ]
    },
    {
     "name": "stderr",
     "output_type": "stream",
     "text": [
      "INFO:crispy:Read data from HDU 1 of OS5/OS5_test/os5_spc_028_refstar_IFS.fits\n"
     ]
    },
    {
     "name": "stdout",
     "output_type": "stream",
     "text": [
      "crispy - INFO - Writing data to OS5/OS5_test/OS5_detector/os5_spc_028_refstar_IFS_detector.fits\n"
     ]
    },
    {
     "name": "stderr",
     "output_type": "stream",
     "text": [
      "INFO:crispy:Writing data to OS5/OS5_test/OS5_detector/os5_spc_028_refstar_IFS_detector.fits\n"
     ]
    },
    {
     "name": "stdout",
     "output_type": "stream",
     "text": [
      "crispy - INFO - Apply noiseless detector readout on os5_spc_029_refstar_IFS.fits\n"
     ]
    },
    {
     "name": "stderr",
     "output_type": "stream",
     "text": [
      "INFO:crispy:Apply noiseless detector readout on os5_spc_029_refstar_IFS.fits\n"
     ]
    },
    {
     "name": "stdout",
     "output_type": "stream",
     "text": [
      "crispy - INFO - Read data from HDU 1 of OS5/OS5_test/os5_spc_029_refstar_IFS.fits\n"
     ]
    },
    {
     "name": "stderr",
     "output_type": "stream",
     "text": [
      "INFO:crispy:Read data from HDU 1 of OS5/OS5_test/os5_spc_029_refstar_IFS.fits\n"
     ]
    },
    {
     "name": "stdout",
     "output_type": "stream",
     "text": [
      "crispy - INFO - Writing data to OS5/OS5_test/OS5_detector/os5_spc_029_refstar_IFS_detector.fits\n"
     ]
    },
    {
     "name": "stderr",
     "output_type": "stream",
     "text": [
      "INFO:crispy:Writing data to OS5/OS5_test/OS5_detector/os5_spc_029_refstar_IFS_detector.fits\n"
     ]
    },
    {
     "name": "stdout",
     "output_type": "stream",
     "text": [
      "crispy - INFO - Apply noiseless detector readout on os5_spc_030_refstar_IFS.fits\n"
     ]
    },
    {
     "name": "stderr",
     "output_type": "stream",
     "text": [
      "INFO:crispy:Apply noiseless detector readout on os5_spc_030_refstar_IFS.fits\n"
     ]
    },
    {
     "name": "stdout",
     "output_type": "stream",
     "text": [
      "crispy - INFO - Read data from HDU 1 of OS5/OS5_test/os5_spc_030_refstar_IFS.fits\n"
     ]
    },
    {
     "name": "stderr",
     "output_type": "stream",
     "text": [
      "INFO:crispy:Read data from HDU 1 of OS5/OS5_test/os5_spc_030_refstar_IFS.fits\n"
     ]
    },
    {
     "name": "stdout",
     "output_type": "stream",
     "text": [
      "crispy - INFO - Writing data to OS5/OS5_test/OS5_detector/os5_spc_030_refstar_IFS_detector.fits\n"
     ]
    },
    {
     "name": "stderr",
     "output_type": "stream",
     "text": [
      "INFO:crispy:Writing data to OS5/OS5_test/OS5_detector/os5_spc_030_refstar_IFS_detector.fits\n"
     ]
    },
    {
     "name": "stdout",
     "output_type": "stream",
     "text": [
      "crispy - INFO - Apply noiseless detector readout on os5_spc_031_targetstar_IFS.fits\n"
     ]
    },
    {
     "name": "stderr",
     "output_type": "stream",
     "text": [
      "INFO:crispy:Apply noiseless detector readout on os5_spc_031_targetstar_IFS.fits\n"
     ]
    },
    {
     "name": "stdout",
     "output_type": "stream",
     "text": [
      "crispy - INFO - Read data from HDU 1 of OS5/OS5_test/os5_spc_031_targetstar_IFS.fits\n"
     ]
    },
    {
     "name": "stderr",
     "output_type": "stream",
     "text": [
      "INFO:crispy:Read data from HDU 1 of OS5/OS5_test/os5_spc_031_targetstar_IFS.fits\n"
     ]
    },
    {
     "name": "stdout",
     "output_type": "stream",
     "text": [
      "crispy - INFO - Read data from HDU 1 of /local/data/nicolaus2/mrizzo/crispy/code/OS5/OS5_test/OS5_average/offaxis.fits\n"
     ]
    },
    {
     "name": "stderr",
     "output_type": "stream",
     "text": [
      "INFO:crispy:Read data from HDU 1 of /local/data/nicolaus2/mrizzo/crispy/code/OS5/OS5_test/OS5_average/offaxis.fits\n"
     ]
    },
    {
     "name": "stdout",
     "output_type": "stream",
     "text": [
      "crispy - INFO - Writing data to OS5/OS5_test/OS5_detector/os5_spc_031_targetstar_IFS_detector.fits\n"
     ]
    },
    {
     "name": "stderr",
     "output_type": "stream",
     "text": [
      "INFO:crispy:Writing data to OS5/OS5_test/OS5_detector/os5_spc_031_targetstar_IFS_detector.fits\n"
     ]
    },
    {
     "name": "stdout",
     "output_type": "stream",
     "text": [
      "crispy - INFO - Apply noiseless detector readout on os5_spc_032_targetstar_IFS.fits\n"
     ]
    },
    {
     "name": "stderr",
     "output_type": "stream",
     "text": [
      "INFO:crispy:Apply noiseless detector readout on os5_spc_032_targetstar_IFS.fits\n"
     ]
    },
    {
     "name": "stdout",
     "output_type": "stream",
     "text": [
      "crispy - INFO - Read data from HDU 1 of OS5/OS5_test/os5_spc_032_targetstar_IFS.fits\n"
     ]
    },
    {
     "name": "stderr",
     "output_type": "stream",
     "text": [
      "INFO:crispy:Read data from HDU 1 of OS5/OS5_test/os5_spc_032_targetstar_IFS.fits\n"
     ]
    },
    {
     "name": "stdout",
     "output_type": "stream",
     "text": [
      "crispy - INFO - Read data from HDU 1 of /local/data/nicolaus2/mrizzo/crispy/code/OS5/OS5_test/OS5_average/offaxis.fits\n"
     ]
    },
    {
     "name": "stderr",
     "output_type": "stream",
     "text": [
      "INFO:crispy:Read data from HDU 1 of /local/data/nicolaus2/mrizzo/crispy/code/OS5/OS5_test/OS5_average/offaxis.fits\n"
     ]
    },
    {
     "name": "stdout",
     "output_type": "stream",
     "text": [
      "crispy - INFO - Writing data to OS5/OS5_test/OS5_detector/os5_spc_032_targetstar_IFS_detector.fits\n"
     ]
    },
    {
     "name": "stderr",
     "output_type": "stream",
     "text": [
      "INFO:crispy:Writing data to OS5/OS5_test/OS5_detector/os5_spc_032_targetstar_IFS_detector.fits\n"
     ]
    },
    {
     "name": "stdout",
     "output_type": "stream",
     "text": [
      "crispy - INFO - Apply noiseless detector readout on os5_spc_033_targetstar_IFS.fits\n"
     ]
    },
    {
     "name": "stderr",
     "output_type": "stream",
     "text": [
      "INFO:crispy:Apply noiseless detector readout on os5_spc_033_targetstar_IFS.fits\n"
     ]
    },
    {
     "name": "stdout",
     "output_type": "stream",
     "text": [
      "crispy - INFO - Read data from HDU 1 of OS5/OS5_test/os5_spc_033_targetstar_IFS.fits\n"
     ]
    },
    {
     "name": "stderr",
     "output_type": "stream",
     "text": [
      "INFO:crispy:Read data from HDU 1 of OS5/OS5_test/os5_spc_033_targetstar_IFS.fits\n"
     ]
    },
    {
     "name": "stdout",
     "output_type": "stream",
     "text": [
      "crispy - INFO - Read data from HDU 1 of /local/data/nicolaus2/mrizzo/crispy/code/OS5/OS5_test/OS5_average/offaxis.fits\n"
     ]
    },
    {
     "name": "stderr",
     "output_type": "stream",
     "text": [
      "INFO:crispy:Read data from HDU 1 of /local/data/nicolaus2/mrizzo/crispy/code/OS5/OS5_test/OS5_average/offaxis.fits\n"
     ]
    },
    {
     "name": "stdout",
     "output_type": "stream",
     "text": [
      "crispy - INFO - Writing data to OS5/OS5_test/OS5_detector/os5_spc_033_targetstar_IFS_detector.fits\n"
     ]
    },
    {
     "name": "stderr",
     "output_type": "stream",
     "text": [
      "INFO:crispy:Writing data to OS5/OS5_test/OS5_detector/os5_spc_033_targetstar_IFS_detector.fits\n"
     ]
    },
    {
     "name": "stdout",
     "output_type": "stream",
     "text": [
      "crispy - INFO - Apply noiseless detector readout on os5_spc_034_targetstar_IFS.fits\n"
     ]
    },
    {
     "name": "stderr",
     "output_type": "stream",
     "text": [
      "INFO:crispy:Apply noiseless detector readout on os5_spc_034_targetstar_IFS.fits\n"
     ]
    },
    {
     "name": "stdout",
     "output_type": "stream",
     "text": [
      "crispy - INFO - Read data from HDU 1 of OS5/OS5_test/os5_spc_034_targetstar_IFS.fits\n"
     ]
    },
    {
     "name": "stderr",
     "output_type": "stream",
     "text": [
      "INFO:crispy:Read data from HDU 1 of OS5/OS5_test/os5_spc_034_targetstar_IFS.fits\n"
     ]
    },
    {
     "name": "stdout",
     "output_type": "stream",
     "text": [
      "crispy - INFO - Read data from HDU 1 of /local/data/nicolaus2/mrizzo/crispy/code/OS5/OS5_test/OS5_average/offaxis.fits\n"
     ]
    },
    {
     "name": "stderr",
     "output_type": "stream",
     "text": [
      "INFO:crispy:Read data from HDU 1 of /local/data/nicolaus2/mrizzo/crispy/code/OS5/OS5_test/OS5_average/offaxis.fits\n"
     ]
    },
    {
     "name": "stdout",
     "output_type": "stream",
     "text": [
      "crispy - INFO - Writing data to OS5/OS5_test/OS5_detector/os5_spc_034_targetstar_IFS_detector.fits\n"
     ]
    },
    {
     "name": "stderr",
     "output_type": "stream",
     "text": [
      "INFO:crispy:Writing data to OS5/OS5_test/OS5_detector/os5_spc_034_targetstar_IFS_detector.fits\n"
     ]
    },
    {
     "name": "stdout",
     "output_type": "stream",
     "text": [
      "crispy - INFO - Apply noiseless detector readout on os5_spc_035_targetstar_IFS.fits\n"
     ]
    },
    {
     "name": "stderr",
     "output_type": "stream",
     "text": [
      "INFO:crispy:Apply noiseless detector readout on os5_spc_035_targetstar_IFS.fits\n"
     ]
    },
    {
     "name": "stdout",
     "output_type": "stream",
     "text": [
      "crispy - INFO - Read data from HDU 1 of OS5/OS5_test/os5_spc_035_targetstar_IFS.fits\n"
     ]
    },
    {
     "name": "stderr",
     "output_type": "stream",
     "text": [
      "INFO:crispy:Read data from HDU 1 of OS5/OS5_test/os5_spc_035_targetstar_IFS.fits\n"
     ]
    },
    {
     "name": "stdout",
     "output_type": "stream",
     "text": [
      "crispy - INFO - Read data from HDU 1 of /local/data/nicolaus2/mrizzo/crispy/code/OS5/OS5_test/OS5_average/offaxis.fits\n"
     ]
    },
    {
     "name": "stderr",
     "output_type": "stream",
     "text": [
      "INFO:crispy:Read data from HDU 1 of /local/data/nicolaus2/mrizzo/crispy/code/OS5/OS5_test/OS5_average/offaxis.fits\n"
     ]
    },
    {
     "name": "stdout",
     "output_type": "stream",
     "text": [
      "crispy - INFO - Writing data to OS5/OS5_test/OS5_detector/os5_spc_035_targetstar_IFS_detector.fits\n"
     ]
    },
    {
     "name": "stderr",
     "output_type": "stream",
     "text": [
      "INFO:crispy:Writing data to OS5/OS5_test/OS5_detector/os5_spc_035_targetstar_IFS_detector.fits\n"
     ]
    },
    {
     "name": "stdout",
     "output_type": "stream",
     "text": [
      "crispy - INFO - Apply noiseless detector readout on os5_spc_036_targetstar_IFS.fits\n"
     ]
    },
    {
     "name": "stderr",
     "output_type": "stream",
     "text": [
      "INFO:crispy:Apply noiseless detector readout on os5_spc_036_targetstar_IFS.fits\n"
     ]
    },
    {
     "name": "stdout",
     "output_type": "stream",
     "text": [
      "crispy - INFO - Read data from HDU 1 of OS5/OS5_test/os5_spc_036_targetstar_IFS.fits\n"
     ]
    },
    {
     "name": "stderr",
     "output_type": "stream",
     "text": [
      "INFO:crispy:Read data from HDU 1 of OS5/OS5_test/os5_spc_036_targetstar_IFS.fits\n"
     ]
    },
    {
     "name": "stdout",
     "output_type": "stream",
     "text": [
      "crispy - INFO - Read data from HDU 1 of /local/data/nicolaus2/mrizzo/crispy/code/OS5/OS5_test/OS5_average/offaxis.fits\n"
     ]
    },
    {
     "name": "stderr",
     "output_type": "stream",
     "text": [
      "INFO:crispy:Read data from HDU 1 of /local/data/nicolaus2/mrizzo/crispy/code/OS5/OS5_test/OS5_average/offaxis.fits\n"
     ]
    },
    {
     "name": "stdout",
     "output_type": "stream",
     "text": [
      "crispy - INFO - Writing data to OS5/OS5_test/OS5_detector/os5_spc_036_targetstar_IFS_detector.fits\n"
     ]
    },
    {
     "name": "stderr",
     "output_type": "stream",
     "text": [
      "INFO:crispy:Writing data to OS5/OS5_test/OS5_detector/os5_spc_036_targetstar_IFS_detector.fits\n"
     ]
    },
    {
     "name": "stdout",
     "output_type": "stream",
     "text": [
      "crispy - INFO - Apply noiseless detector readout on os5_spc_037_targetstar_IFS.fits\n"
     ]
    },
    {
     "name": "stderr",
     "output_type": "stream",
     "text": [
      "INFO:crispy:Apply noiseless detector readout on os5_spc_037_targetstar_IFS.fits\n"
     ]
    },
    {
     "name": "stdout",
     "output_type": "stream",
     "text": [
      "crispy - INFO - Read data from HDU 1 of OS5/OS5_test/os5_spc_037_targetstar_IFS.fits\n"
     ]
    },
    {
     "name": "stderr",
     "output_type": "stream",
     "text": [
      "INFO:crispy:Read data from HDU 1 of OS5/OS5_test/os5_spc_037_targetstar_IFS.fits\n"
     ]
    },
    {
     "name": "stdout",
     "output_type": "stream",
     "text": [
      "crispy - INFO - Read data from HDU 1 of /local/data/nicolaus2/mrizzo/crispy/code/OS5/OS5_test/OS5_average/offaxis.fits\n"
     ]
    },
    {
     "name": "stderr",
     "output_type": "stream",
     "text": [
      "INFO:crispy:Read data from HDU 1 of /local/data/nicolaus2/mrizzo/crispy/code/OS5/OS5_test/OS5_average/offaxis.fits\n"
     ]
    },
    {
     "name": "stdout",
     "output_type": "stream",
     "text": [
      "crispy - INFO - Writing data to OS5/OS5_test/OS5_detector/os5_spc_037_targetstar_IFS_detector.fits\n"
     ]
    },
    {
     "name": "stderr",
     "output_type": "stream",
     "text": [
      "INFO:crispy:Writing data to OS5/OS5_test/OS5_detector/os5_spc_037_targetstar_IFS_detector.fits\n"
     ]
    },
    {
     "name": "stdout",
     "output_type": "stream",
     "text": [
      "crispy - INFO - Apply noiseless detector readout on os5_spc_038_targetstar_IFS.fits\n"
     ]
    },
    {
     "name": "stderr",
     "output_type": "stream",
     "text": [
      "INFO:crispy:Apply noiseless detector readout on os5_spc_038_targetstar_IFS.fits\n"
     ]
    },
    {
     "name": "stdout",
     "output_type": "stream",
     "text": [
      "crispy - INFO - Read data from HDU 1 of OS5/OS5_test/os5_spc_038_targetstar_IFS.fits\n"
     ]
    },
    {
     "name": "stderr",
     "output_type": "stream",
     "text": [
      "INFO:crispy:Read data from HDU 1 of OS5/OS5_test/os5_spc_038_targetstar_IFS.fits\n"
     ]
    },
    {
     "name": "stdout",
     "output_type": "stream",
     "text": [
      "crispy - INFO - Read data from HDU 1 of /local/data/nicolaus2/mrizzo/crispy/code/OS5/OS5_test/OS5_average/offaxis.fits\n"
     ]
    },
    {
     "name": "stderr",
     "output_type": "stream",
     "text": [
      "INFO:crispy:Read data from HDU 1 of /local/data/nicolaus2/mrizzo/crispy/code/OS5/OS5_test/OS5_average/offaxis.fits\n"
     ]
    },
    {
     "name": "stdout",
     "output_type": "stream",
     "text": [
      "crispy - INFO - Writing data to OS5/OS5_test/OS5_detector/os5_spc_038_targetstar_IFS_detector.fits\n"
     ]
    },
    {
     "name": "stderr",
     "output_type": "stream",
     "text": [
      "INFO:crispy:Writing data to OS5/OS5_test/OS5_detector/os5_spc_038_targetstar_IFS_detector.fits\n"
     ]
    },
    {
     "name": "stdout",
     "output_type": "stream",
     "text": [
      "crispy - INFO - Apply noiseless detector readout on os5_spc_039_targetstar_IFS.fits\n"
     ]
    },
    {
     "name": "stderr",
     "output_type": "stream",
     "text": [
      "INFO:crispy:Apply noiseless detector readout on os5_spc_039_targetstar_IFS.fits\n"
     ]
    },
    {
     "name": "stdout",
     "output_type": "stream",
     "text": [
      "crispy - INFO - Read data from HDU 1 of OS5/OS5_test/os5_spc_039_targetstar_IFS.fits\n"
     ]
    },
    {
     "name": "stderr",
     "output_type": "stream",
     "text": [
      "INFO:crispy:Read data from HDU 1 of OS5/OS5_test/os5_spc_039_targetstar_IFS.fits\n"
     ]
    },
    {
     "name": "stdout",
     "output_type": "stream",
     "text": [
      "crispy - INFO - Read data from HDU 1 of /local/data/nicolaus2/mrizzo/crispy/code/OS5/OS5_test/OS5_average/offaxis.fits\n"
     ]
    },
    {
     "name": "stderr",
     "output_type": "stream",
     "text": [
      "INFO:crispy:Read data from HDU 1 of /local/data/nicolaus2/mrizzo/crispy/code/OS5/OS5_test/OS5_average/offaxis.fits\n"
     ]
    },
    {
     "name": "stdout",
     "output_type": "stream",
     "text": [
      "crispy - INFO - Writing data to OS5/OS5_test/OS5_detector/os5_spc_039_targetstar_IFS_detector.fits\n"
     ]
    },
    {
     "name": "stderr",
     "output_type": "stream",
     "text": [
      "INFO:crispy:Writing data to OS5/OS5_test/OS5_detector/os5_spc_039_targetstar_IFS_detector.fits\n"
     ]
    },
    {
     "name": "stdout",
     "output_type": "stream",
     "text": [
      "crispy - INFO - Apply noiseless detector readout on os5_spc_040_targetstar_IFS.fits\n"
     ]
    },
    {
     "name": "stderr",
     "output_type": "stream",
     "text": [
      "INFO:crispy:Apply noiseless detector readout on os5_spc_040_targetstar_IFS.fits\n"
     ]
    },
    {
     "name": "stdout",
     "output_type": "stream",
     "text": [
      "crispy - INFO - Read data from HDU 1 of OS5/OS5_test/os5_spc_040_targetstar_IFS.fits\n"
     ]
    },
    {
     "name": "stderr",
     "output_type": "stream",
     "text": [
      "INFO:crispy:Read data from HDU 1 of OS5/OS5_test/os5_spc_040_targetstar_IFS.fits\n"
     ]
    },
    {
     "name": "stdout",
     "output_type": "stream",
     "text": [
      "crispy - INFO - Read data from HDU 1 of /local/data/nicolaus2/mrizzo/crispy/code/OS5/OS5_test/OS5_average/offaxis.fits\n"
     ]
    },
    {
     "name": "stderr",
     "output_type": "stream",
     "text": [
      "INFO:crispy:Read data from HDU 1 of /local/data/nicolaus2/mrizzo/crispy/code/OS5/OS5_test/OS5_average/offaxis.fits\n"
     ]
    },
    {
     "name": "stdout",
     "output_type": "stream",
     "text": [
      "crispy - INFO - Writing data to OS5/OS5_test/OS5_detector/os5_spc_040_targetstar_IFS_detector.fits\n"
     ]
    },
    {
     "name": "stderr",
     "output_type": "stream",
     "text": [
      "INFO:crispy:Writing data to OS5/OS5_test/OS5_detector/os5_spc_040_targetstar_IFS_detector.fits\n"
     ]
    },
    {
     "name": "stdout",
     "output_type": "stream",
     "text": [
      "crispy - INFO - Apply noiseless detector readout on os5_spc_041_targetstar_IFS.fits\n"
     ]
    },
    {
     "name": "stderr",
     "output_type": "stream",
     "text": [
      "INFO:crispy:Apply noiseless detector readout on os5_spc_041_targetstar_IFS.fits\n"
     ]
    },
    {
     "name": "stdout",
     "output_type": "stream",
     "text": [
      "crispy - INFO - Read data from HDU 1 of OS5/OS5_test/os5_spc_041_targetstar_IFS.fits\n"
     ]
    },
    {
     "name": "stderr",
     "output_type": "stream",
     "text": [
      "INFO:crispy:Read data from HDU 1 of OS5/OS5_test/os5_spc_041_targetstar_IFS.fits\n"
     ]
    },
    {
     "name": "stdout",
     "output_type": "stream",
     "text": [
      "crispy - INFO - Read data from HDU 1 of /local/data/nicolaus2/mrizzo/crispy/code/OS5/OS5_test/OS5_average/offaxis.fits\n"
     ]
    },
    {
     "name": "stderr",
     "output_type": "stream",
     "text": [
      "INFO:crispy:Read data from HDU 1 of /local/data/nicolaus2/mrizzo/crispy/code/OS5/OS5_test/OS5_average/offaxis.fits\n"
     ]
    },
    {
     "name": "stdout",
     "output_type": "stream",
     "text": [
      "crispy - INFO - Writing data to OS5/OS5_test/OS5_detector/os5_spc_041_targetstar_IFS_detector.fits\n"
     ]
    },
    {
     "name": "stderr",
     "output_type": "stream",
     "text": [
      "INFO:crispy:Writing data to OS5/OS5_test/OS5_detector/os5_spc_041_targetstar_IFS_detector.fits\n"
     ]
    },
    {
     "name": "stdout",
     "output_type": "stream",
     "text": [
      "crispy - INFO - Apply noiseless detector readout on os5_spc_042_targetstar_IFS.fits\n"
     ]
    },
    {
     "name": "stderr",
     "output_type": "stream",
     "text": [
      "INFO:crispy:Apply noiseless detector readout on os5_spc_042_targetstar_IFS.fits\n"
     ]
    },
    {
     "name": "stdout",
     "output_type": "stream",
     "text": [
      "crispy - INFO - Read data from HDU 1 of OS5/OS5_test/os5_spc_042_targetstar_IFS.fits\n"
     ]
    },
    {
     "name": "stderr",
     "output_type": "stream",
     "text": [
      "INFO:crispy:Read data from HDU 1 of OS5/OS5_test/os5_spc_042_targetstar_IFS.fits\n"
     ]
    },
    {
     "name": "stdout",
     "output_type": "stream",
     "text": [
      "crispy - INFO - Read data from HDU 1 of /local/data/nicolaus2/mrizzo/crispy/code/OS5/OS5_test/OS5_average/offaxis.fits\n"
     ]
    },
    {
     "name": "stderr",
     "output_type": "stream",
     "text": [
      "INFO:crispy:Read data from HDU 1 of /local/data/nicolaus2/mrizzo/crispy/code/OS5/OS5_test/OS5_average/offaxis.fits\n"
     ]
    },
    {
     "name": "stdout",
     "output_type": "stream",
     "text": [
      "crispy - INFO - Writing data to OS5/OS5_test/OS5_detector/os5_spc_042_targetstar_IFS_detector.fits\n"
     ]
    },
    {
     "name": "stderr",
     "output_type": "stream",
     "text": [
      "INFO:crispy:Writing data to OS5/OS5_test/OS5_detector/os5_spc_042_targetstar_IFS_detector.fits\n"
     ]
    },
    {
     "name": "stdout",
     "output_type": "stream",
     "text": [
      "crispy - INFO - Apply noiseless detector readout on os5_spc_043_targetstar_IFS.fits\n"
     ]
    },
    {
     "name": "stderr",
     "output_type": "stream",
     "text": [
      "INFO:crispy:Apply noiseless detector readout on os5_spc_043_targetstar_IFS.fits\n"
     ]
    },
    {
     "name": "stdout",
     "output_type": "stream",
     "text": [
      "crispy - INFO - Read data from HDU 1 of OS5/OS5_test/os5_spc_043_targetstar_IFS.fits\n"
     ]
    },
    {
     "name": "stderr",
     "output_type": "stream",
     "text": [
      "INFO:crispy:Read data from HDU 1 of OS5/OS5_test/os5_spc_043_targetstar_IFS.fits\n"
     ]
    },
    {
     "name": "stdout",
     "output_type": "stream",
     "text": [
      "crispy - INFO - Read data from HDU 1 of /local/data/nicolaus2/mrizzo/crispy/code/OS5/OS5_test/OS5_average/offaxis.fits\n"
     ]
    },
    {
     "name": "stderr",
     "output_type": "stream",
     "text": [
      "INFO:crispy:Read data from HDU 1 of /local/data/nicolaus2/mrizzo/crispy/code/OS5/OS5_test/OS5_average/offaxis.fits\n"
     ]
    },
    {
     "name": "stdout",
     "output_type": "stream",
     "text": [
      "crispy - INFO - Writing data to OS5/OS5_test/OS5_detector/os5_spc_043_targetstar_IFS_detector.fits\n"
     ]
    },
    {
     "name": "stderr",
     "output_type": "stream",
     "text": [
      "INFO:crispy:Writing data to OS5/OS5_test/OS5_detector/os5_spc_043_targetstar_IFS_detector.fits\n"
     ]
    },
    {
     "name": "stdout",
     "output_type": "stream",
     "text": [
      "crispy - INFO - Apply noiseless detector readout on os5_spc_044_targetstar_IFS.fits\n"
     ]
    },
    {
     "name": "stderr",
     "output_type": "stream",
     "text": [
      "INFO:crispy:Apply noiseless detector readout on os5_spc_044_targetstar_IFS.fits\n"
     ]
    },
    {
     "name": "stdout",
     "output_type": "stream",
     "text": [
      "crispy - INFO - Read data from HDU 1 of OS5/OS5_test/os5_spc_044_targetstar_IFS.fits\n"
     ]
    },
    {
     "name": "stderr",
     "output_type": "stream",
     "text": [
      "INFO:crispy:Read data from HDU 1 of OS5/OS5_test/os5_spc_044_targetstar_IFS.fits\n"
     ]
    },
    {
     "name": "stdout",
     "output_type": "stream",
     "text": [
      "crispy - INFO - Read data from HDU 1 of /local/data/nicolaus2/mrizzo/crispy/code/OS5/OS5_test/OS5_average/offaxis.fits\n"
     ]
    },
    {
     "name": "stderr",
     "output_type": "stream",
     "text": [
      "INFO:crispy:Read data from HDU 1 of /local/data/nicolaus2/mrizzo/crispy/code/OS5/OS5_test/OS5_average/offaxis.fits\n"
     ]
    },
    {
     "name": "stdout",
     "output_type": "stream",
     "text": [
      "crispy - INFO - Writing data to OS5/OS5_test/OS5_detector/os5_spc_044_targetstar_IFS_detector.fits\n"
     ]
    },
    {
     "name": "stderr",
     "output_type": "stream",
     "text": [
      "INFO:crispy:Writing data to OS5/OS5_test/OS5_detector/os5_spc_044_targetstar_IFS_detector.fits\n"
     ]
    },
    {
     "name": "stdout",
     "output_type": "stream",
     "text": [
      "crispy - INFO - Apply noiseless detector readout on os5_spc_045_targetstar_IFS.fits\n"
     ]
    },
    {
     "name": "stderr",
     "output_type": "stream",
     "text": [
      "INFO:crispy:Apply noiseless detector readout on os5_spc_045_targetstar_IFS.fits\n"
     ]
    },
    {
     "name": "stdout",
     "output_type": "stream",
     "text": [
      "crispy - INFO - Read data from HDU 1 of OS5/OS5_test/os5_spc_045_targetstar_IFS.fits\n"
     ]
    },
    {
     "name": "stderr",
     "output_type": "stream",
     "text": [
      "INFO:crispy:Read data from HDU 1 of OS5/OS5_test/os5_spc_045_targetstar_IFS.fits\n"
     ]
    },
    {
     "name": "stdout",
     "output_type": "stream",
     "text": [
      "crispy - INFO - Read data from HDU 1 of /local/data/nicolaus2/mrizzo/crispy/code/OS5/OS5_test/OS5_average/offaxis.fits\n"
     ]
    },
    {
     "name": "stderr",
     "output_type": "stream",
     "text": [
      "INFO:crispy:Read data from HDU 1 of /local/data/nicolaus2/mrizzo/crispy/code/OS5/OS5_test/OS5_average/offaxis.fits\n"
     ]
    },
    {
     "name": "stdout",
     "output_type": "stream",
     "text": [
      "crispy - INFO - Writing data to OS5/OS5_test/OS5_detector/os5_spc_045_targetstar_IFS_detector.fits\n"
     ]
    },
    {
     "name": "stderr",
     "output_type": "stream",
     "text": [
      "INFO:crispy:Writing data to OS5/OS5_test/OS5_detector/os5_spc_045_targetstar_IFS_detector.fits\n"
     ]
    },
    {
     "name": "stdout",
     "output_type": "stream",
     "text": [
      "crispy - INFO - Apply noiseless detector readout on os5_spc_046_targetstar_IFS.fits\n"
     ]
    },
    {
     "name": "stderr",
     "output_type": "stream",
     "text": [
      "INFO:crispy:Apply noiseless detector readout on os5_spc_046_targetstar_IFS.fits\n"
     ]
    },
    {
     "name": "stdout",
     "output_type": "stream",
     "text": [
      "crispy - INFO - Read data from HDU 1 of OS5/OS5_test/os5_spc_046_targetstar_IFS.fits\n"
     ]
    },
    {
     "name": "stderr",
     "output_type": "stream",
     "text": [
      "INFO:crispy:Read data from HDU 1 of OS5/OS5_test/os5_spc_046_targetstar_IFS.fits\n"
     ]
    },
    {
     "name": "stdout",
     "output_type": "stream",
     "text": [
      "crispy - INFO - Read data from HDU 1 of /local/data/nicolaus2/mrizzo/crispy/code/OS5/OS5_test/OS5_average/offaxis.fits\n"
     ]
    },
    {
     "name": "stderr",
     "output_type": "stream",
     "text": [
      "INFO:crispy:Read data from HDU 1 of /local/data/nicolaus2/mrizzo/crispy/code/OS5/OS5_test/OS5_average/offaxis.fits\n"
     ]
    },
    {
     "name": "stdout",
     "output_type": "stream",
     "text": [
      "crispy - INFO - Writing data to OS5/OS5_test/OS5_detector/os5_spc_046_targetstar_IFS_detector.fits\n"
     ]
    },
    {
     "name": "stderr",
     "output_type": "stream",
     "text": [
      "INFO:crispy:Writing data to OS5/OS5_test/OS5_detector/os5_spc_046_targetstar_IFS_detector.fits\n"
     ]
    },
    {
     "name": "stdout",
     "output_type": "stream",
     "text": [
      "crispy - INFO - Apply noiseless detector readout on os5_spc_047_targetstar_IFS.fits\n"
     ]
    },
    {
     "name": "stderr",
     "output_type": "stream",
     "text": [
      "INFO:crispy:Apply noiseless detector readout on os5_spc_047_targetstar_IFS.fits\n"
     ]
    },
    {
     "name": "stdout",
     "output_type": "stream",
     "text": [
      "crispy - INFO - Read data from HDU 1 of OS5/OS5_test/os5_spc_047_targetstar_IFS.fits\n"
     ]
    },
    {
     "name": "stderr",
     "output_type": "stream",
     "text": [
      "INFO:crispy:Read data from HDU 1 of OS5/OS5_test/os5_spc_047_targetstar_IFS.fits\n"
     ]
    },
    {
     "name": "stdout",
     "output_type": "stream",
     "text": [
      "crispy - INFO - Read data from HDU 1 of /local/data/nicolaus2/mrizzo/crispy/code/OS5/OS5_test/OS5_average/offaxis.fits\n"
     ]
    },
    {
     "name": "stderr",
     "output_type": "stream",
     "text": [
      "INFO:crispy:Read data from HDU 1 of /local/data/nicolaus2/mrizzo/crispy/code/OS5/OS5_test/OS5_average/offaxis.fits\n"
     ]
    },
    {
     "name": "stdout",
     "output_type": "stream",
     "text": [
      "crispy - INFO - Writing data to OS5/OS5_test/OS5_detector/os5_spc_047_targetstar_IFS_detector.fits\n"
     ]
    },
    {
     "name": "stderr",
     "output_type": "stream",
     "text": [
      "INFO:crispy:Writing data to OS5/OS5_test/OS5_detector/os5_spc_047_targetstar_IFS_detector.fits\n"
     ]
    },
    {
     "name": "stdout",
     "output_type": "stream",
     "text": [
      "crispy - INFO - Apply noiseless detector readout on os5_spc_048_targetstar_IFS.fits\n"
     ]
    },
    {
     "name": "stderr",
     "output_type": "stream",
     "text": [
      "INFO:crispy:Apply noiseless detector readout on os5_spc_048_targetstar_IFS.fits\n"
     ]
    },
    {
     "name": "stdout",
     "output_type": "stream",
     "text": [
      "crispy - INFO - Read data from HDU 1 of OS5/OS5_test/os5_spc_048_targetstar_IFS.fits\n"
     ]
    },
    {
     "name": "stderr",
     "output_type": "stream",
     "text": [
      "INFO:crispy:Read data from HDU 1 of OS5/OS5_test/os5_spc_048_targetstar_IFS.fits\n"
     ]
    },
    {
     "name": "stdout",
     "output_type": "stream",
     "text": [
      "crispy - INFO - Read data from HDU 1 of /local/data/nicolaus2/mrizzo/crispy/code/OS5/OS5_test/OS5_average/offaxis.fits\n"
     ]
    },
    {
     "name": "stderr",
     "output_type": "stream",
     "text": [
      "INFO:crispy:Read data from HDU 1 of /local/data/nicolaus2/mrizzo/crispy/code/OS5/OS5_test/OS5_average/offaxis.fits\n"
     ]
    },
    {
     "name": "stdout",
     "output_type": "stream",
     "text": [
      "crispy - INFO - Writing data to OS5/OS5_test/OS5_detector/os5_spc_048_targetstar_IFS_detector.fits\n"
     ]
    },
    {
     "name": "stderr",
     "output_type": "stream",
     "text": [
      "INFO:crispy:Writing data to OS5/OS5_test/OS5_detector/os5_spc_048_targetstar_IFS_detector.fits\n"
     ]
    },
    {
     "name": "stdout",
     "output_type": "stream",
     "text": [
      "crispy - INFO - Apply noiseless detector readout on os5_spc_049_targetstar_IFS.fits\n"
     ]
    },
    {
     "name": "stderr",
     "output_type": "stream",
     "text": [
      "INFO:crispy:Apply noiseless detector readout on os5_spc_049_targetstar_IFS.fits\n"
     ]
    },
    {
     "name": "stdout",
     "output_type": "stream",
     "text": [
      "crispy - INFO - Read data from HDU 1 of OS5/OS5_test/os5_spc_049_targetstar_IFS.fits\n"
     ]
    },
    {
     "name": "stderr",
     "output_type": "stream",
     "text": [
      "INFO:crispy:Read data from HDU 1 of OS5/OS5_test/os5_spc_049_targetstar_IFS.fits\n"
     ]
    },
    {
     "name": "stdout",
     "output_type": "stream",
     "text": [
      "crispy - INFO - Read data from HDU 1 of /local/data/nicolaus2/mrizzo/crispy/code/OS5/OS5_test/OS5_average/offaxis.fits\n"
     ]
    },
    {
     "name": "stderr",
     "output_type": "stream",
     "text": [
      "INFO:crispy:Read data from HDU 1 of /local/data/nicolaus2/mrizzo/crispy/code/OS5/OS5_test/OS5_average/offaxis.fits\n"
     ]
    },
    {
     "name": "stdout",
     "output_type": "stream",
     "text": [
      "crispy - INFO - Writing data to OS5/OS5_test/OS5_detector/os5_spc_049_targetstar_IFS_detector.fits\n"
     ]
    },
    {
     "name": "stderr",
     "output_type": "stream",
     "text": [
      "INFO:crispy:Writing data to OS5/OS5_test/OS5_detector/os5_spc_049_targetstar_IFS_detector.fits\n"
     ]
    },
    {
     "name": "stdout",
     "output_type": "stream",
     "text": [
      "crispy - INFO - Apply noiseless detector readout on os5_spc_050_targetstar_IFS.fits\n"
     ]
    },
    {
     "name": "stderr",
     "output_type": "stream",
     "text": [
      "INFO:crispy:Apply noiseless detector readout on os5_spc_050_targetstar_IFS.fits\n"
     ]
    },
    {
     "name": "stdout",
     "output_type": "stream",
     "text": [
      "crispy - INFO - Read data from HDU 1 of OS5/OS5_test/os5_spc_050_targetstar_IFS.fits\n"
     ]
    },
    {
     "name": "stderr",
     "output_type": "stream",
     "text": [
      "INFO:crispy:Read data from HDU 1 of OS5/OS5_test/os5_spc_050_targetstar_IFS.fits\n"
     ]
    },
    {
     "name": "stdout",
     "output_type": "stream",
     "text": [
      "crispy - INFO - Read data from HDU 1 of /local/data/nicolaus2/mrizzo/crispy/code/OS5/OS5_test/OS5_average/offaxis.fits\n"
     ]
    },
    {
     "name": "stderr",
     "output_type": "stream",
     "text": [
      "INFO:crispy:Read data from HDU 1 of /local/data/nicolaus2/mrizzo/crispy/code/OS5/OS5_test/OS5_average/offaxis.fits\n"
     ]
    },
    {
     "name": "stdout",
     "output_type": "stream",
     "text": [
      "crispy - INFO - Writing data to OS5/OS5_test/OS5_detector/os5_spc_050_targetstar_IFS_detector.fits\n"
     ]
    },
    {
     "name": "stderr",
     "output_type": "stream",
     "text": [
      "INFO:crispy:Writing data to OS5/OS5_test/OS5_detector/os5_spc_050_targetstar_IFS_detector.fits\n"
     ]
    },
    {
     "name": "stdout",
     "output_type": "stream",
     "text": [
      "crispy - INFO - Apply noiseless detector readout on os5_spc_051_targetstar_IFS.fits\n"
     ]
    },
    {
     "name": "stderr",
     "output_type": "stream",
     "text": [
      "INFO:crispy:Apply noiseless detector readout on os5_spc_051_targetstar_IFS.fits\n"
     ]
    },
    {
     "name": "stdout",
     "output_type": "stream",
     "text": [
      "crispy - INFO - Read data from HDU 1 of OS5/OS5_test/os5_spc_051_targetstar_IFS.fits\n"
     ]
    },
    {
     "name": "stderr",
     "output_type": "stream",
     "text": [
      "INFO:crispy:Read data from HDU 1 of OS5/OS5_test/os5_spc_051_targetstar_IFS.fits\n"
     ]
    },
    {
     "name": "stdout",
     "output_type": "stream",
     "text": [
      "crispy - INFO - Read data from HDU 1 of /local/data/nicolaus2/mrizzo/crispy/code/OS5/OS5_test/OS5_average/offaxis.fits\n"
     ]
    },
    {
     "name": "stderr",
     "output_type": "stream",
     "text": [
      "INFO:crispy:Read data from HDU 1 of /local/data/nicolaus2/mrizzo/crispy/code/OS5/OS5_test/OS5_average/offaxis.fits\n"
     ]
    },
    {
     "name": "stdout",
     "output_type": "stream",
     "text": [
      "crispy - INFO - Writing data to OS5/OS5_test/OS5_detector/os5_spc_051_targetstar_IFS_detector.fits\n"
     ]
    },
    {
     "name": "stderr",
     "output_type": "stream",
     "text": [
      "INFO:crispy:Writing data to OS5/OS5_test/OS5_detector/os5_spc_051_targetstar_IFS_detector.fits\n"
     ]
    },
    {
     "name": "stdout",
     "output_type": "stream",
     "text": [
      "crispy - INFO - Apply noiseless detector readout on os5_spc_052_targetstar_IFS.fits\n"
     ]
    },
    {
     "name": "stderr",
     "output_type": "stream",
     "text": [
      "INFO:crispy:Apply noiseless detector readout on os5_spc_052_targetstar_IFS.fits\n"
     ]
    },
    {
     "name": "stdout",
     "output_type": "stream",
     "text": [
      "crispy - INFO - Read data from HDU 1 of OS5/OS5_test/os5_spc_052_targetstar_IFS.fits\n"
     ]
    },
    {
     "name": "stderr",
     "output_type": "stream",
     "text": [
      "INFO:crispy:Read data from HDU 1 of OS5/OS5_test/os5_spc_052_targetstar_IFS.fits\n"
     ]
    },
    {
     "name": "stdout",
     "output_type": "stream",
     "text": [
      "crispy - INFO - Read data from HDU 1 of /local/data/nicolaus2/mrizzo/crispy/code/OS5/OS5_test/OS5_average/offaxis.fits\n"
     ]
    },
    {
     "name": "stderr",
     "output_type": "stream",
     "text": [
      "INFO:crispy:Read data from HDU 1 of /local/data/nicolaus2/mrizzo/crispy/code/OS5/OS5_test/OS5_average/offaxis.fits\n"
     ]
    },
    {
     "name": "stdout",
     "output_type": "stream",
     "text": [
      "crispy - INFO - Writing data to OS5/OS5_test/OS5_detector/os5_spc_052_targetstar_IFS_detector.fits\n"
     ]
    },
    {
     "name": "stderr",
     "output_type": "stream",
     "text": [
      "INFO:crispy:Writing data to OS5/OS5_test/OS5_detector/os5_spc_052_targetstar_IFS_detector.fits\n"
     ]
    },
    {
     "name": "stdout",
     "output_type": "stream",
     "text": [
      "crispy - INFO - Apply noiseless detector readout on os5_spc_053_targetstar_IFS.fits\n"
     ]
    },
    {
     "name": "stderr",
     "output_type": "stream",
     "text": [
      "INFO:crispy:Apply noiseless detector readout on os5_spc_053_targetstar_IFS.fits\n"
     ]
    },
    {
     "name": "stdout",
     "output_type": "stream",
     "text": [
      "crispy - INFO - Read data from HDU 1 of OS5/OS5_test/os5_spc_053_targetstar_IFS.fits\n"
     ]
    },
    {
     "name": "stderr",
     "output_type": "stream",
     "text": [
      "INFO:crispy:Read data from HDU 1 of OS5/OS5_test/os5_spc_053_targetstar_IFS.fits\n"
     ]
    },
    {
     "name": "stdout",
     "output_type": "stream",
     "text": [
      "crispy - INFO - Read data from HDU 1 of /local/data/nicolaus2/mrizzo/crispy/code/OS5/OS5_test/OS5_average/offaxis.fits\n"
     ]
    },
    {
     "name": "stderr",
     "output_type": "stream",
     "text": [
      "INFO:crispy:Read data from HDU 1 of /local/data/nicolaus2/mrizzo/crispy/code/OS5/OS5_test/OS5_average/offaxis.fits\n"
     ]
    },
    {
     "name": "stdout",
     "output_type": "stream",
     "text": [
      "crispy - INFO - Writing data to OS5/OS5_test/OS5_detector/os5_spc_053_targetstar_IFS_detector.fits\n"
     ]
    },
    {
     "name": "stderr",
     "output_type": "stream",
     "text": [
      "INFO:crispy:Writing data to OS5/OS5_test/OS5_detector/os5_spc_053_targetstar_IFS_detector.fits\n"
     ]
    },
    {
     "name": "stdout",
     "output_type": "stream",
     "text": [
      "crispy - INFO - Apply noiseless detector readout on os5_spc_054_targetstar_IFS.fits\n"
     ]
    },
    {
     "name": "stderr",
     "output_type": "stream",
     "text": [
      "INFO:crispy:Apply noiseless detector readout on os5_spc_054_targetstar_IFS.fits\n"
     ]
    },
    {
     "name": "stdout",
     "output_type": "stream",
     "text": [
      "crispy - INFO - Read data from HDU 1 of OS5/OS5_test/os5_spc_054_targetstar_IFS.fits\n"
     ]
    },
    {
     "name": "stderr",
     "output_type": "stream",
     "text": [
      "INFO:crispy:Read data from HDU 1 of OS5/OS5_test/os5_spc_054_targetstar_IFS.fits\n"
     ]
    },
    {
     "name": "stdout",
     "output_type": "stream",
     "text": [
      "crispy - INFO - Read data from HDU 1 of /local/data/nicolaus2/mrizzo/crispy/code/OS5/OS5_test/OS5_average/offaxis.fits\n"
     ]
    },
    {
     "name": "stderr",
     "output_type": "stream",
     "text": [
      "INFO:crispy:Read data from HDU 1 of /local/data/nicolaus2/mrizzo/crispy/code/OS5/OS5_test/OS5_average/offaxis.fits\n"
     ]
    },
    {
     "name": "stdout",
     "output_type": "stream",
     "text": [
      "crispy - INFO - Writing data to OS5/OS5_test/OS5_detector/os5_spc_054_targetstar_IFS_detector.fits\n"
     ]
    },
    {
     "name": "stderr",
     "output_type": "stream",
     "text": [
      "INFO:crispy:Writing data to OS5/OS5_test/OS5_detector/os5_spc_054_targetstar_IFS_detector.fits\n"
     ]
    },
    {
     "name": "stdout",
     "output_type": "stream",
     "text": [
      "crispy - INFO - Apply noiseless detector readout on os5_spc_055_targetstar_IFS.fits\n"
     ]
    },
    {
     "name": "stderr",
     "output_type": "stream",
     "text": [
      "INFO:crispy:Apply noiseless detector readout on os5_spc_055_targetstar_IFS.fits\n"
     ]
    },
    {
     "name": "stdout",
     "output_type": "stream",
     "text": [
      "crispy - INFO - Read data from HDU 1 of OS5/OS5_test/os5_spc_055_targetstar_IFS.fits\n"
     ]
    },
    {
     "name": "stderr",
     "output_type": "stream",
     "text": [
      "INFO:crispy:Read data from HDU 1 of OS5/OS5_test/os5_spc_055_targetstar_IFS.fits\n"
     ]
    },
    {
     "name": "stdout",
     "output_type": "stream",
     "text": [
      "crispy - INFO - Read data from HDU 1 of /local/data/nicolaus2/mrizzo/crispy/code/OS5/OS5_test/OS5_average/offaxis.fits\n"
     ]
    },
    {
     "name": "stderr",
     "output_type": "stream",
     "text": [
      "INFO:crispy:Read data from HDU 1 of /local/data/nicolaus2/mrizzo/crispy/code/OS5/OS5_test/OS5_average/offaxis.fits\n"
     ]
    },
    {
     "name": "stdout",
     "output_type": "stream",
     "text": [
      "crispy - INFO - Writing data to OS5/OS5_test/OS5_detector/os5_spc_055_targetstar_IFS_detector.fits\n"
     ]
    },
    {
     "name": "stderr",
     "output_type": "stream",
     "text": [
      "INFO:crispy:Writing data to OS5/OS5_test/OS5_detector/os5_spc_055_targetstar_IFS_detector.fits\n"
     ]
    },
    {
     "name": "stdout",
     "output_type": "stream",
     "text": [
      "crispy - INFO - Apply noiseless detector readout on os5_spc_056_targetstar_IFS.fits\n"
     ]
    },
    {
     "name": "stderr",
     "output_type": "stream",
     "text": [
      "INFO:crispy:Apply noiseless detector readout on os5_spc_056_targetstar_IFS.fits\n"
     ]
    },
    {
     "name": "stdout",
     "output_type": "stream",
     "text": [
      "crispy - INFO - Read data from HDU 1 of OS5/OS5_test/os5_spc_056_targetstar_IFS.fits\n"
     ]
    },
    {
     "name": "stderr",
     "output_type": "stream",
     "text": [
      "INFO:crispy:Read data from HDU 1 of OS5/OS5_test/os5_spc_056_targetstar_IFS.fits\n"
     ]
    },
    {
     "name": "stdout",
     "output_type": "stream",
     "text": [
      "crispy - INFO - Read data from HDU 1 of /local/data/nicolaus2/mrizzo/crispy/code/OS5/OS5_test/OS5_average/offaxis.fits\n"
     ]
    },
    {
     "name": "stderr",
     "output_type": "stream",
     "text": [
      "INFO:crispy:Read data from HDU 1 of /local/data/nicolaus2/mrizzo/crispy/code/OS5/OS5_test/OS5_average/offaxis.fits\n"
     ]
    },
    {
     "name": "stdout",
     "output_type": "stream",
     "text": [
      "crispy - INFO - Writing data to OS5/OS5_test/OS5_detector/os5_spc_056_targetstar_IFS_detector.fits\n"
     ]
    },
    {
     "name": "stderr",
     "output_type": "stream",
     "text": [
      "INFO:crispy:Writing data to OS5/OS5_test/OS5_detector/os5_spc_056_targetstar_IFS_detector.fits\n"
     ]
    },
    {
     "name": "stdout",
     "output_type": "stream",
     "text": [
      "crispy - INFO - Apply noiseless detector readout on os5_spc_057_targetstar_IFS.fits\n"
     ]
    },
    {
     "name": "stderr",
     "output_type": "stream",
     "text": [
      "INFO:crispy:Apply noiseless detector readout on os5_spc_057_targetstar_IFS.fits\n"
     ]
    },
    {
     "name": "stdout",
     "output_type": "stream",
     "text": [
      "crispy - INFO - Read data from HDU 1 of OS5/OS5_test/os5_spc_057_targetstar_IFS.fits\n"
     ]
    },
    {
     "name": "stderr",
     "output_type": "stream",
     "text": [
      "INFO:crispy:Read data from HDU 1 of OS5/OS5_test/os5_spc_057_targetstar_IFS.fits\n"
     ]
    },
    {
     "name": "stdout",
     "output_type": "stream",
     "text": [
      "crispy - INFO - Read data from HDU 1 of /local/data/nicolaus2/mrizzo/crispy/code/OS5/OS5_test/OS5_average/offaxis.fits\n"
     ]
    },
    {
     "name": "stderr",
     "output_type": "stream",
     "text": [
      "INFO:crispy:Read data from HDU 1 of /local/data/nicolaus2/mrizzo/crispy/code/OS5/OS5_test/OS5_average/offaxis.fits\n"
     ]
    },
    {
     "name": "stdout",
     "output_type": "stream",
     "text": [
      "crispy - INFO - Writing data to OS5/OS5_test/OS5_detector/os5_spc_057_targetstar_IFS_detector.fits\n"
     ]
    },
    {
     "name": "stderr",
     "output_type": "stream",
     "text": [
      "INFO:crispy:Writing data to OS5/OS5_test/OS5_detector/os5_spc_057_targetstar_IFS_detector.fits\n"
     ]
    },
    {
     "name": "stdout",
     "output_type": "stream",
     "text": [
      "crispy - INFO - Apply noiseless detector readout on os5_spc_058_targetstar_IFS.fits\n"
     ]
    },
    {
     "name": "stderr",
     "output_type": "stream",
     "text": [
      "INFO:crispy:Apply noiseless detector readout on os5_spc_058_targetstar_IFS.fits\n"
     ]
    },
    {
     "name": "stdout",
     "output_type": "stream",
     "text": [
      "crispy - INFO - Read data from HDU 1 of OS5/OS5_test/os5_spc_058_targetstar_IFS.fits\n"
     ]
    },
    {
     "name": "stderr",
     "output_type": "stream",
     "text": [
      "INFO:crispy:Read data from HDU 1 of OS5/OS5_test/os5_spc_058_targetstar_IFS.fits\n"
     ]
    },
    {
     "name": "stdout",
     "output_type": "stream",
     "text": [
      "crispy - INFO - Read data from HDU 1 of /local/data/nicolaus2/mrizzo/crispy/code/OS5/OS5_test/OS5_average/offaxis.fits\n"
     ]
    },
    {
     "name": "stderr",
     "output_type": "stream",
     "text": [
      "INFO:crispy:Read data from HDU 1 of /local/data/nicolaus2/mrizzo/crispy/code/OS5/OS5_test/OS5_average/offaxis.fits\n"
     ]
    },
    {
     "name": "stdout",
     "output_type": "stream",
     "text": [
      "crispy - INFO - Writing data to OS5/OS5_test/OS5_detector/os5_spc_058_targetstar_IFS_detector.fits\n"
     ]
    },
    {
     "name": "stderr",
     "output_type": "stream",
     "text": [
      "INFO:crispy:Writing data to OS5/OS5_test/OS5_detector/os5_spc_058_targetstar_IFS_detector.fits\n"
     ]
    },
    {
     "name": "stdout",
     "output_type": "stream",
     "text": [
      "crispy - INFO - Apply noiseless detector readout on os5_spc_059_targetstar_IFS.fits\n"
     ]
    },
    {
     "name": "stderr",
     "output_type": "stream",
     "text": [
      "INFO:crispy:Apply noiseless detector readout on os5_spc_059_targetstar_IFS.fits\n"
     ]
    },
    {
     "name": "stdout",
     "output_type": "stream",
     "text": [
      "crispy - INFO - Read data from HDU 1 of OS5/OS5_test/os5_spc_059_targetstar_IFS.fits\n"
     ]
    },
    {
     "name": "stderr",
     "output_type": "stream",
     "text": [
      "INFO:crispy:Read data from HDU 1 of OS5/OS5_test/os5_spc_059_targetstar_IFS.fits\n"
     ]
    },
    {
     "name": "stdout",
     "output_type": "stream",
     "text": [
      "crispy - INFO - Read data from HDU 1 of /local/data/nicolaus2/mrizzo/crispy/code/OS5/OS5_test/OS5_average/offaxis.fits\n"
     ]
    },
    {
     "name": "stderr",
     "output_type": "stream",
     "text": [
      "INFO:crispy:Read data from HDU 1 of /local/data/nicolaus2/mrizzo/crispy/code/OS5/OS5_test/OS5_average/offaxis.fits\n"
     ]
    },
    {
     "name": "stdout",
     "output_type": "stream",
     "text": [
      "crispy - INFO - Writing data to OS5/OS5_test/OS5_detector/os5_spc_059_targetstar_IFS_detector.fits\n"
     ]
    },
    {
     "name": "stderr",
     "output_type": "stream",
     "text": [
      "INFO:crispy:Writing data to OS5/OS5_test/OS5_detector/os5_spc_059_targetstar_IFS_detector.fits\n"
     ]
    },
    {
     "name": "stdout",
     "output_type": "stream",
     "text": [
      "crispy - INFO - Apply noiseless detector readout on os5_spc_060_targetstar_IFS.fits\n"
     ]
    },
    {
     "name": "stderr",
     "output_type": "stream",
     "text": [
      "INFO:crispy:Apply noiseless detector readout on os5_spc_060_targetstar_IFS.fits\n"
     ]
    },
    {
     "name": "stdout",
     "output_type": "stream",
     "text": [
      "crispy - INFO - Read data from HDU 1 of OS5/OS5_test/os5_spc_060_targetstar_IFS.fits\n"
     ]
    },
    {
     "name": "stderr",
     "output_type": "stream",
     "text": [
      "INFO:crispy:Read data from HDU 1 of OS5/OS5_test/os5_spc_060_targetstar_IFS.fits\n"
     ]
    },
    {
     "name": "stdout",
     "output_type": "stream",
     "text": [
      "crispy - INFO - Read data from HDU 1 of /local/data/nicolaus2/mrizzo/crispy/code/OS5/OS5_test/OS5_average/offaxis.fits\n"
     ]
    },
    {
     "name": "stderr",
     "output_type": "stream",
     "text": [
      "INFO:crispy:Read data from HDU 1 of /local/data/nicolaus2/mrizzo/crispy/code/OS5/OS5_test/OS5_average/offaxis.fits\n"
     ]
    },
    {
     "name": "stdout",
     "output_type": "stream",
     "text": [
      "crispy - INFO - Writing data to OS5/OS5_test/OS5_detector/os5_spc_060_targetstar_IFS_detector.fits\n"
     ]
    },
    {
     "name": "stderr",
     "output_type": "stream",
     "text": [
      "INFO:crispy:Writing data to OS5/OS5_test/OS5_detector/os5_spc_060_targetstar_IFS_detector.fits\n"
     ]
    },
    {
     "name": "stdout",
     "output_type": "stream",
     "text": [
      "crispy - INFO - Apply noiseless detector readout on os5_spc_061_targetstar_IFS.fits\n"
     ]
    },
    {
     "name": "stderr",
     "output_type": "stream",
     "text": [
      "INFO:crispy:Apply noiseless detector readout on os5_spc_061_targetstar_IFS.fits\n"
     ]
    },
    {
     "name": "stdout",
     "output_type": "stream",
     "text": [
      "crispy - INFO - Read data from HDU 1 of OS5/OS5_test/os5_spc_061_targetstar_IFS.fits\n"
     ]
    },
    {
     "name": "stderr",
     "output_type": "stream",
     "text": [
      "INFO:crispy:Read data from HDU 1 of OS5/OS5_test/os5_spc_061_targetstar_IFS.fits\n"
     ]
    },
    {
     "name": "stdout",
     "output_type": "stream",
     "text": [
      "crispy - INFO - Read data from HDU 1 of /local/data/nicolaus2/mrizzo/crispy/code/OS5/OS5_test/OS5_average/offaxis.fits\n"
     ]
    },
    {
     "name": "stderr",
     "output_type": "stream",
     "text": [
      "INFO:crispy:Read data from HDU 1 of /local/data/nicolaus2/mrizzo/crispy/code/OS5/OS5_test/OS5_average/offaxis.fits\n"
     ]
    },
    {
     "name": "stdout",
     "output_type": "stream",
     "text": [
      "crispy - INFO - Writing data to OS5/OS5_test/OS5_detector/os5_spc_061_targetstar_IFS_detector.fits\n"
     ]
    },
    {
     "name": "stderr",
     "output_type": "stream",
     "text": [
      "INFO:crispy:Writing data to OS5/OS5_test/OS5_detector/os5_spc_061_targetstar_IFS_detector.fits\n"
     ]
    },
    {
     "name": "stdout",
     "output_type": "stream",
     "text": [
      "crispy - INFO - Apply noiseless detector readout on os5_spc_062_targetstar_IFS.fits\n"
     ]
    },
    {
     "name": "stderr",
     "output_type": "stream",
     "text": [
      "INFO:crispy:Apply noiseless detector readout on os5_spc_062_targetstar_IFS.fits\n"
     ]
    },
    {
     "name": "stdout",
     "output_type": "stream",
     "text": [
      "crispy - INFO - Read data from HDU 1 of OS5/OS5_test/os5_spc_062_targetstar_IFS.fits\n"
     ]
    },
    {
     "name": "stderr",
     "output_type": "stream",
     "text": [
      "INFO:crispy:Read data from HDU 1 of OS5/OS5_test/os5_spc_062_targetstar_IFS.fits\n"
     ]
    },
    {
     "name": "stdout",
     "output_type": "stream",
     "text": [
      "crispy - INFO - Read data from HDU 1 of /local/data/nicolaus2/mrizzo/crispy/code/OS5/OS5_test/OS5_average/offaxis.fits\n"
     ]
    },
    {
     "name": "stderr",
     "output_type": "stream",
     "text": [
      "INFO:crispy:Read data from HDU 1 of /local/data/nicolaus2/mrizzo/crispy/code/OS5/OS5_test/OS5_average/offaxis.fits\n"
     ]
    },
    {
     "name": "stdout",
     "output_type": "stream",
     "text": [
      "crispy - INFO - Writing data to OS5/OS5_test/OS5_detector/os5_spc_062_targetstar_IFS_detector.fits\n"
     ]
    },
    {
     "name": "stderr",
     "output_type": "stream",
     "text": [
      "INFO:crispy:Writing data to OS5/OS5_test/OS5_detector/os5_spc_062_targetstar_IFS_detector.fits\n"
     ]
    },
    {
     "name": "stdout",
     "output_type": "stream",
     "text": [
      "crispy - INFO - Apply noiseless detector readout on os5_spc_063_targetstar_IFS.fits\n"
     ]
    },
    {
     "name": "stderr",
     "output_type": "stream",
     "text": [
      "INFO:crispy:Apply noiseless detector readout on os5_spc_063_targetstar_IFS.fits\n"
     ]
    },
    {
     "name": "stdout",
     "output_type": "stream",
     "text": [
      "crispy - INFO - Read data from HDU 1 of OS5/OS5_test/os5_spc_063_targetstar_IFS.fits\n"
     ]
    },
    {
     "name": "stderr",
     "output_type": "stream",
     "text": [
      "INFO:crispy:Read data from HDU 1 of OS5/OS5_test/os5_spc_063_targetstar_IFS.fits\n"
     ]
    },
    {
     "name": "stdout",
     "output_type": "stream",
     "text": [
      "crispy - INFO - Read data from HDU 1 of /local/data/nicolaus2/mrizzo/crispy/code/OS5/OS5_test/OS5_average/offaxis.fits\n"
     ]
    },
    {
     "name": "stderr",
     "output_type": "stream",
     "text": [
      "INFO:crispy:Read data from HDU 1 of /local/data/nicolaus2/mrizzo/crispy/code/OS5/OS5_test/OS5_average/offaxis.fits\n"
     ]
    },
    {
     "name": "stdout",
     "output_type": "stream",
     "text": [
      "crispy - INFO - Writing data to OS5/OS5_test/OS5_detector/os5_spc_063_targetstar_IFS_detector.fits\n"
     ]
    },
    {
     "name": "stderr",
     "output_type": "stream",
     "text": [
      "INFO:crispy:Writing data to OS5/OS5_test/OS5_detector/os5_spc_063_targetstar_IFS_detector.fits\n"
     ]
    },
    {
     "name": "stdout",
     "output_type": "stream",
     "text": [
      "crispy - INFO - Apply noiseless detector readout on os5_spc_064_targetstar_IFS.fits\n"
     ]
    },
    {
     "name": "stderr",
     "output_type": "stream",
     "text": [
      "INFO:crispy:Apply noiseless detector readout on os5_spc_064_targetstar_IFS.fits\n"
     ]
    },
    {
     "name": "stdout",
     "output_type": "stream",
     "text": [
      "crispy - INFO - Read data from HDU 1 of OS5/OS5_test/os5_spc_064_targetstar_IFS.fits\n"
     ]
    },
    {
     "name": "stderr",
     "output_type": "stream",
     "text": [
      "INFO:crispy:Read data from HDU 1 of OS5/OS5_test/os5_spc_064_targetstar_IFS.fits\n"
     ]
    },
    {
     "name": "stdout",
     "output_type": "stream",
     "text": [
      "crispy - INFO - Read data from HDU 1 of /local/data/nicolaus2/mrizzo/crispy/code/OS5/OS5_test/OS5_average/offaxis.fits\n"
     ]
    },
    {
     "name": "stderr",
     "output_type": "stream",
     "text": [
      "INFO:crispy:Read data from HDU 1 of /local/data/nicolaus2/mrizzo/crispy/code/OS5/OS5_test/OS5_average/offaxis.fits\n"
     ]
    },
    {
     "name": "stdout",
     "output_type": "stream",
     "text": [
      "crispy - INFO - Writing data to OS5/OS5_test/OS5_detector/os5_spc_064_targetstar_IFS_detector.fits\n"
     ]
    },
    {
     "name": "stderr",
     "output_type": "stream",
     "text": [
      "INFO:crispy:Writing data to OS5/OS5_test/OS5_detector/os5_spc_064_targetstar_IFS_detector.fits\n"
     ]
    },
    {
     "name": "stdout",
     "output_type": "stream",
     "text": [
      "crispy - INFO - Apply noiseless detector readout on os5_spc_065_targetstar_IFS.fits\n"
     ]
    },
    {
     "name": "stderr",
     "output_type": "stream",
     "text": [
      "INFO:crispy:Apply noiseless detector readout on os5_spc_065_targetstar_IFS.fits\n"
     ]
    },
    {
     "name": "stdout",
     "output_type": "stream",
     "text": [
      "crispy - INFO - Read data from HDU 1 of OS5/OS5_test/os5_spc_065_targetstar_IFS.fits\n"
     ]
    },
    {
     "name": "stderr",
     "output_type": "stream",
     "text": [
      "INFO:crispy:Read data from HDU 1 of OS5/OS5_test/os5_spc_065_targetstar_IFS.fits\n"
     ]
    },
    {
     "name": "stdout",
     "output_type": "stream",
     "text": [
      "crispy - INFO - Read data from HDU 1 of /local/data/nicolaus2/mrizzo/crispy/code/OS5/OS5_test/OS5_average/offaxis.fits\n"
     ]
    },
    {
     "name": "stderr",
     "output_type": "stream",
     "text": [
      "INFO:crispy:Read data from HDU 1 of /local/data/nicolaus2/mrizzo/crispy/code/OS5/OS5_test/OS5_average/offaxis.fits\n"
     ]
    },
    {
     "name": "stdout",
     "output_type": "stream",
     "text": [
      "crispy - INFO - Writing data to OS5/OS5_test/OS5_detector/os5_spc_065_targetstar_IFS_detector.fits\n"
     ]
    },
    {
     "name": "stderr",
     "output_type": "stream",
     "text": [
      "INFO:crispy:Writing data to OS5/OS5_test/OS5_detector/os5_spc_065_targetstar_IFS_detector.fits\n"
     ]
    },
    {
     "name": "stdout",
     "output_type": "stream",
     "text": [
      "crispy - INFO - Apply noiseless detector readout on os5_spc_066_targetstar_IFS.fits\n"
     ]
    },
    {
     "name": "stderr",
     "output_type": "stream",
     "text": [
      "INFO:crispy:Apply noiseless detector readout on os5_spc_066_targetstar_IFS.fits\n"
     ]
    },
    {
     "name": "stdout",
     "output_type": "stream",
     "text": [
      "crispy - INFO - Read data from HDU 1 of OS5/OS5_test/os5_spc_066_targetstar_IFS.fits\n"
     ]
    },
    {
     "name": "stderr",
     "output_type": "stream",
     "text": [
      "INFO:crispy:Read data from HDU 1 of OS5/OS5_test/os5_spc_066_targetstar_IFS.fits\n"
     ]
    },
    {
     "name": "stdout",
     "output_type": "stream",
     "text": [
      "crispy - INFO - Read data from HDU 1 of /local/data/nicolaus2/mrizzo/crispy/code/OS5/OS5_test/OS5_average/offaxis.fits\n"
     ]
    },
    {
     "name": "stderr",
     "output_type": "stream",
     "text": [
      "INFO:crispy:Read data from HDU 1 of /local/data/nicolaus2/mrizzo/crispy/code/OS5/OS5_test/OS5_average/offaxis.fits\n"
     ]
    },
    {
     "name": "stdout",
     "output_type": "stream",
     "text": [
      "crispy - INFO - Writing data to OS5/OS5_test/OS5_detector/os5_spc_066_targetstar_IFS_detector.fits\n"
     ]
    },
    {
     "name": "stderr",
     "output_type": "stream",
     "text": [
      "INFO:crispy:Writing data to OS5/OS5_test/OS5_detector/os5_spc_066_targetstar_IFS_detector.fits\n"
     ]
    },
    {
     "name": "stdout",
     "output_type": "stream",
     "text": [
      "crispy - INFO - Apply noiseless detector readout on os5_spc_067_targetstar_IFS.fits\n"
     ]
    },
    {
     "name": "stderr",
     "output_type": "stream",
     "text": [
      "INFO:crispy:Apply noiseless detector readout on os5_spc_067_targetstar_IFS.fits\n"
     ]
    },
    {
     "name": "stdout",
     "output_type": "stream",
     "text": [
      "crispy - INFO - Read data from HDU 1 of OS5/OS5_test/os5_spc_067_targetstar_IFS.fits\n"
     ]
    },
    {
     "name": "stderr",
     "output_type": "stream",
     "text": [
      "INFO:crispy:Read data from HDU 1 of OS5/OS5_test/os5_spc_067_targetstar_IFS.fits\n"
     ]
    },
    {
     "name": "stdout",
     "output_type": "stream",
     "text": [
      "crispy - INFO - Read data from HDU 1 of /local/data/nicolaus2/mrizzo/crispy/code/OS5/OS5_test/OS5_average/offaxis.fits\n"
     ]
    },
    {
     "name": "stderr",
     "output_type": "stream",
     "text": [
      "INFO:crispy:Read data from HDU 1 of /local/data/nicolaus2/mrizzo/crispy/code/OS5/OS5_test/OS5_average/offaxis.fits\n"
     ]
    },
    {
     "name": "stdout",
     "output_type": "stream",
     "text": [
      "crispy - INFO - Writing data to OS5/OS5_test/OS5_detector/os5_spc_067_targetstar_IFS_detector.fits\n"
     ]
    },
    {
     "name": "stderr",
     "output_type": "stream",
     "text": [
      "INFO:crispy:Writing data to OS5/OS5_test/OS5_detector/os5_spc_067_targetstar_IFS_detector.fits\n"
     ]
    },
    {
     "name": "stdout",
     "output_type": "stream",
     "text": [
      "crispy - INFO - Apply noiseless detector readout on os5_spc_068_targetstar_IFS.fits\n"
     ]
    },
    {
     "name": "stderr",
     "output_type": "stream",
     "text": [
      "INFO:crispy:Apply noiseless detector readout on os5_spc_068_targetstar_IFS.fits\n"
     ]
    },
    {
     "name": "stdout",
     "output_type": "stream",
     "text": [
      "crispy - INFO - Read data from HDU 1 of OS5/OS5_test/os5_spc_068_targetstar_IFS.fits\n"
     ]
    },
    {
     "name": "stderr",
     "output_type": "stream",
     "text": [
      "INFO:crispy:Read data from HDU 1 of OS5/OS5_test/os5_spc_068_targetstar_IFS.fits\n"
     ]
    },
    {
     "name": "stdout",
     "output_type": "stream",
     "text": [
      "crispy - INFO - Read data from HDU 1 of /local/data/nicolaus2/mrizzo/crispy/code/OS5/OS5_test/OS5_average/offaxis.fits\n"
     ]
    },
    {
     "name": "stderr",
     "output_type": "stream",
     "text": [
      "INFO:crispy:Read data from HDU 1 of /local/data/nicolaus2/mrizzo/crispy/code/OS5/OS5_test/OS5_average/offaxis.fits\n"
     ]
    },
    {
     "name": "stdout",
     "output_type": "stream",
     "text": [
      "crispy - INFO - Writing data to OS5/OS5_test/OS5_detector/os5_spc_068_targetstar_IFS_detector.fits\n"
     ]
    },
    {
     "name": "stderr",
     "output_type": "stream",
     "text": [
      "INFO:crispy:Writing data to OS5/OS5_test/OS5_detector/os5_spc_068_targetstar_IFS_detector.fits\n"
     ]
    },
    {
     "name": "stdout",
     "output_type": "stream",
     "text": [
      "crispy - INFO - Apply noiseless detector readout on os5_spc_069_targetstar_IFS.fits\n"
     ]
    },
    {
     "name": "stderr",
     "output_type": "stream",
     "text": [
      "INFO:crispy:Apply noiseless detector readout on os5_spc_069_targetstar_IFS.fits\n"
     ]
    },
    {
     "name": "stdout",
     "output_type": "stream",
     "text": [
      "crispy - INFO - Read data from HDU 1 of OS5/OS5_test/os5_spc_069_targetstar_IFS.fits\n"
     ]
    },
    {
     "name": "stderr",
     "output_type": "stream",
     "text": [
      "INFO:crispy:Read data from HDU 1 of OS5/OS5_test/os5_spc_069_targetstar_IFS.fits\n"
     ]
    },
    {
     "name": "stdout",
     "output_type": "stream",
     "text": [
      "crispy - INFO - Read data from HDU 1 of /local/data/nicolaus2/mrizzo/crispy/code/OS5/OS5_test/OS5_average/offaxis.fits\n"
     ]
    },
    {
     "name": "stderr",
     "output_type": "stream",
     "text": [
      "INFO:crispy:Read data from HDU 1 of /local/data/nicolaus2/mrizzo/crispy/code/OS5/OS5_test/OS5_average/offaxis.fits\n"
     ]
    },
    {
     "name": "stdout",
     "output_type": "stream",
     "text": [
      "crispy - INFO - Writing data to OS5/OS5_test/OS5_detector/os5_spc_069_targetstar_IFS_detector.fits\n"
     ]
    },
    {
     "name": "stderr",
     "output_type": "stream",
     "text": [
      "INFO:crispy:Writing data to OS5/OS5_test/OS5_detector/os5_spc_069_targetstar_IFS_detector.fits\n"
     ]
    },
    {
     "name": "stdout",
     "output_type": "stream",
     "text": [
      "crispy - INFO - Apply noiseless detector readout on os5_spc_070_targetstar_IFS.fits\n"
     ]
    },
    {
     "name": "stderr",
     "output_type": "stream",
     "text": [
      "INFO:crispy:Apply noiseless detector readout on os5_spc_070_targetstar_IFS.fits\n"
     ]
    },
    {
     "name": "stdout",
     "output_type": "stream",
     "text": [
      "crispy - INFO - Read data from HDU 1 of OS5/OS5_test/os5_spc_070_targetstar_IFS.fits\n"
     ]
    },
    {
     "name": "stderr",
     "output_type": "stream",
     "text": [
      "INFO:crispy:Read data from HDU 1 of OS5/OS5_test/os5_spc_070_targetstar_IFS.fits\n"
     ]
    },
    {
     "name": "stdout",
     "output_type": "stream",
     "text": [
      "crispy - INFO - Read data from HDU 1 of /local/data/nicolaus2/mrizzo/crispy/code/OS5/OS5_test/OS5_average/offaxis.fits\n"
     ]
    },
    {
     "name": "stderr",
     "output_type": "stream",
     "text": [
      "INFO:crispy:Read data from HDU 1 of /local/data/nicolaus2/mrizzo/crispy/code/OS5/OS5_test/OS5_average/offaxis.fits\n"
     ]
    },
    {
     "name": "stdout",
     "output_type": "stream",
     "text": [
      "crispy - INFO - Writing data to OS5/OS5_test/OS5_detector/os5_spc_070_targetstar_IFS_detector.fits\n"
     ]
    },
    {
     "name": "stderr",
     "output_type": "stream",
     "text": [
      "INFO:crispy:Writing data to OS5/OS5_test/OS5_detector/os5_spc_070_targetstar_IFS_detector.fits\n"
     ]
    },
    {
     "name": "stdout",
     "output_type": "stream",
     "text": [
      "crispy - INFO - Apply noiseless detector readout on os5_spc_071_targetstar_IFS.fits\n"
     ]
    },
    {
     "name": "stderr",
     "output_type": "stream",
     "text": [
      "INFO:crispy:Apply noiseless detector readout on os5_spc_071_targetstar_IFS.fits\n"
     ]
    },
    {
     "name": "stdout",
     "output_type": "stream",
     "text": [
      "crispy - INFO - Read data from HDU 1 of OS5/OS5_test/os5_spc_071_targetstar_IFS.fits\n"
     ]
    },
    {
     "name": "stderr",
     "output_type": "stream",
     "text": [
      "INFO:crispy:Read data from HDU 1 of OS5/OS5_test/os5_spc_071_targetstar_IFS.fits\n"
     ]
    },
    {
     "name": "stdout",
     "output_type": "stream",
     "text": [
      "crispy - INFO - Read data from HDU 1 of /local/data/nicolaus2/mrizzo/crispy/code/OS5/OS5_test/OS5_average/offaxis.fits\n"
     ]
    },
    {
     "name": "stderr",
     "output_type": "stream",
     "text": [
      "INFO:crispy:Read data from HDU 1 of /local/data/nicolaus2/mrizzo/crispy/code/OS5/OS5_test/OS5_average/offaxis.fits\n"
     ]
    },
    {
     "name": "stdout",
     "output_type": "stream",
     "text": [
      "crispy - INFO - Writing data to OS5/OS5_test/OS5_detector/os5_spc_071_targetstar_IFS_detector.fits\n"
     ]
    },
    {
     "name": "stderr",
     "output_type": "stream",
     "text": [
      "INFO:crispy:Writing data to OS5/OS5_test/OS5_detector/os5_spc_071_targetstar_IFS_detector.fits\n"
     ]
    },
    {
     "name": "stdout",
     "output_type": "stream",
     "text": [
      "crispy - INFO - Apply noiseless detector readout on os5_spc_072_targetstar_IFS.fits\n"
     ]
    },
    {
     "name": "stderr",
     "output_type": "stream",
     "text": [
      "INFO:crispy:Apply noiseless detector readout on os5_spc_072_targetstar_IFS.fits\n"
     ]
    },
    {
     "name": "stdout",
     "output_type": "stream",
     "text": [
      "crispy - INFO - Read data from HDU 1 of OS5/OS5_test/os5_spc_072_targetstar_IFS.fits\n"
     ]
    },
    {
     "name": "stderr",
     "output_type": "stream",
     "text": [
      "INFO:crispy:Read data from HDU 1 of OS5/OS5_test/os5_spc_072_targetstar_IFS.fits\n"
     ]
    },
    {
     "name": "stdout",
     "output_type": "stream",
     "text": [
      "crispy - INFO - Read data from HDU 1 of /local/data/nicolaus2/mrizzo/crispy/code/OS5/OS5_test/OS5_average/offaxis.fits\n"
     ]
    },
    {
     "name": "stderr",
     "output_type": "stream",
     "text": [
      "INFO:crispy:Read data from HDU 1 of /local/data/nicolaus2/mrizzo/crispy/code/OS5/OS5_test/OS5_average/offaxis.fits\n"
     ]
    },
    {
     "name": "stdout",
     "output_type": "stream",
     "text": [
      "crispy - INFO - Writing data to OS5/OS5_test/OS5_detector/os5_spc_072_targetstar_IFS_detector.fits\n"
     ]
    },
    {
     "name": "stderr",
     "output_type": "stream",
     "text": [
      "INFO:crispy:Writing data to OS5/OS5_test/OS5_detector/os5_spc_072_targetstar_IFS_detector.fits\n"
     ]
    },
    {
     "name": "stdout",
     "output_type": "stream",
     "text": [
      "crispy - INFO - Apply noiseless detector readout on os5_spc_073_targetstar_IFS.fits\n"
     ]
    },
    {
     "name": "stderr",
     "output_type": "stream",
     "text": [
      "INFO:crispy:Apply noiseless detector readout on os5_spc_073_targetstar_IFS.fits\n"
     ]
    },
    {
     "name": "stdout",
     "output_type": "stream",
     "text": [
      "crispy - INFO - Read data from HDU 1 of OS5/OS5_test/os5_spc_073_targetstar_IFS.fits\n"
     ]
    },
    {
     "name": "stderr",
     "output_type": "stream",
     "text": [
      "INFO:crispy:Read data from HDU 1 of OS5/OS5_test/os5_spc_073_targetstar_IFS.fits\n"
     ]
    },
    {
     "name": "stdout",
     "output_type": "stream",
     "text": [
      "crispy - INFO - Read data from HDU 1 of /local/data/nicolaus2/mrizzo/crispy/code/OS5/OS5_test/OS5_average/offaxis.fits\n"
     ]
    },
    {
     "name": "stderr",
     "output_type": "stream",
     "text": [
      "INFO:crispy:Read data from HDU 1 of /local/data/nicolaus2/mrizzo/crispy/code/OS5/OS5_test/OS5_average/offaxis.fits\n"
     ]
    },
    {
     "name": "stdout",
     "output_type": "stream",
     "text": [
      "crispy - INFO - Writing data to OS5/OS5_test/OS5_detector/os5_spc_073_targetstar_IFS_detector.fits\n"
     ]
    },
    {
     "name": "stderr",
     "output_type": "stream",
     "text": [
      "INFO:crispy:Writing data to OS5/OS5_test/OS5_detector/os5_spc_073_targetstar_IFS_detector.fits\n"
     ]
    },
    {
     "name": "stdout",
     "output_type": "stream",
     "text": [
      "crispy - INFO - Apply noiseless detector readout on os5_spc_074_targetstar_IFS.fits\n"
     ]
    },
    {
     "name": "stderr",
     "output_type": "stream",
     "text": [
      "INFO:crispy:Apply noiseless detector readout on os5_spc_074_targetstar_IFS.fits\n"
     ]
    },
    {
     "name": "stdout",
     "output_type": "stream",
     "text": [
      "crispy - INFO - Read data from HDU 1 of OS5/OS5_test/os5_spc_074_targetstar_IFS.fits\n"
     ]
    },
    {
     "name": "stderr",
     "output_type": "stream",
     "text": [
      "INFO:crispy:Read data from HDU 1 of OS5/OS5_test/os5_spc_074_targetstar_IFS.fits\n"
     ]
    },
    {
     "name": "stdout",
     "output_type": "stream",
     "text": [
      "crispy - INFO - Read data from HDU 1 of /local/data/nicolaus2/mrizzo/crispy/code/OS5/OS5_test/OS5_average/offaxis.fits\n"
     ]
    },
    {
     "name": "stderr",
     "output_type": "stream",
     "text": [
      "INFO:crispy:Read data from HDU 1 of /local/data/nicolaus2/mrizzo/crispy/code/OS5/OS5_test/OS5_average/offaxis.fits\n"
     ]
    },
    {
     "name": "stdout",
     "output_type": "stream",
     "text": [
      "crispy - INFO - Writing data to OS5/OS5_test/OS5_detector/os5_spc_074_targetstar_IFS_detector.fits\n"
     ]
    },
    {
     "name": "stderr",
     "output_type": "stream",
     "text": [
      "INFO:crispy:Writing data to OS5/OS5_test/OS5_detector/os5_spc_074_targetstar_IFS_detector.fits\n"
     ]
    },
    {
     "name": "stdout",
     "output_type": "stream",
     "text": [
      "crispy - INFO - Apply noiseless detector readout on os5_spc_075_targetstar_IFS.fits\n"
     ]
    },
    {
     "name": "stderr",
     "output_type": "stream",
     "text": [
      "INFO:crispy:Apply noiseless detector readout on os5_spc_075_targetstar_IFS.fits\n"
     ]
    },
    {
     "name": "stdout",
     "output_type": "stream",
     "text": [
      "crispy - INFO - Read data from HDU 1 of OS5/OS5_test/os5_spc_075_targetstar_IFS.fits\n"
     ]
    },
    {
     "name": "stderr",
     "output_type": "stream",
     "text": [
      "INFO:crispy:Read data from HDU 1 of OS5/OS5_test/os5_spc_075_targetstar_IFS.fits\n"
     ]
    },
    {
     "name": "stdout",
     "output_type": "stream",
     "text": [
      "crispy - INFO - Read data from HDU 1 of /local/data/nicolaus2/mrizzo/crispy/code/OS5/OS5_test/OS5_average/offaxis.fits\n"
     ]
    },
    {
     "name": "stderr",
     "output_type": "stream",
     "text": [
      "INFO:crispy:Read data from HDU 1 of /local/data/nicolaus2/mrizzo/crispy/code/OS5/OS5_test/OS5_average/offaxis.fits\n"
     ]
    },
    {
     "name": "stdout",
     "output_type": "stream",
     "text": [
      "crispy - INFO - Writing data to OS5/OS5_test/OS5_detector/os5_spc_075_targetstar_IFS_detector.fits\n"
     ]
    },
    {
     "name": "stderr",
     "output_type": "stream",
     "text": [
      "INFO:crispy:Writing data to OS5/OS5_test/OS5_detector/os5_spc_075_targetstar_IFS_detector.fits\n"
     ]
    },
    {
     "name": "stdout",
     "output_type": "stream",
     "text": [
      "crispy - INFO - Apply noiseless detector readout on os5_spc_076_targetstar_IFS.fits\n"
     ]
    },
    {
     "name": "stderr",
     "output_type": "stream",
     "text": [
      "INFO:crispy:Apply noiseless detector readout on os5_spc_076_targetstar_IFS.fits\n"
     ]
    },
    {
     "name": "stdout",
     "output_type": "stream",
     "text": [
      "crispy - INFO - Read data from HDU 1 of OS5/OS5_test/os5_spc_076_targetstar_IFS.fits\n"
     ]
    },
    {
     "name": "stderr",
     "output_type": "stream",
     "text": [
      "INFO:crispy:Read data from HDU 1 of OS5/OS5_test/os5_spc_076_targetstar_IFS.fits\n"
     ]
    },
    {
     "name": "stdout",
     "output_type": "stream",
     "text": [
      "crispy - INFO - Read data from HDU 1 of /local/data/nicolaus2/mrizzo/crispy/code/OS5/OS5_test/OS5_average/offaxis.fits\n"
     ]
    },
    {
     "name": "stderr",
     "output_type": "stream",
     "text": [
      "INFO:crispy:Read data from HDU 1 of /local/data/nicolaus2/mrizzo/crispy/code/OS5/OS5_test/OS5_average/offaxis.fits\n"
     ]
    },
    {
     "name": "stdout",
     "output_type": "stream",
     "text": [
      "crispy - INFO - Writing data to OS5/OS5_test/OS5_detector/os5_spc_076_targetstar_IFS_detector.fits\n"
     ]
    },
    {
     "name": "stderr",
     "output_type": "stream",
     "text": [
      "INFO:crispy:Writing data to OS5/OS5_test/OS5_detector/os5_spc_076_targetstar_IFS_detector.fits\n"
     ]
    },
    {
     "name": "stdout",
     "output_type": "stream",
     "text": [
      "crispy - INFO - Apply noiseless detector readout on os5_spc_077_targetstar_IFS.fits\n"
     ]
    },
    {
     "name": "stderr",
     "output_type": "stream",
     "text": [
      "INFO:crispy:Apply noiseless detector readout on os5_spc_077_targetstar_IFS.fits\n"
     ]
    },
    {
     "name": "stdout",
     "output_type": "stream",
     "text": [
      "crispy - INFO - Read data from HDU 1 of OS5/OS5_test/os5_spc_077_targetstar_IFS.fits\n"
     ]
    },
    {
     "name": "stderr",
     "output_type": "stream",
     "text": [
      "INFO:crispy:Read data from HDU 1 of OS5/OS5_test/os5_spc_077_targetstar_IFS.fits\n"
     ]
    },
    {
     "name": "stdout",
     "output_type": "stream",
     "text": [
      "crispy - INFO - Read data from HDU 1 of /local/data/nicolaus2/mrizzo/crispy/code/OS5/OS5_test/OS5_average/offaxis.fits\n"
     ]
    },
    {
     "name": "stderr",
     "output_type": "stream",
     "text": [
      "INFO:crispy:Read data from HDU 1 of /local/data/nicolaus2/mrizzo/crispy/code/OS5/OS5_test/OS5_average/offaxis.fits\n"
     ]
    },
    {
     "name": "stdout",
     "output_type": "stream",
     "text": [
      "crispy - INFO - Writing data to OS5/OS5_test/OS5_detector/os5_spc_077_targetstar_IFS_detector.fits\n"
     ]
    },
    {
     "name": "stderr",
     "output_type": "stream",
     "text": [
      "INFO:crispy:Writing data to OS5/OS5_test/OS5_detector/os5_spc_077_targetstar_IFS_detector.fits\n"
     ]
    },
    {
     "name": "stdout",
     "output_type": "stream",
     "text": [
      "crispy - INFO - Apply noiseless detector readout on os5_spc_078_targetstar_IFS.fits\n"
     ]
    },
    {
     "name": "stderr",
     "output_type": "stream",
     "text": [
      "INFO:crispy:Apply noiseless detector readout on os5_spc_078_targetstar_IFS.fits\n"
     ]
    },
    {
     "name": "stdout",
     "output_type": "stream",
     "text": [
      "crispy - INFO - Read data from HDU 1 of OS5/OS5_test/os5_spc_078_targetstar_IFS.fits\n"
     ]
    },
    {
     "name": "stderr",
     "output_type": "stream",
     "text": [
      "INFO:crispy:Read data from HDU 1 of OS5/OS5_test/os5_spc_078_targetstar_IFS.fits\n"
     ]
    },
    {
     "name": "stdout",
     "output_type": "stream",
     "text": [
      "crispy - INFO - Read data from HDU 1 of /local/data/nicolaus2/mrizzo/crispy/code/OS5/OS5_test/OS5_average/offaxis.fits\n"
     ]
    },
    {
     "name": "stderr",
     "output_type": "stream",
     "text": [
      "INFO:crispy:Read data from HDU 1 of /local/data/nicolaus2/mrizzo/crispy/code/OS5/OS5_test/OS5_average/offaxis.fits\n"
     ]
    },
    {
     "name": "stdout",
     "output_type": "stream",
     "text": [
      "crispy - INFO - Writing data to OS5/OS5_test/OS5_detector/os5_spc_078_targetstar_IFS_detector.fits\n"
     ]
    },
    {
     "name": "stderr",
     "output_type": "stream",
     "text": [
      "INFO:crispy:Writing data to OS5/OS5_test/OS5_detector/os5_spc_078_targetstar_IFS_detector.fits\n"
     ]
    },
    {
     "name": "stdout",
     "output_type": "stream",
     "text": [
      "crispy - INFO - Apply noiseless detector readout on os5_spc_079_targetstar_IFS.fits\n"
     ]
    },
    {
     "name": "stderr",
     "output_type": "stream",
     "text": [
      "INFO:crispy:Apply noiseless detector readout on os5_spc_079_targetstar_IFS.fits\n"
     ]
    },
    {
     "name": "stdout",
     "output_type": "stream",
     "text": [
      "crispy - INFO - Read data from HDU 1 of OS5/OS5_test/os5_spc_079_targetstar_IFS.fits\n"
     ]
    },
    {
     "name": "stderr",
     "output_type": "stream",
     "text": [
      "INFO:crispy:Read data from HDU 1 of OS5/OS5_test/os5_spc_079_targetstar_IFS.fits\n"
     ]
    },
    {
     "name": "stdout",
     "output_type": "stream",
     "text": [
      "crispy - INFO - Read data from HDU 1 of /local/data/nicolaus2/mrizzo/crispy/code/OS5/OS5_test/OS5_average/offaxis.fits\n"
     ]
    },
    {
     "name": "stderr",
     "output_type": "stream",
     "text": [
      "INFO:crispy:Read data from HDU 1 of /local/data/nicolaus2/mrizzo/crispy/code/OS5/OS5_test/OS5_average/offaxis.fits\n"
     ]
    },
    {
     "name": "stdout",
     "output_type": "stream",
     "text": [
      "crispy - INFO - Writing data to OS5/OS5_test/OS5_detector/os5_spc_079_targetstar_IFS_detector.fits\n"
     ]
    },
    {
     "name": "stderr",
     "output_type": "stream",
     "text": [
      "INFO:crispy:Writing data to OS5/OS5_test/OS5_detector/os5_spc_079_targetstar_IFS_detector.fits\n"
     ]
    },
    {
     "name": "stdout",
     "output_type": "stream",
     "text": [
      "crispy - INFO - Apply noiseless detector readout on os5_spc_080_targetstar_IFS.fits\n"
     ]
    },
    {
     "name": "stderr",
     "output_type": "stream",
     "text": [
      "INFO:crispy:Apply noiseless detector readout on os5_spc_080_targetstar_IFS.fits\n"
     ]
    },
    {
     "name": "stdout",
     "output_type": "stream",
     "text": [
      "crispy - INFO - Read data from HDU 1 of OS5/OS5_test/os5_spc_080_targetstar_IFS.fits\n"
     ]
    },
    {
     "name": "stderr",
     "output_type": "stream",
     "text": [
      "INFO:crispy:Read data from HDU 1 of OS5/OS5_test/os5_spc_080_targetstar_IFS.fits\n"
     ]
    },
    {
     "name": "stdout",
     "output_type": "stream",
     "text": [
      "crispy - INFO - Read data from HDU 1 of /local/data/nicolaus2/mrizzo/crispy/code/OS5/OS5_test/OS5_average/offaxis.fits\n"
     ]
    },
    {
     "name": "stderr",
     "output_type": "stream",
     "text": [
      "INFO:crispy:Read data from HDU 1 of /local/data/nicolaus2/mrizzo/crispy/code/OS5/OS5_test/OS5_average/offaxis.fits\n"
     ]
    },
    {
     "name": "stdout",
     "output_type": "stream",
     "text": [
      "crispy - INFO - Writing data to OS5/OS5_test/OS5_detector/os5_spc_080_targetstar_IFS_detector.fits\n"
     ]
    },
    {
     "name": "stderr",
     "output_type": "stream",
     "text": [
      "INFO:crispy:Writing data to OS5/OS5_test/OS5_detector/os5_spc_080_targetstar_IFS_detector.fits\n"
     ]
    },
    {
     "name": "stdout",
     "output_type": "stream",
     "text": [
      "crispy - INFO - Apply noiseless detector readout on os5_spc_081_targetstar_IFS.fits\n"
     ]
    },
    {
     "name": "stderr",
     "output_type": "stream",
     "text": [
      "INFO:crispy:Apply noiseless detector readout on os5_spc_081_targetstar_IFS.fits\n"
     ]
    },
    {
     "name": "stdout",
     "output_type": "stream",
     "text": [
      "crispy - INFO - Read data from HDU 1 of OS5/OS5_test/os5_spc_081_targetstar_IFS.fits\n"
     ]
    },
    {
     "name": "stderr",
     "output_type": "stream",
     "text": [
      "INFO:crispy:Read data from HDU 1 of OS5/OS5_test/os5_spc_081_targetstar_IFS.fits\n"
     ]
    },
    {
     "name": "stdout",
     "output_type": "stream",
     "text": [
      "crispy - INFO - Read data from HDU 1 of /local/data/nicolaus2/mrizzo/crispy/code/OS5/OS5_test/OS5_average/offaxis.fits\n"
     ]
    },
    {
     "name": "stderr",
     "output_type": "stream",
     "text": [
      "INFO:crispy:Read data from HDU 1 of /local/data/nicolaus2/mrizzo/crispy/code/OS5/OS5_test/OS5_average/offaxis.fits\n"
     ]
    },
    {
     "name": "stdout",
     "output_type": "stream",
     "text": [
      "crispy - INFO - Writing data to OS5/OS5_test/OS5_detector/os5_spc_081_targetstar_IFS_detector.fits\n"
     ]
    },
    {
     "name": "stderr",
     "output_type": "stream",
     "text": [
      "INFO:crispy:Writing data to OS5/OS5_test/OS5_detector/os5_spc_081_targetstar_IFS_detector.fits\n"
     ]
    },
    {
     "name": "stdout",
     "output_type": "stream",
     "text": [
      "crispy - INFO - Apply noiseless detector readout on os5_spc_082_targetstar_IFS.fits\n"
     ]
    },
    {
     "name": "stderr",
     "output_type": "stream",
     "text": [
      "INFO:crispy:Apply noiseless detector readout on os5_spc_082_targetstar_IFS.fits\n"
     ]
    },
    {
     "name": "stdout",
     "output_type": "stream",
     "text": [
      "crispy - INFO - Read data from HDU 1 of OS5/OS5_test/os5_spc_082_targetstar_IFS.fits\n"
     ]
    },
    {
     "name": "stderr",
     "output_type": "stream",
     "text": [
      "INFO:crispy:Read data from HDU 1 of OS5/OS5_test/os5_spc_082_targetstar_IFS.fits\n"
     ]
    },
    {
     "name": "stdout",
     "output_type": "stream",
     "text": [
      "crispy - INFO - Read data from HDU 1 of /local/data/nicolaus2/mrizzo/crispy/code/OS5/OS5_test/OS5_average/offaxis.fits\n"
     ]
    },
    {
     "name": "stderr",
     "output_type": "stream",
     "text": [
      "INFO:crispy:Read data from HDU 1 of /local/data/nicolaus2/mrizzo/crispy/code/OS5/OS5_test/OS5_average/offaxis.fits\n"
     ]
    },
    {
     "name": "stdout",
     "output_type": "stream",
     "text": [
      "crispy - INFO - Writing data to OS5/OS5_test/OS5_detector/os5_spc_082_targetstar_IFS_detector.fits\n"
     ]
    },
    {
     "name": "stderr",
     "output_type": "stream",
     "text": [
      "INFO:crispy:Writing data to OS5/OS5_test/OS5_detector/os5_spc_082_targetstar_IFS_detector.fits\n"
     ]
    },
    {
     "name": "stdout",
     "output_type": "stream",
     "text": [
      "crispy - INFO - Apply noiseless detector readout on os5_spc_083_targetstar_IFS.fits\n"
     ]
    },
    {
     "name": "stderr",
     "output_type": "stream",
     "text": [
      "INFO:crispy:Apply noiseless detector readout on os5_spc_083_targetstar_IFS.fits\n"
     ]
    },
    {
     "name": "stdout",
     "output_type": "stream",
     "text": [
      "crispy - INFO - Read data from HDU 1 of OS5/OS5_test/os5_spc_083_targetstar_IFS.fits\n"
     ]
    },
    {
     "name": "stderr",
     "output_type": "stream",
     "text": [
      "INFO:crispy:Read data from HDU 1 of OS5/OS5_test/os5_spc_083_targetstar_IFS.fits\n"
     ]
    },
    {
     "name": "stdout",
     "output_type": "stream",
     "text": [
      "crispy - INFO - Read data from HDU 1 of /local/data/nicolaus2/mrizzo/crispy/code/OS5/OS5_test/OS5_average/offaxis.fits\n"
     ]
    },
    {
     "name": "stderr",
     "output_type": "stream",
     "text": [
      "INFO:crispy:Read data from HDU 1 of /local/data/nicolaus2/mrizzo/crispy/code/OS5/OS5_test/OS5_average/offaxis.fits\n"
     ]
    },
    {
     "name": "stdout",
     "output_type": "stream",
     "text": [
      "crispy - INFO - Writing data to OS5/OS5_test/OS5_detector/os5_spc_083_targetstar_IFS_detector.fits\n"
     ]
    },
    {
     "name": "stderr",
     "output_type": "stream",
     "text": [
      "INFO:crispy:Writing data to OS5/OS5_test/OS5_detector/os5_spc_083_targetstar_IFS_detector.fits\n"
     ]
    },
    {
     "name": "stdout",
     "output_type": "stream",
     "text": [
      "crispy - INFO - Apply noiseless detector readout on os5_spc_084_targetstar_IFS.fits\n"
     ]
    },
    {
     "name": "stderr",
     "output_type": "stream",
     "text": [
      "INFO:crispy:Apply noiseless detector readout on os5_spc_084_targetstar_IFS.fits\n"
     ]
    },
    {
     "name": "stdout",
     "output_type": "stream",
     "text": [
      "crispy - INFO - Read data from HDU 1 of OS5/OS5_test/os5_spc_084_targetstar_IFS.fits\n"
     ]
    },
    {
     "name": "stderr",
     "output_type": "stream",
     "text": [
      "INFO:crispy:Read data from HDU 1 of OS5/OS5_test/os5_spc_084_targetstar_IFS.fits\n"
     ]
    },
    {
     "name": "stdout",
     "output_type": "stream",
     "text": [
      "crispy - INFO - Read data from HDU 1 of /local/data/nicolaus2/mrizzo/crispy/code/OS5/OS5_test/OS5_average/offaxis.fits\n"
     ]
    },
    {
     "name": "stderr",
     "output_type": "stream",
     "text": [
      "INFO:crispy:Read data from HDU 1 of /local/data/nicolaus2/mrizzo/crispy/code/OS5/OS5_test/OS5_average/offaxis.fits\n"
     ]
    },
    {
     "name": "stdout",
     "output_type": "stream",
     "text": [
      "crispy - INFO - Writing data to OS5/OS5_test/OS5_detector/os5_spc_084_targetstar_IFS_detector.fits\n"
     ]
    },
    {
     "name": "stderr",
     "output_type": "stream",
     "text": [
      "INFO:crispy:Writing data to OS5/OS5_test/OS5_detector/os5_spc_084_targetstar_IFS_detector.fits\n"
     ]
    },
    {
     "name": "stdout",
     "output_type": "stream",
     "text": [
      "crispy - INFO - Apply noiseless detector readout on os5_spc_085_targetstar_IFS.fits\n"
     ]
    },
    {
     "name": "stderr",
     "output_type": "stream",
     "text": [
      "INFO:crispy:Apply noiseless detector readout on os5_spc_085_targetstar_IFS.fits\n"
     ]
    },
    {
     "name": "stdout",
     "output_type": "stream",
     "text": [
      "crispy - INFO - Read data from HDU 1 of OS5/OS5_test/os5_spc_085_targetstar_IFS.fits\n"
     ]
    },
    {
     "name": "stderr",
     "output_type": "stream",
     "text": [
      "INFO:crispy:Read data from HDU 1 of OS5/OS5_test/os5_spc_085_targetstar_IFS.fits\n"
     ]
    },
    {
     "name": "stdout",
     "output_type": "stream",
     "text": [
      "crispy - INFO - Read data from HDU 1 of /local/data/nicolaus2/mrizzo/crispy/code/OS5/OS5_test/OS5_average/offaxis.fits\n"
     ]
    },
    {
     "name": "stderr",
     "output_type": "stream",
     "text": [
      "INFO:crispy:Read data from HDU 1 of /local/data/nicolaus2/mrizzo/crispy/code/OS5/OS5_test/OS5_average/offaxis.fits\n"
     ]
    },
    {
     "name": "stdout",
     "output_type": "stream",
     "text": [
      "crispy - INFO - Writing data to OS5/OS5_test/OS5_detector/os5_spc_085_targetstar_IFS_detector.fits\n"
     ]
    },
    {
     "name": "stderr",
     "output_type": "stream",
     "text": [
      "INFO:crispy:Writing data to OS5/OS5_test/OS5_detector/os5_spc_085_targetstar_IFS_detector.fits\n"
     ]
    },
    {
     "name": "stdout",
     "output_type": "stream",
     "text": [
      "crispy - INFO - Apply noiseless detector readout on os5_spc_086_targetstar_IFS.fits\n"
     ]
    },
    {
     "name": "stderr",
     "output_type": "stream",
     "text": [
      "INFO:crispy:Apply noiseless detector readout on os5_spc_086_targetstar_IFS.fits\n"
     ]
    },
    {
     "name": "stdout",
     "output_type": "stream",
     "text": [
      "crispy - INFO - Read data from HDU 1 of OS5/OS5_test/os5_spc_086_targetstar_IFS.fits\n"
     ]
    },
    {
     "name": "stderr",
     "output_type": "stream",
     "text": [
      "INFO:crispy:Read data from HDU 1 of OS5/OS5_test/os5_spc_086_targetstar_IFS.fits\n"
     ]
    },
    {
     "name": "stdout",
     "output_type": "stream",
     "text": [
      "crispy - INFO - Read data from HDU 1 of /local/data/nicolaus2/mrizzo/crispy/code/OS5/OS5_test/OS5_average/offaxis.fits\n"
     ]
    },
    {
     "name": "stderr",
     "output_type": "stream",
     "text": [
      "INFO:crispy:Read data from HDU 1 of /local/data/nicolaus2/mrizzo/crispy/code/OS5/OS5_test/OS5_average/offaxis.fits\n"
     ]
    },
    {
     "name": "stdout",
     "output_type": "stream",
     "text": [
      "crispy - INFO - Writing data to OS5/OS5_test/OS5_detector/os5_spc_086_targetstar_IFS_detector.fits\n"
     ]
    },
    {
     "name": "stderr",
     "output_type": "stream",
     "text": [
      "INFO:crispy:Writing data to OS5/OS5_test/OS5_detector/os5_spc_086_targetstar_IFS_detector.fits\n"
     ]
    },
    {
     "name": "stdout",
     "output_type": "stream",
     "text": [
      "crispy - INFO - Apply noiseless detector readout on os5_spc_087_targetstar_IFS.fits\n"
     ]
    },
    {
     "name": "stderr",
     "output_type": "stream",
     "text": [
      "INFO:crispy:Apply noiseless detector readout on os5_spc_087_targetstar_IFS.fits\n"
     ]
    },
    {
     "name": "stdout",
     "output_type": "stream",
     "text": [
      "crispy - INFO - Read data from HDU 1 of OS5/OS5_test/os5_spc_087_targetstar_IFS.fits\n"
     ]
    },
    {
     "name": "stderr",
     "output_type": "stream",
     "text": [
      "INFO:crispy:Read data from HDU 1 of OS5/OS5_test/os5_spc_087_targetstar_IFS.fits\n"
     ]
    },
    {
     "name": "stdout",
     "output_type": "stream",
     "text": [
      "crispy - INFO - Read data from HDU 1 of /local/data/nicolaus2/mrizzo/crispy/code/OS5/OS5_test/OS5_average/offaxis.fits\n"
     ]
    },
    {
     "name": "stderr",
     "output_type": "stream",
     "text": [
      "INFO:crispy:Read data from HDU 1 of /local/data/nicolaus2/mrizzo/crispy/code/OS5/OS5_test/OS5_average/offaxis.fits\n"
     ]
    },
    {
     "name": "stdout",
     "output_type": "stream",
     "text": [
      "crispy - INFO - Writing data to OS5/OS5_test/OS5_detector/os5_spc_087_targetstar_IFS_detector.fits\n"
     ]
    },
    {
     "name": "stderr",
     "output_type": "stream",
     "text": [
      "INFO:crispy:Writing data to OS5/OS5_test/OS5_detector/os5_spc_087_targetstar_IFS_detector.fits\n"
     ]
    },
    {
     "name": "stdout",
     "output_type": "stream",
     "text": [
      "crispy - INFO - Apply noiseless detector readout on os5_spc_088_targetstar_IFS.fits\n"
     ]
    },
    {
     "name": "stderr",
     "output_type": "stream",
     "text": [
      "INFO:crispy:Apply noiseless detector readout on os5_spc_088_targetstar_IFS.fits\n"
     ]
    },
    {
     "name": "stdout",
     "output_type": "stream",
     "text": [
      "crispy - INFO - Read data from HDU 1 of OS5/OS5_test/os5_spc_088_targetstar_IFS.fits\n"
     ]
    },
    {
     "name": "stderr",
     "output_type": "stream",
     "text": [
      "INFO:crispy:Read data from HDU 1 of OS5/OS5_test/os5_spc_088_targetstar_IFS.fits\n"
     ]
    },
    {
     "name": "stdout",
     "output_type": "stream",
     "text": [
      "crispy - INFO - Read data from HDU 1 of /local/data/nicolaus2/mrizzo/crispy/code/OS5/OS5_test/OS5_average/offaxis.fits\n"
     ]
    },
    {
     "name": "stderr",
     "output_type": "stream",
     "text": [
      "INFO:crispy:Read data from HDU 1 of /local/data/nicolaus2/mrizzo/crispy/code/OS5/OS5_test/OS5_average/offaxis.fits\n"
     ]
    },
    {
     "name": "stdout",
     "output_type": "stream",
     "text": [
      "crispy - INFO - Writing data to OS5/OS5_test/OS5_detector/os5_spc_088_targetstar_IFS_detector.fits\n"
     ]
    },
    {
     "name": "stderr",
     "output_type": "stream",
     "text": [
      "INFO:crispy:Writing data to OS5/OS5_test/OS5_detector/os5_spc_088_targetstar_IFS_detector.fits\n"
     ]
    },
    {
     "name": "stdout",
     "output_type": "stream",
     "text": [
      "crispy - INFO - Apply noiseless detector readout on os5_spc_089_targetstar_IFS.fits\n"
     ]
    },
    {
     "name": "stderr",
     "output_type": "stream",
     "text": [
      "INFO:crispy:Apply noiseless detector readout on os5_spc_089_targetstar_IFS.fits\n"
     ]
    },
    {
     "name": "stdout",
     "output_type": "stream",
     "text": [
      "crispy - INFO - Read data from HDU 1 of OS5/OS5_test/os5_spc_089_targetstar_IFS.fits\n"
     ]
    },
    {
     "name": "stderr",
     "output_type": "stream",
     "text": [
      "INFO:crispy:Read data from HDU 1 of OS5/OS5_test/os5_spc_089_targetstar_IFS.fits\n"
     ]
    },
    {
     "name": "stdout",
     "output_type": "stream",
     "text": [
      "crispy - INFO - Read data from HDU 1 of /local/data/nicolaus2/mrizzo/crispy/code/OS5/OS5_test/OS5_average/offaxis.fits\n"
     ]
    },
    {
     "name": "stderr",
     "output_type": "stream",
     "text": [
      "INFO:crispy:Read data from HDU 1 of /local/data/nicolaus2/mrizzo/crispy/code/OS5/OS5_test/OS5_average/offaxis.fits\n"
     ]
    },
    {
     "name": "stdout",
     "output_type": "stream",
     "text": [
      "crispy - INFO - Writing data to OS5/OS5_test/OS5_detector/os5_spc_089_targetstar_IFS_detector.fits\n"
     ]
    },
    {
     "name": "stderr",
     "output_type": "stream",
     "text": [
      "INFO:crispy:Writing data to OS5/OS5_test/OS5_detector/os5_spc_089_targetstar_IFS_detector.fits\n"
     ]
    },
    {
     "name": "stdout",
     "output_type": "stream",
     "text": [
      "crispy - INFO - Apply noiseless detector readout on os5_spc_090_targetstar_IFS.fits\n"
     ]
    },
    {
     "name": "stderr",
     "output_type": "stream",
     "text": [
      "INFO:crispy:Apply noiseless detector readout on os5_spc_090_targetstar_IFS.fits\n"
     ]
    },
    {
     "name": "stdout",
     "output_type": "stream",
     "text": [
      "crispy - INFO - Read data from HDU 1 of OS5/OS5_test/os5_spc_090_targetstar_IFS.fits\n"
     ]
    },
    {
     "name": "stderr",
     "output_type": "stream",
     "text": [
      "INFO:crispy:Read data from HDU 1 of OS5/OS5_test/os5_spc_090_targetstar_IFS.fits\n"
     ]
    },
    {
     "name": "stdout",
     "output_type": "stream",
     "text": [
      "crispy - INFO - Read data from HDU 1 of /local/data/nicolaus2/mrizzo/crispy/code/OS5/OS5_test/OS5_average/offaxis.fits\n"
     ]
    },
    {
     "name": "stderr",
     "output_type": "stream",
     "text": [
      "INFO:crispy:Read data from HDU 1 of /local/data/nicolaus2/mrizzo/crispy/code/OS5/OS5_test/OS5_average/offaxis.fits\n"
     ]
    },
    {
     "name": "stdout",
     "output_type": "stream",
     "text": [
      "crispy - INFO - Writing data to OS5/OS5_test/OS5_detector/os5_spc_090_targetstar_IFS_detector.fits\n"
     ]
    },
    {
     "name": "stderr",
     "output_type": "stream",
     "text": [
      "INFO:crispy:Writing data to OS5/OS5_test/OS5_detector/os5_spc_090_targetstar_IFS_detector.fits\n"
     ]
    },
    {
     "name": "stdout",
     "output_type": "stream",
     "text": [
      "crispy - INFO - Apply noiseless detector readout on os5_spc_091_targetstar_IFS.fits\n"
     ]
    },
    {
     "name": "stderr",
     "output_type": "stream",
     "text": [
      "INFO:crispy:Apply noiseless detector readout on os5_spc_091_targetstar_IFS.fits\n"
     ]
    },
    {
     "name": "stdout",
     "output_type": "stream",
     "text": [
      "crispy - INFO - Read data from HDU 1 of OS5/OS5_test/os5_spc_091_targetstar_IFS.fits\n"
     ]
    },
    {
     "name": "stderr",
     "output_type": "stream",
     "text": [
      "INFO:crispy:Read data from HDU 1 of OS5/OS5_test/os5_spc_091_targetstar_IFS.fits\n"
     ]
    },
    {
     "name": "stdout",
     "output_type": "stream",
     "text": [
      "crispy - INFO - Read data from HDU 1 of /local/data/nicolaus2/mrizzo/crispy/code/OS5/OS5_test/OS5_average/offaxis.fits\n"
     ]
    },
    {
     "name": "stderr",
     "output_type": "stream",
     "text": [
      "INFO:crispy:Read data from HDU 1 of /local/data/nicolaus2/mrizzo/crispy/code/OS5/OS5_test/OS5_average/offaxis.fits\n"
     ]
    },
    {
     "name": "stdout",
     "output_type": "stream",
     "text": [
      "crispy - INFO - Writing data to OS5/OS5_test/OS5_detector/os5_spc_091_targetstar_IFS_detector.fits\n"
     ]
    },
    {
     "name": "stderr",
     "output_type": "stream",
     "text": [
      "INFO:crispy:Writing data to OS5/OS5_test/OS5_detector/os5_spc_091_targetstar_IFS_detector.fits\n"
     ]
    },
    {
     "name": "stdout",
     "output_type": "stream",
     "text": [
      "crispy - INFO - Apply noiseless detector readout on os5_spc_092_targetstar_IFS.fits\n"
     ]
    },
    {
     "name": "stderr",
     "output_type": "stream",
     "text": [
      "INFO:crispy:Apply noiseless detector readout on os5_spc_092_targetstar_IFS.fits\n"
     ]
    },
    {
     "name": "stdout",
     "output_type": "stream",
     "text": [
      "crispy - INFO - Read data from HDU 1 of OS5/OS5_test/os5_spc_092_targetstar_IFS.fits\n"
     ]
    },
    {
     "name": "stderr",
     "output_type": "stream",
     "text": [
      "INFO:crispy:Read data from HDU 1 of OS5/OS5_test/os5_spc_092_targetstar_IFS.fits\n"
     ]
    },
    {
     "name": "stdout",
     "output_type": "stream",
     "text": [
      "crispy - INFO - Read data from HDU 1 of /local/data/nicolaus2/mrizzo/crispy/code/OS5/OS5_test/OS5_average/offaxis.fits\n"
     ]
    },
    {
     "name": "stderr",
     "output_type": "stream",
     "text": [
      "INFO:crispy:Read data from HDU 1 of /local/data/nicolaus2/mrizzo/crispy/code/OS5/OS5_test/OS5_average/offaxis.fits\n"
     ]
    },
    {
     "name": "stdout",
     "output_type": "stream",
     "text": [
      "crispy - INFO - Writing data to OS5/OS5_test/OS5_detector/os5_spc_092_targetstar_IFS_detector.fits\n"
     ]
    },
    {
     "name": "stderr",
     "output_type": "stream",
     "text": [
      "INFO:crispy:Writing data to OS5/OS5_test/OS5_detector/os5_spc_092_targetstar_IFS_detector.fits\n"
     ]
    },
    {
     "name": "stdout",
     "output_type": "stream",
     "text": [
      "crispy - INFO - Apply noiseless detector readout on os5_spc_093_targetstar_IFS.fits\n"
     ]
    },
    {
     "name": "stderr",
     "output_type": "stream",
     "text": [
      "INFO:crispy:Apply noiseless detector readout on os5_spc_093_targetstar_IFS.fits\n"
     ]
    },
    {
     "name": "stdout",
     "output_type": "stream",
     "text": [
      "crispy - INFO - Read data from HDU 1 of OS5/OS5_test/os5_spc_093_targetstar_IFS.fits\n"
     ]
    },
    {
     "name": "stderr",
     "output_type": "stream",
     "text": [
      "INFO:crispy:Read data from HDU 1 of OS5/OS5_test/os5_spc_093_targetstar_IFS.fits\n"
     ]
    },
    {
     "name": "stdout",
     "output_type": "stream",
     "text": [
      "crispy - INFO - Read data from HDU 1 of /local/data/nicolaus2/mrizzo/crispy/code/OS5/OS5_test/OS5_average/offaxis.fits\n"
     ]
    },
    {
     "name": "stderr",
     "output_type": "stream",
     "text": [
      "INFO:crispy:Read data from HDU 1 of /local/data/nicolaus2/mrizzo/crispy/code/OS5/OS5_test/OS5_average/offaxis.fits\n"
     ]
    },
    {
     "name": "stdout",
     "output_type": "stream",
     "text": [
      "crispy - INFO - Writing data to OS5/OS5_test/OS5_detector/os5_spc_093_targetstar_IFS_detector.fits\n"
     ]
    },
    {
     "name": "stderr",
     "output_type": "stream",
     "text": [
      "INFO:crispy:Writing data to OS5/OS5_test/OS5_detector/os5_spc_093_targetstar_IFS_detector.fits\n"
     ]
    },
    {
     "name": "stdout",
     "output_type": "stream",
     "text": [
      "crispy - INFO - Apply noiseless detector readout on os5_spc_094_targetstar_IFS.fits\n"
     ]
    },
    {
     "name": "stderr",
     "output_type": "stream",
     "text": [
      "INFO:crispy:Apply noiseless detector readout on os5_spc_094_targetstar_IFS.fits\n"
     ]
    },
    {
     "name": "stdout",
     "output_type": "stream",
     "text": [
      "crispy - INFO - Read data from HDU 1 of OS5/OS5_test/os5_spc_094_targetstar_IFS.fits\n"
     ]
    },
    {
     "name": "stderr",
     "output_type": "stream",
     "text": [
      "INFO:crispy:Read data from HDU 1 of OS5/OS5_test/os5_spc_094_targetstar_IFS.fits\n"
     ]
    },
    {
     "name": "stdout",
     "output_type": "stream",
     "text": [
      "crispy - INFO - Read data from HDU 1 of /local/data/nicolaus2/mrizzo/crispy/code/OS5/OS5_test/OS5_average/offaxis.fits\n"
     ]
    },
    {
     "name": "stderr",
     "output_type": "stream",
     "text": [
      "INFO:crispy:Read data from HDU 1 of /local/data/nicolaus2/mrizzo/crispy/code/OS5/OS5_test/OS5_average/offaxis.fits\n"
     ]
    },
    {
     "name": "stdout",
     "output_type": "stream",
     "text": [
      "crispy - INFO - Writing data to OS5/OS5_test/OS5_detector/os5_spc_094_targetstar_IFS_detector.fits\n"
     ]
    },
    {
     "name": "stderr",
     "output_type": "stream",
     "text": [
      "INFO:crispy:Writing data to OS5/OS5_test/OS5_detector/os5_spc_094_targetstar_IFS_detector.fits\n"
     ]
    },
    {
     "name": "stdout",
     "output_type": "stream",
     "text": [
      "crispy - INFO - Apply noiseless detector readout on os5_spc_095_targetstar_IFS.fits\n"
     ]
    },
    {
     "name": "stderr",
     "output_type": "stream",
     "text": [
      "INFO:crispy:Apply noiseless detector readout on os5_spc_095_targetstar_IFS.fits\n"
     ]
    },
    {
     "name": "stdout",
     "output_type": "stream",
     "text": [
      "crispy - INFO - Read data from HDU 1 of OS5/OS5_test/os5_spc_095_targetstar_IFS.fits\n"
     ]
    },
    {
     "name": "stderr",
     "output_type": "stream",
     "text": [
      "INFO:crispy:Read data from HDU 1 of OS5/OS5_test/os5_spc_095_targetstar_IFS.fits\n"
     ]
    },
    {
     "name": "stdout",
     "output_type": "stream",
     "text": [
      "crispy - INFO - Read data from HDU 1 of /local/data/nicolaus2/mrizzo/crispy/code/OS5/OS5_test/OS5_average/offaxis.fits\n"
     ]
    },
    {
     "name": "stderr",
     "output_type": "stream",
     "text": [
      "INFO:crispy:Read data from HDU 1 of /local/data/nicolaus2/mrizzo/crispy/code/OS5/OS5_test/OS5_average/offaxis.fits\n"
     ]
    },
    {
     "name": "stdout",
     "output_type": "stream",
     "text": [
      "crispy - INFO - Writing data to OS5/OS5_test/OS5_detector/os5_spc_095_targetstar_IFS_detector.fits\n"
     ]
    },
    {
     "name": "stderr",
     "output_type": "stream",
     "text": [
      "INFO:crispy:Writing data to OS5/OS5_test/OS5_detector/os5_spc_095_targetstar_IFS_detector.fits\n"
     ]
    },
    {
     "name": "stdout",
     "output_type": "stream",
     "text": [
      "crispy - INFO - Apply noiseless detector readout on os5_spc_096_targetstar_IFS.fits\n"
     ]
    },
    {
     "name": "stderr",
     "output_type": "stream",
     "text": [
      "INFO:crispy:Apply noiseless detector readout on os5_spc_096_targetstar_IFS.fits\n"
     ]
    },
    {
     "name": "stdout",
     "output_type": "stream",
     "text": [
      "crispy - INFO - Read data from HDU 1 of OS5/OS5_test/os5_spc_096_targetstar_IFS.fits\n"
     ]
    },
    {
     "name": "stderr",
     "output_type": "stream",
     "text": [
      "INFO:crispy:Read data from HDU 1 of OS5/OS5_test/os5_spc_096_targetstar_IFS.fits\n"
     ]
    },
    {
     "name": "stdout",
     "output_type": "stream",
     "text": [
      "crispy - INFO - Read data from HDU 1 of /local/data/nicolaus2/mrizzo/crispy/code/OS5/OS5_test/OS5_average/offaxis.fits\n"
     ]
    },
    {
     "name": "stderr",
     "output_type": "stream",
     "text": [
      "INFO:crispy:Read data from HDU 1 of /local/data/nicolaus2/mrizzo/crispy/code/OS5/OS5_test/OS5_average/offaxis.fits\n"
     ]
    },
    {
     "name": "stdout",
     "output_type": "stream",
     "text": [
      "crispy - INFO - Writing data to OS5/OS5_test/OS5_detector/os5_spc_096_targetstar_IFS_detector.fits\n"
     ]
    },
    {
     "name": "stderr",
     "output_type": "stream",
     "text": [
      "INFO:crispy:Writing data to OS5/OS5_test/OS5_detector/os5_spc_096_targetstar_IFS_detector.fits\n"
     ]
    },
    {
     "name": "stdout",
     "output_type": "stream",
     "text": [
      "crispy - INFO - Apply noiseless detector readout on os5_spc_097_targetstar_IFS.fits\n"
     ]
    },
    {
     "name": "stderr",
     "output_type": "stream",
     "text": [
      "INFO:crispy:Apply noiseless detector readout on os5_spc_097_targetstar_IFS.fits\n"
     ]
    },
    {
     "name": "stdout",
     "output_type": "stream",
     "text": [
      "crispy - INFO - Read data from HDU 1 of OS5/OS5_test/os5_spc_097_targetstar_IFS.fits\n"
     ]
    },
    {
     "name": "stderr",
     "output_type": "stream",
     "text": [
      "INFO:crispy:Read data from HDU 1 of OS5/OS5_test/os5_spc_097_targetstar_IFS.fits\n"
     ]
    },
    {
     "name": "stdout",
     "output_type": "stream",
     "text": [
      "crispy - INFO - Read data from HDU 1 of /local/data/nicolaus2/mrizzo/crispy/code/OS5/OS5_test/OS5_average/offaxis.fits\n"
     ]
    },
    {
     "name": "stderr",
     "output_type": "stream",
     "text": [
      "INFO:crispy:Read data from HDU 1 of /local/data/nicolaus2/mrizzo/crispy/code/OS5/OS5_test/OS5_average/offaxis.fits\n"
     ]
    },
    {
     "name": "stdout",
     "output_type": "stream",
     "text": [
      "crispy - INFO - Writing data to OS5/OS5_test/OS5_detector/os5_spc_097_targetstar_IFS_detector.fits\n"
     ]
    },
    {
     "name": "stderr",
     "output_type": "stream",
     "text": [
      "INFO:crispy:Writing data to OS5/OS5_test/OS5_detector/os5_spc_097_targetstar_IFS_detector.fits\n"
     ]
    },
    {
     "name": "stdout",
     "output_type": "stream",
     "text": [
      "crispy - INFO - Apply noiseless detector readout on os5_spc_098_targetstar_IFS.fits\n"
     ]
    },
    {
     "name": "stderr",
     "output_type": "stream",
     "text": [
      "INFO:crispy:Apply noiseless detector readout on os5_spc_098_targetstar_IFS.fits\n"
     ]
    },
    {
     "name": "stdout",
     "output_type": "stream",
     "text": [
      "crispy - INFO - Read data from HDU 1 of OS5/OS5_test/os5_spc_098_targetstar_IFS.fits\n"
     ]
    },
    {
     "name": "stderr",
     "output_type": "stream",
     "text": [
      "INFO:crispy:Read data from HDU 1 of OS5/OS5_test/os5_spc_098_targetstar_IFS.fits\n"
     ]
    },
    {
     "name": "stdout",
     "output_type": "stream",
     "text": [
      "crispy - INFO - Read data from HDU 1 of /local/data/nicolaus2/mrizzo/crispy/code/OS5/OS5_test/OS5_average/offaxis.fits\n"
     ]
    },
    {
     "name": "stderr",
     "output_type": "stream",
     "text": [
      "INFO:crispy:Read data from HDU 1 of /local/data/nicolaus2/mrizzo/crispy/code/OS5/OS5_test/OS5_average/offaxis.fits\n"
     ]
    },
    {
     "name": "stdout",
     "output_type": "stream",
     "text": [
      "crispy - INFO - Writing data to OS5/OS5_test/OS5_detector/os5_spc_098_targetstar_IFS_detector.fits\n"
     ]
    },
    {
     "name": "stderr",
     "output_type": "stream",
     "text": [
      "INFO:crispy:Writing data to OS5/OS5_test/OS5_detector/os5_spc_098_targetstar_IFS_detector.fits\n"
     ]
    },
    {
     "name": "stdout",
     "output_type": "stream",
     "text": [
      "crispy - INFO - Apply noiseless detector readout on os5_spc_099_targetstar_IFS.fits\n"
     ]
    },
    {
     "name": "stderr",
     "output_type": "stream",
     "text": [
      "INFO:crispy:Apply noiseless detector readout on os5_spc_099_targetstar_IFS.fits\n"
     ]
    },
    {
     "name": "stdout",
     "output_type": "stream",
     "text": [
      "crispy - INFO - Read data from HDU 1 of OS5/OS5_test/os5_spc_099_targetstar_IFS.fits\n"
     ]
    },
    {
     "name": "stderr",
     "output_type": "stream",
     "text": [
      "INFO:crispy:Read data from HDU 1 of OS5/OS5_test/os5_spc_099_targetstar_IFS.fits\n"
     ]
    },
    {
     "name": "stdout",
     "output_type": "stream",
     "text": [
      "crispy - INFO - Read data from HDU 1 of /local/data/nicolaus2/mrizzo/crispy/code/OS5/OS5_test/OS5_average/offaxis.fits\n"
     ]
    },
    {
     "name": "stderr",
     "output_type": "stream",
     "text": [
      "INFO:crispy:Read data from HDU 1 of /local/data/nicolaus2/mrizzo/crispy/code/OS5/OS5_test/OS5_average/offaxis.fits\n"
     ]
    },
    {
     "name": "stdout",
     "output_type": "stream",
     "text": [
      "crispy - INFO - Writing data to OS5/OS5_test/OS5_detector/os5_spc_099_targetstar_IFS_detector.fits\n"
     ]
    },
    {
     "name": "stderr",
     "output_type": "stream",
     "text": [
      "INFO:crispy:Writing data to OS5/OS5_test/OS5_detector/os5_spc_099_targetstar_IFS_detector.fits\n"
     ]
    },
    {
     "name": "stdout",
     "output_type": "stream",
     "text": [
      "crispy - INFO - Apply noiseless detector readout on os5_spc_100_targetstar_IFS.fits\n"
     ]
    },
    {
     "name": "stderr",
     "output_type": "stream",
     "text": [
      "INFO:crispy:Apply noiseless detector readout on os5_spc_100_targetstar_IFS.fits\n"
     ]
    },
    {
     "name": "stdout",
     "output_type": "stream",
     "text": [
      "crispy - INFO - Read data from HDU 1 of OS5/OS5_test/os5_spc_100_targetstar_IFS.fits\n"
     ]
    },
    {
     "name": "stderr",
     "output_type": "stream",
     "text": [
      "INFO:crispy:Read data from HDU 1 of OS5/OS5_test/os5_spc_100_targetstar_IFS.fits\n"
     ]
    },
    {
     "name": "stdout",
     "output_type": "stream",
     "text": [
      "crispy - INFO - Read data from HDU 1 of /local/data/nicolaus2/mrizzo/crispy/code/OS5/OS5_test/OS5_average/offaxis.fits\n"
     ]
    },
    {
     "name": "stderr",
     "output_type": "stream",
     "text": [
      "INFO:crispy:Read data from HDU 1 of /local/data/nicolaus2/mrizzo/crispy/code/OS5/OS5_test/OS5_average/offaxis.fits\n"
     ]
    },
    {
     "name": "stdout",
     "output_type": "stream",
     "text": [
      "crispy - INFO - Writing data to OS5/OS5_test/OS5_detector/os5_spc_100_targetstar_IFS_detector.fits\n"
     ]
    },
    {
     "name": "stderr",
     "output_type": "stream",
     "text": [
      "INFO:crispy:Writing data to OS5/OS5_test/OS5_detector/os5_spc_100_targetstar_IFS_detector.fits\n"
     ]
    },
    {
     "name": "stdout",
     "output_type": "stream",
     "text": [
      "crispy - INFO - Apply noiseless detector readout on os5_spc_101_targetstar_IFS.fits\n"
     ]
    },
    {
     "name": "stderr",
     "output_type": "stream",
     "text": [
      "INFO:crispy:Apply noiseless detector readout on os5_spc_101_targetstar_IFS.fits\n"
     ]
    },
    {
     "name": "stdout",
     "output_type": "stream",
     "text": [
      "crispy - INFO - Read data from HDU 1 of OS5/OS5_test/os5_spc_101_targetstar_IFS.fits\n"
     ]
    },
    {
     "name": "stderr",
     "output_type": "stream",
     "text": [
      "INFO:crispy:Read data from HDU 1 of OS5/OS5_test/os5_spc_101_targetstar_IFS.fits\n"
     ]
    },
    {
     "name": "stdout",
     "output_type": "stream",
     "text": [
      "crispy - INFO - Read data from HDU 1 of /local/data/nicolaus2/mrizzo/crispy/code/OS5/OS5_test/OS5_average/offaxis.fits\n"
     ]
    },
    {
     "name": "stderr",
     "output_type": "stream",
     "text": [
      "INFO:crispy:Read data from HDU 1 of /local/data/nicolaus2/mrizzo/crispy/code/OS5/OS5_test/OS5_average/offaxis.fits\n"
     ]
    },
    {
     "name": "stdout",
     "output_type": "stream",
     "text": [
      "crispy - INFO - Writing data to OS5/OS5_test/OS5_detector/os5_spc_101_targetstar_IFS_detector.fits\n"
     ]
    },
    {
     "name": "stderr",
     "output_type": "stream",
     "text": [
      "INFO:crispy:Writing data to OS5/OS5_test/OS5_detector/os5_spc_101_targetstar_IFS_detector.fits\n"
     ]
    },
    {
     "name": "stdout",
     "output_type": "stream",
     "text": [
      "crispy - INFO - Apply noiseless detector readout on os5_spc_102_targetstar_IFS.fits\n"
     ]
    },
    {
     "name": "stderr",
     "output_type": "stream",
     "text": [
      "INFO:crispy:Apply noiseless detector readout on os5_spc_102_targetstar_IFS.fits\n"
     ]
    },
    {
     "name": "stdout",
     "output_type": "stream",
     "text": [
      "crispy - INFO - Read data from HDU 1 of OS5/OS5_test/os5_spc_102_targetstar_IFS.fits\n"
     ]
    },
    {
     "name": "stderr",
     "output_type": "stream",
     "text": [
      "INFO:crispy:Read data from HDU 1 of OS5/OS5_test/os5_spc_102_targetstar_IFS.fits\n"
     ]
    },
    {
     "name": "stdout",
     "output_type": "stream",
     "text": [
      "crispy - INFO - Read data from HDU 1 of /local/data/nicolaus2/mrizzo/crispy/code/OS5/OS5_test/OS5_average/offaxis.fits\n"
     ]
    },
    {
     "name": "stderr",
     "output_type": "stream",
     "text": [
      "INFO:crispy:Read data from HDU 1 of /local/data/nicolaus2/mrizzo/crispy/code/OS5/OS5_test/OS5_average/offaxis.fits\n"
     ]
    },
    {
     "name": "stdout",
     "output_type": "stream",
     "text": [
      "crispy - INFO - Writing data to OS5/OS5_test/OS5_detector/os5_spc_102_targetstar_IFS_detector.fits\n"
     ]
    },
    {
     "name": "stderr",
     "output_type": "stream",
     "text": [
      "INFO:crispy:Writing data to OS5/OS5_test/OS5_detector/os5_spc_102_targetstar_IFS_detector.fits\n"
     ]
    },
    {
     "name": "stdout",
     "output_type": "stream",
     "text": [
      "crispy - INFO - Apply noiseless detector readout on os5_spc_103_targetstar_IFS.fits\n"
     ]
    },
    {
     "name": "stderr",
     "output_type": "stream",
     "text": [
      "INFO:crispy:Apply noiseless detector readout on os5_spc_103_targetstar_IFS.fits\n"
     ]
    },
    {
     "name": "stdout",
     "output_type": "stream",
     "text": [
      "crispy - INFO - Read data from HDU 1 of OS5/OS5_test/os5_spc_103_targetstar_IFS.fits\n"
     ]
    },
    {
     "name": "stderr",
     "output_type": "stream",
     "text": [
      "INFO:crispy:Read data from HDU 1 of OS5/OS5_test/os5_spc_103_targetstar_IFS.fits\n"
     ]
    },
    {
     "name": "stdout",
     "output_type": "stream",
     "text": [
      "crispy - INFO - Read data from HDU 1 of /local/data/nicolaus2/mrizzo/crispy/code/OS5/OS5_test/OS5_average/offaxis.fits\n"
     ]
    },
    {
     "name": "stderr",
     "output_type": "stream",
     "text": [
      "INFO:crispy:Read data from HDU 1 of /local/data/nicolaus2/mrizzo/crispy/code/OS5/OS5_test/OS5_average/offaxis.fits\n"
     ]
    },
    {
     "name": "stdout",
     "output_type": "stream",
     "text": [
      "crispy - INFO - Writing data to OS5/OS5_test/OS5_detector/os5_spc_103_targetstar_IFS_detector.fits\n"
     ]
    },
    {
     "name": "stderr",
     "output_type": "stream",
     "text": [
      "INFO:crispy:Writing data to OS5/OS5_test/OS5_detector/os5_spc_103_targetstar_IFS_detector.fits\n"
     ]
    },
    {
     "name": "stdout",
     "output_type": "stream",
     "text": [
      "crispy - INFO - Apply noiseless detector readout on os5_spc_104_targetstar_IFS.fits\n"
     ]
    },
    {
     "name": "stderr",
     "output_type": "stream",
     "text": [
      "INFO:crispy:Apply noiseless detector readout on os5_spc_104_targetstar_IFS.fits\n"
     ]
    },
    {
     "name": "stdout",
     "output_type": "stream",
     "text": [
      "crispy - INFO - Read data from HDU 1 of OS5/OS5_test/os5_spc_104_targetstar_IFS.fits\n"
     ]
    },
    {
     "name": "stderr",
     "output_type": "stream",
     "text": [
      "INFO:crispy:Read data from HDU 1 of OS5/OS5_test/os5_spc_104_targetstar_IFS.fits\n"
     ]
    },
    {
     "name": "stdout",
     "output_type": "stream",
     "text": [
      "crispy - INFO - Read data from HDU 1 of /local/data/nicolaus2/mrizzo/crispy/code/OS5/OS5_test/OS5_average/offaxis.fits\n"
     ]
    },
    {
     "name": "stderr",
     "output_type": "stream",
     "text": [
      "INFO:crispy:Read data from HDU 1 of /local/data/nicolaus2/mrizzo/crispy/code/OS5/OS5_test/OS5_average/offaxis.fits\n"
     ]
    },
    {
     "name": "stdout",
     "output_type": "stream",
     "text": [
      "crispy - INFO - Writing data to OS5/OS5_test/OS5_detector/os5_spc_104_targetstar_IFS_detector.fits\n"
     ]
    },
    {
     "name": "stderr",
     "output_type": "stream",
     "text": [
      "INFO:crispy:Writing data to OS5/OS5_test/OS5_detector/os5_spc_104_targetstar_IFS_detector.fits\n"
     ]
    },
    {
     "name": "stdout",
     "output_type": "stream",
     "text": [
      "crispy - INFO - Apply noiseless detector readout on os5_spc_105_targetstar_IFS.fits\n"
     ]
    },
    {
     "name": "stderr",
     "output_type": "stream",
     "text": [
      "INFO:crispy:Apply noiseless detector readout on os5_spc_105_targetstar_IFS.fits\n"
     ]
    },
    {
     "name": "stdout",
     "output_type": "stream",
     "text": [
      "crispy - INFO - Read data from HDU 1 of OS5/OS5_test/os5_spc_105_targetstar_IFS.fits\n"
     ]
    },
    {
     "name": "stderr",
     "output_type": "stream",
     "text": [
      "INFO:crispy:Read data from HDU 1 of OS5/OS5_test/os5_spc_105_targetstar_IFS.fits\n"
     ]
    },
    {
     "name": "stdout",
     "output_type": "stream",
     "text": [
      "crispy - INFO - Read data from HDU 1 of /local/data/nicolaus2/mrizzo/crispy/code/OS5/OS5_test/OS5_average/offaxis.fits\n"
     ]
    },
    {
     "name": "stderr",
     "output_type": "stream",
     "text": [
      "INFO:crispy:Read data from HDU 1 of /local/data/nicolaus2/mrizzo/crispy/code/OS5/OS5_test/OS5_average/offaxis.fits\n"
     ]
    },
    {
     "name": "stdout",
     "output_type": "stream",
     "text": [
      "crispy - INFO - Writing data to OS5/OS5_test/OS5_detector/os5_spc_105_targetstar_IFS_detector.fits\n"
     ]
    },
    {
     "name": "stderr",
     "output_type": "stream",
     "text": [
      "INFO:crispy:Writing data to OS5/OS5_test/OS5_detector/os5_spc_105_targetstar_IFS_detector.fits\n"
     ]
    },
    {
     "name": "stdout",
     "output_type": "stream",
     "text": [
      "crispy - INFO - Apply noiseless detector readout on os5_spc_106_targetstar_IFS.fits\n"
     ]
    },
    {
     "name": "stderr",
     "output_type": "stream",
     "text": [
      "INFO:crispy:Apply noiseless detector readout on os5_spc_106_targetstar_IFS.fits\n"
     ]
    },
    {
     "name": "stdout",
     "output_type": "stream",
     "text": [
      "crispy - INFO - Read data from HDU 1 of OS5/OS5_test/os5_spc_106_targetstar_IFS.fits\n"
     ]
    },
    {
     "name": "stderr",
     "output_type": "stream",
     "text": [
      "INFO:crispy:Read data from HDU 1 of OS5/OS5_test/os5_spc_106_targetstar_IFS.fits\n"
     ]
    },
    {
     "name": "stdout",
     "output_type": "stream",
     "text": [
      "crispy - INFO - Read data from HDU 1 of /local/data/nicolaus2/mrizzo/crispy/code/OS5/OS5_test/OS5_average/offaxis.fits\n"
     ]
    },
    {
     "name": "stderr",
     "output_type": "stream",
     "text": [
      "INFO:crispy:Read data from HDU 1 of /local/data/nicolaus2/mrizzo/crispy/code/OS5/OS5_test/OS5_average/offaxis.fits\n"
     ]
    },
    {
     "name": "stdout",
     "output_type": "stream",
     "text": [
      "crispy - INFO - Writing data to OS5/OS5_test/OS5_detector/os5_spc_106_targetstar_IFS_detector.fits\n"
     ]
    },
    {
     "name": "stderr",
     "output_type": "stream",
     "text": [
      "INFO:crispy:Writing data to OS5/OS5_test/OS5_detector/os5_spc_106_targetstar_IFS_detector.fits\n"
     ]
    },
    {
     "name": "stdout",
     "output_type": "stream",
     "text": [
      "crispy - INFO - Apply noiseless detector readout on os5_spc_107_targetstar_IFS.fits\n"
     ]
    },
    {
     "name": "stderr",
     "output_type": "stream",
     "text": [
      "INFO:crispy:Apply noiseless detector readout on os5_spc_107_targetstar_IFS.fits\n"
     ]
    },
    {
     "name": "stdout",
     "output_type": "stream",
     "text": [
      "crispy - INFO - Read data from HDU 1 of OS5/OS5_test/os5_spc_107_targetstar_IFS.fits\n"
     ]
    },
    {
     "name": "stderr",
     "output_type": "stream",
     "text": [
      "INFO:crispy:Read data from HDU 1 of OS5/OS5_test/os5_spc_107_targetstar_IFS.fits\n"
     ]
    },
    {
     "name": "stdout",
     "output_type": "stream",
     "text": [
      "crispy - INFO - Read data from HDU 1 of /local/data/nicolaus2/mrizzo/crispy/code/OS5/OS5_test/OS5_average/offaxis.fits\n"
     ]
    },
    {
     "name": "stderr",
     "output_type": "stream",
     "text": [
      "INFO:crispy:Read data from HDU 1 of /local/data/nicolaus2/mrizzo/crispy/code/OS5/OS5_test/OS5_average/offaxis.fits\n"
     ]
    },
    {
     "name": "stdout",
     "output_type": "stream",
     "text": [
      "crispy - INFO - Writing data to OS5/OS5_test/OS5_detector/os5_spc_107_targetstar_IFS_detector.fits\n"
     ]
    },
    {
     "name": "stderr",
     "output_type": "stream",
     "text": [
      "INFO:crispy:Writing data to OS5/OS5_test/OS5_detector/os5_spc_107_targetstar_IFS_detector.fits\n"
     ]
    },
    {
     "name": "stdout",
     "output_type": "stream",
     "text": [
      "crispy - INFO - Apply noiseless detector readout on os5_spc_108_targetstar_IFS.fits\n"
     ]
    },
    {
     "name": "stderr",
     "output_type": "stream",
     "text": [
      "INFO:crispy:Apply noiseless detector readout on os5_spc_108_targetstar_IFS.fits\n"
     ]
    },
    {
     "name": "stdout",
     "output_type": "stream",
     "text": [
      "crispy - INFO - Read data from HDU 1 of OS5/OS5_test/os5_spc_108_targetstar_IFS.fits\n"
     ]
    },
    {
     "name": "stderr",
     "output_type": "stream",
     "text": [
      "INFO:crispy:Read data from HDU 1 of OS5/OS5_test/os5_spc_108_targetstar_IFS.fits\n"
     ]
    },
    {
     "name": "stdout",
     "output_type": "stream",
     "text": [
      "crispy - INFO - Read data from HDU 1 of /local/data/nicolaus2/mrizzo/crispy/code/OS5/OS5_test/OS5_average/offaxis.fits\n"
     ]
    },
    {
     "name": "stderr",
     "output_type": "stream",
     "text": [
      "INFO:crispy:Read data from HDU 1 of /local/data/nicolaus2/mrizzo/crispy/code/OS5/OS5_test/OS5_average/offaxis.fits\n"
     ]
    },
    {
     "name": "stdout",
     "output_type": "stream",
     "text": [
      "crispy - INFO - Writing data to OS5/OS5_test/OS5_detector/os5_spc_108_targetstar_IFS_detector.fits\n"
     ]
    },
    {
     "name": "stderr",
     "output_type": "stream",
     "text": [
      "INFO:crispy:Writing data to OS5/OS5_test/OS5_detector/os5_spc_108_targetstar_IFS_detector.fits\n"
     ]
    },
    {
     "name": "stdout",
     "output_type": "stream",
     "text": [
      "crispy - INFO - Apply noiseless detector readout on os5_spc_109_targetstar_IFS.fits\n"
     ]
    },
    {
     "name": "stderr",
     "output_type": "stream",
     "text": [
      "INFO:crispy:Apply noiseless detector readout on os5_spc_109_targetstar_IFS.fits\n"
     ]
    },
    {
     "name": "stdout",
     "output_type": "stream",
     "text": [
      "crispy - INFO - Read data from HDU 1 of OS5/OS5_test/os5_spc_109_targetstar_IFS.fits\n"
     ]
    },
    {
     "name": "stderr",
     "output_type": "stream",
     "text": [
      "INFO:crispy:Read data from HDU 1 of OS5/OS5_test/os5_spc_109_targetstar_IFS.fits\n"
     ]
    },
    {
     "name": "stdout",
     "output_type": "stream",
     "text": [
      "crispy - INFO - Read data from HDU 1 of /local/data/nicolaus2/mrizzo/crispy/code/OS5/OS5_test/OS5_average/offaxis.fits\n"
     ]
    },
    {
     "name": "stderr",
     "output_type": "stream",
     "text": [
      "INFO:crispy:Read data from HDU 1 of /local/data/nicolaus2/mrizzo/crispy/code/OS5/OS5_test/OS5_average/offaxis.fits\n"
     ]
    },
    {
     "name": "stdout",
     "output_type": "stream",
     "text": [
      "crispy - INFO - Writing data to OS5/OS5_test/OS5_detector/os5_spc_109_targetstar_IFS_detector.fits\n"
     ]
    },
    {
     "name": "stderr",
     "output_type": "stream",
     "text": [
      "INFO:crispy:Writing data to OS5/OS5_test/OS5_detector/os5_spc_109_targetstar_IFS_detector.fits\n"
     ]
    },
    {
     "name": "stdout",
     "output_type": "stream",
     "text": [
      "crispy - INFO - Apply noiseless detector readout on os5_spc_110_targetstar_IFS.fits\n"
     ]
    },
    {
     "name": "stderr",
     "output_type": "stream",
     "text": [
      "INFO:crispy:Apply noiseless detector readout on os5_spc_110_targetstar_IFS.fits\n"
     ]
    },
    {
     "name": "stdout",
     "output_type": "stream",
     "text": [
      "crispy - INFO - Read data from HDU 1 of OS5/OS5_test/os5_spc_110_targetstar_IFS.fits\n"
     ]
    },
    {
     "name": "stderr",
     "output_type": "stream",
     "text": [
      "INFO:crispy:Read data from HDU 1 of OS5/OS5_test/os5_spc_110_targetstar_IFS.fits\n"
     ]
    },
    {
     "name": "stdout",
     "output_type": "stream",
     "text": [
      "crispy - INFO - Read data from HDU 1 of /local/data/nicolaus2/mrizzo/crispy/code/OS5/OS5_test/OS5_average/offaxis.fits\n"
     ]
    },
    {
     "name": "stderr",
     "output_type": "stream",
     "text": [
      "INFO:crispy:Read data from HDU 1 of /local/data/nicolaus2/mrizzo/crispy/code/OS5/OS5_test/OS5_average/offaxis.fits\n"
     ]
    },
    {
     "name": "stdout",
     "output_type": "stream",
     "text": [
      "crispy - INFO - Writing data to OS5/OS5_test/OS5_detector/os5_spc_110_targetstar_IFS_detector.fits\n"
     ]
    },
    {
     "name": "stderr",
     "output_type": "stream",
     "text": [
      "INFO:crispy:Writing data to OS5/OS5_test/OS5_detector/os5_spc_110_targetstar_IFS_detector.fits\n"
     ]
    },
    {
     "name": "stdout",
     "output_type": "stream",
     "text": [
      "crispy - INFO - Apply noiseless detector readout on os5_spc_111_targetstar_IFS.fits\n"
     ]
    },
    {
     "name": "stderr",
     "output_type": "stream",
     "text": [
      "INFO:crispy:Apply noiseless detector readout on os5_spc_111_targetstar_IFS.fits\n"
     ]
    },
    {
     "name": "stdout",
     "output_type": "stream",
     "text": [
      "crispy - INFO - Read data from HDU 1 of OS5/OS5_test/os5_spc_111_targetstar_IFS.fits\n"
     ]
    },
    {
     "name": "stderr",
     "output_type": "stream",
     "text": [
      "INFO:crispy:Read data from HDU 1 of OS5/OS5_test/os5_spc_111_targetstar_IFS.fits\n"
     ]
    },
    {
     "name": "stdout",
     "output_type": "stream",
     "text": [
      "crispy - INFO - Read data from HDU 1 of /local/data/nicolaus2/mrizzo/crispy/code/OS5/OS5_test/OS5_average/offaxis.fits\n"
     ]
    },
    {
     "name": "stderr",
     "output_type": "stream",
     "text": [
      "INFO:crispy:Read data from HDU 1 of /local/data/nicolaus2/mrizzo/crispy/code/OS5/OS5_test/OS5_average/offaxis.fits\n"
     ]
    },
    {
     "name": "stdout",
     "output_type": "stream",
     "text": [
      "crispy - INFO - Writing data to OS5/OS5_test/OS5_detector/os5_spc_111_targetstar_IFS_detector.fits\n"
     ]
    },
    {
     "name": "stderr",
     "output_type": "stream",
     "text": [
      "INFO:crispy:Writing data to OS5/OS5_test/OS5_detector/os5_spc_111_targetstar_IFS_detector.fits\n"
     ]
    },
    {
     "name": "stdout",
     "output_type": "stream",
     "text": [
      "crispy - INFO - Apply noiseless detector readout on os5_spc_112_targetstar_IFS.fits\n"
     ]
    },
    {
     "name": "stderr",
     "output_type": "stream",
     "text": [
      "INFO:crispy:Apply noiseless detector readout on os5_spc_112_targetstar_IFS.fits\n"
     ]
    },
    {
     "name": "stdout",
     "output_type": "stream",
     "text": [
      "crispy - INFO - Read data from HDU 1 of OS5/OS5_test/os5_spc_112_targetstar_IFS.fits\n"
     ]
    },
    {
     "name": "stderr",
     "output_type": "stream",
     "text": [
      "INFO:crispy:Read data from HDU 1 of OS5/OS5_test/os5_spc_112_targetstar_IFS.fits\n"
     ]
    },
    {
     "name": "stdout",
     "output_type": "stream",
     "text": [
      "crispy - INFO - Read data from HDU 1 of /local/data/nicolaus2/mrizzo/crispy/code/OS5/OS5_test/OS5_average/offaxis.fits\n"
     ]
    },
    {
     "name": "stderr",
     "output_type": "stream",
     "text": [
      "INFO:crispy:Read data from HDU 1 of /local/data/nicolaus2/mrizzo/crispy/code/OS5/OS5_test/OS5_average/offaxis.fits\n"
     ]
    },
    {
     "name": "stdout",
     "output_type": "stream",
     "text": [
      "crispy - INFO - Writing data to OS5/OS5_test/OS5_detector/os5_spc_112_targetstar_IFS_detector.fits\n"
     ]
    },
    {
     "name": "stderr",
     "output_type": "stream",
     "text": [
      "INFO:crispy:Writing data to OS5/OS5_test/OS5_detector/os5_spc_112_targetstar_IFS_detector.fits\n"
     ]
    },
    {
     "name": "stdout",
     "output_type": "stream",
     "text": [
      "crispy - INFO - Apply noiseless detector readout on os5_spc_113_targetstar_IFS.fits\n"
     ]
    },
    {
     "name": "stderr",
     "output_type": "stream",
     "text": [
      "INFO:crispy:Apply noiseless detector readout on os5_spc_113_targetstar_IFS.fits\n"
     ]
    },
    {
     "name": "stdout",
     "output_type": "stream",
     "text": [
      "crispy - INFO - Read data from HDU 1 of OS5/OS5_test/os5_spc_113_targetstar_IFS.fits\n"
     ]
    },
    {
     "name": "stderr",
     "output_type": "stream",
     "text": [
      "INFO:crispy:Read data from HDU 1 of OS5/OS5_test/os5_spc_113_targetstar_IFS.fits\n"
     ]
    },
    {
     "name": "stdout",
     "output_type": "stream",
     "text": [
      "crispy - INFO - Read data from HDU 1 of /local/data/nicolaus2/mrizzo/crispy/code/OS5/OS5_test/OS5_average/offaxis.fits\n"
     ]
    },
    {
     "name": "stderr",
     "output_type": "stream",
     "text": [
      "INFO:crispy:Read data from HDU 1 of /local/data/nicolaus2/mrizzo/crispy/code/OS5/OS5_test/OS5_average/offaxis.fits\n"
     ]
    },
    {
     "name": "stdout",
     "output_type": "stream",
     "text": [
      "crispy - INFO - Writing data to OS5/OS5_test/OS5_detector/os5_spc_113_targetstar_IFS_detector.fits\n"
     ]
    },
    {
     "name": "stderr",
     "output_type": "stream",
     "text": [
      "INFO:crispy:Writing data to OS5/OS5_test/OS5_detector/os5_spc_113_targetstar_IFS_detector.fits\n"
     ]
    },
    {
     "name": "stdout",
     "output_type": "stream",
     "text": [
      "crispy - INFO - Apply noiseless detector readout on os5_spc_114_targetstar_IFS.fits\n"
     ]
    },
    {
     "name": "stderr",
     "output_type": "stream",
     "text": [
      "INFO:crispy:Apply noiseless detector readout on os5_spc_114_targetstar_IFS.fits\n"
     ]
    },
    {
     "name": "stdout",
     "output_type": "stream",
     "text": [
      "crispy - INFO - Read data from HDU 1 of OS5/OS5_test/os5_spc_114_targetstar_IFS.fits\n"
     ]
    },
    {
     "name": "stderr",
     "output_type": "stream",
     "text": [
      "INFO:crispy:Read data from HDU 1 of OS5/OS5_test/os5_spc_114_targetstar_IFS.fits\n"
     ]
    },
    {
     "name": "stdout",
     "output_type": "stream",
     "text": [
      "crispy - INFO - Read data from HDU 1 of /local/data/nicolaus2/mrizzo/crispy/code/OS5/OS5_test/OS5_average/offaxis.fits\n"
     ]
    },
    {
     "name": "stderr",
     "output_type": "stream",
     "text": [
      "INFO:crispy:Read data from HDU 1 of /local/data/nicolaus2/mrizzo/crispy/code/OS5/OS5_test/OS5_average/offaxis.fits\n"
     ]
    },
    {
     "name": "stdout",
     "output_type": "stream",
     "text": [
      "crispy - INFO - Writing data to OS5/OS5_test/OS5_detector/os5_spc_114_targetstar_IFS_detector.fits\n"
     ]
    },
    {
     "name": "stderr",
     "output_type": "stream",
     "text": [
      "INFO:crispy:Writing data to OS5/OS5_test/OS5_detector/os5_spc_114_targetstar_IFS_detector.fits\n"
     ]
    },
    {
     "name": "stdout",
     "output_type": "stream",
     "text": [
      "crispy - INFO - Apply noiseless detector readout on os5_spc_115_targetstar_IFS.fits\n"
     ]
    },
    {
     "name": "stderr",
     "output_type": "stream",
     "text": [
      "INFO:crispy:Apply noiseless detector readout on os5_spc_115_targetstar_IFS.fits\n"
     ]
    },
    {
     "name": "stdout",
     "output_type": "stream",
     "text": [
      "crispy - INFO - Read data from HDU 1 of OS5/OS5_test/os5_spc_115_targetstar_IFS.fits\n"
     ]
    },
    {
     "name": "stderr",
     "output_type": "stream",
     "text": [
      "INFO:crispy:Read data from HDU 1 of OS5/OS5_test/os5_spc_115_targetstar_IFS.fits\n"
     ]
    },
    {
     "name": "stdout",
     "output_type": "stream",
     "text": [
      "crispy - INFO - Read data from HDU 1 of /local/data/nicolaus2/mrizzo/crispy/code/OS5/OS5_test/OS5_average/offaxis.fits\n"
     ]
    },
    {
     "name": "stderr",
     "output_type": "stream",
     "text": [
      "INFO:crispy:Read data from HDU 1 of /local/data/nicolaus2/mrizzo/crispy/code/OS5/OS5_test/OS5_average/offaxis.fits\n"
     ]
    },
    {
     "name": "stdout",
     "output_type": "stream",
     "text": [
      "crispy - INFO - Writing data to OS5/OS5_test/OS5_detector/os5_spc_115_targetstar_IFS_detector.fits\n"
     ]
    },
    {
     "name": "stderr",
     "output_type": "stream",
     "text": [
      "INFO:crispy:Writing data to OS5/OS5_test/OS5_detector/os5_spc_115_targetstar_IFS_detector.fits\n"
     ]
    },
    {
     "name": "stdout",
     "output_type": "stream",
     "text": [
      "crispy - INFO - Apply noiseless detector readout on os5_spc_116_targetstar_IFS.fits\n"
     ]
    },
    {
     "name": "stderr",
     "output_type": "stream",
     "text": [
      "INFO:crispy:Apply noiseless detector readout on os5_spc_116_targetstar_IFS.fits\n"
     ]
    },
    {
     "name": "stdout",
     "output_type": "stream",
     "text": [
      "crispy - INFO - Read data from HDU 1 of OS5/OS5_test/os5_spc_116_targetstar_IFS.fits\n"
     ]
    },
    {
     "name": "stderr",
     "output_type": "stream",
     "text": [
      "INFO:crispy:Read data from HDU 1 of OS5/OS5_test/os5_spc_116_targetstar_IFS.fits\n"
     ]
    },
    {
     "name": "stdout",
     "output_type": "stream",
     "text": [
      "crispy - INFO - Read data from HDU 1 of /local/data/nicolaus2/mrizzo/crispy/code/OS5/OS5_test/OS5_average/offaxis.fits\n"
     ]
    },
    {
     "name": "stderr",
     "output_type": "stream",
     "text": [
      "INFO:crispy:Read data from HDU 1 of /local/data/nicolaus2/mrizzo/crispy/code/OS5/OS5_test/OS5_average/offaxis.fits\n"
     ]
    },
    {
     "name": "stdout",
     "output_type": "stream",
     "text": [
      "crispy - INFO - Writing data to OS5/OS5_test/OS5_detector/os5_spc_116_targetstar_IFS_detector.fits\n"
     ]
    },
    {
     "name": "stderr",
     "output_type": "stream",
     "text": [
      "INFO:crispy:Writing data to OS5/OS5_test/OS5_detector/os5_spc_116_targetstar_IFS_detector.fits\n"
     ]
    },
    {
     "name": "stdout",
     "output_type": "stream",
     "text": [
      "crispy - INFO - Apply noiseless detector readout on os5_spc_117_targetstar_IFS.fits\n"
     ]
    },
    {
     "name": "stderr",
     "output_type": "stream",
     "text": [
      "INFO:crispy:Apply noiseless detector readout on os5_spc_117_targetstar_IFS.fits\n"
     ]
    },
    {
     "name": "stdout",
     "output_type": "stream",
     "text": [
      "crispy - INFO - Read data from HDU 1 of OS5/OS5_test/os5_spc_117_targetstar_IFS.fits\n"
     ]
    },
    {
     "name": "stderr",
     "output_type": "stream",
     "text": [
      "INFO:crispy:Read data from HDU 1 of OS5/OS5_test/os5_spc_117_targetstar_IFS.fits\n"
     ]
    },
    {
     "name": "stdout",
     "output_type": "stream",
     "text": [
      "crispy - INFO - Read data from HDU 1 of /local/data/nicolaus2/mrizzo/crispy/code/OS5/OS5_test/OS5_average/offaxis.fits\n"
     ]
    },
    {
     "name": "stderr",
     "output_type": "stream",
     "text": [
      "INFO:crispy:Read data from HDU 1 of /local/data/nicolaus2/mrizzo/crispy/code/OS5/OS5_test/OS5_average/offaxis.fits\n"
     ]
    },
    {
     "name": "stdout",
     "output_type": "stream",
     "text": [
      "crispy - INFO - Writing data to OS5/OS5_test/OS5_detector/os5_spc_117_targetstar_IFS_detector.fits\n"
     ]
    },
    {
     "name": "stderr",
     "output_type": "stream",
     "text": [
      "INFO:crispy:Writing data to OS5/OS5_test/OS5_detector/os5_spc_117_targetstar_IFS_detector.fits\n"
     ]
    },
    {
     "name": "stdout",
     "output_type": "stream",
     "text": [
      "crispy - INFO - Apply noiseless detector readout on os5_spc_118_targetstar_IFS.fits\n"
     ]
    },
    {
     "name": "stderr",
     "output_type": "stream",
     "text": [
      "INFO:crispy:Apply noiseless detector readout on os5_spc_118_targetstar_IFS.fits\n"
     ]
    },
    {
     "name": "stdout",
     "output_type": "stream",
     "text": [
      "crispy - INFO - Read data from HDU 1 of OS5/OS5_test/os5_spc_118_targetstar_IFS.fits\n"
     ]
    },
    {
     "name": "stderr",
     "output_type": "stream",
     "text": [
      "INFO:crispy:Read data from HDU 1 of OS5/OS5_test/os5_spc_118_targetstar_IFS.fits\n"
     ]
    },
    {
     "name": "stdout",
     "output_type": "stream",
     "text": [
      "crispy - INFO - Read data from HDU 1 of /local/data/nicolaus2/mrizzo/crispy/code/OS5/OS5_test/OS5_average/offaxis.fits\n"
     ]
    },
    {
     "name": "stderr",
     "output_type": "stream",
     "text": [
      "INFO:crispy:Read data from HDU 1 of /local/data/nicolaus2/mrizzo/crispy/code/OS5/OS5_test/OS5_average/offaxis.fits\n"
     ]
    },
    {
     "name": "stdout",
     "output_type": "stream",
     "text": [
      "crispy - INFO - Writing data to OS5/OS5_test/OS5_detector/os5_spc_118_targetstar_IFS_detector.fits\n"
     ]
    },
    {
     "name": "stderr",
     "output_type": "stream",
     "text": [
      "INFO:crispy:Writing data to OS5/OS5_test/OS5_detector/os5_spc_118_targetstar_IFS_detector.fits\n"
     ]
    },
    {
     "name": "stdout",
     "output_type": "stream",
     "text": [
      "crispy - INFO - Apply noiseless detector readout on os5_spc_119_targetstar_IFS.fits\n"
     ]
    },
    {
     "name": "stderr",
     "output_type": "stream",
     "text": [
      "INFO:crispy:Apply noiseless detector readout on os5_spc_119_targetstar_IFS.fits\n"
     ]
    },
    {
     "name": "stdout",
     "output_type": "stream",
     "text": [
      "crispy - INFO - Read data from HDU 1 of OS5/OS5_test/os5_spc_119_targetstar_IFS.fits\n"
     ]
    },
    {
     "name": "stderr",
     "output_type": "stream",
     "text": [
      "INFO:crispy:Read data from HDU 1 of OS5/OS5_test/os5_spc_119_targetstar_IFS.fits\n"
     ]
    },
    {
     "name": "stdout",
     "output_type": "stream",
     "text": [
      "crispy - INFO - Read data from HDU 1 of /local/data/nicolaus2/mrizzo/crispy/code/OS5/OS5_test/OS5_average/offaxis.fits\n"
     ]
    },
    {
     "name": "stderr",
     "output_type": "stream",
     "text": [
      "INFO:crispy:Read data from HDU 1 of /local/data/nicolaus2/mrizzo/crispy/code/OS5/OS5_test/OS5_average/offaxis.fits\n"
     ]
    },
    {
     "name": "stdout",
     "output_type": "stream",
     "text": [
      "crispy - INFO - Writing data to OS5/OS5_test/OS5_detector/os5_spc_119_targetstar_IFS_detector.fits\n"
     ]
    },
    {
     "name": "stderr",
     "output_type": "stream",
     "text": [
      "INFO:crispy:Writing data to OS5/OS5_test/OS5_detector/os5_spc_119_targetstar_IFS_detector.fits\n"
     ]
    },
    {
     "name": "stdout",
     "output_type": "stream",
     "text": [
      "crispy - INFO - Apply noiseless detector readout on os5_spc_120_targetstar_IFS.fits\n"
     ]
    },
    {
     "name": "stderr",
     "output_type": "stream",
     "text": [
      "INFO:crispy:Apply noiseless detector readout on os5_spc_120_targetstar_IFS.fits\n"
     ]
    },
    {
     "name": "stdout",
     "output_type": "stream",
     "text": [
      "crispy - INFO - Read data from HDU 1 of OS5/OS5_test/os5_spc_120_targetstar_IFS.fits\n"
     ]
    },
    {
     "name": "stderr",
     "output_type": "stream",
     "text": [
      "INFO:crispy:Read data from HDU 1 of OS5/OS5_test/os5_spc_120_targetstar_IFS.fits\n"
     ]
    },
    {
     "name": "stdout",
     "output_type": "stream",
     "text": [
      "crispy - INFO - Read data from HDU 1 of /local/data/nicolaus2/mrizzo/crispy/code/OS5/OS5_test/OS5_average/offaxis.fits\n"
     ]
    },
    {
     "name": "stderr",
     "output_type": "stream",
     "text": [
      "INFO:crispy:Read data from HDU 1 of /local/data/nicolaus2/mrizzo/crispy/code/OS5/OS5_test/OS5_average/offaxis.fits\n"
     ]
    },
    {
     "name": "stdout",
     "output_type": "stream",
     "text": [
      "crispy - INFO - Writing data to OS5/OS5_test/OS5_detector/os5_spc_120_targetstar_IFS_detector.fits\n"
     ]
    },
    {
     "name": "stderr",
     "output_type": "stream",
     "text": [
      "INFO:crispy:Writing data to OS5/OS5_test/OS5_detector/os5_spc_120_targetstar_IFS_detector.fits\n"
     ]
    },
    {
     "name": "stdout",
     "output_type": "stream",
     "text": [
      "crispy - INFO - Apply noiseless detector readout on os5_spc_121_targetstar_IFS.fits\n"
     ]
    },
    {
     "name": "stderr",
     "output_type": "stream",
     "text": [
      "INFO:crispy:Apply noiseless detector readout on os5_spc_121_targetstar_IFS.fits\n"
     ]
    },
    {
     "name": "stdout",
     "output_type": "stream",
     "text": [
      "crispy - INFO - Read data from HDU 1 of OS5/OS5_test/os5_spc_121_targetstar_IFS.fits\n"
     ]
    },
    {
     "name": "stderr",
     "output_type": "stream",
     "text": [
      "INFO:crispy:Read data from HDU 1 of OS5/OS5_test/os5_spc_121_targetstar_IFS.fits\n"
     ]
    },
    {
     "name": "stdout",
     "output_type": "stream",
     "text": [
      "crispy - INFO - Read data from HDU 1 of /local/data/nicolaus2/mrizzo/crispy/code/OS5/OS5_test/OS5_average/offaxis.fits\n"
     ]
    },
    {
     "name": "stderr",
     "output_type": "stream",
     "text": [
      "INFO:crispy:Read data from HDU 1 of /local/data/nicolaus2/mrizzo/crispy/code/OS5/OS5_test/OS5_average/offaxis.fits\n"
     ]
    },
    {
     "name": "stdout",
     "output_type": "stream",
     "text": [
      "crispy - INFO - Writing data to OS5/OS5_test/OS5_detector/os5_spc_121_targetstar_IFS_detector.fits\n"
     ]
    },
    {
     "name": "stderr",
     "output_type": "stream",
     "text": [
      "INFO:crispy:Writing data to OS5/OS5_test/OS5_detector/os5_spc_121_targetstar_IFS_detector.fits\n"
     ]
    },
    {
     "name": "stdout",
     "output_type": "stream",
     "text": [
      "crispy - INFO - Apply noiseless detector readout on os5_spc_122_targetstar_IFS.fits\n"
     ]
    },
    {
     "name": "stderr",
     "output_type": "stream",
     "text": [
      "INFO:crispy:Apply noiseless detector readout on os5_spc_122_targetstar_IFS.fits\n"
     ]
    },
    {
     "name": "stdout",
     "output_type": "stream",
     "text": [
      "crispy - INFO - Read data from HDU 1 of OS5/OS5_test/os5_spc_122_targetstar_IFS.fits\n"
     ]
    },
    {
     "name": "stderr",
     "output_type": "stream",
     "text": [
      "INFO:crispy:Read data from HDU 1 of OS5/OS5_test/os5_spc_122_targetstar_IFS.fits\n"
     ]
    },
    {
     "name": "stdout",
     "output_type": "stream",
     "text": [
      "crispy - INFO - Read data from HDU 1 of /local/data/nicolaus2/mrizzo/crispy/code/OS5/OS5_test/OS5_average/offaxis.fits\n"
     ]
    },
    {
     "name": "stderr",
     "output_type": "stream",
     "text": [
      "INFO:crispy:Read data from HDU 1 of /local/data/nicolaus2/mrizzo/crispy/code/OS5/OS5_test/OS5_average/offaxis.fits\n"
     ]
    },
    {
     "name": "stdout",
     "output_type": "stream",
     "text": [
      "crispy - INFO - Writing data to OS5/OS5_test/OS5_detector/os5_spc_122_targetstar_IFS_detector.fits\n"
     ]
    },
    {
     "name": "stderr",
     "output_type": "stream",
     "text": [
      "INFO:crispy:Writing data to OS5/OS5_test/OS5_detector/os5_spc_122_targetstar_IFS_detector.fits\n"
     ]
    },
    {
     "name": "stdout",
     "output_type": "stream",
     "text": [
      "crispy - INFO - Apply noiseless detector readout on os5_spc_123_targetstar_IFS.fits\n"
     ]
    },
    {
     "name": "stderr",
     "output_type": "stream",
     "text": [
      "INFO:crispy:Apply noiseless detector readout on os5_spc_123_targetstar_IFS.fits\n"
     ]
    },
    {
     "name": "stdout",
     "output_type": "stream",
     "text": [
      "crispy - INFO - Read data from HDU 1 of OS5/OS5_test/os5_spc_123_targetstar_IFS.fits\n"
     ]
    },
    {
     "name": "stderr",
     "output_type": "stream",
     "text": [
      "INFO:crispy:Read data from HDU 1 of OS5/OS5_test/os5_spc_123_targetstar_IFS.fits\n"
     ]
    },
    {
     "name": "stdout",
     "output_type": "stream",
     "text": [
      "crispy - INFO - Read data from HDU 1 of /local/data/nicolaus2/mrizzo/crispy/code/OS5/OS5_test/OS5_average/offaxis.fits\n"
     ]
    },
    {
     "name": "stderr",
     "output_type": "stream",
     "text": [
      "INFO:crispy:Read data from HDU 1 of /local/data/nicolaus2/mrizzo/crispy/code/OS5/OS5_test/OS5_average/offaxis.fits\n"
     ]
    },
    {
     "name": "stdout",
     "output_type": "stream",
     "text": [
      "crispy - INFO - Writing data to OS5/OS5_test/OS5_detector/os5_spc_123_targetstar_IFS_detector.fits\n"
     ]
    },
    {
     "name": "stderr",
     "output_type": "stream",
     "text": [
      "INFO:crispy:Writing data to OS5/OS5_test/OS5_detector/os5_spc_123_targetstar_IFS_detector.fits\n"
     ]
    },
    {
     "name": "stdout",
     "output_type": "stream",
     "text": [
      "crispy - INFO - Apply noiseless detector readout on os5_spc_124_targetstar_IFS.fits\n"
     ]
    },
    {
     "name": "stderr",
     "output_type": "stream",
     "text": [
      "INFO:crispy:Apply noiseless detector readout on os5_spc_124_targetstar_IFS.fits\n"
     ]
    },
    {
     "name": "stdout",
     "output_type": "stream",
     "text": [
      "crispy - INFO - Read data from HDU 1 of OS5/OS5_test/os5_spc_124_targetstar_IFS.fits\n"
     ]
    },
    {
     "name": "stderr",
     "output_type": "stream",
     "text": [
      "INFO:crispy:Read data from HDU 1 of OS5/OS5_test/os5_spc_124_targetstar_IFS.fits\n"
     ]
    },
    {
     "name": "stdout",
     "output_type": "stream",
     "text": [
      "crispy - INFO - Read data from HDU 1 of /local/data/nicolaus2/mrizzo/crispy/code/OS5/OS5_test/OS5_average/offaxis.fits\n"
     ]
    },
    {
     "name": "stderr",
     "output_type": "stream",
     "text": [
      "INFO:crispy:Read data from HDU 1 of /local/data/nicolaus2/mrizzo/crispy/code/OS5/OS5_test/OS5_average/offaxis.fits\n"
     ]
    },
    {
     "name": "stdout",
     "output_type": "stream",
     "text": [
      "crispy - INFO - Writing data to OS5/OS5_test/OS5_detector/os5_spc_124_targetstar_IFS_detector.fits\n"
     ]
    },
    {
     "name": "stderr",
     "output_type": "stream",
     "text": [
      "INFO:crispy:Writing data to OS5/OS5_test/OS5_detector/os5_spc_124_targetstar_IFS_detector.fits\n"
     ]
    },
    {
     "name": "stdout",
     "output_type": "stream",
     "text": [
      "crispy - INFO - Apply noiseless detector readout on os5_spc_125_targetstar_IFS.fits\n"
     ]
    },
    {
     "name": "stderr",
     "output_type": "stream",
     "text": [
      "INFO:crispy:Apply noiseless detector readout on os5_spc_125_targetstar_IFS.fits\n"
     ]
    },
    {
     "name": "stdout",
     "output_type": "stream",
     "text": [
      "crispy - INFO - Read data from HDU 1 of OS5/OS5_test/os5_spc_125_targetstar_IFS.fits\n"
     ]
    },
    {
     "name": "stderr",
     "output_type": "stream",
     "text": [
      "INFO:crispy:Read data from HDU 1 of OS5/OS5_test/os5_spc_125_targetstar_IFS.fits\n"
     ]
    },
    {
     "name": "stdout",
     "output_type": "stream",
     "text": [
      "crispy - INFO - Read data from HDU 1 of /local/data/nicolaus2/mrizzo/crispy/code/OS5/OS5_test/OS5_average/offaxis.fits\n"
     ]
    },
    {
     "name": "stderr",
     "output_type": "stream",
     "text": [
      "INFO:crispy:Read data from HDU 1 of /local/data/nicolaus2/mrizzo/crispy/code/OS5/OS5_test/OS5_average/offaxis.fits\n"
     ]
    },
    {
     "name": "stdout",
     "output_type": "stream",
     "text": [
      "crispy - INFO - Writing data to OS5/OS5_test/OS5_detector/os5_spc_125_targetstar_IFS_detector.fits\n"
     ]
    },
    {
     "name": "stderr",
     "output_type": "stream",
     "text": [
      "INFO:crispy:Writing data to OS5/OS5_test/OS5_detector/os5_spc_125_targetstar_IFS_detector.fits\n"
     ]
    },
    {
     "name": "stdout",
     "output_type": "stream",
     "text": [
      "crispy - INFO - Apply noiseless detector readout on os5_spc_126_targetstar_IFS.fits\n"
     ]
    },
    {
     "name": "stderr",
     "output_type": "stream",
     "text": [
      "INFO:crispy:Apply noiseless detector readout on os5_spc_126_targetstar_IFS.fits\n"
     ]
    },
    {
     "name": "stdout",
     "output_type": "stream",
     "text": [
      "crispy - INFO - Read data from HDU 1 of OS5/OS5_test/os5_spc_126_targetstar_IFS.fits\n"
     ]
    },
    {
     "name": "stderr",
     "output_type": "stream",
     "text": [
      "INFO:crispy:Read data from HDU 1 of OS5/OS5_test/os5_spc_126_targetstar_IFS.fits\n"
     ]
    },
    {
     "name": "stdout",
     "output_type": "stream",
     "text": [
      "crispy - INFO - Read data from HDU 1 of /local/data/nicolaus2/mrizzo/crispy/code/OS5/OS5_test/OS5_average/offaxis.fits\n"
     ]
    },
    {
     "name": "stderr",
     "output_type": "stream",
     "text": [
      "INFO:crispy:Read data from HDU 1 of /local/data/nicolaus2/mrizzo/crispy/code/OS5/OS5_test/OS5_average/offaxis.fits\n"
     ]
    },
    {
     "name": "stdout",
     "output_type": "stream",
     "text": [
      "crispy - INFO - Writing data to OS5/OS5_test/OS5_detector/os5_spc_126_targetstar_IFS_detector.fits\n"
     ]
    },
    {
     "name": "stderr",
     "output_type": "stream",
     "text": [
      "INFO:crispy:Writing data to OS5/OS5_test/OS5_detector/os5_spc_126_targetstar_IFS_detector.fits\n"
     ]
    },
    {
     "name": "stdout",
     "output_type": "stream",
     "text": [
      "crispy - INFO - Apply noiseless detector readout on os5_spc_127_targetstar_IFS.fits\n"
     ]
    },
    {
     "name": "stderr",
     "output_type": "stream",
     "text": [
      "INFO:crispy:Apply noiseless detector readout on os5_spc_127_targetstar_IFS.fits\n"
     ]
    },
    {
     "name": "stdout",
     "output_type": "stream",
     "text": [
      "crispy - INFO - Read data from HDU 1 of OS5/OS5_test/os5_spc_127_targetstar_IFS.fits\n"
     ]
    },
    {
     "name": "stderr",
     "output_type": "stream",
     "text": [
      "INFO:crispy:Read data from HDU 1 of OS5/OS5_test/os5_spc_127_targetstar_IFS.fits\n"
     ]
    },
    {
     "name": "stdout",
     "output_type": "stream",
     "text": [
      "crispy - INFO - Read data from HDU 1 of /local/data/nicolaus2/mrizzo/crispy/code/OS5/OS5_test/OS5_average/offaxis.fits\n"
     ]
    },
    {
     "name": "stderr",
     "output_type": "stream",
     "text": [
      "INFO:crispy:Read data from HDU 1 of /local/data/nicolaus2/mrizzo/crispy/code/OS5/OS5_test/OS5_average/offaxis.fits\n"
     ]
    },
    {
     "name": "stdout",
     "output_type": "stream",
     "text": [
      "crispy - INFO - Writing data to OS5/OS5_test/OS5_detector/os5_spc_127_targetstar_IFS_detector.fits\n"
     ]
    },
    {
     "name": "stderr",
     "output_type": "stream",
     "text": [
      "INFO:crispy:Writing data to OS5/OS5_test/OS5_detector/os5_spc_127_targetstar_IFS_detector.fits\n"
     ]
    },
    {
     "name": "stdout",
     "output_type": "stream",
     "text": [
      "crispy - INFO - Apply noiseless detector readout on os5_spc_128_targetstar_IFS.fits\n"
     ]
    },
    {
     "name": "stderr",
     "output_type": "stream",
     "text": [
      "INFO:crispy:Apply noiseless detector readout on os5_spc_128_targetstar_IFS.fits\n"
     ]
    },
    {
     "name": "stdout",
     "output_type": "stream",
     "text": [
      "crispy - INFO - Read data from HDU 1 of OS5/OS5_test/os5_spc_128_targetstar_IFS.fits\n"
     ]
    },
    {
     "name": "stderr",
     "output_type": "stream",
     "text": [
      "INFO:crispy:Read data from HDU 1 of OS5/OS5_test/os5_spc_128_targetstar_IFS.fits\n"
     ]
    },
    {
     "name": "stdout",
     "output_type": "stream",
     "text": [
      "crispy - INFO - Read data from HDU 1 of /local/data/nicolaus2/mrizzo/crispy/code/OS5/OS5_test/OS5_average/offaxis.fits\n"
     ]
    },
    {
     "name": "stderr",
     "output_type": "stream",
     "text": [
      "INFO:crispy:Read data from HDU 1 of /local/data/nicolaus2/mrizzo/crispy/code/OS5/OS5_test/OS5_average/offaxis.fits\n"
     ]
    },
    {
     "name": "stdout",
     "output_type": "stream",
     "text": [
      "crispy - INFO - Writing data to OS5/OS5_test/OS5_detector/os5_spc_128_targetstar_IFS_detector.fits\n"
     ]
    },
    {
     "name": "stderr",
     "output_type": "stream",
     "text": [
      "INFO:crispy:Writing data to OS5/OS5_test/OS5_detector/os5_spc_128_targetstar_IFS_detector.fits\n"
     ]
    },
    {
     "name": "stdout",
     "output_type": "stream",
     "text": [
      "crispy - INFO - Apply noiseless detector readout on os5_spc_129_targetstar_IFS.fits\n"
     ]
    },
    {
     "name": "stderr",
     "output_type": "stream",
     "text": [
      "INFO:crispy:Apply noiseless detector readout on os5_spc_129_targetstar_IFS.fits\n"
     ]
    },
    {
     "name": "stdout",
     "output_type": "stream",
     "text": [
      "crispy - INFO - Read data from HDU 1 of OS5/OS5_test/os5_spc_129_targetstar_IFS.fits\n"
     ]
    },
    {
     "name": "stderr",
     "output_type": "stream",
     "text": [
      "INFO:crispy:Read data from HDU 1 of OS5/OS5_test/os5_spc_129_targetstar_IFS.fits\n"
     ]
    },
    {
     "name": "stdout",
     "output_type": "stream",
     "text": [
      "crispy - INFO - Read data from HDU 1 of /local/data/nicolaus2/mrizzo/crispy/code/OS5/OS5_test/OS5_average/offaxis.fits\n"
     ]
    },
    {
     "name": "stderr",
     "output_type": "stream",
     "text": [
      "INFO:crispy:Read data from HDU 1 of /local/data/nicolaus2/mrizzo/crispy/code/OS5/OS5_test/OS5_average/offaxis.fits\n"
     ]
    },
    {
     "name": "stdout",
     "output_type": "stream",
     "text": [
      "crispy - INFO - Writing data to OS5/OS5_test/OS5_detector/os5_spc_129_targetstar_IFS_detector.fits\n"
     ]
    },
    {
     "name": "stderr",
     "output_type": "stream",
     "text": [
      "INFO:crispy:Writing data to OS5/OS5_test/OS5_detector/os5_spc_129_targetstar_IFS_detector.fits\n"
     ]
    },
    {
     "name": "stdout",
     "output_type": "stream",
     "text": [
      "crispy - INFO - Apply noiseless detector readout on os5_spc_130_targetstar_IFS.fits\n"
     ]
    },
    {
     "name": "stderr",
     "output_type": "stream",
     "text": [
      "INFO:crispy:Apply noiseless detector readout on os5_spc_130_targetstar_IFS.fits\n"
     ]
    },
    {
     "name": "stdout",
     "output_type": "stream",
     "text": [
      "crispy - INFO - Read data from HDU 1 of OS5/OS5_test/os5_spc_130_targetstar_IFS.fits\n"
     ]
    },
    {
     "name": "stderr",
     "output_type": "stream",
     "text": [
      "INFO:crispy:Read data from HDU 1 of OS5/OS5_test/os5_spc_130_targetstar_IFS.fits\n"
     ]
    },
    {
     "name": "stdout",
     "output_type": "stream",
     "text": [
      "crispy - INFO - Read data from HDU 1 of /local/data/nicolaus2/mrizzo/crispy/code/OS5/OS5_test/OS5_average/offaxis.fits\n"
     ]
    },
    {
     "name": "stderr",
     "output_type": "stream",
     "text": [
      "INFO:crispy:Read data from HDU 1 of /local/data/nicolaus2/mrizzo/crispy/code/OS5/OS5_test/OS5_average/offaxis.fits\n"
     ]
    },
    {
     "name": "stdout",
     "output_type": "stream",
     "text": [
      "crispy - INFO - Writing data to OS5/OS5_test/OS5_detector/os5_spc_130_targetstar_IFS_detector.fits\n"
     ]
    },
    {
     "name": "stderr",
     "output_type": "stream",
     "text": [
      "INFO:crispy:Writing data to OS5/OS5_test/OS5_detector/os5_spc_130_targetstar_IFS_detector.fits\n"
     ]
    },
    {
     "name": "stdout",
     "output_type": "stream",
     "text": [
      "crispy - INFO - Taking averages\n"
     ]
    },
    {
     "name": "stderr",
     "output_type": "stream",
     "text": [
      "INFO:crispy:Taking averages\n"
     ]
    },
    {
     "name": "stdout",
     "output_type": "stream",
     "text": [
      "crispy - INFO - Read data from HDU 1 of OS5/OS5_test/OS5_detector/os5_spc_001_refstar_IFS_detector.fits\n"
     ]
    },
    {
     "name": "stderr",
     "output_type": "stream",
     "text": [
      "INFO:crispy:Read data from HDU 1 of OS5/OS5_test/OS5_detector/os5_spc_001_refstar_IFS_detector.fits\n"
     ]
    },
    {
     "name": "stdout",
     "output_type": "stream",
     "text": [
      "crispy - INFO - Read data from HDU 1 of OS5/OS5_test/OS5_detector/os5_spc_031_targetstar_IFS_detector.fits\n"
     ]
    },
    {
     "name": "stderr",
     "output_type": "stream",
     "text": [
      "INFO:crispy:Read data from HDU 1 of OS5/OS5_test/OS5_detector/os5_spc_031_targetstar_IFS_detector.fits\n"
     ]
    },
    {
     "name": "stdout",
     "output_type": "stream",
     "text": [
      "crispy - INFO - Read data from HDU 1 of OS5/OS5_test/OS5_detector/os5_spc_001_refstar_IFS_detector.fits\n"
     ]
    },
    {
     "name": "stderr",
     "output_type": "stream",
     "text": [
      "INFO:crispy:Read data from HDU 1 of OS5/OS5_test/OS5_detector/os5_spc_001_refstar_IFS_detector.fits\n"
     ]
    },
    {
     "name": "stdout",
     "output_type": "stream",
     "text": [
      "crispy - INFO - Read data from HDU 1 of OS5/OS5_test/OS5_detector/os5_spc_002_refstar_IFS_detector.fits\n"
     ]
    },
    {
     "name": "stderr",
     "output_type": "stream",
     "text": [
      "INFO:crispy:Read data from HDU 1 of OS5/OS5_test/OS5_detector/os5_spc_002_refstar_IFS_detector.fits\n"
     ]
    },
    {
     "name": "stdout",
     "output_type": "stream",
     "text": [
      "crispy - INFO - Read data from HDU 1 of OS5/OS5_test/OS5_detector/os5_spc_003_refstar_IFS_detector.fits\n"
     ]
    },
    {
     "name": "stderr",
     "output_type": "stream",
     "text": [
      "INFO:crispy:Read data from HDU 1 of OS5/OS5_test/OS5_detector/os5_spc_003_refstar_IFS_detector.fits\n"
     ]
    },
    {
     "name": "stdout",
     "output_type": "stream",
     "text": [
      "crispy - INFO - Read data from HDU 1 of OS5/OS5_test/OS5_detector/os5_spc_004_refstar_IFS_detector.fits\n"
     ]
    },
    {
     "name": "stderr",
     "output_type": "stream",
     "text": [
      "INFO:crispy:Read data from HDU 1 of OS5/OS5_test/OS5_detector/os5_spc_004_refstar_IFS_detector.fits\n"
     ]
    },
    {
     "name": "stdout",
     "output_type": "stream",
     "text": [
      "crispy - INFO - Read data from HDU 1 of OS5/OS5_test/OS5_detector/os5_spc_005_refstar_IFS_detector.fits\n"
     ]
    },
    {
     "name": "stderr",
     "output_type": "stream",
     "text": [
      "INFO:crispy:Read data from HDU 1 of OS5/OS5_test/OS5_detector/os5_spc_005_refstar_IFS_detector.fits\n"
     ]
    },
    {
     "name": "stdout",
     "output_type": "stream",
     "text": [
      "crispy - INFO - Read data from HDU 1 of OS5/OS5_test/OS5_detector/os5_spc_006_refstar_IFS_detector.fits\n"
     ]
    },
    {
     "name": "stderr",
     "output_type": "stream",
     "text": [
      "INFO:crispy:Read data from HDU 1 of OS5/OS5_test/OS5_detector/os5_spc_006_refstar_IFS_detector.fits\n"
     ]
    },
    {
     "name": "stdout",
     "output_type": "stream",
     "text": [
      "crispy - INFO - Read data from HDU 1 of OS5/OS5_test/OS5_detector/os5_spc_007_refstar_IFS_detector.fits\n"
     ]
    },
    {
     "name": "stderr",
     "output_type": "stream",
     "text": [
      "INFO:crispy:Read data from HDU 1 of OS5/OS5_test/OS5_detector/os5_spc_007_refstar_IFS_detector.fits\n"
     ]
    },
    {
     "name": "stdout",
     "output_type": "stream",
     "text": [
      "crispy - INFO - Read data from HDU 1 of OS5/OS5_test/OS5_detector/os5_spc_008_refstar_IFS_detector.fits\n"
     ]
    },
    {
     "name": "stderr",
     "output_type": "stream",
     "text": [
      "INFO:crispy:Read data from HDU 1 of OS5/OS5_test/OS5_detector/os5_spc_008_refstar_IFS_detector.fits\n"
     ]
    },
    {
     "name": "stdout",
     "output_type": "stream",
     "text": [
      "crispy - INFO - Read data from HDU 1 of OS5/OS5_test/OS5_detector/os5_spc_009_refstar_IFS_detector.fits\n"
     ]
    },
    {
     "name": "stderr",
     "output_type": "stream",
     "text": [
      "INFO:crispy:Read data from HDU 1 of OS5/OS5_test/OS5_detector/os5_spc_009_refstar_IFS_detector.fits\n"
     ]
    },
    {
     "name": "stdout",
     "output_type": "stream",
     "text": [
      "crispy - INFO - Read data from HDU 1 of OS5/OS5_test/OS5_detector/os5_spc_010_refstar_IFS_detector.fits\n"
     ]
    },
    {
     "name": "stderr",
     "output_type": "stream",
     "text": [
      "INFO:crispy:Read data from HDU 1 of OS5/OS5_test/OS5_detector/os5_spc_010_refstar_IFS_detector.fits\n"
     ]
    },
    {
     "name": "stdout",
     "output_type": "stream",
     "text": [
      "crispy - INFO - Read data from HDU 1 of OS5/OS5_test/OS5_detector/os5_spc_011_refstar_IFS_detector.fits\n"
     ]
    },
    {
     "name": "stderr",
     "output_type": "stream",
     "text": [
      "INFO:crispy:Read data from HDU 1 of OS5/OS5_test/OS5_detector/os5_spc_011_refstar_IFS_detector.fits\n"
     ]
    },
    {
     "name": "stdout",
     "output_type": "stream",
     "text": [
      "crispy - INFO - Read data from HDU 1 of OS5/OS5_test/OS5_detector/os5_spc_012_refstar_IFS_detector.fits\n"
     ]
    },
    {
     "name": "stderr",
     "output_type": "stream",
     "text": [
      "INFO:crispy:Read data from HDU 1 of OS5/OS5_test/OS5_detector/os5_spc_012_refstar_IFS_detector.fits\n"
     ]
    },
    {
     "name": "stdout",
     "output_type": "stream",
     "text": [
      "crispy - INFO - Read data from HDU 1 of OS5/OS5_test/OS5_detector/os5_spc_013_refstar_IFS_detector.fits\n"
     ]
    },
    {
     "name": "stderr",
     "output_type": "stream",
     "text": [
      "INFO:crispy:Read data from HDU 1 of OS5/OS5_test/OS5_detector/os5_spc_013_refstar_IFS_detector.fits\n"
     ]
    },
    {
     "name": "stdout",
     "output_type": "stream",
     "text": [
      "crispy - INFO - Read data from HDU 1 of OS5/OS5_test/OS5_detector/os5_spc_014_refstar_IFS_detector.fits\n"
     ]
    },
    {
     "name": "stderr",
     "output_type": "stream",
     "text": [
      "INFO:crispy:Read data from HDU 1 of OS5/OS5_test/OS5_detector/os5_spc_014_refstar_IFS_detector.fits\n"
     ]
    },
    {
     "name": "stdout",
     "output_type": "stream",
     "text": [
      "crispy - INFO - Read data from HDU 1 of OS5/OS5_test/OS5_detector/os5_spc_015_refstar_IFS_detector.fits\n"
     ]
    },
    {
     "name": "stderr",
     "output_type": "stream",
     "text": [
      "INFO:crispy:Read data from HDU 1 of OS5/OS5_test/OS5_detector/os5_spc_015_refstar_IFS_detector.fits\n"
     ]
    },
    {
     "name": "stdout",
     "output_type": "stream",
     "text": [
      "crispy - INFO - Read data from HDU 1 of OS5/OS5_test/OS5_detector/os5_spc_016_refstar_IFS_detector.fits\n"
     ]
    },
    {
     "name": "stderr",
     "output_type": "stream",
     "text": [
      "INFO:crispy:Read data from HDU 1 of OS5/OS5_test/OS5_detector/os5_spc_016_refstar_IFS_detector.fits\n"
     ]
    },
    {
     "name": "stdout",
     "output_type": "stream",
     "text": [
      "crispy - INFO - Read data from HDU 1 of OS5/OS5_test/OS5_detector/os5_spc_017_refstar_IFS_detector.fits\n"
     ]
    },
    {
     "name": "stderr",
     "output_type": "stream",
     "text": [
      "INFO:crispy:Read data from HDU 1 of OS5/OS5_test/OS5_detector/os5_spc_017_refstar_IFS_detector.fits\n"
     ]
    },
    {
     "name": "stdout",
     "output_type": "stream",
     "text": [
      "crispy - INFO - Read data from HDU 1 of OS5/OS5_test/OS5_detector/os5_spc_018_refstar_IFS_detector.fits\n"
     ]
    },
    {
     "name": "stderr",
     "output_type": "stream",
     "text": [
      "INFO:crispy:Read data from HDU 1 of OS5/OS5_test/OS5_detector/os5_spc_018_refstar_IFS_detector.fits\n"
     ]
    },
    {
     "name": "stdout",
     "output_type": "stream",
     "text": [
      "crispy - INFO - Read data from HDU 1 of OS5/OS5_test/OS5_detector/os5_spc_019_refstar_IFS_detector.fits\n"
     ]
    },
    {
     "name": "stderr",
     "output_type": "stream",
     "text": [
      "INFO:crispy:Read data from HDU 1 of OS5/OS5_test/OS5_detector/os5_spc_019_refstar_IFS_detector.fits\n"
     ]
    },
    {
     "name": "stdout",
     "output_type": "stream",
     "text": [
      "crispy - INFO - Read data from HDU 1 of OS5/OS5_test/OS5_detector/os5_spc_020_refstar_IFS_detector.fits\n"
     ]
    },
    {
     "name": "stderr",
     "output_type": "stream",
     "text": [
      "INFO:crispy:Read data from HDU 1 of OS5/OS5_test/OS5_detector/os5_spc_020_refstar_IFS_detector.fits\n"
     ]
    },
    {
     "name": "stdout",
     "output_type": "stream",
     "text": [
      "crispy - INFO - Read data from HDU 1 of OS5/OS5_test/OS5_detector/os5_spc_021_refstar_IFS_detector.fits\n"
     ]
    },
    {
     "name": "stderr",
     "output_type": "stream",
     "text": [
      "INFO:crispy:Read data from HDU 1 of OS5/OS5_test/OS5_detector/os5_spc_021_refstar_IFS_detector.fits\n"
     ]
    },
    {
     "name": "stdout",
     "output_type": "stream",
     "text": [
      "crispy - INFO - Read data from HDU 1 of OS5/OS5_test/OS5_detector/os5_spc_022_refstar_IFS_detector.fits\n"
     ]
    },
    {
     "name": "stderr",
     "output_type": "stream",
     "text": [
      "INFO:crispy:Read data from HDU 1 of OS5/OS5_test/OS5_detector/os5_spc_022_refstar_IFS_detector.fits\n"
     ]
    },
    {
     "name": "stdout",
     "output_type": "stream",
     "text": [
      "crispy - INFO - Read data from HDU 1 of OS5/OS5_test/OS5_detector/os5_spc_023_refstar_IFS_detector.fits\n"
     ]
    },
    {
     "name": "stderr",
     "output_type": "stream",
     "text": [
      "INFO:crispy:Read data from HDU 1 of OS5/OS5_test/OS5_detector/os5_spc_023_refstar_IFS_detector.fits\n"
     ]
    },
    {
     "name": "stdout",
     "output_type": "stream",
     "text": [
      "crispy - INFO - Read data from HDU 1 of OS5/OS5_test/OS5_detector/os5_spc_024_refstar_IFS_detector.fits\n"
     ]
    },
    {
     "name": "stderr",
     "output_type": "stream",
     "text": [
      "INFO:crispy:Read data from HDU 1 of OS5/OS5_test/OS5_detector/os5_spc_024_refstar_IFS_detector.fits\n"
     ]
    },
    {
     "name": "stdout",
     "output_type": "stream",
     "text": [
      "crispy - INFO - Read data from HDU 1 of OS5/OS5_test/OS5_detector/os5_spc_025_refstar_IFS_detector.fits\n"
     ]
    },
    {
     "name": "stderr",
     "output_type": "stream",
     "text": [
      "INFO:crispy:Read data from HDU 1 of OS5/OS5_test/OS5_detector/os5_spc_025_refstar_IFS_detector.fits\n"
     ]
    },
    {
     "name": "stdout",
     "output_type": "stream",
     "text": [
      "crispy - INFO - Read data from HDU 1 of OS5/OS5_test/OS5_detector/os5_spc_026_refstar_IFS_detector.fits\n"
     ]
    },
    {
     "name": "stderr",
     "output_type": "stream",
     "text": [
      "INFO:crispy:Read data from HDU 1 of OS5/OS5_test/OS5_detector/os5_spc_026_refstar_IFS_detector.fits\n"
     ]
    },
    {
     "name": "stdout",
     "output_type": "stream",
     "text": [
      "crispy - INFO - Read data from HDU 1 of OS5/OS5_test/OS5_detector/os5_spc_027_refstar_IFS_detector.fits\n"
     ]
    },
    {
     "name": "stderr",
     "output_type": "stream",
     "text": [
      "INFO:crispy:Read data from HDU 1 of OS5/OS5_test/OS5_detector/os5_spc_027_refstar_IFS_detector.fits\n"
     ]
    },
    {
     "name": "stdout",
     "output_type": "stream",
     "text": [
      "crispy - INFO - Read data from HDU 1 of OS5/OS5_test/OS5_detector/os5_spc_028_refstar_IFS_detector.fits\n"
     ]
    },
    {
     "name": "stderr",
     "output_type": "stream",
     "text": [
      "INFO:crispy:Read data from HDU 1 of OS5/OS5_test/OS5_detector/os5_spc_028_refstar_IFS_detector.fits\n"
     ]
    },
    {
     "name": "stdout",
     "output_type": "stream",
     "text": [
      "crispy - INFO - Read data from HDU 1 of OS5/OS5_test/OS5_detector/os5_spc_029_refstar_IFS_detector.fits\n"
     ]
    },
    {
     "name": "stderr",
     "output_type": "stream",
     "text": [
      "INFO:crispy:Read data from HDU 1 of OS5/OS5_test/OS5_detector/os5_spc_029_refstar_IFS_detector.fits\n"
     ]
    },
    {
     "name": "stdout",
     "output_type": "stream",
     "text": [
      "crispy - INFO - Read data from HDU 1 of OS5/OS5_test/OS5_detector/os5_spc_030_refstar_IFS_detector.fits\n"
     ]
    },
    {
     "name": "stderr",
     "output_type": "stream",
     "text": [
      "INFO:crispy:Read data from HDU 1 of OS5/OS5_test/OS5_detector/os5_spc_030_refstar_IFS_detector.fits\n"
     ]
    },
    {
     "name": "stdout",
     "output_type": "stream",
     "text": [
      "crispy - INFO - Read data from HDU 1 of OS5/OS5_test/OS5_detector/os5_spc_031_targetstar_IFS_detector.fits\n"
     ]
    },
    {
     "name": "stderr",
     "output_type": "stream",
     "text": [
      "INFO:crispy:Read data from HDU 1 of OS5/OS5_test/OS5_detector/os5_spc_031_targetstar_IFS_detector.fits\n"
     ]
    },
    {
     "name": "stdout",
     "output_type": "stream",
     "text": [
      "crispy - INFO - Read data from HDU 1 of OS5/OS5_test/OS5_detector/os5_spc_032_targetstar_IFS_detector.fits\n"
     ]
    },
    {
     "name": "stderr",
     "output_type": "stream",
     "text": [
      "INFO:crispy:Read data from HDU 1 of OS5/OS5_test/OS5_detector/os5_spc_032_targetstar_IFS_detector.fits\n"
     ]
    },
    {
     "name": "stdout",
     "output_type": "stream",
     "text": [
      "crispy - INFO - Read data from HDU 1 of OS5/OS5_test/OS5_detector/os5_spc_033_targetstar_IFS_detector.fits\n"
     ]
    },
    {
     "name": "stderr",
     "output_type": "stream",
     "text": [
      "INFO:crispy:Read data from HDU 1 of OS5/OS5_test/OS5_detector/os5_spc_033_targetstar_IFS_detector.fits\n"
     ]
    },
    {
     "name": "stdout",
     "output_type": "stream",
     "text": [
      "crispy - INFO - Read data from HDU 1 of OS5/OS5_test/OS5_detector/os5_spc_034_targetstar_IFS_detector.fits\n"
     ]
    },
    {
     "name": "stderr",
     "output_type": "stream",
     "text": [
      "INFO:crispy:Read data from HDU 1 of OS5/OS5_test/OS5_detector/os5_spc_034_targetstar_IFS_detector.fits\n"
     ]
    },
    {
     "name": "stdout",
     "output_type": "stream",
     "text": [
      "crispy - INFO - Read data from HDU 1 of OS5/OS5_test/OS5_detector/os5_spc_035_targetstar_IFS_detector.fits\n"
     ]
    },
    {
     "name": "stderr",
     "output_type": "stream",
     "text": [
      "INFO:crispy:Read data from HDU 1 of OS5/OS5_test/OS5_detector/os5_spc_035_targetstar_IFS_detector.fits\n"
     ]
    },
    {
     "name": "stdout",
     "output_type": "stream",
     "text": [
      "crispy - INFO - Read data from HDU 1 of OS5/OS5_test/OS5_detector/os5_spc_036_targetstar_IFS_detector.fits\n"
     ]
    },
    {
     "name": "stderr",
     "output_type": "stream",
     "text": [
      "INFO:crispy:Read data from HDU 1 of OS5/OS5_test/OS5_detector/os5_spc_036_targetstar_IFS_detector.fits\n"
     ]
    },
    {
     "name": "stdout",
     "output_type": "stream",
     "text": [
      "crispy - INFO - Read data from HDU 1 of OS5/OS5_test/OS5_detector/os5_spc_037_targetstar_IFS_detector.fits\n"
     ]
    },
    {
     "name": "stderr",
     "output_type": "stream",
     "text": [
      "INFO:crispy:Read data from HDU 1 of OS5/OS5_test/OS5_detector/os5_spc_037_targetstar_IFS_detector.fits\n"
     ]
    },
    {
     "name": "stdout",
     "output_type": "stream",
     "text": [
      "crispy - INFO - Read data from HDU 1 of OS5/OS5_test/OS5_detector/os5_spc_038_targetstar_IFS_detector.fits\n"
     ]
    },
    {
     "name": "stderr",
     "output_type": "stream",
     "text": [
      "INFO:crispy:Read data from HDU 1 of OS5/OS5_test/OS5_detector/os5_spc_038_targetstar_IFS_detector.fits\n"
     ]
    },
    {
     "name": "stdout",
     "output_type": "stream",
     "text": [
      "crispy - INFO - Read data from HDU 1 of OS5/OS5_test/OS5_detector/os5_spc_039_targetstar_IFS_detector.fits\n"
     ]
    },
    {
     "name": "stderr",
     "output_type": "stream",
     "text": [
      "INFO:crispy:Read data from HDU 1 of OS5/OS5_test/OS5_detector/os5_spc_039_targetstar_IFS_detector.fits\n"
     ]
    },
    {
     "name": "stdout",
     "output_type": "stream",
     "text": [
      "crispy - INFO - Read data from HDU 1 of OS5/OS5_test/OS5_detector/os5_spc_040_targetstar_IFS_detector.fits\n"
     ]
    },
    {
     "name": "stderr",
     "output_type": "stream",
     "text": [
      "INFO:crispy:Read data from HDU 1 of OS5/OS5_test/OS5_detector/os5_spc_040_targetstar_IFS_detector.fits\n"
     ]
    },
    {
     "name": "stdout",
     "output_type": "stream",
     "text": [
      "crispy - INFO - Read data from HDU 1 of OS5/OS5_test/OS5_detector/os5_spc_041_targetstar_IFS_detector.fits\n"
     ]
    },
    {
     "name": "stderr",
     "output_type": "stream",
     "text": [
      "INFO:crispy:Read data from HDU 1 of OS5/OS5_test/OS5_detector/os5_spc_041_targetstar_IFS_detector.fits\n"
     ]
    },
    {
     "name": "stdout",
     "output_type": "stream",
     "text": [
      "crispy - INFO - Read data from HDU 1 of OS5/OS5_test/OS5_detector/os5_spc_042_targetstar_IFS_detector.fits\n"
     ]
    },
    {
     "name": "stderr",
     "output_type": "stream",
     "text": [
      "INFO:crispy:Read data from HDU 1 of OS5/OS5_test/OS5_detector/os5_spc_042_targetstar_IFS_detector.fits\n"
     ]
    },
    {
     "name": "stdout",
     "output_type": "stream",
     "text": [
      "crispy - INFO - Read data from HDU 1 of OS5/OS5_test/OS5_detector/os5_spc_043_targetstar_IFS_detector.fits\n"
     ]
    },
    {
     "name": "stderr",
     "output_type": "stream",
     "text": [
      "INFO:crispy:Read data from HDU 1 of OS5/OS5_test/OS5_detector/os5_spc_043_targetstar_IFS_detector.fits\n"
     ]
    },
    {
     "name": "stdout",
     "output_type": "stream",
     "text": [
      "crispy - INFO - Read data from HDU 1 of OS5/OS5_test/OS5_detector/os5_spc_044_targetstar_IFS_detector.fits\n"
     ]
    },
    {
     "name": "stderr",
     "output_type": "stream",
     "text": [
      "INFO:crispy:Read data from HDU 1 of OS5/OS5_test/OS5_detector/os5_spc_044_targetstar_IFS_detector.fits\n"
     ]
    },
    {
     "name": "stdout",
     "output_type": "stream",
     "text": [
      "crispy - INFO - Read data from HDU 1 of OS5/OS5_test/OS5_detector/os5_spc_045_targetstar_IFS_detector.fits\n"
     ]
    },
    {
     "name": "stderr",
     "output_type": "stream",
     "text": [
      "INFO:crispy:Read data from HDU 1 of OS5/OS5_test/OS5_detector/os5_spc_045_targetstar_IFS_detector.fits\n"
     ]
    },
    {
     "name": "stdout",
     "output_type": "stream",
     "text": [
      "crispy - INFO - Read data from HDU 1 of OS5/OS5_test/OS5_detector/os5_spc_046_targetstar_IFS_detector.fits\n"
     ]
    },
    {
     "name": "stderr",
     "output_type": "stream",
     "text": [
      "INFO:crispy:Read data from HDU 1 of OS5/OS5_test/OS5_detector/os5_spc_046_targetstar_IFS_detector.fits\n"
     ]
    },
    {
     "name": "stdout",
     "output_type": "stream",
     "text": [
      "crispy - INFO - Read data from HDU 1 of OS5/OS5_test/OS5_detector/os5_spc_047_targetstar_IFS_detector.fits\n"
     ]
    },
    {
     "name": "stderr",
     "output_type": "stream",
     "text": [
      "INFO:crispy:Read data from HDU 1 of OS5/OS5_test/OS5_detector/os5_spc_047_targetstar_IFS_detector.fits\n"
     ]
    },
    {
     "name": "stdout",
     "output_type": "stream",
     "text": [
      "crispy - INFO - Read data from HDU 1 of OS5/OS5_test/OS5_detector/os5_spc_048_targetstar_IFS_detector.fits\n"
     ]
    },
    {
     "name": "stderr",
     "output_type": "stream",
     "text": [
      "INFO:crispy:Read data from HDU 1 of OS5/OS5_test/OS5_detector/os5_spc_048_targetstar_IFS_detector.fits\n"
     ]
    },
    {
     "name": "stdout",
     "output_type": "stream",
     "text": [
      "crispy - INFO - Read data from HDU 1 of OS5/OS5_test/OS5_detector/os5_spc_049_targetstar_IFS_detector.fits\n"
     ]
    },
    {
     "name": "stderr",
     "output_type": "stream",
     "text": [
      "INFO:crispy:Read data from HDU 1 of OS5/OS5_test/OS5_detector/os5_spc_049_targetstar_IFS_detector.fits\n"
     ]
    },
    {
     "name": "stdout",
     "output_type": "stream",
     "text": [
      "crispy - INFO - Read data from HDU 1 of OS5/OS5_test/OS5_detector/os5_spc_050_targetstar_IFS_detector.fits\n"
     ]
    },
    {
     "name": "stderr",
     "output_type": "stream",
     "text": [
      "INFO:crispy:Read data from HDU 1 of OS5/OS5_test/OS5_detector/os5_spc_050_targetstar_IFS_detector.fits\n"
     ]
    },
    {
     "name": "stdout",
     "output_type": "stream",
     "text": [
      "crispy - INFO - Read data from HDU 1 of OS5/OS5_test/OS5_detector/os5_spc_051_targetstar_IFS_detector.fits\n"
     ]
    },
    {
     "name": "stderr",
     "output_type": "stream",
     "text": [
      "INFO:crispy:Read data from HDU 1 of OS5/OS5_test/OS5_detector/os5_spc_051_targetstar_IFS_detector.fits\n"
     ]
    },
    {
     "name": "stdout",
     "output_type": "stream",
     "text": [
      "crispy - INFO - Read data from HDU 1 of OS5/OS5_test/OS5_detector/os5_spc_052_targetstar_IFS_detector.fits\n"
     ]
    },
    {
     "name": "stderr",
     "output_type": "stream",
     "text": [
      "INFO:crispy:Read data from HDU 1 of OS5/OS5_test/OS5_detector/os5_spc_052_targetstar_IFS_detector.fits\n"
     ]
    },
    {
     "name": "stdout",
     "output_type": "stream",
     "text": [
      "crispy - INFO - Read data from HDU 1 of OS5/OS5_test/OS5_detector/os5_spc_053_targetstar_IFS_detector.fits\n"
     ]
    },
    {
     "name": "stderr",
     "output_type": "stream",
     "text": [
      "INFO:crispy:Read data from HDU 1 of OS5/OS5_test/OS5_detector/os5_spc_053_targetstar_IFS_detector.fits\n"
     ]
    },
    {
     "name": "stdout",
     "output_type": "stream",
     "text": [
      "crispy - INFO - Read data from HDU 1 of OS5/OS5_test/OS5_detector/os5_spc_054_targetstar_IFS_detector.fits\n"
     ]
    },
    {
     "name": "stderr",
     "output_type": "stream",
     "text": [
      "INFO:crispy:Read data from HDU 1 of OS5/OS5_test/OS5_detector/os5_spc_054_targetstar_IFS_detector.fits\n"
     ]
    },
    {
     "name": "stdout",
     "output_type": "stream",
     "text": [
      "crispy - INFO - Read data from HDU 1 of OS5/OS5_test/OS5_detector/os5_spc_055_targetstar_IFS_detector.fits\n"
     ]
    },
    {
     "name": "stderr",
     "output_type": "stream",
     "text": [
      "INFO:crispy:Read data from HDU 1 of OS5/OS5_test/OS5_detector/os5_spc_055_targetstar_IFS_detector.fits\n"
     ]
    },
    {
     "name": "stdout",
     "output_type": "stream",
     "text": [
      "crispy - INFO - Read data from HDU 1 of OS5/OS5_test/OS5_detector/os5_spc_056_targetstar_IFS_detector.fits\n"
     ]
    },
    {
     "name": "stderr",
     "output_type": "stream",
     "text": [
      "INFO:crispy:Read data from HDU 1 of OS5/OS5_test/OS5_detector/os5_spc_056_targetstar_IFS_detector.fits\n"
     ]
    },
    {
     "name": "stdout",
     "output_type": "stream",
     "text": [
      "crispy - INFO - Read data from HDU 1 of OS5/OS5_test/OS5_detector/os5_spc_057_targetstar_IFS_detector.fits\n"
     ]
    },
    {
     "name": "stderr",
     "output_type": "stream",
     "text": [
      "INFO:crispy:Read data from HDU 1 of OS5/OS5_test/OS5_detector/os5_spc_057_targetstar_IFS_detector.fits\n"
     ]
    },
    {
     "name": "stdout",
     "output_type": "stream",
     "text": [
      "crispy - INFO - Read data from HDU 1 of OS5/OS5_test/OS5_detector/os5_spc_058_targetstar_IFS_detector.fits\n"
     ]
    },
    {
     "name": "stderr",
     "output_type": "stream",
     "text": [
      "INFO:crispy:Read data from HDU 1 of OS5/OS5_test/OS5_detector/os5_spc_058_targetstar_IFS_detector.fits\n"
     ]
    },
    {
     "name": "stdout",
     "output_type": "stream",
     "text": [
      "crispy - INFO - Read data from HDU 1 of OS5/OS5_test/OS5_detector/os5_spc_059_targetstar_IFS_detector.fits\n"
     ]
    },
    {
     "name": "stderr",
     "output_type": "stream",
     "text": [
      "INFO:crispy:Read data from HDU 1 of OS5/OS5_test/OS5_detector/os5_spc_059_targetstar_IFS_detector.fits\n"
     ]
    },
    {
     "name": "stdout",
     "output_type": "stream",
     "text": [
      "crispy - INFO - Read data from HDU 1 of OS5/OS5_test/OS5_detector/os5_spc_060_targetstar_IFS_detector.fits\n"
     ]
    },
    {
     "name": "stderr",
     "output_type": "stream",
     "text": [
      "INFO:crispy:Read data from HDU 1 of OS5/OS5_test/OS5_detector/os5_spc_060_targetstar_IFS_detector.fits\n"
     ]
    },
    {
     "name": "stdout",
     "output_type": "stream",
     "text": [
      "crispy - INFO - Read data from HDU 1 of OS5/OS5_test/OS5_detector/os5_spc_061_targetstar_IFS_detector.fits\n"
     ]
    },
    {
     "name": "stderr",
     "output_type": "stream",
     "text": [
      "INFO:crispy:Read data from HDU 1 of OS5/OS5_test/OS5_detector/os5_spc_061_targetstar_IFS_detector.fits\n"
     ]
    },
    {
     "name": "stdout",
     "output_type": "stream",
     "text": [
      "crispy - INFO - Read data from HDU 1 of OS5/OS5_test/OS5_detector/os5_spc_062_targetstar_IFS_detector.fits\n"
     ]
    },
    {
     "name": "stderr",
     "output_type": "stream",
     "text": [
      "INFO:crispy:Read data from HDU 1 of OS5/OS5_test/OS5_detector/os5_spc_062_targetstar_IFS_detector.fits\n"
     ]
    },
    {
     "name": "stdout",
     "output_type": "stream",
     "text": [
      "crispy - INFO - Read data from HDU 1 of OS5/OS5_test/OS5_detector/os5_spc_063_targetstar_IFS_detector.fits\n"
     ]
    },
    {
     "name": "stderr",
     "output_type": "stream",
     "text": [
      "INFO:crispy:Read data from HDU 1 of OS5/OS5_test/OS5_detector/os5_spc_063_targetstar_IFS_detector.fits\n"
     ]
    },
    {
     "name": "stdout",
     "output_type": "stream",
     "text": [
      "crispy - INFO - Read data from HDU 1 of OS5/OS5_test/OS5_detector/os5_spc_064_targetstar_IFS_detector.fits\n"
     ]
    },
    {
     "name": "stderr",
     "output_type": "stream",
     "text": [
      "INFO:crispy:Read data from HDU 1 of OS5/OS5_test/OS5_detector/os5_spc_064_targetstar_IFS_detector.fits\n"
     ]
    },
    {
     "name": "stdout",
     "output_type": "stream",
     "text": [
      "crispy - INFO - Read data from HDU 1 of OS5/OS5_test/OS5_detector/os5_spc_065_targetstar_IFS_detector.fits\n"
     ]
    },
    {
     "name": "stderr",
     "output_type": "stream",
     "text": [
      "INFO:crispy:Read data from HDU 1 of OS5/OS5_test/OS5_detector/os5_spc_065_targetstar_IFS_detector.fits\n"
     ]
    },
    {
     "name": "stdout",
     "output_type": "stream",
     "text": [
      "crispy - INFO - Read data from HDU 1 of OS5/OS5_test/OS5_detector/os5_spc_066_targetstar_IFS_detector.fits\n"
     ]
    },
    {
     "name": "stderr",
     "output_type": "stream",
     "text": [
      "INFO:crispy:Read data from HDU 1 of OS5/OS5_test/OS5_detector/os5_spc_066_targetstar_IFS_detector.fits\n"
     ]
    },
    {
     "name": "stdout",
     "output_type": "stream",
     "text": [
      "crispy - INFO - Read data from HDU 1 of OS5/OS5_test/OS5_detector/os5_spc_067_targetstar_IFS_detector.fits\n"
     ]
    },
    {
     "name": "stderr",
     "output_type": "stream",
     "text": [
      "INFO:crispy:Read data from HDU 1 of OS5/OS5_test/OS5_detector/os5_spc_067_targetstar_IFS_detector.fits\n"
     ]
    },
    {
     "name": "stdout",
     "output_type": "stream",
     "text": [
      "crispy - INFO - Read data from HDU 1 of OS5/OS5_test/OS5_detector/os5_spc_068_targetstar_IFS_detector.fits\n"
     ]
    },
    {
     "name": "stderr",
     "output_type": "stream",
     "text": [
      "INFO:crispy:Read data from HDU 1 of OS5/OS5_test/OS5_detector/os5_spc_068_targetstar_IFS_detector.fits\n"
     ]
    },
    {
     "name": "stdout",
     "output_type": "stream",
     "text": [
      "crispy - INFO - Read data from HDU 1 of OS5/OS5_test/OS5_detector/os5_spc_069_targetstar_IFS_detector.fits\n"
     ]
    },
    {
     "name": "stderr",
     "output_type": "stream",
     "text": [
      "INFO:crispy:Read data from HDU 1 of OS5/OS5_test/OS5_detector/os5_spc_069_targetstar_IFS_detector.fits\n"
     ]
    },
    {
     "name": "stdout",
     "output_type": "stream",
     "text": [
      "crispy - INFO - Read data from HDU 1 of OS5/OS5_test/OS5_detector/os5_spc_070_targetstar_IFS_detector.fits\n"
     ]
    },
    {
     "name": "stderr",
     "output_type": "stream",
     "text": [
      "INFO:crispy:Read data from HDU 1 of OS5/OS5_test/OS5_detector/os5_spc_070_targetstar_IFS_detector.fits\n"
     ]
    },
    {
     "name": "stdout",
     "output_type": "stream",
     "text": [
      "crispy - INFO - Read data from HDU 1 of OS5/OS5_test/OS5_detector/os5_spc_071_targetstar_IFS_detector.fits\n"
     ]
    },
    {
     "name": "stderr",
     "output_type": "stream",
     "text": [
      "INFO:crispy:Read data from HDU 1 of OS5/OS5_test/OS5_detector/os5_spc_071_targetstar_IFS_detector.fits\n"
     ]
    },
    {
     "name": "stdout",
     "output_type": "stream",
     "text": [
      "crispy - INFO - Read data from HDU 1 of OS5/OS5_test/OS5_detector/os5_spc_072_targetstar_IFS_detector.fits\n"
     ]
    },
    {
     "name": "stderr",
     "output_type": "stream",
     "text": [
      "INFO:crispy:Read data from HDU 1 of OS5/OS5_test/OS5_detector/os5_spc_072_targetstar_IFS_detector.fits\n"
     ]
    },
    {
     "name": "stdout",
     "output_type": "stream",
     "text": [
      "crispy - INFO - Read data from HDU 1 of OS5/OS5_test/OS5_detector/os5_spc_073_targetstar_IFS_detector.fits\n"
     ]
    },
    {
     "name": "stderr",
     "output_type": "stream",
     "text": [
      "INFO:crispy:Read data from HDU 1 of OS5/OS5_test/OS5_detector/os5_spc_073_targetstar_IFS_detector.fits\n"
     ]
    },
    {
     "name": "stdout",
     "output_type": "stream",
     "text": [
      "crispy - INFO - Read data from HDU 1 of OS5/OS5_test/OS5_detector/os5_spc_074_targetstar_IFS_detector.fits\n"
     ]
    },
    {
     "name": "stderr",
     "output_type": "stream",
     "text": [
      "INFO:crispy:Read data from HDU 1 of OS5/OS5_test/OS5_detector/os5_spc_074_targetstar_IFS_detector.fits\n"
     ]
    },
    {
     "name": "stdout",
     "output_type": "stream",
     "text": [
      "crispy - INFO - Read data from HDU 1 of OS5/OS5_test/OS5_detector/os5_spc_075_targetstar_IFS_detector.fits\n"
     ]
    },
    {
     "name": "stderr",
     "output_type": "stream",
     "text": [
      "INFO:crispy:Read data from HDU 1 of OS5/OS5_test/OS5_detector/os5_spc_075_targetstar_IFS_detector.fits\n"
     ]
    },
    {
     "name": "stdout",
     "output_type": "stream",
     "text": [
      "crispy - INFO - Read data from HDU 1 of OS5/OS5_test/OS5_detector/os5_spc_076_targetstar_IFS_detector.fits\n"
     ]
    },
    {
     "name": "stderr",
     "output_type": "stream",
     "text": [
      "INFO:crispy:Read data from HDU 1 of OS5/OS5_test/OS5_detector/os5_spc_076_targetstar_IFS_detector.fits\n"
     ]
    },
    {
     "name": "stdout",
     "output_type": "stream",
     "text": [
      "crispy - INFO - Read data from HDU 1 of OS5/OS5_test/OS5_detector/os5_spc_077_targetstar_IFS_detector.fits\n"
     ]
    },
    {
     "name": "stderr",
     "output_type": "stream",
     "text": [
      "INFO:crispy:Read data from HDU 1 of OS5/OS5_test/OS5_detector/os5_spc_077_targetstar_IFS_detector.fits\n"
     ]
    },
    {
     "name": "stdout",
     "output_type": "stream",
     "text": [
      "crispy - INFO - Read data from HDU 1 of OS5/OS5_test/OS5_detector/os5_spc_078_targetstar_IFS_detector.fits\n"
     ]
    },
    {
     "name": "stderr",
     "output_type": "stream",
     "text": [
      "INFO:crispy:Read data from HDU 1 of OS5/OS5_test/OS5_detector/os5_spc_078_targetstar_IFS_detector.fits\n"
     ]
    },
    {
     "name": "stdout",
     "output_type": "stream",
     "text": [
      "crispy - INFO - Read data from HDU 1 of OS5/OS5_test/OS5_detector/os5_spc_079_targetstar_IFS_detector.fits\n"
     ]
    },
    {
     "name": "stderr",
     "output_type": "stream",
     "text": [
      "INFO:crispy:Read data from HDU 1 of OS5/OS5_test/OS5_detector/os5_spc_079_targetstar_IFS_detector.fits\n"
     ]
    },
    {
     "name": "stdout",
     "output_type": "stream",
     "text": [
      "crispy - INFO - Read data from HDU 1 of OS5/OS5_test/OS5_detector/os5_spc_080_targetstar_IFS_detector.fits\n"
     ]
    },
    {
     "name": "stderr",
     "output_type": "stream",
     "text": [
      "INFO:crispy:Read data from HDU 1 of OS5/OS5_test/OS5_detector/os5_spc_080_targetstar_IFS_detector.fits\n"
     ]
    },
    {
     "name": "stdout",
     "output_type": "stream",
     "text": [
      "crispy - INFO - Read data from HDU 1 of OS5/OS5_test/OS5_detector/os5_spc_081_targetstar_IFS_detector.fits\n"
     ]
    },
    {
     "name": "stderr",
     "output_type": "stream",
     "text": [
      "INFO:crispy:Read data from HDU 1 of OS5/OS5_test/OS5_detector/os5_spc_081_targetstar_IFS_detector.fits\n"
     ]
    },
    {
     "name": "stdout",
     "output_type": "stream",
     "text": [
      "crispy - INFO - Read data from HDU 1 of OS5/OS5_test/OS5_detector/os5_spc_082_targetstar_IFS_detector.fits\n"
     ]
    },
    {
     "name": "stderr",
     "output_type": "stream",
     "text": [
      "INFO:crispy:Read data from HDU 1 of OS5/OS5_test/OS5_detector/os5_spc_082_targetstar_IFS_detector.fits\n"
     ]
    },
    {
     "name": "stdout",
     "output_type": "stream",
     "text": [
      "crispy - INFO - Read data from HDU 1 of OS5/OS5_test/OS5_detector/os5_spc_083_targetstar_IFS_detector.fits\n"
     ]
    },
    {
     "name": "stderr",
     "output_type": "stream",
     "text": [
      "INFO:crispy:Read data from HDU 1 of OS5/OS5_test/OS5_detector/os5_spc_083_targetstar_IFS_detector.fits\n"
     ]
    },
    {
     "name": "stdout",
     "output_type": "stream",
     "text": [
      "crispy - INFO - Read data from HDU 1 of OS5/OS5_test/OS5_detector/os5_spc_084_targetstar_IFS_detector.fits\n"
     ]
    },
    {
     "name": "stderr",
     "output_type": "stream",
     "text": [
      "INFO:crispy:Read data from HDU 1 of OS5/OS5_test/OS5_detector/os5_spc_084_targetstar_IFS_detector.fits\n"
     ]
    },
    {
     "name": "stdout",
     "output_type": "stream",
     "text": [
      "crispy - INFO - Read data from HDU 1 of OS5/OS5_test/OS5_detector/os5_spc_085_targetstar_IFS_detector.fits\n"
     ]
    },
    {
     "name": "stderr",
     "output_type": "stream",
     "text": [
      "INFO:crispy:Read data from HDU 1 of OS5/OS5_test/OS5_detector/os5_spc_085_targetstar_IFS_detector.fits\n"
     ]
    },
    {
     "name": "stdout",
     "output_type": "stream",
     "text": [
      "crispy - INFO - Read data from HDU 1 of OS5/OS5_test/OS5_detector/os5_spc_086_targetstar_IFS_detector.fits\n"
     ]
    },
    {
     "name": "stderr",
     "output_type": "stream",
     "text": [
      "INFO:crispy:Read data from HDU 1 of OS5/OS5_test/OS5_detector/os5_spc_086_targetstar_IFS_detector.fits\n"
     ]
    },
    {
     "name": "stdout",
     "output_type": "stream",
     "text": [
      "crispy - INFO - Read data from HDU 1 of OS5/OS5_test/OS5_detector/os5_spc_087_targetstar_IFS_detector.fits\n"
     ]
    },
    {
     "name": "stderr",
     "output_type": "stream",
     "text": [
      "INFO:crispy:Read data from HDU 1 of OS5/OS5_test/OS5_detector/os5_spc_087_targetstar_IFS_detector.fits\n"
     ]
    },
    {
     "name": "stdout",
     "output_type": "stream",
     "text": [
      "crispy - INFO - Read data from HDU 1 of OS5/OS5_test/OS5_detector/os5_spc_088_targetstar_IFS_detector.fits\n"
     ]
    },
    {
     "name": "stderr",
     "output_type": "stream",
     "text": [
      "INFO:crispy:Read data from HDU 1 of OS5/OS5_test/OS5_detector/os5_spc_088_targetstar_IFS_detector.fits\n"
     ]
    },
    {
     "name": "stdout",
     "output_type": "stream",
     "text": [
      "crispy - INFO - Read data from HDU 1 of OS5/OS5_test/OS5_detector/os5_spc_089_targetstar_IFS_detector.fits\n"
     ]
    },
    {
     "name": "stderr",
     "output_type": "stream",
     "text": [
      "INFO:crispy:Read data from HDU 1 of OS5/OS5_test/OS5_detector/os5_spc_089_targetstar_IFS_detector.fits\n"
     ]
    },
    {
     "name": "stdout",
     "output_type": "stream",
     "text": [
      "crispy - INFO - Read data from HDU 1 of OS5/OS5_test/OS5_detector/os5_spc_090_targetstar_IFS_detector.fits\n"
     ]
    },
    {
     "name": "stderr",
     "output_type": "stream",
     "text": [
      "INFO:crispy:Read data from HDU 1 of OS5/OS5_test/OS5_detector/os5_spc_090_targetstar_IFS_detector.fits\n"
     ]
    },
    {
     "name": "stdout",
     "output_type": "stream",
     "text": [
      "crispy - INFO - Read data from HDU 1 of OS5/OS5_test/OS5_detector/os5_spc_091_targetstar_IFS_detector.fits\n"
     ]
    },
    {
     "name": "stderr",
     "output_type": "stream",
     "text": [
      "INFO:crispy:Read data from HDU 1 of OS5/OS5_test/OS5_detector/os5_spc_091_targetstar_IFS_detector.fits\n"
     ]
    },
    {
     "name": "stdout",
     "output_type": "stream",
     "text": [
      "crispy - INFO - Read data from HDU 1 of OS5/OS5_test/OS5_detector/os5_spc_092_targetstar_IFS_detector.fits\n"
     ]
    },
    {
     "name": "stderr",
     "output_type": "stream",
     "text": [
      "INFO:crispy:Read data from HDU 1 of OS5/OS5_test/OS5_detector/os5_spc_092_targetstar_IFS_detector.fits\n"
     ]
    },
    {
     "name": "stdout",
     "output_type": "stream",
     "text": [
      "crispy - INFO - Read data from HDU 1 of OS5/OS5_test/OS5_detector/os5_spc_093_targetstar_IFS_detector.fits\n"
     ]
    },
    {
     "name": "stderr",
     "output_type": "stream",
     "text": [
      "INFO:crispy:Read data from HDU 1 of OS5/OS5_test/OS5_detector/os5_spc_093_targetstar_IFS_detector.fits\n"
     ]
    },
    {
     "name": "stdout",
     "output_type": "stream",
     "text": [
      "crispy - INFO - Read data from HDU 1 of OS5/OS5_test/OS5_detector/os5_spc_094_targetstar_IFS_detector.fits\n"
     ]
    },
    {
     "name": "stderr",
     "output_type": "stream",
     "text": [
      "INFO:crispy:Read data from HDU 1 of OS5/OS5_test/OS5_detector/os5_spc_094_targetstar_IFS_detector.fits\n"
     ]
    },
    {
     "name": "stdout",
     "output_type": "stream",
     "text": [
      "crispy - INFO - Read data from HDU 1 of OS5/OS5_test/OS5_detector/os5_spc_095_targetstar_IFS_detector.fits\n"
     ]
    },
    {
     "name": "stderr",
     "output_type": "stream",
     "text": [
      "INFO:crispy:Read data from HDU 1 of OS5/OS5_test/OS5_detector/os5_spc_095_targetstar_IFS_detector.fits\n"
     ]
    },
    {
     "name": "stdout",
     "output_type": "stream",
     "text": [
      "crispy - INFO - Read data from HDU 1 of OS5/OS5_test/OS5_detector/os5_spc_096_targetstar_IFS_detector.fits\n"
     ]
    },
    {
     "name": "stderr",
     "output_type": "stream",
     "text": [
      "INFO:crispy:Read data from HDU 1 of OS5/OS5_test/OS5_detector/os5_spc_096_targetstar_IFS_detector.fits\n"
     ]
    },
    {
     "name": "stdout",
     "output_type": "stream",
     "text": [
      "crispy - INFO - Read data from HDU 1 of OS5/OS5_test/OS5_detector/os5_spc_097_targetstar_IFS_detector.fits\n"
     ]
    },
    {
     "name": "stderr",
     "output_type": "stream",
     "text": [
      "INFO:crispy:Read data from HDU 1 of OS5/OS5_test/OS5_detector/os5_spc_097_targetstar_IFS_detector.fits\n"
     ]
    },
    {
     "name": "stdout",
     "output_type": "stream",
     "text": [
      "crispy - INFO - Read data from HDU 1 of OS5/OS5_test/OS5_detector/os5_spc_098_targetstar_IFS_detector.fits\n"
     ]
    },
    {
     "name": "stderr",
     "output_type": "stream",
     "text": [
      "INFO:crispy:Read data from HDU 1 of OS5/OS5_test/OS5_detector/os5_spc_098_targetstar_IFS_detector.fits\n"
     ]
    },
    {
     "name": "stdout",
     "output_type": "stream",
     "text": [
      "crispy - INFO - Read data from HDU 1 of OS5/OS5_test/OS5_detector/os5_spc_099_targetstar_IFS_detector.fits\n"
     ]
    },
    {
     "name": "stderr",
     "output_type": "stream",
     "text": [
      "INFO:crispy:Read data from HDU 1 of OS5/OS5_test/OS5_detector/os5_spc_099_targetstar_IFS_detector.fits\n"
     ]
    },
    {
     "name": "stdout",
     "output_type": "stream",
     "text": [
      "crispy - INFO - Read data from HDU 1 of OS5/OS5_test/OS5_detector/os5_spc_100_targetstar_IFS_detector.fits\n"
     ]
    },
    {
     "name": "stderr",
     "output_type": "stream",
     "text": [
      "INFO:crispy:Read data from HDU 1 of OS5/OS5_test/OS5_detector/os5_spc_100_targetstar_IFS_detector.fits\n"
     ]
    },
    {
     "name": "stdout",
     "output_type": "stream",
     "text": [
      "crispy - INFO - Read data from HDU 1 of OS5/OS5_test/OS5_detector/os5_spc_101_targetstar_IFS_detector.fits\n"
     ]
    },
    {
     "name": "stderr",
     "output_type": "stream",
     "text": [
      "INFO:crispy:Read data from HDU 1 of OS5/OS5_test/OS5_detector/os5_spc_101_targetstar_IFS_detector.fits\n"
     ]
    },
    {
     "name": "stdout",
     "output_type": "stream",
     "text": [
      "crispy - INFO - Read data from HDU 1 of OS5/OS5_test/OS5_detector/os5_spc_102_targetstar_IFS_detector.fits\n"
     ]
    },
    {
     "name": "stderr",
     "output_type": "stream",
     "text": [
      "INFO:crispy:Read data from HDU 1 of OS5/OS5_test/OS5_detector/os5_spc_102_targetstar_IFS_detector.fits\n"
     ]
    },
    {
     "name": "stdout",
     "output_type": "stream",
     "text": [
      "crispy - INFO - Read data from HDU 1 of OS5/OS5_test/OS5_detector/os5_spc_103_targetstar_IFS_detector.fits\n"
     ]
    },
    {
     "name": "stderr",
     "output_type": "stream",
     "text": [
      "INFO:crispy:Read data from HDU 1 of OS5/OS5_test/OS5_detector/os5_spc_103_targetstar_IFS_detector.fits\n"
     ]
    },
    {
     "name": "stdout",
     "output_type": "stream",
     "text": [
      "crispy - INFO - Read data from HDU 1 of OS5/OS5_test/OS5_detector/os5_spc_104_targetstar_IFS_detector.fits\n"
     ]
    },
    {
     "name": "stderr",
     "output_type": "stream",
     "text": [
      "INFO:crispy:Read data from HDU 1 of OS5/OS5_test/OS5_detector/os5_spc_104_targetstar_IFS_detector.fits\n"
     ]
    },
    {
     "name": "stdout",
     "output_type": "stream",
     "text": [
      "crispy - INFO - Read data from HDU 1 of OS5/OS5_test/OS5_detector/os5_spc_105_targetstar_IFS_detector.fits\n"
     ]
    },
    {
     "name": "stderr",
     "output_type": "stream",
     "text": [
      "INFO:crispy:Read data from HDU 1 of OS5/OS5_test/OS5_detector/os5_spc_105_targetstar_IFS_detector.fits\n"
     ]
    },
    {
     "name": "stdout",
     "output_type": "stream",
     "text": [
      "crispy - INFO - Read data from HDU 1 of OS5/OS5_test/OS5_detector/os5_spc_106_targetstar_IFS_detector.fits\n"
     ]
    },
    {
     "name": "stderr",
     "output_type": "stream",
     "text": [
      "INFO:crispy:Read data from HDU 1 of OS5/OS5_test/OS5_detector/os5_spc_106_targetstar_IFS_detector.fits\n"
     ]
    },
    {
     "name": "stdout",
     "output_type": "stream",
     "text": [
      "crispy - INFO - Read data from HDU 1 of OS5/OS5_test/OS5_detector/os5_spc_107_targetstar_IFS_detector.fits\n"
     ]
    },
    {
     "name": "stderr",
     "output_type": "stream",
     "text": [
      "INFO:crispy:Read data from HDU 1 of OS5/OS5_test/OS5_detector/os5_spc_107_targetstar_IFS_detector.fits\n"
     ]
    },
    {
     "name": "stdout",
     "output_type": "stream",
     "text": [
      "crispy - INFO - Read data from HDU 1 of OS5/OS5_test/OS5_detector/os5_spc_108_targetstar_IFS_detector.fits\n"
     ]
    },
    {
     "name": "stderr",
     "output_type": "stream",
     "text": [
      "INFO:crispy:Read data from HDU 1 of OS5/OS5_test/OS5_detector/os5_spc_108_targetstar_IFS_detector.fits\n"
     ]
    },
    {
     "name": "stdout",
     "output_type": "stream",
     "text": [
      "crispy - INFO - Read data from HDU 1 of OS5/OS5_test/OS5_detector/os5_spc_109_targetstar_IFS_detector.fits\n"
     ]
    },
    {
     "name": "stderr",
     "output_type": "stream",
     "text": [
      "INFO:crispy:Read data from HDU 1 of OS5/OS5_test/OS5_detector/os5_spc_109_targetstar_IFS_detector.fits\n"
     ]
    },
    {
     "name": "stdout",
     "output_type": "stream",
     "text": [
      "crispy - INFO - Read data from HDU 1 of OS5/OS5_test/OS5_detector/os5_spc_110_targetstar_IFS_detector.fits\n"
     ]
    },
    {
     "name": "stderr",
     "output_type": "stream",
     "text": [
      "INFO:crispy:Read data from HDU 1 of OS5/OS5_test/OS5_detector/os5_spc_110_targetstar_IFS_detector.fits\n"
     ]
    },
    {
     "name": "stdout",
     "output_type": "stream",
     "text": [
      "crispy - INFO - Read data from HDU 1 of OS5/OS5_test/OS5_detector/os5_spc_111_targetstar_IFS_detector.fits\n"
     ]
    },
    {
     "name": "stderr",
     "output_type": "stream",
     "text": [
      "INFO:crispy:Read data from HDU 1 of OS5/OS5_test/OS5_detector/os5_spc_111_targetstar_IFS_detector.fits\n"
     ]
    },
    {
     "name": "stdout",
     "output_type": "stream",
     "text": [
      "crispy - INFO - Read data from HDU 1 of OS5/OS5_test/OS5_detector/os5_spc_112_targetstar_IFS_detector.fits\n"
     ]
    },
    {
     "name": "stderr",
     "output_type": "stream",
     "text": [
      "INFO:crispy:Read data from HDU 1 of OS5/OS5_test/OS5_detector/os5_spc_112_targetstar_IFS_detector.fits\n"
     ]
    },
    {
     "name": "stdout",
     "output_type": "stream",
     "text": [
      "crispy - INFO - Read data from HDU 1 of OS5/OS5_test/OS5_detector/os5_spc_113_targetstar_IFS_detector.fits\n"
     ]
    },
    {
     "name": "stderr",
     "output_type": "stream",
     "text": [
      "INFO:crispy:Read data from HDU 1 of OS5/OS5_test/OS5_detector/os5_spc_113_targetstar_IFS_detector.fits\n"
     ]
    },
    {
     "name": "stdout",
     "output_type": "stream",
     "text": [
      "crispy - INFO - Read data from HDU 1 of OS5/OS5_test/OS5_detector/os5_spc_114_targetstar_IFS_detector.fits\n"
     ]
    },
    {
     "name": "stderr",
     "output_type": "stream",
     "text": [
      "INFO:crispy:Read data from HDU 1 of OS5/OS5_test/OS5_detector/os5_spc_114_targetstar_IFS_detector.fits\n"
     ]
    },
    {
     "name": "stdout",
     "output_type": "stream",
     "text": [
      "crispy - INFO - Read data from HDU 1 of OS5/OS5_test/OS5_detector/os5_spc_115_targetstar_IFS_detector.fits\n"
     ]
    },
    {
     "name": "stderr",
     "output_type": "stream",
     "text": [
      "INFO:crispy:Read data from HDU 1 of OS5/OS5_test/OS5_detector/os5_spc_115_targetstar_IFS_detector.fits\n"
     ]
    },
    {
     "name": "stdout",
     "output_type": "stream",
     "text": [
      "crispy - INFO - Read data from HDU 1 of OS5/OS5_test/OS5_detector/os5_spc_116_targetstar_IFS_detector.fits\n"
     ]
    },
    {
     "name": "stderr",
     "output_type": "stream",
     "text": [
      "INFO:crispy:Read data from HDU 1 of OS5/OS5_test/OS5_detector/os5_spc_116_targetstar_IFS_detector.fits\n"
     ]
    },
    {
     "name": "stdout",
     "output_type": "stream",
     "text": [
      "crispy - INFO - Read data from HDU 1 of OS5/OS5_test/OS5_detector/os5_spc_117_targetstar_IFS_detector.fits\n"
     ]
    },
    {
     "name": "stderr",
     "output_type": "stream",
     "text": [
      "INFO:crispy:Read data from HDU 1 of OS5/OS5_test/OS5_detector/os5_spc_117_targetstar_IFS_detector.fits\n"
     ]
    },
    {
     "name": "stdout",
     "output_type": "stream",
     "text": [
      "crispy - INFO - Read data from HDU 1 of OS5/OS5_test/OS5_detector/os5_spc_118_targetstar_IFS_detector.fits\n"
     ]
    },
    {
     "name": "stderr",
     "output_type": "stream",
     "text": [
      "INFO:crispy:Read data from HDU 1 of OS5/OS5_test/OS5_detector/os5_spc_118_targetstar_IFS_detector.fits\n"
     ]
    },
    {
     "name": "stdout",
     "output_type": "stream",
     "text": [
      "crispy - INFO - Read data from HDU 1 of OS5/OS5_test/OS5_detector/os5_spc_119_targetstar_IFS_detector.fits\n"
     ]
    },
    {
     "name": "stderr",
     "output_type": "stream",
     "text": [
      "INFO:crispy:Read data from HDU 1 of OS5/OS5_test/OS5_detector/os5_spc_119_targetstar_IFS_detector.fits\n"
     ]
    },
    {
     "name": "stdout",
     "output_type": "stream",
     "text": [
      "crispy - INFO - Read data from HDU 1 of OS5/OS5_test/OS5_detector/os5_spc_120_targetstar_IFS_detector.fits\n"
     ]
    },
    {
     "name": "stderr",
     "output_type": "stream",
     "text": [
      "INFO:crispy:Read data from HDU 1 of OS5/OS5_test/OS5_detector/os5_spc_120_targetstar_IFS_detector.fits\n"
     ]
    },
    {
     "name": "stdout",
     "output_type": "stream",
     "text": [
      "crispy - INFO - Read data from HDU 1 of OS5/OS5_test/OS5_detector/os5_spc_121_targetstar_IFS_detector.fits\n"
     ]
    },
    {
     "name": "stderr",
     "output_type": "stream",
     "text": [
      "INFO:crispy:Read data from HDU 1 of OS5/OS5_test/OS5_detector/os5_spc_121_targetstar_IFS_detector.fits\n"
     ]
    },
    {
     "name": "stdout",
     "output_type": "stream",
     "text": [
      "crispy - INFO - Read data from HDU 1 of OS5/OS5_test/OS5_detector/os5_spc_122_targetstar_IFS_detector.fits\n"
     ]
    },
    {
     "name": "stderr",
     "output_type": "stream",
     "text": [
      "INFO:crispy:Read data from HDU 1 of OS5/OS5_test/OS5_detector/os5_spc_122_targetstar_IFS_detector.fits\n"
     ]
    },
    {
     "name": "stdout",
     "output_type": "stream",
     "text": [
      "crispy - INFO - Read data from HDU 1 of OS5/OS5_test/OS5_detector/os5_spc_123_targetstar_IFS_detector.fits\n"
     ]
    },
    {
     "name": "stderr",
     "output_type": "stream",
     "text": [
      "INFO:crispy:Read data from HDU 1 of OS5/OS5_test/OS5_detector/os5_spc_123_targetstar_IFS_detector.fits\n"
     ]
    },
    {
     "name": "stdout",
     "output_type": "stream",
     "text": [
      "crispy - INFO - Read data from HDU 1 of OS5/OS5_test/OS5_detector/os5_spc_124_targetstar_IFS_detector.fits\n"
     ]
    },
    {
     "name": "stderr",
     "output_type": "stream",
     "text": [
      "INFO:crispy:Read data from HDU 1 of OS5/OS5_test/OS5_detector/os5_spc_124_targetstar_IFS_detector.fits\n"
     ]
    },
    {
     "name": "stdout",
     "output_type": "stream",
     "text": [
      "crispy - INFO - Read data from HDU 1 of OS5/OS5_test/OS5_detector/os5_spc_125_targetstar_IFS_detector.fits\n"
     ]
    },
    {
     "name": "stderr",
     "output_type": "stream",
     "text": [
      "INFO:crispy:Read data from HDU 1 of OS5/OS5_test/OS5_detector/os5_spc_125_targetstar_IFS_detector.fits\n"
     ]
    },
    {
     "name": "stdout",
     "output_type": "stream",
     "text": [
      "crispy - INFO - Read data from HDU 1 of OS5/OS5_test/OS5_detector/os5_spc_126_targetstar_IFS_detector.fits\n"
     ]
    },
    {
     "name": "stderr",
     "output_type": "stream",
     "text": [
      "INFO:crispy:Read data from HDU 1 of OS5/OS5_test/OS5_detector/os5_spc_126_targetstar_IFS_detector.fits\n"
     ]
    },
    {
     "name": "stdout",
     "output_type": "stream",
     "text": [
      "crispy - INFO - Read data from HDU 1 of OS5/OS5_test/OS5_detector/os5_spc_127_targetstar_IFS_detector.fits\n"
     ]
    },
    {
     "name": "stderr",
     "output_type": "stream",
     "text": [
      "INFO:crispy:Read data from HDU 1 of OS5/OS5_test/OS5_detector/os5_spc_127_targetstar_IFS_detector.fits\n"
     ]
    },
    {
     "name": "stdout",
     "output_type": "stream",
     "text": [
      "crispy - INFO - Read data from HDU 1 of OS5/OS5_test/OS5_detector/os5_spc_128_targetstar_IFS_detector.fits\n"
     ]
    },
    {
     "name": "stderr",
     "output_type": "stream",
     "text": [
      "INFO:crispy:Read data from HDU 1 of OS5/OS5_test/OS5_detector/os5_spc_128_targetstar_IFS_detector.fits\n"
     ]
    },
    {
     "name": "stdout",
     "output_type": "stream",
     "text": [
      "crispy - INFO - Read data from HDU 1 of OS5/OS5_test/OS5_detector/os5_spc_129_targetstar_IFS_detector.fits\n"
     ]
    },
    {
     "name": "stderr",
     "output_type": "stream",
     "text": [
      "INFO:crispy:Read data from HDU 1 of OS5/OS5_test/OS5_detector/os5_spc_129_targetstar_IFS_detector.fits\n"
     ]
    },
    {
     "name": "stdout",
     "output_type": "stream",
     "text": [
      "crispy - INFO - Read data from HDU 1 of OS5/OS5_test/OS5_detector/os5_spc_130_targetstar_IFS_detector.fits\n"
     ]
    },
    {
     "name": "stderr",
     "output_type": "stream",
     "text": [
      "INFO:crispy:Read data from HDU 1 of OS5/OS5_test/OS5_detector/os5_spc_130_targetstar_IFS_detector.fits\n"
     ]
    },
    {
     "name": "stdout",
     "output_type": "stream",
     "text": [
      "crispy - INFO - Writing data to OS5/OS5_test/OS5_average/average_ref_star_detector.fits\n"
     ]
    },
    {
     "name": "stderr",
     "output_type": "stream",
     "text": [
      "INFO:crispy:Writing data to OS5/OS5_test/OS5_average/average_ref_star_detector.fits\n"
     ]
    },
    {
     "name": "stdout",
     "output_type": "stream",
     "text": [
      "crispy - INFO - Writing data to OS5/OS5_test/OS5_average/average_target_star_detector.fits\n"
     ]
    },
    {
     "name": "stderr",
     "output_type": "stream",
     "text": [
      "INFO:crispy:Writing data to OS5/OS5_test/OS5_average/average_target_star_detector.fits\n"
     ]
    },
    {
     "name": "stdout",
     "output_type": "stream",
     "text": [
      "/local/data/nicolaus2/mrizzo/crispy/code/OS5/OS5_test/OS5_average/average_ref_star_detector.fits\n",
      "crispy - INFO - Read data from HDU 1 of /local/data/nicolaus2/mrizzo/crispy/code/OS5/OS5_test/OS5_average/average_ref_star_detector.fits\n"
     ]
    },
    {
     "name": "stderr",
     "output_type": "stream",
     "text": [
      "INFO:crispy:Read data from HDU 1 of /local/data/nicolaus2/mrizzo/crispy/code/OS5/OS5_test/OS5_average/average_ref_star_detector.fits\n"
     ]
    },
    {
     "name": "stdout",
     "output_type": "stream",
     "text": [
      "(1024, 1024)\n",
      "crispy - INFO - Read data from HDU 1 of /local/data/nicolaus2/mrizzo/crispy/code/OS5/OS5_test/OS5_average/average_ref_star_detector.fits\n"
     ]
    },
    {
     "name": "stderr",
     "output_type": "stream",
     "text": [
      "INFO:crispy:Read data from HDU 1 of /local/data/nicolaus2/mrizzo/crispy/code/OS5/OS5_test/OS5_average/average_ref_star_detector.fits\n"
     ]
    },
    {
     "name": "stdout",
     "output_type": "stream",
     "text": [
      "crispy - INFO - Reduced cube will have 17 wavelength bins\n"
     ]
    },
    {
     "name": "stderr",
     "output_type": "stream",
     "text": [
      "INFO:crispy:Reduced cube will have 17 wavelength bins\n"
     ]
    },
    {
     "name": "stdout",
     "output_type": "stream",
     "text": [
      "crispy - INFO - Writing data to ./SimResults/average_ref_star_detector_red_optext.fits\n"
     ]
    },
    {
     "name": "stderr",
     "output_type": "stream",
     "text": [
      "INFO:crispy:Writing data to ./SimResults/average_ref_star_detector_red_optext.fits\n"
     ]
    },
    {
     "name": "stdout",
     "output_type": "stream",
     "text": [
      "crispy - INFO - Read data from HDU 1 of /local/data/nicolaus2/mrizzo/crispy/code/OS5/OS5_test/OS5_average/average_target_star_detector.fits\n"
     ]
    },
    {
     "name": "stderr",
     "output_type": "stream",
     "text": [
      "INFO:crispy:Read data from HDU 1 of /local/data/nicolaus2/mrizzo/crispy/code/OS5/OS5_test/OS5_average/average_target_star_detector.fits\n"
     ]
    },
    {
     "name": "stdout",
     "output_type": "stream",
     "text": [
      "crispy - INFO - Reduced cube will have 17 wavelength bins\n"
     ]
    },
    {
     "name": "stderr",
     "output_type": "stream",
     "text": [
      "INFO:crispy:Reduced cube will have 17 wavelength bins\n"
     ]
    },
    {
     "name": "stdout",
     "output_type": "stream",
     "text": [
      "crispy - INFO - Writing data to ./SimResults/average_target_star_detector_red_optext.fits\n"
     ]
    },
    {
     "name": "stderr",
     "output_type": "stream",
     "text": [
      "INFO:crispy:Writing data to ./SimResults/average_target_star_detector_red_optext.fits\n"
     ]
    },
    {
     "name": "stdout",
     "output_type": "stream",
     "text": [
      "crispy - INFO - Read data from HDU 1 of /local/data/nicolaus2/mrizzo/crispy/code/OS5/OS5_test/OS5_average/offaxis.fits\n"
     ]
    },
    {
     "name": "stderr",
     "output_type": "stream",
     "text": [
      "INFO:crispy:Read data from HDU 1 of /local/data/nicolaus2/mrizzo/crispy/code/OS5/OS5_test/OS5_average/offaxis.fits\n"
     ]
    },
    {
     "name": "stdout",
     "output_type": "stream",
     "text": [
      "crispy - INFO - Reduced cube will have 17 wavelength bins\n"
     ]
    },
    {
     "name": "stderr",
     "output_type": "stream",
     "text": [
      "INFO:crispy:Reduced cube will have 17 wavelength bins\n"
     ]
    },
    {
     "name": "stdout",
     "output_type": "stream",
     "text": [
      "crispy - INFO - Writing data to ./SimResults/offaxis_red_optext.fits\n"
     ]
    },
    {
     "name": "stderr",
     "output_type": "stream",
     "text": [
      "INFO:crispy:Writing data to ./SimResults/offaxis_red_optext.fits\n"
     ]
    },
    {
     "name": "stdout",
     "output_type": "stream",
     "text": [
      "crispy - INFO - Read data from HDU 1 of /local/data/nicolaus2/mrizzo/crispy/code/OS5/OS5_test/OS5_average/offaxis_flipped.fits\n"
     ]
    },
    {
     "name": "stderr",
     "output_type": "stream",
     "text": [
      "INFO:crispy:Read data from HDU 1 of /local/data/nicolaus2/mrizzo/crispy/code/OS5/OS5_test/OS5_average/offaxis_flipped.fits\n"
     ]
    },
    {
     "name": "stdout",
     "output_type": "stream",
     "text": [
      "crispy - INFO - Reduced cube will have 17 wavelength bins\n"
     ]
    },
    {
     "name": "stderr",
     "output_type": "stream",
     "text": [
      "INFO:crispy:Reduced cube will have 17 wavelength bins\n"
     ]
    },
    {
     "name": "stdout",
     "output_type": "stream",
     "text": [
      "crispy - INFO - Writing data to ./SimResults/offaxis_flipped_red_optext.fits\n"
     ]
    },
    {
     "name": "stderr",
     "output_type": "stream",
     "text": [
      "INFO:crispy:Writing data to ./SimResults/offaxis_flipped_red_optext.fits\n"
     ]
    },
    {
     "name": "stdout",
     "output_type": "stream",
     "text": [
      "crispy - INFO - Writing data to OS5/OS5_test/OS5_average/residual.fits\n"
     ]
    },
    {
     "name": "stderr",
     "output_type": "stream",
     "text": [
      "INFO:crispy:Writing data to OS5/OS5_test/OS5_average/residual.fits\n"
     ]
    },
    {
     "name": "stdout",
     "output_type": "stream",
     "text": [
      "crispy - INFO - Read data from HDU 1 of ./SimResults/flatfield_red_optext.fits\n"
     ]
    },
    {
     "name": "stderr",
     "output_type": "stream",
     "text": [
      "INFO:crispy:Read data from HDU 1 of ./SimResults/flatfield_red_optext.fits\n"
     ]
    },
    {
     "name": "stdout",
     "output_type": "stream",
     "text": [
      "crispy - INFO - Read inverse variance from HDU 2 of ./SimResults/flatfield_red_optext.fits\n"
     ]
    },
    {
     "name": "stderr",
     "output_type": "stream",
     "text": [
      "INFO:crispy:Read inverse variance from HDU 2 of ./SimResults/flatfield_red_optext.fits\n"
     ]
    },
    {
     "name": "stdout",
     "output_type": "stream",
     "text": [
      "crispy - INFO - Writing data to OS5/OS5_test/OS5_average/residual_flatfielded.fits\n"
     ]
    },
    {
     "name": "stderr",
     "output_type": "stream",
     "text": [
      "INFO:crispy:Writing data to OS5/OS5_test/OS5_average/residual_flatfielded.fits\n"
     ]
    },
    {
     "name": "stdout",
     "output_type": "stream",
     "text": [
      "crispy - INFO - Writing data to OS5/OS5_test/OS5_average/matched_filter.fits\n"
     ]
    },
    {
     "name": "stderr",
     "output_type": "stream",
     "text": [
      "INFO:crispy:Writing data to OS5/OS5_test/OS5_average/matched_filter.fits\n"
     ]
    },
    {
     "name": "stdout",
     "output_type": "stream",
     "text": [
      "crispy - INFO - Writing data to OS5/OS5_test/OS5_average/matched_filter_flipped.fits\n"
     ]
    },
    {
     "name": "stderr",
     "output_type": "stream",
     "text": [
      "INFO:crispy:Writing data to OS5/OS5_test/OS5_average/matched_filter_flipped.fits\n"
     ]
    },
    {
     "name": "stdout",
     "output_type": "stream",
     "text": [
      "crispy - INFO - Cube conversion: 1.890\n"
     ]
    },
    {
     "name": "stderr",
     "output_type": "stream",
     "text": [
      "INFO:crispy:Cube conversion: 1.890\n"
     ]
    },
    {
     "name": "stdout",
     "output_type": "stream",
     "text": [
      "crispy - INFO - Process cubes through IFS: 0.000\n"
     ]
    },
    {
     "name": "stderr",
     "output_type": "stream",
     "text": [
      "INFO:crispy:Process cubes through IFS: 0.000\n"
     ]
    },
    {
     "name": "stdout",
     "output_type": "stream",
     "text": [
      "crispy - INFO - Process off-axis PSF through IFS: 89.317\n"
     ]
    },
    {
     "name": "stderr",
     "output_type": "stream",
     "text": [
      "INFO:crispy:Process off-axis PSF through IFS: 89.317\n"
     ]
    },
    {
     "name": "stdout",
     "output_type": "stream",
     "text": [
      "crispy - INFO - Construct IFS detector: 4.553\n"
     ]
    },
    {
     "name": "stderr",
     "output_type": "stream",
     "text": [
      "INFO:crispy:Construct IFS detector: 4.553\n"
     ]
    },
    {
     "name": "stdout",
     "output_type": "stream",
     "text": [
      "crispy - INFO - Taking averages: 1.024\n"
     ]
    },
    {
     "name": "stderr",
     "output_type": "stream",
     "text": [
      "INFO:crispy:Taking averages: 1.024\n"
     ]
    },
    {
     "name": "stdout",
     "output_type": "stream",
     "text": [
      "crispy - INFO - Process average cubes: 68.514\n"
     ]
    },
    {
     "name": "stderr",
     "output_type": "stream",
     "text": [
      "INFO:crispy:Process average cubes: 68.514\n"
     ]
    },
    {
     "name": "stdout",
     "output_type": "stream",
     "text": [
      "crispy - INFO - Normalize and subtract reference PSF: 0.012\n"
     ]
    },
    {
     "name": "stderr",
     "output_type": "stream",
     "text": [
      "INFO:crispy:Normalize and subtract reference PSF: 0.012\n"
     ]
    },
    {
     "name": "stdout",
     "output_type": "stream",
     "text": [
      "crispy - INFO - Computed signal and noise arrays: 0.053\n"
     ]
    },
    {
     "name": "stderr",
     "output_type": "stream",
     "text": [
      "INFO:crispy:Computed signal and noise arrays: 0.053\n"
     ]
    },
    {
     "name": "stdout",
     "output_type": "stream",
     "text": [
      "crispy - INFO - Total time: 165.363\n"
     ]
    },
    {
     "name": "stderr",
     "output_type": "stream",
     "text": [
      "INFO:crispy:Total time: 165.363\n"
     ]
    }
   ],
   "source": [
    "os5folder = '/local/data/nicolaus2/mrizzo/haystacks/for_gsfc/with_lowfc'\n",
    "offaxispsf= '/local/data/nicolaus2/mrizzo/haystacks/for_gsfc/spc_offaxis_psf.fits'\n",
    "mean_contrast = 1e-8\n",
    "signal,noise = process_SPC_IFS(par,os5folder,offaxispsf,mean_contrast=mean_contrast,\n",
    "                outdir_time_series = 'OS5/OS5_test',outdir_detector='OS5/OS5_test/OS5_detector',\n",
    "                outdir_average='OS5/OS5_test/OS5_average',\n",
    "                process_cubes=False,\n",
    "                process_offaxis=True,\n",
    "                process_detector=False,\n",
    "                process_noiseless=True,\n",
    "                take_averages=True)"
   ]
  },
  {
   "cell_type": "code",
   "execution_count": 6,
   "metadata": {
    "collapsed": false
   },
   "outputs": [
    {
     "name": "stdout",
     "output_type": "stream",
     "text": [
      "crispy - INFO - Reduced cube will have 17 wavelength bins\n"
     ]
    },
    {
     "name": "stderr",
     "output_type": "stream",
     "text": [
      "INFO:crispy:Reduced cube will have 17 wavelength bins\n"
     ]
    },
    {
     "name": "stdout",
     "output_type": "stream",
     "text": [
      "12.6772618846\n"
     ]
    },
    {
     "data": {
      "image/png": "[encoded data removed]",
      "text/plain": [
       "<matplotlib.figure.Figure at 0x7fb38627aa90>"
      ]
     },
     "metadata": {},
     "output_type": "display_data"
    }
   ],
   "source": [
    "import seaborn as sns\n",
    "import numpy as np\n",
    "from tools.inputScene import calc_contrast\n",
    "from tools.reduction import calculateWaveList\n",
    "lam_midpts,junk = calculateWaveList(par)\n",
    "wavelist = 770*np.linspace(1.-0.18/2.,1.+0.18/2.,45)\n",
    "spectrum=calc_contrast(wavelist,mean_contrast=mean_contrast)\n",
    "sns.set_style(\"whitegrid\")\n",
    "fig,ax = plt.subplots(figsize=(12,6))\n",
    "real_vals=calc_contrast(wavelist,mean_contrast=mean_contrast)\n",
    "ax.plot(wavelist,real_vals,label='Original spectrum')\n",
    "ax.errorbar(lam_midpts,signal*np.mean(spectrum)/np.mean(signal),yerr=noise*np.mean(spectrum)/np.mean(signal),label='Recovered spectrum',fmt='o')\n",
    "from scipy import ndimage\n",
    "FWHM = 4.\n",
    "smooth = ndimage.filters.gaussian_filter1d(real_vals,FWHM/2.35,order=0,mode='constant')\n",
    "ax.plot(wavelist,smooth,'-',label='Gaussian-smoothed original spectrum w/ FWHM=%.0f bins' % FWHM)\n",
    "\n",
    "ax.set_xlabel('Wavelength (nm)')\n",
    "ax.set_ylabel('Contrast')\n",
    "ax.set_title('Star+planet, no noise')\n",
    "plt.legend()\n",
    "chisq = np.sum((signal*np.mean(spectrum)/np.mean(signal) - calc_contrast(lam_midpts,mean_contrast=mean_contrast))**2/(noise*np.mean(spectrum)/np.mean(signal))**2)\n",
    "print chisq/len(signal)\n",
    "#fig.savefig(par.exportDir+'/Contrast%.0g.png' % mean_contrast)"
   ]
  },
  {
   "cell_type": "code",
   "execution_count": null,
   "metadata": {
    "collapsed": false
   },
   "outputs": [],
   "source": [
    "mean_contrast"
   ]
  },
  {
   "cell_type": "code",
   "execution_count": null,
   "metadata": {
    "collapsed": false
   },
   "outputs": [],
   "source": [
    "from tools.image import Image\n",
    "from astropy.io import fits\n",
    "img = Image('/local/data/nicolaus2/mrizzo/crispy/code/OS5/OS5_test/OS5_average/average_ref_star_detector.fits')\n"
   ]
  },
  {
   "cell_type": "code",
   "execution_count": null,
   "metadata": {
    "collapsed": false
   },
   "outputs": [],
   "source": [
    "outdir_average='OS5/OS5_average'\n",
    "mf_name = outdir_average+'/matched_filter.fits'\n",
    "mf = Image(mf_name)\n",
    "#plt.imshow(mf.data[5,:,:])\n",
    "print(np.nansum(np.nansum(mf.data,axis=2),axis=1))"
   ]
  },
  {
   "cell_type": "code",
   "execution_count": null,
   "metadata": {
    "collapsed": false
   },
   "outputs": [],
   "source": [
    "#cube = Image(outdir_average+'/residual.fits')\n",
    "flatfield = Image(par.exportDir+'/flatfield_red_optext.fits')\n",
    "# cube = Image(par.exportDir+'/average_ref_star_detector_red_optext.fits')"
   ]
  },
  {
   "cell_type": "code",
   "execution_count": null,
   "metadata": {
    "collapsed": false
   },
   "outputs": [],
   "source": [
    "print flatfield.data.shape"
   ]
  },
  {
   "cell_type": "code",
   "execution_count": null,
   "metadata": {
    "collapsed": false
   },
   "outputs": [],
   "source": [
    "from tools.imgtools import bowtie\n",
    "ydim,xdim = cube.data[0].shape\n",
    "maskleft,maskright = bowtie(cube.data[0],ydim//2,xdim//2,openingAngle=65,clocking=-par.philens*180/np.pi,IWApix=6*0.77/0.6,OWApix=18*0.77/0.6,export='bowtie',twomasks=True)"
   ]
  },
  {
   "cell_type": "code",
   "execution_count": null,
   "metadata": {
    "collapsed": false
   },
   "outputs": [],
   "source": [
    "plt.figure(figsize=(12,6))\n",
    "plt.imshow(cube.data[5,:,:]*maskleft)\n",
    "plt.colorbar()"
   ]
  },
  {
   "cell_type": "code",
   "execution_count": null,
   "metadata": {
    "collapsed": false
   },
   "outputs": [],
   "source": [
    "pixstd = [np.nanstd(cube.data[i,:,:]*maskright) for i in range(cube.data.shape[0])]\n",
    "mf_npix = np.nansum(np.nansum(mf.data,axis=2),axis=1)\n",
    "pixstd*mf_npix"
   ]
  },
  {
   "cell_type": "code",
   "execution_count": null,
   "metadata": {
    "collapsed": true
   },
   "outputs": [],
   "source": []
  },
  {
   "cell_type": "code",
   "execution_count": null,
   "metadata": {
    "collapsed": false
   },
   "outputs": [],
   "source": [
    "import astropy.units as u\n",
    "lam = 0.77*u.um\n",
    "D = 2.34*u.m\n",
    "lamoD = (lam.to(u.m)/D).value*u.radian\n",
    "lamoD = lamoD.to(u.arcsec)\n",
    "print(lamoD)\n",
    "dist = 5./14.\n",
    "print(AU)\n",
    "0.257695*u.arcsec/lamoD"
   ]
  },
  {
   "cell_type": "code",
   "execution_count": null,
   "metadata": {
    "collapsed": false,
    "scrolled": true
   },
   "outputs": [],
   "source": [
    "from unitTests import testCreateFlatfield\n",
    "testCreateFlatfield(par)"
   ]
  },
  {
   "cell_type": "code",
   "execution_count": null,
   "metadata": {
    "collapsed": false
   },
   "outputs": [],
   "source": [
    "from IFS import reduceIFSMap\n",
    "fname = 'unitTestsOutputs/flatfield.fits'\n",
    "cube = reduceIFSMap(par,fname)"
   ]
  },
  {
   "cell_type": "code",
   "execution_count": null,
   "metadata": {
    "collapsed": false,
    "scrolled": true
   },
   "outputs": [],
   "source": [
    "os5folder = '/local/data/nicolaus2/mrizzo/haystacks/for_gsfc/with_lowfc'\n",
    "offaxispsf= '/local/data/nicolaus2/mrizzo/haystacks/for_gsfc/spc_offaxis_psf.fits'\n",
    "mean_contrast = 1e-8\n",
    "from tools.postprocessing import SPC_IFS_systematics\n",
    "signal,noise,off = SPC_IFS_systematics(par,os5folder,offaxispsf,mean_contrast=mean_contrast,\n",
    "                outdir_time_series = 'OS5/OS5_test',outdir_detector='OS5/OS5_test/OS5_detector',\n",
    "                outdir_average='OS5/OS5_test/OS5_average',\n",
    "                process_cubes=False,\n",
    "                process_offaxis=True,\n",
    "                process_detector=True,\n",
    "                take_averages=True)"
   ]
  },
  {
   "cell_type": "code",
   "execution_count": null,
   "metadata": {
    "collapsed": false
   },
   "outputs": [],
   "source": [
    "import seaborn as sns\n",
    "import numpy as np\n",
    "from tools.inputScene import calc_contrast\n",
    "from tools.reduction import calculateWaveList\n",
    "lam_midpts,junk = calculateWaveList(par)\n",
    "# wavelist = np.arange(min(lam_midpts),max(lam_midpts),3)\n",
    "wavelist = 770*np.linspace(1.-0.18/2.,1.+0.18/2.,45)\n",
    "spectrum=calc_contrast(wavelist,mean_contrast=mean_contrast)\n",
    "sns.set_style(\"whitegrid\")\n",
    "fig,ax = plt.subplots(figsize=(12,6))\n",
    "real_vals=calc_contrast(wavelist,mean_contrast=mean_contrast)\n",
    "ax.plot(wavelist,calc_contrast(wavelist,mean_contrast=mean_contrast),label='Original spectrum')\n",
    "#ax.errorbar(lam_midpts,(signal-off)*np.mean(spectrum)/np.mean(signal),yerr=noise*np.mean(spectrum)/np.mean(signal),label='Recovered spectrum',fmt='o')\n",
    "ax.plot(lam_midpts,(signal-off)*np.mean(spectrum)/np.mean(signal[1:-1]),'o',label='Recovered spectrum')\n",
    "from scipy import ndimage\n",
    "FWHM = 4.\n",
    "smooth = ndimage.filters.gaussian_filter1d(real_vals,FWHM/2.35,order=0,mode='constant')\n",
    "ax.plot(wavelist,smooth,'-',label='Gaussian-smoothed original spectrum w/ FWHM=%.0f bins' % FWHM)\n",
    "\n",
    "#ax.errorbar(lam_midpts,(signal),yerr=noise,label='Recovered spectrum',fmt='o')\n",
    "ax.set_xlabel('Wavelength (nm)')\n",
    "ax.set_ylabel('Contrast')\n",
    "ax.set_title('Planet, no star, no noise')\n",
    "plt.legend()\n",
    "chisq = np.sum((signal*np.mean(spectrum)/np.mean(signal[1:-1]) - calc_contrast(lam_midpts,mean_contrast=mean_contrast))**2/(noise*np.mean(spectrum)/np.mean(signal[1:-1]))**2)\n",
    "print chisq/len(signal)\n",
    "\n",
    "#fig.savefig(par.exportDir+'/Contrast%.0g.png' % mean_contrast)"
   ]
  },
  {
   "cell_type": "code",
   "execution_count": null,
   "metadata": {
    "collapsed": false
   },
   "outputs": [],
   "source": [
    "print(lam_midpts)"
   ]
  },
  {
   "cell_type": "code",
   "execution_count": null,
   "metadata": {
    "collapsed": true
   },
   "outputs": [],
   "source": []
  },
  {
   "cell_type": "code",
   "execution_count": null,
   "metadata": {
    "collapsed": true
   },
   "outputs": [],
   "source": []
  },
  {
   "cell_type": "code",
   "execution_count": 4,
   "metadata": {
    "collapsed": false
   },
   "outputs": [
    {
     "name": "stdout",
     "output_type": "stream",
     "text": [
      "crispy - INFO - Read data from HDU 0 of /local/data/nicolaus2/mrizzo/haystacks/for_gsfc/spc_offaxis_psf.fits\n"
     ]
    },
    {
     "name": "stderr",
     "output_type": "stream",
     "text": [
      "INFO:crispy:Read data from HDU 0 of /local/data/nicolaus2/mrizzo/haystacks/for_gsfc/spc_offaxis_psf.fits\n"
     ]
    },
    {
     "name": "stdout",
     "output_type": "stream",
     "text": [
      "crispy - INFO - Processing file /local/data/nicolaus2/mrizzo/haystacks/for_gsfc/spc_offaxis_psf.fits\n"
     ]
    },
    {
     "name": "stderr",
     "output_type": "stream",
     "text": [
      "INFO:crispy:Processing file /local/data/nicolaus2/mrizzo/haystacks/for_gsfc/spc_offaxis_psf.fits\n"
     ]
    },
    {
     "name": "stdout",
     "output_type": "stream",
     "text": [
      "crispy - INFO - Modifying cube header\n"
     ]
    },
    {
     "name": "stderr",
     "output_type": "stream",
     "text": [
      "INFO:crispy:Modifying cube header\n"
     ]
    },
    {
     "name": "stdout",
     "output_type": "stream",
     "text": [
      "crispy - INFO - The number of input pixels per lenslet is 4.285714\n"
     ]
    },
    {
     "name": "stderr",
     "output_type": "stream",
     "text": [
      "INFO:crispy:The number of input pixels per lenslet is 4.285714\n"
     ]
    },
    {
     "name": "stdout",
     "output_type": "stream",
     "text": [
      "crispy - INFO - Using PSFlet gaussian approximation\n"
     ]
    },
    {
     "name": "stderr",
     "output_type": "stream",
     "text": [
      "INFO:crispy:Using PSFlet gaussian approximation\n"
     ]
    },
    {
     "name": "stdout",
     "output_type": "stream",
     "text": [
      "crispy - INFO - Final detector pixel per PSFLet: 40.000000\n"
     ]
    },
    {
     "name": "stderr",
     "output_type": "stream",
     "text": [
      "INFO:crispy:Final detector pixel per PSFLet: 40.000000\n"
     ]
    },
    {
     "name": "stdout",
     "output_type": "stream",
     "text": [
      "crispy - INFO - Processing wavelength 0.700700 (0 out of 45)\n"
     ]
    },
    {
     "name": "stderr",
     "output_type": "stream",
     "text": [
      "INFO:crispy:Processing wavelength 0.700700 (0 out of 45)\n",
      "DEBUG:crispy:Input plane is 103x103\n"
     ]
    },
    {
     "name": "stdout",
     "output_type": "stream",
     "text": [
      "crispy - INFO - Processing wavelength 0.703850 (1 out of 45)\n"
     ]
    },
    {
     "name": "stderr",
     "output_type": "stream",
     "text": [
      "INFO:crispy:Processing wavelength 0.703850 (1 out of 45)\n",
      "DEBUG:crispy:Input plane is 103x103\n"
     ]
    },
    {
     "name": "stdout",
     "output_type": "stream",
     "text": [
      "crispy - INFO - Processing wavelength 0.707000 (2 out of 45)\n"
     ]
    },
    {
     "name": "stderr",
     "output_type": "stream",
     "text": [
      "INFO:crispy:Processing wavelength 0.707000 (2 out of 45)\n",
      "DEBUG:crispy:Input plane is 103x103\n"
     ]
    },
    {
     "name": "stdout",
     "output_type": "stream",
     "text": [
      "crispy - INFO - Processing wavelength 0.710150 (3 out of 45)\n"
     ]
    },
    {
     "name": "stderr",
     "output_type": "stream",
     "text": [
      "INFO:crispy:Processing wavelength 0.710150 (3 out of 45)\n",
      "DEBUG:crispy:Input plane is 103x103\n"
     ]
    },
    {
     "name": "stdout",
     "output_type": "stream",
     "text": [
      "crispy - INFO - Processing wavelength 0.713300 (4 out of 45)\n"
     ]
    },
    {
     "name": "stderr",
     "output_type": "stream",
     "text": [
      "INFO:crispy:Processing wavelength 0.713300 (4 out of 45)\n",
      "DEBUG:crispy:Input plane is 103x103\n"
     ]
    },
    {
     "name": "stdout",
     "output_type": "stream",
     "text": [
      "crispy - INFO - Processing wavelength 0.716450 (5 out of 45)\n"
     ]
    },
    {
     "name": "stderr",
     "output_type": "stream",
     "text": [
      "INFO:crispy:Processing wavelength 0.716450 (5 out of 45)\n",
      "DEBUG:crispy:Input plane is 103x103\n"
     ]
    },
    {
     "name": "stdout",
     "output_type": "stream",
     "text": [
      "crispy - INFO - Processing wavelength 0.719600 (6 out of 45)\n"
     ]
    },
    {
     "name": "stderr",
     "output_type": "stream",
     "text": [
      "INFO:crispy:Processing wavelength 0.719600 (6 out of 45)\n",
      "DEBUG:crispy:Input plane is 103x103\n"
     ]
    },
    {
     "name": "stdout",
     "output_type": "stream",
     "text": [
      "crispy - INFO - Processing wavelength 0.722750 (7 out of 45)\n"
     ]
    },
    {
     "name": "stderr",
     "output_type": "stream",
     "text": [
      "INFO:crispy:Processing wavelength 0.722750 (7 out of 45)\n",
      "DEBUG:crispy:Input plane is 103x103\n"
     ]
    },
    {
     "name": "stdout",
     "output_type": "stream",
     "text": [
      "crispy - INFO - Processing wavelength 0.725900 (8 out of 45)\n"
     ]
    },
    {
     "name": "stderr",
     "output_type": "stream",
     "text": [
      "INFO:crispy:Processing wavelength 0.725900 (8 out of 45)\n",
      "DEBUG:crispy:Input plane is 103x103\n"
     ]
    },
    {
     "name": "stdout",
     "output_type": "stream",
     "text": [
      "crispy - INFO - Processing wavelength 0.729050 (9 out of 45)\n"
     ]
    },
    {
     "name": "stderr",
     "output_type": "stream",
     "text": [
      "INFO:crispy:Processing wavelength 0.729050 (9 out of 45)\n",
      "DEBUG:crispy:Input plane is 103x103\n"
     ]
    },
    {
     "name": "stdout",
     "output_type": "stream",
     "text": [
      "crispy - INFO - Processing wavelength 0.732200 (10 out of 45)\n"
     ]
    },
    {
     "name": "stderr",
     "output_type": "stream",
     "text": [
      "INFO:crispy:Processing wavelength 0.732200 (10 out of 45)\n",
      "DEBUG:crispy:Input plane is 103x103\n"
     ]
    },
    {
     "name": "stdout",
     "output_type": "stream",
     "text": [
      "crispy - INFO - Processing wavelength 0.735350 (11 out of 45)\n"
     ]
    },
    {
     "name": "stderr",
     "output_type": "stream",
     "text": [
      "INFO:crispy:Processing wavelength 0.735350 (11 out of 45)\n",
      "DEBUG:crispy:Input plane is 103x103\n"
     ]
    },
    {
     "name": "stdout",
     "output_type": "stream",
     "text": [
      "crispy - INFO - Processing wavelength 0.738500 (12 out of 45)\n"
     ]
    },
    {
     "name": "stderr",
     "output_type": "stream",
     "text": [
      "INFO:crispy:Processing wavelength 0.738500 (12 out of 45)\n",
      "DEBUG:crispy:Input plane is 103x103\n"
     ]
    },
    {
     "name": "stdout",
     "output_type": "stream",
     "text": [
      "crispy - INFO - Processing wavelength 0.741650 (13 out of 45)\n"
     ]
    },
    {
     "name": "stderr",
     "output_type": "stream",
     "text": [
      "INFO:crispy:Processing wavelength 0.741650 (13 out of 45)\n",
      "DEBUG:crispy:Input plane is 103x103\n"
     ]
    },
    {
     "name": "stdout",
     "output_type": "stream",
     "text": [
      "crispy - INFO - Processing wavelength 0.744800 (14 out of 45)\n"
     ]
    },
    {
     "name": "stderr",
     "output_type": "stream",
     "text": [
      "INFO:crispy:Processing wavelength 0.744800 (14 out of 45)\n",
      "DEBUG:crispy:Input plane is 103x103\n"
     ]
    },
    {
     "name": "stdout",
     "output_type": "stream",
     "text": [
      "crispy - INFO - Processing wavelength 0.747950 (15 out of 45)\n"
     ]
    },
    {
     "name": "stderr",
     "output_type": "stream",
     "text": [
      "INFO:crispy:Processing wavelength 0.747950 (15 out of 45)\n",
      "DEBUG:crispy:Input plane is 103x103\n"
     ]
    },
    {
     "name": "stdout",
     "output_type": "stream",
     "text": [
      "crispy - INFO - Processing wavelength 0.751100 (16 out of 45)\n"
     ]
    },
    {
     "name": "stderr",
     "output_type": "stream",
     "text": [
      "INFO:crispy:Processing wavelength 0.751100 (16 out of 45)\n",
      "DEBUG:crispy:Input plane is 103x103\n"
     ]
    },
    {
     "name": "stdout",
     "output_type": "stream",
     "text": [
      "crispy - INFO - Processing wavelength 0.754250 (17 out of 45)\n"
     ]
    },
    {
     "name": "stderr",
     "output_type": "stream",
     "text": [
      "INFO:crispy:Processing wavelength 0.754250 (17 out of 45)\n",
      "DEBUG:crispy:Input plane is 103x103\n"
     ]
    },
    {
     "name": "stdout",
     "output_type": "stream",
     "text": [
      "crispy - INFO - Processing wavelength 0.757400 (18 out of 45)\n"
     ]
    },
    {
     "name": "stderr",
     "output_type": "stream",
     "text": [
      "INFO:crispy:Processing wavelength 0.757400 (18 out of 45)\n",
      "DEBUG:crispy:Input plane is 103x103\n"
     ]
    },
    {
     "name": "stdout",
     "output_type": "stream",
     "text": [
      "crispy - INFO - Processing wavelength 0.760550 (19 out of 45)\n"
     ]
    },
    {
     "name": "stderr",
     "output_type": "stream",
     "text": [
      "INFO:crispy:Processing wavelength 0.760550 (19 out of 45)\n",
      "DEBUG:crispy:Input plane is 103x103\n"
     ]
    },
    {
     "name": "stdout",
     "output_type": "stream",
     "text": [
      "crispy - INFO - Processing wavelength 0.763700 (20 out of 45)\n"
     ]
    },
    {
     "name": "stderr",
     "output_type": "stream",
     "text": [
      "INFO:crispy:Processing wavelength 0.763700 (20 out of 45)\n",
      "DEBUG:crispy:Input plane is 103x103\n"
     ]
    },
    {
     "name": "stdout",
     "output_type": "stream",
     "text": [
      "crispy - INFO - Processing wavelength 0.766850 (21 out of 45)\n"
     ]
    },
    {
     "name": "stderr",
     "output_type": "stream",
     "text": [
      "INFO:crispy:Processing wavelength 0.766850 (21 out of 45)\n",
      "DEBUG:crispy:Input plane is 103x103\n"
     ]
    },
    {
     "name": "stdout",
     "output_type": "stream",
     "text": [
      "crispy - INFO - Processing wavelength 0.770000 (22 out of 45)\n"
     ]
    },
    {
     "name": "stderr",
     "output_type": "stream",
     "text": [
      "INFO:crispy:Processing wavelength 0.770000 (22 out of 45)\n",
      "DEBUG:crispy:Input plane is 103x103\n"
     ]
    },
    {
     "name": "stdout",
     "output_type": "stream",
     "text": [
      "crispy - INFO - Processing wavelength 0.773150 (23 out of 45)\n"
     ]
    },
    {
     "name": "stderr",
     "output_type": "stream",
     "text": [
      "INFO:crispy:Processing wavelength 0.773150 (23 out of 45)\n",
      "DEBUG:crispy:Input plane is 103x103\n"
     ]
    },
    {
     "name": "stdout",
     "output_type": "stream",
     "text": [
      "crispy - INFO - Processing wavelength 0.776300 (24 out of 45)\n"
     ]
    },
    {
     "name": "stderr",
     "output_type": "stream",
     "text": [
      "INFO:crispy:Processing wavelength 0.776300 (24 out of 45)\n",
      "DEBUG:crispy:Input plane is 103x103\n"
     ]
    },
    {
     "name": "stdout",
     "output_type": "stream",
     "text": [
      "crispy - INFO - Processing wavelength 0.779450 (25 out of 45)\n"
     ]
    },
    {
     "name": "stderr",
     "output_type": "stream",
     "text": [
      "INFO:crispy:Processing wavelength 0.779450 (25 out of 45)\n",
      "DEBUG:crispy:Input plane is 103x103\n"
     ]
    },
    {
     "name": "stdout",
     "output_type": "stream",
     "text": [
      "crispy - INFO - Processing wavelength 0.782600 (26 out of 45)\n"
     ]
    },
    {
     "name": "stderr",
     "output_type": "stream",
     "text": [
      "INFO:crispy:Processing wavelength 0.782600 (26 out of 45)\n",
      "DEBUG:crispy:Input plane is 103x103\n"
     ]
    },
    {
     "name": "stdout",
     "output_type": "stream",
     "text": [
      "crispy - INFO - Processing wavelength 0.785750 (27 out of 45)\n"
     ]
    },
    {
     "name": "stderr",
     "output_type": "stream",
     "text": [
      "INFO:crispy:Processing wavelength 0.785750 (27 out of 45)\n",
      "DEBUG:crispy:Input plane is 103x103\n"
     ]
    },
    {
     "name": "stdout",
     "output_type": "stream",
     "text": [
      "crispy - INFO - Processing wavelength 0.788900 (28 out of 45)\n"
     ]
    },
    {
     "name": "stderr",
     "output_type": "stream",
     "text": [
      "INFO:crispy:Processing wavelength 0.788900 (28 out of 45)\n",
      "DEBUG:crispy:Input plane is 103x103\n"
     ]
    },
    {
     "name": "stdout",
     "output_type": "stream",
     "text": [
      "crispy - INFO - Processing wavelength 0.792050 (29 out of 45)\n"
     ]
    },
    {
     "name": "stderr",
     "output_type": "stream",
     "text": [
      "INFO:crispy:Processing wavelength 0.792050 (29 out of 45)\n",
      "DEBUG:crispy:Input plane is 103x103\n"
     ]
    },
    {
     "name": "stdout",
     "output_type": "stream",
     "text": [
      "crispy - INFO - Processing wavelength 0.795200 (30 out of 45)\n"
     ]
    },
    {
     "name": "stderr",
     "output_type": "stream",
     "text": [
      "INFO:crispy:Processing wavelength 0.795200 (30 out of 45)\n",
      "DEBUG:crispy:Input plane is 103x103\n"
     ]
    },
    {
     "name": "stdout",
     "output_type": "stream",
     "text": [
      "crispy - INFO - Processing wavelength 0.798350 (31 out of 45)\n"
     ]
    },
    {
     "name": "stderr",
     "output_type": "stream",
     "text": [
      "INFO:crispy:Processing wavelength 0.798350 (31 out of 45)\n",
      "DEBUG:crispy:Input plane is 103x103\n"
     ]
    },
    {
     "name": "stdout",
     "output_type": "stream",
     "text": [
      "crispy - INFO - Processing wavelength 0.801500 (32 out of 45)\n"
     ]
    },
    {
     "name": "stderr",
     "output_type": "stream",
     "text": [
      "INFO:crispy:Processing wavelength 0.801500 (32 out of 45)\n",
      "DEBUG:crispy:Input plane is 103x103\n"
     ]
    },
    {
     "name": "stdout",
     "output_type": "stream",
     "text": [
      "crispy - INFO - Processing wavelength 0.804650 (33 out of 45)\n"
     ]
    },
    {
     "name": "stderr",
     "output_type": "stream",
     "text": [
      "INFO:crispy:Processing wavelength 0.804650 (33 out of 45)\n",
      "DEBUG:crispy:Input plane is 103x103\n"
     ]
    },
    {
     "name": "stdout",
     "output_type": "stream",
     "text": [
      "crispy - INFO - Processing wavelength 0.807800 (34 out of 45)\n"
     ]
    },
    {
     "name": "stderr",
     "output_type": "stream",
     "text": [
      "INFO:crispy:Processing wavelength 0.807800 (34 out of 45)\n",
      "DEBUG:crispy:Input plane is 103x103\n"
     ]
    },
    {
     "name": "stdout",
     "output_type": "stream",
     "text": [
      "crispy - INFO - Processing wavelength 0.810950 (35 out of 45)\n"
     ]
    },
    {
     "name": "stderr",
     "output_type": "stream",
     "text": [
      "INFO:crispy:Processing wavelength 0.810950 (35 out of 45)\n",
      "DEBUG:crispy:Input plane is 103x103\n"
     ]
    },
    {
     "name": "stdout",
     "output_type": "stream",
     "text": [
      "crispy - INFO - Processing wavelength 0.814100 (36 out of 45)\n"
     ]
    },
    {
     "name": "stderr",
     "output_type": "stream",
     "text": [
      "INFO:crispy:Processing wavelength 0.814100 (36 out of 45)\n",
      "DEBUG:crispy:Input plane is 103x103\n"
     ]
    },
    {
     "name": "stdout",
     "output_type": "stream",
     "text": [
      "crispy - INFO - Processing wavelength 0.817250 (37 out of 45)\n"
     ]
    },
    {
     "name": "stderr",
     "output_type": "stream",
     "text": [
      "INFO:crispy:Processing wavelength 0.817250 (37 out of 45)\n",
      "DEBUG:crispy:Input plane is 103x103\n"
     ]
    },
    {
     "name": "stdout",
     "output_type": "stream",
     "text": [
      "crispy - INFO - Processing wavelength 0.820400 (38 out of 45)\n"
     ]
    },
    {
     "name": "stderr",
     "output_type": "stream",
     "text": [
      "INFO:crispy:Processing wavelength 0.820400 (38 out of 45)\n",
      "DEBUG:crispy:Input plane is 103x103\n"
     ]
    },
    {
     "name": "stdout",
     "output_type": "stream",
     "text": [
      "crispy - INFO - Processing wavelength 0.823550 (39 out of 45)\n"
     ]
    },
    {
     "name": "stderr",
     "output_type": "stream",
     "text": [
      "INFO:crispy:Processing wavelength 0.823550 (39 out of 45)\n",
      "DEBUG:crispy:Input plane is 103x103\n"
     ]
    },
    {
     "name": "stdout",
     "output_type": "stream",
     "text": [
      "crispy - INFO - Processing wavelength 0.826700 (40 out of 45)\n"
     ]
    },
    {
     "name": "stderr",
     "output_type": "stream",
     "text": [
      "INFO:crispy:Processing wavelength 0.826700 (40 out of 45)\n",
      "DEBUG:crispy:Input plane is 103x103\n"
     ]
    },
    {
     "name": "stdout",
     "output_type": "stream",
     "text": [
      "crispy - INFO - Processing wavelength 0.829850 (41 out of 45)\n"
     ]
    },
    {
     "name": "stderr",
     "output_type": "stream",
     "text": [
      "INFO:crispy:Processing wavelength 0.829850 (41 out of 45)\n",
      "DEBUG:crispy:Input plane is 103x103\n"
     ]
    },
    {
     "name": "stdout",
     "output_type": "stream",
     "text": [
      "crispy - INFO - Processing wavelength 0.833000 (42 out of 45)\n"
     ]
    },
    {
     "name": "stderr",
     "output_type": "stream",
     "text": [
      "INFO:crispy:Processing wavelength 0.833000 (42 out of 45)\n",
      "DEBUG:crispy:Input plane is 103x103\n"
     ]
    },
    {
     "name": "stdout",
     "output_type": "stream",
     "text": [
      "crispy - INFO - Processing wavelength 0.836150 (43 out of 45)\n"
     ]
    },
    {
     "name": "stderr",
     "output_type": "stream",
     "text": [
      "INFO:crispy:Processing wavelength 0.836150 (43 out of 45)\n",
      "DEBUG:crispy:Input plane is 103x103\n"
     ]
    },
    {
     "name": "stdout",
     "output_type": "stream",
     "text": [
      "crispy - INFO - Processing wavelength 0.839300 (44 out of 45)\n"
     ]
    },
    {
     "name": "stderr",
     "output_type": "stream",
     "text": [
      "INFO:crispy:Processing wavelength 0.839300 (44 out of 45)\n",
      "DEBUG:crispy:Input plane is 103x103\n"
     ]
    },
    {
     "name": "stdout",
     "output_type": "stream",
     "text": [
      "crispy - INFO - Number of detector pixels per lenslet: 13.384615\n"
     ]
    },
    {
     "name": "stderr",
     "output_type": "stream",
     "text": [
      "INFO:crispy:Number of detector pixels per lenslet: 13.384615\n"
     ]
    },
    {
     "name": "stdout",
     "output_type": "stream",
     "text": [
      "crispy - INFO - Rebinning final detector. Image has dimensions 1024x1024\n"
     ]
    },
    {
     "name": "stderr",
     "output_type": "stream",
     "text": [
      "INFO:crispy:Rebinning final detector. Image has dimensions 1024x1024\n"
     ]
    },
    {
     "name": "stdout",
     "output_type": "stream",
     "text": [
      "crispy - INFO - Done.\n"
     ]
    },
    {
     "name": "stderr",
     "output_type": "stream",
     "text": [
      "INFO:crispy:Done.\n"
     ]
    },
    {
     "name": "stdout",
     "output_type": "stream",
     "text": [
      "crispy - INFO - Performance: 35 seconds total\n"
     ]
    },
    {
     "name": "stderr",
     "output_type": "stream",
     "text": [
      "INFO:crispy:Performance: 35 seconds total\n"
     ]
    },
    {
     "name": "stdout",
     "output_type": "stream",
     "text": [
      "crispy - ERROR - Unable to write FITS file OS5/OS5_test/OS5_average/offaxiscubePhPerSec.fits\n"
     ]
    },
    {
     "name": "stderr",
     "output_type": "stream",
     "text": [
      "ERROR:crispy:Unable to write FITS file OS5/OS5_test/OS5_average/offaxiscubePhPerSec.fits\n"
     ]
    },
    {
     "name": "stdout",
     "output_type": "stream",
     "text": [
      "crispy - INFO - Writing data to OS5/OS5_test/OS5_average/offaxis.fits\n"
     ]
    },
    {
     "name": "stderr",
     "output_type": "stream",
     "text": [
      "INFO:crispy:Writing data to OS5/OS5_test/OS5_average/offaxis.fits\n"
     ]
    },
    {
     "name": "stdout",
     "output_type": "stream",
     "text": [
      "crispy - INFO - The number of input pixels per lenslet is 4.285714\n"
     ]
    },
    {
     "name": "stderr",
     "output_type": "stream",
     "text": [
      "INFO:crispy:The number of input pixels per lenslet is 4.285714\n"
     ]
    },
    {
     "name": "stdout",
     "output_type": "stream",
     "text": [
      "crispy - INFO - Using PSFlet gaussian approximation\n"
     ]
    },
    {
     "name": "stderr",
     "output_type": "stream",
     "text": [
      "INFO:crispy:Using PSFlet gaussian approximation\n"
     ]
    },
    {
     "name": "stdout",
     "output_type": "stream",
     "text": [
      "crispy - INFO - Final detector pixel per PSFLet: 40.000000\n"
     ]
    },
    {
     "name": "stderr",
     "output_type": "stream",
     "text": [
      "INFO:crispy:Final detector pixel per PSFLet: 40.000000\n"
     ]
    },
    {
     "name": "stdout",
     "output_type": "stream",
     "text": [
      "crispy - INFO - Processing wavelength 0.700700 (0 out of 45)\n"
     ]
    },
    {
     "name": "stderr",
     "output_type": "stream",
     "text": [
      "INFO:crispy:Processing wavelength 0.700700 (0 out of 45)\n",
      "DEBUG:crispy:Input plane is 103x103\n"
     ]
    },
    {
     "name": "stdout",
     "output_type": "stream",
     "text": [
      "crispy - INFO - Processing wavelength 0.703850 (1 out of 45)\n"
     ]
    },
    {
     "name": "stderr",
     "output_type": "stream",
     "text": [
      "INFO:crispy:Processing wavelength 0.703850 (1 out of 45)\n",
      "DEBUG:crispy:Input plane is 103x103\n"
     ]
    },
    {
     "name": "stdout",
     "output_type": "stream",
     "text": [
      "crispy - INFO - Processing wavelength 0.707000 (2 out of 45)\n"
     ]
    },
    {
     "name": "stderr",
     "output_type": "stream",
     "text": [
      "INFO:crispy:Processing wavelength 0.707000 (2 out of 45)\n",
      "DEBUG:crispy:Input plane is 103x103\n"
     ]
    },
    {
     "name": "stdout",
     "output_type": "stream",
     "text": [
      "crispy - INFO - Processing wavelength 0.710150 (3 out of 45)\n"
     ]
    },
    {
     "name": "stderr",
     "output_type": "stream",
     "text": [
      "INFO:crispy:Processing wavelength 0.710150 (3 out of 45)\n",
      "DEBUG:crispy:Input plane is 103x103\n"
     ]
    },
    {
     "name": "stdout",
     "output_type": "stream",
     "text": [
      "crispy - INFO - Processing wavelength 0.713300 (4 out of 45)\n"
     ]
    },
    {
     "name": "stderr",
     "output_type": "stream",
     "text": [
      "INFO:crispy:Processing wavelength 0.713300 (4 out of 45)\n",
      "DEBUG:crispy:Input plane is 103x103\n"
     ]
    },
    {
     "name": "stdout",
     "output_type": "stream",
     "text": [
      "crispy - INFO - Processing wavelength 0.716450 (5 out of 45)\n"
     ]
    },
    {
     "name": "stderr",
     "output_type": "stream",
     "text": [
      "INFO:crispy:Processing wavelength 0.716450 (5 out of 45)\n",
      "DEBUG:crispy:Input plane is 103x103\n"
     ]
    },
    {
     "name": "stdout",
     "output_type": "stream",
     "text": [
      "crispy - INFO - Processing wavelength 0.719600 (6 out of 45)\n"
     ]
    },
    {
     "name": "stderr",
     "output_type": "stream",
     "text": [
      "INFO:crispy:Processing wavelength 0.719600 (6 out of 45)\n",
      "DEBUG:crispy:Input plane is 103x103\n"
     ]
    },
    {
     "name": "stdout",
     "output_type": "stream",
     "text": [
      "crispy - INFO - Processing wavelength 0.722750 (7 out of 45)\n"
     ]
    },
    {
     "name": "stderr",
     "output_type": "stream",
     "text": [
      "INFO:crispy:Processing wavelength 0.722750 (7 out of 45)\n",
      "DEBUG:crispy:Input plane is 103x103\n"
     ]
    },
    {
     "name": "stdout",
     "output_type": "stream",
     "text": [
      "crispy - INFO - Processing wavelength 0.725900 (8 out of 45)\n"
     ]
    },
    {
     "name": "stderr",
     "output_type": "stream",
     "text": [
      "INFO:crispy:Processing wavelength 0.725900 (8 out of 45)\n",
      "DEBUG:crispy:Input plane is 103x103\n"
     ]
    },
    {
     "name": "stdout",
     "output_type": "stream",
     "text": [
      "crispy - INFO - Processing wavelength 0.729050 (9 out of 45)\n"
     ]
    },
    {
     "name": "stderr",
     "output_type": "stream",
     "text": [
      "INFO:crispy:Processing wavelength 0.729050 (9 out of 45)\n",
      "DEBUG:crispy:Input plane is 103x103\n"
     ]
    },
    {
     "name": "stdout",
     "output_type": "stream",
     "text": [
      "crispy - INFO - Processing wavelength 0.732200 (10 out of 45)\n"
     ]
    },
    {
     "name": "stderr",
     "output_type": "stream",
     "text": [
      "INFO:crispy:Processing wavelength 0.732200 (10 out of 45)\n",
      "DEBUG:crispy:Input plane is 103x103\n"
     ]
    },
    {
     "name": "stdout",
     "output_type": "stream",
     "text": [
      "crispy - INFO - Processing wavelength 0.735350 (11 out of 45)\n"
     ]
    },
    {
     "name": "stderr",
     "output_type": "stream",
     "text": [
      "INFO:crispy:Processing wavelength 0.735350 (11 out of 45)\n",
      "DEBUG:crispy:Input plane is 103x103\n"
     ]
    },
    {
     "name": "stdout",
     "output_type": "stream",
     "text": [
      "crispy - INFO - Processing wavelength 0.738500 (12 out of 45)\n"
     ]
    },
    {
     "name": "stderr",
     "output_type": "stream",
     "text": [
      "INFO:crispy:Processing wavelength 0.738500 (12 out of 45)\n",
      "DEBUG:crispy:Input plane is 103x103\n"
     ]
    },
    {
     "name": "stdout",
     "output_type": "stream",
     "text": [
      "crispy - INFO - Processing wavelength 0.741650 (13 out of 45)\n"
     ]
    },
    {
     "name": "stderr",
     "output_type": "stream",
     "text": [
      "INFO:crispy:Processing wavelength 0.741650 (13 out of 45)\n",
      "DEBUG:crispy:Input plane is 103x103\n"
     ]
    },
    {
     "name": "stdout",
     "output_type": "stream",
     "text": [
      "crispy - INFO - Processing wavelength 0.744800 (14 out of 45)\n"
     ]
    },
    {
     "name": "stderr",
     "output_type": "stream",
     "text": [
      "INFO:crispy:Processing wavelength 0.744800 (14 out of 45)\n",
      "DEBUG:crispy:Input plane is 103x103\n"
     ]
    },
    {
     "name": "stdout",
     "output_type": "stream",
     "text": [
      "crispy - INFO - Processing wavelength 0.747950 (15 out of 45)\n"
     ]
    },
    {
     "name": "stderr",
     "output_type": "stream",
     "text": [
      "INFO:crispy:Processing wavelength 0.747950 (15 out of 45)\n",
      "DEBUG:crispy:Input plane is 103x103\n"
     ]
    },
    {
     "name": "stdout",
     "output_type": "stream",
     "text": [
      "crispy - INFO - Processing wavelength 0.751100 (16 out of 45)\n"
     ]
    },
    {
     "name": "stderr",
     "output_type": "stream",
     "text": [
      "INFO:crispy:Processing wavelength 0.751100 (16 out of 45)\n",
      "DEBUG:crispy:Input plane is 103x103\n"
     ]
    },
    {
     "name": "stdout",
     "output_type": "stream",
     "text": [
      "crispy - INFO - Processing wavelength 0.754250 (17 out of 45)\n"
     ]
    },
    {
     "name": "stderr",
     "output_type": "stream",
     "text": [
      "INFO:crispy:Processing wavelength 0.754250 (17 out of 45)\n",
      "DEBUG:crispy:Input plane is 103x103\n"
     ]
    },
    {
     "name": "stdout",
     "output_type": "stream",
     "text": [
      "crispy - INFO - Processing wavelength 0.757400 (18 out of 45)\n"
     ]
    },
    {
     "name": "stderr",
     "output_type": "stream",
     "text": [
      "INFO:crispy:Processing wavelength 0.757400 (18 out of 45)\n",
      "DEBUG:crispy:Input plane is 103x103\n"
     ]
    },
    {
     "name": "stdout",
     "output_type": "stream",
     "text": [
      "crispy - INFO - Processing wavelength 0.760550 (19 out of 45)\n"
     ]
    },
    {
     "name": "stderr",
     "output_type": "stream",
     "text": [
      "INFO:crispy:Processing wavelength 0.760550 (19 out of 45)\n",
      "DEBUG:crispy:Input plane is 103x103\n"
     ]
    },
    {
     "name": "stdout",
     "output_type": "stream",
     "text": [
      "crispy - INFO - Processing wavelength 0.763700 (20 out of 45)\n"
     ]
    },
    {
     "name": "stderr",
     "output_type": "stream",
     "text": [
      "INFO:crispy:Processing wavelength 0.763700 (20 out of 45)\n",
      "DEBUG:crispy:Input plane is 103x103\n"
     ]
    },
    {
     "name": "stdout",
     "output_type": "stream",
     "text": [
      "crispy - INFO - Processing wavelength 0.766850 (21 out of 45)\n"
     ]
    },
    {
     "name": "stderr",
     "output_type": "stream",
     "text": [
      "INFO:crispy:Processing wavelength 0.766850 (21 out of 45)\n",
      "DEBUG:crispy:Input plane is 103x103\n"
     ]
    },
    {
     "name": "stdout",
     "output_type": "stream",
     "text": [
      "crispy - INFO - Processing wavelength 0.770000 (22 out of 45)\n"
     ]
    },
    {
     "name": "stderr",
     "output_type": "stream",
     "text": [
      "INFO:crispy:Processing wavelength 0.770000 (22 out of 45)\n",
      "DEBUG:crispy:Input plane is 103x103\n"
     ]
    },
    {
     "name": "stdout",
     "output_type": "stream",
     "text": [
      "crispy - INFO - Processing wavelength 0.773150 (23 out of 45)\n"
     ]
    },
    {
     "name": "stderr",
     "output_type": "stream",
     "text": [
      "INFO:crispy:Processing wavelength 0.773150 (23 out of 45)\n",
      "DEBUG:crispy:Input plane is 103x103\n"
     ]
    },
    {
     "name": "stdout",
     "output_type": "stream",
     "text": [
      "crispy - INFO - Processing wavelength 0.776300 (24 out of 45)\n"
     ]
    },
    {
     "name": "stderr",
     "output_type": "stream",
     "text": [
      "INFO:crispy:Processing wavelength 0.776300 (24 out of 45)\n",
      "DEBUG:crispy:Input plane is 103x103\n"
     ]
    },
    {
     "name": "stdout",
     "output_type": "stream",
     "text": [
      "crispy - INFO - Processing wavelength 0.779450 (25 out of 45)\n"
     ]
    },
    {
     "name": "stderr",
     "output_type": "stream",
     "text": [
      "INFO:crispy:Processing wavelength 0.779450 (25 out of 45)\n",
      "DEBUG:crispy:Input plane is 103x103\n"
     ]
    },
    {
     "name": "stdout",
     "output_type": "stream",
     "text": [
      "crispy - INFO - Processing wavelength 0.782600 (26 out of 45)\n"
     ]
    },
    {
     "name": "stderr",
     "output_type": "stream",
     "text": [
      "INFO:crispy:Processing wavelength 0.782600 (26 out of 45)\n",
      "DEBUG:crispy:Input plane is 103x103\n"
     ]
    },
    {
     "name": "stdout",
     "output_type": "stream",
     "text": [
      "crispy - INFO - Processing wavelength 0.785750 (27 out of 45)\n"
     ]
    },
    {
     "name": "stderr",
     "output_type": "stream",
     "text": [
      "INFO:crispy:Processing wavelength 0.785750 (27 out of 45)\n",
      "DEBUG:crispy:Input plane is 103x103\n"
     ]
    },
    {
     "name": "stdout",
     "output_type": "stream",
     "text": [
      "crispy - INFO - Processing wavelength 0.788900 (28 out of 45)\n"
     ]
    },
    {
     "name": "stderr",
     "output_type": "stream",
     "text": [
      "INFO:crispy:Processing wavelength 0.788900 (28 out of 45)\n",
      "DEBUG:crispy:Input plane is 103x103\n"
     ]
    },
    {
     "name": "stdout",
     "output_type": "stream",
     "text": [
      "crispy - INFO - Processing wavelength 0.792050 (29 out of 45)\n"
     ]
    },
    {
     "name": "stderr",
     "output_type": "stream",
     "text": [
      "INFO:crispy:Processing wavelength 0.792050 (29 out of 45)\n",
      "DEBUG:crispy:Input plane is 103x103\n"
     ]
    },
    {
     "name": "stdout",
     "output_type": "stream",
     "text": [
      "crispy - INFO - Processing wavelength 0.795200 (30 out of 45)\n"
     ]
    },
    {
     "name": "stderr",
     "output_type": "stream",
     "text": [
      "INFO:crispy:Processing wavelength 0.795200 (30 out of 45)\n",
      "DEBUG:crispy:Input plane is 103x103\n"
     ]
    },
    {
     "name": "stdout",
     "output_type": "stream",
     "text": [
      "crispy - INFO - Processing wavelength 0.798350 (31 out of 45)\n"
     ]
    },
    {
     "name": "stderr",
     "output_type": "stream",
     "text": [
      "INFO:crispy:Processing wavelength 0.798350 (31 out of 45)\n",
      "DEBUG:crispy:Input plane is 103x103\n"
     ]
    },
    {
     "name": "stdout",
     "output_type": "stream",
     "text": [
      "crispy - INFO - Processing wavelength 0.801500 (32 out of 45)\n"
     ]
    },
    {
     "name": "stderr",
     "output_type": "stream",
     "text": [
      "INFO:crispy:Processing wavelength 0.801500 (32 out of 45)\n",
      "DEBUG:crispy:Input plane is 103x103\n"
     ]
    },
    {
     "name": "stdout",
     "output_type": "stream",
     "text": [
      "crispy - INFO - Processing wavelength 0.804650 (33 out of 45)\n"
     ]
    },
    {
     "name": "stderr",
     "output_type": "stream",
     "text": [
      "INFO:crispy:Processing wavelength 0.804650 (33 out of 45)\n",
      "DEBUG:crispy:Input plane is 103x103\n"
     ]
    },
    {
     "name": "stdout",
     "output_type": "stream",
     "text": [
      "crispy - INFO - Processing wavelength 0.807800 (34 out of 45)\n"
     ]
    },
    {
     "name": "stderr",
     "output_type": "stream",
     "text": [
      "INFO:crispy:Processing wavelength 0.807800 (34 out of 45)\n",
      "DEBUG:crispy:Input plane is 103x103\n"
     ]
    },
    {
     "name": "stdout",
     "output_type": "stream",
     "text": [
      "crispy - INFO - Processing wavelength 0.810950 (35 out of 45)\n"
     ]
    },
    {
     "name": "stderr",
     "output_type": "stream",
     "text": [
      "INFO:crispy:Processing wavelength 0.810950 (35 out of 45)\n",
      "DEBUG:crispy:Input plane is 103x103\n"
     ]
    },
    {
     "name": "stdout",
     "output_type": "stream",
     "text": [
      "crispy - INFO - Processing wavelength 0.814100 (36 out of 45)\n"
     ]
    },
    {
     "name": "stderr",
     "output_type": "stream",
     "text": [
      "INFO:crispy:Processing wavelength 0.814100 (36 out of 45)\n",
      "DEBUG:crispy:Input plane is 103x103\n"
     ]
    },
    {
     "name": "stdout",
     "output_type": "stream",
     "text": [
      "crispy - INFO - Processing wavelength 0.817250 (37 out of 45)\n"
     ]
    },
    {
     "name": "stderr",
     "output_type": "stream",
     "text": [
      "INFO:crispy:Processing wavelength 0.817250 (37 out of 45)\n",
      "DEBUG:crispy:Input plane is 103x103\n"
     ]
    },
    {
     "name": "stdout",
     "output_type": "stream",
     "text": [
      "crispy - INFO - Processing wavelength 0.820400 (38 out of 45)\n"
     ]
    },
    {
     "name": "stderr",
     "output_type": "stream",
     "text": [
      "INFO:crispy:Processing wavelength 0.820400 (38 out of 45)\n",
      "DEBUG:crispy:Input plane is 103x103\n"
     ]
    },
    {
     "name": "stdout",
     "output_type": "stream",
     "text": [
      "crispy - INFO - Processing wavelength 0.823550 (39 out of 45)\n"
     ]
    },
    {
     "name": "stderr",
     "output_type": "stream",
     "text": [
      "INFO:crispy:Processing wavelength 0.823550 (39 out of 45)\n",
      "DEBUG:crispy:Input plane is 103x103\n"
     ]
    },
    {
     "name": "stdout",
     "output_type": "stream",
     "text": [
      "crispy - INFO - Processing wavelength 0.826700 (40 out of 45)\n"
     ]
    },
    {
     "name": "stderr",
     "output_type": "stream",
     "text": [
      "INFO:crispy:Processing wavelength 0.826700 (40 out of 45)\n",
      "DEBUG:crispy:Input plane is 103x103\n"
     ]
    },
    {
     "name": "stdout",
     "output_type": "stream",
     "text": [
      "crispy - INFO - Processing wavelength 0.829850 (41 out of 45)\n"
     ]
    },
    {
     "name": "stderr",
     "output_type": "stream",
     "text": [
      "INFO:crispy:Processing wavelength 0.829850 (41 out of 45)\n",
      "DEBUG:crispy:Input plane is 103x103\n"
     ]
    },
    {
     "name": "stdout",
     "output_type": "stream",
     "text": [
      "crispy - INFO - Processing wavelength 0.833000 (42 out of 45)\n"
     ]
    },
    {
     "name": "stderr",
     "output_type": "stream",
     "text": [
      "INFO:crispy:Processing wavelength 0.833000 (42 out of 45)\n",
      "DEBUG:crispy:Input plane is 103x103\n"
     ]
    },
    {
     "name": "stdout",
     "output_type": "stream",
     "text": [
      "crispy - INFO - Processing wavelength 0.836150 (43 out of 45)\n"
     ]
    },
    {
     "name": "stderr",
     "output_type": "stream",
     "text": [
      "INFO:crispy:Processing wavelength 0.836150 (43 out of 45)\n",
      "DEBUG:crispy:Input plane is 103x103\n"
     ]
    },
    {
     "name": "stdout",
     "output_type": "stream",
     "text": [
      "crispy - INFO - Processing wavelength 0.839300 (44 out of 45)\n"
     ]
    },
    {
     "name": "stderr",
     "output_type": "stream",
     "text": [
      "INFO:crispy:Processing wavelength 0.839300 (44 out of 45)\n",
      "DEBUG:crispy:Input plane is 103x103\n"
     ]
    },
    {
     "name": "stdout",
     "output_type": "stream",
     "text": [
      "crispy - INFO - Number of detector pixels per lenslet: 13.384615\n"
     ]
    },
    {
     "name": "stderr",
     "output_type": "stream",
     "text": [
      "INFO:crispy:Number of detector pixels per lenslet: 13.384615\n"
     ]
    },
    {
     "name": "stdout",
     "output_type": "stream",
     "text": [
      "crispy - INFO - Rebinning final detector. Image has dimensions 1024x1024\n"
     ]
    },
    {
     "name": "stderr",
     "output_type": "stream",
     "text": [
      "INFO:crispy:Rebinning final detector. Image has dimensions 1024x1024\n"
     ]
    },
    {
     "name": "stdout",
     "output_type": "stream",
     "text": [
      "crispy - INFO - Done.\n"
     ]
    },
    {
     "name": "stderr",
     "output_type": "stream",
     "text": [
      "INFO:crispy:Done.\n"
     ]
    },
    {
     "name": "stdout",
     "output_type": "stream",
     "text": [
      "crispy - INFO - Performance: 35 seconds total\n"
     ]
    },
    {
     "name": "stderr",
     "output_type": "stream",
     "text": [
      "INFO:crispy:Performance: 35 seconds total\n"
     ]
    },
    {
     "name": "stdout",
     "output_type": "stream",
     "text": [
      "crispy - INFO - Writing data to OS5/OS5_test/OS5_average/offaxis_flipped.fits\n"
     ]
    },
    {
     "name": "stderr",
     "output_type": "stream",
     "text": [
      "INFO:crispy:Writing data to OS5/OS5_test/OS5_average/offaxis_flipped.fits\n"
     ]
    },
    {
     "name": "stdout",
     "output_type": "stream",
     "text": [
      "crispy - INFO - Read data from HDU 1 of OS5/OS5_test/OS5_average/offaxis.fits\n"
     ]
    },
    {
     "name": "stderr",
     "output_type": "stream",
     "text": [
      "INFO:crispy:Read data from HDU 1 of OS5/OS5_test/OS5_average/offaxis.fits\n"
     ]
    },
    {
     "name": "stdout",
     "output_type": "stream",
     "text": [
      "crispy - INFO - Writing data to OS5/OS5_test/OS5_average/offaxis_only_detectorized.fits\n"
     ]
    },
    {
     "name": "stderr",
     "output_type": "stream",
     "text": [
      "INFO:crispy:Writing data to OS5/OS5_test/OS5_average/offaxis_only_detectorized.fits\n"
     ]
    },
    {
     "name": "stdout",
     "output_type": "stream",
     "text": [
      "crispy - INFO - Read data from HDU 1 of /local/data/nicolaus2/mrizzo/crispy/code/OS5/OS5_test/OS5_average/offaxis.fits\n"
     ]
    },
    {
     "name": "stderr",
     "output_type": "stream",
     "text": [
      "INFO:crispy:Read data from HDU 1 of /local/data/nicolaus2/mrizzo/crispy/code/OS5/OS5_test/OS5_average/offaxis.fits\n"
     ]
    },
    {
     "name": "stdout",
     "output_type": "stream",
     "text": [
      "crispy - INFO - Reduced cube will have 17 wavelength bins\n"
     ]
    },
    {
     "name": "stderr",
     "output_type": "stream",
     "text": [
      "INFO:crispy:Reduced cube will have 17 wavelength bins\n"
     ]
    },
    {
     "name": "stdout",
     "output_type": "stream",
     "text": [
      "crispy - INFO - Writing data to ./SimResults/offaxis_red_optext.fits\n"
     ]
    },
    {
     "name": "stderr",
     "output_type": "stream",
     "text": [
      "INFO:crispy:Writing data to ./SimResults/offaxis_red_optext.fits\n"
     ]
    },
    {
     "name": "stdout",
     "output_type": "stream",
     "text": [
      "crispy - INFO - Read data from HDU 1 of /local/data/nicolaus2/mrizzo/crispy/code/OS5/OS5_test/OS5_average/offaxis_flipped.fits\n"
     ]
    },
    {
     "name": "stderr",
     "output_type": "stream",
     "text": [
      "INFO:crispy:Read data from HDU 1 of /local/data/nicolaus2/mrizzo/crispy/code/OS5/OS5_test/OS5_average/offaxis_flipped.fits\n"
     ]
    },
    {
     "name": "stdout",
     "output_type": "stream",
     "text": [
      "crispy - INFO - Reduced cube will have 17 wavelength bins\n"
     ]
    },
    {
     "name": "stderr",
     "output_type": "stream",
     "text": [
      "INFO:crispy:Reduced cube will have 17 wavelength bins\n"
     ]
    },
    {
     "name": "stdout",
     "output_type": "stream",
     "text": [
      "crispy - INFO - Writing data to ./SimResults/offaxis_flipped_red_optext.fits\n"
     ]
    },
    {
     "name": "stderr",
     "output_type": "stream",
     "text": [
      "INFO:crispy:Writing data to ./SimResults/offaxis_flipped_red_optext.fits\n"
     ]
    },
    {
     "name": "stdout",
     "output_type": "stream",
     "text": [
      "crispy - INFO - Read data from HDU 1 of OS5/OS5_test/OS5_average/offaxis_only_detectorized.fits\n"
     ]
    },
    {
     "name": "stderr",
     "output_type": "stream",
     "text": [
      "INFO:crispy:Read data from HDU 1 of OS5/OS5_test/OS5_average/offaxis_only_detectorized.fits\n"
     ]
    },
    {
     "name": "stdout",
     "output_type": "stream",
     "text": [
      "crispy - INFO - Reduced cube will have 17 wavelength bins\n"
     ]
    },
    {
     "name": "stderr",
     "output_type": "stream",
     "text": [
      "INFO:crispy:Reduced cube will have 17 wavelength bins\n"
     ]
    },
    {
     "name": "stdout",
     "output_type": "stream",
     "text": [
      "crispy - INFO - Writing data to ./SimResults/offaxis_only_detectorized_red_optext.fits\n"
     ]
    },
    {
     "name": "stderr",
     "output_type": "stream",
     "text": [
      "INFO:crispy:Writing data to ./SimResults/offaxis_only_detectorized_red_optext.fits\n"
     ]
    },
    {
     "name": "stdout",
     "output_type": "stream",
     "text": [
      "crispy - INFO - Read data from HDU 1 of ./SimResults/flatfield_red_optext.fits\n"
     ]
    },
    {
     "name": "stderr",
     "output_type": "stream",
     "text": [
      "INFO:crispy:Read data from HDU 1 of ./SimResults/flatfield_red_optext.fits\n"
     ]
    },
    {
     "name": "stdout",
     "output_type": "stream",
     "text": [
      "crispy - INFO - Read inverse variance from HDU 2 of ./SimResults/flatfield_red_optext.fits\n"
     ]
    },
    {
     "name": "stderr",
     "output_type": "stream",
     "text": [
      "INFO:crispy:Read inverse variance from HDU 2 of ./SimResults/flatfield_red_optext.fits\n"
     ]
    },
    {
     "name": "stdout",
     "output_type": "stream",
     "text": [
      "crispy - INFO - Writing data to OS5/OS5_test/OS5_average/residual_flatfielded.fits\n"
     ]
    },
    {
     "name": "stderr",
     "output_type": "stream",
     "text": [
      "INFO:crispy:Writing data to OS5/OS5_test/OS5_average/residual_flatfielded.fits\n"
     ]
    },
    {
     "name": "stdout",
     "output_type": "stream",
     "text": [
      "crispy - INFO - Writing data to OS5/OS5_test/OS5_average/matched_filter.fits\n"
     ]
    },
    {
     "name": "stderr",
     "output_type": "stream",
     "text": [
      "INFO:crispy:Writing data to OS5/OS5_test/OS5_average/matched_filter.fits\n"
     ]
    },
    {
     "name": "stdout",
     "output_type": "stream",
     "text": [
      "crispy - INFO - Writing data to OS5/OS5_test/OS5_average/matched_filter_flipped.fits\n"
     ]
    },
    {
     "name": "stderr",
     "output_type": "stream",
     "text": [
      "INFO:crispy:Writing data to OS5/OS5_test/OS5_average/matched_filter_flipped.fits\n"
     ]
    },
    {
     "name": "stdout",
     "output_type": "stream",
     "text": [
      "crispy - INFO - Cube conversion: 0.917\n"
     ]
    },
    {
     "name": "stderr",
     "output_type": "stream",
     "text": [
      "INFO:crispy:Cube conversion: 0.917\n"
     ]
    },
    {
     "name": "stdout",
     "output_type": "stream",
     "text": [
      "crispy - INFO - Process cubes through IFS: 0.000\n"
     ]
    },
    {
     "name": "stderr",
     "output_type": "stream",
     "text": [
      "INFO:crispy:Process cubes through IFS: 0.000\n"
     ]
    },
    {
     "name": "stdout",
     "output_type": "stream",
     "text": [
      "crispy - INFO - Process off-axis PSF through IFS: 71.731\n"
     ]
    },
    {
     "name": "stderr",
     "output_type": "stream",
     "text": [
      "INFO:crispy:Process off-axis PSF through IFS: 71.731\n"
     ]
    },
    {
     "name": "stdout",
     "output_type": "stream",
     "text": [
      "crispy - INFO - Construct IFS detector: 85.638\n"
     ]
    },
    {
     "name": "stderr",
     "output_type": "stream",
     "text": [
      "INFO:crispy:Construct IFS detector: 85.638\n"
     ]
    },
    {
     "name": "stdout",
     "output_type": "stream",
     "text": [
      "crispy - INFO - Taking averages: 0.000\n"
     ]
    },
    {
     "name": "stderr",
     "output_type": "stream",
     "text": [
      "INFO:crispy:Taking averages: 0.000\n"
     ]
    },
    {
     "name": "stdout",
     "output_type": "stream",
     "text": [
      "crispy - INFO - Process average cubes: 51.712\n"
     ]
    },
    {
     "name": "stderr",
     "output_type": "stream",
     "text": [
      "INFO:crispy:Process average cubes: 51.712\n"
     ]
    },
    {
     "name": "stdout",
     "output_type": "stream",
     "text": [
      "crispy - INFO - Normalize and subtract reference PSF: 0.000\n"
     ]
    },
    {
     "name": "stderr",
     "output_type": "stream",
     "text": [
      "INFO:crispy:Normalize and subtract reference PSF: 0.000\n"
     ]
    },
    {
     "name": "stdout",
     "output_type": "stream",
     "text": [
      "crispy - INFO - Computed signal and noise arrays: 0.051\n"
     ]
    },
    {
     "name": "stderr",
     "output_type": "stream",
     "text": [
      "INFO:crispy:Computed signal and noise arrays: 0.051\n"
     ]
    },
    {
     "name": "stdout",
     "output_type": "stream",
     "text": [
      "crispy - INFO - Total time: 210.049\n"
     ]
    },
    {
     "name": "stderr",
     "output_type": "stream",
     "text": [
      "INFO:crispy:Total time: 210.049\n"
     ]
    }
   ],
   "source": [
    "par.lenslet_wav = 660.\n",
    "par.makeHeader()\n",
    "offaxispsf= '/local/data/nicolaus2/mrizzo/haystacks/for_gsfc/spc_offaxis_psf.fits'\n",
    "mean_contrast = 1e-7\n",
    "from tools.postprocessing import SPC_process_offaxis_only\n",
    "signal,noise,off = SPC_process_offaxis_only(par,offaxispsf,mean_contrast=mean_contrast,\n",
    "                outdir_time_series = 'OS5/OS5_test',outdir_detector='OS5/OS5_test/OS5_detector',\n",
    "                outdir_average='OS5/OS5_test/OS5_average',\n",
    "                process_offaxis=True,\n",
    "                process_detector=True,\n",
    "                take_averages=True)"
   ]
  }
 ],
 "metadata": {
  "kernelspec": {
   "display_name": "Python 2",
   "language": "python",
   "name": "python2"
  },
  "language_info": {
   "codemirror_mode": {
    "name": "ipython",
    "version": 2
   },
   "file_extension": ".py",
   "mimetype": "text/x-python",
   "name": "python",
   "nbconvert_exporter": "python",
   "pygments_lexer": "ipython2",
   "version": "2.7.13"
  }
 },
 "nbformat": 4,
 "nbformat_minor": 1
}
