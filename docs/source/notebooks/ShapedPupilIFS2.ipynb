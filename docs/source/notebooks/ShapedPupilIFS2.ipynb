{
 "cells": [
  {
   "cell_type": "code",
   "execution_count": 1,
   "metadata": {
    "collapsed": false
   },
   "outputs": [
    {
     "name": "stdout",
     "output_type": "stream",
     "text": [
      "Populating the interactive namespace from numpy and matplotlib\n",
      "../../../../crispy\n"
     ]
    }
   ],
   "source": [
    "%pylab inline --no-import-all\n",
    "matplotlib.rcParams['image.origin'] = 'lower'\n",
    "matplotlib.rcParams['image.interpolation'] = 'nearest'\n",
    "import sys\n",
    "import os\n",
    "\n",
    "folder = '../../../../crispy'\n",
    "print(folder)\n",
    "if folder not in sys.path: sys.path.append(folder)\n",
    "\n",
    "from crispy.params import Params\n",
    "folder = '../../../crispy'\n",
    "\n",
    "from crispy.tools.initLogger import getLogger\n",
    "log = getLogger('crispy',addSH=False)\n",
    "from crispy.IFS import propagateIFS\n",
    "from crispy.IFS import reduceIFSMap\n",
    "from crispy.tools.postprocessing import process_SPC_IFS\n",
    "from crispy.unitTests import testCreateFlatfield\n",
    "\n",
    "os.chdir(folder)\n",
    "par = Params()\n",
    "par.saveRotatedInput = False\n",
    "par.saveDetector = False\n"
   ]
  },
  {
   "cell_type": "code",
   "execution_count": null,
   "metadata": {
    "collapsed": false,
    "scrolled": true
   },
   "outputs": [],
   "source": [
    "testCreateFlatfield(par)\n"
   ]
  },
  {
   "cell_type": "markdown",
   "metadata": {},
   "source": [
    "### reduce flatfield"
   ]
  },
  {
   "cell_type": "code",
   "execution_count": null,
   "metadata": {
    "collapsed": false
   },
   "outputs": [],
   "source": [
    "\n",
    "reduceIFSMap(par,par.unitTestsOutputs+'/flatfield.fits')"
   ]
  },
  {
   "cell_type": "code",
   "execution_count": 2,
   "metadata": {
    "collapsed": false,
    "scrolled": true
   },
   "outputs": [
    {
     "name": "stdout",
     "output_type": "stream",
     "text": [
      "crispy - INFO - Read data from HDU 0 of /local/data/nicolaus2/mrizzo/haystacks/for_gsfc/with_lowfc/os5_spc_001.fits\n"
     ]
    },
    {
     "name": "stderr",
     "output_type": "stream",
     "text": [
      "INFO:crispy:Read data from HDU 0 of /local/data/nicolaus2/mrizzo/haystacks/for_gsfc/with_lowfc/os5_spc_001.fits\n"
     ]
    },
    {
     "name": "stdout",
     "output_type": "stream",
     "text": [
      "/local/data/nicolaus2/mrizzo/crispy/crispy/OS5/OS5_average/average_ref_star_detector.fits\n",
      "crispy - INFO - Read data from HDU 1 of /local/data/nicolaus2/mrizzo/crispy/crispy/OS5/OS5_average/average_ref_star_detector.fits\n"
     ]
    },
    {
     "name": "stderr",
     "output_type": "stream",
     "text": [
      "INFO:crispy:Read data from HDU 1 of /local/data/nicolaus2/mrizzo/crispy/crispy/OS5/OS5_average/average_ref_star_detector.fits\n"
     ]
    },
    {
     "name": "stdout",
     "output_type": "stream",
     "text": [
      "(1024, 1024)\n",
      "crispy - INFO - Read data from HDU 1 of /local/data/nicolaus2/mrizzo/crispy/crispy/OS5/OS5_average/average_ref_star_detector.fits\n"
     ]
    },
    {
     "name": "stderr",
     "output_type": "stream",
     "text": [
      "INFO:crispy:Read data from HDU 1 of /local/data/nicolaus2/mrizzo/crispy/crispy/OS5/OS5_average/average_ref_star_detector.fits\n"
     ]
    },
    {
     "name": "stdout",
     "output_type": "stream",
     "text": [
      "crispy - INFO - Reduced cube will have 17 wavelength bins\n"
     ]
    },
    {
     "name": "stderr",
     "output_type": "stream",
     "text": [
      "INFO:crispy:Reduced cube will have 17 wavelength bins\n"
     ]
    },
    {
     "name": "stdout",
     "output_type": "stream",
     "text": [
      "crispy - INFO - Writing data to ./SimResults/average_ref_star_detector_red_optext.fits\n"
     ]
    },
    {
     "name": "stderr",
     "output_type": "stream",
     "text": [
      "INFO:crispy:Writing data to ./SimResults/average_ref_star_detector_red_optext.fits\n"
     ]
    },
    {
     "name": "stdout",
     "output_type": "stream",
     "text": [
      "crispy - INFO - Elapsed time: 18.557078s\n"
     ]
    },
    {
     "name": "stderr",
     "output_type": "stream",
     "text": [
      "INFO:crispy:Elapsed time: 18.557078s\n"
     ]
    },
    {
     "name": "stdout",
     "output_type": "stream",
     "text": [
      "crispy - INFO - Read data from HDU 1 of /local/data/nicolaus2/mrizzo/crispy/crispy/OS5/OS5_average/average_target_star_detector.fits\n"
     ]
    },
    {
     "name": "stderr",
     "output_type": "stream",
     "text": [
      "INFO:crispy:Read data from HDU 1 of /local/data/nicolaus2/mrizzo/crispy/crispy/OS5/OS5_average/average_target_star_detector.fits\n"
     ]
    },
    {
     "name": "stdout",
     "output_type": "stream",
     "text": [
      "crispy - INFO - Reduced cube will have 17 wavelength bins\n"
     ]
    },
    {
     "name": "stderr",
     "output_type": "stream",
     "text": [
      "INFO:crispy:Reduced cube will have 17 wavelength bins\n"
     ]
    },
    {
     "name": "stdout",
     "output_type": "stream",
     "text": [
      "crispy - INFO - Writing data to ./SimResults/average_target_star_detector_red_optext.fits\n"
     ]
    },
    {
     "name": "stderr",
     "output_type": "stream",
     "text": [
      "INFO:crispy:Writing data to ./SimResults/average_target_star_detector_red_optext.fits\n"
     ]
    },
    {
     "name": "stdout",
     "output_type": "stream",
     "text": [
      "crispy - INFO - Elapsed time: 18.368103s\n"
     ]
    },
    {
     "name": "stderr",
     "output_type": "stream",
     "text": [
      "INFO:crispy:Elapsed time: 18.368103s\n"
     ]
    },
    {
     "name": "stdout",
     "output_type": "stream",
     "text": [
      "crispy - INFO - Read data from HDU 1 of /local/data/nicolaus2/mrizzo/crispy/crispy/OS5/OS5_average/offaxis.fits\n"
     ]
    },
    {
     "name": "stderr",
     "output_type": "stream",
     "text": [
      "INFO:crispy:Read data from HDU 1 of /local/data/nicolaus2/mrizzo/crispy/crispy/OS5/OS5_average/offaxis.fits\n"
     ]
    },
    {
     "name": "stdout",
     "output_type": "stream",
     "text": [
      "crispy - INFO - Reduced cube will have 17 wavelength bins\n"
     ]
    },
    {
     "name": "stderr",
     "output_type": "stream",
     "text": [
      "INFO:crispy:Reduced cube will have 17 wavelength bins\n"
     ]
    },
    {
     "name": "stdout",
     "output_type": "stream",
     "text": [
      "crispy - INFO - Writing data to ./SimResults/offaxis_red_optext.fits\n"
     ]
    },
    {
     "name": "stderr",
     "output_type": "stream",
     "text": [
      "INFO:crispy:Writing data to ./SimResults/offaxis_red_optext.fits\n"
     ]
    },
    {
     "name": "stdout",
     "output_type": "stream",
     "text": [
      "crispy - INFO - Elapsed time: 18.418467s\n"
     ]
    },
    {
     "name": "stderr",
     "output_type": "stream",
     "text": [
      "INFO:crispy:Elapsed time: 18.418467s\n"
     ]
    },
    {
     "name": "stdout",
     "output_type": "stream",
     "text": [
      "crispy - INFO - Read data from HDU 1 of /local/data/nicolaus2/mrizzo/crispy/crispy/OS5/OS5_average/offaxis_flipped.fits\n"
     ]
    },
    {
     "name": "stderr",
     "output_type": "stream",
     "text": [
      "INFO:crispy:Read data from HDU 1 of /local/data/nicolaus2/mrizzo/crispy/crispy/OS5/OS5_average/offaxis_flipped.fits\n"
     ]
    },
    {
     "name": "stdout",
     "output_type": "stream",
     "text": [
      "crispy - INFO - Reduced cube will have 17 wavelength bins\n"
     ]
    },
    {
     "name": "stderr",
     "output_type": "stream",
     "text": [
      "INFO:crispy:Reduced cube will have 17 wavelength bins\n"
     ]
    },
    {
     "name": "stdout",
     "output_type": "stream",
     "text": [
      "crispy - INFO - Writing data to ./SimResults/offaxis_flipped_red_optext.fits\n"
     ]
    },
    {
     "name": "stderr",
     "output_type": "stream",
     "text": [
      "INFO:crispy:Writing data to ./SimResults/offaxis_flipped_red_optext.fits\n"
     ]
    },
    {
     "name": "stdout",
     "output_type": "stream",
     "text": [
      "crispy - INFO - Elapsed time: 18.421823s\n"
     ]
    },
    {
     "name": "stderr",
     "output_type": "stream",
     "text": [
      "INFO:crispy:Elapsed time: 18.421823s\n"
     ]
    },
    {
     "name": "stdout",
     "output_type": "stream",
     "text": [
      "crispy - INFO - Writing data to OS5/OS5_average/residual.fits\n"
     ]
    },
    {
     "name": "stderr",
     "output_type": "stream",
     "text": [
      "INFO:crispy:Writing data to OS5/OS5_average/residual.fits\n"
     ]
    },
    {
     "name": "stdout",
     "output_type": "stream",
     "text": [
      "crispy - INFO - Writing data to OS5/OS5_average/residual_stack.fits\n"
     ]
    },
    {
     "name": "stderr",
     "output_type": "stream",
     "text": [
      "INFO:crispy:Writing data to OS5/OS5_average/residual_stack.fits\n"
     ]
    },
    {
     "name": "stdout",
     "output_type": "stream",
     "text": [
      "crispy - INFO - Read data from HDU 1 of ./SimResults/flatfield_red_optext.fits\n"
     ]
    },
    {
     "name": "stderr",
     "output_type": "stream",
     "text": [
      "INFO:crispy:Read data from HDU 1 of ./SimResults/flatfield_red_optext.fits\n"
     ]
    },
    {
     "name": "stdout",
     "output_type": "stream",
     "text": [
      "crispy - INFO - Read inverse variance from HDU 2 of ./SimResults/flatfield_red_optext.fits\n"
     ]
    },
    {
     "name": "stderr",
     "output_type": "stream",
     "text": [
      "INFO:crispy:Read inverse variance from HDU 2 of ./SimResults/flatfield_red_optext.fits\n"
     ]
    },
    {
     "name": "stdout",
     "output_type": "stream",
     "text": [
      "crispy - INFO - Writing data to OS5/OS5_average/residual_flatfielded.fits\n"
     ]
    },
    {
     "name": "stderr",
     "output_type": "stream",
     "text": [
      "INFO:crispy:Writing data to OS5/OS5_average/residual_flatfielded.fits\n"
     ]
    },
    {
     "name": "stdout",
     "output_type": "stream",
     "text": [
      "crispy - INFO - Writing data to OS5/OS5_average/residual_flatfielded_stack.fits\n"
     ]
    },
    {
     "name": "stderr",
     "output_type": "stream",
     "text": [
      "INFO:crispy:Writing data to OS5/OS5_average/residual_flatfielded_stack.fits\n"
     ]
    },
    {
     "name": "stdout",
     "output_type": "stream",
     "text": [
      "crispy - INFO - Writing data to OS5/OS5_average/matched_filter.fits\n"
     ]
    },
    {
     "name": "stderr",
     "output_type": "stream",
     "text": [
      "INFO:crispy:Writing data to OS5/OS5_average/matched_filter.fits\n"
     ]
    },
    {
     "name": "stdout",
     "output_type": "stream",
     "text": [
      "crispy - INFO - Writing data to OS5/OS5_average/matched_filter_flipped.fits\n"
     ]
    },
    {
     "name": "stderr",
     "output_type": "stream",
     "text": [
      "INFO:crispy:Writing data to OS5/OS5_average/matched_filter_flipped.fits\n"
     ]
    },
    {
     "name": "stdout",
     "output_type": "stream",
     "text": [
      "crispy - INFO - Cube conversion: 1.945\n"
     ]
    },
    {
     "name": "stderr",
     "output_type": "stream",
     "text": [
      "INFO:crispy:Cube conversion: 1.945\n"
     ]
    },
    {
     "name": "stdout",
     "output_type": "stream",
     "text": [
      "crispy - INFO - Process cubes through IFS: 0.000\n"
     ]
    },
    {
     "name": "stderr",
     "output_type": "stream",
     "text": [
      "INFO:crispy:Process cubes through IFS: 0.000\n"
     ]
    },
    {
     "name": "stdout",
     "output_type": "stream",
     "text": [
      "crispy - INFO - Process off-axis PSF through IFS: 0.000\n"
     ]
    },
    {
     "name": "stderr",
     "output_type": "stream",
     "text": [
      "INFO:crispy:Process off-axis PSF through IFS: 0.000\n"
     ]
    },
    {
     "name": "stdout",
     "output_type": "stream",
     "text": [
      "crispy - INFO - Construct IFS detector: 0.000\n"
     ]
    },
    {
     "name": "stderr",
     "output_type": "stream",
     "text": [
      "INFO:crispy:Construct IFS detector: 0.000\n"
     ]
    },
    {
     "name": "stdout",
     "output_type": "stream",
     "text": [
      "crispy - INFO - Taking averages: 0.000\n"
     ]
    },
    {
     "name": "stderr",
     "output_type": "stream",
     "text": [
      "INFO:crispy:Taking averages: 0.000\n"
     ]
    },
    {
     "name": "stdout",
     "output_type": "stream",
     "text": [
      "crispy - INFO - Process average cubes: 73.773\n"
     ]
    },
    {
     "name": "stderr",
     "output_type": "stream",
     "text": [
      "INFO:crispy:Process average cubes: 73.773\n"
     ]
    },
    {
     "name": "stdout",
     "output_type": "stream",
     "text": [
      "crispy - INFO - Normalize and subtract reference PSF: 0.029\n"
     ]
    },
    {
     "name": "stderr",
     "output_type": "stream",
     "text": [
      "INFO:crispy:Normalize and subtract reference PSF: 0.029\n"
     ]
    },
    {
     "name": "stdout",
     "output_type": "stream",
     "text": [
      "crispy - INFO - Computed signal and noise arrays: 0.079\n"
     ]
    },
    {
     "name": "stderr",
     "output_type": "stream",
     "text": [
      "INFO:crispy:Computed signal and noise arrays: 0.079\n"
     ]
    },
    {
     "name": "stdout",
     "output_type": "stream",
     "text": [
      "crispy - INFO - Total time: 75.826\n"
     ]
    },
    {
     "name": "stderr",
     "output_type": "stream",
     "text": [
      "INFO:crispy:Total time: 75.826\n"
     ]
    }
   ],
   "source": [
    "os5folder = '/Users/mrizzo/IFS/OS5/with_lowfc'\n",
    "offaxispsf= '/Users/mrizzo/IFS/OS5/offaxis/spc_offaxis_psf.fits'\n",
    "mean_contrast = 1e-8\n",
    "par.Nreads=10\n",
    "par.timeframe=1000\n",
    "signal,noise,noiseleft = process_SPC_IFS(par,os5folder,offaxispsf,mean_contrast=mean_contrast,\n",
    "                outdir_time_series = 'OS5',outdir_detector='OS5/OS5_detector',\n",
    "                outdir_average='OS5/OS5_average',\n",
    "                process_cubes=True,\n",
    "                process_offaxis=True,\n",
    "                process_detector=True,\n",
    "                take_averages=True,\n",
    "                parallel=True)"
   ]
  },
  {
   "cell_type": "code",
   "execution_count": null,
   "metadata": {
    "collapsed": false
   },
   "outputs": [],
   "source": [
    "from astropy.io import fits\n",
    "test = fits.open('/local/data/nicolaus2/mrizzo/crispy/crispy/OS5/os5_spc_031_targetstar_IFS.fits')[1].data\n",
    "print(np.sum(test))"
   ]
  },
  {
   "cell_type": "markdown",
   "metadata": {},
   "source": [
    "### Noiseless processing to assess the systematics"
   ]
  },
  {
   "cell_type": "code",
   "execution_count": null,
   "metadata": {
    "collapsed": false,
    "scrolled": true
   },
   "outputs": [],
   "source": [
    "os5folder = '/local/data/nicolaus2/mrizzo/haystacks/for_gsfc/with_lowfc'\n",
    "offaxispsf= '/local/data/nicolaus2/mrizzo/haystacks/for_gsfc/spc_offaxis_psf.fits'\n",
    "mean_contrast = 1e-8\n",
    "signal,noise = process_SPC_IFS(par,os5folder,offaxispsf,mean_contrast=mean_contrast,\n",
    "                outdir_time_series = 'OS5/OS5_test',outdir_detector='OS5/OS5_test/OS5_detector',\n",
    "                outdir_average='OS5/OS5_test/OS5_average',\n",
    "                process_cubes=False,\n",
    "                process_offaxis=True,\n",
    "                process_detector=False,\n",
    "                process_noiseless=True,\n",
    "                take_averages=True)"
   ]
  },
  {
   "cell_type": "code",
   "execution_count": 4,
   "metadata": {
    "collapsed": false
   },
   "outputs": [
    {
     "name": "stdout",
     "output_type": "stream",
     "text": [
      "False\n"
     ]
    }
   ],
   "source": [
    "# from astropy.io import fits\n",
    "# residual = fits.open(\"/local/data/nicolaus2/mrizzo/crispy/crispy/OS5/OS5_average/residual_flatfielded.fits\")[1].data\n",
    "# plt.imshow(np.sum(residual,axis=0),vmin=-2,vmax=2)\n",
    "# from crispy.tools.image import Image\n",
    "# out = Image(data=np.sum(residual,axis=0))\n",
    "# out.write(\"/local/data/nicolaus2/mrizzo/crispy/crispy/OS5/OS5_average/stack.fits\")\n",
    "print(not par.poisson)"
   ]
  },
  {
   "cell_type": "code",
   "execution_count": 3,
   "metadata": {
    "collapsed": false
   },
   "outputs": [
    {
     "name": "stdout",
     "output_type": "stream",
     "text": [
      "crispy - INFO - Reduced cube will have 17 wavelength bins\n"
     ]
    },
    {
     "name": "stderr",
     "output_type": "stream",
     "text": [
      "INFO:crispy:Reduced cube will have 17 wavelength bins\n"
     ]
    },
    {
     "name": "stdout",
     "output_type": "stream",
     "text": [
      "0.368296791788\n"
     ]
    },
    {
     "data": {
      "image/png": "[encoded data removed]",
      "text/plain": [
       "<matplotlib.figure.Figure at 0x7f1411ab8a90>"
      ]
     },
     "metadata": {},
     "output_type": "display_data"
    }
   ],
   "source": [
    "import seaborn as sns\n",
    "import numpy as np\n",
    "from tools.inputScene import calc_contrast_Bijan\n",
    "from tools.reduction import calculateWaveList\n",
    "lam_midpts,junk = calculateWaveList(par)\n",
    "wavelist = 770*np.linspace(1.-0.18/2.,1.+0.18/2.,45)\n",
    "spectrum=calc_contrast_Bijan(wavelist)\n",
    "sns.set_style(\"whitegrid\")\n",
    "fig,ax = plt.subplots(figsize=(12,6))\n",
    "real_vals=calc_contrast_Bijan(wavelist)\n",
    "ax.plot(wavelist,real_vals,label='Original spectrum')\n",
    "ax.errorbar(lam_midpts,signal*np.mean(spectrum)/np.mean(signal),yerr=noise*np.mean(spectrum)/np.mean(signal),label='Recovered spectrum',fmt='o')\n",
    "from scipy import ndimage\n",
    "FWHM = 4.\n",
    "smooth = ndimage.filters.gaussian_filter1d(real_vals,FWHM/2.35,order=0,mode='constant')\n",
    "ax.plot(wavelist,smooth,'-',label='Gaussian-smoothed original spectrum w/ FWHM=%.0f bins' % FWHM)\n",
    "\n",
    "ax.set_xlabel('Wavelength (nm)')\n",
    "ax.set_ylabel('Contrast')\n",
    "ax.set_title('Star+planet')\n",
    "plt.legend()\n",
    "chisq = np.sum((signal*np.mean(spectrum)/np.mean(signal) - calc_contrast_Bijan(lam_midpts))**2/(noise*np.mean(spectrum)/np.mean(signal))**2)\n",
    "print chisq/len(signal)\n",
    "#fig.savefig(par.exportDir+'/Contrast%.0g.png' % mean_contrast)"
   ]
  },
  {
   "cell_type": "code",
   "execution_count": null,
   "metadata": {
    "collapsed": false
   },
   "outputs": [],
   "source": [
    "mean_contrast"
   ]
  },
  {
   "cell_type": "code",
   "execution_count": null,
   "metadata": {
    "collapsed": false
   },
   "outputs": [],
   "source": [
    "from tools.image import Image\n",
    "from astropy.io import fits\n",
    "img = Image('/local/data/nicolaus2/mrizzo/crispy/code/OS5/OS5_test/OS5_average/average_ref_star_detector.fits')\n"
   ]
  },
  {
   "cell_type": "code",
   "execution_count": null,
   "metadata": {
    "collapsed": false
   },
   "outputs": [],
   "source": [
    "outdir_average='OS5/OS5_average'\n",
    "mf_name = outdir_average+'/matched_filter.fits'\n",
    "mf = Image(mf_name)\n",
    "#plt.imshow(mf.data[5,:,:])\n",
    "print(np.nansum(np.nansum(mf.data,axis=2),axis=1))"
   ]
  },
  {
   "cell_type": "code",
   "execution_count": null,
   "metadata": {
    "collapsed": false
   },
   "outputs": [],
   "source": [
    "#cube = Image(outdir_average+'/residual.fits')\n",
    "flatfield = Image(par.exportDir+'/flatfield_red_optext.fits')\n",
    "# cube = Image(par.exportDir+'/average_ref_star_detector_red_optext.fits')"
   ]
  },
  {
   "cell_type": "code",
   "execution_count": null,
   "metadata": {
    "collapsed": false
   },
   "outputs": [],
   "source": [
    "print flatfield.data.shape"
   ]
  },
  {
   "cell_type": "code",
   "execution_count": null,
   "metadata": {
    "collapsed": false
   },
   "outputs": [],
   "source": [
    "from tools.imgtools import bowtie\n",
    "ydim,xdim = cube.data[0].shape\n",
    "maskleft,maskright = bowtie(cube.data[0],ydim//2,xdim//2,openingAngle=65,clocking=-par.philens*180/np.pi,IWApix=6*0.77/0.6,OWApix=18*0.77/0.6,export='bowtie',twomasks=True)"
   ]
  },
  {
   "cell_type": "code",
   "execution_count": null,
   "metadata": {
    "collapsed": false
   },
   "outputs": [],
   "source": [
    "plt.figure(figsize=(12,6))\n",
    "plt.imshow(cube.data[5,:,:]*maskleft)\n",
    "plt.colorbar()"
   ]
  },
  {
   "cell_type": "code",
   "execution_count": null,
   "metadata": {
    "collapsed": false
   },
   "outputs": [],
   "source": [
    "pixstd = [np.nanstd(cube.data[i,:,:]*maskright) for i in range(cube.data.shape[0])]\n",
    "mf_npix = np.nansum(np.nansum(mf.data,axis=2),axis=1)\n",
    "pixstd*mf_npix"
   ]
  },
  {
   "cell_type": "code",
   "execution_count": null,
   "metadata": {
    "collapsed": true
   },
   "outputs": [],
   "source": []
  },
  {
   "cell_type": "code",
   "execution_count": null,
   "metadata": {
    "collapsed": false
   },
   "outputs": [],
   "source": [
    "import astropy.units as u\n",
    "lam = 0.77*u.um\n",
    "D = 2.34*u.m\n",
    "lamoD = (lam.to(u.m)/D).value*u.radian\n",
    "lamoD = lamoD.to(u.arcsec)\n",
    "print(lamoD)\n",
    "dist = 5./14.\n",
    "print(AU)\n",
    "0.257695*u.arcsec/lamoD"
   ]
  },
  {
   "cell_type": "code",
   "execution_count": null,
   "metadata": {
    "collapsed": false,
    "scrolled": true
   },
   "outputs": [],
   "source": [
    "from unitTests import testCreateFlatfield\n",
    "testCreateFlatfield(par)"
   ]
  },
  {
   "cell_type": "code",
   "execution_count": null,
   "metadata": {
    "collapsed": false
   },
   "outputs": [],
   "source": [
    "from IFS import reduceIFSMap\n",
    "fname = 'unitTestsOutputs/flatfield.fits'\n",
    "cube = reduceIFSMap(par,fname)"
   ]
  },
  {
   "cell_type": "code",
   "execution_count": null,
   "metadata": {
    "collapsed": false,
    "scrolled": true
   },
   "outputs": [],
   "source": [
    "os5folder = '/local/data/nicolaus2/mrizzo/haystacks/for_gsfc/with_lowfc'\n",
    "offaxispsf= '/local/data/nicolaus2/mrizzo/haystacks/for_gsfc/spc_offaxis_psf.fits'\n",
    "mean_contrast = 1e-8\n",
    "from tools.postprocessing import SPC_IFS_systematics\n",
    "signal,noise,off = SPC_IFS_systematics(par,os5folder,offaxispsf,mean_contrast=mean_contrast,\n",
    "                outdir_time_series = 'OS5/OS5_test',outdir_detector='OS5/OS5_test/OS5_detector',\n",
    "                outdir_average='OS5/OS5_test/OS5_average',\n",
    "                process_cubes=False,\n",
    "                process_offaxis=True,\n",
    "                process_detector=True,\n",
    "                take_averages=True)"
   ]
  },
  {
   "cell_type": "code",
   "execution_count": null,
   "metadata": {
    "collapsed": false
   },
   "outputs": [],
   "source": [
    "import seaborn as sns\n",
    "import numpy as np\n",
    "from tools.inputScene import calc_contrast\n",
    "from tools.reduction import calculateWaveList\n",
    "lam_midpts,junk = calculateWaveList(par)\n",
    "# wavelist = np.arange(min(lam_midpts),max(lam_midpts),3)\n",
    "wavelist = 770*np.linspace(1.-0.18/2.,1.+0.18/2.,45)\n",
    "spectrum=calc_contrast(wavelist,mean_contrast=mean_contrast)\n",
    "sns.set_style(\"whitegrid\")\n",
    "fig,ax = plt.subplots(figsize=(12,6))\n",
    "real_vals=calc_contrast(wavelist,mean_contrast=mean_contrast)\n",
    "ax.plot(wavelist,calc_contrast(wavelist,mean_contrast=mean_contrast),label='Original spectrum')\n",
    "#ax.errorbar(lam_midpts,(signal-off)*np.mean(spectrum)/np.mean(signal),yerr=noise*np.mean(spectrum)/np.mean(signal),label='Recovered spectrum',fmt='o')\n",
    "ax.plot(lam_midpts,(signal-off)*np.mean(spectrum)/np.mean(signal[1:-1]),'o',label='Recovered spectrum')\n",
    "from scipy import ndimage\n",
    "FWHM = 4.\n",
    "smooth = ndimage.filters.gaussian_filter1d(real_vals,FWHM/2.35,order=0,mode='constant')\n",
    "ax.plot(wavelist,smooth,'-',label='Gaussian-smoothed original spectrum w/ FWHM=%.0f bins' % FWHM)\n",
    "\n",
    "#ax.errorbar(lam_midpts,(signal),yerr=noise,label='Recovered spectrum',fmt='o')\n",
    "ax.set_xlabel('Wavelength (nm)')\n",
    "ax.set_ylabel('Contrast')\n",
    "ax.set_title('Planet, no star, no noise')\n",
    "plt.legend()\n",
    "chisq = np.sum((signal*np.mean(spectrum)/np.mean(signal[1:-1]) - calc_contrast(lam_midpts,mean_contrast=mean_contrast))**2/(noise*np.mean(spectrum)/np.mean(signal[1:-1]))**2)\n",
    "print chisq/len(signal)\n",
    "\n",
    "#fig.savefig(par.exportDir+'/Contrast%.0g.png' % mean_contrast)"
   ]
  },
  {
   "cell_type": "code",
   "execution_count": null,
   "metadata": {
    "collapsed": false
   },
   "outputs": [],
   "source": [
    "print(lam_midpts)"
   ]
  },
  {
   "cell_type": "code",
   "execution_count": null,
   "metadata": {
    "collapsed": true
   },
   "outputs": [],
   "source": []
  },
  {
   "cell_type": "code",
   "execution_count": null,
   "metadata": {
    "collapsed": true
   },
   "outputs": [],
   "source": []
  },
  {
   "cell_type": "code",
   "execution_count": null,
   "metadata": {
    "collapsed": false
   },
   "outputs": [],
   "source": [
    "par.lenslet_wav = 660.\n",
    "par.makeHeader()\n",
    "offaxispsf= '/local/data/nicolaus2/mrizzo/haystacks/for_gsfc/spc_offaxis_psf.fits'\n",
    "mean_contrast = 1e-7\n",
    "from tools.postprocessing import SPC_process_offaxis_only\n",
    "signal,noise,off = SPC_process_offaxis_only(par,offaxispsf,mean_contrast=mean_contrast,\n",
    "                outdir_time_series = 'OS5/OS5_test',outdir_detector='OS5/OS5_test/OS5_detector',\n",
    "                outdir_average='OS5/OS5_test/OS5_average',\n",
    "                process_offaxis=True,\n",
    "                process_detector=True,\n",
    "                take_averages=True)"
   ]
  }
 ],
 "metadata": {
  "kernelspec": {
   "display_name": "Python 2",
   "language": "python",
   "name": "python2"
  },
  "language_info": {
   "codemirror_mode": {
    "name": "ipython",
    "version": 2
   },
   "file_extension": ".py",
   "mimetype": "text/x-python",
   "name": "python",
   "nbconvert_exporter": "python",
   "pygments_lexer": "ipython2",
   "version": "2.7.13"
  }
 },
 "nbformat": 4,
 "nbformat_minor": 1
}
