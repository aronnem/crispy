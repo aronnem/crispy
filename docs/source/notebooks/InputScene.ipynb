{
 "cells": [
  {
   "cell_type": "markdown",
   "metadata": {},
   "source": [
    "# Processing time series"
   ]
  },
  {
   "cell_type": "markdown",
   "metadata": {},
   "source": [
    "This notebook runs through some sanity checks about the photon flux calculations, comparing them to Bijan's spreadsheet results. This is to ensure that we properly process the input cubes, and gives an idea of how everything is done. Here we take the fiducial example of 47 Uma c."
   ]
  },
  {
   "cell_type": "code",
   "execution_count": 92,
   "metadata": {
    "collapsed": false
   },
   "outputs": [
    {
     "name": "stdout",
     "output_type": "stream",
     "text": [
      "Populating the interactive namespace from numpy and matplotlib\n",
      "../../../code\n"
     ]
    }
   ],
   "source": [
    "%pylab inline --no-import-all\n",
    "matplotlib.rcParams['image.origin'] = 'lower'\n",
    "matplotlib.rcParams['image.interpolation'] = 'nearest'\n",
    "import sys\n",
    "import os\n",
    "\n",
    "folder = '../../../code'\n",
    "print(folder)\n",
    "if folder not in sys.path: sys.path.append(folder)"
   ]
  },
  {
   "cell_type": "markdown",
   "metadata": {},
   "source": [
    "## Calculate photon fluxes"
   ]
  },
  {
   "cell_type": "markdown",
   "metadata": {},
   "source": [
    "### Calculate star rates"
   ]
  },
  {
   "cell_type": "code",
   "execution_count": 87,
   "metadata": {
    "collapsed": false
   },
   "outputs": [
    {
     "name": "stdout",
     "output_type": "stream",
     "text": [
      "6.416245e+09\n"
     ]
    }
   ],
   "source": [
    "import glob\n",
    "\n",
    "# load first filelist to get its shape\n",
    "fileshape = (45,318,318)\n",
    "\n",
    "\n",
    "import astropy.units as u\n",
    "import astropy.constants as c\n",
    "\n",
    "planet_radius = 1.27*c.R_jup\n",
    "# ref_star_T=9377*u.K\n",
    "ref_star_T=5887*u.K\n",
    "ref_star_Vmag=2.37\n",
    "target_star_T=5887*u.K\n",
    "target_star_Vmag=5.03\n",
    "\n",
    "lamc=770.\n",
    "BW=0.18\n",
    "n_ref_star_imgs=30\n",
    "Nlam = 45\n",
    "lamlist = lamc*np.linspace(1.-BW/2.,1.+BW/2.,Nlam)*u.nm\n",
    "\n",
    "#tel_pupil_area=3.650265060424805*u.m**2\n",
    "tel_pupil_area=1\n",
    "\n",
    "from tools.inputScene import convert_krist_cube\n",
    "target_star_cube = convert_krist_cube(fileshape,lamlist,target_star_T,target_star_Vmag,tel_pupil_area)\n",
    "\n",
    "print(\"%e\" % np.sum(target_star_cube[:,0,0]))"
   ]
  },
  {
   "cell_type": "code",
   "execution_count": 91,
   "metadata": {
    "collapsed": false
   },
   "outputs": [
    {
     "name": "stdout",
     "output_type": "stream",
     "text": [
      "('Vband zero point:', <Quantity 3.603455792687603e-08 W / (m2 um)>)\n",
      "1.2802934685e-15 sr\n",
      "('Calculated flux density in band:', <Quantity 2.301367765438107e-08 W / (m2 um)>)\n",
      "('Ratio of Vband over band spec. intensity: ', <Quantity 1.565788765622004>)\n",
      "('VISband zero point:', <Quantity 2.49563408988201e-08 W / (m2 um)>)\n",
      "Number of photons:\n",
      "99771199518.3 1 / (m2 s um)\n",
      "99060401616.8 1 / (m2 s um)\n"
     ]
    }
   ],
   "source": [
    "# We need to determine the coefficient of proportionality between a blackbody source and the\n",
    "# actualy flux received (depends on size of the star, distance, etc)\n",
    "# define Vband\n",
    "lambda_cent = 550*u.nanometer\n",
    "\n",
    "# this is the flux density per steradian (specific intensity) you would expect from Vband\n",
    "flux_bb_F550 = af.blackbody_lambda(lambda_cent, ref_star_T).to(u.Watt/u.m**2/u.um/u.sr)\n",
    "\n",
    "# this is the actual flux density received in Vband\n",
    "Vband_zero_pt = (3636*u.Jansky).to(u.Watt/u.m**2/u.Hertz)\n",
    "Vband_zero_pt *= (c.c/lambda_cent**2)\n",
    "Vband_zero_pt = Vband_zero_pt.to(u.W/u.m**2/u.um)\n",
    "flux_star_Vband = Vband_zero_pt*10**(-0.4*0)\n",
    "E_Vband = (c.c*c.h/lambda_cent).to(u.J)\n",
    "print(\"Vband zero point:\",Vband_zero_pt)\n",
    "\n",
    "# the ratio is coefficient we seek; this will multiply a blackbody function to yield flux densities\n",
    "# at all wavelengths\n",
    "ratio_star = (flux_star_Vband/flux_bb_F550)\n",
    "print(ratio_star)\n",
    "\n",
    "lam = 800*u.nm\n",
    "flux_bb_band = af.blackbody_lambda(lam, ref_star_T).to(u.Watt/u.m**2/u.um/u.sr)\n",
    "print(\"Calculated flux density in band:\",ratio_star*flux_bb_band)\n",
    "print(\"Ratio of Vband over band spec. intensity: \",flux_bb_F550/flux_bb_band)\n",
    "E_lam = (c.c*c.h/lam).to(u.J)\n",
    "\n",
    "lamVIS = 0.8*u.um\n",
    "VISband_zero_pt = (2550*u.Jansky).to(u.Watt/u.m**2/u.Hertz)\n",
    "VISband_zero_pt *= (c.c/lamVIS**2)\n",
    "VISband_zero_pt = VISband_zero_pt.to(u.W/u.m**2/u.um)\n",
    "print(\"VISband zero point:\",VISband_zero_pt*10**(-0.4*-0.8))\n",
    "\n",
    "\n",
    "\n",
    "print(\"Number of photons:\")\n",
    "print((flux_star_Vband/E_Vband).to(1./u.s/u.m**2/u.um))\n",
    "print((ratio_star*flux_bb_IFS1/E_lam).to(1./u.s/u.m**2/u.um))"
   ]
  },
  {
   "cell_type": "code",
   "execution_count": null,
   "metadata": {
    "collapsed": true
   },
   "outputs": [],
   "source": []
  },
  {
   "cell_type": "code",
   "execution_count": 27,
   "metadata": {
    "collapsed": false
   },
   "outputs": [
    {
     "name": "stdout",
     "output_type": "stream",
     "text": [
      "('Us: ', <Quantity 2.601843357083208e-19 J>, ' Bijan: ', <Quantity 2.58e-19 J>)\n",
      "300928913.122 1 / (m2 s)\n",
      "18.0\n"
     ]
    }
   ],
   "source": [
    "import astropy.analytic_functions as af\n",
    "\n",
    "dlam = lamlist[1]-lamlist[0]\n",
    "high = c.c/(lamlist[0]-dlam/2.)\n",
    "low = c.c/(lamlist[-1]+dlam/2.)\n",
    "mid = 0.5*(low+high) # middle frequency\n",
    "dnu = high-low\n",
    "E_ph = (c.h*mid).to(u.J) \n",
    "print(\"Us: \",E_ph,\" Bijan: \",2.58e-19*u.J)\n",
    "\n",
    "BBlam = af.blackbody_nu(lamlist[Nlam//2], target_star_T).to(u.Watt/u.m**2/u.Hertz/u.sr)\n",
    "flux = (BBlam*ratio_star*dnu).to(u.W/u.m**2) # this is Watts per m2\n",
    "photon_flux = flux/E_ph # This is in Photons per second per m2\n",
    "print(photon_flux.to(1./u.s/u.m**2))\n",
    "print(100*(lamlist[-1]-lamlist[0])/lamlist[Nlam//2])"
   ]
  }
 ],
 "metadata": {
  "kernelspec": {
   "display_name": "Python 2",
   "language": "python",
   "name": "python2"
  },
  "language_info": {
   "codemirror_mode": {
    "name": "ipython",
    "version": 2
   },
   "file_extension": ".py",
   "mimetype": "text/x-python",
   "name": "python",
   "nbconvert_exporter": "python",
   "pygments_lexer": "ipython2",
   "version": "2.7.13"
  }
 },
 "nbformat": 4,
 "nbformat_minor": 2
}
