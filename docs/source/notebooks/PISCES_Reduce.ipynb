{
 "cells": [
  {
   "cell_type": "markdown",
   "metadata": {},
   "source": [
    "# PISCES Data Reduction"
   ]
  },
  {
   "cell_type": "markdown",
   "metadata": {},
   "source": [
    "The data reduction pipeline for PISCES is kept as simple as possible for easing integration with JPL's coronagraph control software. It requires an existing wavelength calibration."
   ]
  },
  {
   "cell_type": "code",
   "execution_count": 1,
   "metadata": {
    "collapsed": true
   },
   "outputs": [],
   "source": [
    "import sys\n",
    "codefolder = '../../code'\n",
    "if codefolder not in sys.path: sys.path.append(codefolder)\n",
    "from PISCESparams import Params\n",
    "par = Params(codefolder)"
   ]
  },
  {
   "cell_type": "markdown",
   "metadata": {},
   "source": [
    "This is simple: load the reduction function, and call it!"
   ]
  },
  {
   "cell_type": "code",
   "execution_count": 5,
   "metadata": {
    "collapsed": false
   },
   "outputs": [
    {
     "name": "stdout",
     "output_type": "stream",
     "text": [
      "../../code/ReferenceFiles/Calibra_170306/IFS665nm.fits\n",
      "crispy - INFO - Read data from HDU 0 of ../../code/ReferenceFiles/Calibra_170306/IFS665nm.fits\n",
      "crispy - INFO - Read data from HDU 0 of ../../code/ReferenceFiles/Calibra_170306/IFSdark665nm.fits\n",
      "crispy - INFO - Writing data to ../../code/SimResults/test_varia.fits\n",
      "crispy - INFO - Read data from HDU 1 of ../../code/SimResults/test_varia.fits\n",
      "crispy - INFO - Reduced cube will have 24 wavelength bins\n"
     ]
    },
    {
     "name": "stderr",
     "output_type": "stream",
     "text": [
      "/Users/mrizzo/anaconda/envs/py27/lib/python2.7/site-packages/numpy/lib/nanfunctions.py:703: RuntimeWarning: Mean of empty slice\n",
      "  warnings.warn(\"Mean of empty slice\", RuntimeWarning)\n"
     ]
    },
    {
     "name": "stdout",
     "output_type": "stream",
     "text": [
      "crispy - INFO - Writing data to ../../code/SimResults/test_varia_red_optext.fits\n"
     ]
    }
   ],
   "source": [
    "import glob\n",
    "# call the reduction routine with an example image\n",
    "VARIA_ON= glob.glob(par.wavecalDir+'IFS665nm.fits')\n",
    "VARIA_OFF= glob.glob(par.wavecalDir+'IFSdark665nm.fits')\n",
    "print(VARIA_ON[0])\n",
    "from IFS import reduceIFSMap\n",
    "from tools.image import Image\n",
    "test_img = Image(data = (Image(VARIA_ON[0]).data - Image(VARIA_OFF[0]).data)).write(par.exportDir+'/test_varia.fits')\n",
    "reduced_cube= reduceIFSMap(par,par.exportDir+'/test_varia.fits')"
   ]
  },
  {
   "cell_type": "markdown",
   "metadata": {},
   "source": [
    "The wavelengths of the cube slices are the following:"
   ]
  },
  {
   "cell_type": "code",
   "execution_count": null,
   "metadata": {
    "collapsed": false
   },
   "outputs": [],
   "source": [
    "from tools.reduction import calculateWaveList\n",
    "lam_midpts,lam_endpts = calculateWaveList(par)\n",
    "print('Wavelengths at midpoints (nm): ',lam_midpts)\n",
    "print('Wavelengths at endpoints (nm): ',lam_endpts)"
   ]
  },
  {
   "cell_type": "markdown",
   "metadata": {},
   "source": [
    "The files are exported in the folder par.exportDir. Look for the introduction documentation page for more details."
   ]
  }
 ],
 "metadata": {
  "anaconda-cloud": {},
  "kernelspec": {
   "display_name": "Python 2",
   "language": "python",
   "name": "python2"
  },
  "language_info": {
   "codemirror_mode": {
    "name": "ipython",
    "version": 2
   },
   "file_extension": ".py",
   "mimetype": "text/x-python",
   "name": "python",
   "nbconvert_exporter": "python",
   "pygments_lexer": "ipython2",
   "version": "2.7.13"
  }
 },
 "nbformat": 4,
 "nbformat_minor": 1
}
