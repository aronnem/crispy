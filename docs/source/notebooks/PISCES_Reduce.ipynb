{
 "cells": [
  {
   "cell_type": "markdown",
   "metadata": {},
   "source": [
    "# PISCES Data Reduction"
   ]
  },
  {
   "cell_type": "markdown",
   "metadata": {},
   "source": [
    "The data reduction pipeline for PISCES is kept as simple as possible for easing integration with JPL's coronagraph control software. It requires an existing wavelength calibration."
   ]
  },
  {
   "cell_type": "code",
   "execution_count": 3,
   "metadata": {
    "collapsed": false
   },
   "outputs": [],
   "source": [
    "import sys\n",
    "codefolder = '../../../../crispy'\n",
    "if codefolder not in sys.path: sys.path.append(codefolder)\n",
    "from crispy.tools import reduction\n",
    "from crispy.PISCESparams import Params\n",
    "par = Params('../../../crispy')"
   ]
  },
  {
   "cell_type": "markdown",
   "metadata": {},
   "source": [
    "This is simple: load the reduction function, and call it!"
   ]
  },
  {
   "cell_type": "code",
   "execution_count": 4,
   "metadata": {
    "collapsed": false
   },
   "outputs": [
    {
     "name": "stdout",
     "output_type": "stream",
     "text": [
      "../../../crispy/ReferenceFiles/Calibra_170306/IFS665nm.fits\n",
      "crispy - INFO - Read data from HDU 0 of ../../../crispy/ReferenceFiles/Calibra_170306/IFS665nm.fits\n",
      "crispy - INFO - Read data from HDU 0 of ../../../crispy/ReferenceFiles/Calibra_170306/IFSdark665nm.fits\n",
      "crispy - INFO - Writing data to ../../../crispy/SimResults/test_varia.fits\n",
      "crispy - INFO - Read data from HDU 1 of ../../../crispy/SimResults/test_varia.fits\n",
      "crispy - INFO - Reduced cube will have 17 wavelength bins\n"
     ]
    },
    {
     "name": "stderr",
     "output_type": "stream",
     "text": [
      "WARNING: AstropyDeprecationWarning: \"clobber\" was deprecated in version 1.3 and will be removed in a future version. Use argument \"overwrite\" instead. [astropy.utils.decorators]\n",
      "/Users/mrizzo/anaconda/lib/python2.7/site-packages/numpy/lib/nanfunctions.py:703: RuntimeWarning: Mean of empty slice\n",
      "  warnings.warn(\"Mean of empty slice\", RuntimeWarning)\n"
     ]
    },
    {
     "name": "stdout",
     "output_type": "stream",
     "text": [
      "crispy - INFO - Writing data to ../../../crispy/SimResults/test_varia_red_optext.fits\n",
      "crispy - INFO - Elapsed time: 16.824481s\n"
     ]
    }
   ],
   "source": [
    "import glob\n",
    "# call the reduction routine with an example image\n",
    "VARIA_ON= glob.glob(par.wavecalDir+'IFS665nm.fits')\n",
    "VARIA_OFF= glob.glob(par.wavecalDir+'IFSdark665nm.fits')\n",
    "print(VARIA_ON[0])\n",
    "from crispy.IFS import reduceIFSMap\n",
    "from crispy.tools.image import Image\n",
    "test_img = Image(data = (Image(VARIA_ON[0]).data - Image(VARIA_OFF[0]).data)).write(par.exportDir+'/test_varia.fits')\n",
    "reduced_cube= reduceIFSMap(par,par.exportDir+'/test_varia.fits')"
   ]
  },
  {
   "cell_type": "markdown",
   "metadata": {},
   "source": [
    "The wavelengths of the cube slices are the following:"
   ]
  },
  {
   "cell_type": "code",
   "execution_count": null,
   "metadata": {
    "collapsed": false
   },
   "outputs": [],
   "source": [
    "from tools.reduction import calculateWaveList\n",
    "lam_midpts,lam_endpts = calculateWaveList(par)\n",
    "print('Wavelengths at midpoints (nm): ',lam_midpts)\n",
    "print('Wavelengths at endpoints (nm): ',lam_endpts)"
   ]
  },
  {
   "cell_type": "markdown",
   "metadata": {},
   "source": [
    "The files are exported in the folder par.exportDir. Look for the introduction documentation page for more details."
   ]
  }
 ],
 "metadata": {
  "anaconda-cloud": {},
  "kernelspec": {
   "display_name": "Python 2",
   "language": "python",
   "name": "python2"
  },
  "language_info": {
   "codemirror_mode": {
    "name": "ipython",
    "version": 2
   },
   "file_extension": ".py",
   "mimetype": "text/x-python",
   "name": "python",
   "nbconvert_exporter": "python",
   "pygments_lexer": "ipython2",
   "version": "2.7.13"
  }
 },
 "nbformat": 4,
 "nbformat_minor": 1
}
