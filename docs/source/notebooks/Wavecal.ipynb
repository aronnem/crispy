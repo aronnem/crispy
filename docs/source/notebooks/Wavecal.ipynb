{
 "cells": [
  {
   "cell_type": "markdown",
   "metadata": {},
   "source": [
    "# Wavelength calibration"
   ]
  },
  {
   "cell_type": "code",
   "execution_count": 1,
   "metadata": {
    "collapsed": true
   },
   "outputs": [],
   "source": [
    "import numpy as np\n",
    "import glob\n",
    "import matplotlib\n",
    "import matplotlib.pyplot as plt\n",
    "matplotlib.rcParams['image.origin'] = 'lower'\n",
    "matplotlib.rcParams['image.interpolation'] = 'nearest'\n"
   ]
  },
  {
   "cell_type": "markdown",
   "metadata": {
    "collapsed": true
   },
   "source": [
    "### Loading crispy's dependencies"
   ]
  },
  {
   "cell_type": "code",
   "execution_count": 2,
   "metadata": {
    "collapsed": false
   },
   "outputs": [],
   "source": [
    "import sys\n",
    "codefolder = '../../../../crispy'\n",
    "if codefolder not in sys.path: sys.path.append(codefolder)\n",
    "from crispy.tools.initLogger import getLogger\n",
    "log = getLogger('crispy')\n",
    "from crispy.params import Params\n",
    "codefolder = '../../../crispy'\n",
    "par = Params(codefolder)"
   ]
  },
  {
   "cell_type": "markdown",
   "metadata": {},
   "source": [
    "### Generate monochromatic wavelengths"
   ]
  },
  {
   "cell_type": "code",
   "execution_count": 3,
   "metadata": {
    "collapsed": false
   },
   "outputs": [
    {
     "name": "stdout",
     "output_type": "stream",
     "text": [
      "[700 710 720 730 740 750 760 770 780 790 800 810 820 830 840]\n"
     ]
    }
   ],
   "source": [
    "# Suppose we create a folder in crispy/ReferenceFiles/ called wavecalR50_770_test\n",
    "par.wavecalDir = par.prefix+'/wavecalR50_770/'\n",
    "# construct monochromatic wavelengths, doesn't really matter which wavelengths\n",
    "lamlist = np.arange(700,845,10)\n",
    "print(lamlist)\n"
   ]
  },
  {
   "cell_type": "code",
   "execution_count": 4,
   "metadata": {
    "collapsed": false,
    "scrolled": true
   },
   "outputs": [
    {
     "name": "stdout",
     "output_type": "stream",
     "text": [
      "crispy - INFO - Using PSFlet gaussian approximation\n",
      "crispy - INFO - Assuming slices are evenly spread in wavelengths\n",
      "[ 699.  701.]\n",
      "crispy - INFO - Number of detector pixels per lenslet: 13.384615\n",
      "crispy - INFO - Rebinning final detector. Image has dimensions 1024x1024\n",
      "crispy - INFO - Done.\n",
      "crispy - INFO - Performance: 4 seconds total\n",
      "crispy - INFO - Writing data to ../../../crispy/ReferenceFiles/wavecalR50_770/det_700.fits\n",
      "crispy - INFO - Using PSFlet gaussian approximation\n",
      "crispy - INFO - Assuming slices are evenly spread in wavelengths\n",
      "[ 709.  711.]\n"
     ]
    },
    {
     "name": "stderr",
     "output_type": "stream",
     "text": [
      "WARNING: AstropyDeprecationWarning: \"clobber\" was deprecated in version 1.3 and will be removed in a future version. Use argument \"overwrite\" instead. [astropy.utils.decorators]\n"
     ]
    },
    {
     "name": "stdout",
     "output_type": "stream",
     "text": [
      "crispy - INFO - Number of detector pixels per lenslet: 13.384615\n",
      "crispy - INFO - Rebinning final detector. Image has dimensions 1024x1024\n",
      "crispy - INFO - Done.\n",
      "crispy - INFO - Performance: 4 seconds total\n",
      "crispy - INFO - Writing data to ../../../crispy/ReferenceFiles/wavecalR50_770/det_710.fits\n",
      "crispy - INFO - Using PSFlet gaussian approximation\n",
      "crispy - INFO - Assuming slices are evenly spread in wavelengths\n",
      "[ 719.  721.]\n",
      "crispy - INFO - Number of detector pixels per lenslet: 13.384615\n",
      "crispy - INFO - Rebinning final detector. Image has dimensions 1024x1024\n",
      "crispy - INFO - Done.\n",
      "crispy - INFO - Performance: 3 seconds total\n",
      "crispy - INFO - Writing data to ../../../crispy/ReferenceFiles/wavecalR50_770/det_720.fits\n",
      "crispy - INFO - Using PSFlet gaussian approximation\n",
      "crispy - INFO - Assuming slices are evenly spread in wavelengths\n",
      "[ 729.  731.]\n",
      "crispy - INFO - Number of detector pixels per lenslet: 13.384615\n",
      "crispy - INFO - Rebinning final detector. Image has dimensions 1024x1024\n",
      "crispy - INFO - Done.\n",
      "crispy - INFO - Performance: 4 seconds total\n",
      "crispy - INFO - Writing data to ../../../crispy/ReferenceFiles/wavecalR50_770/det_730.fits\n",
      "crispy - INFO - Using PSFlet gaussian approximation\n",
      "crispy - INFO - Assuming slices are evenly spread in wavelengths\n",
      "[ 739.  741.]\n",
      "crispy - INFO - Number of detector pixels per lenslet: 13.384615\n",
      "crispy - INFO - Rebinning final detector. Image has dimensions 1024x1024\n",
      "crispy - INFO - Done.\n",
      "crispy - INFO - Performance: 4 seconds total\n",
      "crispy - INFO - Writing data to ../../../crispy/ReferenceFiles/wavecalR50_770/det_740.fits\n",
      "crispy - INFO - Using PSFlet gaussian approximation\n",
      "crispy - INFO - Assuming slices are evenly spread in wavelengths\n",
      "[ 749.  751.]\n",
      "crispy - INFO - Number of detector pixels per lenslet: 13.384615\n",
      "crispy - INFO - Rebinning final detector. Image has dimensions 1024x1024\n",
      "crispy - INFO - Done.\n",
      "crispy - INFO - Performance: 4 seconds total\n",
      "crispy - INFO - Writing data to ../../../crispy/ReferenceFiles/wavecalR50_770/det_750.fits\n",
      "crispy - INFO - Using PSFlet gaussian approximation\n",
      "crispy - INFO - Assuming slices are evenly spread in wavelengths\n",
      "[ 759.  761.]\n",
      "crispy - INFO - Number of detector pixels per lenslet: 13.384615\n",
      "crispy - INFO - Rebinning final detector. Image has dimensions 1024x1024\n",
      "crispy - INFO - Done.\n",
      "crispy - INFO - Performance: 4 seconds total\n",
      "crispy - INFO - Writing data to ../../../crispy/ReferenceFiles/wavecalR50_770/det_760.fits\n",
      "crispy - INFO - Using PSFlet gaussian approximation\n",
      "crispy - INFO - Assuming slices are evenly spread in wavelengths\n",
      "[ 769.  771.]\n",
      "crispy - INFO - Number of detector pixels per lenslet: 13.384615\n",
      "crispy - INFO - Rebinning final detector. Image has dimensions 1024x1024\n",
      "crispy - INFO - Done.\n",
      "crispy - INFO - Performance: 4 seconds total\n",
      "crispy - INFO - Writing data to ../../../crispy/ReferenceFiles/wavecalR50_770/det_770.fits\n",
      "crispy - INFO - Using PSFlet gaussian approximation\n",
      "crispy - INFO - Assuming slices are evenly spread in wavelengths\n",
      "[ 779.  781.]\n",
      "crispy - INFO - Number of detector pixels per lenslet: 13.384615\n",
      "crispy - INFO - Rebinning final detector. Image has dimensions 1024x1024\n",
      "crispy - INFO - Done.\n",
      "crispy - INFO - Performance: 4 seconds total\n",
      "crispy - INFO - Writing data to ../../../crispy/ReferenceFiles/wavecalR50_770/det_780.fits\n",
      "crispy - INFO - Using PSFlet gaussian approximation\n",
      "crispy - INFO - Assuming slices are evenly spread in wavelengths\n",
      "[ 789.  791.]\n",
      "crispy - INFO - Number of detector pixels per lenslet: 13.384615\n",
      "crispy - INFO - Rebinning final detector. Image has dimensions 1024x1024\n",
      "crispy - INFO - Done.\n",
      "crispy - INFO - Performance: 4 seconds total\n",
      "crispy - INFO - Writing data to ../../../crispy/ReferenceFiles/wavecalR50_770/det_790.fits\n",
      "crispy - INFO - Using PSFlet gaussian approximation\n",
      "crispy - INFO - Assuming slices are evenly spread in wavelengths\n",
      "[ 799.  801.]\n",
      "crispy - INFO - Number of detector pixels per lenslet: 13.384615\n",
      "crispy - INFO - Rebinning final detector. Image has dimensions 1024x1024\n",
      "crispy - INFO - Done.\n",
      "crispy - INFO - Performance: 3 seconds total\n",
      "crispy - INFO - Writing data to ../../../crispy/ReferenceFiles/wavecalR50_770/det_800.fits\n",
      "crispy - INFO - Using PSFlet gaussian approximation\n",
      "crispy - INFO - Assuming slices are evenly spread in wavelengths\n",
      "[ 809.  811.]\n",
      "crispy - INFO - Number of detector pixels per lenslet: 13.384615\n",
      "crispy - INFO - Rebinning final detector. Image has dimensions 1024x1024\n",
      "crispy - INFO - Done.\n",
      "crispy - INFO - Performance: 3 seconds total\n",
      "crispy - INFO - Writing data to ../../../crispy/ReferenceFiles/wavecalR50_770/det_810.fits\n",
      "crispy - INFO - Using PSFlet gaussian approximation\n",
      "crispy - INFO - Assuming slices are evenly spread in wavelengths\n",
      "[ 819.  821.]\n",
      "crispy - INFO - Number of detector pixels per lenslet: 13.384615\n",
      "crispy - INFO - Rebinning final detector. Image has dimensions 1024x1024\n",
      "crispy - INFO - Done.\n",
      "crispy - INFO - Performance: 3 seconds total\n",
      "crispy - INFO - Writing data to ../../../crispy/ReferenceFiles/wavecalR50_770/det_820.fits\n",
      "crispy - INFO - Using PSFlet gaussian approximation\n",
      "crispy - INFO - Assuming slices are evenly spread in wavelengths\n",
      "[ 829.  831.]\n",
      "crispy - INFO - Number of detector pixels per lenslet: 13.384615\n",
      "crispy - INFO - Rebinning final detector. Image has dimensions 1024x1024\n",
      "crispy - INFO - Done.\n",
      "crispy - INFO - Performance: 4 seconds total\n",
      "crispy - INFO - Writing data to ../../../crispy/ReferenceFiles/wavecalR50_770/det_830.fits\n",
      "crispy - INFO - Using PSFlet gaussian approximation\n",
      "crispy - INFO - Assuming slices are evenly spread in wavelengths\n",
      "[ 839.  841.]\n",
      "crispy - INFO - Number of detector pixels per lenslet: 13.384615\n",
      "crispy - INFO - Rebinning final detector. Image has dimensions 1024x1024\n",
      "crispy - INFO - Done.\n",
      "crispy - INFO - Performance: 3 seconds total\n",
      "crispy - INFO - Writing data to ../../../crispy/ReferenceFiles/wavecalR50_770/det_840.fits\n"
     ]
    }
   ],
   "source": [
    "# construct images for each wavelength\n",
    "from crispy.IFS import createWavecalFiles\n",
    "createWavecalFiles(par,lamlist)"
   ]
  },
  {
   "cell_type": "markdown",
   "metadata": {
    "collapsed": true
   },
   "source": [
    "### Loading wavelengths/filelists"
   ]
  },
  {
   "cell_type": "code",
   "execution_count": 5,
   "metadata": {
    "collapsed": false
   },
   "outputs": [],
   "source": [
    "#par.lamlist = np.loadtxt(par.wavecalDir + \"lamsol.dat\")[:, 0]\n",
    "par.lamlist=lamlist\n",
    "par.filelist = np.sort(glob.glob(par.wavecalDir + \"det*.fits\"))"
   ]
  },
  {
   "cell_type": "code",
   "execution_count": null,
   "metadata": {
    "collapsed": true
   },
   "outputs": [],
   "source": []
  },
  {
   "cell_type": "markdown",
   "metadata": {},
   "source": [
    "### Run calibration. Choose parameters wisely."
   ]
  },
  {
   "cell_type": "code",
   "execution_count": 6,
   "metadata": {
    "collapsed": false,
    "scrolled": true
   },
   "outputs": [
    {
     "name": "stdout",
     "output_type": "stream",
     "text": [
      "crispy - INFO - Building calibration files, placing results in ../../../crispy/ReferenceFiles/wavecalR50_770/\n",
      "crispy - INFO - Read data from HDU 1 of ../../../crispy/ReferenceFiles/wavecalR50_770/det_700.fits\n",
      "crispy - INFO - Read data from HDU 1 of ../../../crispy/ReferenceFiles/wavecalR50_770/det_700.fits\n",
      "crispy - INFO - Initializing PSFlet location transformation coefficients\n",
      "crispy - INFO - Performing initial optimization of PSFlet location transformation coefficients for frame ../../../crispy/ReferenceFiles/wavecalR50_770/det_700.fits\n",
      "crispy - INFO - Performing final optimization of PSFlet location transformation coefficients for frame ../../../crispy/ReferenceFiles/wavecalR50_770/det_700.fits\n",
      "crispy - INFO - Read data from HDU 1 of ../../../crispy/ReferenceFiles/wavecalR50_770/det_710.fits\n",
      "crispy - INFO - Initializing transformation coefficients with previous values\n",
      "crispy - INFO - Performing final optimization of PSFlet location transformation coefficients for frame ../../../crispy/ReferenceFiles/wavecalR50_770/det_710.fits\n",
      "crispy - INFO - Read data from HDU 1 of ../../../crispy/ReferenceFiles/wavecalR50_770/det_720.fits\n",
      "crispy - INFO - Initializing transformation coefficients with previous values\n",
      "crispy - INFO - Performing final optimization of PSFlet location transformation coefficients for frame ../../../crispy/ReferenceFiles/wavecalR50_770/det_720.fits\n",
      "crispy - INFO - Read data from HDU 1 of ../../../crispy/ReferenceFiles/wavecalR50_770/det_730.fits\n",
      "crispy - INFO - Initializing transformation coefficients with previous values\n",
      "crispy - INFO - Performing final optimization of PSFlet location transformation coefficients for frame ../../../crispy/ReferenceFiles/wavecalR50_770/det_730.fits\n",
      "crispy - INFO - Read data from HDU 1 of ../../../crispy/ReferenceFiles/wavecalR50_770/det_740.fits\n",
      "crispy - INFO - Initializing transformation coefficients with previous values\n",
      "crispy - INFO - Performing final optimization of PSFlet location transformation coefficients for frame ../../../crispy/ReferenceFiles/wavecalR50_770/det_740.fits\n",
      "crispy - INFO - Read data from HDU 1 of ../../../crispy/ReferenceFiles/wavecalR50_770/det_750.fits\n",
      "crispy - INFO - Initializing transformation coefficients with previous values\n",
      "crispy - INFO - Performing final optimization of PSFlet location transformation coefficients for frame ../../../crispy/ReferenceFiles/wavecalR50_770/det_750.fits\n",
      "crispy - INFO - Read data from HDU 1 of ../../../crispy/ReferenceFiles/wavecalR50_770/det_760.fits\n",
      "crispy - INFO - Initializing transformation coefficients with previous values\n",
      "crispy - INFO - Performing final optimization of PSFlet location transformation coefficients for frame ../../../crispy/ReferenceFiles/wavecalR50_770/det_760.fits\n",
      "crispy - INFO - Read data from HDU 1 of ../../../crispy/ReferenceFiles/wavecalR50_770/det_770.fits\n",
      "crispy - INFO - Initializing transformation coefficients with previous values\n",
      "crispy - INFO - Performing final optimization of PSFlet location transformation coefficients for frame ../../../crispy/ReferenceFiles/wavecalR50_770/det_770.fits\n",
      "crispy - INFO - Read data from HDU 1 of ../../../crispy/ReferenceFiles/wavecalR50_770/det_780.fits\n",
      "crispy - INFO - Initializing transformation coefficients with previous values\n",
      "crispy - INFO - Performing final optimization of PSFlet location transformation coefficients for frame ../../../crispy/ReferenceFiles/wavecalR50_770/det_780.fits\n",
      "crispy - INFO - Read data from HDU 1 of ../../../crispy/ReferenceFiles/wavecalR50_770/det_790.fits\n",
      "crispy - INFO - Initializing transformation coefficients with previous values\n",
      "crispy - INFO - Performing final optimization of PSFlet location transformation coefficients for frame ../../../crispy/ReferenceFiles/wavecalR50_770/det_790.fits\n",
      "crispy - INFO - Read data from HDU 1 of ../../../crispy/ReferenceFiles/wavecalR50_770/det_800.fits\n",
      "crispy - INFO - Initializing transformation coefficients with previous values\n",
      "crispy - INFO - Performing final optimization of PSFlet location transformation coefficients for frame ../../../crispy/ReferenceFiles/wavecalR50_770/det_800.fits\n",
      "crispy - INFO - Read data from HDU 1 of ../../../crispy/ReferenceFiles/wavecalR50_770/det_810.fits\n",
      "crispy - INFO - Initializing transformation coefficients with previous values\n",
      "crispy - INFO - Performing final optimization of PSFlet location transformation coefficients for frame ../../../crispy/ReferenceFiles/wavecalR50_770/det_810.fits\n",
      "crispy - INFO - Read data from HDU 1 of ../../../crispy/ReferenceFiles/wavecalR50_770/det_820.fits\n",
      "crispy - INFO - Initializing transformation coefficients with previous values\n",
      "crispy - INFO - Performing final optimization of PSFlet location transformation coefficients for frame ../../../crispy/ReferenceFiles/wavecalR50_770/det_820.fits\n",
      "crispy - INFO - Read data from HDU 1 of ../../../crispy/ReferenceFiles/wavecalR50_770/det_830.fits\n",
      "crispy - INFO - Initializing transformation coefficients with previous values\n",
      "crispy - INFO - Performing final optimization of PSFlet location transformation coefficients for frame ../../../crispy/ReferenceFiles/wavecalR50_770/det_830.fits\n",
      "crispy - INFO - Read data from HDU 1 of ../../../crispy/ReferenceFiles/wavecalR50_770/det_840.fits\n",
      "crispy - INFO - Initializing transformation coefficients with previous values\n",
      "crispy - INFO - Performing final optimization of PSFlet location transformation coefficients for frame ../../../crispy/ReferenceFiles/wavecalR50_770/det_840.fits\n",
      "crispy - INFO - Saving wavelength solution to ../../../crispy/ReferenceFiles/wavecalR50_770/lamsol.dat\n",
      "crispy - INFO - Computing wavelength values at pixel centers\n",
      "crispy - INFO - Making high-resolution PSFLet models\n",
      "crispy - INFO - Starting parallel computation\n",
      "crispy - INFO - Reduced cube will have 19 wavelength bins\n",
      "crispy - INFO - Making polychrome cube\n",
      "crispy - INFO - Saving polychrome cube\n",
      "crispy - INFO - Saving wavelength calibration cube\n",
      "crispy - INFO - Total time elapsed: 307 s\n"
     ]
    }
   ],
   "source": [
    "from crispy.tools.wavecal import buildcalibrations\n",
    "buildcalibrations(par,\n",
    "                  order=3, # Order of polynomial map of the PSFLets (between 1 and 5)\n",
    "                  upsample=10, # Upsampling factor of the PSFLets, needs to be at least 5\n",
    "                  nsubarr=1, # How many zones on the detector have their own PSFLets? \n",
    "                  genwavelengthsol=True, # Compute wavelength at the center of all pixels (need to do this at least once)\n",
    "                  makehiresPSFlets=True, # Compute hires PSFLets (usually False)\n",
    "                  parallel=True) # Use all computer cores"
   ]
  },
  {
   "cell_type": "code",
   "execution_count": 7,
   "metadata": {
    "collapsed": false
   },
   "outputs": [
    {
     "name": "stdout",
     "output_type": "stream",
     "text": [
      "crispy - INFO - Reduced cube will have 19 wavelength bins\n",
      "[ 703.68421053  711.05263158  718.42105263  725.78947368  733.15789474\n",
      "  740.52631579  747.89473684  755.26315789  762.63157895  770.\n",
      "  777.36842105  784.73684211  792.10526316  799.47368421  806.84210526\n",
      "  814.21052632  821.57894737  828.94736842  836.31578947] [ 700.          707.36842105  714.73684211  722.10526316  729.47368421\n",
      "  736.84210526  744.21052632  751.57894737  758.94736842  766.31578947\n",
      "  773.68421053  781.05263158  788.42105263  795.78947368  803.15789474\n",
      "  810.52631579  817.89473684  825.26315789  832.63157895  840.        ]\n",
      "13.11653924\n"
     ]
    }
   ],
   "source": [
    "from crispy.tools.reduction import calculateWaveList\n",
    "lam_mid,lam_end = calculateWaveList(par)\n",
    "print lam_mid,lam_end\n"
   ]
  },
  {
   "cell_type": "code",
   "execution_count": 6,
   "metadata": {
    "collapsed": false
   },
   "outputs": [
    {
     "name": "stdout",
     "output_type": "stream",
     "text": [
      "crispy - INFO - Reduced cube will have 44 wavelength bins\n",
      "crispy - INFO - Using PSFlet gaussian approximation\n",
      "crispy - INFO - Assuming endpoints wavelist is given\n",
      "[ 700.          703.18181818  706.36363636  709.54545455  712.72727273\n",
      "  715.90909091  719.09090909  722.27272727  725.45454545  728.63636364\n",
      "  731.81818182  735.          738.18181818  741.36363636  744.54545455\n",
      "  747.72727273  750.90909091  754.09090909  757.27272727  760.45454545\n",
      "  763.63636364  766.81818182  770.          773.18181818  776.36363636\n",
      "  779.54545455  782.72727273  785.90909091  789.09090909  792.27272727\n",
      "  795.45454545  798.63636364  801.81818182  805.          808.18181818\n",
      "  811.36363636  814.54545455  817.72727273  820.90909091  824.09090909\n",
      "  827.27272727  830.45454545  833.63636364  836.81818182  840.        ]\n",
      "crispy - INFO - Number of detector pixels per lenslet: 13.384615\n",
      "crispy - INFO - Rebinning final detector. Image has dimensions 1024x1024\n",
      "crispy - INFO - Done.\n",
      "crispy - INFO - Performance: 39 seconds total\n",
      "crispy - INFO - Writing data to ../../../crispy/unitTestsOutputs/flatfield.fits\n"
     ]
    }
   ],
   "source": [
    "from crispy.unitTests import testCreateFlatfield\n",
    "# par.savePoly = True\n",
    "# par.saveRotatedInput = True\n",
    "testCreateFlatfield(par)"
   ]
  },
  {
   "cell_type": "code",
   "execution_count": 8,
   "metadata": {
    "collapsed": false
   },
   "outputs": [
    {
     "name": "stdout",
     "output_type": "stream",
     "text": [
      "crispy - INFO - Read data from HDU 1 of ../../../crispy/unitTestsOutputs/flatfield.fits\n",
      "crispy - INFO - Reduced cube will have 19 wavelength bins\n",
      "crispy - INFO - Writing data to ../../../crispy/SimResults/flatfield_red_optext.fits\n",
      "crispy - INFO - Elapsed time: 12.296260s\n"
     ]
    }
   ],
   "source": [
    "from crispy.IFS import reduceIFSMap\n",
    "tmp=reduceIFSMap(par,par.unitTestsOutputs+'/flatfield.fits',method='optext')\n"
   ]
  }
 ],
 "metadata": {
  "anaconda-cloud": {},
  "kernelspec": {
   "display_name": "Python 2",
   "language": "python",
   "name": "python2"
  },
  "language_info": {
   "codemirror_mode": {
    "name": "ipython",
    "version": 2
   },
   "file_extension": ".py",
   "mimetype": "text/x-python",
   "name": "python",
   "nbconvert_exporter": "python",
   "pygments_lexer": "ipython2",
   "version": "2.7.13"
  }
 },
 "nbformat": 4,
 "nbformat_minor": 1
}
