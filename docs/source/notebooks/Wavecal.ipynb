{
 "cells": [
  {
   "cell_type": "markdown",
   "metadata": {},
   "source": [
    "# Wavelength calibration"
   ]
  },
  {
   "cell_type": "code",
   "execution_count": 1,
   "metadata": {
    "collapsed": true
   },
   "outputs": [],
   "source": [
    "import numpy as np\n",
    "import glob\n",
    "import matplotlib\n",
    "import matplotlib.pyplot as plt\n",
    "matplotlib.rcParams['image.origin'] = 'lower'\n",
    "matplotlib.rcParams['image.interpolation'] = 'nearest'\n",
    "import sys\n",
    "codefolder = '../../../../crispy'\n",
    "if codefolder not in sys.path: sys.path.append(codefolder)\n",
    "from crispy.tools.initLogger import getLogger\n",
    "log = getLogger('crispy')\n",
    "from crispy.params import Params\n",
    "codefolder = '../../../crispy'\n",
    "par = Params(codefolder)"
   ]
  },
  {
   "cell_type": "markdown",
   "metadata": {
    "collapsed": true
   },
   "source": [
    "### Loading crispy's dependencies"
   ]
  },
  {
   "cell_type": "code",
   "execution_count": null,
   "metadata": {
    "collapsed": false
   },
   "outputs": [],
   "source": []
  },
  {
   "cell_type": "markdown",
   "metadata": {},
   "source": [
    "### Generate monochromatic wavelengths"
   ]
  },
  {
   "cell_type": "code",
   "execution_count": 2,
   "metadata": {
    "collapsed": false
   },
   "outputs": [],
   "source": [
    "# Suppose we create a folder in crispy/ReferenceFiles/ called wavecalR50_770_test\n",
    "par.wavecalDir = par.prefix+'/wavecalR50_660/'\n",
    "# construct monochromatic wavelengths, doesn't really matter which wavelengths\n",
    "lamlist = np.arange(590,735,10)\n"
   ]
  },
  {
   "cell_type": "code",
   "execution_count": 3,
   "metadata": {
    "collapsed": false,
    "scrolled": true
   },
   "outputs": [
    {
     "name": "stdout",
     "output_type": "stream",
     "text": [
      "crispy - INFO - The number of input pixels per lenslet is 4.285714\n",
      "crispy - INFO - Using PSFlet gaussian approximation\n",
      "crispy - WARNING - Assuming slices are evenly spread in wavelengths\n",
      "crispy - INFO - Writing data to ../../../crispy/SimResults/detectorFramepoly.fits\n",
      "crispy - INFO - Done.\n",
      "crispy - INFO - Performance: 4 seconds total\n",
      "crispy - INFO - Writing data to ../../../crispy/ReferenceFiles/wavecalR50_660/det_590.fits\n",
      "crispy - INFO - The number of input pixels per lenslet is 4.285714\n",
      "crispy - INFO - Using PSFlet gaussian approximation\n",
      "crispy - WARNING - Assuming slices are evenly spread in wavelengths\n",
      "crispy - INFO - Writing data to ../../../crispy/SimResults/detectorFramepoly.fits\n",
      "crispy - INFO - Done.\n",
      "crispy - INFO - Performance: 4 seconds total\n",
      "crispy - INFO - Writing data to ../../../crispy/ReferenceFiles/wavecalR50_660/det_600.fits\n",
      "crispy - INFO - The number of input pixels per lenslet is 4.285714\n",
      "crispy - INFO - Using PSFlet gaussian approximation\n",
      "crispy - WARNING - Assuming slices are evenly spread in wavelengths\n",
      "crispy - INFO - Writing data to ../../../crispy/SimResults/detectorFramepoly.fits\n",
      "crispy - INFO - Done.\n",
      "crispy - INFO - Performance: 4 seconds total\n",
      "crispy - INFO - Writing data to ../../../crispy/ReferenceFiles/wavecalR50_660/det_610.fits\n",
      "crispy - INFO - The number of input pixels per lenslet is 4.285714\n",
      "crispy - INFO - Using PSFlet gaussian approximation\n",
      "crispy - WARNING - Assuming slices are evenly spread in wavelengths\n",
      "crispy - INFO - Writing data to ../../../crispy/SimResults/detectorFramepoly.fits\n",
      "crispy - INFO - Done.\n",
      "crispy - INFO - Performance: 4 seconds total\n",
      "crispy - INFO - Writing data to ../../../crispy/ReferenceFiles/wavecalR50_660/det_620.fits\n",
      "crispy - INFO - The number of input pixels per lenslet is 4.285714\n",
      "crispy - INFO - Using PSFlet gaussian approximation\n",
      "crispy - WARNING - Assuming slices are evenly spread in wavelengths\n",
      "crispy - INFO - Writing data to ../../../crispy/SimResults/detectorFramepoly.fits\n",
      "crispy - INFO - Done.\n",
      "crispy - INFO - Performance: 4 seconds total\n",
      "crispy - INFO - Writing data to ../../../crispy/ReferenceFiles/wavecalR50_660/det_630.fits\n",
      "crispy - INFO - The number of input pixels per lenslet is 4.285714\n",
      "crispy - INFO - Using PSFlet gaussian approximation\n",
      "crispy - WARNING - Assuming slices are evenly spread in wavelengths\n",
      "crispy - INFO - Writing data to ../../../crispy/SimResults/detectorFramepoly.fits\n",
      "crispy - INFO - Done.\n",
      "crispy - INFO - Performance: 4 seconds total\n",
      "crispy - INFO - Writing data to ../../../crispy/ReferenceFiles/wavecalR50_660/det_640.fits\n",
      "crispy - INFO - The number of input pixels per lenslet is 4.285714\n",
      "crispy - INFO - Using PSFlet gaussian approximation\n",
      "crispy - WARNING - Assuming slices are evenly spread in wavelengths\n",
      "crispy - INFO - Writing data to ../../../crispy/SimResults/detectorFramepoly.fits\n",
      "crispy - INFO - Done.\n",
      "crispy - INFO - Performance: 4 seconds total\n",
      "crispy - INFO - Writing data to ../../../crispy/ReferenceFiles/wavecalR50_660/det_650.fits\n",
      "crispy - INFO - The number of input pixels per lenslet is 4.285714\n",
      "crispy - INFO - Using PSFlet gaussian approximation\n",
      "crispy - WARNING - Assuming slices are evenly spread in wavelengths\n",
      "crispy - INFO - Writing data to ../../../crispy/SimResults/detectorFramepoly.fits\n",
      "crispy - INFO - Done.\n",
      "crispy - INFO - Performance: 4 seconds total\n",
      "crispy - INFO - Writing data to ../../../crispy/ReferenceFiles/wavecalR50_660/det_660.fits\n",
      "crispy - INFO - The number of input pixels per lenslet is 4.285714\n",
      "crispy - INFO - Using PSFlet gaussian approximation\n",
      "crispy - WARNING - Assuming slices are evenly spread in wavelengths\n",
      "crispy - INFO - Writing data to ../../../crispy/SimResults/detectorFramepoly.fits\n",
      "crispy - INFO - Done.\n",
      "crispy - INFO - Performance: 4 seconds total\n",
      "crispy - INFO - Writing data to ../../../crispy/ReferenceFiles/wavecalR50_660/det_670.fits\n",
      "crispy - INFO - The number of input pixels per lenslet is 4.285714\n",
      "crispy - INFO - Using PSFlet gaussian approximation\n",
      "crispy - WARNING - Assuming slices are evenly spread in wavelengths\n",
      "crispy - INFO - Writing data to ../../../crispy/SimResults/detectorFramepoly.fits\n",
      "crispy - INFO - Done.\n",
      "crispy - INFO - Performance: 4 seconds total\n",
      "crispy - INFO - Writing data to ../../../crispy/ReferenceFiles/wavecalR50_660/det_680.fits\n",
      "crispy - INFO - The number of input pixels per lenslet is 4.285714\n",
      "crispy - INFO - Using PSFlet gaussian approximation\n",
      "crispy - WARNING - Assuming slices are evenly spread in wavelengths\n",
      "crispy - INFO - Writing data to ../../../crispy/SimResults/detectorFramepoly.fits\n",
      "crispy - INFO - Done.\n",
      "crispy - INFO - Performance: 3 seconds total\n",
      "crispy - INFO - Writing data to ../../../crispy/ReferenceFiles/wavecalR50_660/det_690.fits\n",
      "crispy - INFO - The number of input pixels per lenslet is 4.285714\n",
      "crispy - INFO - Using PSFlet gaussian approximation\n",
      "crispy - WARNING - Assuming slices are evenly spread in wavelengths\n",
      "crispy - INFO - Writing data to ../../../crispy/SimResults/detectorFramepoly.fits\n",
      "crispy - INFO - Done.\n",
      "crispy - INFO - Performance: 3 seconds total\n",
      "crispy - INFO - Writing data to ../../../crispy/ReferenceFiles/wavecalR50_660/det_700.fits\n",
      "crispy - INFO - The number of input pixels per lenslet is 4.285714\n",
      "crispy - INFO - Using PSFlet gaussian approximation\n",
      "crispy - WARNING - Assuming slices are evenly spread in wavelengths\n",
      "crispy - INFO - Writing data to ../../../crispy/SimResults/detectorFramepoly.fits\n",
      "crispy - INFO - Done.\n",
      "crispy - INFO - Performance: 3 seconds total\n",
      "crispy - INFO - Writing data to ../../../crispy/ReferenceFiles/wavecalR50_660/det_710.fits\n",
      "crispy - INFO - The number of input pixels per lenslet is 4.285714\n",
      "crispy - INFO - Using PSFlet gaussian approximation\n",
      "crispy - WARNING - Assuming slices are evenly spread in wavelengths\n",
      "crispy - INFO - Writing data to ../../../crispy/SimResults/detectorFramepoly.fits\n",
      "crispy - INFO - Done.\n",
      "crispy - INFO - Performance: 3 seconds total\n",
      "crispy - INFO - Writing data to ../../../crispy/ReferenceFiles/wavecalR50_660/det_720.fits\n",
      "crispy - INFO - The number of input pixels per lenslet is 4.285714\n",
      "crispy - INFO - Using PSFlet gaussian approximation\n",
      "crispy - WARNING - Assuming slices are evenly spread in wavelengths\n",
      "crispy - INFO - Writing data to ../../../crispy/SimResults/detectorFramepoly.fits\n",
      "crispy - INFO - Done.\n",
      "crispy - INFO - Performance: 3 seconds total\n",
      "crispy - INFO - Writing data to ../../../crispy/ReferenceFiles/wavecalR50_660/det_730.fits\n"
     ]
    }
   ],
   "source": [
    "# construct images for each wavelength\n",
    "par.savePoly = True\n",
    "from crispy.IFS import createWavecalFiles\n",
    "createWavecalFiles(par,lamlist)"
   ]
  },
  {
   "cell_type": "markdown",
   "metadata": {
    "collapsed": true
   },
   "source": [
    "### Loading wavelengths/filelists"
   ]
  },
  {
   "cell_type": "code",
   "execution_count": 10,
   "metadata": {
    "collapsed": false
   },
   "outputs": [],
   "source": [
    "#par.lamlist = np.loadtxt(par.wavecalDir + \"lamsol.dat\")[:, 0]\n",
    "par.lamlist=lamlist\n",
    "par.filelist = np.sort(glob.glob(par.wavecalDir + \"det*.fits\"))"
   ]
  },
  {
   "cell_type": "code",
   "execution_count": null,
   "metadata": {
    "collapsed": true
   },
   "outputs": [],
   "source": []
  },
  {
   "cell_type": "markdown",
   "metadata": {},
   "source": [
    "### Run calibration. Choose parameters wisely."
   ]
  },
  {
   "cell_type": "code",
   "execution_count": 11,
   "metadata": {
    "collapsed": false,
    "scrolled": true
   },
   "outputs": [
    {
     "name": "stdout",
     "output_type": "stream",
     "text": [
      "crispy - INFO - Building calibration files, placing results in ../../../crispy/ReferenceFiles/wavecalR50_660/\n",
      "crispy - INFO - Read data from HDU 1 of ../../../crispy/ReferenceFiles/wavecalR50_660/det_590.fits\n",
      "crispy - INFO - Read data from HDU 1 of ../../../crispy/ReferenceFiles/wavecalR50_660/det_590.fits\n",
      "crispy - INFO - Initializing PSFlet location transformation coefficients\n",
      "crispy - INFO - Performing initial optimization of PSFlet location transformation coefficients for frame ../../../crispy/ReferenceFiles/wavecalR50_660/det_590.fits\n",
      "crispy - INFO - Performing final optimization of PSFlet location transformation coefficients for frame ../../../crispy/ReferenceFiles/wavecalR50_660/det_590.fits\n",
      "crispy - INFO - Read data from HDU 1 of ../../../crispy/ReferenceFiles/wavecalR50_660/det_600.fits\n",
      "crispy - INFO - Initializing transformation coefficients with previous values\n",
      "crispy - INFO - Performing final optimization of PSFlet location transformation coefficients for frame ../../../crispy/ReferenceFiles/wavecalR50_660/det_600.fits\n",
      "crispy - INFO - Read data from HDU 1 of ../../../crispy/ReferenceFiles/wavecalR50_660/det_610.fits\n",
      "crispy - INFO - Initializing transformation coefficients with previous values\n",
      "crispy - INFO - Performing final optimization of PSFlet location transformation coefficients for frame ../../../crispy/ReferenceFiles/wavecalR50_660/det_610.fits\n",
      "crispy - INFO - Read data from HDU 1 of ../../../crispy/ReferenceFiles/wavecalR50_660/det_620.fits\n",
      "crispy - INFO - Initializing transformation coefficients with previous values\n",
      "crispy - INFO - Performing final optimization of PSFlet location transformation coefficients for frame ../../../crispy/ReferenceFiles/wavecalR50_660/det_620.fits\n",
      "crispy - INFO - Read data from HDU 1 of ../../../crispy/ReferenceFiles/wavecalR50_660/det_630.fits\n",
      "crispy - INFO - Initializing transformation coefficients with previous values\n",
      "crispy - INFO - Performing final optimization of PSFlet location transformation coefficients for frame ../../../crispy/ReferenceFiles/wavecalR50_660/det_630.fits\n",
      "crispy - INFO - Read data from HDU 1 of ../../../crispy/ReferenceFiles/wavecalR50_660/det_640.fits\n",
      "crispy - INFO - Initializing transformation coefficients with previous values\n",
      "crispy - INFO - Performing final optimization of PSFlet location transformation coefficients for frame ../../../crispy/ReferenceFiles/wavecalR50_660/det_640.fits\n",
      "crispy - INFO - Read data from HDU 1 of ../../../crispy/ReferenceFiles/wavecalR50_660/det_650.fits\n",
      "crispy - INFO - Initializing transformation coefficients with previous values\n",
      "crispy - INFO - Performing final optimization of PSFlet location transformation coefficients for frame ../../../crispy/ReferenceFiles/wavecalR50_660/det_650.fits\n",
      "crispy - INFO - Read data from HDU 1 of ../../../crispy/ReferenceFiles/wavecalR50_660/det_660.fits\n",
      "crispy - INFO - Initializing transformation coefficients with previous values\n",
      "crispy - INFO - Performing final optimization of PSFlet location transformation coefficients for frame ../../../crispy/ReferenceFiles/wavecalR50_660/det_660.fits\n",
      "crispy - INFO - Read data from HDU 1 of ../../../crispy/ReferenceFiles/wavecalR50_660/det_670.fits\n",
      "crispy - INFO - Initializing transformation coefficients with previous values\n",
      "crispy - INFO - Performing final optimization of PSFlet location transformation coefficients for frame ../../../crispy/ReferenceFiles/wavecalR50_660/det_670.fits\n",
      "crispy - INFO - Read data from HDU 1 of ../../../crispy/ReferenceFiles/wavecalR50_660/det_680.fits\n",
      "crispy - INFO - Initializing transformation coefficients with previous values\n",
      "crispy - INFO - Performing final optimization of PSFlet location transformation coefficients for frame ../../../crispy/ReferenceFiles/wavecalR50_660/det_680.fits\n",
      "crispy - INFO - Read data from HDU 1 of ../../../crispy/ReferenceFiles/wavecalR50_660/det_690.fits\n",
      "crispy - INFO - Initializing transformation coefficients with previous values\n",
      "crispy - INFO - Performing final optimization of PSFlet location transformation coefficients for frame ../../../crispy/ReferenceFiles/wavecalR50_660/det_690.fits\n",
      "crispy - INFO - Read data from HDU 1 of ../../../crispy/ReferenceFiles/wavecalR50_660/det_700.fits\n",
      "crispy - INFO - Initializing transformation coefficients with previous values\n",
      "crispy - INFO - Performing final optimization of PSFlet location transformation coefficients for frame ../../../crispy/ReferenceFiles/wavecalR50_660/det_700.fits\n",
      "crispy - INFO - Read data from HDU 1 of ../../../crispy/ReferenceFiles/wavecalR50_660/det_710.fits\n",
      "crispy - INFO - Initializing transformation coefficients with previous values\n",
      "crispy - INFO - Performing final optimization of PSFlet location transformation coefficients for frame ../../../crispy/ReferenceFiles/wavecalR50_660/det_710.fits\n",
      "crispy - INFO - Read data from HDU 1 of ../../../crispy/ReferenceFiles/wavecalR50_660/det_720.fits\n",
      "crispy - INFO - Initializing transformation coefficients with previous values\n",
      "crispy - INFO - Performing final optimization of PSFlet location transformation coefficients for frame ../../../crispy/ReferenceFiles/wavecalR50_660/det_720.fits\n",
      "crispy - INFO - Read data from HDU 1 of ../../../crispy/ReferenceFiles/wavecalR50_660/det_730.fits\n",
      "crispy - INFO - Initializing transformation coefficients with previous values\n",
      "crispy - INFO - Performing final optimization of PSFlet location transformation coefficients for frame ../../../crispy/ReferenceFiles/wavecalR50_660/det_730.fits\n",
      "crispy - INFO - Saving wavelength solution to ../../../crispy/ReferenceFiles/wavecalR50_660/lamsol.dat\n",
      "crispy - INFO - Computing wavelength values at pixel centers\n",
      "crispy - INFO - Making high-resolution PSFLet models\n",
      "crispy - INFO - Starting parallel computation\n"
     ]
    },
    {
     "name": "stderr",
     "output_type": "stream",
     "text": [
      "Traceback (most recent call last):\n",
      "  File \"/Users/mrizzo/anaconda/lib/python2.7/multiprocessing/queues.py\", line 268, in _feed\n",
      "    send(obj)\n",
      "IOError: [Errno 32] Broken pipe\n",
      "IOError: [Errno 32] Broken pipe\n"
     ]
    },
    {
     "name": "stdout",
     "output_type": "stream",
     "text": [
      "crispy - INFO - Reduced cube will have 11 wavelength bins\n",
      "crispy - INFO - Making polychrome cube\n",
      "crispy - INFO - Saving polychrome cube\n",
      "crispy - INFO - Saving wavelength calibration cube\n",
      "crispy - INFO - Total time elapsed: 286 s\n"
     ]
    }
   ],
   "source": [
    "from crispy.tools.wavecal import buildcalibrations\n",
    "buildcalibrations(par,\n",
    "                  order=3, # Order of polynomial map of the PSFLets (between 1 and 5)\n",
    "                  upsample=10, # Upsampling factor of the PSFLets, needs to be at least 5\n",
    "                  nsubarr=1, # How many zones on the detector have their own PSFLets? \n",
    "                  genwavelengthsol=True, # Compute wavelength at the center of all pixels (need to do this at least once)\n",
    "                  makehiresPSFlets=True, # Compute hires PSFLets (usually False)\n",
    "                  makePolychrome=True,\n",
    "                  apodize=False,\n",
    "                  parallel=True) # Use all computer cores"
   ]
  },
  {
   "cell_type": "code",
   "execution_count": 12,
   "metadata": {
    "collapsed": false
   },
   "outputs": [
    {
     "name": "stdout",
     "output_type": "stream",
     "text": [
      "crispy - INFO - Reduced cube will have 11 wavelength bins\n",
      "('Wavelengths at midpoints for lstsq (nm): ', array([ 596.36363636,  609.09090909,  621.81818182,  634.54545455,\n",
      "        647.27272727,  660.        ,  672.72727273,  685.45454545,\n",
      "        698.18181818,  710.90909091,  723.63636364]))\n",
      "('Wavelengths at endpoints for lstsq (nm): ', array([ 590.        ,  602.72727273,  615.45454545,  628.18181818,\n",
      "        640.90909091,  653.63636364,  666.36363636,  679.09090909,\n",
      "        691.81818182,  704.54545455,  717.27272727,  730.        ]))\n",
      "crispy - INFO - Reduced cube will have 11 wavelength bins\n",
      "('Wavelengths at midpoints for optext (nm): ', array([ 596.36363636,  609.09090909,  621.81818182,  634.54545455,\n",
      "        647.27272727,  660.        ,  672.72727273,  685.45454545,\n",
      "        698.18181818,  710.90909091,  723.63636364]))\n",
      "('Wavelengths at endpoints for optext (nm): ', array([ 590.        ,  602.72727273,  615.45454545,  628.18181818,\n",
      "        640.90909091,  653.63636364,  666.36363636,  679.09090909,\n",
      "        691.81818182,  704.54545455,  717.27272727,  730.        ]))\n"
     ]
    }
   ],
   "source": [
    "from crispy.tools.reduction import calculateWaveList\n",
    "lam_midpts,lam_endpts = calculateWaveList(par,method='lstsq')\n",
    "print('Wavelengths at midpoints for lstsq (nm): ',lam_midpts)\n",
    "print('Wavelengths at endpoints for lstsq (nm): ',lam_endpts)\n",
    "lam_midpts,lam_endpts = calculateWaveList(par,method='optext')\n",
    "print('Wavelengths at midpoints for optext (nm): ',lam_midpts)\n",
    "print('Wavelengths at endpoints for optext (nm): ',lam_endpts)"
   ]
  },
  {
   "cell_type": "code",
   "execution_count": 8,
   "metadata": {
    "collapsed": false
   },
   "outputs": [
    {
     "name": "stdout",
     "output_type": "stream",
     "text": [
      "15\n"
     ]
    }
   ],
   "source": [
    "print len(par.lamlist)"
   ]
  }
 ],
 "metadata": {
  "anaconda-cloud": {},
  "kernelspec": {
   "display_name": "Python 2",
   "language": "python",
   "name": "python2"
  },
  "language_info": {
   "codemirror_mode": {
    "name": "ipython",
    "version": 2
   },
   "file_extension": ".py",
   "mimetype": "text/x-python",
   "name": "python",
   "nbconvert_exporter": "python",
   "pygments_lexer": "ipython2",
   "version": "2.7.13"
  }
 },
 "nbformat": 4,
 "nbformat_minor": 1
}
