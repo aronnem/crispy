{
 "cells": [
  {
   "cell_type": "markdown",
   "metadata": {},
   "source": [
    "# Wavelength calibration"
   ]
  },
  {
   "cell_type": "code",
   "execution_count": 1,
   "metadata": {
    "collapsed": true
   },
   "outputs": [],
   "source": [
    "import numpy as np\n",
    "import glob\n",
    "import matplotlib\n",
    "import matplotlib.pyplot as plt\n",
    "matplotlib.rcParams['image.origin'] = 'lower'\n",
    "matplotlib.rcParams['image.interpolation'] = 'nearest'\n",
    "import sys\n",
    "codefolder = '../../../../crispy'\n",
    "if codefolder not in sys.path: sys.path.append(codefolder)\n",
    "from crispy.tools.initLogger import getLogger\n",
    "log = getLogger('crispy')\n",
    "from crispy.params import Params\n",
    "codefolder = '../../../crispy'\n",
    "par = Params(codefolder)"
   ]
  },
  {
   "cell_type": "markdown",
   "metadata": {
    "collapsed": true
   },
   "source": [
    "### Loading crispy's dependencies"
   ]
  },
  {
   "cell_type": "code",
   "execution_count": null,
   "metadata": {
    "collapsed": false
   },
   "outputs": [],
   "source": []
  },
  {
   "cell_type": "markdown",
   "metadata": {},
   "source": [
    "### Generate monochromatic wavelengths"
   ]
  },
  {
   "cell_type": "code",
   "execution_count": 2,
   "metadata": {
    "collapsed": false
   },
   "outputs": [],
   "source": [
    "# Suppose we create a folder in crispy/ReferenceFiles/ called wavecalR50_770_test\n",
    "par.wavecalDir = par.prefix+'/wavecalR50_660/'\n",
    "# construct monochromatic wavelengths, doesn't really matter which wavelengths\n",
    "lamlist = np.arange(600,725,10)\n"
   ]
  },
  {
   "cell_type": "code",
   "execution_count": 3,
   "metadata": {
    "collapsed": false,
    "scrolled": true
   },
   "outputs": [
    {
     "name": "stdout",
     "output_type": "stream",
     "text": [
      "crispy - INFO - The number of input pixels per lenslet is 4.285714\n",
      "crispy - INFO - Using PSFlet gaussian approximation\n",
      "crispy - WARNING - Assuming slices are evenly spread in wavelengths\n",
      "crispy - INFO - Writing data to ../../../crispy/SimResults/detectorFramepoly.fits\n",
      "crispy - INFO - Done.\n",
      "crispy - INFO - Performance: 4 seconds total\n",
      "crispy - INFO - Writing data to ../../../crispy/ReferenceFiles/wavecalR50_660/det_600.fits\n",
      "crispy - INFO - The number of input pixels per lenslet is 4.285714\n",
      "crispy - INFO - Using PSFlet gaussian approximation\n",
      "crispy - WARNING - Assuming slices are evenly spread in wavelengths\n",
      "crispy - INFO - Writing data to ../../../crispy/SimResults/detectorFramepoly.fits\n",
      "crispy - INFO - Done.\n",
      "crispy - INFO - Performance: 3 seconds total\n",
      "crispy - INFO - Writing data to ../../../crispy/ReferenceFiles/wavecalR50_660/det_610.fits\n",
      "crispy - INFO - The number of input pixels per lenslet is 4.285714\n",
      "crispy - INFO - Using PSFlet gaussian approximation\n",
      "crispy - WARNING - Assuming slices are evenly spread in wavelengths\n",
      "crispy - INFO - Writing data to ../../../crispy/SimResults/detectorFramepoly.fits\n",
      "crispy - INFO - Done.\n",
      "crispy - INFO - Performance: 3 seconds total\n",
      "crispy - INFO - Writing data to ../../../crispy/ReferenceFiles/wavecalR50_660/det_620.fits\n",
      "crispy - INFO - The number of input pixels per lenslet is 4.285714\n",
      "crispy - INFO - Using PSFlet gaussian approximation\n",
      "crispy - WARNING - Assuming slices are evenly spread in wavelengths\n",
      "crispy - INFO - Writing data to ../../../crispy/SimResults/detectorFramepoly.fits\n",
      "crispy - INFO - Done.\n",
      "crispy - INFO - Performance: 3 seconds total\n",
      "crispy - INFO - Writing data to ../../../crispy/ReferenceFiles/wavecalR50_660/det_630.fits\n",
      "crispy - INFO - The number of input pixels per lenslet is 4.285714\n",
      "crispy - INFO - Using PSFlet gaussian approximation\n",
      "crispy - WARNING - Assuming slices are evenly spread in wavelengths\n",
      "crispy - INFO - Writing data to ../../../crispy/SimResults/detectorFramepoly.fits\n",
      "crispy - INFO - Done.\n",
      "crispy - INFO - Performance: 3 seconds total\n",
      "crispy - INFO - Writing data to ../../../crispy/ReferenceFiles/wavecalR50_660/det_640.fits\n",
      "crispy - INFO - The number of input pixels per lenslet is 4.285714\n",
      "crispy - INFO - Using PSFlet gaussian approximation\n",
      "crispy - WARNING - Assuming slices are evenly spread in wavelengths\n",
      "crispy - INFO - Writing data to ../../../crispy/SimResults/detectorFramepoly.fits\n",
      "crispy - INFO - Done.\n",
      "crispy - INFO - Performance: 3 seconds total\n",
      "crispy - INFO - Writing data to ../../../crispy/ReferenceFiles/wavecalR50_660/det_650.fits\n",
      "crispy - INFO - The number of input pixels per lenslet is 4.285714\n",
      "crispy - INFO - Using PSFlet gaussian approximation\n",
      "crispy - WARNING - Assuming slices are evenly spread in wavelengths\n",
      "crispy - INFO - Writing data to ../../../crispy/SimResults/detectorFramepoly.fits\n",
      "crispy - INFO - Done.\n",
      "crispy - INFO - Performance: 3 seconds total\n",
      "crispy - INFO - Writing data to ../../../crispy/ReferenceFiles/wavecalR50_660/det_660.fits\n",
      "crispy - INFO - The number of input pixels per lenslet is 4.285714\n",
      "crispy - INFO - Using PSFlet gaussian approximation\n",
      "crispy - WARNING - Assuming slices are evenly spread in wavelengths\n",
      "crispy - INFO - Writing data to ../../../crispy/SimResults/detectorFramepoly.fits\n",
      "crispy - INFO - Done.\n",
      "crispy - INFO - Performance: 3 seconds total\n",
      "crispy - INFO - Writing data to ../../../crispy/ReferenceFiles/wavecalR50_660/det_670.fits\n",
      "crispy - INFO - The number of input pixels per lenslet is 4.285714\n",
      "crispy - INFO - Using PSFlet gaussian approximation\n",
      "crispy - WARNING - Assuming slices are evenly spread in wavelengths\n",
      "crispy - INFO - Writing data to ../../../crispy/SimResults/detectorFramepoly.fits\n",
      "crispy - INFO - Done.\n",
      "crispy - INFO - Performance: 3 seconds total\n",
      "crispy - INFO - Writing data to ../../../crispy/ReferenceFiles/wavecalR50_660/det_680.fits\n",
      "crispy - INFO - The number of input pixels per lenslet is 4.285714\n",
      "crispy - INFO - Using PSFlet gaussian approximation\n",
      "crispy - WARNING - Assuming slices are evenly spread in wavelengths\n",
      "crispy - INFO - Writing data to ../../../crispy/SimResults/detectorFramepoly.fits\n",
      "crispy - INFO - Done.\n",
      "crispy - INFO - Performance: 3 seconds total\n",
      "crispy - INFO - Writing data to ../../../crispy/ReferenceFiles/wavecalR50_660/det_690.fits\n",
      "crispy - INFO - The number of input pixels per lenslet is 4.285714\n",
      "crispy - INFO - Using PSFlet gaussian approximation\n",
      "crispy - WARNING - Assuming slices are evenly spread in wavelengths\n",
      "crispy - INFO - Writing data to ../../../crispy/SimResults/detectorFramepoly.fits\n",
      "crispy - INFO - Done.\n",
      "crispy - INFO - Performance: 3 seconds total\n",
      "crispy - INFO - Writing data to ../../../crispy/ReferenceFiles/wavecalR50_660/det_700.fits\n",
      "crispy - INFO - The number of input pixels per lenslet is 4.285714\n",
      "crispy - INFO - Using PSFlet gaussian approximation\n",
      "crispy - WARNING - Assuming slices are evenly spread in wavelengths\n",
      "crispy - INFO - Writing data to ../../../crispy/SimResults/detectorFramepoly.fits\n",
      "crispy - INFO - Done.\n",
      "crispy - INFO - Performance: 3 seconds total\n",
      "crispy - INFO - Writing data to ../../../crispy/ReferenceFiles/wavecalR50_660/det_710.fits\n",
      "crispy - INFO - The number of input pixels per lenslet is 4.285714\n",
      "crispy - INFO - Using PSFlet gaussian approximation\n",
      "crispy - WARNING - Assuming slices are evenly spread in wavelengths\n",
      "crispy - INFO - Writing data to ../../../crispy/SimResults/detectorFramepoly.fits\n",
      "crispy - INFO - Done.\n",
      "crispy - INFO - Performance: 3 seconds total\n",
      "crispy - INFO - Writing data to ../../../crispy/ReferenceFiles/wavecalR50_660/det_720.fits\n"
     ]
    }
   ],
   "source": [
    "# construct images for each wavelength\n",
    "par.savePoly = True\n",
    "from crispy.IFS import createWavecalFiles\n",
    "createWavecalFiles(par,lamlist)"
   ]
  },
  {
   "cell_type": "markdown",
   "metadata": {
    "collapsed": true
   },
   "source": [
    "### Loading wavelengths/filelists"
   ]
  },
  {
   "cell_type": "code",
   "execution_count": 4,
   "metadata": {
    "collapsed": false
   },
   "outputs": [],
   "source": [
    "#par.lamlist = np.loadtxt(par.wavecalDir + \"lamsol.dat\")[:, 0]\n",
    "par.lamlist=lamlist\n",
    "par.filelist = np.sort(glob.glob(par.wavecalDir + \"det*.fits\"))"
   ]
  },
  {
   "cell_type": "code",
   "execution_count": null,
   "metadata": {
    "collapsed": true
   },
   "outputs": [],
   "source": []
  },
  {
   "cell_type": "markdown",
   "metadata": {},
   "source": [
    "### Run calibration. Choose parameters wisely."
   ]
  },
  {
   "cell_type": "code",
   "execution_count": 5,
   "metadata": {
    "collapsed": false,
    "scrolled": true
   },
   "outputs": [
    {
     "name": "stdout",
     "output_type": "stream",
     "text": [
      "crispy - INFO - Building calibration files, placing results in ../../../crispy/ReferenceFiles/wavecalR50_660/\n",
      "crispy - INFO - Read data from HDU 1 of ../../../crispy/ReferenceFiles/wavecalR50_660/det_600.fits\n",
      "crispy - INFO - Read data from HDU 1 of ../../../crispy/ReferenceFiles/wavecalR50_660/det_600.fits\n",
      "crispy - INFO - Initializing PSFlet location transformation coefficients\n",
      "crispy - INFO - Performing initial optimization of PSFlet location transformation coefficients for frame ../../../crispy/ReferenceFiles/wavecalR50_660/det_600.fits\n",
      "crispy - INFO - Performing final optimization of PSFlet location transformation coefficients for frame ../../../crispy/ReferenceFiles/wavecalR50_660/det_600.fits\n",
      "crispy - INFO - Read data from HDU 1 of ../../../crispy/ReferenceFiles/wavecalR50_660/det_610.fits\n",
      "crispy - INFO - Initializing transformation coefficients with previous values\n",
      "crispy - INFO - Performing final optimization of PSFlet location transformation coefficients for frame ../../../crispy/ReferenceFiles/wavecalR50_660/det_610.fits\n",
      "crispy - INFO - Read data from HDU 1 of ../../../crispy/ReferenceFiles/wavecalR50_660/det_620.fits\n",
      "crispy - INFO - Initializing transformation coefficients with previous values\n",
      "crispy - INFO - Performing final optimization of PSFlet location transformation coefficients for frame ../../../crispy/ReferenceFiles/wavecalR50_660/det_620.fits\n",
      "crispy - INFO - Read data from HDU 1 of ../../../crispy/ReferenceFiles/wavecalR50_660/det_630.fits\n",
      "crispy - INFO - Initializing transformation coefficients with previous values\n",
      "crispy - INFO - Performing final optimization of PSFlet location transformation coefficients for frame ../../../crispy/ReferenceFiles/wavecalR50_660/det_630.fits\n",
      "crispy - INFO - Read data from HDU 1 of ../../../crispy/ReferenceFiles/wavecalR50_660/det_640.fits\n",
      "crispy - INFO - Initializing transformation coefficients with previous values\n",
      "crispy - INFO - Performing final optimization of PSFlet location transformation coefficients for frame ../../../crispy/ReferenceFiles/wavecalR50_660/det_640.fits\n",
      "crispy - INFO - Read data from HDU 1 of ../../../crispy/ReferenceFiles/wavecalR50_660/det_650.fits\n",
      "crispy - INFO - Initializing transformation coefficients with previous values\n",
      "crispy - INFO - Performing final optimization of PSFlet location transformation coefficients for frame ../../../crispy/ReferenceFiles/wavecalR50_660/det_650.fits\n",
      "crispy - INFO - Read data from HDU 1 of ../../../crispy/ReferenceFiles/wavecalR50_660/det_660.fits\n",
      "crispy - INFO - Initializing transformation coefficients with previous values\n",
      "crispy - INFO - Performing final optimization of PSFlet location transformation coefficients for frame ../../../crispy/ReferenceFiles/wavecalR50_660/det_660.fits\n",
      "crispy - INFO - Read data from HDU 1 of ../../../crispy/ReferenceFiles/wavecalR50_660/det_670.fits\n",
      "crispy - INFO - Initializing transformation coefficients with previous values\n",
      "crispy - INFO - Performing final optimization of PSFlet location transformation coefficients for frame ../../../crispy/ReferenceFiles/wavecalR50_660/det_670.fits\n",
      "crispy - INFO - Read data from HDU 1 of ../../../crispy/ReferenceFiles/wavecalR50_660/det_680.fits\n",
      "crispy - INFO - Initializing transformation coefficients with previous values\n",
      "crispy - INFO - Performing final optimization of PSFlet location transformation coefficients for frame ../../../crispy/ReferenceFiles/wavecalR50_660/det_680.fits\n",
      "crispy - INFO - Read data from HDU 1 of ../../../crispy/ReferenceFiles/wavecalR50_660/det_690.fits\n",
      "crispy - INFO - Initializing transformation coefficients with previous values\n",
      "crispy - INFO - Performing final optimization of PSFlet location transformation coefficients for frame ../../../crispy/ReferenceFiles/wavecalR50_660/det_690.fits\n",
      "crispy - INFO - Read data from HDU 1 of ../../../crispy/ReferenceFiles/wavecalR50_660/det_700.fits\n",
      "crispy - INFO - Initializing transformation coefficients with previous values\n",
      "crispy - INFO - Performing final optimization of PSFlet location transformation coefficients for frame ../../../crispy/ReferenceFiles/wavecalR50_660/det_700.fits\n",
      "crispy - INFO - Read data from HDU 1 of ../../../crispy/ReferenceFiles/wavecalR50_660/det_710.fits\n",
      "crispy - INFO - Initializing transformation coefficients with previous values\n",
      "crispy - INFO - Performing final optimization of PSFlet location transformation coefficients for frame ../../../crispy/ReferenceFiles/wavecalR50_660/det_710.fits\n",
      "crispy - INFO - Read data from HDU 1 of ../../../crispy/ReferenceFiles/wavecalR50_660/det_720.fits\n",
      "crispy - INFO - Initializing transformation coefficients with previous values\n",
      "crispy - INFO - Performing final optimization of PSFlet location transformation coefficients for frame ../../../crispy/ReferenceFiles/wavecalR50_660/det_720.fits\n",
      "crispy - INFO - Saving wavelength solution to ../../../crispy/ReferenceFiles/wavecalR50_660/lamsol.dat\n",
      "crispy - INFO - Computing wavelength values at pixel centers\n",
      "crispy - INFO - Making high-resolution PSFLet models\n",
      "crispy - INFO - Starting parallel computation\n",
      "crispy - INFO - Reduced cube will have 10 wavelength bins\n",
      "crispy - INFO - Making polychrome cube\n",
      "crispy - INFO - Saving polychrome cube\n",
      "crispy - INFO - Saving wavelength calibration cube\n",
      "crispy - INFO - Total time elapsed: 263 s\n"
     ]
    }
   ],
   "source": [
    "from crispy.tools.wavecal import buildcalibrations\n",
    "buildcalibrations(par,\n",
    "                  order=3, # Order of polynomial map of the PSFLets (between 1 and 5)\n",
    "                  upsample=10, # Upsampling factor of the PSFLets, needs to be at least 5\n",
    "                  nsubarr=1, # How many zones on the detector have their own PSFLets? \n",
    "                  genwavelengthsol=True, # Compute wavelength at the center of all pixels (need to do this at least once)\n",
    "                  makehiresPSFlets=True, # Compute hires PSFLets (usually False)\n",
    "                  makePolychrome=True,\n",
    "                  apodize=False,\n",
    "                  parallel=True) # Use all computer cores"
   ]
  },
  {
   "cell_type": "code",
   "execution_count": 6,
   "metadata": {
    "collapsed": false
   },
   "outputs": [
    {
     "name": "stdout",
     "output_type": "stream",
     "text": [
      "crispy - INFO - Reduced cube will have 10 wavelength bins\n",
      "('Wavelengths at midpoints for lstsq (nm): ', array([ 606.,  618.,  630.,  642.,  654.,  666.,  678.,  690.,  702.,  714.]))\n",
      "('Wavelengths at endpoints for lstsq (nm): ', array([ 600.,  612.,  624.,  636.,  648.,  660.,  672.,  684.,  696.,\n",
      "        708.,  720.]))\n",
      "crispy - INFO - Reduced cube will have 19 wavelength bins\n",
      "('Wavelengths at midpoints for optext (nm): ', array([ 603.15789474,  609.47368421,  615.78947368,  622.10526316,\n",
      "        628.42105263,  634.73684211,  641.05263158,  647.36842105,\n",
      "        653.68421053,  660.        ,  666.31578947,  672.63157895,\n",
      "        678.94736842,  685.26315789,  691.57894737,  697.89473684,\n",
      "        704.21052632,  710.52631579,  716.84210526]))\n",
      "('Wavelengths at endpoints for optext (nm): ', array([ 600.        ,  606.31578947,  612.63157895,  618.94736842,\n",
      "        625.26315789,  631.57894737,  637.89473684,  644.21052632,\n",
      "        650.52631579,  656.84210526,  663.15789474,  669.47368421,\n",
      "        675.78947368,  682.10526316,  688.42105263,  694.73684211,\n",
      "        701.05263158,  707.36842105,  713.68421053,  720.        ]))\n"
     ]
    }
   ],
   "source": [
    "from crispy.tools.reduction import calculateWaveList\n",
    "lam_midpts,lam_endpts = calculateWaveList(par,method='lstsq')\n",
    "print('Wavelengths at midpoints for lstsq (nm): ',lam_midpts)\n",
    "print('Wavelengths at endpoints for lstsq (nm): ',lam_endpts)\n",
    "lam_midpts,lam_endpts = calculateWaveList(par,method='optext')\n",
    "print('Wavelengths at midpoints for optext (nm): ',lam_midpts)\n",
    "print('Wavelengths at endpoints for optext (nm): ',lam_endpts)"
   ]
  },
  {
   "cell_type": "code",
   "execution_count": 7,
   "metadata": {
    "collapsed": false
   },
   "outputs": [
    {
     "name": "stdout",
     "output_type": "stream",
     "text": [
      "13\n"
     ]
    }
   ],
   "source": [
    "print len(par.lamlist)"
   ]
  }
 ],
 "metadata": {
  "anaconda-cloud": {},
  "kernelspec": {
   "display_name": "Python 2",
   "language": "python",
   "name": "python2"
  },
  "language_info": {
   "codemirror_mode": {
    "name": "ipython",
    "version": 2
   },
   "file_extension": ".py",
   "mimetype": "text/x-python",
   "name": "python",
   "nbconvert_exporter": "python",
   "pygments_lexer": "ipython2",
   "version": "2.7.13"
  }
 },
 "nbformat": 4,
 "nbformat_minor": 1
}
