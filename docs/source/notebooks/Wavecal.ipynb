{
 "cells": [
  {
   "cell_type": "markdown",
   "metadata": {},
   "source": [
    "# Wavelength calibration"
   ]
  },
  {
   "cell_type": "code",
   "execution_count": 1,
   "metadata": {
    "collapsed": true
   },
   "outputs": [],
   "source": [
    "import numpy as np\n",
    "import glob\n",
    "import matplotlib\n",
    "import matplotlib.pyplot as plt\n",
    "matplotlib.rcParams['image.origin'] = 'lower'\n",
    "matplotlib.rcParams['image.interpolation'] = 'nearest'\n"
   ]
  },
  {
   "cell_type": "markdown",
   "metadata": {
    "collapsed": true
   },
   "source": [
    "### Loading crispy's dependencies"
   ]
  },
  {
   "cell_type": "code",
   "execution_count": 2,
   "metadata": {
    "collapsed": false
   },
   "outputs": [],
   "source": [
    "import sys\n",
    "codefolder = '../../../../crispy'\n",
    "if codefolder not in sys.path: sys.path.append(codefolder)\n",
    "from crispy.tools.initLogger import getLogger\n",
    "log = getLogger('crispy')\n",
    "from crispy.params import Params\n",
    "codefolder = '../../../crispy'\n",
    "par = Params(codefolder)"
   ]
  },
  {
   "cell_type": "markdown",
   "metadata": {},
   "source": [
    "### Generate monochromatic wavelengths"
   ]
  },
  {
   "cell_type": "code",
   "execution_count": 3,
   "metadata": {
    "collapsed": false
   },
   "outputs": [
    {
     "name": "stdout",
     "output_type": "stream",
     "text": [
      "[700 710 720 730 740 750 760 770 780 790 800 810 820 830 840]\n"
     ]
    }
   ],
   "source": [
    "# Suppose we create a folder in crispy/ReferenceFiles/ called wavecalR50_770_test\n",
    "par.wavecalDir = par.prefix+'/wavecalR50_770/'\n",
    "# construct monochromatic wavelengths, doesn't really matter which wavelengths\n",
    "lamlist = np.arange(700,845,10)\n",
    "print(lamlist)\n"
   ]
  },
  {
   "cell_type": "code",
   "execution_count": 4,
   "metadata": {
    "collapsed": false,
    "scrolled": true
   },
   "outputs": [
    {
     "name": "stdout",
     "output_type": "stream",
     "text": [
      "crispy - INFO - Using PSFlet gaussian approximation\n",
      "crispy - INFO - Assuming slices are evenly spread in wavelengths\n",
      "[ 699.  701.]\n",
      "crispy - INFO - Number of detector pixels per lenslet: 13.384615\n",
      "crispy - INFO - Rebinning final detector. Image has dimensions 1024x1024\n",
      "crispy - INFO - Done.\n",
      "crispy - INFO - Performance: 4 seconds total\n",
      "crispy - INFO - Writing data to ../../../crispy/ReferenceFiles/wavecalR50_770_test/det_700.fits\n",
      "crispy - INFO - Using PSFlet gaussian approximation\n",
      "crispy - INFO - Assuming slices are evenly spread in wavelengths\n",
      "[ 709.  711.]\n"
     ]
    },
    {
     "name": "stderr",
     "output_type": "stream",
     "text": [
      "WARNING: AstropyDeprecationWarning: \"clobber\" was deprecated in version 1.3 and will be removed in a future version. Use argument \"overwrite\" instead. [astropy.utils.decorators]\n"
     ]
    },
    {
     "name": "stdout",
     "output_type": "stream",
     "text": [
      "crispy - INFO - Number of detector pixels per lenslet: 13.384615\n",
      "crispy - INFO - Rebinning final detector. Image has dimensions 1024x1024\n",
      "crispy - INFO - Done.\n",
      "crispy - INFO - Performance: 4 seconds total\n",
      "crispy - INFO - Writing data to ../../../crispy/ReferenceFiles/wavecalR50_770_test/det_710.fits\n",
      "crispy - INFO - Using PSFlet gaussian approximation\n",
      "crispy - INFO - Assuming slices are evenly spread in wavelengths\n",
      "[ 719.  721.]\n",
      "crispy - INFO - Number of detector pixels per lenslet: 13.384615\n",
      "crispy - INFO - Rebinning final detector. Image has dimensions 1024x1024\n",
      "crispy - INFO - Done.\n",
      "crispy - INFO - Performance: 4 seconds total\n",
      "crispy - INFO - Writing data to ../../../crispy/ReferenceFiles/wavecalR50_770_test/det_720.fits\n",
      "crispy - INFO - Using PSFlet gaussian approximation\n",
      "crispy - INFO - Assuming slices are evenly spread in wavelengths\n",
      "[ 729.  731.]\n",
      "crispy - INFO - Number of detector pixels per lenslet: 13.384615\n",
      "crispy - INFO - Rebinning final detector. Image has dimensions 1024x1024\n",
      "crispy - INFO - Done.\n",
      "crispy - INFO - Performance: 4 seconds total\n",
      "crispy - INFO - Writing data to ../../../crispy/ReferenceFiles/wavecalR50_770_test/det_730.fits\n",
      "crispy - INFO - Using PSFlet gaussian approximation\n",
      "crispy - INFO - Assuming slices are evenly spread in wavelengths\n",
      "[ 739.  741.]\n",
      "crispy - INFO - Number of detector pixels per lenslet: 13.384615\n",
      "crispy - INFO - Rebinning final detector. Image has dimensions 1024x1024\n",
      "crispy - INFO - Done.\n",
      "crispy - INFO - Performance: 4 seconds total\n",
      "crispy - INFO - Writing data to ../../../crispy/ReferenceFiles/wavecalR50_770_test/det_740.fits\n",
      "crispy - INFO - Using PSFlet gaussian approximation\n",
      "crispy - INFO - Assuming slices are evenly spread in wavelengths\n",
      "[ 749.  751.]\n",
      "crispy - INFO - Number of detector pixels per lenslet: 13.384615\n",
      "crispy - INFO - Rebinning final detector. Image has dimensions 1024x1024\n",
      "crispy - INFO - Done.\n",
      "crispy - INFO - Performance: 4 seconds total\n",
      "crispy - INFO - Writing data to ../../../crispy/ReferenceFiles/wavecalR50_770_test/det_750.fits\n",
      "crispy - INFO - Using PSFlet gaussian approximation\n",
      "crispy - INFO - Assuming slices are evenly spread in wavelengths\n",
      "[ 759.  761.]\n",
      "crispy - INFO - Number of detector pixels per lenslet: 13.384615\n",
      "crispy - INFO - Rebinning final detector. Image has dimensions 1024x1024\n",
      "crispy - INFO - Done.\n",
      "crispy - INFO - Performance: 4 seconds total\n",
      "crispy - INFO - Writing data to ../../../crispy/ReferenceFiles/wavecalR50_770_test/det_760.fits\n",
      "crispy - INFO - Using PSFlet gaussian approximation\n",
      "crispy - INFO - Assuming slices are evenly spread in wavelengths\n",
      "[ 769.  771.]\n",
      "crispy - INFO - Number of detector pixels per lenslet: 13.384615\n",
      "crispy - INFO - Rebinning final detector. Image has dimensions 1024x1024\n",
      "crispy - INFO - Done.\n",
      "crispy - INFO - Performance: 4 seconds total\n",
      "crispy - INFO - Writing data to ../../../crispy/ReferenceFiles/wavecalR50_770_test/det_770.fits\n",
      "crispy - INFO - Using PSFlet gaussian approximation\n",
      "crispy - INFO - Assuming slices are evenly spread in wavelengths\n",
      "[ 779.  781.]\n",
      "crispy - INFO - Number of detector pixels per lenslet: 13.384615\n",
      "crispy - INFO - Rebinning final detector. Image has dimensions 1024x1024\n",
      "crispy - INFO - Done.\n",
      "crispy - INFO - Performance: 4 seconds total\n",
      "crispy - INFO - Writing data to ../../../crispy/ReferenceFiles/wavecalR50_770_test/det_780.fits\n",
      "crispy - INFO - Using PSFlet gaussian approximation\n",
      "crispy - INFO - Assuming slices are evenly spread in wavelengths\n",
      "[ 789.  791.]\n",
      "crispy - INFO - Number of detector pixels per lenslet: 13.384615\n",
      "crispy - INFO - Rebinning final detector. Image has dimensions 1024x1024\n",
      "crispy - INFO - Done.\n",
      "crispy - INFO - Performance: 4 seconds total\n",
      "crispy - INFO - Writing data to ../../../crispy/ReferenceFiles/wavecalR50_770_test/det_790.fits\n",
      "crispy - INFO - Using PSFlet gaussian approximation\n",
      "crispy - INFO - Assuming slices are evenly spread in wavelengths\n",
      "[ 799.  801.]\n",
      "crispy - INFO - Number of detector pixels per lenslet: 13.384615\n",
      "crispy - INFO - Rebinning final detector. Image has dimensions 1024x1024\n",
      "crispy - INFO - Done.\n",
      "crispy - INFO - Performance: 4 seconds total\n",
      "crispy - INFO - Writing data to ../../../crispy/ReferenceFiles/wavecalR50_770_test/det_800.fits\n",
      "crispy - INFO - Using PSFlet gaussian approximation\n",
      "crispy - INFO - Assuming slices are evenly spread in wavelengths\n",
      "[ 809.  811.]\n",
      "crispy - INFO - Number of detector pixels per lenslet: 13.384615\n",
      "crispy - INFO - Rebinning final detector. Image has dimensions 1024x1024\n",
      "crispy - INFO - Done.\n",
      "crispy - INFO - Performance: 4 seconds total\n",
      "crispy - INFO - Writing data to ../../../crispy/ReferenceFiles/wavecalR50_770_test/det_810.fits\n",
      "crispy - INFO - Using PSFlet gaussian approximation\n",
      "crispy - INFO - Assuming slices are evenly spread in wavelengths\n",
      "[ 819.  821.]\n",
      "crispy - INFO - Number of detector pixels per lenslet: 13.384615\n",
      "crispy - INFO - Rebinning final detector. Image has dimensions 1024x1024\n",
      "crispy - INFO - Done.\n",
      "crispy - INFO - Performance: 4 seconds total\n",
      "crispy - INFO - Writing data to ../../../crispy/ReferenceFiles/wavecalR50_770_test/det_820.fits\n",
      "crispy - INFO - Using PSFlet gaussian approximation\n",
      "crispy - INFO - Assuming slices are evenly spread in wavelengths\n",
      "[ 829.  831.]\n",
      "crispy - INFO - Number of detector pixels per lenslet: 13.384615\n",
      "crispy - INFO - Rebinning final detector. Image has dimensions 1024x1024\n",
      "crispy - INFO - Done.\n",
      "crispy - INFO - Performance: 4 seconds total\n",
      "crispy - INFO - Writing data to ../../../crispy/ReferenceFiles/wavecalR50_770_test/det_830.fits\n",
      "crispy - INFO - Using PSFlet gaussian approximation\n",
      "crispy - INFO - Assuming slices are evenly spread in wavelengths\n",
      "[ 839.  841.]\n",
      "crispy - INFO - Number of detector pixels per lenslet: 13.384615\n",
      "crispy - INFO - Rebinning final detector. Image has dimensions 1024x1024\n",
      "crispy - INFO - Done.\n",
      "crispy - INFO - Performance: 4 seconds total\n",
      "crispy - INFO - Writing data to ../../../crispy/ReferenceFiles/wavecalR50_770_test/det_840.fits\n"
     ]
    }
   ],
   "source": [
    "# construct images for each wavelength\n",
    "from crispy.IFS import createWavecalFiles\n",
    "createWavecalFiles(par,lamlist)"
   ]
  },
  {
   "cell_type": "markdown",
   "metadata": {
    "collapsed": true
   },
   "source": [
    "### Loading wavelengths/filelists"
   ]
  },
  {
   "cell_type": "code",
   "execution_count": 5,
   "metadata": {
    "collapsed": false
   },
   "outputs": [],
   "source": [
    "#par.lamlist = np.loadtxt(par.wavecalDir + \"lamsol.dat\")[:, 0]\n",
    "par.lamlist=lamlist\n",
    "par.filelist = np.sort(glob.glob(par.wavecalDir + \"det*.fits\"))"
   ]
  },
  {
   "cell_type": "code",
   "execution_count": null,
   "metadata": {
    "collapsed": true
   },
   "outputs": [],
   "source": []
  },
  {
   "cell_type": "markdown",
   "metadata": {},
   "source": [
    "### Run calibration. Choose parameters wisely."
   ]
  },
  {
   "cell_type": "code",
   "execution_count": 6,
   "metadata": {
    "collapsed": false,
    "scrolled": true
   },
   "outputs": [
    {
     "name": "stdout",
     "output_type": "stream",
     "text": [
      "crispy - INFO - Building calibration files, placing results in ../../../crispy/ReferenceFiles/wavecalR50_770_test/\n",
      "crispy - INFO - Read data from HDU 1 of ../../../crispy/ReferenceFiles/wavecalR50_770_test/det_700.fits\n",
      "crispy - INFO - Read data from HDU 1 of ../../../crispy/ReferenceFiles/wavecalR50_770_test/det_700.fits\n",
      "crispy - INFO - Initializing PSFlet location transformation coefficients\n",
      "crispy - INFO - Performing initial optimization of PSFlet location transformation coefficients for frame ../../../crispy/ReferenceFiles/wavecalR50_770_test/det_700.fits\n",
      "crispy - INFO - Performing final optimization of PSFlet location transformation coefficients for frame ../../../crispy/ReferenceFiles/wavecalR50_770_test/det_700.fits\n",
      "crispy - INFO - Read data from HDU 1 of ../../../crispy/ReferenceFiles/wavecalR50_770_test/det_710.fits\n",
      "crispy - INFO - Initializing transformation coefficients with previous values\n",
      "crispy - INFO - Performing final optimization of PSFlet location transformation coefficients for frame ../../../crispy/ReferenceFiles/wavecalR50_770_test/det_710.fits\n",
      "crispy - INFO - Read data from HDU 1 of ../../../crispy/ReferenceFiles/wavecalR50_770_test/det_720.fits\n",
      "crispy - INFO - Initializing transformation coefficients with previous values\n",
      "crispy - INFO - Performing final optimization of PSFlet location transformation coefficients for frame ../../../crispy/ReferenceFiles/wavecalR50_770_test/det_720.fits\n",
      "crispy - INFO - Read data from HDU 1 of ../../../crispy/ReferenceFiles/wavecalR50_770_test/det_730.fits\n",
      "crispy - INFO - Initializing transformation coefficients with previous values\n",
      "crispy - INFO - Performing final optimization of PSFlet location transformation coefficients for frame ../../../crispy/ReferenceFiles/wavecalR50_770_test/det_730.fits\n",
      "crispy - INFO - Read data from HDU 1 of ../../../crispy/ReferenceFiles/wavecalR50_770_test/det_740.fits\n",
      "crispy - INFO - Initializing transformation coefficients with previous values\n",
      "crispy - INFO - Performing final optimization of PSFlet location transformation coefficients for frame ../../../crispy/ReferenceFiles/wavecalR50_770_test/det_740.fits\n",
      "crispy - INFO - Read data from HDU 1 of ../../../crispy/ReferenceFiles/wavecalR50_770_test/det_750.fits\n",
      "crispy - INFO - Initializing transformation coefficients with previous values\n",
      "crispy - INFO - Performing final optimization of PSFlet location transformation coefficients for frame ../../../crispy/ReferenceFiles/wavecalR50_770_test/det_750.fits\n",
      "crispy - INFO - Read data from HDU 1 of ../../../crispy/ReferenceFiles/wavecalR50_770_test/det_760.fits\n",
      "crispy - INFO - Initializing transformation coefficients with previous values\n",
      "crispy - INFO - Performing final optimization of PSFlet location transformation coefficients for frame ../../../crispy/ReferenceFiles/wavecalR50_770_test/det_760.fits\n",
      "crispy - INFO - Read data from HDU 1 of ../../../crispy/ReferenceFiles/wavecalR50_770_test/det_770.fits\n",
      "crispy - INFO - Initializing transformation coefficients with previous values\n",
      "crispy - INFO - Performing final optimization of PSFlet location transformation coefficients for frame ../../../crispy/ReferenceFiles/wavecalR50_770_test/det_770.fits\n",
      "crispy - INFO - Read data from HDU 1 of ../../../crispy/ReferenceFiles/wavecalR50_770_test/det_780.fits\n",
      "crispy - INFO - Initializing transformation coefficients with previous values\n",
      "crispy - INFO - Performing final optimization of PSFlet location transformation coefficients for frame ../../../crispy/ReferenceFiles/wavecalR50_770_test/det_780.fits\n",
      "crispy - INFO - Read data from HDU 1 of ../../../crispy/ReferenceFiles/wavecalR50_770_test/det_790.fits\n",
      "crispy - INFO - Initializing transformation coefficients with previous values\n",
      "crispy - INFO - Performing final optimization of PSFlet location transformation coefficients for frame ../../../crispy/ReferenceFiles/wavecalR50_770_test/det_790.fits\n",
      "crispy - INFO - Read data from HDU 1 of ../../../crispy/ReferenceFiles/wavecalR50_770_test/det_800.fits\n",
      "crispy - INFO - Initializing transformation coefficients with previous values\n",
      "crispy - INFO - Performing final optimization of PSFlet location transformation coefficients for frame ../../../crispy/ReferenceFiles/wavecalR50_770_test/det_800.fits\n",
      "crispy - INFO - Read data from HDU 1 of ../../../crispy/ReferenceFiles/wavecalR50_770_test/det_810.fits\n",
      "crispy - INFO - Initializing transformation coefficients with previous values\n",
      "crispy - INFO - Performing final optimization of PSFlet location transformation coefficients for frame ../../../crispy/ReferenceFiles/wavecalR50_770_test/det_810.fits\n",
      "crispy - INFO - Read data from HDU 1 of ../../../crispy/ReferenceFiles/wavecalR50_770_test/det_820.fits\n",
      "crispy - INFO - Initializing transformation coefficients with previous values\n",
      "crispy - INFO - Performing final optimization of PSFlet location transformation coefficients for frame ../../../crispy/ReferenceFiles/wavecalR50_770_test/det_820.fits\n",
      "crispy - INFO - Read data from HDU 1 of ../../../crispy/ReferenceFiles/wavecalR50_770_test/det_830.fits\n",
      "crispy - INFO - Initializing transformation coefficients with previous values\n",
      "crispy - INFO - Performing final optimization of PSFlet location transformation coefficients for frame ../../../crispy/ReferenceFiles/wavecalR50_770_test/det_830.fits\n",
      "crispy - INFO - Read data from HDU 1 of ../../../crispy/ReferenceFiles/wavecalR50_770_test/det_840.fits\n",
      "crispy - INFO - Initializing transformation coefficients with previous values\n",
      "crispy - INFO - Performing final optimization of PSFlet location transformation coefficients for frame ../../../crispy/ReferenceFiles/wavecalR50_770_test/det_840.fits\n",
      "crispy - INFO - Saving wavelength solution to ../../../crispy/ReferenceFiles/wavecalR50_770_test/lamsol.dat\n",
      "crispy - INFO - Computing wavelength values at pixel centers\n",
      "crispy - INFO - Making high-resolution PSFLet models\n",
      "crispy - INFO - Starting parallel computation\n",
      "crispy - INFO - Reduced cube will have 10 wavelength bins\n",
      "crispy - INFO - Making polychrome cube\n",
      "crispy - INFO - Saving polychrome cube\n",
      "crispy - INFO - Saving wavelength calibration cube\n",
      "crispy - INFO - Total time elapsed: 314 s\n"
     ]
    }
   ],
   "source": [
    "from crispy.tools.wavecal import buildcalibrations\n",
    "buildcalibrations(par,\n",
    "                  order=3, # Order of polynomial map of the PSFLets (between 1 and 5)\n",
    "                  upsample=10, # Upsampling factor of the PSFLets, needs to be at least 5\n",
    "                  nsubarr=1, # How many zones on the detector have their own PSFLets? \n",
    "                  genwavelengthsol=True, # Compute wavelength at the center of all pixels (need to do this at least once)\n",
    "                  makehiresPSFlets=True, # Compute hires PSFLets (usually False)\n",
    "                  parallel=True) # Use all computer cores"
   ]
  },
  {
   "cell_type": "code",
   "execution_count": 7,
   "metadata": {
    "collapsed": false
   },
   "outputs": [
    {
     "name": "stdout",
     "output_type": "stream",
     "text": [
      "crispy - INFO - Reduced cube will have 10 wavelength bins\n",
      "[ 707.  721.  735.  749.  763.  777.  791.  805.  819.  833.] [ 700.  714.  728.  742.  756.  770.  784.  798.  812.  826.  840.]\n",
      "13.11653924\n"
     ]
    }
   ],
   "source": [
    "from crispy.tools.reduction import calculateWaveList\n",
    "lam_mid,lam_end = calculateWaveList(par)\n",
    "print lam_mid,lam_end\n",
    "print 725.99610254-712.8795633"
   ]
  }
 ],
 "metadata": {
  "anaconda-cloud": {},
  "kernelspec": {
   "display_name": "Python 2",
   "language": "python",
   "name": "python2"
  },
  "language_info": {
   "codemirror_mode": {
    "name": "ipython",
    "version": 2
   },
   "file_extension": ".py",
   "mimetype": "text/x-python",
   "name": "python",
   "nbconvert_exporter": "python",
   "pygments_lexer": "ipython2",
   "version": "2.7.13"
  }
 },
 "nbformat": 4,
 "nbformat_minor": 1
}
