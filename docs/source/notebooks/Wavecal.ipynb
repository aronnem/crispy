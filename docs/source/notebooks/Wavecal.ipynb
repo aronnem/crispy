{
 "cells": [
  {
   "cell_type": "markdown",
   "metadata": {},
   "source": [
    "# Wavelength calibration"
   ]
  },
  {
   "cell_type": "code",
   "execution_count": 1,
   "metadata": {
    "collapsed": true
   },
   "outputs": [],
   "source": [
    "import numpy as np\n",
    "import glob\n",
    "import matplotlib\n",
    "import matplotlib.pyplot as plt\n",
    "matplotlib.rcParams['image.origin'] = 'lower'\n",
    "matplotlib.rcParams['image.interpolation'] = 'nearest'\n"
   ]
  },
  {
   "cell_type": "markdown",
   "metadata": {
    "collapsed": true
   },
   "source": [
    "### Loading crispy's dependencies"
   ]
  },
  {
   "cell_type": "code",
   "execution_count": 2,
   "metadata": {
    "collapsed": false
   },
   "outputs": [],
   "source": [
    "import sys\n",
    "codefolder = '../../../../crispy'\n",
    "if codefolder not in sys.path: sys.path.append(codefolder)\n",
    "from crispy.tools.initLogger import getLogger\n",
    "log = getLogger('crispy')\n",
    "from crispy.params import Params\n",
    "codefolder = '../../../crispy'\n",
    "par = Params(codefolder)"
   ]
  },
  {
   "cell_type": "markdown",
   "metadata": {},
   "source": [
    "### Generate monochromatic wavelengths"
   ]
  },
  {
   "cell_type": "code",
   "execution_count": 3,
   "metadata": {
    "collapsed": false
   },
   "outputs": [
    {
     "name": "stdout",
     "output_type": "stream",
     "text": [
      "[700 710 720 730 740 750 760 770 780 790 800 810 820 830 840]\n"
     ]
    }
   ],
   "source": [
    "# Suppose we create a folder in crispy/ReferenceFiles/ called wavecalR50_770_test\n",
    "par.wavecalDir = par.prefix+'/wavecalR50_770/'\n",
    "# construct monochromatic wavelengths, doesn't really matter which wavelengths\n",
    "lamlist = np.arange(700,845,10)\n"
   ]
  },
  {
   "cell_type": "code",
   "execution_count": 4,
   "metadata": {
    "collapsed": false,
    "scrolled": true
   },
   "outputs": [
    {
     "name": "stdout",
     "output_type": "stream",
     "text": [
      "crispy - INFO - Using PSFlet gaussian approximation\n",
      "crispy - WARNING - Assuming slices are evenly spread in wavelengths\n"
     ]
    },
    {
     "ename": "KeyboardInterrupt",
     "evalue": "",
     "output_type": "error",
     "traceback": [
      "\u001b[0;31m---------------------------------------------------------------------\u001b[0m",
      "\u001b[0;31mKeyboardInterrupt\u001b[0m                   Traceback (most recent call last)",
      "\u001b[0;32m<ipython-input-4-3cd12dbf13fe>\u001b[0m in \u001b[0;36m<module>\u001b[0;34m()\u001b[0m\n\u001b[1;32m      1\u001b[0m \u001b[0;31m# construct images for each wavelength\u001b[0m\u001b[0;34m\u001b[0m\u001b[0;34m\u001b[0m\u001b[0m\n\u001b[1;32m      2\u001b[0m \u001b[0;32mfrom\u001b[0m \u001b[0mcrispy\u001b[0m\u001b[0;34m.\u001b[0m\u001b[0mIFS\u001b[0m \u001b[0;32mimport\u001b[0m \u001b[0mcreateWavecalFiles\u001b[0m\u001b[0;34m\u001b[0m\u001b[0m\n\u001b[0;32m----> 3\u001b[0;31m \u001b[0mcreateWavecalFiles\u001b[0m\u001b[0;34m(\u001b[0m\u001b[0mpar\u001b[0m\u001b[0;34m,\u001b[0m\u001b[0mlamlist\u001b[0m\u001b[0;34m)\u001b[0m\u001b[0;34m\u001b[0m\u001b[0m\n\u001b[0m",
      "\u001b[0;32m/Users/mrizzo/IFS/crispy/crispy/IFS.py\u001b[0m in \u001b[0;36mcreateWavecalFiles\u001b[0;34m(par, lamlist, lamc, dlam)\u001b[0m\n\u001b[1;32m    559\u001b[0m     \u001b[0;32mfor\u001b[0m \u001b[0mwav\u001b[0m \u001b[0;32min\u001b[0m \u001b[0mlamlist\u001b[0m\u001b[0;34m:\u001b[0m\u001b[0;34m\u001b[0m\u001b[0m\n\u001b[1;32m    560\u001b[0m \u001b[0;31m#         detectorFrame = propagateIFS(par,[wav*1e-3],inCube[0])\u001b[0m\u001b[0;34m\u001b[0m\u001b[0;34m\u001b[0m\u001b[0m\n\u001b[0;32m--> 561\u001b[0;31m         \u001b[0mdetectorFrame\u001b[0m \u001b[0;34m=\u001b[0m \u001b[0mpolychromeIFS\u001b[0m\u001b[0;34m(\u001b[0m\u001b[0mpar\u001b[0m\u001b[0;34m,\u001b[0m\u001b[0;34m[\u001b[0m\u001b[0mwav\u001b[0m\u001b[0;34m]\u001b[0m\u001b[0;34m,\u001b[0m\u001b[0minCube\u001b[0m\u001b[0;34m[\u001b[0m\u001b[0;36m0\u001b[0m\u001b[0;34m]\u001b[0m\u001b[0;34m,\u001b[0m\u001b[0mdlambda\u001b[0m\u001b[0;34m=\u001b[0m\u001b[0mdlam\u001b[0m\u001b[0;34m,\u001b[0m\u001b[0mparallel\u001b[0m\u001b[0;34m=\u001b[0m\u001b[0mFalse\u001b[0m\u001b[0;34m)\u001b[0m\u001b[0;34m\u001b[0m\u001b[0m\n\u001b[0m\u001b[1;32m    562\u001b[0m         \u001b[0mfilename\u001b[0m \u001b[0;34m=\u001b[0m \u001b[0mpar\u001b[0m\u001b[0;34m.\u001b[0m\u001b[0mwavecalDir\u001b[0m\u001b[0;34m+\u001b[0m\u001b[0;34m'det_%3d.fits'\u001b[0m \u001b[0;34m%\u001b[0m \u001b[0;34m(\u001b[0m\u001b[0mwav\u001b[0m\u001b[0;34m)\u001b[0m\u001b[0;34m\u001b[0m\u001b[0m\n\u001b[1;32m    563\u001b[0m         \u001b[0mfilelist\u001b[0m\u001b[0;34m.\u001b[0m\u001b[0mappend\u001b[0m\u001b[0;34m(\u001b[0m\u001b[0mfilename\u001b[0m\u001b[0;34m)\u001b[0m\u001b[0;34m\u001b[0m\u001b[0m\n",
      "\u001b[0;32m/Users/mrizzo/IFS/crispy/crispy/IFS.py\u001b[0m in \u001b[0;36mpolychromeIFS\u001b[0;34m(par, wavelist, inputcube, name, parallel, QE, wavelist_endpts, dlambda, lam_arr)\u001b[0m\n\u001b[1;32m    207\u001b[0m             polyimage[i] = propagateLenslets(par,imagePlaneRot, \n\u001b[1;32m    208\u001b[0m                             \u001b[0mwavelist_endpts\u001b[0m\u001b[0;34m[\u001b[0m\u001b[0mi\u001b[0m\u001b[0;34m]\u001b[0m\u001b[0;34m,\u001b[0m \u001b[0mwavelist_endpts\u001b[0m\u001b[0;34m[\u001b[0m\u001b[0mi\u001b[0m \u001b[0;34m+\u001b[0m \u001b[0;36m1\u001b[0m\u001b[0;34m]\u001b[0m\u001b[0;34m,\u001b[0m\u001b[0;34m\u001b[0m\u001b[0m\n\u001b[0;32m--> 209\u001b[0;31m                             hires_arrs,lam_arr,10)\n\u001b[0m\u001b[1;32m    210\u001b[0m     \u001b[0;32melse\u001b[0m\u001b[0;34m:\u001b[0m\u001b[0;34m\u001b[0m\u001b[0m\n\u001b[1;32m    211\u001b[0m         \u001b[0mtasks\u001b[0m \u001b[0;34m=\u001b[0m \u001b[0mmultiprocessing\u001b[0m\u001b[0;34m.\u001b[0m\u001b[0mQueue\u001b[0m\u001b[0;34m(\u001b[0m\u001b[0;34m)\u001b[0m\u001b[0;34m\u001b[0m\u001b[0m\n",
      "\u001b[0;32m/Users/mrizzo/IFS/crispy/crispy/tools/lenslet.pyc\u001b[0m in \u001b[0;36mpropagateLenslets\u001b[0;34m(par, imageplane, lam1, lam2, hires_arrs, lam_arr, upsample, nlam, npix)\u001b[0m\n\u001b[1;32m    143\u001b[0m         \u001b[0mycen\u001b[0m \u001b[0;34m=\u001b[0m \u001b[0mnp\u001b[0m\u001b[0;34m.\u001b[0m\u001b[0mreshape\u001b[0m\u001b[0;34m(\u001b[0m\u001b[0mycen\u001b[0m\u001b[0;34m,\u001b[0m \u001b[0;34m-\u001b[0m\u001b[0;36m1\u001b[0m\u001b[0;34m)\u001b[0m\u001b[0;34m\u001b[0m\u001b[0m\n\u001b[1;32m    144\u001b[0m         \u001b[0;32mfor\u001b[0m \u001b[0mi\u001b[0m \u001b[0;32min\u001b[0m \u001b[0mrange\u001b[0m\u001b[0;34m(\u001b[0m\u001b[0mxcen\u001b[0m\u001b[0;34m.\u001b[0m\u001b[0mshape\u001b[0m\u001b[0;34m[\u001b[0m\u001b[0;36m0\u001b[0m\u001b[0;34m]\u001b[0m\u001b[0;34m)\u001b[0m\u001b[0;34m:\u001b[0m\u001b[0;34m\u001b[0m\u001b[0m\n\u001b[0;32m--> 145\u001b[0;31m             if not (xcen[i] > npix//2 and xcen[i] < image.shape[0] - npix//2 and \n\u001b[0m\u001b[1;32m    146\u001b[0m                     ycen[i] > npix//2 and ycen[i] < image.shape[0] - npix//2):\n\u001b[1;32m    147\u001b[0m                 \u001b[0;32mcontinue\u001b[0m\u001b[0;34m\u001b[0m\u001b[0m\n",
      "\u001b[0;31mKeyboardInterrupt\u001b[0m: "
     ]
    }
   ],
   "source": [
    "# construct images for each wavelength\n",
    "from crispy.IFS import createWavecalFiles\n",
    "createWavecalFiles(par,lamlist)"
   ]
  },
  {
   "cell_type": "markdown",
   "metadata": {
    "collapsed": true
   },
   "source": [
    "### Loading wavelengths/filelists"
   ]
  },
  {
   "cell_type": "code",
   "execution_count": 5,
   "metadata": {
    "collapsed": false
   },
   "outputs": [],
   "source": [
    "#par.lamlist = np.loadtxt(par.wavecalDir + \"lamsol.dat\")[:, 0]\n",
    "par.lamlist=lamlist\n",
    "par.filelist = np.sort(glob.glob(par.wavecalDir + \"det*.fits\"))"
   ]
  },
  {
   "cell_type": "code",
   "execution_count": null,
   "metadata": {
    "collapsed": true
   },
   "outputs": [],
   "source": []
  },
  {
   "cell_type": "markdown",
   "metadata": {},
   "source": [
    "### Run calibration. Choose parameters wisely."
   ]
  },
  {
   "cell_type": "code",
   "execution_count": 6,
   "metadata": {
    "collapsed": false,
    "scrolled": true
   },
   "outputs": [
    {
     "name": "stdout",
     "output_type": "stream",
     "text": [
      "crispy - INFO - Building calibration files, placing results in ../../../crispy/ReferenceFiles/wavecalR50_770/\n",
      "crispy - INFO - Read data from HDU 1 of ../../../crispy/ReferenceFiles/wavecalR50_770/det_700.fits\n",
      "crispy - INFO - Read data from HDU 1 of ../../../crispy/ReferenceFiles/wavecalR50_770/det_700.fits\n",
      "crispy - INFO - Initializing PSFlet location transformation coefficients\n",
      "crispy - INFO - Performing initial optimization of PSFlet location transformation coefficients for frame ../../../crispy/ReferenceFiles/wavecalR50_770/det_700.fits\n",
      "crispy - INFO - Performing final optimization of PSFlet location transformation coefficients for frame ../../../crispy/ReferenceFiles/wavecalR50_770/det_700.fits\n",
      "crispy - INFO - Read data from HDU 1 of ../../../crispy/ReferenceFiles/wavecalR50_770/det_710.fits\n",
      "crispy - INFO - Initializing transformation coefficients with previous values\n",
      "crispy - INFO - Performing final optimization of PSFlet location transformation coefficients for frame ../../../crispy/ReferenceFiles/wavecalR50_770/det_710.fits\n",
      "crispy - INFO - Read data from HDU 1 of ../../../crispy/ReferenceFiles/wavecalR50_770/det_720.fits\n",
      "crispy - INFO - Initializing transformation coefficients with previous values\n",
      "crispy - INFO - Performing final optimization of PSFlet location transformation coefficients for frame ../../../crispy/ReferenceFiles/wavecalR50_770/det_720.fits\n",
      "crispy - INFO - Read data from HDU 1 of ../../../crispy/ReferenceFiles/wavecalR50_770/det_730.fits\n",
      "crispy - INFO - Initializing transformation coefficients with previous values\n",
      "crispy - INFO - Performing final optimization of PSFlet location transformation coefficients for frame ../../../crispy/ReferenceFiles/wavecalR50_770/det_730.fits\n",
      "crispy - INFO - Read data from HDU 1 of ../../../crispy/ReferenceFiles/wavecalR50_770/det_740.fits\n",
      "crispy - INFO - Initializing transformation coefficients with previous values\n",
      "crispy - INFO - Performing final optimization of PSFlet location transformation coefficients for frame ../../../crispy/ReferenceFiles/wavecalR50_770/det_740.fits\n",
      "crispy - INFO - Read data from HDU 1 of ../../../crispy/ReferenceFiles/wavecalR50_770/det_750.fits\n",
      "crispy - INFO - Initializing transformation coefficients with previous values\n",
      "crispy - INFO - Performing final optimization of PSFlet location transformation coefficients for frame ../../../crispy/ReferenceFiles/wavecalR50_770/det_750.fits\n",
      "crispy - INFO - Read data from HDU 1 of ../../../crispy/ReferenceFiles/wavecalR50_770/det_760.fits\n",
      "crispy - INFO - Initializing transformation coefficients with previous values\n",
      "crispy - INFO - Performing final optimization of PSFlet location transformation coefficients for frame ../../../crispy/ReferenceFiles/wavecalR50_770/det_760.fits\n",
      "crispy - INFO - Read data from HDU 1 of ../../../crispy/ReferenceFiles/wavecalR50_770/det_770.fits\n",
      "crispy - INFO - Initializing transformation coefficients with previous values\n",
      "crispy - INFO - Performing final optimization of PSFlet location transformation coefficients for frame ../../../crispy/ReferenceFiles/wavecalR50_770/det_770.fits\n",
      "crispy - INFO - Read data from HDU 1 of ../../../crispy/ReferenceFiles/wavecalR50_770/det_780.fits\n",
      "crispy - INFO - Initializing transformation coefficients with previous values\n",
      "crispy - INFO - Performing final optimization of PSFlet location transformation coefficients for frame ../../../crispy/ReferenceFiles/wavecalR50_770/det_780.fits\n",
      "crispy - INFO - Read data from HDU 1 of ../../../crispy/ReferenceFiles/wavecalR50_770/det_790.fits\n",
      "crispy - INFO - Initializing transformation coefficients with previous values\n",
      "crispy - INFO - Performing final optimization of PSFlet location transformation coefficients for frame ../../../crispy/ReferenceFiles/wavecalR50_770/det_790.fits\n",
      "crispy - INFO - Read data from HDU 1 of ../../../crispy/ReferenceFiles/wavecalR50_770/det_800.fits\n",
      "crispy - INFO - Initializing transformation coefficients with previous values\n",
      "crispy - INFO - Performing final optimization of PSFlet location transformation coefficients for frame ../../../crispy/ReferenceFiles/wavecalR50_770/det_800.fits\n",
      "crispy - INFO - Read data from HDU 1 of ../../../crispy/ReferenceFiles/wavecalR50_770/det_810.fits\n",
      "crispy - INFO - Initializing transformation coefficients with previous values\n",
      "crispy - INFO - Performing final optimization of PSFlet location transformation coefficients for frame ../../../crispy/ReferenceFiles/wavecalR50_770/det_810.fits\n",
      "crispy - INFO - Read data from HDU 1 of ../../../crispy/ReferenceFiles/wavecalR50_770/det_820.fits\n",
      "crispy - INFO - Initializing transformation coefficients with previous values\n",
      "crispy - INFO - Performing final optimization of PSFlet location transformation coefficients for frame ../../../crispy/ReferenceFiles/wavecalR50_770/det_820.fits\n",
      "crispy - INFO - Read data from HDU 1 of ../../../crispy/ReferenceFiles/wavecalR50_770/det_830.fits\n",
      "crispy - INFO - Initializing transformation coefficients with previous values\n",
      "crispy - INFO - Performing final optimization of PSFlet location transformation coefficients for frame ../../../crispy/ReferenceFiles/wavecalR50_770/det_830.fits\n",
      "crispy - INFO - Read data from HDU 1 of ../../../crispy/ReferenceFiles/wavecalR50_770/det_840.fits\n",
      "crispy - INFO - Initializing transformation coefficients with previous values\n",
      "crispy - INFO - Performing final optimization of PSFlet location transformation coefficients for frame ../../../crispy/ReferenceFiles/wavecalR50_770/det_840.fits\n",
      "crispy - INFO - Saving wavelength solution to ../../../crispy/ReferenceFiles/wavecalR50_770/lamsol.dat\n",
      "crispy - INFO - Computing wavelength values at pixel centers\n",
      "crispy - INFO - Making high-resolution PSFLet models\n",
      "crispy - INFO - Starting parallel computation\n",
      "crispy - INFO - Reduced cube will have 19 wavelength bins\n",
      "crispy - INFO - Making polychrome cube\n",
      "crispy - INFO - Saving polychrome cube\n",
      "crispy - INFO - Saving wavelength calibration cube\n",
      "crispy - INFO - Total time elapsed: 307 s\n"
     ]
    }
   ],
   "source": [
    "from crispy.tools.wavecal import buildcalibrations\n",
    "buildcalibrations(par,\n",
    "                  order=3, # Order of polynomial map of the PSFLets (between 1 and 5)\n",
    "                  upsample=10, # Upsampling factor of the PSFLets, needs to be at least 5\n",
    "                  nsubarr=1, # How many zones on the detector have their own PSFLets? \n",
    "                  genwavelengthsol=True, # Compute wavelength at the center of all pixels (need to do this at least once)\n",
    "                  makehiresPSFlets=True, # Compute hires PSFLets (usually False)\n",
    "                  parallel=True) # Use all computer cores"
   ]
  },
  {
   "cell_type": "code",
   "execution_count": 7,
   "metadata": {
    "collapsed": false
   },
   "outputs": [
    {
     "name": "stdout",
     "output_type": "stream",
     "text": [
      "crispy - INFO - Reduced cube will have 19 wavelength bins\n",
      "[ 703.68421053  711.05263158  718.42105263  725.78947368  733.15789474\n",
      "  740.52631579  747.89473684  755.26315789  762.63157895  770.\n",
      "  777.36842105  784.73684211  792.10526316  799.47368421  806.84210526\n",
      "  814.21052632  821.57894737  828.94736842  836.31578947] [ 700.          707.36842105  714.73684211  722.10526316  729.47368421\n",
      "  736.84210526  744.21052632  751.57894737  758.94736842  766.31578947\n",
      "  773.68421053  781.05263158  788.42105263  795.78947368  803.15789474\n",
      "  810.52631579  817.89473684  825.26315789  832.63157895  840.        ]\n",
      "13.11653924\n"
     ]
    }
   ],
   "source": [
    "from crispy.tools.reduction import calculateWaveList\n",
    "lam_mid,lam_end = calculateWaveList(par)\n",
    "print lam_mid,lam_end\n"
   ]
  }
 ],
 "metadata": {
  "anaconda-cloud": {},
  "kernelspec": {
   "display_name": "Python 2",
   "language": "python",
   "name": "python2"
  },
  "language_info": {
   "codemirror_mode": {
    "name": "ipython",
    "version": 2
   },
   "file_extension": ".py",
   "mimetype": "text/x-python",
   "name": "python",
   "nbconvert_exporter": "python",
   "pygments_lexer": "ipython2",
   "version": "2.7.13"
  }
 },
 "nbformat": 4,
 "nbformat_minor": 1
}
