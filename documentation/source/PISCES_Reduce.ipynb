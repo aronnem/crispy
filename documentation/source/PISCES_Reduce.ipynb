{
 "cells": [
  {
   "cell_type": "markdown",
   "metadata": {},
   "source": [
    "# PISCES Data Reduction"
   ]
  },
  {
   "cell_type": "markdown",
   "metadata": {},
   "source": [
    "The data reduction pipeline for PISCES is kept as simple as possible for easing integration with JPL's coronagraph control software. It requires an existing wavelength calibration."
   ]
  },
  {
   "cell_type": "code",
   "execution_count": 1,
   "metadata": {
    "collapsed": true
   },
   "outputs": [],
   "source": [
    "import sys\n",
    "codefolder = '../../code'\n",
    "if codefolder not in sys.path: sys.path.append(codefolder)\n",
    "from PISCESparams import Params\n",
    "par = Params(codefolder)"
   ]
  },
  {
   "cell_type": "markdown",
   "metadata": {},
   "source": [
    "This is simple: load the reduction function, and call it!"
   ]
  },
  {
   "cell_type": "code",
   "execution_count": 2,
   "metadata": {
    "collapsed": false
   },
   "outputs": [
    {
     "name": "stdout",
     "output_type": "stream",
     "text": [
      "../../code/ReferenceFiles/Calibra_170306/IFS665nm.fits\n",
      "crispy - INFO - Read data from HDU 0 of ../../code/ReferenceFiles/Calibra_170306/IFS665nm.fits\n",
      "crispy - INFO - Reduced cube will have 17 wavelength bins\n"
     ]
    },
    {
     "name": "stderr",
     "output_type": "stream",
     "text": [
      "/Users/mrizzo/anaconda/envs/py27/lib/python2.7/site-packages/numpy/lib/nanfunctions.py:703: RuntimeWarning: Mean of empty slice\n",
      "  warnings.warn(\"Mean of empty slice\", RuntimeWarning)\n"
     ]
    },
    {
     "name": "stdout",
     "output_type": "stream",
     "text": [
      "crispy - INFO - Writing data to ../../code/SimResults/IFS665nm_red_optext.fits\n"
     ]
    }
   ],
   "source": [
    "import glob\n",
    "VARIA_ON= glob.glob(par.wavecalDir+'IFS665nm.fits')\n",
    "print(VARIA_ON[0])\n",
    "from IFS import reduceIFSMap\n",
    "reduced_cube= reduceIFSMap(par,VARIA_ON[0])"
   ]
  },
  {
   "cell_type": "markdown",
   "metadata": {},
   "source": [
    "The wavelengths of the cube slices are the following:"
   ]
  },
  {
   "cell_type": "code",
   "execution_count": 3,
   "metadata": {
    "collapsed": false
   },
   "outputs": [
    {
     "name": "stdout",
     "output_type": "stream",
     "text": [
      "crispy - INFO - Reduced cube will have 17 wavelength bins\n",
      "('Wavelengths at midpoints (nm): ', array([ 608.22830721,  614.73669273,  621.31472164,  627.96313916,\n",
      "        634.6826985 ,  641.4741609 ,  648.33829579,  655.27588078,\n",
      "        662.28770183,  669.37455333,  676.53723812,  683.77656768,\n",
      "        691.09336215,  698.48845043,  705.96267033,  713.51686859,\n",
      "        721.15190102]))\n",
      "('Wavelengths at endpoints (nm): ', array([ 605.        ,  611.47384081,  618.01695537,  624.63008493,\n",
      "        631.31397871,  638.06939392,  644.89709588,  651.79785809,\n",
      "        658.77246235,  665.8216988 ,  672.94636605,  680.14727125,\n",
      "        687.4252302 ,  694.78106741,  702.21561622,  709.72971889,\n",
      "        717.32422669,  725.        ]))\n"
     ]
    }
   ],
   "source": [
    "from tools.reduction import calculateWaveList\n",
    "lam_midpts,lam_endpts = calculateWaveList(par)\n",
    "print('Wavelengths at midpoints (nm): ',lam_midpts)\n",
    "print('Wavelengths at endpoints (nm): ',lam_endpts)"
   ]
  },
  {
   "cell_type": "markdown",
   "metadata": {},
   "source": [
    "The files are exported in the folder par.exportDir. Look for the introduction documentation page for more details."
   ]
  }
 ],
 "metadata": {
  "anaconda-cloud": {},
  "kernelspec": {
   "display_name": "Python [conda env:py27]",
   "language": "python",
   "name": "conda-env-py27-py"
  },
  "language_info": {
   "codemirror_mode": {
    "name": "ipython",
    "version": 2
   },
   "file_extension": ".py",
   "mimetype": "text/x-python",
   "name": "python",
   "nbconvert_exporter": "python",
   "pygments_lexer": "ipython2",
   "version": "2.7.12"
  }
 },
 "nbformat": 4,
 "nbformat_minor": 1
}
