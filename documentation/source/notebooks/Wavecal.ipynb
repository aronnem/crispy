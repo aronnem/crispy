{
 "cells": [
  {
   "cell_type": "markdown",
   "metadata": {},
   "source": [
    "# Wavelength calibration"
   ]
  },
  {
   "cell_type": "code",
   "execution_count": null,
   "metadata": {
    "collapsed": true
   },
   "outputs": [],
   "source": []
  },
  {
   "cell_type": "code",
   "execution_count": null,
   "metadata": {
    "collapsed": true
   },
   "outputs": [],
   "source": []
  },
  {
   "cell_type": "code",
   "execution_count": 1,
   "metadata": {
    "collapsed": true
   },
   "outputs": [],
   "source": [
    "import numpy as np\n",
    "import glob\n",
    "import matplotlib\n",
    "import matplotlib.pyplot as plt\n",
    "matplotlib.rcParams['image.origin'] = 'lower'\n",
    "matplotlib.rcParams['image.interpolation'] = 'nearest'\n"
   ]
  },
  {
   "cell_type": "code",
   "execution_count": null,
   "metadata": {
    "collapsed": true
   },
   "outputs": [],
   "source": []
  },
  {
   "cell_type": "code",
   "execution_count": 2,
   "metadata": {
    "collapsed": true
   },
   "outputs": [],
   "source": [
    "import sys\n",
    "codefolder = '../../code'\n",
    "if codefolder not in sys.path: sys.path.append(codefolder)\n",
    "from tools.initLogger import getLogger\n",
    "log = getLogger('crispy')\n",
    "from params import Params\n",
    "par = Params(codefolder)"
   ]
  },
  {
   "cell_type": "code",
   "execution_count": null,
   "metadata": {
    "collapsed": true
   },
   "outputs": [],
   "source": []
  },
  {
   "cell_type": "code",
   "execution_count": 3,
   "metadata": {
    "collapsed": true
   },
   "outputs": [],
   "source": [
    "par.lamlist = np.loadtxt(par.wavecalDir + \"lamsol.dat\")[:, 0]\n",
    "par.filelist = np.sort(glob.glob(par.wavecalDir + \"det*.fits\"))\n"
   ]
  },
  {
   "cell_type": "code",
   "execution_count": null,
   "metadata": {
    "collapsed": true
   },
   "outputs": [],
   "source": []
  },
  {
   "cell_type": "code",
   "execution_count": 4,
   "metadata": {
    "collapsed": false
   },
   "outputs": [
    {
     "name": "stdout",
     "output_type": "stream",
     "text": [
      "crispy - INFO - Building calibration files, placing results in ../../code/ReferenceFiles/wavecalR50_770/\n",
      "crispy - INFO - Read data from HDU 1 of ../../code/ReferenceFiles/wavecalR50_770/det_700.fits\n",
      "crispy - INFO - Read data from HDU 1 of ../../code/ReferenceFiles/wavecalR50_770/det_700.fits\n",
      "crispy - INFO - Read data from HDU 1 of ../../code/ReferenceFiles/wavecalR50_770/det_710.fits\n",
      "crispy - INFO - Read data from HDU 1 of ../../code/ReferenceFiles/wavecalR50_770/det_720.fits\n",
      "crispy - INFO - Read data from HDU 1 of ../../code/ReferenceFiles/wavecalR50_770/det_730.fits\n",
      "crispy - INFO - Read data from HDU 1 of ../../code/ReferenceFiles/wavecalR50_770/det_740.fits\n",
      "crispy - INFO - Read data from HDU 1 of ../../code/ReferenceFiles/wavecalR50_770/det_750.fits\n",
      "crispy - INFO - Read data from HDU 1 of ../../code/ReferenceFiles/wavecalR50_770/det_760.fits\n",
      "crispy - INFO - Read data from HDU 1 of ../../code/ReferenceFiles/wavecalR50_770/det_770.fits\n",
      "crispy - INFO - Read data from HDU 1 of ../../code/ReferenceFiles/wavecalR50_770/det_779.fits\n",
      "crispy - INFO - Read data from HDU 1 of ../../code/ReferenceFiles/wavecalR50_770/det_789.fits\n",
      "crispy - INFO - Read data from HDU 1 of ../../code/ReferenceFiles/wavecalR50_770/det_799.fits\n",
      "crispy - INFO - Read data from HDU 1 of ../../code/ReferenceFiles/wavecalR50_770/det_809.fits\n",
      "crispy - INFO - Read data from HDU 1 of ../../code/ReferenceFiles/wavecalR50_770/det_819.fits\n",
      "crispy - INFO - Read data from HDU 1 of ../../code/ReferenceFiles/wavecalR50_770/det_829.fits\n",
      "crispy - INFO - Read data from HDU 1 of ../../code/ReferenceFiles/wavecalR50_770/det_839.fits\n",
      "crispy - INFO - Loading wavelength solution from ../../code/ReferenceFiles/wavecalR50_770/lamsol.dat\n",
      "crispy - INFO - Computing wavelength values at pixel centers\n",
      "crispy - INFO - Making high-resolution PSFLet models\n",
      "crispy - INFO - Starting parallel computation\n",
      "crispy - INFO - Reduced cube will have 17 wavelength bins\n",
      "crispy - INFO - Making polychrome cube\n",
      "crispy - INFO - Saving polychrome cube\n",
      "crispy - INFO - Saving wavelength calibration cube\n",
      "crispy - INFO - Total time elapsed: 91 s\n"
     ]
    }
   ],
   "source": [
    "from tools.wavecal import buildcalibrations\n",
    "buildcalibrations(par,\n",
    "                  order=5,\n",
    "                  upsample=10,\n",
    "                  nsubarr=1,\n",
    "                  genwavelengthsol=False, # Compute wavelength at the center of all pixels\n",
    "                  makehiresPSFlets=True, # Compute hires PSFLets\n",
    "                  parallel=True) # Use all computer cores"
   ]
  },
  {
   "cell_type": "code",
   "execution_count": null,
   "metadata": {
    "collapsed": true
   },
   "outputs": [],
   "source": []
  },
  {
   "cell_type": "code",
   "execution_count": null,
   "metadata": {
    "collapsed": true
   },
   "outputs": [],
   "source": []
  }
 ],
 "metadata": {
  "anaconda-cloud": {},
  "kernelspec": {
   "display_name": "Python 2",
   "language": "python",
   "name": "python2"
  },
  "language_info": {
   "codemirror_mode": {
    "name": "ipython",
    "version": 2
   },
   "file_extension": ".py",
   "mimetype": "text/x-python",
   "name": "python",
   "nbconvert_exporter": "python",
   "pygments_lexer": "ipython2",
   "version": "2.7.13"
  }
 },
 "nbformat": 4,
 "nbformat_minor": 1
}
